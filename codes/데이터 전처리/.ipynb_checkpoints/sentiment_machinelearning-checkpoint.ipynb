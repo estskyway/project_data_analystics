{
 "cells": [
  {
   "cell_type": "code",
   "execution_count": 1,
   "id": "177cf691-74b4-4fd5-9666-89ca49849571",
   "metadata": {
    "tags": []
   },
   "outputs": [],
   "source": [
    "import pandas as pd"
   ]
  },
  {
   "cell_type": "code",
   "execution_count": 4,
   "id": "d26df361-c5e3-400a-bb8f-6100a9dd38fc",
   "metadata": {
    "tags": []
   },
   "outputs": [
    {
     "data": {
      "text/html": [
       "<div>\n",
       "<style scoped>\n",
       "    .dataframe tbody tr th:only-of-type {\n",
       "        vertical-align: middle;\n",
       "    }\n",
       "\n",
       "    .dataframe tbody tr th {\n",
       "        vertical-align: top;\n",
       "    }\n",
       "\n",
       "    .dataframe thead th {\n",
       "        text-align: right;\n",
       "    }\n",
       "</style>\n",
       "<table border=\"1\" class=\"dataframe\">\n",
       "  <thead>\n",
       "    <tr style=\"text-align: right;\">\n",
       "      <th></th>\n",
       "      <th>Unnamed: 0</th>\n",
       "      <th>name</th>\n",
       "      <th>reviews</th>\n",
       "      <th>stars</th>\n",
       "    </tr>\n",
       "  </thead>\n",
       "  <tbody>\n",
       "    <tr>\n",
       "      <th>0</th>\n",
       "      <td>0</td>\n",
       "      <td>Google 사용자</td>\n",
       "      <td>입장방식은 변경됐는데 어플은 여전히 바코드만 보여집니다. 짐에서는 더이상 바코드스캔...</td>\n",
       "      <td>별표 5개 만점에 1개를 받았습니다.</td>\n",
       "    </tr>\n",
       "    <tr>\n",
       "      <th>1</th>\n",
       "      <td>1</td>\n",
       "      <td>Google 사용자</td>\n",
       "      <td>정말 답답하네요 하나. GPS 100프로 신뢰하나요? 시설선택목록에서 안보임 4월말...</td>\n",
       "      <td>별표 5개 만점에 1개를 받았습니다.</td>\n",
       "    </tr>\n",
       "    <tr>\n",
       "      <th>2</th>\n",
       "      <td>2</td>\n",
       "      <td>Google 사용자</td>\n",
       "      <td>입장하려다 시설검색이 안되서 결국 다른곳에 입장했습니다. 기존에 잘 쓰던 앱이 업데...</td>\n",
       "      <td>별표 5개 만점에 1개를 받았습니다.</td>\n",
       "    </tr>\n",
       "  </tbody>\n",
       "</table>\n",
       "</div>"
      ],
      "text/plain": [
       "   Unnamed: 0        name                                            reviews  \\\n",
       "0           0  Google 사용자  입장방식은 변경됐는데 어플은 여전히 바코드만 보여집니다. 짐에서는 더이상 바코드스캔...   \n",
       "1           1  Google 사용자  정말 답답하네요 하나. GPS 100프로 신뢰하나요? 시설선택목록에서 안보임 4월말...   \n",
       "2           2  Google 사용자  입장하려다 시설검색이 안되서 결국 다른곳에 입장했습니다. 기존에 잘 쓰던 앱이 업데...   \n",
       "\n",
       "                  stars  \n",
       "0  별표 5개 만점에 1개를 받았습니다.  \n",
       "1  별표 5개 만점에 1개를 받았습니다.  \n",
       "2  별표 5개 만점에 1개를 받았습니다.  "
      ]
     },
     "execution_count": 4,
     "metadata": {},
     "output_type": "execute_result"
    }
   ],
   "source": [
    "df = pd.read_csv('../../datasets/DB_Total.csv')\n",
    "df[:3]"
   ]
  },
  {
   "cell_type": "code",
   "execution_count": 8,
   "id": "15edafca-0da5-40f3-9021-eff984e66d2a",
   "metadata": {
    "tags": []
   },
   "outputs": [
    {
     "data": {
      "text/plain": [
       "['별표 5개 만점에 1개를 받았습니다.',\n",
       " '별표 5개 만점에 1개를 받았습니다.',\n",
       " '별표 5개 만점에 1개를 받았습니다.',\n",
       " '별표 5개 만점에 5개를 받았습니다.',\n",
       " '별표 5개 만점에 5개를 받았습니다.',\n",
       " '별표 5개 만점에 5개를 받았습니다.',\n",
       " '별표 5개 만점에 5개를 받았습니다.',\n",
       " '별표 5개 만점에 2개를 받았습니다.',\n",
       " '별표 5개 만점에 5개를 받았습니다.',\n",
       " '별표 5개 만점에 5개를 받았습니다.']"
      ]
     },
     "execution_count": 8,
     "metadata": {},
     "output_type": "execute_result"
    }
   ],
   "source": [
    "df_stars = df['stars']\n",
    "stars_list = df_stars.tolist()\n",
    "stars_list[:10]"
   ]
  },
  {
   "cell_type": "markdown",
   "id": "32688936-be65-4fe9-97a6-310ae599308e",
   "metadata": {},
   "source": [
    "### 정규표현식을 사용하여 뒤에 있는 숫자 추출"
   ]
  },
  {
   "cell_type": "code",
   "execution_count": 19,
   "id": "16b6b018-20d6-4df1-87d5-93fcacb045ba",
   "metadata": {
    "tags": []
   },
   "outputs": [
    {
     "data": {
      "text/plain": [
       "[1, 1, 1, 5, 5, 5, 5, 2, 5, 5]"
      ]
     },
     "execution_count": 19,
     "metadata": {},
     "output_type": "execute_result"
    }
   ],
   "source": [
    "import re\n",
    "\n",
    "rating_list = list()\n",
    "for stars in stars_list:\n",
    "    numbers = re.findall(r'\\d+', str(stars))  # 정규표현식을 사용하여 숫자만 추출\n",
    "    if numbers :\n",
    "        rating = int(numbers[-1])   # 추출된 숫자 중 마지막 요소인 문자열 형태의 숫자를 정수로 변환\n",
    "        rating_list.append(rating)\n",
    "rating_list[:10]"
   ]
  },
  {
   "cell_type": "code",
   "execution_count": null,
   "id": "c9509c2d-71bd-4a43-b48a-1b9dc6c9eaa1",
   "metadata": {},
   "outputs": [],
   "source": []
  }
 ],
 "metadata": {
  "kernelspec": {
   "display_name": "Python 3 (ipykernel)",
   "language": "python",
   "name": "python3"
  },
  "language_info": {
   "codemirror_mode": {
    "name": "ipython",
    "version": 3
   },
   "file_extension": ".py",
   "mimetype": "text/x-python",
   "name": "python",
   "nbconvert_exporter": "python",
   "pygments_lexer": "ipython3",
   "version": "3.11.3"
  }
 },
 "nbformat": 4,
 "nbformat_minor": 5
}
