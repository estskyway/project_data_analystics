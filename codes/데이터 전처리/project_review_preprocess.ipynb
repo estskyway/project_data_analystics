{
 "cells": [
  {
   "cell_type": "markdown",
   "metadata": {
    "colab_type": "text",
    "id": "view-in-github"
   },
   "source": [
    "<a href=\"https://colab.research.google.com/github/estskyway/project_data_analystics/blob/main/codes/LDA/project_review_preprocess.ipynb\" target=\"_parent\"><img src=\"https://colab.research.google.com/assets/colab-badge.svg\" alt=\"Open In Colab\"/></a>"
   ]
  },
  {
   "cell_type": "code",
   "execution_count": 6,
   "metadata": {
    "colab": {
     "base_uri": "https://localhost:8080/"
    },
    "id": "bRGnqvndg3e-",
    "outputId": "8c836e8b-d0e0-4d47-e68b-51b75a962821",
    "tags": []
   },
   "outputs": [
    {
     "name": "stdout",
     "output_type": "stream",
     "text": [
      "^C\n",
      "Note: you may need to restart the kernel to use updated packages.\n"
     ]
    }
   ],
   "source": [
    "pip install python-mecab-ko pyLDAvis"
   ]
  },
  {
   "cell_type": "code",
   "execution_count": 14,
   "metadata": {
    "id": "1pQ0HQDqhHo8",
    "tags": []
   },
   "outputs": [],
   "source": [
    "import numpy as np"
   ]
  },
  {
   "cell_type": "markdown",
   "metadata": {
    "id": "1KHGmruahJHM"
   },
   "source": [
    "### 전처리\n"
   ]
  },
  {
   "cell_type": "code",
   "execution_count": 15,
   "metadata": {
    "colab": {
     "base_uri": "https://localhost:8080/",
     "height": 597
    },
    "id": "o-0uBeomhLMD",
    "outputId": "0c4ad86d-4a7d-48b9-c2f1-41eae9837cc3",
    "tags": []
   },
   "outputs": [
    {
     "data": {
      "text/html": [
       "<div>\n",
       "<style scoped>\n",
       "    .dataframe tbody tr th:only-of-type {\n",
       "        vertical-align: middle;\n",
       "    }\n",
       "\n",
       "    .dataframe tbody tr th {\n",
       "        vertical-align: top;\n",
       "    }\n",
       "\n",
       "    .dataframe thead th {\n",
       "        text-align: right;\n",
       "    }\n",
       "</style>\n",
       "<table border=\"1\" class=\"dataframe\">\n",
       "  <thead>\n",
       "    <tr style=\"text-align: right;\">\n",
       "      <th></th>\n",
       "      <th>Unnamed: 0</th>\n",
       "      <th>_id</th>\n",
       "      <th>name</th>\n",
       "      <th>reviews</th>\n",
       "      <th>stars</th>\n",
       "    </tr>\n",
       "  </thead>\n",
       "  <tbody>\n",
       "    <tr>\n",
       "      <th>0</th>\n",
       "      <td>0</td>\n",
       "      <td>651277e7ddb81e8e96c6bcbb</td>\n",
       "      <td>Google 사용자</td>\n",
       "      <td>입장방식은 변경됐는데 어플은 여전히 바코드만 보여집니다. 짐에서는 더이상 바코드스캔...</td>\n",
       "      <td>별표 5개 만점에 1개를 받았습니다.</td>\n",
       "    </tr>\n",
       "    <tr>\n",
       "      <th>1</th>\n",
       "      <td>1</td>\n",
       "      <td>651277e7ddb81e8e96c6bcbc</td>\n",
       "      <td>Google 사용자</td>\n",
       "      <td>정말 답답하네요 하나. GPS 100프로 신뢰하나요? 시설선택목록에서 안보임 4월말...</td>\n",
       "      <td>별표 5개 만점에 1개를 받았습니다.</td>\n",
       "    </tr>\n",
       "    <tr>\n",
       "      <th>2</th>\n",
       "      <td>2</td>\n",
       "      <td>651277e7ddb81e8e96c6bcbd</td>\n",
       "      <td>Google 사용자</td>\n",
       "      <td>입장하려다 시설검색이 안되서 결국 다른곳에 입장했습니다. 기존에 잘 쓰던 앱이 업데...</td>\n",
       "      <td>별표 5개 만점에 1개를 받았습니다.</td>\n",
       "    </tr>\n",
       "    <tr>\n",
       "      <th>3</th>\n",
       "      <td>3</td>\n",
       "      <td>651277e7ddb81e8e96c6bcbe</td>\n",
       "      <td>한반도</td>\n",
       "      <td>평소 이동이 잦고 여러장소에서 운동하는걸 좋아하는 저에게는 합리적인 아이코젠이 정말...</td>\n",
       "      <td>별표 5개 만점에 5개를 받았습니다.</td>\n",
       "    </tr>\n",
       "    <tr>\n",
       "      <th>4</th>\n",
       "      <td>4</td>\n",
       "      <td>651277e7ddb81e8e96c6bcbf</td>\n",
       "      <td>나수인</td>\n",
       "      <td>아이코젠 덕분에 운동이 더 즐겁고 꾸준하게 하게 되었어요. 사용기록이 꼼꼼히 남고 ...</td>\n",
       "      <td>별표 5개 만점에 5개를 받았습니다.</td>\n",
       "    </tr>\n",
       "    <tr>\n",
       "      <th>...</th>\n",
       "      <td>...</td>\n",
       "      <td>...</td>\n",
       "      <td>...</td>\n",
       "      <td>...</td>\n",
       "      <td>...</td>\n",
       "    </tr>\n",
       "    <tr>\n",
       "      <th>2873</th>\n",
       "      <td>2873</td>\n",
       "      <td>651277e7ddb81e8e96c6c7f4</td>\n",
       "      <td>Google 사용자</td>\n",
       "      <td>좋아요</td>\n",
       "      <td>NaN</td>\n",
       "    </tr>\n",
       "    <tr>\n",
       "      <th>2874</th>\n",
       "      <td>2874</td>\n",
       "      <td>651277e7ddb81e8e96c6c7f5</td>\n",
       "      <td>Google 사용자</td>\n",
       "      <td>좋아용~!</td>\n",
       "      <td>NaN</td>\n",
       "    </tr>\n",
       "    <tr>\n",
       "      <th>2875</th>\n",
       "      <td>2875</td>\n",
       "      <td>651277e7ddb81e8e96c6c7f6</td>\n",
       "      <td>Google 사용자</td>\n",
       "      <td>좋아용</td>\n",
       "      <td>NaN</td>\n",
       "    </tr>\n",
       "    <tr>\n",
       "      <th>2876</th>\n",
       "      <td>2876</td>\n",
       "      <td>651277e7ddb81e8e96c6c7f7</td>\n",
       "      <td>Say Cheese</td>\n",
       "      <td>너무느려요</td>\n",
       "      <td>NaN</td>\n",
       "    </tr>\n",
       "    <tr>\n",
       "      <th>2877</th>\n",
       "      <td>2877</td>\n",
       "      <td>651277e7ddb81e8e96c6c7f8</td>\n",
       "      <td>Google 사용자</td>\n",
       "      <td>아주좋아여</td>\n",
       "      <td>NaN</td>\n",
       "    </tr>\n",
       "  </tbody>\n",
       "</table>\n",
       "<p>2878 rows × 5 columns</p>\n",
       "</div>"
      ],
      "text/plain": [
       "      Unnamed: 0                       _id        name  \\\n",
       "0              0  651277e7ddb81e8e96c6bcbb  Google 사용자   \n",
       "1              1  651277e7ddb81e8e96c6bcbc  Google 사용자   \n",
       "2              2  651277e7ddb81e8e96c6bcbd  Google 사용자   \n",
       "3              3  651277e7ddb81e8e96c6bcbe         한반도   \n",
       "4              4  651277e7ddb81e8e96c6bcbf         나수인   \n",
       "...          ...                       ...         ...   \n",
       "2873        2873  651277e7ddb81e8e96c6c7f4  Google 사용자   \n",
       "2874        2874  651277e7ddb81e8e96c6c7f5  Google 사용자   \n",
       "2875        2875  651277e7ddb81e8e96c6c7f6  Google 사용자   \n",
       "2876        2876  651277e7ddb81e8e96c6c7f7  Say Cheese   \n",
       "2877        2877  651277e7ddb81e8e96c6c7f8  Google 사용자   \n",
       "\n",
       "                                                reviews                 stars  \n",
       "0     입장방식은 변경됐는데 어플은 여전히 바코드만 보여집니다. 짐에서는 더이상 바코드스캔...  별표 5개 만점에 1개를 받았습니다.  \n",
       "1     정말 답답하네요 하나. GPS 100프로 신뢰하나요? 시설선택목록에서 안보임 4월말...  별표 5개 만점에 1개를 받았습니다.  \n",
       "2     입장하려다 시설검색이 안되서 결국 다른곳에 입장했습니다. 기존에 잘 쓰던 앱이 업데...  별표 5개 만점에 1개를 받았습니다.  \n",
       "3     평소 이동이 잦고 여러장소에서 운동하는걸 좋아하는 저에게는 합리적인 아이코젠이 정말...  별표 5개 만점에 5개를 받았습니다.  \n",
       "4     아이코젠 덕분에 운동이 더 즐겁고 꾸준하게 하게 되었어요. 사용기록이 꼼꼼히 남고 ...  별표 5개 만점에 5개를 받았습니다.  \n",
       "...                                                 ...                   ...  \n",
       "2873                                                좋아요                   NaN  \n",
       "2874                                              좋아용~!                   NaN  \n",
       "2875                                                좋아용                   NaN  \n",
       "2876                                              너무느려요                   NaN  \n",
       "2877                                              아주좋아여                   NaN  \n",
       "\n",
       "[2878 rows x 5 columns]"
      ]
     },
     "execution_count": 15,
     "metadata": {},
     "output_type": "execute_result"
    }
   ],
   "source": [
    "import pandas as pd\n",
    "# df = pd.read_csv('/content/drive/MyDrive/Colab Notebooks/2023pythons/datasets/DB_Total.csv')\n",
    "df = pd.read_csv('../../datasets/DB_Total.csv')\n",
    "df"
   ]
  },
  {
   "cell_type": "code",
   "execution_count": 16,
   "metadata": {
    "colab": {
     "base_uri": "https://localhost:8080/",
     "height": 424
    },
    "id": "4m-vJQ2ntGjA",
    "outputId": "259fe684-1ab2-413c-832b-bf51219ceec3",
    "tags": []
   },
   "outputs": [
    {
     "data": {
      "text/html": [
       "<div>\n",
       "<style scoped>\n",
       "    .dataframe tbody tr th:only-of-type {\n",
       "        vertical-align: middle;\n",
       "    }\n",
       "\n",
       "    .dataframe tbody tr th {\n",
       "        vertical-align: top;\n",
       "    }\n",
       "\n",
       "    .dataframe thead th {\n",
       "        text-align: right;\n",
       "    }\n",
       "</style>\n",
       "<table border=\"1\" class=\"dataframe\">\n",
       "  <thead>\n",
       "    <tr style=\"text-align: right;\">\n",
       "      <th></th>\n",
       "      <th>_id</th>\n",
       "      <th>name</th>\n",
       "      <th>reviews</th>\n",
       "      <th>stars</th>\n",
       "    </tr>\n",
       "  </thead>\n",
       "  <tbody>\n",
       "    <tr>\n",
       "      <th>0</th>\n",
       "      <td>651277e7ddb81e8e96c6bcbb</td>\n",
       "      <td>Google 사용자</td>\n",
       "      <td>입장방식은 변경됐는데 어플은 여전히 바코드만 보여집니다. 짐에서는 더이상 바코드스캔...</td>\n",
       "      <td>별표 5개 만점에 1개를 받았습니다.</td>\n",
       "    </tr>\n",
       "    <tr>\n",
       "      <th>1</th>\n",
       "      <td>651277e7ddb81e8e96c6bcbc</td>\n",
       "      <td>Google 사용자</td>\n",
       "      <td>정말 답답하네요 하나. GPS 100프로 신뢰하나요? 시설선택목록에서 안보임 4월말...</td>\n",
       "      <td>별표 5개 만점에 1개를 받았습니다.</td>\n",
       "    </tr>\n",
       "    <tr>\n",
       "      <th>2</th>\n",
       "      <td>651277e7ddb81e8e96c6bcbd</td>\n",
       "      <td>Google 사용자</td>\n",
       "      <td>입장하려다 시설검색이 안되서 결국 다른곳에 입장했습니다. 기존에 잘 쓰던 앱이 업데...</td>\n",
       "      <td>별표 5개 만점에 1개를 받았습니다.</td>\n",
       "    </tr>\n",
       "    <tr>\n",
       "      <th>3</th>\n",
       "      <td>651277e7ddb81e8e96c6bcbe</td>\n",
       "      <td>한반도</td>\n",
       "      <td>평소 이동이 잦고 여러장소에서 운동하는걸 좋아하는 저에게는 합리적인 아이코젠이 정말...</td>\n",
       "      <td>별표 5개 만점에 5개를 받았습니다.</td>\n",
       "    </tr>\n",
       "    <tr>\n",
       "      <th>4</th>\n",
       "      <td>651277e7ddb81e8e96c6bcbf</td>\n",
       "      <td>나수인</td>\n",
       "      <td>아이코젠 덕분에 운동이 더 즐겁고 꾸준하게 하게 되었어요. 사용기록이 꼼꼼히 남고 ...</td>\n",
       "      <td>별표 5개 만점에 5개를 받았습니다.</td>\n",
       "    </tr>\n",
       "    <tr>\n",
       "      <th>...</th>\n",
       "      <td>...</td>\n",
       "      <td>...</td>\n",
       "      <td>...</td>\n",
       "      <td>...</td>\n",
       "    </tr>\n",
       "    <tr>\n",
       "      <th>2873</th>\n",
       "      <td>651277e7ddb81e8e96c6c7f4</td>\n",
       "      <td>Google 사용자</td>\n",
       "      <td>좋아요</td>\n",
       "      <td>NaN</td>\n",
       "    </tr>\n",
       "    <tr>\n",
       "      <th>2874</th>\n",
       "      <td>651277e7ddb81e8e96c6c7f5</td>\n",
       "      <td>Google 사용자</td>\n",
       "      <td>좋아용~!</td>\n",
       "      <td>NaN</td>\n",
       "    </tr>\n",
       "    <tr>\n",
       "      <th>2875</th>\n",
       "      <td>651277e7ddb81e8e96c6c7f6</td>\n",
       "      <td>Google 사용자</td>\n",
       "      <td>좋아용</td>\n",
       "      <td>NaN</td>\n",
       "    </tr>\n",
       "    <tr>\n",
       "      <th>2876</th>\n",
       "      <td>651277e7ddb81e8e96c6c7f7</td>\n",
       "      <td>Say Cheese</td>\n",
       "      <td>너무느려요</td>\n",
       "      <td>NaN</td>\n",
       "    </tr>\n",
       "    <tr>\n",
       "      <th>2877</th>\n",
       "      <td>651277e7ddb81e8e96c6c7f8</td>\n",
       "      <td>Google 사용자</td>\n",
       "      <td>아주좋아여</td>\n",
       "      <td>NaN</td>\n",
       "    </tr>\n",
       "  </tbody>\n",
       "</table>\n",
       "<p>2878 rows × 4 columns</p>\n",
       "</div>"
      ],
      "text/plain": [
       "                           _id        name  \\\n",
       "0     651277e7ddb81e8e96c6bcbb  Google 사용자   \n",
       "1     651277e7ddb81e8e96c6bcbc  Google 사용자   \n",
       "2     651277e7ddb81e8e96c6bcbd  Google 사용자   \n",
       "3     651277e7ddb81e8e96c6bcbe         한반도   \n",
       "4     651277e7ddb81e8e96c6bcbf         나수인   \n",
       "...                        ...         ...   \n",
       "2873  651277e7ddb81e8e96c6c7f4  Google 사용자   \n",
       "2874  651277e7ddb81e8e96c6c7f5  Google 사용자   \n",
       "2875  651277e7ddb81e8e96c6c7f6  Google 사용자   \n",
       "2876  651277e7ddb81e8e96c6c7f7  Say Cheese   \n",
       "2877  651277e7ddb81e8e96c6c7f8  Google 사용자   \n",
       "\n",
       "                                                reviews                 stars  \n",
       "0     입장방식은 변경됐는데 어플은 여전히 바코드만 보여집니다. 짐에서는 더이상 바코드스캔...  별표 5개 만점에 1개를 받았습니다.  \n",
       "1     정말 답답하네요 하나. GPS 100프로 신뢰하나요? 시설선택목록에서 안보임 4월말...  별표 5개 만점에 1개를 받았습니다.  \n",
       "2     입장하려다 시설검색이 안되서 결국 다른곳에 입장했습니다. 기존에 잘 쓰던 앱이 업데...  별표 5개 만점에 1개를 받았습니다.  \n",
       "3     평소 이동이 잦고 여러장소에서 운동하는걸 좋아하는 저에게는 합리적인 아이코젠이 정말...  별표 5개 만점에 5개를 받았습니다.  \n",
       "4     아이코젠 덕분에 운동이 더 즐겁고 꾸준하게 하게 되었어요. 사용기록이 꼼꼼히 남고 ...  별표 5개 만점에 5개를 받았습니다.  \n",
       "...                                                 ...                   ...  \n",
       "2873                                                좋아요                   NaN  \n",
       "2874                                              좋아용~!                   NaN  \n",
       "2875                                                좋아용                   NaN  \n",
       "2876                                              너무느려요                   NaN  \n",
       "2877                                              아주좋아여                   NaN  \n",
       "\n",
       "[2878 rows x 4 columns]"
      ]
     },
     "execution_count": 16,
     "metadata": {},
     "output_type": "execute_result"
    }
   ],
   "source": [
    "df = df.drop(columns=['Unnamed: 0'])\n",
    "df"
   ]
  },
  {
   "cell_type": "markdown",
   "metadata": {
    "id": "L86_VV1Ajuj0"
   },
   "source": [
    "### reviews에 대한 결측치 확인"
   ]
  },
  {
   "cell_type": "code",
   "execution_count": 17,
   "metadata": {
    "colab": {
     "base_uri": "https://localhost:8080/"
    },
    "id": "BYcFa97Eh0hl",
    "outputId": "3371b0f8-1d4f-4552-e848-f72e0ec37799",
    "tags": []
   },
   "outputs": [
    {
     "name": "stdout",
     "output_type": "stream",
     "text": [
      "<class 'pandas.core.frame.DataFrame'>\n",
      "RangeIndex: 2878 entries, 0 to 2877\n",
      "Data columns (total 4 columns):\n",
      " #   Column   Non-Null Count  Dtype \n",
      "---  ------   --------------  ----- \n",
      " 0   _id      2878 non-null   object\n",
      " 1   name     2878 non-null   object\n",
      " 2   reviews  2878 non-null   object\n",
      " 3   stars    2118 non-null   object\n",
      "dtypes: object(4)\n",
      "memory usage: 90.1+ KB\n"
     ]
    }
   ],
   "source": [
    "df.info()"
   ]
  },
  {
   "cell_type": "code",
   "execution_count": 18,
   "metadata": {
    "colab": {
     "base_uri": "https://localhost:8080/"
    },
    "id": "mmrnqCWRjXDz",
    "outputId": "176ed7c8-8e4a-464c-d7c4-1666897bafa7",
    "tags": []
   },
   "outputs": [
    {
     "data": {
      "text/plain": [
       "0       입장방식은 변경됐는데 어플은 여전히 바코드만 보여집니다. 짐에서는 더이상 바코드스캔...\n",
       "1       정말 답답하네요 하나. GPS 100프로 신뢰하나요? 시설선택목록에서 안보임 4월말...\n",
       "2       입장하려다 시설검색이 안되서 결국 다른곳에 입장했습니다. 기존에 잘 쓰던 앱이 업데...\n",
       "3       평소 이동이 잦고 여러장소에서 운동하는걸 좋아하는 저에게는 합리적인 아이코젠이 정말...\n",
       "4       아이코젠 덕분에 운동이 더 즐겁고 꾸준하게 하게 되었어요. 사용기록이 꼼꼼히 남고 ...\n",
       "                              ...                        \n",
       "2873                                                  좋아요\n",
       "2874                                                좋아용~!\n",
       "2875                                                  좋아용\n",
       "2876                                                너무느려요\n",
       "2877                                                아주좋아여\n",
       "Name: reviews, Length: 2878, dtype: object"
      ]
     },
     "execution_count": 18,
     "metadata": {},
     "output_type": "execute_result"
    }
   ],
   "source": [
    "df['reviews'].isnull().sum()\n",
    "df['reviews']"
   ]
  },
  {
   "cell_type": "markdown",
   "metadata": {
    "id": "83hyxjQOj3YC"
   },
   "source": [
    "### 자연어 전처리"
   ]
  },
  {
   "cell_type": "markdown",
   "metadata": {
    "id": "QRtXWhoLsm-g"
   },
   "source": [
    "#### 유사어 대치"
   ]
  },
  {
   "cell_type": "code",
   "execution_count": 19,
   "metadata": {
    "colab": {
     "base_uri": "https://localhost:8080/",
     "height": 363
    },
    "id": "yfduHWPxsja4",
    "outputId": "11fd62ea-3ddc-4a2c-e29f-13bfdc2741eb",
    "tags": []
   },
   "outputs": [
    {
     "data": {
      "text/html": [
       "<div>\n",
       "<style scoped>\n",
       "    .dataframe tbody tr th:only-of-type {\n",
       "        vertical-align: middle;\n",
       "    }\n",
       "\n",
       "    .dataframe tbody tr th {\n",
       "        vertical-align: top;\n",
       "    }\n",
       "\n",
       "    .dataframe thead th {\n",
       "        text-align: right;\n",
       "    }\n",
       "</style>\n",
       "<table border=\"1\" class=\"dataframe\">\n",
       "  <thead>\n",
       "    <tr style=\"text-align: right;\">\n",
       "      <th></th>\n",
       "      <th>before_replacement</th>\n",
       "      <th>after_replacement</th>\n",
       "    </tr>\n",
       "  </thead>\n",
       "  <tbody>\n",
       "    <tr>\n",
       "      <th>40</th>\n",
       "      <td>핏데이</td>\n",
       "      <td>사이트</td>\n",
       "    </tr>\n",
       "    <tr>\n",
       "      <th>41</th>\n",
       "      <td>엡</td>\n",
       "      <td>사이트</td>\n",
       "    </tr>\n",
       "    <tr>\n",
       "      <th>42</th>\n",
       "      <td>옙</td>\n",
       "      <td>사이트</td>\n",
       "    </tr>\n",
       "    <tr>\n",
       "      <th>43</th>\n",
       "      <td>앱</td>\n",
       "      <td>사이트</td>\n",
       "    </tr>\n",
       "    <tr>\n",
       "      <th>44</th>\n",
       "      <td>가맹점</td>\n",
       "      <td>운동시설</td>\n",
       "    </tr>\n",
       "    <tr>\n",
       "      <th>45</th>\n",
       "      <td>쎈타</td>\n",
       "      <td>운동시설</td>\n",
       "    </tr>\n",
       "    <tr>\n",
       "      <th>46</th>\n",
       "      <td>매장</td>\n",
       "      <td>운동시설</td>\n",
       "    </tr>\n",
       "    <tr>\n",
       "      <th>47</th>\n",
       "      <td>휘트니스</td>\n",
       "      <td>운동시설</td>\n",
       "    </tr>\n",
       "    <tr>\n",
       "      <th>48</th>\n",
       "      <td>센터</td>\n",
       "      <td>운동시설</td>\n",
       "    </tr>\n",
       "    <tr>\n",
       "      <th>49</th>\n",
       "      <td>스포츠센터</td>\n",
       "      <td>운동시설</td>\n",
       "    </tr>\n",
       "  </tbody>\n",
       "</table>\n",
       "</div>"
      ],
      "text/plain": [
       "   before_replacement after_replacement\n",
       "40                핏데이               사이트\n",
       "41                  엡               사이트\n",
       "42                  옙               사이트\n",
       "43                  앱               사이트\n",
       "44                가맹점              운동시설\n",
       "45                 쎈타              운동시설\n",
       "46                 매장              운동시설\n",
       "47               휘트니스              운동시설\n",
       "48                 센터              운동시설\n",
       "49              스포츠센터              운동시설"
      ]
     },
     "execution_count": 19,
     "metadata": {},
     "output_type": "execute_result"
    }
   ],
   "source": [
    "# replace_list = pd.read_excel('/content/drive/MyDrive/Colab Notebooks/2023pythons/datasets/replace_concat.xlsx.xlsx의 사본')\n",
    "replace_list = pd.read_excel('../../datasets/replace_concat.csv.xlsx')\n",
    "replace_list[40:50]"
   ]
  },
  {
   "cell_type": "code",
   "execution_count": 20,
   "metadata": {
    "id": "rn_CG84O1Qea",
    "tags": []
   },
   "outputs": [],
   "source": [
    "from mecab import MeCab\n",
    "mecab = MeCab()\n",
    "def replace_word(reviews):\n",
    "    replaced_review = reviews\n",
    "    for i in range(len(replace_list['before_replacement'])):\n",
    "        try:\n",
    "            if replace_list['before_replacement'][i].lower() in replaced_review.lower():\n",
    "                replaced_review = replaced_review.replace(replace_list['before_replacement'][i], replace_list['after_replacement'][i])\n",
    "        except Exception as e:\n",
    "            print(f\"Error 발생 / 에러명: {e}\")\n",
    "    return replaced_review\n"
   ]
  },
  {
   "cell_type": "code",
   "execution_count": 21,
   "metadata": {
    "id": "vMQ5pee6vVDw",
    "tags": []
   },
   "outputs": [],
   "source": [
    "# def replace_word(tokenized_review):\n",
    "#   replaced_review = str()\n",
    "#   for i in range(len(replace_list['before_replacement'])):\n",
    "#     try:\n",
    "#       # 치환할 단어가 있는 경우에만 데이터 치환 수행\n",
    "#       if replace_list['before_replacement'][i] in tokenized_review:\n",
    "#         replaced_review = tokenized_review.replace(replace_list['before_replacement'][i], replace_list['after_replacement'][i])\n",
    "#       else :\n",
    "#         replaced_review = tokenized_review\n",
    "#     except Exception as e:\n",
    "#       print(f\"Error 발생 / 에러명: {e}\")\n",
    "#       replaced_review = tokenized_review\n",
    "#   return replaced_review"
   ]
  },
  {
   "cell_type": "code",
   "execution_count": 22,
   "metadata": {
    "colab": {
     "base_uri": "https://localhost:8080/",
     "height": 35
    },
    "id": "Imi7XHkcV-9L",
    "outputId": "790df2a9-172a-400c-878e-0216020f6c33",
    "tags": []
   },
   "outputs": [
    {
     "data": {
      "text/plain": [
       "'입장 시설 검색 곳 입장 기존 사이트 개선 후 로그인 위치 자동 검색 시설 수동 검색 후 입장 기능 불편 덕분 사이트 번 삭제 데 이타 예전 사이트'"
      ]
     },
     "execution_count": 22,
     "metadata": {},
     "output_type": "execute_result"
    }
   ],
   "source": [
    "replace_word('입장 시설 검색 곳 입장 기존 앱 업데이트 후 로그인 위치 자동 검색 시설 수동 검색 후 입장 기능 불편 덕분 앱 번 삭제 데 이타 예전 앱')"
   ]
  },
  {
   "cell_type": "code",
   "execution_count": 23,
   "metadata": {
    "colab": {
     "base_uri": "https://localhost:8080/",
     "height": 293
    },
    "id": "kt0jzUYPviSP",
    "outputId": "d1a81942-a66f-49fb-9853-b980948d0d81",
    "tags": []
   },
   "outputs": [
    {
     "data": {
      "text/html": [
       "<div>\n",
       "<style scoped>\n",
       "    .dataframe tbody tr th:only-of-type {\n",
       "        vertical-align: middle;\n",
       "    }\n",
       "\n",
       "    .dataframe tbody tr th {\n",
       "        vertical-align: top;\n",
       "    }\n",
       "\n",
       "    .dataframe thead th {\n",
       "        text-align: right;\n",
       "    }\n",
       "</style>\n",
       "<table border=\"1\" class=\"dataframe\">\n",
       "  <thead>\n",
       "    <tr style=\"text-align: right;\">\n",
       "      <th></th>\n",
       "      <th>_id</th>\n",
       "      <th>name</th>\n",
       "      <th>reviews</th>\n",
       "      <th>stars</th>\n",
       "      <th>replaced_review</th>\n",
       "    </tr>\n",
       "  </thead>\n",
       "  <tbody>\n",
       "    <tr>\n",
       "      <th>0</th>\n",
       "      <td>651277e7ddb81e8e96c6bcbb</td>\n",
       "      <td>Google 사용자</td>\n",
       "      <td>입장방식은 변경됐는데 어플은 여전히 바코드만 보여집니다. 짐에서는 더이상 바코드스캔...</td>\n",
       "      <td>별표 5개 만점에 1개를 받았습니다.</td>\n",
       "      <td>입장방식은 수정됐는데 사이트은 여전히 바코드만 보여집니다. 운동시설에서는 더이상 바...</td>\n",
       "    </tr>\n",
       "    <tr>\n",
       "      <th>1</th>\n",
       "      <td>651277e7ddb81e8e96c6bcbc</td>\n",
       "      <td>Google 사용자</td>\n",
       "      <td>정말 답답하네요 하나. GPS 100프로 신뢰하나요? 시설선택목록에서 안보임 4월말...</td>\n",
       "      <td>별표 5개 만점에 1개를 받았습니다.</td>\n",
       "      <td>정말 답답하네요 하나. GPS 100프로 신뢰하나요? 시설선택목록에서 안보임 4월말...</td>\n",
       "    </tr>\n",
       "    <tr>\n",
       "      <th>2</th>\n",
       "      <td>651277e7ddb81e8e96c6bcbd</td>\n",
       "      <td>Google 사용자</td>\n",
       "      <td>입장하려다 시설검색이 안되서 결국 다른곳에 입장했습니다. 기존에 잘 쓰던 앱이 업데...</td>\n",
       "      <td>별표 5개 만점에 1개를 받았습니다.</td>\n",
       "      <td>입장하려다 시설검색이 안되서 결국 다른곳에 입장했습니다. 기존에 잘 쓰던 사이트이 ...</td>\n",
       "    </tr>\n",
       "    <tr>\n",
       "      <th>3</th>\n",
       "      <td>651277e7ddb81e8e96c6bcbe</td>\n",
       "      <td>한반도</td>\n",
       "      <td>평소 이동이 잦고 여러장소에서 운동하는걸 좋아하는 저에게는 합리적인 아이코젠이 정말...</td>\n",
       "      <td>별표 5개 만점에 5개를 받았습니다.</td>\n",
       "      <td>평소 이동이 잦고 여러장소에서 운동하는걸 좋아하는 저에게는 합리적인 아이코젠이 정말...</td>\n",
       "    </tr>\n",
       "    <tr>\n",
       "      <th>4</th>\n",
       "      <td>651277e7ddb81e8e96c6bcbf</td>\n",
       "      <td>나수인</td>\n",
       "      <td>아이코젠 덕분에 운동이 더 즐겁고 꾸준하게 하게 되었어요. 사용기록이 꼼꼼히 남고 ...</td>\n",
       "      <td>별표 5개 만점에 5개를 받았습니다.</td>\n",
       "      <td>아이코젠 덕분에 운동이 더 즐겁고 꾸준하게 하게 되었어요. 사용기록이 꼼꼼히 남고 ...</td>\n",
       "    </tr>\n",
       "  </tbody>\n",
       "</table>\n",
       "</div>"
      ],
      "text/plain": [
       "                        _id        name  \\\n",
       "0  651277e7ddb81e8e96c6bcbb  Google 사용자   \n",
       "1  651277e7ddb81e8e96c6bcbc  Google 사용자   \n",
       "2  651277e7ddb81e8e96c6bcbd  Google 사용자   \n",
       "3  651277e7ddb81e8e96c6bcbe         한반도   \n",
       "4  651277e7ddb81e8e96c6bcbf         나수인   \n",
       "\n",
       "                                             reviews                 stars  \\\n",
       "0  입장방식은 변경됐는데 어플은 여전히 바코드만 보여집니다. 짐에서는 더이상 바코드스캔...  별표 5개 만점에 1개를 받았습니다.   \n",
       "1  정말 답답하네요 하나. GPS 100프로 신뢰하나요? 시설선택목록에서 안보임 4월말...  별표 5개 만점에 1개를 받았습니다.   \n",
       "2  입장하려다 시설검색이 안되서 결국 다른곳에 입장했습니다. 기존에 잘 쓰던 앱이 업데...  별표 5개 만점에 1개를 받았습니다.   \n",
       "3  평소 이동이 잦고 여러장소에서 운동하는걸 좋아하는 저에게는 합리적인 아이코젠이 정말...  별표 5개 만점에 5개를 받았습니다.   \n",
       "4  아이코젠 덕분에 운동이 더 즐겁고 꾸준하게 하게 되었어요. 사용기록이 꼼꼼히 남고 ...  별표 5개 만점에 5개를 받았습니다.   \n",
       "\n",
       "                                     replaced_review  \n",
       "0  입장방식은 수정됐는데 사이트은 여전히 바코드만 보여집니다. 운동시설에서는 더이상 바...  \n",
       "1  정말 답답하네요 하나. GPS 100프로 신뢰하나요? 시설선택목록에서 안보임 4월말...  \n",
       "2  입장하려다 시설검색이 안되서 결국 다른곳에 입장했습니다. 기존에 잘 쓰던 사이트이 ...  \n",
       "3  평소 이동이 잦고 여러장소에서 운동하는걸 좋아하는 저에게는 합리적인 아이코젠이 정말...  \n",
       "4  아이코젠 덕분에 운동이 더 즐겁고 꾸준하게 하게 되었어요. 사용기록이 꼼꼼히 남고 ...  "
      ]
     },
     "execution_count": 23,
     "metadata": {},
     "output_type": "execute_result"
    }
   ],
   "source": [
    "df['replaced_review'] = df['reviews'].apply(replace_word)\n",
    "df[:5]"
   ]
  },
  {
   "cell_type": "markdown",
   "metadata": {
    "id": "O3dw250NqLDh"
   },
   "source": [
    "#### 불용어 처리"
   ]
  },
  {
   "cell_type": "code",
   "execution_count": 24,
   "metadata": {
    "colab": {
     "base_uri": "https://localhost:8080/",
     "height": 206
    },
    "id": "KvsmCWvxji8j",
    "outputId": "8e09a098-f01d-4f60-caa2-d922db6b2db5",
    "tags": []
   },
   "outputs": [
    {
     "data": {
      "text/html": [
       "<div>\n",
       "<style scoped>\n",
       "    .dataframe tbody tr th:only-of-type {\n",
       "        vertical-align: middle;\n",
       "    }\n",
       "\n",
       "    .dataframe tbody tr th {\n",
       "        vertical-align: top;\n",
       "    }\n",
       "\n",
       "    .dataframe thead th {\n",
       "        text-align: right;\n",
       "    }\n",
       "</style>\n",
       "<table border=\"1\" class=\"dataframe\">\n",
       "  <thead>\n",
       "    <tr style=\"text-align: right;\">\n",
       "      <th></th>\n",
       "      <th>stopword</th>\n",
       "    </tr>\n",
       "  </thead>\n",
       "  <tbody>\n",
       "    <tr>\n",
       "      <th>0</th>\n",
       "      <td>가</td>\n",
       "    </tr>\n",
       "    <tr>\n",
       "      <th>1</th>\n",
       "      <td>가까스로</td>\n",
       "    </tr>\n",
       "    <tr>\n",
       "      <th>2</th>\n",
       "      <td>가량</td>\n",
       "    </tr>\n",
       "    <tr>\n",
       "      <th>3</th>\n",
       "      <td>가령</td>\n",
       "    </tr>\n",
       "    <tr>\n",
       "      <th>4</th>\n",
       "      <td>가민</td>\n",
       "    </tr>\n",
       "  </tbody>\n",
       "</table>\n",
       "</div>"
      ],
      "text/plain": [
       "  stopword\n",
       "0        가\n",
       "1     가까스로\n",
       "2       가량\n",
       "3       가령\n",
       "4       가민"
      ]
     },
     "execution_count": 24,
     "metadata": {},
     "output_type": "execute_result"
    }
   ],
   "source": [
    "# df_stopwords = pd.read_excel('/content/drive/MyDrive/Colab Notebooks/2023pythons/datasets/불용어concat.xlsx')\n",
    "df_stopwords = pd.read_excel('../../datasets/불용어concat.xlsx')\n",
    "df_stopwords[:5]"
   ]
  },
  {
   "cell_type": "code",
   "execution_count": 25,
   "metadata": {
    "id": "TLcNOvViqZO5",
    "tags": []
   },
   "outputs": [],
   "source": [
    "stopwords = df_stopwords['stopword'].values\n",
    "# 토크나이징 함수 정의(한자 이상 적용. 불용어 삭제)\n",
    "def tokenizer(replaced_review):\n",
    "    result_list = list()\n",
    "    # for word in replaced_review :\n",
    "    for word in mecab.nouns(replaced_review) :\n",
    "      if word not in stopwords:\n",
    "          result_list.append(word)\n",
    "    # 일부 경우(토큰 갯수 제한)\n",
    "    # if len(result_list) <= 3 or len(result_list) < 12 :\n",
    "    #   result_list\n",
    "    return ' '.join(result_list) # return str"
   ]
  },
  {
   "cell_type": "code",
   "execution_count": 26,
   "metadata": {
    "tags": []
   },
   "outputs": [
    {
     "data": {
      "text/plain": [
       "'말 개별 개의 거니 거 바'"
      ]
     },
     "execution_count": 26,
     "metadata": {},
     "output_type": "execute_result"
    }
   ],
   "source": [
    "tokenizer('가까스로,가량,가령,가민,가슴,가슴살,가요,가위바위보,가지,각,각각,각자,각종,갖고말하자면,같다,같아요,같이,개별로,개월,개의치않고,거기,거니와,거바,거의,건가,건가요,건데,건지,걸까요,걸로')"
   ]
  },
  {
   "cell_type": "code",
   "execution_count": 27,
   "metadata": {
    "colab": {
     "base_uri": "https://localhost:8080/",
     "height": 380
    },
    "collapsed": true,
    "id": "xdbenEwYr2wp",
    "jupyter": {
     "outputs_hidden": true
    },
    "outputId": "b516e1ff-1bb8-40b3-e7ea-3a3f5b69e6b3",
    "tags": []
   },
   "outputs": [
    {
     "data": {
      "text/html": [
       "<div>\n",
       "<style scoped>\n",
       "    .dataframe tbody tr th:only-of-type {\n",
       "        vertical-align: middle;\n",
       "    }\n",
       "\n",
       "    .dataframe tbody tr th {\n",
       "        vertical-align: top;\n",
       "    }\n",
       "\n",
       "    .dataframe thead th {\n",
       "        text-align: right;\n",
       "    }\n",
       "</style>\n",
       "<table border=\"1\" class=\"dataframe\">\n",
       "  <thead>\n",
       "    <tr style=\"text-align: right;\">\n",
       "      <th></th>\n",
       "      <th>_id</th>\n",
       "      <th>name</th>\n",
       "      <th>reviews</th>\n",
       "      <th>stars</th>\n",
       "      <th>replaced_review</th>\n",
       "      <th>tokenized_review</th>\n",
       "    </tr>\n",
       "  </thead>\n",
       "  <tbody>\n",
       "    <tr>\n",
       "      <th>0</th>\n",
       "      <td>651277e7ddb81e8e96c6bcbb</td>\n",
       "      <td>Google 사용자</td>\n",
       "      <td>입장방식은 변경됐는데 어플은 여전히 바코드만 보여집니다. 짐에서는 더이상 바코드스캔...</td>\n",
       "      <td>별표 5개 만점에 1개를 받았습니다.</td>\n",
       "      <td>입장방식은 수정됐는데 사이트은 여전히 바코드만 보여집니다. 운동시설에서는 더이상 바...</td>\n",
       "      <td>입장 방식 수정 사이트 바코드 운동 시설 바코드 스캔 사이트 입장 사용료 상황 전 ...</td>\n",
       "    </tr>\n",
       "    <tr>\n",
       "      <th>1</th>\n",
       "      <td>651277e7ddb81e8e96c6bcbc</td>\n",
       "      <td>Google 사용자</td>\n",
       "      <td>정말 답답하네요 하나. GPS 100프로 신뢰하나요? 시설선택목록에서 안보임 4월말...</td>\n",
       "      <td>별표 5개 만점에 1개를 받았습니다.</td>\n",
       "      <td>정말 답답하네요 하나. GPS 100프로 신뢰하나요? 시설선택목록에서 안보임 4월말...</td>\n",
       "      <td>프로 신뢰 시설 선택 목록 말 개선 문제 은행 로그인 타임아웃 적용 불편 감수 개선...</td>\n",
       "    </tr>\n",
       "    <tr>\n",
       "      <th>2</th>\n",
       "      <td>651277e7ddb81e8e96c6bcbd</td>\n",
       "      <td>Google 사용자</td>\n",
       "      <td>입장하려다 시설검색이 안되서 결국 다른곳에 입장했습니다. 기존에 잘 쓰던 앱이 업데...</td>\n",
       "      <td>별표 5개 만점에 1개를 받았습니다.</td>\n",
       "      <td>입장하려다 시설검색이 안되서 결국 다른곳에 입장했습니다. 기존에 잘 쓰던 사이트이 ...</td>\n",
       "      <td>입장 시설 검색 곳 입장 기존 사이트 개선 후 로그인 위치 자동 검색 시설 수동 검...</td>\n",
       "    </tr>\n",
       "    <tr>\n",
       "      <th>3</th>\n",
       "      <td>651277e7ddb81e8e96c6bcbe</td>\n",
       "      <td>한반도</td>\n",
       "      <td>평소 이동이 잦고 여러장소에서 운동하는걸 좋아하는 저에게는 합리적인 아이코젠이 정말...</td>\n",
       "      <td>별표 5개 만점에 5개를 받았습니다.</td>\n",
       "      <td>평소 이동이 잦고 여러장소에서 운동하는걸 좋아하는 저에게는 합리적인 아이코젠이 정말...</td>\n",
       "      <td>이동 장소 운동 걸 합리 코젠 제휴 업체 추가 업체 방문 게 낙 입장 방식 바코드 ...</td>\n",
       "    </tr>\n",
       "    <tr>\n",
       "      <th>4</th>\n",
       "      <td>651277e7ddb81e8e96c6bcbf</td>\n",
       "      <td>나수인</td>\n",
       "      <td>아이코젠 덕분에 운동이 더 즐겁고 꾸준하게 하게 되었어요. 사용기록이 꼼꼼히 남고 ...</td>\n",
       "      <td>별표 5개 만점에 5개를 받았습니다.</td>\n",
       "      <td>아이코젠 덕분에 운동이 더 즐겁고 꾸준하게 하게 되었어요. 사용기록이 꼼꼼히 남고 ...</td>\n",
       "      <td>아이코 젠 덕분 운동 기록 지점 출장 본가 지속 수 점 짱 라이프 코스 중 덕분 비 대박</td>\n",
       "    </tr>\n",
       "  </tbody>\n",
       "</table>\n",
       "</div>"
      ],
      "text/plain": [
       "                        _id        name  \\\n",
       "0  651277e7ddb81e8e96c6bcbb  Google 사용자   \n",
       "1  651277e7ddb81e8e96c6bcbc  Google 사용자   \n",
       "2  651277e7ddb81e8e96c6bcbd  Google 사용자   \n",
       "3  651277e7ddb81e8e96c6bcbe         한반도   \n",
       "4  651277e7ddb81e8e96c6bcbf         나수인   \n",
       "\n",
       "                                             reviews                 stars  \\\n",
       "0  입장방식은 변경됐는데 어플은 여전히 바코드만 보여집니다. 짐에서는 더이상 바코드스캔...  별표 5개 만점에 1개를 받았습니다.   \n",
       "1  정말 답답하네요 하나. GPS 100프로 신뢰하나요? 시설선택목록에서 안보임 4월말...  별표 5개 만점에 1개를 받았습니다.   \n",
       "2  입장하려다 시설검색이 안되서 결국 다른곳에 입장했습니다. 기존에 잘 쓰던 앱이 업데...  별표 5개 만점에 1개를 받았습니다.   \n",
       "3  평소 이동이 잦고 여러장소에서 운동하는걸 좋아하는 저에게는 합리적인 아이코젠이 정말...  별표 5개 만점에 5개를 받았습니다.   \n",
       "4  아이코젠 덕분에 운동이 더 즐겁고 꾸준하게 하게 되었어요. 사용기록이 꼼꼼히 남고 ...  별표 5개 만점에 5개를 받았습니다.   \n",
       "\n",
       "                                     replaced_review  \\\n",
       "0  입장방식은 수정됐는데 사이트은 여전히 바코드만 보여집니다. 운동시설에서는 더이상 바...   \n",
       "1  정말 답답하네요 하나. GPS 100프로 신뢰하나요? 시설선택목록에서 안보임 4월말...   \n",
       "2  입장하려다 시설검색이 안되서 결국 다른곳에 입장했습니다. 기존에 잘 쓰던 사이트이 ...   \n",
       "3  평소 이동이 잦고 여러장소에서 운동하는걸 좋아하는 저에게는 합리적인 아이코젠이 정말...   \n",
       "4  아이코젠 덕분에 운동이 더 즐겁고 꾸준하게 하게 되었어요. 사용기록이 꼼꼼히 남고 ...   \n",
       "\n",
       "                                    tokenized_review  \n",
       "0  입장 방식 수정 사이트 바코드 운동 시설 바코드 스캔 사이트 입장 사용료 상황 전 ...  \n",
       "1  프로 신뢰 시설 선택 목록 말 개선 문제 은행 로그인 타임아웃 적용 불편 감수 개선...  \n",
       "2  입장 시설 검색 곳 입장 기존 사이트 개선 후 로그인 위치 자동 검색 시설 수동 검...  \n",
       "3  이동 장소 운동 걸 합리 코젠 제휴 업체 추가 업체 방문 게 낙 입장 방식 바코드 ...  \n",
       "4  아이코 젠 덕분 운동 기록 지점 출장 본가 지속 수 점 짱 라이프 코스 중 덕분 비 대박  "
      ]
     },
     "execution_count": 27,
     "metadata": {},
     "output_type": "execute_result"
    }
   ],
   "source": [
    "df['tokenized_review'] = df['replaced_review'].apply(tokenizer)\n",
    "df[:5]"
   ]
  },
  {
   "cell_type": "markdown",
   "metadata": {
    "id": "fzu357dswdGA"
   },
   "source": [
    "### 한단어 처리"
   ]
  },
  {
   "cell_type": "code",
   "execution_count": 30,
   "metadata": {
    "colab": {
     "base_uri": "https://localhost:8080/",
     "height": 175
    },
    "id": "a1F4qgClv0pH",
    "outputId": "200e6bf7-d313-4736-f991-abfb1dfda1a9",
    "tags": []
   },
   "outputs": [
    {
     "data": {
      "text/html": [
       "<div>\n",
       "<style scoped>\n",
       "    .dataframe tbody tr th:only-of-type {\n",
       "        vertical-align: middle;\n",
       "    }\n",
       "\n",
       "    .dataframe tbody tr th {\n",
       "        vertical-align: top;\n",
       "    }\n",
       "\n",
       "    .dataframe thead th {\n",
       "        text-align: right;\n",
       "    }\n",
       "</style>\n",
       "<table border=\"1\" class=\"dataframe\">\n",
       "  <thead>\n",
       "    <tr style=\"text-align: right;\">\n",
       "      <th></th>\n",
       "      <th>one_char_keyword</th>\n",
       "    </tr>\n",
       "  </thead>\n",
       "  <tbody>\n",
       "    <tr>\n",
       "      <th>0</th>\n",
       "      <td>값</td>\n",
       "    </tr>\n",
       "    <tr>\n",
       "      <th>1</th>\n",
       "      <td>꿀</td>\n",
       "    </tr>\n",
       "    <tr>\n",
       "      <th>2</th>\n",
       "      <td>꿈</td>\n",
       "    </tr>\n",
       "    <tr>\n",
       "      <th>3</th>\n",
       "      <td>끝</td>\n",
       "    </tr>\n",
       "  </tbody>\n",
       "</table>\n",
       "</div>"
      ],
      "text/plain": [
       "  one_char_keyword\n",
       "0                값\n",
       "1                꿀\n",
       "2                꿈\n",
       "3                끝"
      ]
     },
     "execution_count": 30,
     "metadata": {},
     "output_type": "execute_result"
    }
   ],
   "source": [
    "# df_oneword = pd.read_excel('/content/drive/MyDrive/Colab Notebooks/2023pythons/datasets/한단어_concat.xlsx')\n",
    "df_oneword = pd.read_excel('../../datasets/한단어_concat.xlsx')\n",
    "df_oneword[:4]"
   ]
  },
  {
   "cell_type": "code",
   "execution_count": 31,
   "metadata": {
    "colab": {
     "base_uri": "https://localhost:8080/"
    },
    "id": "KaT_aN8owoI2",
    "outputId": "2f9def6c-4693-4ccc-ebd3-25369fc2d639",
    "tags": []
   },
   "outputs": [
    {
     "data": {
      "text/plain": [
       "0       입장 방식 수정 사이트 바코드 운동 시설 바코드 스캔 사이트 입장 사용료 상황 전 ...\n",
       "1       프로 신뢰 시설 선택 목록 말 개선 문제 은행 로그인 타임아웃 적용 불편 감수 개선...\n",
       "2       입장 시설 검색 곳 입장 기존 사이트 개선 후 로그인 위치 자동 검색 시설 수동 검...\n",
       "3       이동 장소 운동 걸 합리 코젠 제휴 업체 추가 업체 방문 게 낙 입장 방식 바코드 ...\n",
       "4       아이코 젠 덕분 운동 기록 지점 출장 본가 지속 수 점 짱 라이프 코스 중 덕분 비 대박\n",
       "                              ...                        \n",
       "2873                                                     \n",
       "2874                                                     \n",
       "2875                                                     \n",
       "2876                                                     \n",
       "2877                                                     \n",
       "Name: tokenized_review, Length: 2878, dtype: object"
      ]
     },
     "execution_count": 31,
     "metadata": {},
     "output_type": "execute_result"
    }
   ],
   "source": [
    "df_tokenized_review = df['tokenized_review']\n",
    "df_tokenized_review"
   ]
  },
  {
   "cell_type": "code",
   "execution_count": 32,
   "metadata": {
    "id": "jQMRfZev7ueH",
    "tags": []
   },
   "outputs": [],
   "source": [
    "onewords = df_oneword['one_char_keyword'].values\n",
    "def tokenizer2(tokenized_review):\n",
    "    oneword_result_list = list()\n",
    "    for word in mecab.nouns(tokenized_review):\n",
    "        # 대소문자 구분을 무시하고 1글자 키워드를 제거\n",
    "        if len(word) > 1 or word.lower() in onewords:\n",
    "            oneword_result_list.append(word)\n",
    "    # 명사가 없으면 None 반환\n",
    "    if not oneword_result_list:\n",
    "        return None\n",
    "    return ' '.join(oneword_result_list)  # return str"
   ]
  },
  {
   "cell_type": "code",
   "execution_count": 33,
   "metadata": {
    "id": "NDBW312hS1-q",
    "tags": []
   },
   "outputs": [],
   "source": [
    "# onewords = df_oneword['one_char_keyword'].values\n",
    "# def tokenizer2(tokenized_review):\n",
    "#     oneword_result_list = list()\n",
    "#     for word in mecab.nouns(tokenized_review) :\n",
    "#       if len(word) > 0 and word not in onewords :\n",
    "#         oneword_result_list.append(word)\n",
    "#     return ' '.join(oneword_result_list) # return str"
   ]
  },
  {
   "cell_type": "code",
   "execution_count": 34,
   "metadata": {
    "colab": {
     "base_uri": "https://localhost:8080/",
     "height": 35
    },
    "id": "sulsq_EKT91y",
    "outputId": "b9c91ac6-1c1a-4004-c232-9f81e6b9bac9",
    "tags": []
   },
   "outputs": [
    {
     "data": {
      "text/plain": [
       "'아이코 덕분 운동 기록 지점 출장 본가 지속 수 라이프 코스 덕분 대박'"
      ]
     },
     "execution_count": 34,
     "metadata": {},
     "output_type": "execute_result"
    }
   ],
   "source": [
    "tokenizer2('아이코 젠 덕분 운동 기록 지점 출장 본가 지속 수 점 짱 라이프 코스 중 덕분 비 대박')"
   ]
  },
  {
   "cell_type": "code",
   "execution_count": 35,
   "metadata": {
    "colab": {
     "base_uri": "https://localhost:8080/",
     "height": 1148
    },
    "id": "7ZAB5poVULnr",
    "outputId": "f69e7f3f-e3f1-4221-d52a-4c1096e5608b",
    "tags": []
   },
   "outputs": [
    {
     "data": {
      "text/html": [
       "<div>\n",
       "<style scoped>\n",
       "    .dataframe tbody tr th:only-of-type {\n",
       "        vertical-align: middle;\n",
       "    }\n",
       "\n",
       "    .dataframe tbody tr th {\n",
       "        vertical-align: top;\n",
       "    }\n",
       "\n",
       "    .dataframe thead th {\n",
       "        text-align: right;\n",
       "    }\n",
       "</style>\n",
       "<table border=\"1\" class=\"dataframe\">\n",
       "  <thead>\n",
       "    <tr style=\"text-align: right;\">\n",
       "      <th></th>\n",
       "      <th>_id</th>\n",
       "      <th>name</th>\n",
       "      <th>reviews</th>\n",
       "      <th>stars</th>\n",
       "      <th>replaced_review</th>\n",
       "      <th>tokenized_review</th>\n",
       "      <th>oneword_review</th>\n",
       "    </tr>\n",
       "  </thead>\n",
       "  <tbody>\n",
       "    <tr>\n",
       "      <th>0</th>\n",
       "      <td>651277e7ddb81e8e96c6bcbb</td>\n",
       "      <td>Google 사용자</td>\n",
       "      <td>입장방식은 변경됐는데 어플은 여전히 바코드만 보여집니다. 짐에서는 더이상 바코드스캔...</td>\n",
       "      <td>별표 5개 만점에 1개를 받았습니다.</td>\n",
       "      <td>입장방식은 수정됐는데 사이트은 여전히 바코드만 보여집니다. 운동시설에서는 더이상 바...</td>\n",
       "      <td>입장 방식 수정 사이트 바코드 운동 시설 바코드 스캔 사이트 입장 사용료 상황 전 ...</td>\n",
       "      <td>입장 방식 수정 사이트 바코드 운동 시설 바코드 스캔 사이트 입장 사용료 상황 일자...</td>\n",
       "    </tr>\n",
       "    <tr>\n",
       "      <th>1</th>\n",
       "      <td>651277e7ddb81e8e96c6bcbc</td>\n",
       "      <td>Google 사용자</td>\n",
       "      <td>정말 답답하네요 하나. GPS 100프로 신뢰하나요? 시설선택목록에서 안보임 4월말...</td>\n",
       "      <td>별표 5개 만점에 1개를 받았습니다.</td>\n",
       "      <td>정말 답답하네요 하나. GPS 100프로 신뢰하나요? 시설선택목록에서 안보임 4월말...</td>\n",
       "      <td>프로 신뢰 시설 선택 목록 말 개선 문제 은행 로그인 타임아웃 적용 불편 감수 개선...</td>\n",
       "      <td>프로 신뢰 시설 선택 목록 개선 문제 은행 로그인 타임아웃 적용 불편 감수 개선 적...</td>\n",
       "    </tr>\n",
       "    <tr>\n",
       "      <th>2</th>\n",
       "      <td>651277e7ddb81e8e96c6bcbd</td>\n",
       "      <td>Google 사용자</td>\n",
       "      <td>입장하려다 시설검색이 안되서 결국 다른곳에 입장했습니다. 기존에 잘 쓰던 앱이 업데...</td>\n",
       "      <td>별표 5개 만점에 1개를 받았습니다.</td>\n",
       "      <td>입장하려다 시설검색이 안되서 결국 다른곳에 입장했습니다. 기존에 잘 쓰던 사이트이 ...</td>\n",
       "      <td>입장 시설 검색 곳 입장 기존 사이트 개선 후 로그인 위치 자동 검색 시설 수동 검...</td>\n",
       "      <td>입장 시설 검색 입장 기존 사이트 개선 로그인 위치 자동 검색 시설 수동 검색 입장...</td>\n",
       "    </tr>\n",
       "    <tr>\n",
       "      <th>3</th>\n",
       "      <td>651277e7ddb81e8e96c6bcbe</td>\n",
       "      <td>한반도</td>\n",
       "      <td>평소 이동이 잦고 여러장소에서 운동하는걸 좋아하는 저에게는 합리적인 아이코젠이 정말...</td>\n",
       "      <td>별표 5개 만점에 5개를 받았습니다.</td>\n",
       "      <td>평소 이동이 잦고 여러장소에서 운동하는걸 좋아하는 저에게는 합리적인 아이코젠이 정말...</td>\n",
       "      <td>이동 장소 운동 걸 합리 코젠 제휴 업체 추가 업체 방문 게 낙 입장 방식 바코드 ...</td>\n",
       "      <td>이동 장소 운동 합리 코젠 제휴 업체 추가 업체 방문 입장 방식 바코드 편의 개선 ...</td>\n",
       "    </tr>\n",
       "    <tr>\n",
       "      <th>4</th>\n",
       "      <td>651277e7ddb81e8e96c6bcbf</td>\n",
       "      <td>나수인</td>\n",
       "      <td>아이코젠 덕분에 운동이 더 즐겁고 꾸준하게 하게 되었어요. 사용기록이 꼼꼼히 남고 ...</td>\n",
       "      <td>별표 5개 만점에 5개를 받았습니다.</td>\n",
       "      <td>아이코젠 덕분에 운동이 더 즐겁고 꾸준하게 하게 되었어요. 사용기록이 꼼꼼히 남고 ...</td>\n",
       "      <td>아이코 젠 덕분 운동 기록 지점 출장 본가 지속 수 점 짱 라이프 코스 중 덕분 비 대박</td>\n",
       "      <td>아이코 덕분 운동 기록 지점 출장 본가 지속 수 라이프 코스 덕분 대박</td>\n",
       "    </tr>\n",
       "    <tr>\n",
       "      <th>5</th>\n",
       "      <td>651277e7ddb81e8e96c6bcc0</td>\n",
       "      <td>최경진</td>\n",
       "      <td>작년부터 계속 이용하고 있는 아이코젠, 정말 좋아요. 축 처져있는 여름날씨에도 운동...</td>\n",
       "      <td>별표 5개 만점에 5개를 받았습니다.</td>\n",
       "      <td>작년부터 계속 사용하고 있는 아이코젠, 정말 좋아요. 축 처져있는 여름날씨에도 운동...</td>\n",
       "      <td>작년 코젠 날씨 운동 사이트 편리 내역 내 정확 수 코로나 시국 편리 운동 수</td>\n",
       "      <td>작년 코젠 날씨 운동 사이트 편리 내역 정확 수 코로나 시국 편리 운동 수</td>\n",
       "    </tr>\n",
       "    <tr>\n",
       "      <th>6</th>\n",
       "      <td>651277e7ddb81e8e96c6bcc1</td>\n",
       "      <td>이루이루</td>\n",
       "      <td>오랜기간 사용중인데 아이코젠 회원가입 덕분에 꾸준히 운동하고 있습니다. 개인적으로 ...</td>\n",
       "      <td>별표 5개 만점에 5개를 받았습니다.</td>\n",
       "      <td>오랜기간 사용중인데 아이코젠 회원회원가입 덕분에 꾸준히 운동하고 있습니다. 개인적으...</td>\n",
       "      <td>기간 중 코젠 회원 회원 가입 덕분 운동 개인 운동 장기간 운동 거 초기 오류 안정...</td>\n",
       "      <td>기간 코젠 회원 회원 가입 덕분 운동 개인 운동 장기간 운동 초기 오류 안정 사이트...</td>\n",
       "    </tr>\n",
       "  </tbody>\n",
       "</table>\n",
       "</div>"
      ],
      "text/plain": [
       "                        _id        name  \\\n",
       "0  651277e7ddb81e8e96c6bcbb  Google 사용자   \n",
       "1  651277e7ddb81e8e96c6bcbc  Google 사용자   \n",
       "2  651277e7ddb81e8e96c6bcbd  Google 사용자   \n",
       "3  651277e7ddb81e8e96c6bcbe         한반도   \n",
       "4  651277e7ddb81e8e96c6bcbf         나수인   \n",
       "5  651277e7ddb81e8e96c6bcc0         최경진   \n",
       "6  651277e7ddb81e8e96c6bcc1        이루이루   \n",
       "\n",
       "                                             reviews                 stars  \\\n",
       "0  입장방식은 변경됐는데 어플은 여전히 바코드만 보여집니다. 짐에서는 더이상 바코드스캔...  별표 5개 만점에 1개를 받았습니다.   \n",
       "1  정말 답답하네요 하나. GPS 100프로 신뢰하나요? 시설선택목록에서 안보임 4월말...  별표 5개 만점에 1개를 받았습니다.   \n",
       "2  입장하려다 시설검색이 안되서 결국 다른곳에 입장했습니다. 기존에 잘 쓰던 앱이 업데...  별표 5개 만점에 1개를 받았습니다.   \n",
       "3  평소 이동이 잦고 여러장소에서 운동하는걸 좋아하는 저에게는 합리적인 아이코젠이 정말...  별표 5개 만점에 5개를 받았습니다.   \n",
       "4  아이코젠 덕분에 운동이 더 즐겁고 꾸준하게 하게 되었어요. 사용기록이 꼼꼼히 남고 ...  별표 5개 만점에 5개를 받았습니다.   \n",
       "5  작년부터 계속 이용하고 있는 아이코젠, 정말 좋아요. 축 처져있는 여름날씨에도 운동...  별표 5개 만점에 5개를 받았습니다.   \n",
       "6  오랜기간 사용중인데 아이코젠 회원가입 덕분에 꾸준히 운동하고 있습니다. 개인적으로 ...  별표 5개 만점에 5개를 받았습니다.   \n",
       "\n",
       "                                     replaced_review  \\\n",
       "0  입장방식은 수정됐는데 사이트은 여전히 바코드만 보여집니다. 운동시설에서는 더이상 바...   \n",
       "1  정말 답답하네요 하나. GPS 100프로 신뢰하나요? 시설선택목록에서 안보임 4월말...   \n",
       "2  입장하려다 시설검색이 안되서 결국 다른곳에 입장했습니다. 기존에 잘 쓰던 사이트이 ...   \n",
       "3  평소 이동이 잦고 여러장소에서 운동하는걸 좋아하는 저에게는 합리적인 아이코젠이 정말...   \n",
       "4  아이코젠 덕분에 운동이 더 즐겁고 꾸준하게 하게 되었어요. 사용기록이 꼼꼼히 남고 ...   \n",
       "5  작년부터 계속 사용하고 있는 아이코젠, 정말 좋아요. 축 처져있는 여름날씨에도 운동...   \n",
       "6  오랜기간 사용중인데 아이코젠 회원회원가입 덕분에 꾸준히 운동하고 있습니다. 개인적으...   \n",
       "\n",
       "                                    tokenized_review  \\\n",
       "0  입장 방식 수정 사이트 바코드 운동 시설 바코드 스캔 사이트 입장 사용료 상황 전 ...   \n",
       "1  프로 신뢰 시설 선택 목록 말 개선 문제 은행 로그인 타임아웃 적용 불편 감수 개선...   \n",
       "2  입장 시설 검색 곳 입장 기존 사이트 개선 후 로그인 위치 자동 검색 시설 수동 검...   \n",
       "3  이동 장소 운동 걸 합리 코젠 제휴 업체 추가 업체 방문 게 낙 입장 방식 바코드 ...   \n",
       "4  아이코 젠 덕분 운동 기록 지점 출장 본가 지속 수 점 짱 라이프 코스 중 덕분 비 대박   \n",
       "5        작년 코젠 날씨 운동 사이트 편리 내역 내 정확 수 코로나 시국 편리 운동 수   \n",
       "6  기간 중 코젠 회원 회원 가입 덕분 운동 개인 운동 장기간 운동 거 초기 오류 안정...   \n",
       "\n",
       "                                      oneword_review  \n",
       "0  입장 방식 수정 사이트 바코드 운동 시설 바코드 스캔 사이트 입장 사용료 상황 일자...  \n",
       "1  프로 신뢰 시설 선택 목록 개선 문제 은행 로그인 타임아웃 적용 불편 감수 개선 적...  \n",
       "2  입장 시설 검색 입장 기존 사이트 개선 로그인 위치 자동 검색 시설 수동 검색 입장...  \n",
       "3  이동 장소 운동 합리 코젠 제휴 업체 추가 업체 방문 입장 방식 바코드 편의 개선 ...  \n",
       "4            아이코 덕분 운동 기록 지점 출장 본가 지속 수 라이프 코스 덕분 대박  \n",
       "5          작년 코젠 날씨 운동 사이트 편리 내역 정확 수 코로나 시국 편리 운동 수  \n",
       "6  기간 코젠 회원 회원 가입 덕분 운동 개인 운동 장기간 운동 초기 오류 안정 사이트...  "
      ]
     },
     "execution_count": 35,
     "metadata": {},
     "output_type": "execute_result"
    }
   ],
   "source": [
    "df['oneword_review'] = df['tokenized_review'].apply(tokenizer2)\n",
    "df[:7]"
   ]
  },
  {
   "cell_type": "code",
   "execution_count": null,
   "metadata": {
    "id": "ZdpC5yMFVG_1"
   },
   "outputs": [],
   "source": []
  },
  {
   "cell_type": "code",
   "execution_count": null,
   "metadata": {},
   "outputs": [],
   "source": []
  }
 ],
 "metadata": {
  "colab": {
   "authorship_tag": "ABX9TyPWU7IolfLRf47LCBuFrMfo",
   "include_colab_link": true,
   "mount_file_id": "1cil0B5wu6YuC5uzCNSfZ8lI5XRYLJ0xC",
   "provenance": []
  },
  "kernelspec": {
   "display_name": "Python 3 (ipykernel)",
   "language": "python",
   "name": "python3"
  },
  "language_info": {
   "codemirror_mode": {
    "name": "ipython",
    "version": 3
   },
   "file_extension": ".py",
   "mimetype": "text/x-python",
   "name": "python",
   "nbconvert_exporter": "python",
   "pygments_lexer": "ipython3",
   "version": "3.11.3"
  }
 },
 "nbformat": 4,
 "nbformat_minor": 4
}
