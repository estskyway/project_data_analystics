{
 "cells": [
  {
   "cell_type": "markdown",
   "metadata": {
    "colab_type": "text",
    "id": "view-in-github"
   },
   "source": [
    "<a href=\"https://colab.research.google.com/github/estskyway/project_data_analystics/blob/main/codes/LDA/project_review_preprocess.ipynb\" target=\"_parent\"><img src=\"https://colab.research.google.com/assets/colab-badge.svg\" alt=\"Open In Colab\"/></a>"
   ]
  },
  {
   "cell_type": "code",
   "execution_count": 6,
   "metadata": {
    "colab": {
     "base_uri": "https://localhost:8080/"
    },
    "id": "bRGnqvndg3e-",
    "outputId": "8c836e8b-d0e0-4d47-e68b-51b75a962821",
    "tags": []
   },
   "outputs": [
    {
     "name": "stdout",
     "output_type": "stream",
     "text": [
      "^C\n",
      "Note: you may need to restart the kernel to use updated packages.\n"
     ]
    }
   ],
   "source": [
    "pip install python-mecab-ko pyLDAvis"
   ]
  },
  {
   "cell_type": "code",
   "execution_count": 14,
   "metadata": {
    "id": "1pQ0HQDqhHo8",
    "tags": []
   },
   "outputs": [],
   "source": [
    "import numpy as np"
   ]
  },
  {
   "cell_type": "markdown",
   "metadata": {
    "id": "1KHGmruahJHM"
   },
   "source": [
    "### 전처리\n"
   ]
  },
  {
   "cell_type": "code",
   "execution_count": 15,
   "metadata": {
    "colab": {
     "base_uri": "https://localhost:8080/",
     "height": 597
    },
    "id": "o-0uBeomhLMD",
    "outputId": "0c4ad86d-4a7d-48b9-c2f1-41eae9837cc3",
    "tags": []
   },
   "outputs": [
    {
     "data": {
      "text/html": [
       "<div>\n",
       "<style scoped>\n",
       "    .dataframe tbody tr th:only-of-type {\n",
       "        vertical-align: middle;\n",
       "    }\n",
       "\n",
       "    .dataframe tbody tr th {\n",
       "        vertical-align: top;\n",
       "    }\n",
       "\n",
       "    .dataframe thead th {\n",
       "        text-align: right;\n",
       "    }\n",
       "</style>\n",
       "<table border=\"1\" class=\"dataframe\">\n",
       "  <thead>\n",
       "    <tr style=\"text-align: right;\">\n",
       "      <th></th>\n",
       "      <th>Unnamed: 0</th>\n",
       "      <th>_id</th>\n",
       "      <th>name</th>\n",
       "      <th>reviews</th>\n",
       "      <th>stars</th>\n",
       "    </tr>\n",
       "  </thead>\n",
       "  <tbody>\n",
       "    <tr>\n",
       "      <th>0</th>\n",
       "      <td>0</td>\n",
       "      <td>651277e7ddb81e8e96c6bcbb</td>\n",
       "      <td>Google 사용자</td>\n",
       "      <td>입장방식은 변경됐는데 어플은 여전히 바코드만 보여집니다. 짐에서는 더이상 바코드스캔...</td>\n",
       "      <td>별표 5개 만점에 1개를 받았습니다.</td>\n",
       "    </tr>\n",
       "    <tr>\n",
       "      <th>1</th>\n",
       "      <td>1</td>\n",
       "      <td>651277e7ddb81e8e96c6bcbc</td>\n",
       "      <td>Google 사용자</td>\n",
       "      <td>정말 답답하네요 하나. GPS 100프로 신뢰하나요? 시설선택목록에서 안보임 4월말...</td>\n",
       "      <td>별표 5개 만점에 1개를 받았습니다.</td>\n",
       "    </tr>\n",
       "    <tr>\n",
       "      <th>2</th>\n",
       "      <td>2</td>\n",
       "      <td>651277e7ddb81e8e96c6bcbd</td>\n",
       "      <td>Google 사용자</td>\n",
       "      <td>입장하려다 시설검색이 안되서 결국 다른곳에 입장했습니다. 기존에 잘 쓰던 앱이 업데...</td>\n",
       "      <td>별표 5개 만점에 1개를 받았습니다.</td>\n",
       "    </tr>\n",
       "    <tr>\n",
       "      <th>3</th>\n",
       "      <td>3</td>\n",
       "      <td>651277e7ddb81e8e96c6bcbe</td>\n",
       "      <td>한반도</td>\n",
       "      <td>평소 이동이 잦고 여러장소에서 운동하는걸 좋아하는 저에게는 합리적인 아이코젠이 정말...</td>\n",
       "      <td>별표 5개 만점에 5개를 받았습니다.</td>\n",
       "    </tr>\n",
       "    <tr>\n",
       "      <th>4</th>\n",
       "      <td>4</td>\n",
       "      <td>651277e7ddb81e8e96c6bcbf</td>\n",
       "      <td>나수인</td>\n",
       "      <td>아이코젠 덕분에 운동이 더 즐겁고 꾸준하게 하게 되었어요. 사용기록이 꼼꼼히 남고 ...</td>\n",
       "      <td>별표 5개 만점에 5개를 받았습니다.</td>\n",
       "    </tr>\n",
       "    <tr>\n",
       "      <th>...</th>\n",
       "      <td>...</td>\n",
       "      <td>...</td>\n",
       "      <td>...</td>\n",
       "      <td>...</td>\n",
       "      <td>...</td>\n",
       "    </tr>\n",
       "    <tr>\n",
       "      <th>2873</th>\n",
       "      <td>2873</td>\n",
       "      <td>651277e7ddb81e8e96c6c7f4</td>\n",
       "      <td>Google 사용자</td>\n",
       "      <td>좋아요</td>\n",
       "      <td>NaN</td>\n",
       "    </tr>\n",
       "    <tr>\n",
       "      <th>2874</th>\n",
       "      <td>2874</td>\n",
       "      <td>651277e7ddb81e8e96c6c7f5</td>\n",
       "      <td>Google 사용자</td>\n",
       "      <td>좋아용~!</td>\n",
       "      <td>NaN</td>\n",
       "    </tr>\n",
       "    <tr>\n",
       "      <th>2875</th>\n",
       "      <td>2875</td>\n",
       "      <td>651277e7ddb81e8e96c6c7f6</td>\n",
       "      <td>Google 사용자</td>\n",
       "      <td>좋아용</td>\n",
       "      <td>NaN</td>\n",
       "    </tr>\n",
       "    <tr>\n",
       "      <th>2876</th>\n",
       "      <td>2876</td>\n",
       "      <td>651277e7ddb81e8e96c6c7f7</td>\n",
       "      <td>Say Cheese</td>\n",
       "      <td>너무느려요</td>\n",
       "      <td>NaN</td>\n",
       "    </tr>\n",
       "    <tr>\n",
       "      <th>2877</th>\n",
       "      <td>2877</td>\n",
       "      <td>651277e7ddb81e8e96c6c7f8</td>\n",
       "      <td>Google 사용자</td>\n",
       "      <td>아주좋아여</td>\n",
       "      <td>NaN</td>\n",
       "    </tr>\n",
       "  </tbody>\n",
       "</table>\n",
       "<p>2878 rows × 5 columns</p>\n",
       "</div>"
      ],
      "text/plain": [
       "      Unnamed: 0                       _id        name  \\\n",
       "0              0  651277e7ddb81e8e96c6bcbb  Google 사용자   \n",
       "1              1  651277e7ddb81e8e96c6bcbc  Google 사용자   \n",
       "2              2  651277e7ddb81e8e96c6bcbd  Google 사용자   \n",
       "3              3  651277e7ddb81e8e96c6bcbe         한반도   \n",
       "4              4  651277e7ddb81e8e96c6bcbf         나수인   \n",
       "...          ...                       ...         ...   \n",
       "2873        2873  651277e7ddb81e8e96c6c7f4  Google 사용자   \n",
       "2874        2874  651277e7ddb81e8e96c6c7f5  Google 사용자   \n",
       "2875        2875  651277e7ddb81e8e96c6c7f6  Google 사용자   \n",
       "2876        2876  651277e7ddb81e8e96c6c7f7  Say Cheese   \n",
       "2877        2877  651277e7ddb81e8e96c6c7f8  Google 사용자   \n",
       "\n",
       "                                                reviews                 stars  \n",
       "0     입장방식은 변경됐는데 어플은 여전히 바코드만 보여집니다. 짐에서는 더이상 바코드스캔...  별표 5개 만점에 1개를 받았습니다.  \n",
       "1     정말 답답하네요 하나. GPS 100프로 신뢰하나요? 시설선택목록에서 안보임 4월말...  별표 5개 만점에 1개를 받았습니다.  \n",
       "2     입장하려다 시설검색이 안되서 결국 다른곳에 입장했습니다. 기존에 잘 쓰던 앱이 업데...  별표 5개 만점에 1개를 받았습니다.  \n",
       "3     평소 이동이 잦고 여러장소에서 운동하는걸 좋아하는 저에게는 합리적인 아이코젠이 정말...  별표 5개 만점에 5개를 받았습니다.  \n",
       "4     아이코젠 덕분에 운동이 더 즐겁고 꾸준하게 하게 되었어요. 사용기록이 꼼꼼히 남고 ...  별표 5개 만점에 5개를 받았습니다.  \n",
       "...                                                 ...                   ...  \n",
       "2873                                                좋아요                   NaN  \n",
       "2874                                              좋아용~!                   NaN  \n",
       "2875                                                좋아용                   NaN  \n",
       "2876                                              너무느려요                   NaN  \n",
       "2877                                              아주좋아여                   NaN  \n",
       "\n",
       "[2878 rows x 5 columns]"
      ]
     },
     "execution_count": 15,
     "metadata": {},
     "output_type": "execute_result"
    }
   ],
   "source": [
    "import pandas as pd\n",
    "# df = pd.read_csv('/content/drive/MyDrive/Colab Notebooks/2023pythons/datasets/DB_Total.csv')\n",
    "df = pd.read_csv('../../datasets/DB_Total.csv')\n",
    "df"
   ]
  },
  {
   "cell_type": "code",
   "execution_count": 16,
   "metadata": {
    "colab": {
     "base_uri": "https://localhost:8080/",
     "height": 424
    },
    "id": "4m-vJQ2ntGjA",
    "outputId": "259fe684-1ab2-413c-832b-bf51219ceec3",
    "tags": []
   },
   "outputs": [
    {
     "data": {
      "text/html": [
       "<div>\n",
       "<style scoped>\n",
       "    .dataframe tbody tr th:only-of-type {\n",
       "        vertical-align: middle;\n",
       "    }\n",
       "\n",
       "    .dataframe tbody tr th {\n",
       "        vertical-align: top;\n",
       "    }\n",
       "\n",
       "    .dataframe thead th {\n",
       "        text-align: right;\n",
       "    }\n",
       "</style>\n",
       "<table border=\"1\" class=\"dataframe\">\n",
       "  <thead>\n",
       "    <tr style=\"text-align: right;\">\n",
       "      <th></th>\n",
       "      <th>_id</th>\n",
       "      <th>name</th>\n",
       "      <th>reviews</th>\n",
       "      <th>stars</th>\n",
       "    </tr>\n",
       "  </thead>\n",
       "  <tbody>\n",
       "    <tr>\n",
       "      <th>0</th>\n",
       "      <td>651277e7ddb81e8e96c6bcbb</td>\n",
       "      <td>Google 사용자</td>\n",
       "      <td>입장방식은 변경됐는데 어플은 여전히 바코드만 보여집니다. 짐에서는 더이상 바코드스캔...</td>\n",
       "      <td>별표 5개 만점에 1개를 받았습니다.</td>\n",
       "    </tr>\n",
       "    <tr>\n",
       "      <th>1</th>\n",
       "      <td>651277e7ddb81e8e96c6bcbc</td>\n",
       "      <td>Google 사용자</td>\n",
       "      <td>정말 답답하네요 하나. GPS 100프로 신뢰하나요? 시설선택목록에서 안보임 4월말...</td>\n",
       "      <td>별표 5개 만점에 1개를 받았습니다.</td>\n",
       "    </tr>\n",
       "    <tr>\n",
       "      <th>2</th>\n",
       "      <td>651277e7ddb81e8e96c6bcbd</td>\n",
       "      <td>Google 사용자</td>\n",
       "      <td>입장하려다 시설검색이 안되서 결국 다른곳에 입장했습니다. 기존에 잘 쓰던 앱이 업데...</td>\n",
       "      <td>별표 5개 만점에 1개를 받았습니다.</td>\n",
       "    </tr>\n",
       "    <tr>\n",
       "      <th>3</th>\n",
       "      <td>651277e7ddb81e8e96c6bcbe</td>\n",
       "      <td>한반도</td>\n",
       "      <td>평소 이동이 잦고 여러장소에서 운동하는걸 좋아하는 저에게는 합리적인 아이코젠이 정말...</td>\n",
       "      <td>별표 5개 만점에 5개를 받았습니다.</td>\n",
       "    </tr>\n",
       "    <tr>\n",
       "      <th>4</th>\n",
       "      <td>651277e7ddb81e8e96c6bcbf</td>\n",
       "      <td>나수인</td>\n",
       "      <td>아이코젠 덕분에 운동이 더 즐겁고 꾸준하게 하게 되었어요. 사용기록이 꼼꼼히 남고 ...</td>\n",
       "      <td>별표 5개 만점에 5개를 받았습니다.</td>\n",
       "    </tr>\n",
       "    <tr>\n",
       "      <th>...</th>\n",
       "      <td>...</td>\n",
       "      <td>...</td>\n",
       "      <td>...</td>\n",
       "      <td>...</td>\n",
       "    </tr>\n",
       "    <tr>\n",
       "      <th>2873</th>\n",
       "      <td>651277e7ddb81e8e96c6c7f4</td>\n",
       "      <td>Google 사용자</td>\n",
       "      <td>좋아요</td>\n",
       "      <td>NaN</td>\n",
       "    </tr>\n",
       "    <tr>\n",
       "      <th>2874</th>\n",
       "      <td>651277e7ddb81e8e96c6c7f5</td>\n",
       "      <td>Google 사용자</td>\n",
       "      <td>좋아용~!</td>\n",
       "      <td>NaN</td>\n",
       "    </tr>\n",
       "    <tr>\n",
       "      <th>2875</th>\n",
       "      <td>651277e7ddb81e8e96c6c7f6</td>\n",
       "      <td>Google 사용자</td>\n",
       "      <td>좋아용</td>\n",
       "      <td>NaN</td>\n",
       "    </tr>\n",
       "    <tr>\n",
       "      <th>2876</th>\n",
       "      <td>651277e7ddb81e8e96c6c7f7</td>\n",
       "      <td>Say Cheese</td>\n",
       "      <td>너무느려요</td>\n",
       "      <td>NaN</td>\n",
       "    </tr>\n",
       "    <tr>\n",
       "      <th>2877</th>\n",
       "      <td>651277e7ddb81e8e96c6c7f8</td>\n",
       "      <td>Google 사용자</td>\n",
       "      <td>아주좋아여</td>\n",
       "      <td>NaN</td>\n",
       "    </tr>\n",
       "  </tbody>\n",
       "</table>\n",
       "<p>2878 rows × 4 columns</p>\n",
       "</div>"
      ],
      "text/plain": [
       "                           _id        name  \\\n",
       "0     651277e7ddb81e8e96c6bcbb  Google 사용자   \n",
       "1     651277e7ddb81e8e96c6bcbc  Google 사용자   \n",
       "2     651277e7ddb81e8e96c6bcbd  Google 사용자   \n",
       "3     651277e7ddb81e8e96c6bcbe         한반도   \n",
       "4     651277e7ddb81e8e96c6bcbf         나수인   \n",
       "...                        ...         ...   \n",
       "2873  651277e7ddb81e8e96c6c7f4  Google 사용자   \n",
       "2874  651277e7ddb81e8e96c6c7f5  Google 사용자   \n",
       "2875  651277e7ddb81e8e96c6c7f6  Google 사용자   \n",
       "2876  651277e7ddb81e8e96c6c7f7  Say Cheese   \n",
       "2877  651277e7ddb81e8e96c6c7f8  Google 사용자   \n",
       "\n",
       "                                                reviews                 stars  \n",
       "0     입장방식은 변경됐는데 어플은 여전히 바코드만 보여집니다. 짐에서는 더이상 바코드스캔...  별표 5개 만점에 1개를 받았습니다.  \n",
       "1     정말 답답하네요 하나. GPS 100프로 신뢰하나요? 시설선택목록에서 안보임 4월말...  별표 5개 만점에 1개를 받았습니다.  \n",
       "2     입장하려다 시설검색이 안되서 결국 다른곳에 입장했습니다. 기존에 잘 쓰던 앱이 업데...  별표 5개 만점에 1개를 받았습니다.  \n",
       "3     평소 이동이 잦고 여러장소에서 운동하는걸 좋아하는 저에게는 합리적인 아이코젠이 정말...  별표 5개 만점에 5개를 받았습니다.  \n",
       "4     아이코젠 덕분에 운동이 더 즐겁고 꾸준하게 하게 되었어요. 사용기록이 꼼꼼히 남고 ...  별표 5개 만점에 5개를 받았습니다.  \n",
       "...                                                 ...                   ...  \n",
       "2873                                                좋아요                   NaN  \n",
       "2874                                              좋아용~!                   NaN  \n",
       "2875                                                좋아용                   NaN  \n",
       "2876                                              너무느려요                   NaN  \n",
       "2877                                              아주좋아여                   NaN  \n",
       "\n",
       "[2878 rows x 4 columns]"
      ]
     },
     "execution_count": 16,
     "metadata": {},
     "output_type": "execute_result"
    }
   ],
   "source": [
    "df = df.drop(columns=['Unnamed: 0'])\n",
    "df"
   ]
  },
  {
   "cell_type": "markdown",
   "metadata": {
    "id": "L86_VV1Ajuj0"
   },
   "source": [
    "### reviews에 대한 결측치 확인"
   ]
  },
  {
   "cell_type": "code",
   "execution_count": 17,
   "metadata": {
    "colab": {
     "base_uri": "https://localhost:8080/"
    },
    "id": "BYcFa97Eh0hl",
    "outputId": "3371b0f8-1d4f-4552-e848-f72e0ec37799",
    "tags": []
   },
   "outputs": [
    {
     "name": "stdout",
     "output_type": "stream",
     "text": [
      "<class 'pandas.core.frame.DataFrame'>\n",
      "RangeIndex: 2878 entries, 0 to 2877\n",
      "Data columns (total 4 columns):\n",
      " #   Column   Non-Null Count  Dtype \n",
      "---  ------   --------------  ----- \n",
      " 0   _id      2878 non-null   object\n",
      " 1   name     2878 non-null   object\n",
      " 2   reviews  2878 non-null   object\n",
      " 3   stars    2118 non-null   object\n",
      "dtypes: object(4)\n",
      "memory usage: 90.1+ KB\n"
     ]
    }
   ],
   "source": [
    "df.info()"
   ]
  },
  {
   "cell_type": "code",
   "execution_count": 18,
   "metadata": {
    "colab": {
     "base_uri": "https://localhost:8080/"
    },
    "id": "mmrnqCWRjXDz",
    "outputId": "176ed7c8-8e4a-464c-d7c4-1666897bafa7",
    "tags": []
   },
   "outputs": [
    {
     "data": {
      "text/plain": [
       "0       입장방식은 변경됐는데 어플은 여전히 바코드만 보여집니다. 짐에서는 더이상 바코드스캔...\n",
       "1       정말 답답하네요 하나. GPS 100프로 신뢰하나요? 시설선택목록에서 안보임 4월말...\n",
       "2       입장하려다 시설검색이 안되서 결국 다른곳에 입장했습니다. 기존에 잘 쓰던 앱이 업데...\n",
       "3       평소 이동이 잦고 여러장소에서 운동하는걸 좋아하는 저에게는 합리적인 아이코젠이 정말...\n",
       "4       아이코젠 덕분에 운동이 더 즐겁고 꾸준하게 하게 되었어요. 사용기록이 꼼꼼히 남고 ...\n",
       "                              ...                        \n",
       "2873                                                  좋아요\n",
       "2874                                                좋아용~!\n",
       "2875                                                  좋아용\n",
       "2876                                                너무느려요\n",
       "2877                                                아주좋아여\n",
       "Name: reviews, Length: 2878, dtype: object"
      ]
     },
     "execution_count": 18,
     "metadata": {},
     "output_type": "execute_result"
    }
   ],
   "source": [
    "df['reviews'].isnull().sum()\n",
    "df['reviews']"
   ]
  },
  {
   "cell_type": "markdown",
   "metadata": {
    "id": "83hyxjQOj3YC"
   },
   "source": [
    "### 자연어 전처리"
   ]
  },
  {
   "cell_type": "markdown",
   "metadata": {
    "id": "QRtXWhoLsm-g"
   },
   "source": [
    "#### 유사어 대치"
   ]
  },
  {
   "cell_type": "code",
   "execution_count": 19,
   "metadata": {
    "colab": {
     "base_uri": "https://localhost:8080/",
     "height": 363
    },
    "id": "yfduHWPxsja4",
    "outputId": "11fd62ea-3ddc-4a2c-e29f-13bfdc2741eb",
    "tags": []
   },
   "outputs": [
    {
     "data": {
      "text/html": [
       "<div>\n",
       "<style scoped>\n",
       "    .dataframe tbody tr th:only-of-type {\n",
       "        vertical-align: middle;\n",
       "    }\n",
       "\n",
       "    .dataframe tbody tr th {\n",
       "        vertical-align: top;\n",
       "    }\n",
       "\n",
       "    .dataframe thead th {\n",
       "        text-align: right;\n",
       "    }\n",
       "</style>\n",
       "<table border=\"1\" class=\"dataframe\">\n",
       "  <thead>\n",
       "    <tr style=\"text-align: right;\">\n",
       "      <th></th>\n",
       "      <th>before_replacement</th>\n",
       "      <th>after_replacement</th>\n",
       "    </tr>\n",
       "  </thead>\n",
       "  <tbody>\n",
       "    <tr>\n",
       "      <th>40</th>\n",
       "      <td>핏데이</td>\n",
       "      <td>사이트</td>\n",
       "    </tr>\n",
       "    <tr>\n",
       "      <th>41</th>\n",
       "      <td>엡</td>\n",
       "      <td>사이트</td>\n",
       "    </tr>\n",
       "    <tr>\n",
       "      <th>42</th>\n",
       "      <td>옙</td>\n",
       "      <td>사이트</td>\n",
       "    </tr>\n",
       "    <tr>\n",
       "      <th>43</th>\n",
       "      <td>앱</td>\n",
       "      <td>사이트</td>\n",
       "    </tr>\n",
       "    <tr>\n",
       "      <th>44</th>\n",
       "      <td>가맹점</td>\n",
       "      <td>운동시설</td>\n",
       "    </tr>\n",
       "    <tr>\n",
       "      <th>45</th>\n",
       "      <td>쎈타</td>\n",
       "      <td>운동시설</td>\n",
       "    </tr>\n",
       "    <tr>\n",
       "      <th>46</th>\n",
       "      <td>매장</td>\n",
       "      <td>운동시설</td>\n",
       "    </tr>\n",
       "    <tr>\n",
       "      <th>47</th>\n",
       "      <td>휘트니스</td>\n",
       "      <td>운동시설</td>\n",
       "    </tr>\n",
       "    <tr>\n",
       "      <th>48</th>\n",
       "      <td>센터</td>\n",
       "      <td>운동시설</td>\n",
       "    </tr>\n",
       "    <tr>\n",
       "      <th>49</th>\n",
       "      <td>스포츠센터</td>\n",
       "      <td>운동시설</td>\n",
       "    </tr>\n",
       "  </tbody>\n",
       "</table>\n",
       "</div>"
      ],
      "text/plain": [
       "   before_replacement after_replacement\n",
       "40                핏데이               사이트\n",
       "41                  엡               사이트\n",
       "42                  옙               사이트\n",
       "43                  앱               사이트\n",
       "44                가맹점              운동시설\n",
       "45                 쎈타              운동시설\n",
       "46                 매장              운동시설\n",
       "47               휘트니스              운동시설\n",
       "48                 센터              운동시설\n",
       "49              스포츠센터              운동시설"
      ]
     },
     "execution_count": 19,
     "metadata": {},
     "output_type": "execute_result"
    }
   ],
   "source": [
    "# replace_list = pd.read_excel('/content/drive/MyDrive/Colab Notebooks/2023pythons/datasets/replace_concat.xlsx.xlsx의 사본')\n",
    "replace_list = pd.read_excel('../../datasets/replace_concat.csv.xlsx')\n",
    "replace_list[40:50]"
   ]
  },
  {
   "cell_type": "code",
   "execution_count": 20,
   "metadata": {
    "id": "rn_CG84O1Qea",
    "tags": []
   },
   "outputs": [],
   "source": [
    "from mecab import MeCab\n",
    "mecab = MeCab()\n",
    "def replace_word(reviews):\n",
    "    replaced_review = reviews\n",
    "    for i in range(len(replace_list['before_replacement'])):\n",
    "        try:\n",
    "            if replace_list['before_replacement'][i].lower() in replaced_review.lower():\n",
    "                replaced_review = replaced_review.replace(replace_list['before_replacement'][i], replace_list['after_replacement'][i])\n",
    "        except Exception as e:\n",
    "            print(f\"Error 발생 / 에러명: {e}\")\n",
    "    return replaced_review\n"
   ]
  },
  {
   "cell_type": "code",
   "execution_count": 21,
   "metadata": {
    "id": "vMQ5pee6vVDw",
    "tags": []
   },
   "outputs": [],
   "source": [
    "# def replace_word(tokenized_review):\n",
    "#   replaced_review = str()\n",
    "#   for i in range(len(replace_list['before_replacement'])):\n",
    "#     try:\n",
    "#       # 치환할 단어가 있는 경우에만 데이터 치환 수행\n",
    "#       if replace_list['before_replacement'][i] in tokenized_review:\n",
    "#         replaced_review = tokenized_review.replace(replace_list['before_replacement'][i], replace_list['after_replacement'][i])\n",
    "#       else :\n",
    "#         replaced_review = tokenized_review\n",
    "#     except Exception as e:\n",
    "#       print(f\"Error 발생 / 에러명: {e}\")\n",
    "#       replaced_review = tokenized_review\n",
    "#   return replaced_review"
   ]
  },
  {
   "cell_type": "code",
   "execution_count": 22,
   "metadata": {
    "colab": {
     "base_uri": "https://localhost:8080/",
     "height": 35
    },
    "id": "Imi7XHkcV-9L",
    "outputId": "790df2a9-172a-400c-878e-0216020f6c33",
    "tags": []
   },
   "outputs": [
    {
     "data": {
      "text/plain": [
       "'입장 시설 검색 곳 입장 기존 사이트 개선 후 로그인 위치 자동 검색 시설 수동 검색 후 입장 기능 불편 덕분 사이트 번 삭제 데 이타 예전 사이트'"
      ]
     },
     "execution_count": 22,
     "metadata": {},
     "output_type": "execute_result"
    }
   ],
   "source": [
    "replace_word('입장 시설 검색 곳 입장 기존 앱 업데이트 후 로그인 위치 자동 검색 시설 수동 검색 후 입장 기능 불편 덕분 앱 번 삭제 데 이타 예전 앱')"
   ]
  },
  {
   "cell_type": "code",
   "execution_count": 23,
   "metadata": {
    "colab": {
     "base_uri": "https://localhost:8080/",
     "height": 293
    },
    "id": "kt0jzUYPviSP",
    "outputId": "d1a81942-a66f-49fb-9853-b980948d0d81",
    "tags": []
   },
   "outputs": [
    {
     "data": {
      "text/html": [
       "<div>\n",
       "<style scoped>\n",
       "    .dataframe tbody tr th:only-of-type {\n",
       "        vertical-align: middle;\n",
       "    }\n",
       "\n",
       "    .dataframe tbody tr th {\n",
       "        vertical-align: top;\n",
       "    }\n",
       "\n",
       "    .dataframe thead th {\n",
       "        text-align: right;\n",
       "    }\n",
       "</style>\n",
       "<table border=\"1\" class=\"dataframe\">\n",
       "  <thead>\n",
       "    <tr style=\"text-align: right;\">\n",
       "      <th></th>\n",
       "      <th>_id</th>\n",
       "      <th>name</th>\n",
       "      <th>reviews</th>\n",
       "      <th>stars</th>\n",
       "      <th>replaced_review</th>\n",
       "    </tr>\n",
       "  </thead>\n",
       "  <tbody>\n",
       "    <tr>\n",
       "      <th>0</th>\n",
       "      <td>651277e7ddb81e8e96c6bcbb</td>\n",
       "      <td>Google 사용자</td>\n",
       "      <td>입장방식은 변경됐는데 어플은 여전히 바코드만 보여집니다. 짐에서는 더이상 바코드스캔...</td>\n",
       "      <td>별표 5개 만점에 1개를 받았습니다.</td>\n",
       "      <td>입장방식은 수정됐는데 사이트은 여전히 바코드만 보여집니다. 운동시설에서는 더이상 바...</td>\n",
       "    </tr>\n",
       "    <tr>\n",
       "      <th>1</th>\n",
       "      <td>651277e7ddb81e8e96c6bcbc</td>\n",
       "      <td>Google 사용자</td>\n",
       "      <td>정말 답답하네요 하나. GPS 100프로 신뢰하나요? 시설선택목록에서 안보임 4월말...</td>\n",
       "      <td>별표 5개 만점에 1개를 받았습니다.</td>\n",
       "      <td>정말 답답하네요 하나. GPS 100프로 신뢰하나요? 시설선택목록에서 안보임 4월말...</td>\n",
       "    </tr>\n",
       "    <tr>\n",
       "      <th>2</th>\n",
       "      <td>651277e7ddb81e8e96c6bcbd</td>\n",
       "      <td>Google 사용자</td>\n",
       "      <td>입장하려다 시설검색이 안되서 결국 다른곳에 입장했습니다. 기존에 잘 쓰던 앱이 업데...</td>\n",
       "      <td>별표 5개 만점에 1개를 받았습니다.</td>\n",
       "      <td>입장하려다 시설검색이 안되서 결국 다른곳에 입장했습니다. 기존에 잘 쓰던 사이트이 ...</td>\n",
       "    </tr>\n",
       "    <tr>\n",
       "      <th>3</th>\n",
       "      <td>651277e7ddb81e8e96c6bcbe</td>\n",
       "      <td>한반도</td>\n",
       "      <td>평소 이동이 잦고 여러장소에서 운동하는걸 좋아하는 저에게는 합리적인 아이코젠이 정말...</td>\n",
       "      <td>별표 5개 만점에 5개를 받았습니다.</td>\n",
       "      <td>평소 이동이 잦고 여러장소에서 운동하는걸 좋아하는 저에게는 합리적인 아이코젠이 정말...</td>\n",
       "    </tr>\n",
       "    <tr>\n",
       "      <th>4</th>\n",
       "      <td>651277e7ddb81e8e96c6bcbf</td>\n",
       "      <td>나수인</td>\n",
       "      <td>아이코젠 덕분에 운동이 더 즐겁고 꾸준하게 하게 되었어요. 사용기록이 꼼꼼히 남고 ...</td>\n",
       "      <td>별표 5개 만점에 5개를 받았습니다.</td>\n",
       "      <td>아이코젠 덕분에 운동이 더 즐겁고 꾸준하게 하게 되었어요. 사용기록이 꼼꼼히 남고 ...</td>\n",
       "    </tr>\n",
       "  </tbody>\n",
       "</table>\n",
       "</div>"
      ],
      "text/plain": [
       "                        _id        name  \\\n",
       "0  651277e7ddb81e8e96c6bcbb  Google 사용자   \n",
       "1  651277e7ddb81e8e96c6bcbc  Google 사용자   \n",
       "2  651277e7ddb81e8e96c6bcbd  Google 사용자   \n",
       "3  651277e7ddb81e8e96c6bcbe         한반도   \n",
       "4  651277e7ddb81e8e96c6bcbf         나수인   \n",
       "\n",
       "                                             reviews                 stars  \\\n",
       "0  입장방식은 변경됐는데 어플은 여전히 바코드만 보여집니다. 짐에서는 더이상 바코드스캔...  별표 5개 만점에 1개를 받았습니다.   \n",
       "1  정말 답답하네요 하나. GPS 100프로 신뢰하나요? 시설선택목록에서 안보임 4월말...  별표 5개 만점에 1개를 받았습니다.   \n",
       "2  입장하려다 시설검색이 안되서 결국 다른곳에 입장했습니다. 기존에 잘 쓰던 앱이 업데...  별표 5개 만점에 1개를 받았습니다.   \n",
       "3  평소 이동이 잦고 여러장소에서 운동하는걸 좋아하는 저에게는 합리적인 아이코젠이 정말...  별표 5개 만점에 5개를 받았습니다.   \n",
       "4  아이코젠 덕분에 운동이 더 즐겁고 꾸준하게 하게 되었어요. 사용기록이 꼼꼼히 남고 ...  별표 5개 만점에 5개를 받았습니다.   \n",
       "\n",
       "                                     replaced_review  \n",
       "0  입장방식은 수정됐는데 사이트은 여전히 바코드만 보여집니다. 운동시설에서는 더이상 바...  \n",
       "1  정말 답답하네요 하나. GPS 100프로 신뢰하나요? 시설선택목록에서 안보임 4월말...  \n",
       "2  입장하려다 시설검색이 안되서 결국 다른곳에 입장했습니다. 기존에 잘 쓰던 사이트이 ...  \n",
       "3  평소 이동이 잦고 여러장소에서 운동하는걸 좋아하는 저에게는 합리적인 아이코젠이 정말...  \n",
       "4  아이코젠 덕분에 운동이 더 즐겁고 꾸준하게 하게 되었어요. 사용기록이 꼼꼼히 남고 ...  "
      ]
     },
     "execution_count": 23,
     "metadata": {},
     "output_type": "execute_result"
    }
   ],
   "source": [
    "df['replaced_review'] = df['reviews'].apply(replace_word)\n",
    "df[:5]"
   ]
  },
  {
   "cell_type": "markdown",
   "metadata": {
    "id": "O3dw250NqLDh"
   },
   "source": [
    "#### 불용어 처리"
   ]
  },
  {
   "cell_type": "code",
   "execution_count": 24,
   "metadata": {
    "colab": {
     "base_uri": "https://localhost:8080/",
     "height": 206
    },
    "id": "KvsmCWvxji8j",
    "outputId": "8e09a098-f01d-4f60-caa2-d922db6b2db5",
    "tags": []
   },
   "outputs": [
    {
     "data": {
      "text/html": [
       "<div>\n",
       "<style scoped>\n",
       "    .dataframe tbody tr th:only-of-type {\n",
       "        vertical-align: middle;\n",
       "    }\n",
       "\n",
       "    .dataframe tbody tr th {\n",
       "        vertical-align: top;\n",
       "    }\n",
       "\n",
       "    .dataframe thead th {\n",
       "        text-align: right;\n",
       "    }\n",
       "</style>\n",
       "<table border=\"1\" class=\"dataframe\">\n",
       "  <thead>\n",
       "    <tr style=\"text-align: right;\">\n",
       "      <th></th>\n",
       "      <th>stopword</th>\n",
       "    </tr>\n",
       "  </thead>\n",
       "  <tbody>\n",
       "    <tr>\n",
       "      <th>0</th>\n",
       "      <td>가</td>\n",
       "    </tr>\n",
       "    <tr>\n",
       "      <th>1</th>\n",
       "      <td>가까스로</td>\n",
       "    </tr>\n",
       "    <tr>\n",
       "      <th>2</th>\n",
       "      <td>가량</td>\n",
       "    </tr>\n",
       "    <tr>\n",
       "      <th>3</th>\n",
       "      <td>가령</td>\n",
       "    </tr>\n",
       "    <tr>\n",
       "      <th>4</th>\n",
       "      <td>가민</td>\n",
       "    </tr>\n",
       "  </tbody>\n",
       "</table>\n",
       "</div>"
      ],
      "text/plain": [
       "  stopword\n",
       "0        가\n",
       "1     가까스로\n",
       "2       가량\n",
       "3       가령\n",
       "4       가민"
      ]
     },
     "execution_count": 24,
     "metadata": {},
     "output_type": "execute_result"
    }
   ],
   "source": [
    "# df_stopwords = pd.read_excel('/content/drive/MyDrive/Colab Notebooks/2023pythons/datasets/불용어concat.xlsx')\n",
    "df_stopwords = pd.read_excel('../../datasets/불용어concat.xlsx')\n",
    "df_stopwords[:5]"
   ]
  },
  {
   "cell_type": "code",
   "execution_count": 25,
   "metadata": {
    "id": "TLcNOvViqZO5",
    "tags": []
   },
   "outputs": [],
   "source": [
    "stopwords = df_stopwords['stopword'].values\n",
    "# 토크나이징 함수 정의(한자 이상 적용. 불용어 삭제)\n",
    "def tokenizer(replaced_review):\n",
    "    result_list = list()\n",
    "    # for word in replaced_review :\n",
    "    for word in mecab.nouns(replaced_review) :\n",
    "      if word not in stopwords:\n",
    "          result_list.append(word)\n",
    "    # 일부 경우(토큰 갯수 제한)\n",
    "    # if len(result_list) <= 3 or len(result_list) < 12 :\n",
    "    #   result_list\n",
    "    return ' '.join(result_list) # return str"
   ]
  },
  {
   "cell_type": "code",
   "execution_count": 26,
   "metadata": {
    "tags": []
   },
   "outputs": [
    {
     "data": {
      "text/plain": [
       "'말 개별 개의 거니 거 바'"
      ]
     },
     "execution_count": 26,
     "metadata": {},
     "output_type": "execute_result"
    }
   ],
   "source": [
    "tokenizer('가까스로,가량,가령,가민,가슴,가슴살,가요,가위바위보,가지,각,각각,각자,각종,갖고말하자면,같다,같아요,같이,개별로,개월,개의치않고,거기,거니와,거바,거의,건가,건가요,건데,건지,걸까요,걸로')"
   ]
  },
  {
   "cell_type": "code",
   "execution_count": 27,
   "metadata": {
    "colab": {
     "base_uri": "https://localhost:8080/",
     "height": 380
    },
    "collapsed": true,
    "id": "xdbenEwYr2wp",
    "jupyter": {
     "outputs_hidden": true
    },
    "outputId": "b516e1ff-1bb8-40b3-e7ea-3a3f5b69e6b3",
    "tags": []
   },
   "outputs": [
    {
     "data": {
      "text/html": [
       "<div>\n",
       "<style scoped>\n",
       "    .dataframe tbody tr th:only-of-type {\n",
       "        vertical-align: middle;\n",
       "    }\n",
       "\n",
       "    .dataframe tbody tr th {\n",
       "        vertical-align: top;\n",
       "    }\n",
       "\n",
       "    .dataframe thead th {\n",
       "        text-align: right;\n",
       "    }\n",
       "</style>\n",
       "<table border=\"1\" class=\"dataframe\">\n",
       "  <thead>\n",
       "    <tr style=\"text-align: right;\">\n",
       "      <th></th>\n",
       "      <th>_id</th>\n",
       "      <th>name</th>\n",
       "      <th>reviews</th>\n",
       "      <th>stars</th>\n",
       "      <th>replaced_review</th>\n",
       "      <th>tokenized_review</th>\n",
       "    </tr>\n",
       "  </thead>\n",
       "  <tbody>\n",
       "    <tr>\n",
       "      <th>0</th>\n",
       "      <td>651277e7ddb81e8e96c6bcbb</td>\n",
       "      <td>Google 사용자</td>\n",
       "      <td>입장방식은 변경됐는데 어플은 여전히 바코드만 보여집니다. 짐에서는 더이상 바코드스캔...</td>\n",
       "      <td>별표 5개 만점에 1개를 받았습니다.</td>\n",
       "      <td>입장방식은 수정됐는데 사이트은 여전히 바코드만 보여집니다. 운동시설에서는 더이상 바...</td>\n",
       "      <td>입장 방식 수정 사이트 바코드 운동 시설 바코드 스캔 사이트 입장 사용료 상황 전 ...</td>\n",
       "    </tr>\n",
       "    <tr>\n",
       "      <th>1</th>\n",
       "      <td>651277e7ddb81e8e96c6bcbc</td>\n",
       "      <td>Google 사용자</td>\n",
       "      <td>정말 답답하네요 하나. GPS 100프로 신뢰하나요? 시설선택목록에서 안보임 4월말...</td>\n",
       "      <td>별표 5개 만점에 1개를 받았습니다.</td>\n",
       "      <td>정말 답답하네요 하나. GPS 100프로 신뢰하나요? 시설선택목록에서 안보임 4월말...</td>\n",
       "      <td>프로 신뢰 시설 선택 목록 말 개선 문제 은행 로그인 타임아웃 적용 불편 감수 개선...</td>\n",
       "    </tr>\n",
       "    <tr>\n",
       "      <th>2</th>\n",
       "      <td>651277e7ddb81e8e96c6bcbd</td>\n",
       "      <td>Google 사용자</td>\n",
       "      <td>입장하려다 시설검색이 안되서 결국 다른곳에 입장했습니다. 기존에 잘 쓰던 앱이 업데...</td>\n",
       "      <td>별표 5개 만점에 1개를 받았습니다.</td>\n",
       "      <td>입장하려다 시설검색이 안되서 결국 다른곳에 입장했습니다. 기존에 잘 쓰던 사이트이 ...</td>\n",
       "      <td>입장 시설 검색 곳 입장 기존 사이트 개선 후 로그인 위치 자동 검색 시설 수동 검...</td>\n",
       "    </tr>\n",
       "    <tr>\n",
       "      <th>3</th>\n",
       "      <td>651277e7ddb81e8e96c6bcbe</td>\n",
       "      <td>한반도</td>\n",
       "      <td>평소 이동이 잦고 여러장소에서 운동하는걸 좋아하는 저에게는 합리적인 아이코젠이 정말...</td>\n",
       "      <td>별표 5개 만점에 5개를 받았습니다.</td>\n",
       "      <td>평소 이동이 잦고 여러장소에서 운동하는걸 좋아하는 저에게는 합리적인 아이코젠이 정말...</td>\n",
       "      <td>이동 장소 운동 걸 합리 코젠 제휴 업체 추가 업체 방문 게 낙 입장 방식 바코드 ...</td>\n",
       "    </tr>\n",
       "    <tr>\n",
       "      <th>4</th>\n",
       "      <td>651277e7ddb81e8e96c6bcbf</td>\n",
       "      <td>나수인</td>\n",
       "      <td>아이코젠 덕분에 운동이 더 즐겁고 꾸준하게 하게 되었어요. 사용기록이 꼼꼼히 남고 ...</td>\n",
       "      <td>별표 5개 만점에 5개를 받았습니다.</td>\n",
       "      <td>아이코젠 덕분에 운동이 더 즐겁고 꾸준하게 하게 되었어요. 사용기록이 꼼꼼히 남고 ...</td>\n",
       "      <td>아이코 젠 덕분 운동 기록 지점 출장 본가 지속 수 점 짱 라이프 코스 중 덕분 비 대박</td>\n",
       "    </tr>\n",
       "  </tbody>\n",
       "</table>\n",
       "</div>"
      ],
      "text/plain": [
       "                        _id        name  \\\n",
       "0  651277e7ddb81e8e96c6bcbb  Google 사용자   \n",
       "1  651277e7ddb81e8e96c6bcbc  Google 사용자   \n",
       "2  651277e7ddb81e8e96c6bcbd  Google 사용자   \n",
       "3  651277e7ddb81e8e96c6bcbe         한반도   \n",
       "4  651277e7ddb81e8e96c6bcbf         나수인   \n",
       "\n",
       "                                             reviews                 stars  \\\n",
       "0  입장방식은 변경됐는데 어플은 여전히 바코드만 보여집니다. 짐에서는 더이상 바코드스캔...  별표 5개 만점에 1개를 받았습니다.   \n",
       "1  정말 답답하네요 하나. GPS 100프로 신뢰하나요? 시설선택목록에서 안보임 4월말...  별표 5개 만점에 1개를 받았습니다.   \n",
       "2  입장하려다 시설검색이 안되서 결국 다른곳에 입장했습니다. 기존에 잘 쓰던 앱이 업데...  별표 5개 만점에 1개를 받았습니다.   \n",
       "3  평소 이동이 잦고 여러장소에서 운동하는걸 좋아하는 저에게는 합리적인 아이코젠이 정말...  별표 5개 만점에 5개를 받았습니다.   \n",
       "4  아이코젠 덕분에 운동이 더 즐겁고 꾸준하게 하게 되었어요. 사용기록이 꼼꼼히 남고 ...  별표 5개 만점에 5개를 받았습니다.   \n",
       "\n",
       "                                     replaced_review  \\\n",
       "0  입장방식은 수정됐는데 사이트은 여전히 바코드만 보여집니다. 운동시설에서는 더이상 바...   \n",
       "1  정말 답답하네요 하나. GPS 100프로 신뢰하나요? 시설선택목록에서 안보임 4월말...   \n",
       "2  입장하려다 시설검색이 안되서 결국 다른곳에 입장했습니다. 기존에 잘 쓰던 사이트이 ...   \n",
       "3  평소 이동이 잦고 여러장소에서 운동하는걸 좋아하는 저에게는 합리적인 아이코젠이 정말...   \n",
       "4  아이코젠 덕분에 운동이 더 즐겁고 꾸준하게 하게 되었어요. 사용기록이 꼼꼼히 남고 ...   \n",
       "\n",
       "                                    tokenized_review  \n",
       "0  입장 방식 수정 사이트 바코드 운동 시설 바코드 스캔 사이트 입장 사용료 상황 전 ...  \n",
       "1  프로 신뢰 시설 선택 목록 말 개선 문제 은행 로그인 타임아웃 적용 불편 감수 개선...  \n",
       "2  입장 시설 검색 곳 입장 기존 사이트 개선 후 로그인 위치 자동 검색 시설 수동 검...  \n",
       "3  이동 장소 운동 걸 합리 코젠 제휴 업체 추가 업체 방문 게 낙 입장 방식 바코드 ...  \n",
       "4  아이코 젠 덕분 운동 기록 지점 출장 본가 지속 수 점 짱 라이프 코스 중 덕분 비 대박  "
      ]
     },
     "execution_count": 27,
     "metadata": {},
     "output_type": "execute_result"
    }
   ],
   "source": [
    "df['tokenized_review'] = df['replaced_review'].apply(tokenizer)\n",
    "df[:5]"
   ]
  },
  {
   "cell_type": "markdown",
   "metadata": {
    "id": "fzu357dswdGA"
   },
   "source": [
    "### 한단어 처리"
   ]
  },
  {
   "cell_type": "code",
   "execution_count": 28,
   "metadata": {
    "colab": {
     "base_uri": "https://localhost:8080/",
     "height": 175
    },
    "id": "a1F4qgClv0pH",
    "outputId": "200e6bf7-d313-4736-f991-abfb1dfda1a9",
    "tags": []
   },
   "outputs": [
    {
     "ename": "FileNotFoundError",
     "evalue": "[Errno 2] No such file or directory: '/content/drive/MyDrive/Colab Notebooks/2023pythons/datasets/한단어_concat.xlsx'",
     "output_type": "error",
     "traceback": [
      "\u001b[1;31m---------------------------------------------------------------------------\u001b[0m",
      "\u001b[1;31mFileNotFoundError\u001b[0m                         Traceback (most recent call last)",
      "Cell \u001b[1;32mIn[28], line 1\u001b[0m\n\u001b[1;32m----> 1\u001b[0m df_oneword \u001b[38;5;241m=\u001b[39m pd\u001b[38;5;241m.\u001b[39mread_excel(\u001b[38;5;124m'\u001b[39m\u001b[38;5;124m/content/drive/MyDrive/Colab Notebooks/2023pythons/datasets/한단어_concat.xlsx\u001b[39m\u001b[38;5;124m'\u001b[39m)\n\u001b[0;32m      2\u001b[0m df_oneword[:\u001b[38;5;241m4\u001b[39m]\n",
      "File \u001b[1;32m~\\anaconda3\\Lib\\site-packages\\pandas\\util\\_decorators.py:211\u001b[0m, in \u001b[0;36mdeprecate_kwarg.<locals>._deprecate_kwarg.<locals>.wrapper\u001b[1;34m(*args, **kwargs)\u001b[0m\n\u001b[0;32m    209\u001b[0m     \u001b[38;5;28;01melse\u001b[39;00m:\n\u001b[0;32m    210\u001b[0m         kwargs[new_arg_name] \u001b[38;5;241m=\u001b[39m new_arg_value\n\u001b[1;32m--> 211\u001b[0m \u001b[38;5;28;01mreturn\u001b[39;00m func(\u001b[38;5;241m*\u001b[39margs, \u001b[38;5;241m*\u001b[39m\u001b[38;5;241m*\u001b[39mkwargs)\n",
      "File \u001b[1;32m~\\anaconda3\\Lib\\site-packages\\pandas\\util\\_decorators.py:331\u001b[0m, in \u001b[0;36mdeprecate_nonkeyword_arguments.<locals>.decorate.<locals>.wrapper\u001b[1;34m(*args, **kwargs)\u001b[0m\n\u001b[0;32m    325\u001b[0m \u001b[38;5;28;01mif\u001b[39;00m \u001b[38;5;28mlen\u001b[39m(args) \u001b[38;5;241m>\u001b[39m num_allow_args:\n\u001b[0;32m    326\u001b[0m     warnings\u001b[38;5;241m.\u001b[39mwarn(\n\u001b[0;32m    327\u001b[0m         msg\u001b[38;5;241m.\u001b[39mformat(arguments\u001b[38;5;241m=\u001b[39m_format_argument_list(allow_args)),\n\u001b[0;32m    328\u001b[0m         \u001b[38;5;167;01mFutureWarning\u001b[39;00m,\n\u001b[0;32m    329\u001b[0m         stacklevel\u001b[38;5;241m=\u001b[39mfind_stack_level(),\n\u001b[0;32m    330\u001b[0m     )\n\u001b[1;32m--> 331\u001b[0m \u001b[38;5;28;01mreturn\u001b[39;00m func(\u001b[38;5;241m*\u001b[39margs, \u001b[38;5;241m*\u001b[39m\u001b[38;5;241m*\u001b[39mkwargs)\n",
      "File \u001b[1;32m~\\anaconda3\\Lib\\site-packages\\pandas\\io\\excel\\_base.py:482\u001b[0m, in \u001b[0;36mread_excel\u001b[1;34m(io, sheet_name, header, names, index_col, usecols, squeeze, dtype, engine, converters, true_values, false_values, skiprows, nrows, na_values, keep_default_na, na_filter, verbose, parse_dates, date_parser, thousands, decimal, comment, skipfooter, convert_float, mangle_dupe_cols, storage_options)\u001b[0m\n\u001b[0;32m    480\u001b[0m \u001b[38;5;28;01mif\u001b[39;00m \u001b[38;5;129;01mnot\u001b[39;00m \u001b[38;5;28misinstance\u001b[39m(io, ExcelFile):\n\u001b[0;32m    481\u001b[0m     should_close \u001b[38;5;241m=\u001b[39m \u001b[38;5;28;01mTrue\u001b[39;00m\n\u001b[1;32m--> 482\u001b[0m     io \u001b[38;5;241m=\u001b[39m ExcelFile(io, storage_options\u001b[38;5;241m=\u001b[39mstorage_options, engine\u001b[38;5;241m=\u001b[39mengine)\n\u001b[0;32m    483\u001b[0m \u001b[38;5;28;01melif\u001b[39;00m engine \u001b[38;5;129;01mand\u001b[39;00m engine \u001b[38;5;241m!=\u001b[39m io\u001b[38;5;241m.\u001b[39mengine:\n\u001b[0;32m    484\u001b[0m     \u001b[38;5;28;01mraise\u001b[39;00m \u001b[38;5;167;01mValueError\u001b[39;00m(\n\u001b[0;32m    485\u001b[0m         \u001b[38;5;124m\"\u001b[39m\u001b[38;5;124mEngine should not be specified when passing \u001b[39m\u001b[38;5;124m\"\u001b[39m\n\u001b[0;32m    486\u001b[0m         \u001b[38;5;124m\"\u001b[39m\u001b[38;5;124man ExcelFile - ExcelFile already has the engine set\u001b[39m\u001b[38;5;124m\"\u001b[39m\n\u001b[0;32m    487\u001b[0m     )\n",
      "File \u001b[1;32m~\\anaconda3\\Lib\\site-packages\\pandas\\io\\excel\\_base.py:1652\u001b[0m, in \u001b[0;36mExcelFile.__init__\u001b[1;34m(self, path_or_buffer, engine, storage_options)\u001b[0m\n\u001b[0;32m   1650\u001b[0m     ext \u001b[38;5;241m=\u001b[39m \u001b[38;5;124m\"\u001b[39m\u001b[38;5;124mxls\u001b[39m\u001b[38;5;124m\"\u001b[39m\n\u001b[0;32m   1651\u001b[0m \u001b[38;5;28;01melse\u001b[39;00m:\n\u001b[1;32m-> 1652\u001b[0m     ext \u001b[38;5;241m=\u001b[39m inspect_excel_format(\n\u001b[0;32m   1653\u001b[0m         content_or_path\u001b[38;5;241m=\u001b[39mpath_or_buffer, storage_options\u001b[38;5;241m=\u001b[39mstorage_options\n\u001b[0;32m   1654\u001b[0m     )\n\u001b[0;32m   1655\u001b[0m     \u001b[38;5;28;01mif\u001b[39;00m ext \u001b[38;5;129;01mis\u001b[39;00m \u001b[38;5;28;01mNone\u001b[39;00m:\n\u001b[0;32m   1656\u001b[0m         \u001b[38;5;28;01mraise\u001b[39;00m \u001b[38;5;167;01mValueError\u001b[39;00m(\n\u001b[0;32m   1657\u001b[0m             \u001b[38;5;124m\"\u001b[39m\u001b[38;5;124mExcel file format cannot be determined, you must specify \u001b[39m\u001b[38;5;124m\"\u001b[39m\n\u001b[0;32m   1658\u001b[0m             \u001b[38;5;124m\"\u001b[39m\u001b[38;5;124man engine manually.\u001b[39m\u001b[38;5;124m\"\u001b[39m\n\u001b[0;32m   1659\u001b[0m         )\n",
      "File \u001b[1;32m~\\anaconda3\\Lib\\site-packages\\pandas\\io\\excel\\_base.py:1525\u001b[0m, in \u001b[0;36minspect_excel_format\u001b[1;34m(content_or_path, storage_options)\u001b[0m\n\u001b[0;32m   1522\u001b[0m \u001b[38;5;28;01mif\u001b[39;00m \u001b[38;5;28misinstance\u001b[39m(content_or_path, \u001b[38;5;28mbytes\u001b[39m):\n\u001b[0;32m   1523\u001b[0m     content_or_path \u001b[38;5;241m=\u001b[39m BytesIO(content_or_path)\n\u001b[1;32m-> 1525\u001b[0m \u001b[38;5;28;01mwith\u001b[39;00m get_handle(\n\u001b[0;32m   1526\u001b[0m     content_or_path, \u001b[38;5;124m\"\u001b[39m\u001b[38;5;124mrb\u001b[39m\u001b[38;5;124m\"\u001b[39m, storage_options\u001b[38;5;241m=\u001b[39mstorage_options, is_text\u001b[38;5;241m=\u001b[39m\u001b[38;5;28;01mFalse\u001b[39;00m\n\u001b[0;32m   1527\u001b[0m ) \u001b[38;5;28;01mas\u001b[39;00m handle:\n\u001b[0;32m   1528\u001b[0m     stream \u001b[38;5;241m=\u001b[39m handle\u001b[38;5;241m.\u001b[39mhandle\n\u001b[0;32m   1529\u001b[0m     stream\u001b[38;5;241m.\u001b[39mseek(\u001b[38;5;241m0\u001b[39m)\n",
      "File \u001b[1;32m~\\anaconda3\\Lib\\site-packages\\pandas\\io\\common.py:865\u001b[0m, in \u001b[0;36mget_handle\u001b[1;34m(path_or_buf, mode, encoding, compression, memory_map, is_text, errors, storage_options)\u001b[0m\n\u001b[0;32m    856\u001b[0m         handle \u001b[38;5;241m=\u001b[39m \u001b[38;5;28mopen\u001b[39m(\n\u001b[0;32m    857\u001b[0m             handle,\n\u001b[0;32m    858\u001b[0m             ioargs\u001b[38;5;241m.\u001b[39mmode,\n\u001b[1;32m   (...)\u001b[0m\n\u001b[0;32m    861\u001b[0m             newline\u001b[38;5;241m=\u001b[39m\u001b[38;5;124m\"\u001b[39m\u001b[38;5;124m\"\u001b[39m,\n\u001b[0;32m    862\u001b[0m         )\n\u001b[0;32m    863\u001b[0m     \u001b[38;5;28;01melse\u001b[39;00m:\n\u001b[0;32m    864\u001b[0m         \u001b[38;5;66;03m# Binary mode\u001b[39;00m\n\u001b[1;32m--> 865\u001b[0m         handle \u001b[38;5;241m=\u001b[39m \u001b[38;5;28mopen\u001b[39m(handle, ioargs\u001b[38;5;241m.\u001b[39mmode)\n\u001b[0;32m    866\u001b[0m     handles\u001b[38;5;241m.\u001b[39mappend(handle)\n\u001b[0;32m    868\u001b[0m \u001b[38;5;66;03m# Convert BytesIO or file objects passed with an encoding\u001b[39;00m\n",
      "\u001b[1;31mFileNotFoundError\u001b[0m: [Errno 2] No such file or directory: '/content/drive/MyDrive/Colab Notebooks/2023pythons/datasets/한단어_concat.xlsx'"
     ]
    }
   ],
   "source": [
    "df_oneword = pd.read_excel('/content/drive/MyDrive/Colab Notebooks/2023pythons/datasets/한단어_concat.xlsx')\n",
    "df_oneword[:4]"
   ]
  },
  {
   "cell_type": "code",
   "execution_count": null,
   "metadata": {
    "colab": {
     "base_uri": "https://localhost:8080/"
    },
    "id": "KaT_aN8owoI2",
    "outputId": "2f9def6c-4693-4ccc-ebd3-25369fc2d639",
    "tags": []
   },
   "outputs": [],
   "source": [
    "df_tokenized_review = df['tokenized_review']\n",
    "df_tokenized_review"
   ]
  },
  {
   "cell_type": "code",
   "execution_count": null,
   "metadata": {
    "id": "jQMRfZev7ueH",
    "tags": []
   },
   "outputs": [],
   "source": [
    "onewords = df_oneword['one_char_keyword'].values\n",
    "def tokenizer2(tokenized_review):\n",
    "    oneword_result_list = list()\n",
    "    for word in mecab.nouns(tokenized_review):\n",
    "        # 대소문자 구분을 무시하고 1글자 키워드를 제거\n",
    "        if len(word) > 1 or word.lower() in onewords:\n",
    "            oneword_result_list.append(word)\n",
    "    # 명사가 없으면 None 반환\n",
    "    if not oneword_result_list:\n",
    "        return None\n",
    "    return ' '.join(oneword_result_list)  # return str"
   ]
  },
  {
   "cell_type": "code",
   "execution_count": null,
   "metadata": {
    "id": "NDBW312hS1-q",
    "tags": []
   },
   "outputs": [],
   "source": [
    "# onewords = df_oneword['one_char_keyword'].values\n",
    "# def tokenizer2(tokenized_review):\n",
    "#     oneword_result_list = list()\n",
    "#     for word in mecab.nouns(tokenized_review) :\n",
    "#       if len(word) > 0 and word not in onewords :\n",
    "#         oneword_result_list.append(word)\n",
    "#     return ' '.join(oneword_result_list) # return str"
   ]
  },
  {
   "cell_type": "code",
   "execution_count": null,
   "metadata": {
    "colab": {
     "base_uri": "https://localhost:8080/",
     "height": 35
    },
    "id": "sulsq_EKT91y",
    "outputId": "b9c91ac6-1c1a-4004-c232-9f81e6b9bac9",
    "tags": []
   },
   "outputs": [],
   "source": [
    "tokenizer2('아이코 젠 덕분 운동 기록 지점 출장 본가 지속 수 점 짱 라이프 코스 중 덕분 비 대박')"
   ]
  },
  {
   "cell_type": "code",
   "execution_count": null,
   "metadata": {
    "colab": {
     "base_uri": "https://localhost:8080/",
     "height": 1148
    },
    "id": "7ZAB5poVULnr",
    "outputId": "f69e7f3f-e3f1-4221-d52a-4c1096e5608b",
    "tags": []
   },
   "outputs": [],
   "source": [
    "df['oneword_review'] = df['tokenized_review'].apply(tokenizer2)\n",
    "df[:7]"
   ]
  },
  {
   "cell_type": "code",
   "execution_count": null,
   "metadata": {
    "id": "ZdpC5yMFVG_1"
   },
   "outputs": [],
   "source": []
  },
  {
   "cell_type": "code",
   "execution_count": null,
   "metadata": {},
   "outputs": [],
   "source": []
  }
 ],
 "metadata": {
  "colab": {
   "authorship_tag": "ABX9TyPWU7IolfLRf47LCBuFrMfo",
   "include_colab_link": true,
   "mount_file_id": "1cil0B5wu6YuC5uzCNSfZ8lI5XRYLJ0xC",
   "provenance": []
  },
  "kernelspec": {
   "display_name": "Python 3 (ipykernel)",
   "language": "python",
   "name": "python3"
  },
  "language_info": {
   "codemirror_mode": {
    "name": "ipython",
    "version": 3
   },
   "file_extension": ".py",
   "mimetype": "text/x-python",
   "name": "python",
   "nbconvert_exporter": "python",
   "pygments_lexer": "ipython3",
   "version": "3.11.3"
  }
 },
 "nbformat": 4,
 "nbformat_minor": 4
}
