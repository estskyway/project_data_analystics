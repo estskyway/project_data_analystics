{
 "cells": [
  {
   "cell_type": "code",
   "execution_count": 1,
   "id": "f3fb762c-9490-47ce-ba8d-ee47f10aeb9e",
   "metadata": {
    "tags": []
   },
   "outputs": [
    {
     "name": "stdout",
     "output_type": "stream",
     "text": [
      "Requirement already satisfied: pandas in c:\\users\\01-02\\anaconda3\\lib\\site-packages (2.1.1)\n",
      "Requirement already satisfied: numpy>=1.23.2 in c:\\users\\01-02\\anaconda3\\lib\\site-packages (from pandas) (1.24.3)\n",
      "Requirement already satisfied: python-dateutil>=2.8.2 in c:\\users\\01-02\\anaconda3\\lib\\site-packages (from pandas) (2.8.2)\n",
      "Requirement already satisfied: pytz>=2020.1 in c:\\users\\01-02\\anaconda3\\lib\\site-packages (from pandas) (2022.7)\n",
      "Requirement already satisfied: tzdata>=2022.1 in c:\\users\\01-02\\anaconda3\\lib\\site-packages (from pandas) (2023.3)\n",
      "Requirement already satisfied: six>=1.5 in c:\\users\\01-02\\anaconda3\\lib\\site-packages (from python-dateutil>=2.8.2->pandas) (1.16.0)\n",
      "Note: you may need to restart the kernel to use updated packages.\n"
     ]
    }
   ],
   "source": [
    "pip install pandas"
   ]
  },
  {
   "cell_type": "code",
   "execution_count": 2,
   "id": "6e920b7a-c93b-49b7-959e-afc6ec9c7b9f",
   "metadata": {
    "tags": []
   },
   "outputs": [
    {
     "name": "stdout",
     "output_type": "stream",
     "text": [
      "Collecting faker\n",
      "  Downloading Faker-19.8.0-py3-none-any.whl (1.7 MB)\n",
      "                                              0.0/1.7 MB ? eta -:--:--\n",
      "     ---------                                0.4/1.7 MB 8.5 MB/s eta 0:00:01\n",
      "     --------------------                     0.9/1.7 MB 9.5 MB/s eta 0:00:01\n",
      "     --------------------------------         1.4/1.7 MB 9.7 MB/s eta 0:00:01\n",
      "     ---------------------------------------  1.7/1.7 MB 9.9 MB/s eta 0:00:01\n",
      "     ---------------------------------------- 1.7/1.7 MB 9.1 MB/s eta 0:00:00\n",
      "Requirement already satisfied: python-dateutil>=2.4 in c:\\users\\01-02\\anaconda3\\lib\\site-packages (from faker) (2.8.2)\n",
      "Requirement already satisfied: six>=1.5 in c:\\users\\01-02\\anaconda3\\lib\\site-packages (from python-dateutil>=2.4->faker) (1.16.0)\n",
      "Installing collected packages: faker\n",
      "Successfully installed faker-19.8.0\n",
      "Note: you may need to restart the kernel to use updated packages.\n"
     ]
    }
   ],
   "source": [
    "pip install faker\n"
   ]
  },
  {
   "cell_type": "code",
   "execution_count": 24,
   "id": "181bf665-9da1-4b9b-b0de-51d07e06fd5f",
   "metadata": {
    "tags": []
   },
   "outputs": [
    {
     "ename": "TypeError",
     "evalue": "BaseProvider.random_int() takes from 1 to 4 positional arguments but 5 were given",
     "output_type": "error",
     "traceback": [
      "\u001b[1;31m---------------------------------------------------------------------------\u001b[0m",
      "\u001b[1;31mTypeError\u001b[0m                                 Traceback (most recent call last)",
      "Cell \u001b[1;32mIn[24], line 16\u001b[0m\n\u001b[0;32m     13\u001b[0m \u001b[38;5;66;03m# 레코드 수 (100개)만큼 반복하여 무작위 데이터 생성\u001b[39;00m\n\u001b[0;32m     14\u001b[0m \u001b[38;5;28;01mfor\u001b[39;00m _ \u001b[38;5;129;01min\u001b[39;00m \u001b[38;5;28mrange\u001b[39m(\u001b[38;5;241m100\u001b[39m):\n\u001b[0;32m     15\u001b[0m     \u001b[38;5;66;03m# 전화번호를 한국식으로 생성 (예: 010-1234-5678)\u001b[39;00m\n\u001b[1;32m---> 16\u001b[0m     phone_number \u001b[38;5;241m=\u001b[39m \u001b[38;5;28mstr\u001b[39m(fake\u001b[38;5;241m.\u001b[39mrandom_int(\u001b[38;5;124m'\u001b[39m\u001b[38;5;124m010\u001b[39m\u001b[38;5;124m'\u001b[39m, \u001b[38;5;124m'\u001b[39m\u001b[38;5;124m02\u001b[39m\u001b[38;5;124m'\u001b[39m, \u001b[38;5;124m'\u001b[39m\u001b[38;5;124m016\u001b[39m\u001b[38;5;124m'\u001b[39m, \u001b[38;5;124m'\u001b[39m\u001b[38;5;124m017\u001b[39m\u001b[38;5;124m'\u001b[39m))\n\u001b[0;32m     17\u001b[0m     phone_number \u001b[38;5;241m+\u001b[39m\u001b[38;5;241m=\u001b[39m \u001b[38;5;124m'\u001b[39m\u001b[38;5;124m-\u001b[39m\u001b[38;5;124m'\u001b[39m \u001b[38;5;241m+\u001b[39m \u001b[38;5;28mstr\u001b[39m(fake\u001b[38;5;241m.\u001b[39mrandom_int(\u001b[38;5;28mmin\u001b[39m\u001b[38;5;241m=\u001b[39m\u001b[38;5;241m1000\u001b[39m, \u001b[38;5;28mmax\u001b[39m\u001b[38;5;241m=\u001b[39m\u001b[38;5;241m9999\u001b[39m))\n\u001b[0;32m     18\u001b[0m     phone_number \u001b[38;5;241m+\u001b[39m\u001b[38;5;241m=\u001b[39m \u001b[38;5;124m'\u001b[39m\u001b[38;5;124m-\u001b[39m\u001b[38;5;124m'\u001b[39m \u001b[38;5;241m+\u001b[39m \u001b[38;5;28mstr\u001b[39m(fake\u001b[38;5;241m.\u001b[39mrandom_int(\u001b[38;5;28mmin\u001b[39m\u001b[38;5;241m=\u001b[39m\u001b[38;5;241m1000\u001b[39m, \u001b[38;5;28mmax\u001b[39m\u001b[38;5;241m=\u001b[39m\u001b[38;5;241m9999\u001b[39m))\n",
      "\u001b[1;31mTypeError\u001b[0m: BaseProvider.random_int() takes from 1 to 4 positional arguments but 5 were given"
     ]
    }
   ],
   "source": [
    "import pandas as pd\n",
    "import random\n",
    "import faker\n",
    "import string\n",
    "from datetime import datetime, timedelta\n",
    "\n",
    "# 무작위 데이터 생성을 위한 가짜 데이터 생성기 생성\n",
    "fake = faker.Faker('ko_KR')  # 한국어 데이터 생성을 위해 'ko_KR' 로 설정\n",
    "\n",
    "# 데이터 프레임을 위한 빈 리스트 생성\n",
    "data = []\n",
    "\n",
    "# 레코드 수 (100개)만큼 반복하여 무작위 데이터 생성\n",
    "for _ in range(100):\n",
    "    # 전화번호를 한국식으로 생성 (예: 010-1234-5678)\n",
    "    phone_number = str(fake.random_int('010', '02', '016', '017'))\n",
    "    phone_number += '-' + str(fake.random_int(min=1000, max=9999))\n",
    "    phone_number += '-' + str(fake.random_int(min=1000, max=9999))\n",
    "    \n",
    "    # 영문과 숫자를 조합하여 ID 생성\n",
    "    id_length = 10  # ID의 길이를 조절할 수 있습니다.\n",
    "    id_characters = string.ascii_letters + string.digits\n",
    "    generated_id = ''.join(random.choice(id_characters) for _ in range(id_length))\n",
    "    \n",
    "    # 가입 날짜 (JOIN_DATE) 생성 (2023년 7월 1일부터 2023년 10월 10일까지)\n",
    "    start_date = datetime(2023, 7, 1)\n",
    "    end_date = datetime(2023, 10, 10)\n",
    "    join_date = fake.date_between_dates(start_date, end_date).strftime('%Y-%m-%d')\n",
    "    \n",
    "    data.append({\n",
    "        'NAME': fake.name(),\n",
    "        'ID': generated_id,\n",
    "        'PASSWORD': fake.password(),\n",
    "        'BIRTHDATE': fake.date_of_birth(minimum_age=18, maximum_age=90).strftime('%Y-%m-%d'),\n",
    "        'PHONE_NUMBER': phone_number,\n",
    "        'EMAIL_ADDRESS': fake.email(),\n",
    "        'ADDRESS': fake.address(),\n",
    "        'JOIN_DATE': join_date,\n",
    "        'GENDER_ID': random.choice(['남', '여'])\n",
    "    })\n",
    "\n",
    "# 데이터 프레임 생성\n",
    "df = pd.DataFrame(data)\n",
    "\n",
    "# 데이터 프레임 출력\n",
    "print(df)\n"
   ]
  },
  {
   "cell_type": "code",
   "execution_count": 18,
   "id": "3ea30aec-a31e-4f4d-99a1-a503283895e1",
   "metadata": {
    "tags": []
   },
   "outputs": [
    {
     "data": {
      "text/html": [
       "<div>\n",
       "<style scoped>\n",
       "    .dataframe tbody tr th:only-of-type {\n",
       "        vertical-align: middle;\n",
       "    }\n",
       "\n",
       "    .dataframe tbody tr th {\n",
       "        vertical-align: top;\n",
       "    }\n",
       "\n",
       "    .dataframe thead th {\n",
       "        text-align: right;\n",
       "    }\n",
       "</style>\n",
       "<table border=\"1\" class=\"dataframe\">\n",
       "  <thead>\n",
       "    <tr style=\"text-align: right;\">\n",
       "      <th></th>\n",
       "      <th>NAME</th>\n",
       "      <th>ID</th>\n",
       "      <th>PASSWORD</th>\n",
       "      <th>BIRTHDATE</th>\n",
       "      <th>PHONE_NUMBER</th>\n",
       "      <th>EMAIL_ADDRESS</th>\n",
       "      <th>ADDRESS</th>\n",
       "      <th>UNIQUE_ID</th>\n",
       "      <th>GENDER_ID</th>\n",
       "    </tr>\n",
       "  </thead>\n",
       "  <tbody>\n",
       "    <tr>\n",
       "      <th>0</th>\n",
       "      <td>유미정</td>\n",
       "      <td>JddSbGAyLY</td>\n",
       "      <td>o7$7Pdqbws</td>\n",
       "      <td>1995-01-31</td>\n",
       "      <td>90-9030-6737</td>\n",
       "      <td>jeonghun13@example.org</td>\n",
       "      <td>경상북도 김포시 서초대가 (미경이마을)</td>\n",
       "      <td>7751</td>\n",
       "      <td>여</td>\n",
       "    </tr>\n",
       "    <tr>\n",
       "      <th>1</th>\n",
       "      <td>남서영</td>\n",
       "      <td>oeXGNzvbls</td>\n",
       "      <td>$4@PdBgFK9</td>\n",
       "      <td>1945-01-05</td>\n",
       "      <td>15-8811-1098</td>\n",
       "      <td>misugryu@example.org</td>\n",
       "      <td>전라북도 성남시 수정구 압구정길 (정순김면)</td>\n",
       "      <td>3245</td>\n",
       "      <td>여</td>\n",
       "    </tr>\n",
       "    <tr>\n",
       "      <th>2</th>\n",
       "      <td>장성수</td>\n",
       "      <td>IKlVpxowD6</td>\n",
       "      <td>!NXYYgY+p4</td>\n",
       "      <td>1975-11-18</td>\n",
       "      <td>64-5916-5911</td>\n",
       "      <td>hgim@example.net</td>\n",
       "      <td>울산광역시 성북구 서초대로 (순옥최나읍)</td>\n",
       "      <td>4552</td>\n",
       "      <td>남</td>\n",
       "    </tr>\n",
       "    <tr>\n",
       "      <th>3</th>\n",
       "      <td>김민수</td>\n",
       "      <td>J0BNckmpKE</td>\n",
       "      <td>uV8JDClkl$</td>\n",
       "      <td>1980-02-22</td>\n",
       "      <td>81-1098-3678</td>\n",
       "      <td>yeongsug74@example.org</td>\n",
       "      <td>세종특별자치시 관악구 언주로 (광수최이마을)</td>\n",
       "      <td>8395</td>\n",
       "      <td>여</td>\n",
       "    </tr>\n",
       "    <tr>\n",
       "      <th>4</th>\n",
       "      <td>이정수</td>\n",
       "      <td>TpaYcuFioM</td>\n",
       "      <td>ZKcCC2%m#4</td>\n",
       "      <td>2000-09-08</td>\n",
       "      <td>18-3048-8389</td>\n",
       "      <td>gyeongsujin@example.net</td>\n",
       "      <td>제주특별자치도 성남시 반포대835로 (예준하리)</td>\n",
       "      <td>1275</td>\n",
       "      <td>남</td>\n",
       "    </tr>\n",
       "    <tr>\n",
       "      <th>...</th>\n",
       "      <td>...</td>\n",
       "      <td>...</td>\n",
       "      <td>...</td>\n",
       "      <td>...</td>\n",
       "      <td>...</td>\n",
       "      <td>...</td>\n",
       "      <td>...</td>\n",
       "      <td>...</td>\n",
       "      <td>...</td>\n",
       "    </tr>\n",
       "    <tr>\n",
       "      <th>95</th>\n",
       "      <td>손지후</td>\n",
       "      <td>aAIs7kAoe8</td>\n",
       "      <td>Bc9yXyE#r*</td>\n",
       "      <td>1969-08-17</td>\n",
       "      <td>58-1454-3366</td>\n",
       "      <td>imeunyeong@example.org</td>\n",
       "      <td>제주특별자치도 공주시 테헤란45로</td>\n",
       "      <td>4780</td>\n",
       "      <td>여</td>\n",
       "    </tr>\n",
       "    <tr>\n",
       "      <th>96</th>\n",
       "      <td>박은정</td>\n",
       "      <td>zTEDBhSQWS</td>\n",
       "      <td>7BZMEezi@e</td>\n",
       "      <td>1967-04-22</td>\n",
       "      <td>63-7001-2103</td>\n",
       "      <td>jihu42@example.com</td>\n",
       "      <td>대구광역시 성북구 도산대9거리 (지은황마을)</td>\n",
       "      <td>7682</td>\n",
       "      <td>남</td>\n",
       "    </tr>\n",
       "    <tr>\n",
       "      <th>97</th>\n",
       "      <td>박예준</td>\n",
       "      <td>QyGpMqasnN</td>\n",
       "      <td>&amp;9WFihXmDf</td>\n",
       "      <td>1944-02-04</td>\n",
       "      <td>56-8885-2118</td>\n",
       "      <td>sugja21@example.net</td>\n",
       "      <td>강원도 정선군 개포로 (예준박읍)</td>\n",
       "      <td>2359</td>\n",
       "      <td>여</td>\n",
       "    </tr>\n",
       "    <tr>\n",
       "      <th>98</th>\n",
       "      <td>황영희</td>\n",
       "      <td>pTmi50nEkp</td>\n",
       "      <td>@4H1nklQ+z</td>\n",
       "      <td>1967-04-29</td>\n",
       "      <td>75-8391-7753</td>\n",
       "      <td>jiyeong70@example.org</td>\n",
       "      <td>전라남도 포천시 역삼2가</td>\n",
       "      <td>2881</td>\n",
       "      <td>남</td>\n",
       "    </tr>\n",
       "    <tr>\n",
       "      <th>99</th>\n",
       "      <td>김영희</td>\n",
       "      <td>U1W5LxvwyZ</td>\n",
       "      <td>%6L08DESfT</td>\n",
       "      <td>1982-12-07</td>\n",
       "      <td>10-4566-2203</td>\n",
       "      <td>rjeon@example.com</td>\n",
       "      <td>전라남도 연천군 서초대012길 (성수김강마을)</td>\n",
       "      <td>1325</td>\n",
       "      <td>여</td>\n",
       "    </tr>\n",
       "  </tbody>\n",
       "</table>\n",
       "<p>100 rows × 9 columns</p>\n",
       "</div>"
      ],
      "text/plain": [
       "   NAME          ID    PASSWORD   BIRTHDATE  PHONE_NUMBER  \\\n",
       "0   유미정  JddSbGAyLY  o7$7Pdqbws  1995-01-31  90-9030-6737   \n",
       "1   남서영  oeXGNzvbls  $4@PdBgFK9  1945-01-05  15-8811-1098   \n",
       "2   장성수  IKlVpxowD6  !NXYYgY+p4  1975-11-18  64-5916-5911   \n",
       "3   김민수  J0BNckmpKE  uV8JDClkl$  1980-02-22  81-1098-3678   \n",
       "4   이정수  TpaYcuFioM  ZKcCC2%m#4  2000-09-08  18-3048-8389   \n",
       "..  ...         ...         ...         ...           ...   \n",
       "95  손지후  aAIs7kAoe8  Bc9yXyE#r*  1969-08-17  58-1454-3366   \n",
       "96  박은정  zTEDBhSQWS  7BZMEezi@e  1967-04-22  63-7001-2103   \n",
       "97  박예준  QyGpMqasnN  &9WFihXmDf  1944-02-04  56-8885-2118   \n",
       "98  황영희  pTmi50nEkp  @4H1nklQ+z  1967-04-29  75-8391-7753   \n",
       "99  김영희  U1W5LxvwyZ  %6L08DESfT  1982-12-07  10-4566-2203   \n",
       "\n",
       "              EMAIL_ADDRESS                     ADDRESS  UNIQUE_ID GENDER_ID  \n",
       "0    jeonghun13@example.org       경상북도 김포시 서초대가 (미경이마을)       7751         여  \n",
       "1      misugryu@example.org    전라북도 성남시 수정구 압구정길 (정순김면)       3245         여  \n",
       "2          hgim@example.net      울산광역시 성북구 서초대로 (순옥최나읍)       4552         남  \n",
       "3    yeongsug74@example.org    세종특별자치시 관악구 언주로 (광수최이마을)       8395         여  \n",
       "4   gyeongsujin@example.net  제주특별자치도 성남시 반포대835로 (예준하리)       1275         남  \n",
       "..                      ...                         ...        ...       ...  \n",
       "95   imeunyeong@example.org          제주특별자치도 공주시 테헤란45로       4780         여  \n",
       "96       jihu42@example.com    대구광역시 성북구 도산대9거리 (지은황마을)       7682         남  \n",
       "97      sugja21@example.net          강원도 정선군 개포로 (예준박읍)       2359         여  \n",
       "98    jiyeong70@example.org               전라남도 포천시 역삼2가       2881         남  \n",
       "99        rjeon@example.com   전라남도 연천군 서초대012길 (성수김강마을)       1325         여  \n",
       "\n",
       "[100 rows x 9 columns]"
      ]
     },
     "execution_count": 18,
     "metadata": {},
     "output_type": "execute_result"
    }
   ],
   "source": [
    "df = pd.DataFrame(df)\n",
    "df"
   ]
  },
  {
   "cell_type": "code",
   "execution_count": 19,
   "id": "f8250041-26de-466f-bf6e-f95c215b4142",
   "metadata": {
    "tags": []
   },
   "outputs": [
    {
     "name": "stdout",
     "output_type": "stream",
     "text": [
      "<class 'pandas.core.frame.DataFrame'>\n",
      "RangeIndex: 100 entries, 0 to 99\n",
      "Data columns (total 9 columns):\n",
      " #   Column         Non-Null Count  Dtype \n",
      "---  ------         --------------  ----- \n",
      " 0   NAME           100 non-null    object\n",
      " 1   ID             100 non-null    object\n",
      " 2   PASSWORD       100 non-null    object\n",
      " 3   BIRTHDATE      100 non-null    object\n",
      " 4   PHONE_NUMBER   100 non-null    object\n",
      " 5   EMAIL_ADDRESS  100 non-null    object\n",
      " 6   ADDRESS        100 non-null    object\n",
      " 7   UNIQUE_ID      100 non-null    int64 \n",
      " 8   GENDER_ID      100 non-null    object\n",
      "dtypes: int64(1), object(8)\n",
      "memory usage: 7.2+ KB\n"
     ]
    }
   ],
   "source": [
    "df.info()"
   ]
  },
  {
   "cell_type": "code",
   "execution_count": 21,
   "id": "99464857-bdd9-4627-a54f-6345508fe64c",
   "metadata": {
    "tags": []
   },
   "outputs": [],
   "source": [
    "df.to_csv('../../datasets/dummydata1.csv', index=False)"
   ]
  },
  {
   "cell_type": "code",
   "execution_count": null,
   "id": "51323817-9e9e-4d65-9903-4aa9ff3453ec",
   "metadata": {},
   "outputs": [],
   "source": []
  }
 ],
 "metadata": {
  "kernelspec": {
   "display_name": "Python 3 (ipykernel)",
   "language": "python",
   "name": "python3"
  },
  "language_info": {
   "codemirror_mode": {
    "name": "ipython",
    "version": 3
   },
   "file_extension": ".py",
   "mimetype": "text/x-python",
   "name": "python",
   "nbconvert_exporter": "python",
   "pygments_lexer": "ipython3",
   "version": "3.11.3"
  }
 },
 "nbformat": 4,
 "nbformat_minor": 5
}
