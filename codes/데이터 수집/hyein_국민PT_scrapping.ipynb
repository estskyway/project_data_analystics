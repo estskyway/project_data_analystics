{
 "cells": [
  {
   "cell_type": "code",
   "execution_count": 18,
   "id": "9dd7331d-9a46-4db8-a896-a5eeefaa7c43",
   "metadata": {
    "tags": []
   },
   "outputs": [],
   "source": [
    "from selenium import webdriver\n",
    "import time"
   ]
  },
  {
   "cell_type": "code",
   "execution_count": 19,
   "id": "d141f509-03a7-436f-8fc7-49554b4e2cea",
   "metadata": {
    "tags": []
   },
   "outputs": [],
   "source": [
    "# open chrome browser\n",
    "browser = webdriver.Chrome(executable_path='../../../chromedriver.exe')"
   ]
  },
  {
   "cell_type": "code",
   "execution_count": 20,
   "id": "92457ef7-084a-4dc4-af3c-33253c541bff",
   "metadata": {
    "tags": []
   },
   "outputs": [],
   "source": [
    "browser.get('https://play.google.com/store/apps/details?id=com.brandxcorp.kookminpt&hl=ko-KR')"
   ]
  },
  {
   "cell_type": "code",
   "execution_count": 21,
   "id": "8aa064fe-9104-4357-8f29-bb02380f2dbf",
   "metadata": {
    "tags": []
   },
   "outputs": [],
   "source": [
    "browser.implicitly_wait(10)"
   ]
  },
  {
   "cell_type": "code",
   "execution_count": 22,
   "id": "49b68cab-0767-4fbe-921e-d379714cc225",
   "metadata": {
    "tags": []
   },
   "outputs": [],
   "source": [
    "# 리뷰 모두보기 버튼 클릭(팝업 띄우기)\n",
    "click_path = 'div:nth-child(5) > div > div > button > span'\n",
    "browser.find_element_by_css_selector(click_path).click()"
   ]
  },
  {
   "cell_type": "code",
   "execution_count": 13,
   "id": "b66a54c3-c2a7-48d7-91a8-bc2f5a6be61c",
   "metadata": {
    "tags": []
   },
   "outputs": [
    {
     "data": {
      "text/plain": [
       "28"
      ]
     },
     "execution_count": 13,
     "metadata": {},
     "output_type": "execute_result"
    }
   ],
   "source": [
    "reviews_bundle = browser.find_elements_by_css_selector('.RHo1pe')\n",
    "len(reviews_bundle)"
   ]
  },
  {
   "cell_type": "code",
   "execution_count": 25,
   "id": "3a66d6c6-3871-42da-bff1-14712d701b8d",
   "metadata": {
    "tags": []
   },
   "outputs": [
    {
     "name": "stdout",
     "output_type": "stream",
     "text": [
      "writer: 김건\n",
      "review: 혼자가 아닌 여러사람들과 운동 지식 공유와 소통할 수 있는 장이어서, 운동적으로 도움 많이 받고 있습니다~!\n",
      "star: 별표 5개 만점에 5개를 받았습니다.\n",
      "Done\n"
     ]
    }
   ],
   "source": [
    "# 리뷰 한 개 가져오기\n",
    "review = browser.find_element_by_css_selector('.RHo1pe')\n",
    "review_writer = review.find_element_by_css_selector('div.fysCi > div > div:nth-child(2) > div:nth-child(1) > header > div.YNR7H > div.gSGphe > div').text\n",
    "review_text = review.find_element_by_css_selector('div.fysCi > div > div:nth-child(2) > div:nth-child(1) > div.h3YV2d').text\n",
    "review_star = review.find_element_by_css_selector('div.fysCi > div > div:nth-child(2) > div:nth-child(1) > header > div.Jx4nYe > div').get_attribute('aria-label')\n",
    "print('writer: {}'.format(review_writer))\n",
    "print('review: {}'.format(review_text))\n",
    "print('star: {}'.format(review_star))\n",
    "print('Done')"
   ]
  },
  {
   "cell_type": "code",
   "execution_count": 23,
   "id": "c5c99b56-f94c-46d9-a864-723587a0eee9",
   "metadata": {
    "tags": []
   },
   "outputs": [],
   "source": [
    "import pandas as pd\n",
    "import pymongo as mg"
   ]
  },
  {
   "cell_type": "code",
   "execution_count": 16,
   "id": "a09a19c2-bb15-4218-aef9-62130304ad87",
   "metadata": {
    "tags": []
   },
   "outputs": [],
   "source": [
    "# 리뷰 모두보기 버튼 클릭(팝업 띄우기)\n",
    "click_path = 'div:nth-child(5) > div > div > button > span'\n",
    "browser.find_element_by_css_selector(click_path).click()\n",
    "reviews_list = list()"
   ]
  },
  {
   "cell_type": "code",
   "execution_count": 24,
   "id": "9e3a80e9-715c-4bda-8ac2-c31067549823",
   "metadata": {
    "tags": []
   },
   "outputs": [],
   "source": [
    "# 화면 끝까지 이동\n",
    "review_total_count = 0   # 리뷰 총 갯수\n",
    "while True:\n",
    "    reviews_bundle = browser.find_elements_by_css_selector('.RHo1pe')\n",
    "    review_standard_count_per = len(reviews_bundle)\n",
    "    if review_total_count == review_standard_count_per:\n",
    "        break\n",
    "\n",
    "    review_total_count = review_standard_count_per\n",
    "    reviews_bundle[len(reviews_bundle)-1].click()\n",
    "    time.sleep(1)"
   ]
  },
  {
   "cell_type": "code",
   "execution_count": 26,
   "id": "ab4c0fdd-69ff-4f37-a48f-f13c4b272886",
   "metadata": {
    "tags": []
   },
   "outputs": [
    {
     "name": "stdout",
     "output_type": "stream",
     "text": [
      "2\n",
      "3\n",
      "4\n",
      "5\n",
      "6\n",
      "7\n",
      "8\n",
      "9\n",
      "10\n",
      "11\n",
      "12\n",
      "13\n",
      "14\n",
      "15\n",
      "16\n",
      "17\n",
      "18\n",
      "19\n",
      "20\n",
      "21\n",
      "22\n",
      "23\n",
      "24\n",
      "25\n",
      "26\n",
      "27\n",
      "28\n",
      "29\n",
      "Done\n"
     ]
    }
   ],
   "source": [
    "# 총 리뷰 가져와 DB에 저장\n",
    "client = mg.MongoClient(host='mongodb://localhost:27017')\n",
    "database = client['project_data_analystics']\n",
    "collection = database['review']\n",
    "\n",
    "columns_name = ['writer', 'text', 'star']\n",
    "reviews_list = list()\n",
    "i = 1\n",
    "for review in reviews_bundle:\n",
    "    try:\n",
    "        review_writer = review.find_element_by_css_selector('div.fysCi > div > div:nth-child(2) > div:nth-child({0}) > header > div.YNR7H > div.gSGphe > div'.format(i)).text\n",
    "    except:\n",
    "        review_writer = str()\n",
    "    try:    \n",
    "        review_text = review.find_element_by_css_selector('div.fysCi > div > div:nth-child(2) > div:nth-child({0}) > div.h3YV2d'.format(i)).text\n",
    "    except:\n",
    "        review_text = str()\n",
    "    try:\n",
    "        review_star = review.find_element_by_css_selector('div.fysCi > div > div:nth-child(2) > div:nth-child({0}) > header > div.Jx4nYe > div'.format(i)).get_attribute('aria-label')\n",
    "    except:\n",
    "        review_star = str()\n",
    "    i=i+1\n",
    "    print(i)\n",
    "    review_list = [review_writer, review_text, review_star]\n",
    "    reviews_list.append(review_list)\n",
    "\n",
    "    # 저장 위한 작업\n",
    "    df_reviews = pd.DataFrame(data=reviews_list, columns=columns_name)\n",
    "    data_dict = df_reviews.to_dict(orient='records')\n",
    "    collection.insert_many(data_dict)\n",
    "\n",
    "print('Done')"
   ]
  }
 ],
 "metadata": {
  "kernelspec": {
   "display_name": "Python 3 (ipykernel)",
   "language": "python",
   "name": "python3"
  },
  "language_info": {
   "codemirror_mode": {
    "name": "ipython",
    "version": 3
   },
   "file_extension": ".py",
   "mimetype": "text/x-python",
   "name": "python",
   "nbconvert_exporter": "python",
   "pygments_lexer": "ipython3",
   "version": "3.11.3"
  }
 },
 "nbformat": 4,
 "nbformat_minor": 5
}
