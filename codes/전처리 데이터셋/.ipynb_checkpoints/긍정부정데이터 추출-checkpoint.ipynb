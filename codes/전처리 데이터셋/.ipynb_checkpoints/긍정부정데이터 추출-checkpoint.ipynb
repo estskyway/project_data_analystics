{
 "cells": [
  {
   "cell_type": "markdown",
   "id": "554b7682-d665-462e-93c3-9d6c3847f62c",
   "metadata": {},
   "source": [
    "### 1. 데이터 로딩"
   ]
  },
  {
   "cell_type": "code",
   "execution_count": 17,
   "id": "87662651-22f9-45a6-8ab8-3ab63d11c2b2",
   "metadata": {
    "tags": []
   },
   "outputs": [],
   "source": [
    "import pandas as pd\n",
    "\n",
    "# 파일 로딩\n",
    "oneword_df = pd.read_excel('../../../datasets/oneword_concat.csv.xlsx')\n",
    "stopword_df = pd.read_excel('../../../datasets/stopword_concat.csv.xlsx')\n",
    "replace_df = pd.read_excel('../../../datasets/replace_concat.csv.xlsx')\n",
    "\n",
    "# CSV로 저장\n",
    "oneword_df.to_csv('../../../datasets/oneword_concat.csv', index=False)\n",
    "stopword_df.to_csv('../../../datasets/stopword_concat.csv', index=False)\n",
    "replace_df.to_csv('../../../datasets/replace_concat.csv', index=False)"
   ]
  },
  {
   "cell_type": "code",
   "execution_count": 18,
   "id": "7a500b1b-e5b5-4cc6-bc85-e454a39888bb",
   "metadata": {
    "tags": []
   },
   "outputs": [
    {
     "data": {
      "text/plain": [
       "(   Unnamed: 0                       _id        name  \\\n",
       " 0           0  651277e7ddb81e8e96c6bcbb  Google 사용자   \n",
       " 1           1  651277e7ddb81e8e96c6bcbc  Google 사용자   \n",
       " 2           2  651277e7ddb81e8e96c6bcbd  Google 사용자   \n",
       " 3           3  651277e7ddb81e8e96c6bcbe         한반도   \n",
       " 4           4  651277e7ddb81e8e96c6bcbf         나수인   \n",
       " \n",
       "                                              reviews                 stars  \n",
       " 0  입장방식은 변경됐는데 어플은 여전히 바코드만 보여집니다. 짐에서는 더이상 바코드스캔...  별표 5개 만점에 1개를 받았습니다.  \n",
       " 1  정말 답답하네요 하나. GPS 100프로 신뢰하나요? 시설선택목록에서 안보임 4월말...  별표 5개 만점에 1개를 받았습니다.  \n",
       " 2  입장하려다 시설검색이 안되서 결국 다른곳에 입장했습니다. 기존에 잘 쓰던 앱이 업데...  별표 5개 만점에 1개를 받았습니다.  \n",
       " 3  평소 이동이 잦고 여러장소에서 운동하는걸 좋아하는 저에게는 합리적인 아이코젠이 정말...  별표 5개 만점에 5개를 받았습니다.  \n",
       " 4  아이코젠 덕분에 운동이 더 즐겁고 꾸준하게 하게 되었어요. 사용기록이 꼼꼼히 남고 ...  별표 5개 만점에 5개를 받았습니다.  ,\n",
       "   stopword\n",
       " 0        가\n",
       " 1     가까스로\n",
       " 2       가량\n",
       " 3       가령\n",
       " 4       가민,\n",
       "   one_char_keyword\n",
       " 0                값\n",
       " 1                꿀\n",
       " 2                꿈\n",
       " 3                끝\n",
       " 4                날,\n",
       "   before_replacement after_replacement\n",
       " 0                선생님               강사님\n",
       " 1                  샘               강사님\n",
       " 2                  쌤               강사님\n",
       " 3                 로긴               로그인\n",
       " 4                 ㅡㅡ              별로에요)"
      ]
     },
     "execution_count": 18,
     "metadata": {},
     "output_type": "execute_result"
    }
   ],
   "source": [
    "# 파일 로딩\n",
    "db_total = pd.read_csv('../../../datasets/DB_Total.xlsx.csv')\n",
    "db_stopword = pd.read_csv('../../../datasets/stopword_concat.csv')\n",
    "db_oneword = pd.read_csv('../../../datasets/oneword_concat.csv')\n",
    "db_replace = pd.read_csv('../../../datasets/replace_concat.csv')\n",
    "\n",
    "# 각 파일의 처음 5행을 출력\n",
    "total_head = db_total.head()\n",
    "stopword_head = db_stopword.head()\n",
    "oneword_head = db_oneword.head()\n",
    "replace_head = db_replace.head()\n",
    "\n",
    "total_head, stopword_head, oneword_head, replace_head"
   ]
  },
  {
   "cell_type": "markdown",
   "id": "35872100-4315-4558-8b6b-182be355cdb0",
   "metadata": {},
   "source": [
    "### 2. 데이터 클리닝"
   ]
  },
  {
   "cell_type": "code",
   "execution_count": 23,
   "id": "e5e030e3-3bf9-40cb-b8eb-1d578b277c59",
   "metadata": {
    "tags": []
   },
   "outputs": [
    {
     "data": {
      "text/plain": [
       "Unnamed: 0      0\n",
       "_id             0\n",
       "name            0\n",
       "reviews         0\n",
       "stars         760\n",
       "dtype: int64"
      ]
     },
     "execution_count": 23,
     "metadata": {},
     "output_type": "execute_result"
    }
   ],
   "source": [
    "# 결측치 검사(760개 검사)\n",
    "missing_values = db_total.isnull().sum()\n",
    "missing_values"
   ]
  },
  {
   "cell_type": "markdown",
   "id": "3fddf5a4-e303-4e8b-b24f-8a27397d2791",
   "metadata": {},
   "source": [
    "### 텍스트 전처리"
   ]
  },
  {
   "cell_type": "code",
   "execution_count": 26,
   "id": "d7728af5-c654-45fe-842a-25c4e3c5a6f2",
   "metadata": {
    "tags": []
   },
   "outputs": [
    {
     "data": {
      "text/html": [
       "<div>\n",
       "<style scoped>\n",
       "    .dataframe tbody tr th:only-of-type {\n",
       "        vertical-align: middle;\n",
       "    }\n",
       "\n",
       "    .dataframe tbody tr th {\n",
       "        vertical-align: top;\n",
       "    }\n",
       "\n",
       "    .dataframe thead th {\n",
       "        text-align: right;\n",
       "    }\n",
       "</style>\n",
       "<table border=\"1\" class=\"dataframe\">\n",
       "  <thead>\n",
       "    <tr style=\"text-align: right;\">\n",
       "      <th></th>\n",
       "      <th>Unnamed: 0</th>\n",
       "      <th>_id</th>\n",
       "      <th>name</th>\n",
       "      <th>reviews</th>\n",
       "      <th>stars</th>\n",
       "    </tr>\n",
       "  </thead>\n",
       "  <tbody>\n",
       "    <tr>\n",
       "      <th>0</th>\n",
       "      <td>0</td>\n",
       "      <td>651277e7ddb81e8e96c6bcbb</td>\n",
       "      <td>Google 사용자</td>\n",
       "      <td>좋아요좋아요좋아요좋아요입장방식은 개선됐는데 사이트은 바코드만 운동시설에서는 바코드스...</td>\n",
       "      <td>별표 5개 만점에 1개를 받았습니다.</td>\n",
       "    </tr>\n",
       "    <tr>\n",
       "      <th>1</th>\n",
       "      <td>1</td>\n",
       "      <td>651277e7ddb81e8e96c6bcbc</td>\n",
       "      <td>Google 사용자</td>\n",
       "      <td>좋아요좋아요좋아요좋아요정말 답답하네요 gps 100프로 신뢰하나요 시설선택목록에서 ...</td>\n",
       "      <td>별표 5개 만점에 1개를 받았습니다.</td>\n",
       "    </tr>\n",
       "    <tr>\n",
       "      <th>2</th>\n",
       "      <td>2</td>\n",
       "      <td>651277e7ddb81e8e96c6bcbd</td>\n",
       "      <td>Google 사용자</td>\n",
       "      <td>좋아요좋아요좋아요좋아요입장하려다 시설검색이 안되서 다른곳에 입장했습니다 기존에 쓰던...</td>\n",
       "      <td>별표 5개 만점에 1개를 받았습니다.</td>\n",
       "    </tr>\n",
       "    <tr>\n",
       "      <th>3</th>\n",
       "      <td>3</td>\n",
       "      <td>651277e7ddb81e8e96c6bcbe</td>\n",
       "      <td>한반도</td>\n",
       "      <td>좋아요좋아요좋아요좋아요평소 이동이 잦고 여러장소에서 운동하는걸 좋아하는 저에게는 합...</td>\n",
       "      <td>별표 5개 만점에 5개를 받았습니다.</td>\n",
       "    </tr>\n",
       "    <tr>\n",
       "      <th>4</th>\n",
       "      <td>4</td>\n",
       "      <td>651277e7ddb81e8e96c6bcbf</td>\n",
       "      <td>나수인</td>\n",
       "      <td>좋아요좋아요좋아요좋아요아이코젠 덕분에 운동이 즐겁고 꾸준하게 되었어요 사용기록이 꼼...</td>\n",
       "      <td>별표 5개 만점에 5개를 받았습니다.</td>\n",
       "    </tr>\n",
       "  </tbody>\n",
       "</table>\n",
       "</div>"
      ],
      "text/plain": [
       "   Unnamed: 0                       _id        name  \\\n",
       "0           0  651277e7ddb81e8e96c6bcbb  Google 사용자   \n",
       "1           1  651277e7ddb81e8e96c6bcbc  Google 사용자   \n",
       "2           2  651277e7ddb81e8e96c6bcbd  Google 사용자   \n",
       "3           3  651277e7ddb81e8e96c6bcbe         한반도   \n",
       "4           4  651277e7ddb81e8e96c6bcbf         나수인   \n",
       "\n",
       "                                             reviews                 stars  \n",
       "0  좋아요좋아요좋아요좋아요입장방식은 개선됐는데 사이트은 바코드만 운동시설에서는 바코드스...  별표 5개 만점에 1개를 받았습니다.  \n",
       "1  좋아요좋아요좋아요좋아요정말 답답하네요 gps 100프로 신뢰하나요 시설선택목록에서 ...  별표 5개 만점에 1개를 받았습니다.  \n",
       "2  좋아요좋아요좋아요좋아요입장하려다 시설검색이 안되서 다른곳에 입장했습니다 기존에 쓰던...  별표 5개 만점에 1개를 받았습니다.  \n",
       "3  좋아요좋아요좋아요좋아요평소 이동이 잦고 여러장소에서 운동하는걸 좋아하는 저에게는 합...  별표 5개 만점에 5개를 받았습니다.  \n",
       "4  좋아요좋아요좋아요좋아요아이코젠 덕분에 운동이 즐겁고 꾸준하게 되었어요 사용기록이 꼼...  별표 5개 만점에 5개를 받았습니다.  "
      ]
     },
     "execution_count": 26,
     "metadata": {},
     "output_type": "execute_result"
    }
   ],
   "source": [
    "# 결측치를 포함하는 행 제거\n",
    "db_total = db_total.dropna(subset=['stars'])\n",
    "\n",
    "# 리뷰 텍스트를 소문자로 변환\n",
    "db_total['reviews'] = db_total['reviews'].str.lower()\n",
    "\n",
    "# 특수 문자 제거\n",
    "db_total['reviews'] = db_total['reviews'].str.replace(r'[^a-zA-Z0-9가-힣\\s]', ' ', regex=True)\n",
    "\n",
    "# stopword, oneword, replace 리스트 생성\n",
    "stopwords = db_stopword['stopword'].tolist()\n",
    "onewords = db_oneword['one_char_keyword'].tolist()\n",
    "replace_dict = dict(zip(db_replace['before_replacement'], db_replace['after_replacement']))\n",
    "\n",
    "# stopword 제거\n",
    "db_total['reviews'] = db_total['reviews'].apply(lambda x: ' '.join(word for word in x.split() if word not in stopwords))\n",
    "\n",
    "# oneword 제거\n",
    "db_total['reviews'] = db_total['reviews'].apply(lambda x: ' '.join(word for word in x.split() if word not in onewords))\n",
    "\n",
    "# replace 적용\n",
    "db_total['reviews'] = db_total['reviews'].replace(replace_dict, regex=True)\n",
    "\n",
    "# 결과 확인\n",
    "db_total.head()"
   ]
  },
  {
   "cell_type": "markdown",
   "id": "cb001074-04cd-4eaf-993c-60f926766435",
   "metadata": {},
   "source": [
    "### 4. 레이블링 진행 "
   ]
  },
  {
   "cell_type": "code",
   "execution_count": 31,
   "id": "617bb8da-00be-4cf3-abc8-67df1bbf1928",
   "metadata": {
    "collapsed": true,
    "jupyter": {
     "outputs_hidden": true
    },
    "tags": []
   },
   "outputs": [
    {
     "data": {
      "text/html": [
       "<div>\n",
       "<style scoped>\n",
       "    .dataframe tbody tr th:only-of-type {\n",
       "        vertical-align: middle;\n",
       "    }\n",
       "\n",
       "    .dataframe tbody tr th {\n",
       "        vertical-align: top;\n",
       "    }\n",
       "\n",
       "    .dataframe thead th {\n",
       "        text-align: right;\n",
       "    }\n",
       "</style>\n",
       "<table border=\"1\" class=\"dataframe\">\n",
       "  <thead>\n",
       "    <tr style=\"text-align: right;\">\n",
       "      <th></th>\n",
       "      <th>stars</th>\n",
       "      <th>numeric_stars</th>\n",
       "      <th>label</th>\n",
       "    </tr>\n",
       "  </thead>\n",
       "  <tbody>\n",
       "    <tr>\n",
       "      <th>0</th>\n",
       "      <td>별표 5개 만점에 1개를 받았습니다.</td>\n",
       "      <td>1</td>\n",
       "      <td>0</td>\n",
       "    </tr>\n",
       "    <tr>\n",
       "      <th>1</th>\n",
       "      <td>별표 5개 만점에 1개를 받았습니다.</td>\n",
       "      <td>1</td>\n",
       "      <td>0</td>\n",
       "    </tr>\n",
       "    <tr>\n",
       "      <th>2</th>\n",
       "      <td>별표 5개 만점에 1개를 받았습니다.</td>\n",
       "      <td>1</td>\n",
       "      <td>0</td>\n",
       "    </tr>\n",
       "    <tr>\n",
       "      <th>3</th>\n",
       "      <td>별표 5개 만점에 5개를 받았습니다.</td>\n",
       "      <td>5</td>\n",
       "      <td>1</td>\n",
       "    </tr>\n",
       "    <tr>\n",
       "      <th>4</th>\n",
       "      <td>별표 5개 만점에 5개를 받았습니다.</td>\n",
       "      <td>5</td>\n",
       "      <td>1</td>\n",
       "    </tr>\n",
       "    <tr>\n",
       "      <th>5</th>\n",
       "      <td>별표 5개 만점에 5개를 받았습니다.</td>\n",
       "      <td>5</td>\n",
       "      <td>1</td>\n",
       "    </tr>\n",
       "    <tr>\n",
       "      <th>6</th>\n",
       "      <td>별표 5개 만점에 5개를 받았습니다.</td>\n",
       "      <td>5</td>\n",
       "      <td>1</td>\n",
       "    </tr>\n",
       "    <tr>\n",
       "      <th>7</th>\n",
       "      <td>별표 5개 만점에 2개를 받았습니다.</td>\n",
       "      <td>2</td>\n",
       "      <td>0</td>\n",
       "    </tr>\n",
       "    <tr>\n",
       "      <th>8</th>\n",
       "      <td>별표 5개 만점에 5개를 받았습니다.</td>\n",
       "      <td>5</td>\n",
       "      <td>1</td>\n",
       "    </tr>\n",
       "    <tr>\n",
       "      <th>9</th>\n",
       "      <td>별표 5개 만점에 5개를 받았습니다.</td>\n",
       "      <td>5</td>\n",
       "      <td>1</td>\n",
       "    </tr>\n",
       "    <tr>\n",
       "      <th>10</th>\n",
       "      <td>별표 5개 만점에 1개를 받았습니다.</td>\n",
       "      <td>1</td>\n",
       "      <td>0</td>\n",
       "    </tr>\n",
       "    <tr>\n",
       "      <th>11</th>\n",
       "      <td>별표 5개 만점에 1개를 받았습니다.</td>\n",
       "      <td>1</td>\n",
       "      <td>0</td>\n",
       "    </tr>\n",
       "    <tr>\n",
       "      <th>12</th>\n",
       "      <td>별표 5개 만점에 5개를 받았습니다.</td>\n",
       "      <td>5</td>\n",
       "      <td>1</td>\n",
       "    </tr>\n",
       "    <tr>\n",
       "      <th>13</th>\n",
       "      <td>별표 5개 만점에 5개를 받았습니다.</td>\n",
       "      <td>5</td>\n",
       "      <td>1</td>\n",
       "    </tr>\n",
       "    <tr>\n",
       "      <th>14</th>\n",
       "      <td>별표 5개 만점에 1개를 받았습니다.</td>\n",
       "      <td>1</td>\n",
       "      <td>0</td>\n",
       "    </tr>\n",
       "    <tr>\n",
       "      <th>15</th>\n",
       "      <td>별표 5개 만점에 5개를 받았습니다.</td>\n",
       "      <td>5</td>\n",
       "      <td>1</td>\n",
       "    </tr>\n",
       "    <tr>\n",
       "      <th>16</th>\n",
       "      <td>별표 5개 만점에 1개를 받았습니다.</td>\n",
       "      <td>1</td>\n",
       "      <td>0</td>\n",
       "    </tr>\n",
       "    <tr>\n",
       "      <th>17</th>\n",
       "      <td>별표 5개 만점에 5개를 받았습니다.</td>\n",
       "      <td>5</td>\n",
       "      <td>1</td>\n",
       "    </tr>\n",
       "    <tr>\n",
       "      <th>18</th>\n",
       "      <td>별표 5개 만점에 4개를 받았습니다.</td>\n",
       "      <td>4</td>\n",
       "      <td>1</td>\n",
       "    </tr>\n",
       "    <tr>\n",
       "      <th>19</th>\n",
       "      <td>별표 5개 만점에 5개를 받았습니다.</td>\n",
       "      <td>5</td>\n",
       "      <td>1</td>\n",
       "    </tr>\n",
       "    <tr>\n",
       "      <th>20</th>\n",
       "      <td>별표 5개 만점에 1개를 받았습니다.</td>\n",
       "      <td>1</td>\n",
       "      <td>0</td>\n",
       "    </tr>\n",
       "    <tr>\n",
       "      <th>21</th>\n",
       "      <td>별표 5개 만점에 4개를 받았습니다.</td>\n",
       "      <td>4</td>\n",
       "      <td>1</td>\n",
       "    </tr>\n",
       "    <tr>\n",
       "      <th>22</th>\n",
       "      <td>별표 5개 만점에 5개를 받았습니다.</td>\n",
       "      <td>5</td>\n",
       "      <td>1</td>\n",
       "    </tr>\n",
       "    <tr>\n",
       "      <th>23</th>\n",
       "      <td>별표 5개 만점에 1개를 받았습니다.</td>\n",
       "      <td>1</td>\n",
       "      <td>0</td>\n",
       "    </tr>\n",
       "    <tr>\n",
       "      <th>24</th>\n",
       "      <td>별표 5개 만점에 5개를 받았습니다.</td>\n",
       "      <td>5</td>\n",
       "      <td>1</td>\n",
       "    </tr>\n",
       "    <tr>\n",
       "      <th>25</th>\n",
       "      <td>별표 5개 만점에 5개를 받았습니다.</td>\n",
       "      <td>5</td>\n",
       "      <td>1</td>\n",
       "    </tr>\n",
       "    <tr>\n",
       "      <th>26</th>\n",
       "      <td>별표 5개 만점에 5개를 받았습니다.</td>\n",
       "      <td>5</td>\n",
       "      <td>1</td>\n",
       "    </tr>\n",
       "    <tr>\n",
       "      <th>27</th>\n",
       "      <td>별표 5개 만점에 5개를 받았습니다.</td>\n",
       "      <td>5</td>\n",
       "      <td>1</td>\n",
       "    </tr>\n",
       "    <tr>\n",
       "      <th>28</th>\n",
       "      <td>별표 5개 만점에 5개를 받았습니다.</td>\n",
       "      <td>5</td>\n",
       "      <td>1</td>\n",
       "    </tr>\n",
       "    <tr>\n",
       "      <th>29</th>\n",
       "      <td>별표 5개 만점에 3개를 받았습니다.</td>\n",
       "      <td>3</td>\n",
       "      <td>1</td>\n",
       "    </tr>\n",
       "  </tbody>\n",
       "</table>\n",
       "</div>"
      ],
      "text/plain": [
       "                   stars  numeric_stars  label\n",
       "0   별표 5개 만점에 1개를 받았습니다.              1      0\n",
       "1   별표 5개 만점에 1개를 받았습니다.              1      0\n",
       "2   별표 5개 만점에 1개를 받았습니다.              1      0\n",
       "3   별표 5개 만점에 5개를 받았습니다.              5      1\n",
       "4   별표 5개 만점에 5개를 받았습니다.              5      1\n",
       "5   별표 5개 만점에 5개를 받았습니다.              5      1\n",
       "6   별표 5개 만점에 5개를 받았습니다.              5      1\n",
       "7   별표 5개 만점에 2개를 받았습니다.              2      0\n",
       "8   별표 5개 만점에 5개를 받았습니다.              5      1\n",
       "9   별표 5개 만점에 5개를 받았습니다.              5      1\n",
       "10  별표 5개 만점에 1개를 받았습니다.              1      0\n",
       "11  별표 5개 만점에 1개를 받았습니다.              1      0\n",
       "12  별표 5개 만점에 5개를 받았습니다.              5      1\n",
       "13  별표 5개 만점에 5개를 받았습니다.              5      1\n",
       "14  별표 5개 만점에 1개를 받았습니다.              1      0\n",
       "15  별표 5개 만점에 5개를 받았습니다.              5      1\n",
       "16  별표 5개 만점에 1개를 받았습니다.              1      0\n",
       "17  별표 5개 만점에 5개를 받았습니다.              5      1\n",
       "18  별표 5개 만점에 4개를 받았습니다.              4      1\n",
       "19  별표 5개 만점에 5개를 받았습니다.              5      1\n",
       "20  별표 5개 만점에 1개를 받았습니다.              1      0\n",
       "21  별표 5개 만점에 4개를 받았습니다.              4      1\n",
       "22  별표 5개 만점에 5개를 받았습니다.              5      1\n",
       "23  별표 5개 만점에 1개를 받았습니다.              1      0\n",
       "24  별표 5개 만점에 5개를 받았습니다.              5      1\n",
       "25  별표 5개 만점에 5개를 받았습니다.              5      1\n",
       "26  별표 5개 만점에 5개를 받았습니다.              5      1\n",
       "27  별표 5개 만점에 5개를 받았습니다.              5      1\n",
       "28  별표 5개 만점에 5개를 받았습니다.              5      1\n",
       "29  별표 5개 만점에 3개를 받았습니다.              3      1"
      ]
     },
     "execution_count": 31,
     "metadata": {},
     "output_type": "execute_result"
    }
   ],
   "source": [
    "# 별점에서 숫자만 정확하게 추출\n",
    "db_total['numeric_stars'] = db_total['stars'].str.extract(r'(\\d)개를 받았습니다').astype(int)\n",
    "\n",
    "# 별점이 3 이상이면 긍정(1), 그렇지 않으면 부정(0)으로 레이블링\n",
    "db_total['label'] = db_total['numeric_stars'].apply(lambda x: 1 if x >= 3 else 0)\n",
    "\n",
    "# 결과 확인 (30개)\n",
    "db_total[['stars', 'numeric_stars', 'label']].head(30)"
   ]
  },
  {
   "cell_type": "code",
   "execution_count": 28,
   "id": "10a39d48-06cc-439d-944b-ff2e0e612a2f",
   "metadata": {
    "tags": []
   },
   "outputs": [
    {
     "data": {
      "text/plain": [
       "0    좋아요좋아요좋아요좋아요좋아요입장방식은 개선됐는데 사이트은 바코드만 운동시설에서는 바...\n",
       "1    좋아요좋아요좋아요좋아요좋아요정말 답답하네요 gps 100프로 신뢰하나요 시설선택목록...\n",
       "2    좋아요좋아요좋아요좋아요좋아요입장하려다 시설검색이 안되서 다른곳에 입장했습니다 기존에...\n",
       "3    좋아요좋아요좋아요좋아요좋아요평소 이동이 잦고 여러장소에서 운동하는걸 좋아하는 저에게...\n",
       "4    좋아요좋아요좋아요좋아요좋아요아이코젠 덕분에 운동이 즐겁고 꾸준하게 되었어요 사용기록...\n",
       "Name: reviews, dtype: object"
      ]
     },
     "execution_count": 28,
     "metadata": {},
     "output_type": "execute_result"
    }
   ],
   "source": [
    "\n",
    "# before_replacement와 after_replacement를 딕셔너리로 변환\n",
    "replace_dict = dict(zip(replace['before_replacement'], replace['after_replacement']))\n",
    "\n",
    "# reviews 컬럼의 텍스트를 교체\n",
    "db_total['reviews'] = db_total['reviews'].replace(replace_dict, regex=True)\n",
    "\n",
    "# 결과 확인\n",
    "db_total['reviews'].head()"
   ]
  },
  {
   "cell_type": "markdown",
   "id": "fdd39e4c-56ec-43b1-9ad0-e1e59b24740d",
   "metadata": {},
   "source": [
    "### 5. 피처 엔지니어링\n",
    "\n",
    "-  1694개의 리뷰 + 5000개의 단어 피처로 변환"
   ]
  },
  {
   "cell_type": "code",
   "execution_count": 32,
   "id": "f4c6a9e6-bd0a-4fb5-9ef2-925ac7544609",
   "metadata": {
    "tags": []
   },
   "outputs": [
    {
     "data": {
      "text/plain": [
       "((1694, 5000), (424, 5000))"
      ]
     },
     "execution_count": 32,
     "metadata": {},
     "output_type": "execute_result"
    }
   ],
   "source": [
    "from sklearn.feature_extraction.text import TfidfVectorizer\n",
    "from sklearn.model_selection import train_test_split\n",
    "\n",
    "# 데이터를 훈련 세트와 테스트 세트로 분할\n",
    "X_train, X_test, y_train, y_test = train_test_split(\n",
    "    db_total['reviews'], db_total['label'], test_size=0.2, random_state=42)\n",
    "\n",
    "# TfidfVectorizer 객체 생성\n",
    "vectorizer = TfidfVectorizer(max_features=5000)\n",
    "\n",
    "# 훈련 세트에 대해 TF-IDF 변환 학습\n",
    "X_train_tfidf = vectorizer.fit_transform(X_train)\n",
    "\n",
    "# 테스트 세트에 대해 동일한 변환 적용\n",
    "X_test_tfidf = vectorizer.transform(X_test)\n",
    "\n",
    "# 변환된 데이터의 크기 확인\n",
    "X_train_tfidf.shape, X_test_tfidf.shape"
   ]
  },
  {
   "cell_type": "markdown",
   "id": "47c18921-6343-42c7-aeca-2f2bdb1521c8",
   "metadata": {},
   "source": [
    "### 6. 모델 훈련 및 평가\n",
    "\n",
    "\n",
    "- 정확도 (Accuracy): 0.807 (샘플 측정 정확도)\n",
    "- 정밀도 (Precision): 0.798\n",
    "- 재현율 (Recall): 0.980\n",
    "- F1 점수 (F1 Score): 0.880\n"
   ]
  },
  {
   "cell_type": "code",
   "execution_count": 33,
   "id": "5209609e-410f-443f-af87-38c3d0a676da",
   "metadata": {
    "tags": []
   },
   "outputs": [
    {
     "data": {
      "text/plain": [
       "(0.7995283018867925,\n",
       " 0.7962466487935657,\n",
       " 0.9705882352941176,\n",
       " 0.8748159057437408)"
      ]
     },
     "execution_count": 33,
     "metadata": {},
     "output_type": "execute_result"
    }
   ],
   "source": [
    "from sklearn.linear_model import LogisticRegression\n",
    "from sklearn.metrics import accuracy_score, precision_score, recall_score, f1_score\n",
    "\n",
    "# 로지스틱 회귀 분류기 객체 생성\n",
    "clf = LogisticRegression(random_state=42)\n",
    "\n",
    "# 모델 훈련\n",
    "clf.fit(X_train_tfidf, y_train)\n",
    "\n",
    "# 테스트 세트에서 예측\n",
    "y_pred = clf.predict(X_test_tfidf)\n",
    "\n",
    "# 성능 평가\n",
    "accuracy = accuracy_score(y_test, y_pred)\n",
    "precision = precision_score(y_test, y_pred)\n",
    "recall = recall_score(y_test, y_pred)\n",
    "f1 = f1_score(y_test, y_pred)\n",
    "\n",
    "accuracy, precision, recall, f1"
   ]
  },
  {
   "cell_type": "markdown",
   "id": "a6b8cda2-e370-4592-bb47-b9b68ac3f2b3",
   "metadata": {
    "tags": []
   },
   "source": [
    "### 7. 긍정 및 부정 예측:\n",
    "\n",
    "\n",
    "- predicted_label : (긍정: 1, 부정: 0)\n",
    "- condition_positive (긍정 True , 부정 False)\n",
    "- condition_negative (부정 True, 아닌경우 False)"
   ]
  },
  {
   "cell_type": "code",
   "execution_count": 34,
   "id": "07815017-678c-48dc-ba71-fdd866450eeb",
   "metadata": {
    "tags": []
   },
   "outputs": [
    {
     "data": {
      "text/html": [
       "<div>\n",
       "<style scoped>\n",
       "    .dataframe tbody tr th:only-of-type {\n",
       "        vertical-align: middle;\n",
       "    }\n",
       "\n",
       "    .dataframe tbody tr th {\n",
       "        vertical-align: top;\n",
       "    }\n",
       "\n",
       "    .dataframe thead th {\n",
       "        text-align: right;\n",
       "    }\n",
       "</style>\n",
       "<table border=\"1\" class=\"dataframe\">\n",
       "  <thead>\n",
       "    <tr style=\"text-align: right;\">\n",
       "      <th></th>\n",
       "      <th>review</th>\n",
       "      <th>predicted_label</th>\n",
       "      <th>condition_positive</th>\n",
       "      <th>condition_negative</th>\n",
       "    </tr>\n",
       "  </thead>\n",
       "  <tbody>\n",
       "    <tr>\n",
       "      <th>1565</th>\n",
       "      <td>좋아요좋아요좋아요좋아요좋아요운동시설사용 간편해요 최고에요</td>\n",
       "      <td>1</td>\n",
       "      <td>True</td>\n",
       "      <td>False</td>\n",
       "    </tr>\n",
       "    <tr>\n",
       "      <th>1100</th>\n",
       "      <td>좋아요좋아요좋아요좋아요좋아요다른 운동시설과 다르게 운동시설박스 사이트 운영으로 입출...</td>\n",
       "      <td>1</td>\n",
       "      <td>True</td>\n",
       "      <td>False</td>\n",
       "    </tr>\n",
       "    <tr>\n",
       "      <th>1329</th>\n",
       "      <td>좋아요좋아요좋아요좋아요좋아요사이트 덕분에 운동시설 사용이 간편하고 운동하는 분위기도...</td>\n",
       "      <td>1</td>\n",
       "      <td>True</td>\n",
       "      <td>False</td>\n",
       "    </tr>\n",
       "    <tr>\n",
       "      <th>1261</th>\n",
       "      <td>좋아요좋아요좋아요좋아요좋아요시설도 좋고 다른데는 짧게 다녔는데 여기는 오래 다닐 있...</td>\n",
       "      <td>1</td>\n",
       "      <td>True</td>\n",
       "      <td>False</td>\n",
       "    </tr>\n",
       "    <tr>\n",
       "      <th>637</th>\n",
       "      <td>좋아요좋아요좋아요좋아요좋아요구버젼은 바코드 표시가 전부였는데 사용내역도 확인되고 개...</td>\n",
       "      <td>1</td>\n",
       "      <td>True</td>\n",
       "      <td>False</td>\n",
       "    </tr>\n",
       "  </tbody>\n",
       "</table>\n",
       "</div>"
      ],
      "text/plain": [
       "                                                 review  predicted_label  \\\n",
       "1565                    좋아요좋아요좋아요좋아요좋아요운동시설사용 간편해요 최고에요                1   \n",
       "1100  좋아요좋아요좋아요좋아요좋아요다른 운동시설과 다르게 운동시설박스 사이트 운영으로 입출...                1   \n",
       "1329  좋아요좋아요좋아요좋아요좋아요사이트 덕분에 운동시설 사용이 간편하고 운동하는 분위기도...                1   \n",
       "1261  좋아요좋아요좋아요좋아요좋아요시설도 좋고 다른데는 짧게 다녔는데 여기는 오래 다닐 있...                1   \n",
       "637   좋아요좋아요좋아요좋아요좋아요구버젼은 바코드 표시가 전부였는데 사용내역도 확인되고 개...                1   \n",
       "\n",
       "      condition_positive  condition_negative  \n",
       "1565                True               False  \n",
       "1100                True               False  \n",
       "1329                True               False  \n",
       "1261                True               False  \n",
       "637                 True               False  "
      ]
     },
     "execution_count": 34,
     "metadata": {},
     "output_type": "execute_result"
    }
   ],
   "source": [
    "# X_test와 y_pred를 DataFrame으로 결합\n",
    "predicted_df = pd.DataFrame({'review': X_test, 'predicted_label': y_pred})\n",
    "\n",
    "# 긍정과 부정의 조건 설정\n",
    "predicted_df['condition_positive'] = predicted_df['predicted_label'] == 1\n",
    "predicted_df['condition_negative'] = predicted_df['predicted_label'] == 0\n",
    "\n",
    "# 결과 확인\n",
    "predicted_df.head()"
   ]
  },
  {
   "cell_type": "code",
   "execution_count": null,
   "id": "f157b81d-d48c-4ad4-bcda-e3202070876b",
   "metadata": {},
   "outputs": [],
   "source": []
  },
  {
   "cell_type": "code",
   "execution_count": null,
   "id": "5da0d7a4-04e8-4374-9283-83c24a0b876a",
   "metadata": {},
   "outputs": [],
   "source": []
  }
 ],
 "metadata": {
  "kernelspec": {
   "display_name": "Python 3 (ipykernel)",
   "language": "python",
   "name": "python3"
  },
  "language_info": {
   "codemirror_mode": {
    "name": "ipython",
    "version": 3
   },
   "file_extension": ".py",
   "mimetype": "text/x-python",
   "name": "python",
   "nbconvert_exporter": "python",
   "pygments_lexer": "ipython3",
   "version": "3.11.3"
  }
 },
 "nbformat": 4,
 "nbformat_minor": 5
}
