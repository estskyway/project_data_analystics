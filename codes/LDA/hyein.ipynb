{
 "cells": [
  {
   "cell_type": "code",
   "execution_count": 3,
   "id": "9dd7331d-9a46-4db8-a896-a5eeefaa7c43",
   "metadata": {
    "tags": []
   },
   "outputs": [],
   "source": [
    "import pandas as pd\n",
    "import pymongo as mg\n",
    "client = mg.MongoClient(host='mongodb://localhost:27017')"
   ]
  },
  {
   "cell_type": "code",
   "execution_count": 4,
   "id": "d141f509-03a7-436f-8fc7-49554b4e2cea",
   "metadata": {
    "tags": []
   },
   "outputs": [],
   "source": [
    "database = client['project_data_analystics']"
   ]
  },
  {
   "cell_type": "code",
   "execution_count": 5,
   "id": "c69836b1-7728-4ae2-9735-18c8572c00e7",
   "metadata": {
    "tags": []
   },
   "outputs": [],
   "source": [
    "collection = database['review']"
   ]
  },
  {
   "cell_type": "code",
   "execution_count": null,
   "id": "9b13aa75-dfe7-4d23-9cc9-207b1259be3c",
   "metadata": {},
   "outputs": [],
   "source": [
    "cursor = collection.find({})"
   ]
  },
  {
   "cell_type": "code",
   "execution_count": null,
   "id": "9e9c8127-fd2b-46d6-bbd5-7dbb2465e6f1",
   "metadata": {},
   "outputs": [],
   "source": [
    "data_list = list(cursor)"
   ]
  },
  {
   "cell_type": "code",
   "execution_count": null,
   "id": "93320cc2-d84c-45e1-9dba-4338160849ee",
   "metadata": {},
   "outputs": [],
   "source": [
    "df_review = pd.DataFrame(data_list)\n",
    "df_review"
   ]
  },
  {
   "cell_type": "code",
   "execution_count": null,
   "id": "4b9ecf3d-8ad1-45fa-a232-f3adfd68fbdf",
   "metadata": {},
   "outputs": [],
   "source": [
    "df_review = df_review.drop_duplicates()\n",
    "df_review"
   ]
  },
  {
   "cell_type": "code",
   "execution_count": null,
   "id": "7d1c059e-5e0f-43ac-b90a-cea4a2aaa1ac",
   "metadata": {},
   "outputs": [],
   "source": [
    "df_review.to_csv('../')"
   ]
  },
  {
   "cell_type": "code",
   "execution_count": null,
   "id": "55ebcf85-0718-488c-a415-003971efd20c",
   "metadata": {},
   "outputs": [],
   "source": [
    "pd.read_csv()"
   ]
  }
 ],
 "metadata": {
  "kernelspec": {
   "display_name": "Python 3 (ipykernel)",
   "language": "python",
   "name": "python3"
  },
  "language_info": {
   "codemirror_mode": {
    "name": "ipython",
    "version": 3
   },
   "file_extension": ".py",
   "mimetype": "text/x-python",
   "name": "python",
   "nbconvert_exporter": "python",
   "pygments_lexer": "ipython3",
   "version": "3.11.3"
  }
 },
 "nbformat": 4,
 "nbformat_minor": 5
}
