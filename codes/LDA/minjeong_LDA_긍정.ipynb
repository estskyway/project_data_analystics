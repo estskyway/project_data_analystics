{
 "cells": [
  {
   "cell_type": "code",
   "execution_count": 1,
   "metadata": {
    "id": "k8UkZFtvy_qG"
   },
   "outputs": [],
   "source": [
    "# !pip install python-mecab-ko pyLDAvis"
   ]
  },
  {
   "cell_type": "code",
   "execution_count": 2,
   "metadata": {
    "id": "vBS9MsRQzKRN"
   },
   "outputs": [],
   "source": [
    "import pandas as pd"
   ]
  },
  {
   "cell_type": "code",
   "execution_count": 3,
   "metadata": {
    "colab": {
     "base_uri": "https://localhost:8080/",
     "height": 806
    },
    "id": "XhZ0nG3wzVks",
    "outputId": "552febd3-b5b2-4aee-ed31-0cba9ff6066b",
    "tags": []
   },
   "outputs": [
    {
     "data": {
      "text/html": [
       "<div>\n",
       "<style scoped>\n",
       "    .dataframe tbody tr th:only-of-type {\n",
       "        vertical-align: middle;\n",
       "    }\n",
       "\n",
       "    .dataframe tbody tr th {\n",
       "        vertical-align: top;\n",
       "    }\n",
       "\n",
       "    .dataframe thead th {\n",
       "        text-align: right;\n",
       "    }\n",
       "</style>\n",
       "<table border=\"1\" class=\"dataframe\">\n",
       "  <thead>\n",
       "    <tr style=\"text-align: right;\">\n",
       "      <th></th>\n",
       "      <th>Unnamed: 0</th>\n",
       "      <th>_id</th>\n",
       "      <th>name</th>\n",
       "      <th>reviews</th>\n",
       "      <th>stars</th>\n",
       "      <th>tokenized_review</th>\n",
       "      <th>replaced_review</th>\n",
       "      <th>preprocess_review</th>\n",
       "      <th>rating</th>\n",
       "      <th>classification</th>\n",
       "    </tr>\n",
       "  </thead>\n",
       "  <tbody>\n",
       "    <tr>\n",
       "      <th>0</th>\n",
       "      <td>0</td>\n",
       "      <td>651277e7ddb81e8e96c6bcbb</td>\n",
       "      <td>Google 사용자</td>\n",
       "      <td>입장방식은 변경됐는데 어플은 여전히 바코드만 보여집니다. 짐에서는 더이상 바코드스캔...</td>\n",
       "      <td>별표 5개 만점에 1개를 받았습니다.</td>\n",
       "      <td>입장 방식 은 변경 됐 는데 어 플 은 여전히 바코드 만 보여집니다 . 짐 에서 는...</td>\n",
       "      <td>입장 방식 은 수정 됐 는데 어 플 은 여전히 바코드 만 보여집니다 . 운동시설 에...</td>\n",
       "      <td>입장 방식 수정 돼다 여전하다 보이다 운동 시설 늘다 더 스캔 아니다 입장 바뀌다 ...</td>\n",
       "      <td>1.0</td>\n",
       "      <td>부정</td>\n",
       "    </tr>\n",
       "    <tr>\n",
       "      <th>1</th>\n",
       "      <td>1</td>\n",
       "      <td>651277e7ddb81e8e96c6bcbc</td>\n",
       "      <td>Google 사용자</td>\n",
       "      <td>정말 답답하네요 하나. GPS 100프로 신뢰하나요? 시설선택목록에서 안보임 4월말...</td>\n",
       "      <td>별표 5개 만점에 1개를 받았습니다.</td>\n",
       "      <td>정말 답답 하 네요 하나 . GPS 100 프로 신뢰 하 나요 ? 시설 선택 목록 ...</td>\n",
       "      <td>정말 답답 하 네요 하나 . GPS 100 프로 신뢰 하 나요 ? 시설 선택 목록 ...</td>\n",
       "      <td>답답 GPS 100 프로 신뢰 시설 선택 목록 보임 문제 은행 아니다 로그인 타임 ...</td>\n",
       "      <td>1.0</td>\n",
       "      <td>부정</td>\n",
       "    </tr>\n",
       "    <tr>\n",
       "      <th>2</th>\n",
       "      <td>2</td>\n",
       "      <td>651277e7ddb81e8e96c6bcbd</td>\n",
       "      <td>Google 사용자</td>\n",
       "      <td>입장하려다 시설검색이 안되서 결국 다른곳에 입장했습니다. 기존에 잘 쓰던 앱이 업데...</td>\n",
       "      <td>별표 5개 만점에 1개를 받았습니다.</td>\n",
       "      <td>입장 하 려다 시설 검색 이 안 되 서 결국 다른 곳 에 입장 했 습니다 . 기존 ...</td>\n",
       "      <td>입장 하 려다 시설 검색 이 안 되 서 결국 다른 곳 에 입장 했 습니다 . 기존 ...</td>\n",
       "      <td>입장 시설 검색 입장 기존 사이트 개선 로그인 위치 자동 검색 시설 수동 검색 입장...</td>\n",
       "      <td>1.0</td>\n",
       "      <td>부정</td>\n",
       "    </tr>\n",
       "    <tr>\n",
       "      <th>3</th>\n",
       "      <td>3</td>\n",
       "      <td>651277e7ddb81e8e96c6bcbe</td>\n",
       "      <td>한반도</td>\n",
       "      <td>평소 이동이 잦고 여러장소에서 운동하는걸 좋아하는 저에게는 합리적인 아이코젠이 정말...</td>\n",
       "      <td>별표 5개 만점에 5개를 받았습니다.</td>\n",
       "      <td>평소 이동 이 잦 고 여러 장소 에서 운동 하 는 걸 좋 아 하 는 저 에게 는 합...</td>\n",
       "      <td>평소 이동 이 잦 고 여러 장소 에서 운동 하 는 걸 좋 아 하 는 저 에게 는 합...</td>\n",
       "      <td>이동 잦다 여러 장소 운동 늘다 좋다 늘다 늘다 합리 코젠 제휴 업체 꾸준하다 추가...</td>\n",
       "      <td>5.0</td>\n",
       "      <td>긍정</td>\n",
       "    </tr>\n",
       "    <tr>\n",
       "      <th>4</th>\n",
       "      <td>4</td>\n",
       "      <td>651277e7ddb81e8e96c6bcbf</td>\n",
       "      <td>나수인</td>\n",
       "      <td>아이코젠 덕분에 운동이 더 즐겁고 꾸준하게 하게 되었어요. 사용기록이 꼼꼼히 남고 ...</td>\n",
       "      <td>별표 5개 만점에 5개를 받았습니다.</td>\n",
       "      <td>아이코 젠 덕분 에 운동 이 더 즐겁 고 꾸준 하 게 하 게 되 었 어요 . 사용 ...</td>\n",
       "      <td>아이코 젠 덕분 에 운동 이 더 즐겁 고 꾸준 하 게 하 게 되 었 어요 . 사용 ...</td>\n",
       "      <td>덕분 운동 더 즐겁다 꾸다 기록 꼼꼼하다 지점 많다 출장 본가 지속 쓸다 수 늘다 ...</td>\n",
       "      <td>5.0</td>\n",
       "      <td>긍정</td>\n",
       "    </tr>\n",
       "    <tr>\n",
       "      <th>...</th>\n",
       "      <td>...</td>\n",
       "      <td>...</td>\n",
       "      <td>...</td>\n",
       "      <td>...</td>\n",
       "      <td>...</td>\n",
       "      <td>...</td>\n",
       "      <td>...</td>\n",
       "      <td>...</td>\n",
       "      <td>...</td>\n",
       "      <td>...</td>\n",
       "    </tr>\n",
       "    <tr>\n",
       "      <th>2873</th>\n",
       "      <td>2873</td>\n",
       "      <td>651277e7ddb81e8e96c6c7f4</td>\n",
       "      <td>Google 사용자</td>\n",
       "      <td>좋아요</td>\n",
       "      <td>NaN</td>\n",
       "      <td>좋 아요</td>\n",
       "      <td>좋 아요</td>\n",
       "      <td>좋다</td>\n",
       "      <td>NaN</td>\n",
       "      <td>긍정</td>\n",
       "    </tr>\n",
       "    <tr>\n",
       "      <th>2874</th>\n",
       "      <td>2874</td>\n",
       "      <td>651277e7ddb81e8e96c6c7f5</td>\n",
       "      <td>Google 사용자</td>\n",
       "      <td>좋아용~!</td>\n",
       "      <td>NaN</td>\n",
       "      <td>좋 아용 ~!</td>\n",
       "      <td>좋 아용 ~!</td>\n",
       "      <td>좋다</td>\n",
       "      <td>NaN</td>\n",
       "      <td>긍정</td>\n",
       "    </tr>\n",
       "    <tr>\n",
       "      <th>2875</th>\n",
       "      <td>2875</td>\n",
       "      <td>651277e7ddb81e8e96c6c7f6</td>\n",
       "      <td>Google 사용자</td>\n",
       "      <td>좋아용</td>\n",
       "      <td>NaN</td>\n",
       "      <td>좋 아용</td>\n",
       "      <td>좋 아용</td>\n",
       "      <td>좋다</td>\n",
       "      <td>NaN</td>\n",
       "      <td>긍정</td>\n",
       "    </tr>\n",
       "    <tr>\n",
       "      <th>2876</th>\n",
       "      <td>2876</td>\n",
       "      <td>651277e7ddb81e8e96c6c7f7</td>\n",
       "      <td>Say Cheese</td>\n",
       "      <td>너무느려요</td>\n",
       "      <td>NaN</td>\n",
       "      <td>너무 느려요</td>\n",
       "      <td>너무 느려요</td>\n",
       "      <td>느리다</td>\n",
       "      <td>NaN</td>\n",
       "      <td>긍정</td>\n",
       "    </tr>\n",
       "    <tr>\n",
       "      <th>2877</th>\n",
       "      <td>2877</td>\n",
       "      <td>651277e7ddb81e8e96c6c7f8</td>\n",
       "      <td>Google 사용자</td>\n",
       "      <td>아주좋아여</td>\n",
       "      <td>NaN</td>\n",
       "      <td>아주 좋 아 여</td>\n",
       "      <td>아주 좋 아 여</td>\n",
       "      <td>좋다</td>\n",
       "      <td>NaN</td>\n",
       "      <td>긍정</td>\n",
       "    </tr>\n",
       "  </tbody>\n",
       "</table>\n",
       "<p>2878 rows × 10 columns</p>\n",
       "</div>"
      ],
      "text/plain": [
       "      Unnamed: 0                       _id        name  \\\n",
       "0              0  651277e7ddb81e8e96c6bcbb  Google 사용자   \n",
       "1              1  651277e7ddb81e8e96c6bcbc  Google 사용자   \n",
       "2              2  651277e7ddb81e8e96c6bcbd  Google 사용자   \n",
       "3              3  651277e7ddb81e8e96c6bcbe         한반도   \n",
       "4              4  651277e7ddb81e8e96c6bcbf         나수인   \n",
       "...          ...                       ...         ...   \n",
       "2873        2873  651277e7ddb81e8e96c6c7f4  Google 사용자   \n",
       "2874        2874  651277e7ddb81e8e96c6c7f5  Google 사용자   \n",
       "2875        2875  651277e7ddb81e8e96c6c7f6  Google 사용자   \n",
       "2876        2876  651277e7ddb81e8e96c6c7f7  Say Cheese   \n",
       "2877        2877  651277e7ddb81e8e96c6c7f8  Google 사용자   \n",
       "\n",
       "                                                reviews                 stars  \\\n",
       "0     입장방식은 변경됐는데 어플은 여전히 바코드만 보여집니다. 짐에서는 더이상 바코드스캔...  별표 5개 만점에 1개를 받았습니다.   \n",
       "1     정말 답답하네요 하나. GPS 100프로 신뢰하나요? 시설선택목록에서 안보임 4월말...  별표 5개 만점에 1개를 받았습니다.   \n",
       "2     입장하려다 시설검색이 안되서 결국 다른곳에 입장했습니다. 기존에 잘 쓰던 앱이 업데...  별표 5개 만점에 1개를 받았습니다.   \n",
       "3     평소 이동이 잦고 여러장소에서 운동하는걸 좋아하는 저에게는 합리적인 아이코젠이 정말...  별표 5개 만점에 5개를 받았습니다.   \n",
       "4     아이코젠 덕분에 운동이 더 즐겁고 꾸준하게 하게 되었어요. 사용기록이 꼼꼼히 남고 ...  별표 5개 만점에 5개를 받았습니다.   \n",
       "...                                                 ...                   ...   \n",
       "2873                                                좋아요                   NaN   \n",
       "2874                                              좋아용~!                   NaN   \n",
       "2875                                                좋아용                   NaN   \n",
       "2876                                              너무느려요                   NaN   \n",
       "2877                                              아주좋아여                   NaN   \n",
       "\n",
       "                                       tokenized_review  \\\n",
       "0     입장 방식 은 변경 됐 는데 어 플 은 여전히 바코드 만 보여집니다 . 짐 에서 는...   \n",
       "1     정말 답답 하 네요 하나 . GPS 100 프로 신뢰 하 나요 ? 시설 선택 목록 ...   \n",
       "2     입장 하 려다 시설 검색 이 안 되 서 결국 다른 곳 에 입장 했 습니다 . 기존 ...   \n",
       "3     평소 이동 이 잦 고 여러 장소 에서 운동 하 는 걸 좋 아 하 는 저 에게 는 합...   \n",
       "4     아이코 젠 덕분 에 운동 이 더 즐겁 고 꾸준 하 게 하 게 되 었 어요 . 사용 ...   \n",
       "...                                                 ...   \n",
       "2873                                               좋 아요   \n",
       "2874                                            좋 아용 ~!   \n",
       "2875                                               좋 아용   \n",
       "2876                                             너무 느려요   \n",
       "2877                                           아주 좋 아 여   \n",
       "\n",
       "                                        replaced_review  \\\n",
       "0     입장 방식 은 수정 됐 는데 어 플 은 여전히 바코드 만 보여집니다 . 운동시설 에...   \n",
       "1     정말 답답 하 네요 하나 . GPS 100 프로 신뢰 하 나요 ? 시설 선택 목록 ...   \n",
       "2     입장 하 려다 시설 검색 이 안 되 서 결국 다른 곳 에 입장 했 습니다 . 기존 ...   \n",
       "3     평소 이동 이 잦 고 여러 장소 에서 운동 하 는 걸 좋 아 하 는 저 에게 는 합...   \n",
       "4     아이코 젠 덕분 에 운동 이 더 즐겁 고 꾸준 하 게 하 게 되 었 어요 . 사용 ...   \n",
       "...                                                 ...   \n",
       "2873                                               좋 아요   \n",
       "2874                                            좋 아용 ~!   \n",
       "2875                                               좋 아용   \n",
       "2876                                             너무 느려요   \n",
       "2877                                           아주 좋 아 여   \n",
       "\n",
       "                                      preprocess_review  rating classification  \n",
       "0     입장 방식 수정 돼다 여전하다 보이다 운동 시설 늘다 더 스캔 아니다 입장 바뀌다 ...     1.0             부정  \n",
       "1     답답 GPS 100 프로 신뢰 시설 선택 목록 보임 문제 은행 아니다 로그인 타임 ...     1.0             부정  \n",
       "2     입장 시설 검색 입장 기존 사이트 개선 로그인 위치 자동 검색 시설 수동 검색 입장...     1.0             부정  \n",
       "3     이동 잦다 여러 장소 운동 늘다 좋다 늘다 늘다 합리 코젠 제휴 업체 꾸준하다 추가...     5.0             긍정  \n",
       "4     덕분 운동 더 즐겁다 꾸다 기록 꼼꼼하다 지점 많다 출장 본가 지속 쓸다 수 늘다 ...     5.0             긍정  \n",
       "...                                                 ...     ...            ...  \n",
       "2873                                                 좋다     NaN             긍정  \n",
       "2874                                                 좋다     NaN             긍정  \n",
       "2875                                                 좋다     NaN             긍정  \n",
       "2876                                                느리다     NaN             긍정  \n",
       "2877                                                 좋다     NaN             긍정  \n",
       "\n",
       "[2878 rows x 10 columns]"
      ]
     },
     "execution_count": 3,
     "metadata": {},
     "output_type": "execute_result"
    }
   ],
   "source": [
    "df = pd.read_csv('../../datasets/total_data.csv')\n",
    "df"
   ]
  },
  {
   "cell_type": "code",
   "execution_count": 4,
   "metadata": {
    "colab": {
     "base_uri": "https://localhost:8080/",
     "height": 380
    },
    "id": "kCH1QJPqz-jG",
    "outputId": "aa6220d1-e998-4755-fb43-b661b1fad72e",
    "tags": []
   },
   "outputs": [
    {
     "data": {
      "text/html": [
       "<div>\n",
       "<style scoped>\n",
       "    .dataframe tbody tr th:only-of-type {\n",
       "        vertical-align: middle;\n",
       "    }\n",
       "\n",
       "    .dataframe tbody tr th {\n",
       "        vertical-align: top;\n",
       "    }\n",
       "\n",
       "    .dataframe thead th {\n",
       "        text-align: right;\n",
       "    }\n",
       "</style>\n",
       "<table border=\"1\" class=\"dataframe\">\n",
       "  <thead>\n",
       "    <tr style=\"text-align: right;\">\n",
       "      <th></th>\n",
       "      <th>_id</th>\n",
       "      <th>name</th>\n",
       "      <th>reviews</th>\n",
       "      <th>tokenized_review</th>\n",
       "      <th>replaced_review</th>\n",
       "      <th>preprocess_review</th>\n",
       "      <th>classification</th>\n",
       "    </tr>\n",
       "  </thead>\n",
       "  <tbody>\n",
       "    <tr>\n",
       "      <th>0</th>\n",
       "      <td>651277e7ddb81e8e96c6bcbb</td>\n",
       "      <td>Google 사용자</td>\n",
       "      <td>입장방식은 변경됐는데 어플은 여전히 바코드만 보여집니다. 짐에서는 더이상 바코드스캔...</td>\n",
       "      <td>입장 방식 은 변경 됐 는데 어 플 은 여전히 바코드 만 보여집니다 . 짐 에서 는...</td>\n",
       "      <td>입장 방식 은 수정 됐 는데 어 플 은 여전히 바코드 만 보여집니다 . 운동시설 에...</td>\n",
       "      <td>입장 방식 수정 돼다 여전하다 보이다 운동 시설 늘다 더 스캔 아니다 입장 바뀌다 ...</td>\n",
       "      <td>부정</td>\n",
       "    </tr>\n",
       "    <tr>\n",
       "      <th>1</th>\n",
       "      <td>651277e7ddb81e8e96c6bcbc</td>\n",
       "      <td>Google 사용자</td>\n",
       "      <td>정말 답답하네요 하나. GPS 100프로 신뢰하나요? 시설선택목록에서 안보임 4월말...</td>\n",
       "      <td>정말 답답 하 네요 하나 . GPS 100 프로 신뢰 하 나요 ? 시설 선택 목록 ...</td>\n",
       "      <td>정말 답답 하 네요 하나 . GPS 100 프로 신뢰 하 나요 ? 시설 선택 목록 ...</td>\n",
       "      <td>답답 GPS 100 프로 신뢰 시설 선택 목록 보임 문제 은행 아니다 로그인 타임 ...</td>\n",
       "      <td>부정</td>\n",
       "    </tr>\n",
       "    <tr>\n",
       "      <th>2</th>\n",
       "      <td>651277e7ddb81e8e96c6bcbd</td>\n",
       "      <td>Google 사용자</td>\n",
       "      <td>입장하려다 시설검색이 안되서 결국 다른곳에 입장했습니다. 기존에 잘 쓰던 앱이 업데...</td>\n",
       "      <td>입장 하 려다 시설 검색 이 안 되 서 결국 다른 곳 에 입장 했 습니다 . 기존 ...</td>\n",
       "      <td>입장 하 려다 시설 검색 이 안 되 서 결국 다른 곳 에 입장 했 습니다 . 기존 ...</td>\n",
       "      <td>입장 시설 검색 입장 기존 사이트 개선 로그인 위치 자동 검색 시설 수동 검색 입장...</td>\n",
       "      <td>부정</td>\n",
       "    </tr>\n",
       "    <tr>\n",
       "      <th>3</th>\n",
       "      <td>651277e7ddb81e8e96c6bcbe</td>\n",
       "      <td>한반도</td>\n",
       "      <td>평소 이동이 잦고 여러장소에서 운동하는걸 좋아하는 저에게는 합리적인 아이코젠이 정말...</td>\n",
       "      <td>평소 이동 이 잦 고 여러 장소 에서 운동 하 는 걸 좋 아 하 는 저 에게 는 합...</td>\n",
       "      <td>평소 이동 이 잦 고 여러 장소 에서 운동 하 는 걸 좋 아 하 는 저 에게 는 합...</td>\n",
       "      <td>이동 잦다 여러 장소 운동 늘다 좋다 늘다 늘다 합리 코젠 제휴 업체 꾸준하다 추가...</td>\n",
       "      <td>긍정</td>\n",
       "    </tr>\n",
       "    <tr>\n",
       "      <th>4</th>\n",
       "      <td>651277e7ddb81e8e96c6bcbf</td>\n",
       "      <td>나수인</td>\n",
       "      <td>아이코젠 덕분에 운동이 더 즐겁고 꾸준하게 하게 되었어요. 사용기록이 꼼꼼히 남고 ...</td>\n",
       "      <td>아이코 젠 덕분 에 운동 이 더 즐겁 고 꾸준 하 게 하 게 되 었 어요 . 사용 ...</td>\n",
       "      <td>아이코 젠 덕분 에 운동 이 더 즐겁 고 꾸준 하 게 하 게 되 었 어요 . 사용 ...</td>\n",
       "      <td>덕분 운동 더 즐겁다 꾸다 기록 꼼꼼하다 지점 많다 출장 본가 지속 쓸다 수 늘다 ...</td>\n",
       "      <td>긍정</td>\n",
       "    </tr>\n",
       "  </tbody>\n",
       "</table>\n",
       "</div>"
      ],
      "text/plain": [
       "                        _id        name  \\\n",
       "0  651277e7ddb81e8e96c6bcbb  Google 사용자   \n",
       "1  651277e7ddb81e8e96c6bcbc  Google 사용자   \n",
       "2  651277e7ddb81e8e96c6bcbd  Google 사용자   \n",
       "3  651277e7ddb81e8e96c6bcbe         한반도   \n",
       "4  651277e7ddb81e8e96c6bcbf         나수인   \n",
       "\n",
       "                                             reviews  \\\n",
       "0  입장방식은 변경됐는데 어플은 여전히 바코드만 보여집니다. 짐에서는 더이상 바코드스캔...   \n",
       "1  정말 답답하네요 하나. GPS 100프로 신뢰하나요? 시설선택목록에서 안보임 4월말...   \n",
       "2  입장하려다 시설검색이 안되서 결국 다른곳에 입장했습니다. 기존에 잘 쓰던 앱이 업데...   \n",
       "3  평소 이동이 잦고 여러장소에서 운동하는걸 좋아하는 저에게는 합리적인 아이코젠이 정말...   \n",
       "4  아이코젠 덕분에 운동이 더 즐겁고 꾸준하게 하게 되었어요. 사용기록이 꼼꼼히 남고 ...   \n",
       "\n",
       "                                    tokenized_review  \\\n",
       "0  입장 방식 은 변경 됐 는데 어 플 은 여전히 바코드 만 보여집니다 . 짐 에서 는...   \n",
       "1  정말 답답 하 네요 하나 . GPS 100 프로 신뢰 하 나요 ? 시설 선택 목록 ...   \n",
       "2  입장 하 려다 시설 검색 이 안 되 서 결국 다른 곳 에 입장 했 습니다 . 기존 ...   \n",
       "3  평소 이동 이 잦 고 여러 장소 에서 운동 하 는 걸 좋 아 하 는 저 에게 는 합...   \n",
       "4  아이코 젠 덕분 에 운동 이 더 즐겁 고 꾸준 하 게 하 게 되 었 어요 . 사용 ...   \n",
       "\n",
       "                                     replaced_review  \\\n",
       "0  입장 방식 은 수정 됐 는데 어 플 은 여전히 바코드 만 보여집니다 . 운동시설 에...   \n",
       "1  정말 답답 하 네요 하나 . GPS 100 프로 신뢰 하 나요 ? 시설 선택 목록 ...   \n",
       "2  입장 하 려다 시설 검색 이 안 되 서 결국 다른 곳 에 입장 했 습니다 . 기존 ...   \n",
       "3  평소 이동 이 잦 고 여러 장소 에서 운동 하 는 걸 좋 아 하 는 저 에게 는 합...   \n",
       "4  아이코 젠 덕분 에 운동 이 더 즐겁 고 꾸준 하 게 하 게 되 었 어요 . 사용 ...   \n",
       "\n",
       "                                   preprocess_review classification  \n",
       "0  입장 방식 수정 돼다 여전하다 보이다 운동 시설 늘다 더 스캔 아니다 입장 바뀌다 ...             부정  \n",
       "1  답답 GPS 100 프로 신뢰 시설 선택 목록 보임 문제 은행 아니다 로그인 타임 ...             부정  \n",
       "2  입장 시설 검색 입장 기존 사이트 개선 로그인 위치 자동 검색 시설 수동 검색 입장...             부정  \n",
       "3  이동 잦다 여러 장소 운동 늘다 좋다 늘다 늘다 합리 코젠 제휴 업체 꾸준하다 추가...             긍정  \n",
       "4  덕분 운동 더 즐겁다 꾸다 기록 꼼꼼하다 지점 많다 출장 본가 지속 쓸다 수 늘다 ...             긍정  "
      ]
     },
     "execution_count": 4,
     "metadata": {},
     "output_type": "execute_result"
    }
   ],
   "source": [
    "# 필요없는 컬럼 삭제\n",
    "df = df.drop(columns=['Unnamed: 0', 'stars', 'rating'], axis=1)\n",
    "df[:5]"
   ]
  },
  {
   "cell_type": "code",
   "execution_count": 5,
   "metadata": {
    "colab": {
     "base_uri": "https://localhost:8080/"
    },
    "id": "McoTV3Fv0t--",
    "outputId": "1b632614-dfc6-4850-db81-1200575bf95a"
   },
   "outputs": [
    {
     "name": "stdout",
     "output_type": "stream",
     "text": [
      "<class 'pandas.core.frame.DataFrame'>\n",
      "RangeIndex: 2878 entries, 0 to 2877\n",
      "Data columns (total 7 columns):\n",
      " #   Column             Non-Null Count  Dtype \n",
      "---  ------             --------------  ----- \n",
      " 0   _id                2878 non-null   object\n",
      " 1   name               2878 non-null   object\n",
      " 2   reviews            2878 non-null   object\n",
      " 3   tokenized_review   2878 non-null   object\n",
      " 4   replaced_review    2878 non-null   object\n",
      " 5   preprocess_review  2823 non-null   object\n",
      " 6   classification     2878 non-null   object\n",
      "dtypes: object(7)\n",
      "memory usage: 157.5+ KB\n"
     ]
    }
   ],
   "source": [
    "# null값 확인\n",
    "df.info()"
   ]
  },
  {
   "cell_type": "code",
   "execution_count": 6,
   "metadata": {
    "colab": {
     "base_uri": "https://localhost:8080/",
     "height": 380
    },
    "id": "CfDjvHAi0xKd",
    "outputId": "244dec2e-c791-448a-c115-86f64173a1ef",
    "tags": []
   },
   "outputs": [
    {
     "data": {
      "text/html": [
       "<div>\n",
       "<style scoped>\n",
       "    .dataframe tbody tr th:only-of-type {\n",
       "        vertical-align: middle;\n",
       "    }\n",
       "\n",
       "    .dataframe tbody tr th {\n",
       "        vertical-align: top;\n",
       "    }\n",
       "\n",
       "    .dataframe thead th {\n",
       "        text-align: right;\n",
       "    }\n",
       "</style>\n",
       "<table border=\"1\" class=\"dataframe\">\n",
       "  <thead>\n",
       "    <tr style=\"text-align: right;\">\n",
       "      <th></th>\n",
       "      <th>_id</th>\n",
       "      <th>name</th>\n",
       "      <th>reviews</th>\n",
       "      <th>tokenized_review</th>\n",
       "      <th>replaced_review</th>\n",
       "      <th>preprocess_review</th>\n",
       "      <th>classification</th>\n",
       "    </tr>\n",
       "  </thead>\n",
       "  <tbody>\n",
       "    <tr>\n",
       "      <th>0</th>\n",
       "      <td>651277e7ddb81e8e96c6bcbb</td>\n",
       "      <td>Google 사용자</td>\n",
       "      <td>입장방식은 변경됐는데 어플은 여전히 바코드만 보여집니다. 짐에서는 더이상 바코드스캔...</td>\n",
       "      <td>입장 방식 은 변경 됐 는데 어 플 은 여전히 바코드 만 보여집니다 . 짐 에서 는...</td>\n",
       "      <td>입장 방식 은 수정 됐 는데 어 플 은 여전히 바코드 만 보여집니다 . 운동시설 에...</td>\n",
       "      <td>입장 방식 수정 돼다 여전하다 보이다 운동 시설 늘다 더 스캔 아니다 입장 바뀌다 ...</td>\n",
       "      <td>부정</td>\n",
       "    </tr>\n",
       "    <tr>\n",
       "      <th>1</th>\n",
       "      <td>651277e7ddb81e8e96c6bcbc</td>\n",
       "      <td>Google 사용자</td>\n",
       "      <td>정말 답답하네요 하나. GPS 100프로 신뢰하나요? 시설선택목록에서 안보임 4월말...</td>\n",
       "      <td>정말 답답 하 네요 하나 . GPS 100 프로 신뢰 하 나요 ? 시설 선택 목록 ...</td>\n",
       "      <td>정말 답답 하 네요 하나 . GPS 100 프로 신뢰 하 나요 ? 시설 선택 목록 ...</td>\n",
       "      <td>답답 GPS 100 프로 신뢰 시설 선택 목록 보임 문제 은행 아니다 로그인 타임 ...</td>\n",
       "      <td>부정</td>\n",
       "    </tr>\n",
       "    <tr>\n",
       "      <th>2</th>\n",
       "      <td>651277e7ddb81e8e96c6bcbd</td>\n",
       "      <td>Google 사용자</td>\n",
       "      <td>입장하려다 시설검색이 안되서 결국 다른곳에 입장했습니다. 기존에 잘 쓰던 앱이 업데...</td>\n",
       "      <td>입장 하 려다 시설 검색 이 안 되 서 결국 다른 곳 에 입장 했 습니다 . 기존 ...</td>\n",
       "      <td>입장 하 려다 시설 검색 이 안 되 서 결국 다른 곳 에 입장 했 습니다 . 기존 ...</td>\n",
       "      <td>입장 시설 검색 입장 기존 사이트 개선 로그인 위치 자동 검색 시설 수동 검색 입장...</td>\n",
       "      <td>부정</td>\n",
       "    </tr>\n",
       "    <tr>\n",
       "      <th>3</th>\n",
       "      <td>651277e7ddb81e8e96c6bcbe</td>\n",
       "      <td>한반도</td>\n",
       "      <td>평소 이동이 잦고 여러장소에서 운동하는걸 좋아하는 저에게는 합리적인 아이코젠이 정말...</td>\n",
       "      <td>평소 이동 이 잦 고 여러 장소 에서 운동 하 는 걸 좋 아 하 는 저 에게 는 합...</td>\n",
       "      <td>평소 이동 이 잦 고 여러 장소 에서 운동 하 는 걸 좋 아 하 는 저 에게 는 합...</td>\n",
       "      <td>이동 잦다 여러 장소 운동 늘다 좋다 늘다 늘다 합리 코젠 제휴 업체 꾸준하다 추가...</td>\n",
       "      <td>긍정</td>\n",
       "    </tr>\n",
       "    <tr>\n",
       "      <th>4</th>\n",
       "      <td>651277e7ddb81e8e96c6bcbf</td>\n",
       "      <td>나수인</td>\n",
       "      <td>아이코젠 덕분에 운동이 더 즐겁고 꾸준하게 하게 되었어요. 사용기록이 꼼꼼히 남고 ...</td>\n",
       "      <td>아이코 젠 덕분 에 운동 이 더 즐겁 고 꾸준 하 게 하 게 되 었 어요 . 사용 ...</td>\n",
       "      <td>아이코 젠 덕분 에 운동 이 더 즐겁 고 꾸준 하 게 하 게 되 었 어요 . 사용 ...</td>\n",
       "      <td>덕분 운동 더 즐겁다 꾸다 기록 꼼꼼하다 지점 많다 출장 본가 지속 쓸다 수 늘다 ...</td>\n",
       "      <td>긍정</td>\n",
       "    </tr>\n",
       "  </tbody>\n",
       "</table>\n",
       "</div>"
      ],
      "text/plain": [
       "                        _id        name  \\\n",
       "0  651277e7ddb81e8e96c6bcbb  Google 사용자   \n",
       "1  651277e7ddb81e8e96c6bcbc  Google 사용자   \n",
       "2  651277e7ddb81e8e96c6bcbd  Google 사용자   \n",
       "3  651277e7ddb81e8e96c6bcbe         한반도   \n",
       "4  651277e7ddb81e8e96c6bcbf         나수인   \n",
       "\n",
       "                                             reviews  \\\n",
       "0  입장방식은 변경됐는데 어플은 여전히 바코드만 보여집니다. 짐에서는 더이상 바코드스캔...   \n",
       "1  정말 답답하네요 하나. GPS 100프로 신뢰하나요? 시설선택목록에서 안보임 4월말...   \n",
       "2  입장하려다 시설검색이 안되서 결국 다른곳에 입장했습니다. 기존에 잘 쓰던 앱이 업데...   \n",
       "3  평소 이동이 잦고 여러장소에서 운동하는걸 좋아하는 저에게는 합리적인 아이코젠이 정말...   \n",
       "4  아이코젠 덕분에 운동이 더 즐겁고 꾸준하게 하게 되었어요. 사용기록이 꼼꼼히 남고 ...   \n",
       "\n",
       "                                    tokenized_review  \\\n",
       "0  입장 방식 은 변경 됐 는데 어 플 은 여전히 바코드 만 보여집니다 . 짐 에서 는...   \n",
       "1  정말 답답 하 네요 하나 . GPS 100 프로 신뢰 하 나요 ? 시설 선택 목록 ...   \n",
       "2  입장 하 려다 시설 검색 이 안 되 서 결국 다른 곳 에 입장 했 습니다 . 기존 ...   \n",
       "3  평소 이동 이 잦 고 여러 장소 에서 운동 하 는 걸 좋 아 하 는 저 에게 는 합...   \n",
       "4  아이코 젠 덕분 에 운동 이 더 즐겁 고 꾸준 하 게 하 게 되 었 어요 . 사용 ...   \n",
       "\n",
       "                                     replaced_review  \\\n",
       "0  입장 방식 은 수정 됐 는데 어 플 은 여전히 바코드 만 보여집니다 . 운동시설 에...   \n",
       "1  정말 답답 하 네요 하나 . GPS 100 프로 신뢰 하 나요 ? 시설 선택 목록 ...   \n",
       "2  입장 하 려다 시설 검색 이 안 되 서 결국 다른 곳 에 입장 했 습니다 . 기존 ...   \n",
       "3  평소 이동 이 잦 고 여러 장소 에서 운동 하 는 걸 좋 아 하 는 저 에게 는 합...   \n",
       "4  아이코 젠 덕분 에 운동 이 더 즐겁 고 꾸준 하 게 하 게 되 었 어요 . 사용 ...   \n",
       "\n",
       "                                   preprocess_review classification  \n",
       "0  입장 방식 수정 돼다 여전하다 보이다 운동 시설 늘다 더 스캔 아니다 입장 바뀌다 ...             부정  \n",
       "1  답답 GPS 100 프로 신뢰 시설 선택 목록 보임 문제 은행 아니다 로그인 타임 ...             부정  \n",
       "2  입장 시설 검색 입장 기존 사이트 개선 로그인 위치 자동 검색 시설 수동 검색 입장...             부정  \n",
       "3  이동 잦다 여러 장소 운동 늘다 좋다 늘다 늘다 합리 코젠 제휴 업체 꾸준하다 추가...             긍정  \n",
       "4  덕분 운동 더 즐겁다 꾸다 기록 꼼꼼하다 지점 많다 출장 본가 지속 쓸다 수 늘다 ...             긍정  "
      ]
     },
     "execution_count": 6,
     "metadata": {},
     "output_type": "execute_result"
    }
   ],
   "source": [
    "df = df.dropna()\n",
    "df[:5]"
   ]
  },
  {
   "cell_type": "code",
   "execution_count": 7,
   "metadata": {
    "colab": {
     "base_uri": "https://localhost:8080/"
    },
    "id": "SV3Sa5SS028l",
    "outputId": "1d5b9cc2-53c4-4592-cfcb-7123d23eb350"
   },
   "outputs": [
    {
     "name": "stdout",
     "output_type": "stream",
     "text": [
      "긍정 개수: 2194, 비율: 77.72%\n",
      "부정 개수: 629, 비율: 22.28%\n"
     ]
    }
   ],
   "source": [
    "# 긍정 / 부정 분리\n",
    "positive_count = len(df[df['classification'] == '긍정'])\n",
    "negative_count = len(df[df['classification'] == '부정'])\n",
    "\n",
    "total_count = positive_count + negative_count\n",
    "\n",
    "# 비율 계산\n",
    "positive_ratio = (positive_count / total_count) * 100\n",
    "negative_ratio = (negative_count / total_count) * 100\n",
    "\n",
    "print(f\"긍정 개수: {positive_count}, 비율: {positive_ratio:.2f}%\")\n",
    "print(f\"부정 개수: {negative_count}, 비율: {negative_ratio:.2f}%\")"
   ]
  },
  {
   "cell_type": "markdown",
   "metadata": {
    "id": "zYSEz3lm7wRQ"
   },
   "source": [
    "####  하이퍼파라미터 튜닝\n",
    "\n"
   ]
  },
  {
   "cell_type": "code",
   "execution_count": 8,
   "metadata": {
    "id": "xPXGu_V07_Ai"
   },
   "outputs": [],
   "source": [
    "# 1. 필요한 라이브러리와 변수들 설정\n",
    "\n",
    "NUM_TOPICS = 10\n",
    "PASSES = 15"
   ]
  },
  {
   "cell_type": "code",
   "execution_count": 9,
   "metadata": {
    "id": "NhJlAd1GsTfx"
   },
   "outputs": [],
   "source": [
    "import gensim"
   ]
  },
  {
   "cell_type": "code",
   "execution_count": 10,
   "metadata": {
    "id": "lG-vbR-Hp-BP"
   },
   "outputs": [],
   "source": [
    "from gensim import corpora\n",
    "from gensim.models import LdaModel"
   ]
  },
  {
   "cell_type": "code",
   "execution_count": 11,
   "metadata": {
    "id": "EYFV5Y-MoaDL"
   },
   "outputs": [],
   "source": [
    "# 2. LDA 모델링을 위한 함수 정의\n",
    "\n",
    "def lda_modeling(review_prep):\n",
    "    dictionary = corpora.Dictionary(review_prep)\n",
    "    corpus = [dictionary.doc2bow(review) for review in review_prep]\n",
    "    model = gensim.models.ldamodel.LdaModel(corpus, num_topics=NUM_TOPICS, id2word=dictionary, passes=PASSES)\n",
    "    return model, corpus, dictionary"
   ]
  },
  {
   "cell_type": "code",
   "execution_count": 12,
   "metadata": {
    "id": "Q5UHRwUX2YgH"
   },
   "outputs": [],
   "source": [
    "\n",
    "# 3. 긍정 리뷰 데이터 추출\n",
    "\n",
    "review_prep_pos = df[df['classification'] == '긍정']['preprocess_review'].dropna().str.split().tolist()"
   ]
  },
  {
   "cell_type": "code",
   "execution_count": 13,
   "metadata": {
    "id": "vLJ3jJvX2btY"
   },
   "outputs": [],
   "source": [
    "# 4. LDA 모델링 수행\n",
    "\n",
    "model, _, _ = lda_modeling(review_prep_pos)"
   ]
  },
  {
   "cell_type": "markdown",
   "metadata": {
    "id": "x_7bF_L14d6A"
   },
   "source": [
    "### 긍정 리뷰 토픽 모델링\n"
   ]
  },
  {
   "cell_type": "code",
   "execution_count": 14,
   "metadata": {
    "colab": {
     "base_uri": "https://localhost:8080/"
    },
    "id": "272UO4rp2gnT",
    "outputId": "a856dd79-fd3c-4288-ceaa-38e275e92148"
   },
   "outputs": [
    {
     "data": {
      "text/plain": [
       "['0.063*\" \"트레이닝\" \" + 0.063*\" \"굳다\" \" + 0.060*\" \"퍼스\" \" + 0.058*\" \"트레이너\" \" + 0.040*\" \"덕분\" \" + 0.033*\" \"다니다\" \" + 0.025*\" \"많다\" \" + 0.023*\" \"헬스\" \" + 0.020*\" \"만나다\" \" + 0.019*\" \"이쁘다\" \"',\n",
       " '0.091*\" \"없다\" \" + 0.071*\" \"늘다\" \" + 0.038*\" \"개선\" \" + 0.033*\" \"오류\" \" + 0.028*\" \"헬스\" \" + 0.024*\" \"유용\" \" + 0.020*\" \"사이트\" \" + 0.018*\" \"쓸다\" \" + 0.017*\" \"아니다\" \" + 0.016*\" \"삭제\" \"',\n",
       " '0.096*\" \"좋다\" \" + 0.079*\" \"사이트\" \" + 0.037*\" \"감사\" \" + 0.029*\" \"추천\" \" + 0.029*\" \"편하다\" \" + 0.029*\" \"예약\" \" + 0.028*\" \"운동\" \" + 0.025*\" \"무료\" \" + 0.019*\" \"쿠폰\" \" + 0.016*\" \"들어가다\" \"',\n",
       " '0.073*\" \"늘다\" \" + 0.029*\" \"카메라\" \" + 0.024*\" \"운동\" \" + 0.023*\" \"없다\" \" + 0.022*\" \"권한\" \" + 0.020*\" \"좋다\" \" + 0.019*\" \"설치\" \" + 0.017*\" \"수\" \" + 0.017*\" \"사이트\" \" + 0.016*\" \"트레이닝\" \"',\n",
       " '0.215*\" \"좋다\" \" + 0.040*\" \"운동\" \" + 0.038*\" \"수\" \" + 0.027*\" \"시설\" \" + 0.022*\" \"많다\" \" + 0.022*\" \"더\" \" + 0.022*\" \"헬스\" \" + 0.020*\" \"가격\" \" + 0.018*\" \"사이트\" \" + 0.017*\" \"늘다\" \"',\n",
       " '0.068*\" \"좋다\" \" + 0.048*\" \"운동\" \" + 0.045*\" \"늘다\" \" + 0.041*\" \"수\" \" + 0.033*\" \"시설\" \" + 0.023*\" \"찾다\" \" + 0.019*\" \"헬스\" \" + 0.018*\" \"사이트\" \" + 0.016*\" \"가격\" \" + 0.015*\" \"등록\" \"',\n",
       " '0.088*\" \"편리\" \" + 0.057*\" \"시설\" \" + 0.042*\" \"운동\" \" + 0.034*\" \"만족\" \" + 0.026*\" \"가능\" \" + 0.024*\" \"광고\" \" + 0.022*\" \"제휴\" \" + 0.019*\" \"좋다\" \" + 0.016*\" \"친절\" \" + 0.015*\" \"마스터\" \"',\n",
       " '0.068*\" \"늘다\" \" + 0.034*\" \"회원\" \" + 0.033*\" \"수\" \" + 0.030*\" \"개선\" \" + 0.026*\" \"하트\" \" + 0.024*\" \"없다\" \" + 0.021*\" \"가입\" \" + 0.018*\" \"스럽다\" \" + 0.014*\" \"보이다\" \" + 0.012*\" \"작동\" \"',\n",
       " '0.064*\" \"늘다\" \" + 0.040*\" \"헬스\" \" + 0.039*\" \"주변\" \" + 0.038*\" \"코칭\" \" + 0.037*\" \"수\" \" + 0.037*\" \"운동\" \" + 0.035*\" \"편하다\" \" + 0.035*\" \"최고\" \" + 0.030*\" \"좋다\" \" + 0.029*\" \"많다\" \"',\n",
       " '0.041*\" \"없다\" \" + 0.039*\" \"PT\" \" + 0.031*\" \"강사\" \" + 0.030*\" \"늘다\" \" + 0.027*\" \"지방\" \" + 0.025*\" \"지역\" \" + 0.025*\" \"정보\" \" + 0.025*\" \"그렇다\" \" + 0.019*\" \"좋다\" \" + 0.018*\" \"시작\" \"']"
      ]
     },
     "execution_count": 14,
     "metadata": {},
     "output_type": "execute_result"
    }
   ],
   "source": [
    "# 5. 토픽별 주요 단어와 그 비율 출력\n",
    "NUM_WORDS = 10\n",
    "\n",
    "# 5. 토픽별 주요 단어와 그 비율 출력\n",
    "topics_pos = model.print_topics(num_words=NUM_WORDS)\n",
    "\n",
    "topics_output_pos = []\n",
    "for topic in topics_pos:\n",
    "    words_with_quotes = []\n",
    "    for word_prob in topic[1].split(' + '):\n",
    "        prob, word = word_prob.split('*')\n",
    "        word_with_quote = f'{prob}*\" {word.strip()} \"'\n",
    "        words_with_quotes.append(word_with_quote)\n",
    "    topic_str = \" + \".join(words_with_quotes)\n",
    "    topics_output_pos.append(topic_str)\n",
    "\n",
    "topics_output_pos"
   ]
  },
  {
   "cell_type": "markdown",
   "metadata": {
    "id": "92A67uAYo-Gq"
   },
   "source": [
    "### 시각화함수\n"
   ]
  },
  {
   "cell_type": "code",
   "execution_count": 15,
   "metadata": {
    "colab": {
     "base_uri": "https://localhost:8080/"
    },
    "id": "KlK1JrG_JI9U",
    "outputId": "33bba6f7-1b38-45fa-9615-47f2206015df"
   },
   "outputs": [
    {
     "name": "stdout",
     "output_type": "stream",
     "text": [
      "Requirement already satisfied: pyLDAvis in c:\\users\\5-20\\anaconda3\\lib\\site-packages (3.4.1)\n",
      "Requirement already satisfied: numpy>=1.24.2 in c:\\users\\5-20\\anaconda3\\lib\\site-packages (from pyLDAvis) (1.24.3)\n",
      "Requirement already satisfied: scipy in c:\\users\\5-20\\anaconda3\\lib\\site-packages (from pyLDAvis) (1.10.1)\n",
      "Requirement already satisfied: pandas>=2.0.0 in c:\\users\\5-20\\anaconda3\\lib\\site-packages (from pyLDAvis) (2.1.1)\n",
      "Requirement already satisfied: joblib>=1.2.0 in c:\\users\\5-20\\anaconda3\\lib\\site-packages (from pyLDAvis) (1.2.0)\n",
      "Requirement already satisfied: jinja2 in c:\\users\\5-20\\anaconda3\\lib\\site-packages (from pyLDAvis) (3.1.2)\n",
      "Requirement already satisfied: numexpr in c:\\users\\5-20\\anaconda3\\lib\\site-packages (from pyLDAvis) (2.8.4)\n",
      "Requirement already satisfied: funcy in c:\\users\\5-20\\anaconda3\\lib\\site-packages (from pyLDAvis) (2.0)\n",
      "Requirement already satisfied: scikit-learn>=1.0.0 in c:\\users\\5-20\\anaconda3\\lib\\site-packages (from pyLDAvis) (1.2.2)\n",
      "Requirement already satisfied: gensim in c:\\users\\5-20\\anaconda3\\lib\\site-packages (from pyLDAvis) (4.3.0)\n",
      "Requirement already satisfied: setuptools in c:\\users\\5-20\\anaconda3\\lib\\site-packages (from pyLDAvis) (67.8.0)\n",
      "Requirement already satisfied: python-dateutil>=2.8.2 in c:\\users\\5-20\\anaconda3\\lib\\site-packages (from pandas>=2.0.0->pyLDAvis) (2.8.2)\n",
      "Requirement already satisfied: pytz>=2020.1 in c:\\users\\5-20\\anaconda3\\lib\\site-packages (from pandas>=2.0.0->pyLDAvis) (2022.7)\n",
      "Requirement already satisfied: tzdata>=2022.1 in c:\\users\\5-20\\anaconda3\\lib\\site-packages (from pandas>=2.0.0->pyLDAvis) (2023.3)\n",
      "Requirement already satisfied: threadpoolctl>=2.0.0 in c:\\users\\5-20\\anaconda3\\lib\\site-packages (from scikit-learn>=1.0.0->pyLDAvis) (2.2.0)\n",
      "Requirement already satisfied: smart-open>=1.8.1 in c:\\users\\5-20\\anaconda3\\lib\\site-packages (from gensim->pyLDAvis) (5.2.1)\n",
      "Requirement already satisfied: FuzzyTM>=0.4.0 in c:\\users\\5-20\\anaconda3\\lib\\site-packages (from gensim->pyLDAvis) (2.0.5)\n",
      "Requirement already satisfied: MarkupSafe>=2.0 in c:\\users\\5-20\\anaconda3\\lib\\site-packages (from jinja2->pyLDAvis) (2.1.1)\n",
      "Requirement already satisfied: pyfume in c:\\users\\5-20\\anaconda3\\lib\\site-packages (from FuzzyTM>=0.4.0->gensim->pyLDAvis) (0.2.25)\n",
      "Requirement already satisfied: six>=1.5 in c:\\users\\5-20\\anaconda3\\lib\\site-packages (from python-dateutil>=2.8.2->pandas>=2.0.0->pyLDAvis) (1.16.0)\n",
      "Requirement already satisfied: simpful in c:\\users\\5-20\\anaconda3\\lib\\site-packages (from pyfume->FuzzyTM>=0.4.0->gensim->pyLDAvis) (2.11.0)\n",
      "Requirement already satisfied: fst-pso in c:\\users\\5-20\\anaconda3\\lib\\site-packages (from pyfume->FuzzyTM>=0.4.0->gensim->pyLDAvis) (1.8.1)\n",
      "Requirement already satisfied: miniful in c:\\users\\5-20\\anaconda3\\lib\\site-packages (from fst-pso->pyfume->FuzzyTM>=0.4.0->gensim->pyLDAvis) (0.0.6)\n"
     ]
    }
   ],
   "source": [
    "!pip install pyLDAvis"
   ]
  },
  {
   "cell_type": "code",
   "execution_count": 16,
   "metadata": {
    "colab": {
     "base_uri": "https://localhost:8080/",
     "height": 917
    },
    "id": "4p5C7Kdv5SG0",
    "outputId": "ebdaa3ea-d7f6-42e2-e456-c00c8fbc3070"
   },
   "outputs": [
    {
     "data": {
      "text/html": [
       "\n",
       "<link rel=\"stylesheet\" type=\"text/css\" href=\"https://cdn.jsdelivr.net/gh/bmabey/pyLDAvis@3.4.0/pyLDAvis/js/ldavis.v1.0.0.css\">\n",
       "\n",
       "\n",
       "<div id=\"ldavis_el1979219788523004325498649236\" style=\"background-color:white;\"></div>\n",
       "<script type=\"text/javascript\">\n",
       "\n",
       "var ldavis_el1979219788523004325498649236_data = {\"mdsDat\": {\"x\": [-0.20850456633354392, -0.12075735609328823, -0.14191612768448592, -0.17925374079237855, 0.1094824983697015, 0.12573677860948018, 0.22198583695738358, 0.09387633732141261, 0.024068754949373293, 0.07528158469634547], \"y\": [0.05534993024020033, 0.036927923960467866, -0.02996409694706247, -0.030030100656094887, 0.17020319212199206, 0.09410649274496617, -0.07915663073305068, 0.14301822307391687, -0.14017893299577613, -0.22027600080955947], \"topics\": [1, 2, 3, 4, 5, 6, 7, 8, 9, 10], \"cluster\": [1, 1, 1, 1, 1, 1, 1, 1, 1, 1], \"Freq\": [40.25128869583081, 13.756269458134796, 9.958390429912921, 7.511845234076578, 7.154658843479407, 6.483080529915785, 4.555993350245133, 3.8664949684363257, 3.286931503523163, 3.1750469864450825]}, \"tinfo\": {\"Term\": [\"\\uc88b\\ub2e4\", \"\\ud3b8\\ud558\\ub2e4\", \"\\uc5c6\\ub2e4\", \"\\ub298\\ub2e4\", \"\\uc6b4\\ub3d9\", \"\\uc2dc\\uc124\", \"\\ud3b8\\ub9ac\", \"\\uac1c\\uc120\", \"\\uc0ac\\uc774\\ud2b8\", \"\\ud68c\\uc6d0\", \"\\uc608\\uc57d\", \"\\uac10\\uc0ac\", \"\\ud5ec\\uc2a4\", \"\\ub9ce\\ub2e4\", \"\\uc218\", \"\\ud2b8\\ub808\\uc774\\ub108\", \"\\ucc3e\\ub2e4\", \"\\uce5c\\uc808\", \"\\uac00\\uaca9\", \"\\ucd5c\\uace0\", \"\\ucf54\\uce6d\", \"\\uc720\\uc6a9\", \"\\ud2b8\\ub808\\uc774\\ub2dd\", \"PT\", \"\\ud37c\\uc2a4\", \"\\uad8c\\ud55c\", \"\\uc624\\ub958\", \"\\uba74\\uc11c\", \"\\uc694\\uad6c\", \"\\uad73\\ub2e4\", \"\\uae30\\uad6c\", \"\\ubc15\\uc2a4\", \"\\uc26c\\ub2e4\", \"\\uc790\\uc8fc\", \"\\uc9c1\\uc6d0\", \"\\ub113\\ub2e4\", \"\\ud569\\ub9ac\", \"\\ud64d\\ubcf4\", \"\\ud53c\\ud2b8\", \"\\uad11\\uc8fc\", \"\\uc9c1\\uc7a5\", \"\\ud544\\ub77c\\ud14c\\uc2a4\", \"\\uc6d0\\uc8fc\", \"\\uc2e0\\uc138\\uacc4\", \"\\uc54c\\ub824\\uc9c0\\ub2e4\", \"\\uc695\\uad6c\", \"\\ud29c\\ubc84\", \"\\uac00\\ub054\", \"\\uc218\\uc815\", \"\\uc810\\uc810\", \"\\ubc1c\\uc804\", \"\\uc2e0\\ub9bc\", \"\\ucc28\", \"\\ud3b8\\uc758\", \"\\ubab8\\uc9f1\", \"\\ucc38\\uace0\", \"\\uc804\\uad6d\", \"\\uad11\\uc5ed\\uc2dc\", \"\\uc2e0\\uacbd\", \"\\ud6cc\\ub96d\", \"\\ub9ce\\ub2e4\", \"\\ud61c\\ud0dd\", \"\\uc2dc\\uc124\", \"\\uae68\\ub057\", \"\\ubcc4\\ub85c\", \"\\uc88b\\ub2e4\", \"\\uc6b4\\ub3d9\", \"\\uce5c\\uc808\", \"\\ub2e4\\uc591\", \"\\ud3b8\\ub9ac\", \"\\ub354\", \"\\ucf8c\\uc801\", \"\\ub4f1\\ub85d\", \"\\uc218\", \"\\uc800\\ub834\", \"\\uc8fc\\ubcc0\", \"\\uac10\\uc0ac\", \"\\ud5ec\\uc2a4\", \"\\ub298\\ub2e4\", \"\\uac00\\uaca9\", \"\\ucf54\\uc820\", \"\\uc81c\\ud734\", \"\\ud3b8\\ud558\\ub2e4\", \"\\uc5ec\\ub7ec\", \"\\ub09c\\uace1\", \"\\ub2e4\\ub2c8\\ub2e4\", \"\\ub044\\ub2e4\", \"\\uc0ac\\uc774\\ud2b8\", \"\\ucc3e\\ub2e4\", \"\\uace8\\ud504\", \"\\uc6f0\\ube59\", \"\\uc5c5\\uccb4\", \"\\ud074\\ub7fd\", \"\\ubaa8\\ub974\\ub2e4\", \"\\uc81c\\uc77c\", \"\\ub530\\ub974\\ub2e4\", \"\\ubd88\\uac00\", \"\\ub9c8\\uad6c\", \"\\ubcf4\\uae30\", \"\\uacb0\\uacfc\", \"\\uc9c0\\ubd88\", \"\\uc2dc\\uc2a4\\ud15c\", \"\\uc5ed\\uc2dc\", \"\\ubd99\\ub2e4\", \"\\ubaa8\\uc73c\\ub2e4\", \"\\uad00\\uc7a5\", \"\\uc5f0\\uc2b5\\uc7a5\", \"\\uba64\\ubc84\\uc2ed\", \"\\uacf5\\ud654\\uad6d\", \"\\uc804\\ubc88\", \"\\uc870\\ud68c\", \"\\uc560\\ud50c\", \"\\ud654\\uc774\\ud2b8\", \"\\uc7ac\\ubc0c\\ub2e4\", \"\\ud65c\\ub3d9\", \"\\ub4ed\\ub2c8\", \"\\uc0ac\\uc6a9\\uc790\", \"\\uc0ac\\uc6a9\\uad8c\", \"\\uc720\\uc9c0\", \"\\uccb4\\ud06c\", \"\\ucd5c\\uace0\", \"\\uc2f8\\ub2e4\", \"\\uac77\\ub2e4\", \"\\uc2e4\\uc2dc\\uac04\", \"\\uad1c\\ucc2e\\ub2e4\", \"\\ud558\\ud2b8\", \"\\ub298\\uc5b4\\ub098\\ub2e4\", \"\\uac00\\uaca9\", \"\\ub2e4\\ub2c8\\ub2e4\", \"\\uc81c\\ud734\", \"\\uc2a4\\ud3ec\\uce20\", \"\\uc800\\ub834\", \"\\ucf54\\ub85c\\ub098\", \"\\ud5ec\\uc2a4\", \"\\ub298\\ub2e4\", \"\\uc88b\\ub2e4\", \"\\uacb0\\uc81c\", \"\\uc0ac\\uc774\\ud2b8\", \"\\uc9c0\\uc810\", \"\\uc6b4\\ub3d9\", \"\\ud560\\uc778\", \"\\uc5f0\\ub3d9\", \"\\ud68c\\uc6d0\", \"\\uac00\\ub2a5\", \"\\uc218\", \"\\ub2e4\\uc591\", \"\\uc11c\\uc6b8\", \"\\ucd94\\ucc9c\", \"\\uc2dc\\uc124\", \"\\uccb4\\ud5d8\", \"\\uc791\\ub3d9\", \"\\ubbf8\\ub9ac\", \"\\ub9d0\\ub2e4\", \"\\ucc0c\\ub2e4\", \"\\uacbd\\ub825\", \"\\ub3c8\", \"\\uad81\\uae08\", \"\\uc9c0\\ub3c4\", \"\\uc790\\uaca9\\uc99d\", \"\\ube44\\uc2f8\\ub2e4\", \"\\uc544\\uae5d\\ub2e4\", \"\\uc790\\uc138\", \"\\uace0\\ub974\\ub2e4\", \"\\ud589\\ubcf5\", \"\\uacb0\\uc815\", \"\\uadfc\\uc721\", \"\\ube44\\ubc88\", \"\\uac80\\uc99d\", \"\\uc798\\ubabb\", \"\\ubd88\\ub9cc\", \"\\uba54\\uc77c\", \"\\ub2eb\\ud788\\ub2e4\", \"\\uc0dd\\uaca8\\ub098\\ub2e4\", \"\\uc138\\ub2e4\", \"\\ubc14\\ud0d5\", \"\\uc6a9\\ub7c9\", \"\\ub178\\ubca8\", \"\\ube14\\ub9ac\", \"\\ub365\\ub2e4\", \"\\uac78\\uc74c\", \"\\uc120\\uc0dd\", \"\\uc790\\ub3d9\", \"\\ub610\", \"\\uc815\\ubcf4\", \"\\ud2b8\\ub808\\uc774\\ub108\", \"\\ucc3e\\ub2e4\", \"\\uc9c0\\ubc29\", \"\\uc9c0\\uc5ed\", \"\\uc218\", \"\\ub9cc\\ub4e4\\ub2e4\", \"\\uadf8\\ub807\\ub2e4\", \"\\ub298\\ub2e4\", \"\\uc88b\\ub2e4\", \"\\ube44\\uad50\", \"\\uc0ac\\uc774\\ud2b8\", \"\\ub044\\ub2e4\", \"\\ud655\\uc778\", \"\\ud5ec\\uc2a4\", \"\\ud2b8\\ub808\\uc774\\ub2dd\", \"\\ud37c\\uc2a4\", \"PT\", \"\\uc0dd\\uae30\\ub2e4\", \"\\ub9ce\\ub2e4\", \"\\uac00\\uaca9\", \"\\uc54c\", \"\\ub354\", \"\\ucd94\\ucc9c\", \"\\ub9ac\\ubdf0\", \"\\uc720\\uc6a9\", \"\\uc54c\\uc544\\ubcf4\\ub2e4\", \"pt\", \"\\uc774\\uc058\\ub2e4\", \"\\ubcf4\\uc548\", \"\\uc2dc\\uc791\", \"\\uc778\\ud130\\ud398\\uc774\\uc2a4\", \"\\ud559\\uc6d0\", \"\\uc0c1\\ub2f4\", \"\\uc774\\ub4dd\", \"\\ub9de\\ub2e4\", \"\\ud504\\ub85c\\uadf8\\ub7a8\", \"\\ucc3e\\uc544\\ubcf4\\ub2e4\", \"\\ub05d\", \"\\uc77c\\uc77c\\uc774\", \"\\ub824\\uba74\", \"\\ud655\\uc2e4\\ud558\\ub2e4\", \"\\uba54\\ub274\", \"\\uacfc\\uc815\", \"\\uc870\\uc791\", \"\\uc870\\uc815\", \"\\uaddc\\uc815\", \"\\uc57d\\uad00\", \"\\uc3d9\\uc3d9\", \"\\uc5ec\\uc11c\", \"\\ud574\\uc81c\", \"\\uccad\\ub2f4\\ub3d9\", \"\\ud601\\uc2e0\", \"\\uacf5\\uac1c\", \"\\ud22c\\uba85\", \"PT\", \"\\ud2b8\\ub808\\uc774\\ub2dd\", \"\\ub3fc\\ub2e4\", \"\\ud37c\\uc2a4\", \"\\ub9ac\\ubdf0\", \"\\uc804\\ud654\", \"\\uc2dc\\ub300\", \"\\ud2b8\\ub808\\uc774\\ub108\", \"\\uac15\\uc0ac\", \"\\uc54c\", \"\\uce74\\uba54\\ub77c\", \"\\ud544\\uc694\", \"\\ud5ec\\uc2a4\", \"\\uc88b\\ub2e4\", \"\\uc0ac\\uc774\\ud2b8\", \"\\uc8fc\\ubcc0\", \"\\ud3b8\\ud558\\ub2e4\", \"\\uc0ac\\uc9c4\", \"\\uc6b4\\ub3d9\", \"\\ucd94\\ucc9c\", \"\\uc815\\ubcf4\", \"\\ucc3e\\ub2e4\", \"\\ub354\", \"\\ub298\\ub2e4\", \"\\uc218\", \"\\uac00\\uaca9\", \"\\uc124\\uce58\", \"\\uac00\\uc785\", \"\\ud30c\\ud1a0\", \"\\ubbff\\ub2e4\", \"\\ubc88\\ud638\", \"\\ub290\\ub9ac\\ub2e4\", \"\\ub2e8\\uc704\", \"\\ud604\\uc0c1\", \"\\uc27d\\ub2e4\", \"\\uc778\\uc99d\", \"\\ub298\\ub9ac\\ub2e4\", \"\\ubaa8\\ub4e0\", \"\\ud55c\\uc9c0\", \"\\uae30\\uac04\", \"\\uc2b9\\uc778\", \"\\ud504\\ub85c\\ud544\", \"\\ub358\\uc9c0\\ub2e4\", \"\\ubc29\\uc2dd\", \"\\ubc84\\ud2bc\", \"\\uae30\\uc900\", \"\\uc811\\uadfc\", \"\\uc5ec\\uc720\", \"\\ub3d9\\uc758\", \"\\uc81c\\uac70\", \"\\uacc4\\uc2dc\", \"\\ubaa9\\ub85d\", \"\\ub2f9\\uc77c\", \"\\ub300\\uc138\", \"\\ub300\\uc694\", \"\\uc720\\ud6a8\", \"\\uad11\\uace0\", \"\\ud68c\\uc6d0\", \"\\ucf54\\uce6d\", \"\\uacc4\\uc18d\", \"\\uc218\\uac15\", \"\\uc368\\ub2e4\", \"\\uad8c\\ud55c\", \"10\", \"\\ub298\\ub2e4\", \"\\uc5c6\\ub2e4\", \"\\ud544\\uc694\", \"\\ucd94\\ucc9c\", \"\\ubb38\\uc81c\", \"\\ud648\", \"\\uc6b4\\ub3d9\", \"\\ud655\\uc778\", \"\\uc544\\ub2c8\\ub2e4\", \"\\uacb0\\uc81c\", \"\\uc218\", \"\\uc0ac\\uc774\\ud2b8\", \"\\ubcf4\\uc774\\ub2e4\", \"\\ubcf4\\uc774\", \"\\ud734\\ub300\\ud3f0\", \"\\ube7c\\ub2e4\", \"\\uc8fc\\ub85c\", \"\\uac74\\uc9c0\\ub2e4\", \"\\ud5ec\\uc2a4\\ud074\\ub7fd\", \"\\uc9c0\\uc6d0\", \"\\ud53c\", \"\\ud718\\ud2b8\", \"\\ub358\\ub370\", \"\\uc2e0\\ub8b0\", \"\\uc774\\uc81c\\uc57c\", \"\\ud3ec\\ud568\", \"\\uc0ac\\ubb34\\uc2e4\", \"\\ud1b5\\ud55c\", \"\\ubc84\\ud37c\\ub9c1\", \"\\ud398\\uc774\\uc9c0\", \"\\uc138\\uc885\", \"\\uc5b4\\ub5a1\", \"\\uc5f4\\uae30\", \"\\ucb49\\ucb49\", \"\\ub3cc\\uc544\\uc624\\ub2e4\", \"\\ub538\\ub9ac\\ub2e4\", \"\\uc804\\uc801\", \"\\ucc28\\ub2e8\", \"\\ucc1c\", \"\\uac70\\uc9d3\", \"\\ub2a5\\ub825\", \"\\uad00\\uc2ec\", \"\\uc5c6\\ub2e4\", \"\\uc120\\ud0dd\", \"\\ubc29\\ubc95\", \"\\ub204\\ub974\\ub2e4\", \"\\uc624\\ub958\", \"\\ub124\\ud2b8\\uc6cc\\ud06c\", \"\\uc4f8\\ub2e4\", \"\\uc9d1\", \"\\uc785\", \"\\uc544\\uc608\", \"\\ub298\\ub2e4\", \"\\uac1c\\uc120\", \"\\ub2ec\\ub2e4\", \"\\uc0c8\\ub86d\\ub2e4\", \"\\uc0ac\\uc774\\ud2b8\", \"\\ub3d9\\ub124\", \"\\ub144\", \"\\ud544\\uc694\", \"\\uc0ad\\uc81c\", \"\\ud5ec\\uc2a4\", \"\\uc62c\\ub9ac\\ub2e4\", \"\\uc54a\\ub2e4\", \"\\uc5ec\\ub7ec\", \"\\uac10\\uc0ac\", \"\\uc218\", \"\\ud2b8\\ub808\\uc774\\ub108\", \"\\uc54c\", \"\\uc2a4\\ub7fd\\ub2e4\", \"\\ud45c\\uc2dc\", \"\\ub85c\\uadf8\\uc778\", \"\\uc2e4\\ud589\", \"\\uc5ed\", \"\\ube60\\ub974\\ub2e4\", \"30\", \"\\uc778\\uc6d0\", \"\\uc0ac\\ub0b4\", \"\\uacbd\\ub0a8\", \"\\uac15\\uc88c\", \"\\uac1c\\uc124\", \"\\ud3c9\\ud0dd\", \"\\uc694\\uad6c\", \"\\uc0ac\\ub77c\\uc9c0\\ub2e4\", \"\\ubd84\\uba85\", \"\\uc704\\uc82f\", \"\\ud31d\\uc5c5\", \"\\uace0\\uc815\", \"\\ub9c8\\ub0e5\", \"\\ucc3d\\uc6d0\\uc2dc\", \"\\uc77c\\ucc0d\", \"\\ucc38\\uc5ec\", \"\\uc124\\uc815\", \"\\uae09\\ud558\\ub2e4\", \"\\uc0c1\\uad00\", \"\\uc2dc\\uae09\", \"\\uc810\\uac80\", \"\\uc0b4\\ub9ac\\ub2e4\", \"\\uc2ac\\ud504\\ub2e4\", \"\\ucd94\\uac00\", \"\\uac1c\\uc120\", \"\\ud68c\\uc0ac\", \"\\ub4dc\\ub9ac\\ub2e4\", \"\\ubd88\\ud3b8\", \"\\uce74\\uba54\\ub77c\", \"\\uc2a4\\ub9c8\\ud2b8\\ud3f0\", \"\\ub9cc\\uc871\", \"\\ub2f9\\ud669\", \"\\ud654\\uc774\\ud305\", \"\\uc624\\ub958\", \"\\uae30\\ub2e4\", \"\\ub298\\ub2e4\", \"\\ub4e4\\uc5b4\\uac00\\ub2e4\", \"\\uadf8\\ub807\\ub2e4\", \"\\uac00\\ub2a5\", \"\\uc544\\ub2c8\\ub2e4\", \"\\uc218\", \"\\uc608\\uc57d\", \"\\uac04\\ud3b8\", \"\\uac08\\ub2e4\", \"\\uc54c\\ub9bc\", \"\\ud5c8\\uc6a9\", \"\\ub4e3\\ub2e4\", \"\\ub9cc\\ub4dc\", \"\\ubca0\\ub2e4\", \"\\uacc4\\ud68d\", \"\\ub5a8\\ub2e4\", \"\\uadf8\\ub2e4\\uc9c0\", \"\\uce74\\ud53c\\ucea3\", \"\\ud3d0\\uac15\", \"11\", \"\\uc6d4\\uc218\", \"\\uc786\\uc7a5\", \"\\ud64d\\uae38\\ub3d9\", \"\\uce58\\uc5f4\", \"\\ud1a0\", \"\\uc8fc\\ub9d0\", \"\\ub0a8\\ub2e4\", \"\\uc751\\uc6d0\", \"\\ub9c8\\uc2a4\\ud130\", \"\\uc0ac\\uc9c4\", \"\\uace0\\uac1d\", \"\\uac70\\ub098\", \"\\uc790\\uafb8\", \"\\ud798\\ub4e4\\ub2e4\", \"\\ud655\\ub300\", \"good\", \"\\uc785\\uc7a5\", \"\\uc218\\uc5c5\", \"\\uad8c\\ud55c\", \"\\uba74\\uc11c\", \"\\ud3b8\\ub9ac\", \"\\uc5c6\\ub2e4\", \"\\ud655\\uc778\", \"\\uc6b4\\ub3d9\", \"\\uc4f8\\ub2e4\", \"\\uc2dc\\uc124\", \"\\uc2f6\\ub2e4\", \"\\uc218\", \"\\ub298\\ub2e4\", \"\\ucd5c\\uace0\", \"\\uc5f0\\ub3d9\", \"\\uadf8\\ub807\\ub2e4\", \"\\uad73\\ub2e4\", \"\\uc77c\\uc815\", \"\\uc720\\ub8cc\", \"\\uacbd\\ud5d8\", \"\\uc790\\uaca9\", \"\\uc54c\\ub78c\", \"\\ub9c8\\uac10\", \"\\uac04\\ub2e8\", \"\\uc740\\uc9c0\", \"\\ucd94\\ub2e4\", \"\\ud655\\uc2e4\", \"\\uc0ac\\uae30\", \"\\uc815\\uc0c1\", \"\\uc774\\ub825\", \"\\ub118\\uae30\\ub2e4\", \"\\uace0\\ub824\", \"\\uc5c5\\ub85c\\ub4dc\", \"\\uc57d\\uc2dc\", \"\\ub2f9\\ucca8\", \"\\uad6c\\ub3d9\", \"\\ucc28\\uac10\", \"\\ub17c\\ub780\", \"\\uc6d0\\uc870\", \"\\uc8fc\\uc791\", \"\\ucf5c\\ub77c\\ubcf4\", \"\\uc57d\\ud558\\ub2e4\", \"\\ud478\\ub2e4\", \"\\ucde8\\uc18c\", \"\\uc5bc\\ub978\", \"\\uc218\\uc900\", \"\\ub4e4\\uc5b4\\uac00\\ub2e4\", \"\\ubc84\\ub9ac\\ub2e4\", \"\\ubb34\\ub8cc\", \"\\ub9cc\\ub098\\ub2e4\", \"\\uc9f8\\ub2e4\", \"\\ucfe0\\ud3f0\", \"\\uc774\\ubca4\\ud2b8\", \"\\uad00\\ub9ac\", \"\\ud655\\uc778\", \"\\uacb0\\uc81c\", \"\\uc88b\\ub2e4\", \"10\", \"\\uc5b4\\ub5bb\\ub2e4\", \"\\uc544\\ub2c8\\ub2e4\", \"\\uc0ac\\uc774\\ud2b8\", \"\\uc218\", \"\\uc2f6\\ub2e4\", \"\\ub354\", \"\\uc624\\ub958\", \"\\uacf5\\uc9c0\", \"\\uc5d0\\ube0c\\ub9ac\", \"\\ub530\\ub2e4\", \"\\uacc4\\uc2dc\\ub2e4\", \"\\uc774\\ub974\\ub2e4\", \"\\ub3cc\\uc544\\uac00\\ub2e4\", \"\\ubfcc\\ub9ac\\ub2e4\", \"\\uc744\\uc2dc\", \"\\uc124\\uba85\", \"\\ucfe0\\ud3f0\", \"\\uc2e4\\uc6a9\", \"\\ud480\\ub9ac\\ub2e4\", \"\\uc5f4\\uc815\", \"\\ud54f\", \"\\uc131\\uacf5\", \"\\ubb3c\\uac74\", \"\\ud074\\ub9ad\", \"\\uae30\\ubcf8\", \"\\ubb34\\ub824\", \"\\ubc30\\uc6b0\", \"\\ubc1c\", \"\\ub05d\\ub098\\ub2e4\", \"\\uac81\\ub0b4\", \"\\uc384\\ub2e4\", \"\\ud53c\\ub4dc\\ubc31\", \"\\uc9c4\\uc791\", \"\\uae30\\ub300\", \"\\uac1c\\ubc1c\\uc790\", \"\\uc7a1\\ud788\\ub2e4\", \"\\uc9c0\\ud0a4\\ub2e4\", \"\\ud3b8\\ud558\\ub2e4\", \"\\uc601\\uc5c5\", \"\\uc5f4\\ub9ac\\ub2e4\", \"\\ud560\\uc778\", \"\\uc885\\ub8cc\", \"\\uac10\\uc0ac\", \"\\uc0ac\\uc774\\ud2b8\", \"\\uce5c\\uc808\", \"\\uad6c\\ub9e4\", \"\\uc694\\uad6c\", \"\\ub4dc\\ub9ac\\ub2e4\", \"\\ubd88\\ud3b8\", \"\\uac1c\\uc120\"], \"Freq\": [1772.0, 192.0, 251.0, 731.0, 647.0, 443.0, 149.0, 107.0, 305.0, 120.0, 66.0, 124.0, 316.0, 285.0, 460.0, 108.0, 105.0, 66.0, 203.0, 88.0, 57.0, 46.0, 65.0, 57.0, 63.0, 55.0, 60.0, 59.0, 36.0, 29.0, 115.2459888408758, 55.443087938953084, 52.04465488766851, 50.645771688951626, 47.297079533532056, 30.227072155462317, 29.502416679029903, 24.680268139889435, 24.033832738868036, 23.984987666107486, 22.667177366886804, 21.984243988428982, 20.578446779747665, 20.577992508396523, 20.577643627998842, 19.892914969161293, 19.890808967177385, 19.248467459572506, 17.879853269525135, 17.1987387935573, 17.198440791550947, 14.502344865217013, 14.46248618832482, 13.780324162621245, 12.411005851979601, 12.41080324695699, 11.766740050931269, 11.729073687579705, 11.728956485571109, 11.728814752909551, 263.7732923882481, 55.68543988770371, 386.95906497780817, 43.97754796468521, 22.8940114062823, 1350.5102047444452, 485.5906933254108, 56.07599332205198, 79.13995672622477, 113.76592190045302, 135.45089555691828, 35.30510447836132, 66.47612161105172, 247.31846472515556, 73.30703262576111, 46.12814122442331, 70.97246310297996, 135.40856473533316, 230.25476808469594, 92.84176917122757, 29.63345034172507, 51.83842296259015, 73.51261040009382, 38.44097232285471, 33.10247716097763, 52.43408172906594, 43.02315656346618, 71.93976307891313, 41.076251309240014, 31.457576840607313, 47.320053080488265, 29.2327883579047, 40.15826202601955, 36.29436881727898, 16.167515930101917, 14.681365132796792, 13.224165663780436, 19.699114710398923, 12.536496475121957, 12.495513764716783, 12.494194746671194, 13.090009605217087, 11.76773748497718, 11.039412235391861, 11.037439918389605, 11.032818387177143, 10.351846133831108, 10.348860334036761, 10.310558509179048, 10.231134868434895, 8.163600164252141, 5.982006417509496, 5.982006417509496, 5.980799180654211, 5.952532822659358, 8.825474601234713, 9.535696266043665, 5.253449532457601, 5.25318312062071, 17.5759949463176, 73.44214479408039, 26.782251551316747, 11.851851588667818, 8.850718520045065, 15.386187766114052, 41.14240598169525, 15.345823578295228, 78.04143900175252, 50.98385299053153, 44.86217845976346, 18.597942058540927, 43.01859861236828, 16.355160530239022, 65.92605704687658, 86.63101865205536, 114.07989844597567, 23.42831158482301, 47.2618970532127, 19.240434258131376, 47.775255895724136, 18.257218086335207, 15.763800773133363, 22.70881332323204, 18.747942479823276, 22.672283230240648, 18.62685612643293, 15.992819317841708, 17.327777361167907, 17.619968424570022, 18.344902537782424, 16.473269350715142, 14.251406137499298, 12.755137704715612, 12.377642050568664, 11.633060682619876, 11.279668473003207, 11.955112480195663, 10.531031202403117, 10.511079865707844, 9.409508034449079, 9.409542200776002, 8.661660185823681, 7.910290508183621, 6.791502894168086, 6.417565483147391, 6.417515582327806, 6.417274619811613, 6.043552996118853, 6.043318327399724, 6.04314479842351, 6.0432234708868195, 5.669384512834496, 5.668761876482018, 5.668199480758589, 5.667903222739612, 5.66642912555566, 5.295494305291786, 5.295494305291786, 5.2954803690268575, 7.16721920197344, 28.722654606470492, 9.707118320680822, 16.38722775015674, 37.36541362059485, 51.55305640091725, 48.19919983877321, 18.90515477375413, 21.740112943097362, 98.45469466872136, 17.341004143171592, 16.788824151492367, 113.79672053147287, 158.97895458092881, 15.32660426171514, 52.865072126402495, 22.689044910600085, 18.379361975825823, 36.16050393532987, 18.31965002573089, 17.9608406550692, 17.129422869904122, 13.375000290915347, 21.201061812095215, 19.53558464522559, 15.471741020256125, 17.03262427104819, 14.180894930755114, 13.21292063067604, 45.27986873262044, 23.69456760325844, 29.368937649992247, 12.729027277941471, 12.439384230989852, 39.13083519109724, 9.277037649614723, 8.407728704173426, 7.847265996862989, 7.266501377962547, 6.9807262337903015, 6.691739027972761, 6.402677217682885, 6.113726635879036, 5.5361062563763115, 5.24747613469227, 4.958381769723555, 4.958264098124007, 4.669430509697231, 4.668848255701774, 4.668537968919105, 4.668429114211742, 4.667781411747372, 4.38034530073194, 4.379313385235041, 4.378652457432393, 4.0915252767546795, 4.091520529197349, 4.091493739409556, 4.091493739409556, 39.84408650130648, 41.198667697503325, 21.485550880514158, 39.720400424843405, 24.476623227190625, 15.844301150162602, 5.714877562322249, 39.44548701362078, 21.191903608065534, 28.577704319517807, 18.148899766418584, 22.41267286623591, 52.508700277833206, 127.83786146768989, 41.41882956470117, 17.72390385997552, 29.79590582739488, 11.50616502521084, 37.02265658605195, 17.60487174614125, 14.589165002699497, 15.61329450557703, 16.18983244200841, 20.8262670891477, 18.447219991725333, 13.036869746808176, 34.52248542044891, 26.90315701684385, 20.60538893520129, 19.15385752067284, 13.306567868649084, 11.446140609022141, 11.44598169962377, 11.406070893652185, 10.36210332755783, 9.27881085315174, 8.88991627513369, 8.889692122445743, 8.8893400670713, 7.418183987817087, 7.049985098030903, 7.041078420044107, 6.682275855903117, 6.6820814179807195, 6.31443612719618, 6.31431662216082, 6.313889633899341, 6.31375139564222, 5.946447178688334, 5.943797396769141, 5.943392371595242, 5.578068708362527, 5.575357558992743, 5.210336534187415, 5.210317154992492, 5.2103242606972975, 25.662942803491834, 82.08730855455161, 36.15331185446235, 24.96913661852212, 10.342091078933596, 22.017062513557608, 23.874527340253927, 14.252853956758862, 93.77806369746757, 48.018926765118515, 19.654779994677263, 25.91527025696517, 10.563223842338727, 10.584963423203803, 38.31248232329684, 15.123168432983586, 14.388937247403655, 12.936400698631846, 18.668574056971604, 11.334179248271672, 16.82904587185976, 12.798326540914536, 11.118114041765578, 9.775285872028961, 7.778445140569916, 7.778299391326304, 7.1066365376687, 6.770852523244446, 6.770730772872272, 6.770542293930735, 6.099000605306975, 5.762760026987071, 5.427401553527096, 5.4273711159340525, 5.427273949771645, 5.091483496625785, 5.091420280086388, 5.088628801601316, 4.755636851000461, 4.755614022805679, 4.755616949497318, 4.755594999310027, 4.755566025062803, 4.755472370930362, 4.755499881831766, 4.755404471684342, 4.755387204203673, 4.75505414669518, 4.75505414669518, 6.946375000897209, 168.4633676606169, 11.98192942030584, 10.61596633850297, 8.778697615265317, 32.24958276022532, 11.047577261240928, 21.453988966377032, 21.254116999627918, 10.11693965920396, 10.925503782310614, 128.73403907915258, 30.35158342946793, 11.996446981510863, 8.80267365850856, 40.59438370658279, 13.90232028345324, 12.920946725842976, 16.49587831976058, 11.797892025999202, 24.841128805953762, 9.481273942026737, 13.684414042825942, 11.830704921976587, 13.594632508761308, 17.185765096914558, 11.944091980122993, 10.110730390223116, 21.484566314747468, 15.402166625789812, 12.805878351784564, 18.777662644220737, 11.643664334137563, 11.3536266592124, 9.319879645986322, 8.740659898474192, 8.450153287652132, 8.449848067971871, 8.160047329078823, 8.160047329078823, 8.151852468606915, 33.37338128614251, 5.272475409243412, 4.9818602027399645, 4.9799149414623995, 4.691598343548303, 4.691580244268071, 4.6913560600015725, 4.401099136977246, 4.400237364429878, 4.399961350406354, 9.673976432511244, 4.1110301996589556, 4.1110301996589556, 4.1110301996589556, 4.1110301996589556, 4.110940114605078, 4.110940114605078, 25.126582461526908, 73.00036664372688, 17.316981623228216, 25.18019252957143, 19.539930285044658, 23.249455101696995, 11.484125760456859, 19.588842767174654, 8.16044304516024, 9.343460540043779, 16.557932363507206, 7.236405683019853, 43.048828696519806, 9.800800557174233, 9.748400672821528, 11.888628219730839, 11.435254413054665, 9.467391247953461, 65.95839910990945, 30.606242318314692, 13.524896657910743, 10.532034878493645, 6.632467184284936, 6.3038233465532185, 5.6462612828196885, 5.316902848664452, 5.3165303648423246, 4.9883068368780314, 4.6591959107170675, 4.659184041504366, 4.659170077724718, 4.659163444929384, 4.659163444929384, 4.659163444929384, 4.659163444929384, 4.658876489257605, 4.658876489257605, 6.32346968632988, 6.117788099428207, 1.3860013929340327, 9.248003899170225, 15.997215961396645, 6.962731518644878, 8.32818808985548, 5.887493256328849, 6.694397943404644, 1.0573451623478773, 0.7284216126550734, 8.65605135230484, 8.953106327715389, 19.01519788221267, 16.009223415516516, 28.330288666137868, 30.537713673310996, 14.76329121258646, 33.26079034259338, 9.60545012699422, 22.48852608996935, 10.467502667225395, 19.818476873902696, 12.925163493025131, 8.2046351711463, 5.933379632632263, 5.8859970373394965, 29.009429380273136, 14.689214986252182, 13.731769737189278, 12.792703887095383, 9.602444185868238, 9.602606220871744, 8.96488749106942, 7.7062417248133555, 7.0681241396177885, 6.430117545431949, 5.79250446482605, 5.472688321808953, 5.473303817408348, 5.153998114329033, 4.834309878063787, 4.832831382848655, 4.832384747903095, 4.516638176320185, 4.516620963810655, 4.516599893324851, 4.516539056006685, 4.5163072806628435, 4.5163072806628435, 4.5163072806628435, 4.5163072806628435, 4.516287990781474, 4.516287990781474, 11.21613297973126, 1.6630594646242205, 1.6621500209094926, 16.336732296689465, 4.8882556635347605, 15.119868413480074, 10.14521099715138, 7.531572739313341, 8.418801039586263, 6.965053258413822, 7.434686490843892, 9.635865537561898, 8.695610837240821, 18.558697526036603, 6.564423196084473, 6.040848926461921, 7.522397878199121, 9.09819303556478, 8.844056267704708, 5.9919624317231, 6.218527726990414, 5.705683379687881, 15.275914183283403, 13.898446600651207, 8.378329692028975, 7.917662529682558, 7.916963065421479, 7.455403226145143, 6.995128222450019, 6.995147142384949, 14.631801625173232, 17.040305901878035, 1.4830276329248393, 1.4823179920320932, 1.8215752152632585, 14.770882640181028, 1.7111988948680006, 3.142460439159402, 7.456751128176124, 1.0217141828011251, 1.021563038320939, 1.0214357587586773, 1.0213087658620963, 1.020832470833497, 1.0207228928770227, 1.0203371125371266, 1.4808686103501203, 6.994297465307147, 10.225606778898706, 7.461806190790821, 1.4353817901211081, 1.021709667816653, 87.40469630562218, 1.9440908239092412, 4.663564727798191, 14.335984429210383, 1.776479263689976, 22.299636160727502, 30.26712577237877, 9.82959304753042, 2.5883356782310876, 2.835174895971669, 2.683265018418057, 2.3845103592243566, 2.258495709278896], \"Total\": [1772.0, 192.0, 251.0, 731.0, 647.0, 443.0, 149.0, 107.0, 305.0, 120.0, 66.0, 124.0, 316.0, 285.0, 460.0, 108.0, 105.0, 66.0, 203.0, 88.0, 57.0, 46.0, 65.0, 57.0, 63.0, 55.0, 60.0, 59.0, 36.0, 29.0, 116.46452544156196, 56.23155031982874, 52.80599671807592, 51.44492121638818, 48.06693740586758, 30.97683870424925, 30.253552515405925, 25.429893925839252, 24.784244910900732, 24.735221886752317, 23.416964806233057, 22.733988615724, 21.32803150723537, 21.327598652779788, 21.32729487679825, 20.64258371987674, 20.640631139602668, 19.99835388200116, 18.63073390394975, 17.94837426486313, 17.948105695618942, 15.252051443920001, 15.212189700534154, 14.529927669717592, 13.16066828255303, 13.160571187405196, 12.516892536961587, 12.478675998454582, 12.47856025449141, 12.478425027655694, 285.7292208330408, 60.42228741993314, 443.54021079941475, 48.2822989762929, 24.855993869401715, 1772.602026713842, 647.9348800465035, 66.5833068738203, 98.39636244784758, 149.8064444558377, 185.67604267065335, 40.84150643575021, 88.39459459775271, 460.9759097763668, 116.97084484379182, 66.34353005341727, 124.89409288769991, 316.50169465798905, 731.6047284865932, 203.9103972572244, 36.835147703836384, 97.29751300961553, 192.89071688365783, 58.376338699484016, 44.62505288890195, 115.43035694538007, 78.45834551587545, 305.36815007993823, 105.49647711389994, 32.209384576004055, 48.52183305808923, 30.025512809030072, 41.29618003634778, 37.78093082116349, 16.913070456826247, 15.421399270364063, 13.96422094452768, 20.827077270635925, 13.27659128790151, 13.235566982102004, 13.234314033506044, 13.911213368799089, 12.507765729255947, 11.779447757197929, 11.77758471207449, 11.77314241641089, 11.092119291322868, 11.090147198722159, 11.050722695097908, 11.011451315173787, 8.90468466328111, 6.722177315064403, 6.722177485225148, 6.720926121854555, 6.709956060764214, 9.974495311345176, 10.792572297761673, 5.993551002556016, 5.993276398360316, 20.40043452489847, 88.9075578927092, 33.68637326885407, 14.065562851592588, 10.282504287063261, 19.573115873935965, 66.87351584556922, 20.776963648967186, 203.9103972572244, 115.43035694538007, 97.29751300961553, 28.003326909240705, 116.97084484379182, 23.748539681368854, 316.50169465798905, 731.6047284865932, 1772.602026713842, 59.66447356894668, 305.36815007993823, 40.35051630694739, 647.9348800465035, 44.977850042569514, 28.014860588378603, 120.3282587369601, 74.52951821568585, 460.9759097763668, 98.39636244784758, 30.50294571304376, 110.62890324590883, 443.54021079941475, 19.160938448819913, 17.289462073286366, 15.067433043273992, 13.571213231529114, 13.196355934778973, 12.449085310355287, 12.09583711744438, 12.872584404389341, 11.347178210239486, 11.32708147049414, 10.22560798420318, 10.225684223150765, 9.477716262603934, 8.726880989436117, 7.607512188580776, 7.2335870204981, 7.233530909339853, 7.2333019912615635, 6.85954947624457, 6.859359832315975, 6.85918415460643, 6.8592994518673915, 6.485397763331895, 6.484820678924434, 6.4843392577466314, 6.4840976788640985, 6.4828325502847335, 6.111480587391978, 6.111480587391978, 6.111466651127049, 8.288328673571703, 34.26922548978626, 11.39846579734411, 21.500683901996126, 70.9324443092313, 108.29355155396134, 105.49647711389994, 35.349664350310135, 44.83642732241853, 460.9759097763668, 33.66377790755155, 33.118678434595665, 731.6047284865932, 1772.602026713842, 33.28092932536301, 305.36815007993823, 78.45834551587545, 62.016647273706106, 316.50169465798905, 65.11046995777963, 63.29711778034232, 57.78896798934003, 32.24780751215838, 285.7292208330408, 203.9103972572244, 79.31211642898705, 185.67604267065335, 110.62890324590883, 45.96563544978202, 46.16716209068283, 24.529285215603565, 30.755988405264304, 13.563291015609353, 13.273738749384412, 42.45157455236349, 10.111332277145145, 9.24270934529878, 8.682557196391926, 8.109883207186718, 7.815749407191607, 7.5261370574939574, 7.237053584290972, 6.948152230876984, 6.370428454565119, 6.081742464950695, 5.792645571707961, 5.792853400390535, 5.50367670871342, 5.503183542374314, 5.502920084847675, 5.502840313166703, 5.502253974335031, 5.214584702664105, 5.213682314639708, 5.213139092121017, 4.9257493517889, 4.92574460423157, 4.925717814443775, 4.925717814443775, 57.78896798934003, 65.11046995777963, 31.602710225431473, 63.29711778034232, 45.96563544978202, 28.45094903411792, 7.492916267774547, 108.29355155396134, 47.81920333707963, 79.31211642898705, 42.17038242088733, 59.25477918977758, 316.50169465798905, 1772.602026713842, 305.36815007993823, 66.34353005341727, 192.89071688365783, 28.760171994239972, 647.9348800465035, 110.62890324590883, 70.9324443092313, 105.49647711389994, 185.67604267065335, 731.6047284865932, 460.9759097763668, 203.9103972572244, 35.377662897275854, 27.72059241714461, 21.422688170469158, 19.97118525288415, 14.124264131055925, 12.26342325959936, 12.263330901408848, 12.259649883342531, 11.179656174873116, 10.096344519173458, 9.707314441189562, 9.707341331783315, 9.707500682662316, 8.235531792821652, 7.867491169918619, 7.874458453241778, 7.499599813389987, 7.499436153201938, 7.131731267161449, 7.131641095525834, 7.13125039340371, 7.131188932622281, 6.763726896230591, 6.761375559682451, 6.760959733975154, 6.395385536398736, 6.3929784016308515, 6.027613209557088, 6.0275971102036685, 6.027606033332765, 33.28617384835339, 120.3282587369601, 57.80261902275996, 50.49506980109344, 15.20813777704319, 44.19142275790589, 55.53077035528948, 29.25759916382822, 731.6047284865932, 251.5924542391643, 59.25477918977758, 110.62890324590883, 19.557114261688042, 21.16452035894322, 647.9348800465035, 62.016647273706106, 66.28123716677172, 59.66447356894668, 460.9759097763668, 305.36815007993823, 17.653389420120366, 13.622539599802048, 11.942408871928658, 10.599460275415153, 8.602720103433684, 8.602686050820168, 7.9308699095235236, 7.595062062655362, 7.594966209842305, 7.594884636231649, 6.923214741845555, 6.586979555550226, 6.251577439571045, 6.251553297117141, 6.251462299965597, 5.915657700673766, 5.9156054790136015, 5.913081510165353, 5.579802416670408, 5.5797792161862905, 5.579785382837081, 5.579760192690639, 5.579740904134694, 5.579664097699726, 5.579699198280691, 5.579595875494213, 5.5796004014650435, 5.579709157090872, 5.579709157090872, 8.775629003401152, 251.5924542391643, 15.68283801252887, 14.618031696169634, 11.819248801663544, 60.22980279091898, 16.707630295018763, 40.784507966286995, 43.45108320219955, 15.71361050851368, 17.699042717784515, 731.6047284865932, 107.45726856355088, 24.70486841611304, 14.979584544429581, 305.36815007993823, 38.714037415473186, 34.62027029111723, 59.25477918977758, 31.724022742839455, 316.50169465798905, 21.332474634070845, 79.81418011249275, 58.376338699484016, 124.89409288769991, 460.9759097763668, 108.29355155396134, 79.31211642898705, 22.318605638168982, 16.236903335135842, 13.639914127032048, 20.098171925887456, 12.478298614345952, 12.18790585575246, 10.154161769883334, 9.574616369462218, 9.28412621855566, 9.283874843080156, 8.993980386396949, 8.993980386396949, 8.995122363740998, 36.95176113811873, 6.106424868163133, 5.81587362927651, 5.814285482992581, 5.5255681270154815, 5.52554707861761, 5.525987322003345, 5.235063822202675, 5.234431110240013, 5.234226477858918, 11.532617038444702, 4.944969210345879, 4.944969210345879, 4.944969210345879, 4.944969210345879, 4.944895906395037, 4.944895906395037, 33.577886379450646, 107.45726856355088, 24.6508714411137, 37.75149692916847, 29.523566276663335, 42.17038242088733, 18.408672922272647, 37.26720295623994, 14.125281553576569, 18.802592368807627, 60.22980279091898, 13.69962634580425, 731.6047284865932, 27.53457848477043, 33.118678434595665, 74.52951821568585, 66.28123716677172, 460.9759097763668, 66.78423689400309, 31.44426983184109, 14.37257910428111, 11.42708991912806, 7.459091059257757, 7.130093452134135, 6.471926277852177, 6.142582336140244, 6.142233277479177, 5.813934292424615, 5.4848231056051775, 5.484811236392475, 5.484801002098517, 5.484808912019562, 5.484808912019562, 5.484808912019562, 5.484808912019562, 5.4847611229430315, 5.4847611229430315, 8.725165524877989, 9.692050854963506, 2.211766817161142, 15.662848611896987, 28.760171994239972, 12.684967508956273, 15.902845012957057, 11.822295482865023, 13.48483127483567, 2.201735996456632, 1.554049819046283, 21.678166062979056, 23.71596661459754, 55.53077035528948, 59.003993646622945, 149.8064444558377, 251.5924542391643, 62.016647273706106, 647.9348800465035, 40.784507966286995, 443.54021079941475, 55.508327567698736, 460.9759097763668, 731.6047284865932, 88.9075578927092, 28.014860588378603, 33.118678434595665, 29.837264856848126, 15.517063072499582, 14.55961698124659, 13.620602633655121, 10.430287657023214, 10.430476994700582, 9.792700388578517, 8.534145999344945, 7.896010690313309, 7.258490462908342, 6.620313170944265, 6.3005946554592445, 6.301558708022002, 5.9822245967250804, 5.662262586488051, 5.6608707300627055, 5.660787725853316, 5.344426287803475, 5.344410855656382, 5.344400971402138, 5.344340877364821, 5.344209020880714, 5.344209020880714, 5.344209020880714, 5.344209020880714, 5.344299832434623, 5.344299832434623, 16.63514944391159, 2.490900143386474, 2.4912171802930967, 27.53457848477043, 7.897727744130906, 35.46260322424358, 22.6379850528353, 16.625130372477305, 26.188391484433314, 16.923354259261767, 25.253336815247163, 62.016647273706106, 59.66447356894668, 1772.602026713842, 29.25759916382822, 21.984626872443002, 66.28123716677172, 305.36815007993823, 460.9759097763668, 55.508327567698736, 185.67604267065335, 60.22980279091898, 16.073175747924694, 14.731971230652821, 9.17567400111705, 8.714933238465564, 8.714320475958113, 8.25275780886069, 7.792369873640744, 7.792391623103833, 21.561404820635396, 26.188391484433314, 2.280283504435247, 2.2796403751547247, 2.811794577817935, 23.118644636348286, 2.694060550826064, 5.212501531079682, 13.020889174226085, 1.818956728909788, 1.8188245070011018, 1.8187114040917343, 1.8185832416903862, 1.8182167574613004, 1.8181354346664507, 1.8176825709086417, 2.6540348918612837, 12.558698923111793, 18.48224007312679, 14.217364684272972, 2.9835625628058917, 2.137041603328539, 192.89071688365783, 4.1053424937969565, 10.686325694125955, 44.977850042569514, 3.811269573435646, 124.89409288769991, 305.36815007993823, 66.5833068738203, 13.378989261654745, 36.95176113811873, 37.75149692916847, 29.523566276663335, 107.45726856355088], \"Category\": [\"Default\", \"Default\", \"Default\", \"Default\", \"Default\", \"Default\", \"Default\", \"Default\", \"Default\", \"Default\", \"Default\", \"Default\", \"Default\", \"Default\", \"Default\", \"Default\", \"Default\", \"Default\", \"Default\", \"Default\", \"Default\", \"Default\", \"Default\", \"Default\", \"Default\", \"Default\", \"Default\", \"Default\", \"Default\", \"Default\", \"Topic1\", \"Topic1\", \"Topic1\", \"Topic1\", \"Topic1\", \"Topic1\", \"Topic1\", \"Topic1\", \"Topic1\", \"Topic1\", \"Topic1\", \"Topic1\", \"Topic1\", \"Topic1\", \"Topic1\", \"Topic1\", \"Topic1\", \"Topic1\", \"Topic1\", \"Topic1\", \"Topic1\", \"Topic1\", \"Topic1\", \"Topic1\", \"Topic1\", \"Topic1\", \"Topic1\", \"Topic1\", \"Topic1\", \"Topic1\", \"Topic1\", \"Topic1\", \"Topic1\", \"Topic1\", \"Topic1\", \"Topic1\", \"Topic1\", \"Topic1\", \"Topic1\", \"Topic1\", \"Topic1\", \"Topic1\", \"Topic1\", \"Topic1\", \"Topic1\", \"Topic1\", \"Topic1\", \"Topic1\", \"Topic1\", \"Topic1\", \"Topic1\", \"Topic1\", \"Topic1\", \"Topic1\", \"Topic1\", \"Topic1\", \"Topic1\", \"Topic1\", \"Topic1\", \"Topic2\", \"Topic2\", \"Topic2\", \"Topic2\", \"Topic2\", \"Topic2\", \"Topic2\", \"Topic2\", \"Topic2\", \"Topic2\", \"Topic2\", \"Topic2\", \"Topic2\", \"Topic2\", \"Topic2\", \"Topic2\", \"Topic2\", \"Topic2\", \"Topic2\", \"Topic2\", \"Topic2\", \"Topic2\", \"Topic2\", \"Topic2\", \"Topic2\", \"Topic2\", \"Topic2\", \"Topic2\", \"Topic2\", \"Topic2\", \"Topic2\", \"Topic2\", \"Topic2\", \"Topic2\", \"Topic2\", \"Topic2\", \"Topic2\", \"Topic2\", \"Topic2\", \"Topic2\", \"Topic2\", \"Topic2\", \"Topic2\", \"Topic2\", \"Topic2\", \"Topic2\", \"Topic2\", \"Topic2\", \"Topic2\", \"Topic2\", \"Topic2\", \"Topic2\", \"Topic2\", \"Topic2\", \"Topic2\", \"Topic2\", \"Topic2\", \"Topic2\", \"Topic2\", \"Topic2\", \"Topic3\", \"Topic3\", \"Topic3\", \"Topic3\", \"Topic3\", \"Topic3\", \"Topic3\", \"Topic3\", \"Topic3\", \"Topic3\", \"Topic3\", \"Topic3\", \"Topic3\", \"Topic3\", \"Topic3\", \"Topic3\", \"Topic3\", \"Topic3\", \"Topic3\", \"Topic3\", \"Topic3\", \"Topic3\", \"Topic3\", \"Topic3\", \"Topic3\", \"Topic3\", \"Topic3\", \"Topic3\", \"Topic3\", \"Topic3\", \"Topic3\", \"Topic3\", \"Topic3\", \"Topic3\", \"Topic3\", \"Topic3\", \"Topic3\", \"Topic3\", \"Topic3\", \"Topic3\", \"Topic3\", \"Topic3\", \"Topic3\", \"Topic3\", \"Topic3\", \"Topic3\", \"Topic3\", \"Topic3\", \"Topic3\", \"Topic3\", \"Topic3\", \"Topic3\", \"Topic3\", \"Topic3\", \"Topic3\", \"Topic3\", \"Topic3\", \"Topic3\", \"Topic3\", \"Topic4\", \"Topic4\", \"Topic4\", \"Topic4\", \"Topic4\", \"Topic4\", \"Topic4\", \"Topic4\", \"Topic4\", \"Topic4\", \"Topic4\", \"Topic4\", \"Topic4\", \"Topic4\", \"Topic4\", \"Topic4\", \"Topic4\", \"Topic4\", \"Topic4\", \"Topic4\", \"Topic4\", \"Topic4\", \"Topic4\", \"Topic4\", \"Topic4\", \"Topic4\", \"Topic4\", \"Topic4\", \"Topic4\", \"Topic4\", \"Topic4\", \"Topic4\", \"Topic4\", \"Topic4\", \"Topic4\", \"Topic4\", \"Topic4\", \"Topic4\", \"Topic4\", \"Topic4\", \"Topic4\", \"Topic4\", \"Topic4\", \"Topic4\", \"Topic4\", \"Topic4\", \"Topic4\", \"Topic4\", \"Topic4\", \"Topic4\", \"Topic4\", \"Topic4\", \"Topic4\", \"Topic4\", \"Topic4\", \"Topic4\", \"Topic5\", \"Topic5\", \"Topic5\", \"Topic5\", \"Topic5\", \"Topic5\", \"Topic5\", \"Topic5\", \"Topic5\", \"Topic5\", \"Topic5\", \"Topic5\", \"Topic5\", \"Topic5\", \"Topic5\", \"Topic5\", \"Topic5\", \"Topic5\", \"Topic5\", \"Topic5\", \"Topic5\", \"Topic5\", \"Topic5\", \"Topic5\", \"Topic5\", \"Topic5\", \"Topic5\", \"Topic5\", \"Topic5\", \"Topic5\", \"Topic5\", \"Topic5\", \"Topic5\", \"Topic5\", \"Topic5\", \"Topic5\", \"Topic5\", \"Topic5\", \"Topic5\", \"Topic5\", \"Topic5\", \"Topic5\", \"Topic5\", \"Topic5\", \"Topic5\", \"Topic5\", \"Topic5\", \"Topic5\", \"Topic5\", \"Topic5\", \"Topic6\", \"Topic6\", \"Topic6\", \"Topic6\", \"Topic6\", \"Topic6\", \"Topic6\", \"Topic6\", \"Topic6\", \"Topic6\", \"Topic6\", \"Topic6\", \"Topic6\", \"Topic6\", \"Topic6\", \"Topic6\", \"Topic6\", \"Topic6\", \"Topic6\", \"Topic6\", \"Topic6\", \"Topic6\", \"Topic6\", \"Topic6\", \"Topic6\", \"Topic6\", \"Topic6\", \"Topic6\", \"Topic6\", \"Topic6\", \"Topic6\", \"Topic6\", \"Topic6\", \"Topic6\", \"Topic6\", \"Topic6\", \"Topic6\", \"Topic6\", \"Topic6\", \"Topic6\", \"Topic6\", \"Topic6\", \"Topic6\", \"Topic6\", \"Topic6\", \"Topic6\", \"Topic6\", \"Topic6\", \"Topic6\", \"Topic6\", \"Topic6\", \"Topic6\", \"Topic6\", \"Topic6\", \"Topic6\", \"Topic6\", \"Topic6\", \"Topic7\", \"Topic7\", \"Topic7\", \"Topic7\", \"Topic7\", \"Topic7\", \"Topic7\", \"Topic7\", \"Topic7\", \"Topic7\", \"Topic7\", \"Topic7\", \"Topic7\", \"Topic7\", \"Topic7\", \"Topic7\", \"Topic7\", \"Topic7\", \"Topic7\", \"Topic7\", \"Topic7\", \"Topic7\", \"Topic7\", \"Topic7\", \"Topic7\", \"Topic7\", \"Topic7\", \"Topic7\", \"Topic7\", \"Topic7\", \"Topic7\", \"Topic7\", \"Topic7\", \"Topic7\", \"Topic7\", \"Topic7\", \"Topic7\", \"Topic7\", \"Topic7\", \"Topic7\", \"Topic7\", \"Topic7\", \"Topic7\", \"Topic7\", \"Topic7\", \"Topic7\", \"Topic7\", \"Topic7\", \"Topic8\", \"Topic8\", \"Topic8\", \"Topic8\", \"Topic8\", \"Topic8\", \"Topic8\", \"Topic8\", \"Topic8\", \"Topic8\", \"Topic8\", \"Topic8\", \"Topic8\", \"Topic8\", \"Topic8\", \"Topic8\", \"Topic8\", \"Topic8\", \"Topic8\", \"Topic8\", \"Topic8\", \"Topic8\", \"Topic8\", \"Topic8\", \"Topic8\", \"Topic8\", \"Topic8\", \"Topic8\", \"Topic8\", \"Topic8\", \"Topic8\", \"Topic8\", \"Topic8\", \"Topic8\", \"Topic8\", \"Topic8\", \"Topic8\", \"Topic8\", \"Topic8\", \"Topic8\", \"Topic8\", \"Topic8\", \"Topic8\", \"Topic8\", \"Topic8\", \"Topic8\", \"Topic9\", \"Topic9\", \"Topic9\", \"Topic9\", \"Topic9\", \"Topic9\", \"Topic9\", \"Topic9\", \"Topic9\", \"Topic9\", \"Topic9\", \"Topic9\", \"Topic9\", \"Topic9\", \"Topic9\", \"Topic9\", \"Topic9\", \"Topic9\", \"Topic9\", \"Topic9\", \"Topic9\", \"Topic9\", \"Topic9\", \"Topic9\", \"Topic9\", \"Topic9\", \"Topic9\", \"Topic9\", \"Topic9\", \"Topic9\", \"Topic9\", \"Topic9\", \"Topic9\", \"Topic9\", \"Topic9\", \"Topic9\", \"Topic9\", \"Topic9\", \"Topic9\", \"Topic9\", \"Topic9\", \"Topic9\", \"Topic9\", \"Topic9\", \"Topic9\", \"Topic9\", \"Topic9\", \"Topic9\", \"Topic9\", \"Topic10\", \"Topic10\", \"Topic10\", \"Topic10\", \"Topic10\", \"Topic10\", \"Topic10\", \"Topic10\", \"Topic10\", \"Topic10\", \"Topic10\", \"Topic10\", \"Topic10\", \"Topic10\", \"Topic10\", \"Topic10\", \"Topic10\", \"Topic10\", \"Topic10\", \"Topic10\", \"Topic10\", \"Topic10\", \"Topic10\", \"Topic10\", \"Topic10\", \"Topic10\", \"Topic10\", \"Topic10\", \"Topic10\", \"Topic10\", \"Topic10\", \"Topic10\", \"Topic10\", \"Topic10\", \"Topic10\", \"Topic10\", \"Topic10\", \"Topic10\", \"Topic10\", \"Topic10\", \"Topic10\", \"Topic10\", \"Topic10\"], \"logprob\": [30.0, 29.0, 28.0, 27.0, 26.0, 25.0, 24.0, 23.0, 22.0, 21.0, 20.0, 19.0, 18.0, 17.0, 16.0, 15.0, 14.0, 13.0, 12.0, 11.0, 10.0, 9.0, 8.0, 7.0, 6.0, 5.0, 4.0, 3.0, 2.0, 1.0, -4.2154, -4.9471, -5.0103, -5.0376, -5.106, -5.5537, -5.578, -5.7564, -5.783, -5.785, -5.8415, -5.8721, -5.9382, -5.9382, -5.9382, -5.9721, -5.9722, -6.005, -6.0788, -6.1176, -6.1176, -6.2881, -6.2909, -6.3392, -6.4438, -6.4439, -6.4972, -6.5004, -6.5004, -6.5004, -3.3873, -4.9427, -3.0041, -5.1788, -5.8316, -1.7542, -2.7771, -4.9357, -4.5912, -4.2283, -4.0538, -5.3984, -4.7656, -3.4518, -4.6678, -5.131, -4.7001, -4.0541, -3.5232, -4.4315, -5.5735, -5.0143, -4.665, -5.3133, -5.4628, -5.0029, -5.2007, -4.6866, -5.247, -4.4401, -4.0319, -4.5135, -4.196, -4.2971, -5.1058, -5.2022, -5.3067, -4.9082, -5.3601, -5.3634, -5.3635, -5.3169, -5.4234, -5.4873, -5.4875, -5.4879, -5.5516, -5.5519, -5.5556, -5.5634, -5.7891, -6.1, -6.1, -6.1002, -6.105, -5.7111, -5.6337, -6.2299, -6.23, -5.0223, -3.5923, -4.601, -5.4163, -5.7083, -5.1553, -4.1717, -5.1579, -3.5315, -3.9573, -4.0852, -4.9657, -4.1272, -5.0942, -3.7003, -3.4271, -3.1519, -4.7348, -4.0331, -4.9318, -4.0223, -4.9842, -5.1311, -4.766, -4.9577, -4.7676, -4.9642, -5.1166, -5.0365, -5.0198, -4.6564, -4.764, -4.9089, -5.0198, -5.0498, -5.1119, -5.1427, -5.0845, -5.2114, -5.2133, -5.324, -5.324, -5.4068, -5.4975, -5.65, -5.7067, -5.7067, -5.7067, -5.7667, -5.7668, -5.7668, -5.7668, -5.8306, -5.8307, -5.8308, -5.8309, -5.8311, -5.8989, -5.8989, -5.8989, -5.5962, -4.208, -5.2928, -4.7692, -3.945, -3.6231, -3.6904, -4.6263, -4.4865, -2.9761, -4.7126, -4.745, -2.8313, -2.4969, -4.8361, -3.598, -4.4438, -4.6545, -3.9777, -4.6577, -4.6775, -4.7249, -4.9723, -4.5117, -4.5935, -4.8267, -4.7306, -4.9138, -4.9845, -3.4709, -4.1185, -3.9038, -4.7399, -4.7629, -3.6169, -5.0562, -5.1546, -5.2236, -5.3005, -5.3406, -5.3829, -5.4271, -5.4732, -5.5725, -5.626, -5.6827, -5.6827, -5.7427, -5.7429, -5.7429, -5.7429, -5.7431, -5.8066, -5.8069, -5.807, -5.8749, -5.8749, -5.8749, -5.8749, -3.5988, -3.5654, -4.2164, -3.6019, -4.0861, -4.521, -5.5407, -3.6089, -4.2302, -3.9311, -4.3852, -4.1741, -3.3228, -2.433, -3.56, -4.4089, -3.8894, -4.8409, -3.6722, -4.4156, -4.6035, -4.5356, -4.4994, -4.2476, -4.3689, -4.716, -3.6934, -3.9428, -4.2095, -4.2826, -4.6468, -4.7974, -4.7974, -4.8009, -4.8969, -5.0073, -5.0501, -5.0502, -5.0502, -5.2311, -5.282, -5.2833, -5.3356, -5.3356, -5.3922, -5.3922, -5.3923, -5.3923, -5.4523, -5.4527, -5.4528, -5.5162, -5.5167, -5.5844, -5.5844, -5.5844, -3.99, -2.8273, -3.6473, -4.0174, -4.8988, -4.1432, -4.0622, -4.5781, -2.6941, -3.3635, -4.2567, -3.9802, -4.8777, -4.8756, -3.5893, -4.5188, -4.5686, -4.675, -4.3082, -4.8072, -4.3134, -4.5872, -4.7279, -4.8566, -5.0851, -5.0851, -5.1755, -5.2239, -5.2239, -5.2239, -5.3284, -5.3851, -5.445, -5.445, -5.445, -5.5089, -5.5089, -5.5095, -5.5772, -5.5772, -5.5772, -5.5772, -5.5772, -5.5772, -5.5772, -5.5772, -5.5772, -5.5773, -5.5773, -5.1983, -2.0098, -4.6531, -4.7741, -4.9642, -3.663, -4.7343, -4.0706, -4.0799, -4.8223, -4.7454, -2.2787, -3.7236, -4.6519, -4.9614, -3.4329, -4.5044, -4.5776, -4.3334, -4.6686, -3.924, -4.8872, -4.5202, -4.6658, -4.5268, -4.2924, -4.6563, -4.8229, -3.7164, -4.0492, -4.2338, -3.8511, -4.329, -4.3542, -4.5516, -4.6157, -4.6495, -4.6496, -4.6845, -4.6845, -4.6855, -3.276, -5.1212, -5.1779, -5.1783, -5.238, -5.238, -5.238, -5.3019, -5.3021, -5.3021, -4.5143, -5.3701, -5.3701, -5.3701, -5.3701, -5.3701, -5.3701, -3.5598, -2.4933, -3.932, -3.5577, -3.8113, -3.6375, -4.3428, -3.8088, -4.6844, -4.5491, -3.9769, -4.8046, -3.0214, -4.5013, -4.5066, -4.3082, -4.347, -4.5359, -2.4306, -3.1984, -4.0151, -4.2652, -4.7277, -4.7785, -4.8886, -4.9487, -4.9488, -5.0125, -5.0808, -5.0808, -5.0808, -5.0808, -5.0808, -5.0808, -5.0808, -5.0809, -5.0809, -4.7754, -4.8084, -6.2932, -4.3952, -3.8472, -4.6791, -4.5, -4.8468, -4.7184, -6.5639, -6.9365, -4.4614, -4.4276, -3.6744, -3.8465, -3.2757, -3.2007, -3.9275, -3.1153, -4.3573, -3.5066, -4.2714, -3.633, -4.0605, -4.5149, -4.839, -4.8471, -3.0896, -3.7701, -3.8375, -3.9084, -4.1952, -4.1952, -4.2639, -4.4152, -4.5017, -4.5963, -4.7007, -4.7575, -4.7574, -4.8175, -4.8815, -4.8818, -4.8819, -4.9495, -4.9495, -4.9495, -4.9495, -4.9496, -4.9496, -4.9496, -4.9496, -4.9496, -4.9496, -4.0399, -5.9486, -5.9491, -3.6638, -4.8704, -3.7412, -4.1402, -4.4381, -4.3268, -4.5163, -4.4511, -4.1918, -4.2944, -3.5363, -4.5756, -4.6587, -4.4394, -4.2492, -4.2775, -4.6668, -4.6297, -4.7158, -3.6963, -3.7908, -4.297, -4.3535, -4.3536, -4.4137, -4.4774, -4.4774, -3.7394, -3.587, -6.0285, -6.029, -5.8229, -3.73, -5.8854, -5.2776, -4.4135, -6.4011, -6.4013, -6.4014, -6.4015, -6.402, -6.4021, -6.4025, -6.03, -4.4775, -4.0977, -4.4128, -6.0612, -6.4011, -1.9521, -5.7578, -4.8828, -3.7598, -5.848, -3.318, -3.0126, -4.1372, -5.4716, -5.3805, -5.4356, -5.5536, -5.6079], \"loglift\": [30.0, 29.0, 28.0, 27.0, 26.0, 25.0, 24.0, 23.0, 22.0, 21.0, 20.0, 19.0, 18.0, 17.0, 16.0, 15.0, 14.0, 13.0, 12.0, 11.0, 10.0, 9.0, 8.0, 7.0, 6.0, 5.0, 4.0, 3.0, 2.0, 1.0, 0.8995, 0.8959, 0.8955, 0.8944, 0.8939, 0.8855, 0.8849, 0.8801, 0.8793, 0.8792, 0.8775, 0.8765, 0.8743, 0.8742, 0.8742, 0.873, 0.873, 0.8718, 0.8689, 0.8674, 0.8674, 0.8596, 0.8595, 0.8571, 0.8514, 0.8514, 0.8482, 0.8481, 0.8481, 0.8481, 0.8301, 0.8284, 0.7736, 0.8166, 0.8278, 0.6381, 0.6216, 0.7383, 0.6922, 0.6348, 0.5946, 0.7644, 0.6251, 0.2874, 0.4428, 0.5466, 0.3449, 0.061, -0.246, 0.1232, 0.6925, 0.2804, -0.0546, 0.4922, 0.6113, 0.1209, 0.3092, -0.5357, -0.0332, 1.9601, 1.9586, 1.9569, 1.9557, 1.9435, 1.9386, 1.9345, 1.9292, 1.928, 1.9263, 1.9261, 1.9261, 1.9228, 1.9227, 1.9188, 1.9188, 1.9187, 1.9146, 1.9145, 1.9143, 1.9102, 1.8968, 1.867, 1.867, 1.867, 1.8639, 1.8613, 1.8599, 1.8519, 1.8519, 1.8347, 1.7926, 1.7543, 1.8124, 1.8337, 1.743, 1.4979, 1.6807, 1.0232, 1.1665, 1.2095, 1.5744, 0.9834, 1.6107, 0.4149, -0.1499, -0.7596, 1.0489, 0.1179, 1.2431, -0.6236, 1.0821, 1.4087, 0.3162, 0.6036, -1.0285, 0.3193, 1.338, 0.1298, -1.2421, 2.2632, 2.2584, 2.2511, 2.2447, 2.2427, 2.239, 2.2369, 2.2328, 2.2321, 2.232, 2.2236, 2.2236, 2.2167, 2.2085, 2.1933, 2.1871, 2.1871, 2.1871, 2.1801, 2.1801, 2.1801, 2.1801, 2.1723, 2.1723, 2.1722, 2.1722, 2.1722, 2.1634, 2.1634, 2.1634, 2.1614, 2.1302, 2.1461, 2.0352, 1.6658, 1.5645, 1.5234, 1.6809, 1.5829, 0.763, 1.6434, 1.6274, 0.4459, -0.1047, 1.5314, 0.553, 1.0661, 1.0906, 0.1374, 1.0386, 1.0471, 1.0908, 1.4267, -0.2942, -0.0387, 0.6724, -0.0821, 0.2525, 1.0601, 2.5693, 2.5541, 2.5425, 2.5252, 2.5238, 2.5072, 2.5026, 2.494, 2.4875, 2.4789, 2.4757, 2.4712, 2.4662, 2.4607, 2.4483, 2.4411, 2.4332, 2.4331, 2.4243, 2.4243, 2.4243, 2.4242, 2.4242, 2.4144, 2.4143, 2.4142, 2.4031, 2.4031, 2.4031, 2.4031, 2.2169, 2.131, 2.2028, 2.1227, 1.9585, 2.0033, 2.3178, 1.5788, 1.7749, 1.5679, 1.7456, 1.6165, 0.7923, -0.0408, 0.5909, 1.2688, 0.7209, 1.6726, -0.2736, 0.7507, 1.0072, 0.6781, 0.1491, -0.9703, -0.6297, -0.1612, 2.6129, 2.6075, 2.5985, 2.5956, 2.5778, 2.5684, 2.5684, 2.5652, 2.5615, 2.553, 2.5494, 2.5494, 2.5494, 2.5329, 2.5277, 2.5255, 2.522, 2.522, 2.5157, 2.5157, 2.5157, 2.5157, 2.5086, 2.5085, 2.5085, 2.5007, 2.5006, 2.4917, 2.4917, 2.4917, 2.3773, 2.255, 2.1681, 1.9332, 2.2518, 1.9407, 1.7933, 1.9182, 0.5831, 0.9812, 1.5339, 1.1861, 2.0214, 1.9445, -0.1906, 1.2262, 1.11, 1.1087, -0.5691, -0.6563, 2.6882, 2.6736, 2.6645, 2.655, 2.6353, 2.6352, 2.6262, 2.6211, 2.6211, 2.6211, 2.6092, 2.6023, 2.5946, 2.5946, 2.5946, 2.5859, 2.5859, 2.5858, 2.5762, 2.5762, 2.5762, 2.5762, 2.5761, 2.5761, 2.5761, 2.5761, 2.5761, 2.576, 2.576, 2.5022, 2.3349, 2.4668, 2.4161, 2.4386, 2.1113, 2.3223, 2.0936, 2.0209, 2.2957, 2.2536, 0.9985, 1.4717, 2.0136, 2.2043, 0.7181, 1.7118, 1.7504, 1.4572, 1.7468, 0.1911, 1.9251, 0.9725, 1.1398, 0.5182, -0.5533, 0.5314, 0.6762, 3.0506, 3.0359, 3.0256, 3.0208, 3.0195, 3.0178, 3.003, 2.9976, 2.9946, 2.9946, 2.9914, 2.9914, 2.9903, 2.9869, 2.9419, 2.9339, 2.9338, 2.9251, 2.9251, 2.925, 2.9152, 2.9151, 2.9151, 2.913, 2.904, 2.904, 2.904, 2.904, 2.904, 2.904, 2.7988, 2.7021, 2.7356, 2.6838, 2.676, 2.4933, 2.6169, 2.4456, 2.5401, 2.3894, 1.7974, 2.4505, 0.2558, 2.0557, 1.8657, 1.2531, 1.3315, -0.7968, 3.2404, 3.2258, 3.192, 3.1713, 3.1354, 3.1297, 3.1163, 3.1085, 3.1085, 3.0997, 3.0897, 3.0897, 3.0897, 3.0897, 3.0897, 3.0897, 3.0897, 3.0896, 3.0896, 2.9309, 2.7927, 2.7855, 2.7259, 2.6662, 2.653, 2.606, 2.5557, 2.5525, 2.5193, 2.4951, 2.3348, 2.2787, 2.1811, 1.9484, 1.5874, 1.144, 1.8176, 0.2834, 1.8069, 0.271, 1.5846, 0.1061, -0.7832, 0.8699, 1.7007, 1.5253, 3.3871, 3.3604, 3.3567, 3.3525, 3.3325, 3.3325, 3.3269, 3.3132, 3.3045, 3.294, 3.2816, 3.2743, 3.2743, 3.2662, 3.2571, 3.2571, 3.257, 3.2469, 3.2469, 3.2469, 3.2469, 3.2469, 3.2469, 3.2469, 3.2469, 3.2469, 3.2469, 3.0211, 3.0112, 3.0106, 2.8932, 2.9355, 2.5627, 2.6126, 2.6234, 2.2804, 2.5274, 2.1924, 1.5533, 1.4893, -1.144, 1.9207, 2.1234, 1.2392, -0.0982, -0.5384, 1.1891, 0.0187, 1.0585, 3.399, 3.3916, 3.3589, 3.3539, 3.3539, 3.3482, 3.3419, 3.3419, 3.0621, 3.0201, 3.0196, 3.0194, 3.0157, 3.0019, 2.996, 2.9438, 2.8924, 2.8731, 2.873, 2.8729, 2.8729, 2.8726, 2.8725, 2.8724, 2.8664, 2.8645, 2.8579, 2.8052, 2.7182, 2.7119, 2.6583, 2.7024, 2.6207, 2.3065, 2.6865, 1.727, 1.1384, 1.5368, 1.8072, 0.8823, 0.8059, 0.9337, -0.4125]}, \"token.table\": {\"Topic\": [5, 6, 9, 8, 7, 3, 4, 8, 4, 10, 1, 2, 3, 4, 1, 1, 2, 5, 7, 9, 5, 9, 8, 8, 1, 3, 4, 6, 7, 10, 1, 3, 4, 9, 7, 3, 10, 1, 6, 7, 10, 7, 1, 2, 8, 6, 6, 2, 3, 3, 3, 10, 2, 3, 1, 2, 5, 8, 9, 7, 3, 9, 1, 5, 5, 10, 8, 4, 8, 9, 3, 7, 2, 4, 10, 2, 4, 1, 9, 4, 6, 2, 3, 5, 1, 1, 1, 2, 9, 2, 9, 10, 9, 3, 4, 5, 8, 4, 8, 3, 7, 8, 3, 7, 5, 1, 2, 1, 7, 3, 10, 10, 5, 1, 2, 1, 3, 4, 5, 7, 10, 4, 10, 1, 2, 4, 8, 1, 9, 6, 9, 1, 2, 6, 3, 9, 5, 6, 5, 1, 2, 3, 4, 5, 6, 7, 8, 9, 5, 1, 2, 6, 1, 2, 4, 1, 2, 5, 3, 1, 6, 5, 9, 5, 7, 5, 5, 1, 2, 3, 4, 9, 6, 5, 3, 3, 10, 6, 1, 3, 6, 5, 1, 4, 5, 3, 5, 7, 10, 8, 4, 7, 9, 2, 1, 2, 4, 10, 2, 6, 8, 1, 3, 4, 7, 3, 4, 7, 9, 2, 7, 3, 8, 3, 9, 8, 1, 3, 1, 7, 1, 3, 3, 4, 4, 3, 2, 1, 2, 7, 8, 5, 2, 8, 2, 5, 1, 10, 1, 6, 9, 5, 6, 3, 10, 3, 5, 3, 1, 10, 1, 2, 3, 6, 5, 10, 3, 9, 5, 6, 5, 8, 1, 2, 2, 4, 6, 6, 7, 2, 3, 1, 5, 7, 8, 10, 2, 3, 1, 3, 3, 3, 7, 6, 10, 9, 7, 7, 6, 2, 2, 10, 1, 2, 3, 4, 5, 6, 7, 9, 10, 1, 4, 8, 1, 6, 7, 7, 7, 4, 6, 7, 3, 1, 2, 3, 1, 2, 3, 6, 3, 6, 3, 10, 5, 7, 5, 10, 3, 6, 1, 2, 3, 4, 5, 6, 7, 8, 9, 5, 7, 5, 7, 8, 9, 1, 9, 1, 5, 7, 5, 7, 1, 2, 7, 5, 7, 1, 4, 1, 2, 4, 5, 8, 2, 2, 4, 1, 6, 1, 1, 2, 6, 10, 5, 7, 1, 2, 3, 4, 5, 6, 8, 9, 2, 4, 1, 4, 5, 10, 4, 4, 6, 8, 3, 1, 3, 5, 7, 9, 4, 6, 1, 2, 3, 4, 5, 6, 8, 1, 3, 4, 6, 9, 1, 8, 4, 2, 4, 9, 9, 6, 2, 5, 9, 9, 9, 2, 1, 2, 5, 6, 7, 8, 10, 1, 2, 3, 6, 4, 5, 7, 2, 2, 5, 6, 8, 2, 6, 7, 10, 10, 1, 10, 8, 6, 7, 8, 9, 3, 4, 6, 7, 10, 1, 3, 1, 2, 3, 4, 5, 8, 9, 9, 1, 8, 2, 5, 7, 9, 4, 2, 5, 9, 10, 8, 4, 9, 10, 1, 3, 9, 4, 6, 7, 5, 4, 4, 9, 7, 1, 6, 2, 5, 8, 8, 9, 3, 6, 8, 2, 3, 3, 1, 3, 3, 1, 10, 2, 1, 2, 1, 2, 6, 2, 4, 7, 1, 5, 1, 3, 4, 9, 5, 2, 1, 2, 4, 4, 2, 5, 10, 1, 2, 3, 4, 5, 7, 9, 6, 8, 9, 1, 4, 6, 9, 3, 1, 3, 8, 2, 1, 2, 3, 6, 1, 2, 10, 1, 1, 9, 10, 1, 2, 6, 5, 9, 6, 3, 6, 1, 9, 6, 1, 7, 7, 1, 3, 4, 4, 4, 1, 2, 3, 2, 4, 5, 8, 4, 7, 9, 1, 2, 3, 4, 5, 4, 9, 8, 1, 10, 4, 7, 8, 1, 2, 1, 2, 1, 5, 9, 1, 2, 9, 10, 2, 9, 10, 8, 6, 4, 1, 3, 4, 6, 9, 3, 4, 9, 5, 7, 3, 4, 9, 6, 1, 2, 8, 1, 1, 2, 4, 10, 7, 8, 6, 7, 9, 10, 4, 5, 6, 10, 1, 1, 4, 5, 6, 3, 10, 1, 2, 4, 5, 1, 2, 3, 10, 1, 4, 3, 8, 1, 2, 3, 4, 6, 9, 6, 4, 5, 1, 3, 5, 1, 5, 8, 1, 2, 1, 4, 7, 8, 9, 4, 3, 5, 7, 8, 9, 2, 6, 7, 1, 2, 5, 1, 6, 6, 6, 8], \"Freq\": [0.47850816198577534, 0.27343323542044307, 0.23925408099288767, 0.9116087871434977, 0.8863360860266662, 0.29417379460965426, 0.6921736343756572, 0.6434800144397544, 0.9429058048102351, 0.032513993269318454, 0.4560826777394995, 0.3825209555234512, 0.09808229628806442, 0.06375349258724188, 0.9500781970410227, 0.4293600812954822, 0.25493254826919254, 0.09392251778338673, 0.16101003048580584, 0.0670875127024191, 0.9740051581040909, 0.9374107263473176, 0.985871198974663, 0.9740770879340556, 0.5684816499995764, 0.032027135211243736, 0.0720610542252984, 0.11209497323935308, 0.040033919014054675, 0.17614924366184057, 0.31368151188685334, 0.14638470554719824, 0.43915411664159465, 0.10456050396228445, 0.8894838165424169, 0.42201913879561004, 0.49235566192821173, 0.009306024742370907, 0.2791807422711272, 0.6793398061930762, 0.018612049484741815, 0.8894838165424169, 0.3772909812748234, 0.06288183021247057, 0.5030546416997645, 0.8961040547509256, 0.9299421079346829, 0.8531475154327924, 0.14219125257213208, 0.8445611022063243, 0.8746930131167809, 0.5500140313713521, 0.9066479748262528, 0.8294639966309334, 0.21788510351939241, 0.3854890293035404, 0.21788510351939241, 0.0167603925784148, 0.1508435332057332, 0.8617091607996948, 0.9639262404297501, 0.9544364775665891, 0.4950978402144646, 0.4950978402144646, 0.8874479713063248, 0.9179645765603774, 0.8140361614614614, 0.3941673478051662, 0.5518342869272327, 0.8832563466688834, 0.9167078145885105, 0.9048877747053615, 0.9624524159053618, 0.8120643834429013, 0.9332318787055347, 0.9049181918605189, 0.9084835946275698, 0.6731783654719221, 0.2771910916649091, 0.11395194573658847, 0.7976636201561192, 0.9343299869257348, 0.21029752569012305, 0.7811050954204571, 0.961640481849688, 0.9702763173049971, 0.2043619434822075, 0.7663572880582781, 0.9355585456171748, 0.7474406178545042, 0.07474406178545043, 0.22423218535635128, 0.9719389541613443, 0.9322137360317634, 0.21609640786942483, 0.43219281573884966, 0.342152645793256, 0.9086216781607215, 0.9116064280888629, 0.5133055062439283, 0.3019444154376049, 0.18116664926256293, 0.8294704308587204, 0.8089029132135319, 0.8499754692345939, 0.987425137087801, 0.008586305539893922, 0.43796814953552404, 0.510962841124778, 0.4328479647676482, 0.5410599559595602, 0.5497656893681914, 0.8413210815900719, 0.9113070614471869, 0.0828460964951988, 0.5480615187239614, 0.29314918443374677, 0.0892193170015751, 0.03823685014353218, 0.012745616714510728, 0.025491233429021456, 0.8635389382138926, 0.5499894310710556, 0.7394949218806854, 0.24649830729356179, 0.3095320118407794, 0.6190640236815588, 0.9684655134251885, 0.8830392309836673, 0.6583818175148127, 0.29926446250673305, 0.3177329323977678, 0.2888481203616071, 0.37550255647008923, 0.81813235410009, 0.9355921485226659, 0.16921549191167737, 0.7614697136025482, 0.8969762983096585, 0.31437741043005685, 0.11891667264093454, 0.15582184690881076, 0.028704024430570404, 0.12848468078445802, 0.17632472150207534, 0.05877490716735845, 0.017769157980829297, 0.0027337166124352767, 0.9271359297697906, 0.24065114058418002, 0.7219534217525401, 0.8961040547509256, 0.45048808109123, 0.4418248487625525, 0.0952955556154525, 0.8028752083378273, 0.19309656909390785, 0.8969830536609175, 0.925155282521558, 0.48573422039250147, 0.48573422039250147, 0.938529684140556, 0.935556815342543, 0.3539752450976089, 0.5663603921561743, 0.8295157346978146, 0.8295179502850105, 0.7270727987210445, 0.053857244349707, 0.09155731539450189, 0.0861715909595312, 0.0323143466098242, 0.8666494141420421, 0.9333831369911247, 0.8181342197257875, 0.9094037802589136, 0.8482013118674525, 0.8960989561889701, 0.36162593556838624, 0.25830423969170446, 0.36162593556838624, 0.8870849003888353, 0.25314284575384943, 0.6644999701038548, 0.06328571143846236, 0.1854231108539564, 0.052978031672558976, 0.6622253959069871, 0.07946704750883847, 0.841503697010327, 0.03631797016806003, 0.36317970168060026, 0.5810875226889605, 0.9023012913508749, 0.7466519904337899, 0.18100654313546422, 0.06787745367579909, 0.8718705567597624, 0.9726743816837761, 0.8961112913699055, 0.8600028394739261, 0.18604059378914173, 0.7441623751565669, 0.8221328063158188, 0.9530851791974376, 0.2828199778550358, 0.5221291898862199, 0.17404306329540664, 0.9190519103900019, 0.9602883659628026, 0.904815684265331, 0.3830720802244489, 0.5746081203366733, 0.5300825127321592, 0.4417354272767994, 0.9270810176767351, 0.47528830673549677, 0.5049938259064654, 0.45616517075246604, 0.5366649067676071, 0.923951702350605, 0.0734961581415254, 0.9579099361432144, 0.895627486925182, 0.8631324935070714, 0.8747248960484655, 0.9017012868099922, 0.4745441498026899, 0.2033760642011528, 0.03389601070019213, 0.27116808560153705, 0.92713336148309, 0.9528616478616277, 0.026468379107267438, 0.933977574257878, 0.9381764345326116, 0.9118078005133131, 0.5498056553288977, 0.39478207258143616, 0.16919231682061547, 0.4229807920515387, 0.5624551686313333, 0.4090583044591514, 0.19184646643026823, 0.5755393992908047, 0.9291562776347968, 0.9513706752710686, 0.9253407794206913, 0.9780985885535071, 0.5498785961925464, 0.9471751664661541, 0.06840866272454657, 0.13681732544909314, 0.7524952899700124, 0.9334035062104369, 0.5498398469104012, 0.25323739495657777, 0.6330934873914443, 0.8413104441592487, 0.8452220178877997, 0.9204019324034068, 0.8139899030058102, 0.9253301284529811, 0.040231744715347004, 0.9791669953602052, 0.904040694680428, 0.9543007678383923, 0.9629878770262855, 0.8597160665304889, 0.930950609535755, 0.8747395994566749, 0.03387124680768806, 0.06774249361537613, 0.6774249361537613, 0.13548498723075225, 0.06774249361537613, 0.9338298557568931, 0.81813235410009, 0.5108030438033621, 0.45070856806179005, 0.8294966817711336, 0.8801432652125395, 0.9025340472914967, 0.9434442641569621, 0.8983146479839087, 0.7935758882167853, 0.8616858293040923, 0.818809714022412, 0.7998128693869778, 0.834229991180136, 0.9265631699380834, 0.09265631699380834, 0.23578097447671634, 0.15391258056118984, 0.1735609951009162, 0.13426416602146346, 0.03602209332283166, 0.13426416602146346, 0.00327473575662106, 0.029472621809589542, 0.0982420726986318, 0.034770306665769524, 0.41724367998923423, 0.5563249066523124, 0.4728278037622358, 0.37826224300978867, 0.1260874143365962, 0.8089149045234622, 0.8089029132135319, 0.9213875381465306, 0.6008177311797881, 0.3337876284332156, 0.9252376121208573, 0.1860591606960511, 0.4031281815081107, 0.4031281815081107, 0.45897206557376125, 0.5245395035128699, 0.846240309943488, 0.14590350171439448, 0.19129190760009945, 0.7651676304003978, 0.2782750034106166, 0.6956875085265415, 0.08671058760266098, 0.8671058760266098, 0.9893248206255892, 0.7423738116750017, 0.9253063051616235, 0.8960890774665836, 0.5358197570884498, 0.04989414742119168, 0.2125924542294254, 0.0390475936339761, 0.041216904391419215, 0.03687828287653298, 0.01952379681698805, 0.04338621514886233, 0.01952379681698805, 0.6575427015854027, 0.26301708063416107, 0.21082842969269586, 0.16866274375415669, 0.37949117344685257, 0.21082842969269586, 0.9661455148679874, 0.8028204107699257, 0.984736644166021, 0.8944818913550796, 0.9409189955884197, 0.32593332639098616, 0.597544431716808, 0.3213903844057231, 0.6784908115231932, 0.8089149045234622, 0.889737255348252, 0.8089029132135319, 0.13345938540655916, 0.8007563124393549, 0.8725251748933665, 0.04058256627411007, 0.01578210910659836, 0.020291283137055034, 0.04960091433502342, 0.9344979230321624, 0.0706687568513987, 0.9186938390681831, 0.9616494014748889, 0.9108879038412023, 0.9834742595219558, 0.9846396840960298, 0.875273158049949, 0.097252573116661, 0.4385419611442867, 0.04975576901658154, 0.9453596113150492, 0.018015314887309224, 0.10809188932385534, 0.1441225190984738, 0.1441225190984738, 0.16213783398578302, 0.12610720421116456, 0.18015314887309222, 0.10809188932385534, 0.8015110378463866, 0.1781135639658637, 0.33943238447366997, 0.15840177942104597, 0.4978341638947159, 0.550151063780135, 0.7670793031622288, 0.22067202594277996, 0.5149013938664866, 0.2451911399364222, 0.8801367031874662, 0.37718064822925584, 0.12069780743336186, 0.21122116300838326, 0.16595948522087256, 0.12069780743336186, 0.3390013853105753, 0.6215025397360547, 0.33828575275653155, 0.13782012149340175, 0.11276191758551052, 0.07517461172367368, 0.11276191758551052, 0.1754074273552386, 0.05011640781578245, 0.31521035026702404, 0.18912621016021441, 0.36564400630974786, 0.1260841401068096, 0.9587289253483523, 0.9846537088417008, 0.9626247870498381, 0.9784223139422393, 0.8925679461852333, 0.908718503966235, 0.9355541139018999, 0.9355762507288489, 0.8960928033667679, 0.3638906426029788, 0.3638906426029788, 0.2729179819522341, 0.8029225921842549, 0.8832692978690155, 0.9658452857890356, 0.007949364006357661, 0.003974682003178831, 0.1907847361525839, 0.6677465765340437, 0.007949364006357661, 0.12321514209854377, 0.9503141012704527, 0.6509486693850479, 0.11991159699198252, 0.01713022814171179, 0.20556273770054145, 0.7672120698202571, 0.8413744267176049, 0.9616695649680906, 0.959403962286544, 0.5711254549893164, 0.03569534093683228, 0.1784767046841614, 0.21417204562099368, 0.9015409713293283, 0.8960918130255603, 0.4678876672033675, 0.4678876672033675, 0.7112895144538189, 0.4871700724170851, 0.4871700724170851, 0.988257155723022, 0.5312984356114268, 0.2822522939185705, 0.08301538056428544, 0.09961845667714252, 0.32813820806424654, 0.18750754746528372, 0.42189198179688836, 0.8930562166347691, 0.081186928784979, 0.9688709645751372, 0.9255213602172206, 0.7500753778915542, 0.07408151880410413, 0.003086729950171005, 0.057104504078163594, 0.0586478690532491, 0.050931044177821586, 0.004630094925256508, 0.9355921485226659, 0.9846197007387162, 0.9116087871434977, 0.9686361177602807, 0.020609279101282567, 0.8599508941598318, 0.9615637566587499, 0.9747187819690919, 0.8342682145225166, 0.829516722285749, 0.8865236224398075, 0.898312140684196, 0.45212722798849336, 0.8631443660984939, 0.8358094750800913, 0.9180291248263307, 0.1181798814443328, 0.4136295850551648, 0.4136295850551648, 0.9584694441075482, 0.7997981386827511, 0.9399854419969317, 0.8914117364862654, 0.8900904206602811, 0.9418518774353919, 0.9666777746482221, 0.7641709128953631, 0.3181954902911069, 0.6363909805822138, 0.2306468169620106, 0.36903490713921694, 0.4151642705316191, 0.9116087871434977, 0.958746328848037, 0.9711239412070839, 0.4229297099913372, 0.5075156519896047, 0.08773110502581884, 0.8773110502581883, 0.949595846787601, 0.9913515035912535, 0.9254191907289765, 0.8747171961635051, 0.335169777388395, 0.335169777388395, 0.8927341100342843, 0.6240871398123824, 0.36761297276619787, 0.9587044040335702, 0.9081455036013276, 0.8961056541436289, 0.4217785489548976, 0.5623713986065301, 0.8089029132135319, 0.9471609934767335, 0.8413671753203199, 0.2537625789621554, 0.5216230789777639, 0.2114688158017962, 0.7934544819260204, 0.8873933931103497, 0.9460139151458613, 0.5344432595606122, 0.4624989746197606, 0.908565008144864, 0.9086085065577331, 0.8984035148362277, 0.26237976105651223, 0.5247595221130245, 0.7621564116704562, 0.06431223606989786, 0.08969864504485754, 0.07221022997321865, 0.0011282848433315413, 0.0005641424216657707, 0.010718706011649645, 0.9299384268944058, 0.6876660371533643, 0.22922201238445475, 0.6933607536855901, 0.27131507752914397, 0.030146119725460444, 0.9355921485226659, 0.9694040047836564, 0.3111769291779285, 0.5374874231255128, 0.14144405871724022, 0.9067338110323616, 0.35685269669110964, 0.15612305480236047, 0.49067245795027575, 0.9216514548865558, 0.5204394372615327, 0.47087377656995816, 0.4679366084602446, 0.9778030916166226, 0.9821939004613411, 0.39813041387579506, 0.5573825794261131, 0.3682301756562437, 0.13808631587109138, 0.48330210554881986, 0.4811992339767693, 0.4811992339767693, 0.896095858483289, 0.909341947072981, 0.8961215212987552, 0.920314581635043, 0.9355690654345746, 0.8961222482008384, 0.9118145275855599, 0.7642007882005549, 0.7640785548851213, 0.3886385699470712, 0.45499149652340043, 0.1516638321744668, 0.829066681642904, 0.8120591841619605, 0.09803712747191859, 0.8823341472472672, 0.9394111905363689, 0.8210775521254792, 0.05623818850174515, 0.02249527540069806, 0.08998110160279224, 0.23825204212067158, 0.7445376316270987, 0.8266181557529955, 0.3163730180186373, 0.15366689446619528, 0.12654920720745494, 0.16270612355244204, 0.2350199562424163, 0.30056838484429627, 0.6612504466574518, 0.9116167300495092, 0.8410516483677154, 0.15018779435137775, 0.42683985694861654, 0.5454064838787878, 0.911608400818667, 0.294754965733393, 0.673725635962041, 0.8144395195916507, 0.1900358879047185, 0.36330533728465114, 0.6228091496308306, 0.9355921485226659, 0.8569713278098648, 0.12242447540140927, 0.3054788609203163, 0.6491425794556721, 0.9686125923703617, 0.38399835319212616, 0.5375976944689767, 0.9116167300495092, 0.8452145565201522, 0.8120643834429013, 0.9689626186685006, 0.48017632863475757, 0.3601322464760682, 0.11080992199263637, 0.04617080083026515, 0.2764532341983088, 0.6296990334517033, 0.07679256505508578, 0.980269134895413, 0.9048843277407285, 0.2843731378490999, 0.6319403063313331, 0.07899253829141664, 0.8455827966187093, 0.7609819485009319, 0.04672696175005722, 0.1869078470002289, 0.9635285404192316, 0.3836369172946418, 0.005184282666143808, 0.15552847998431424, 0.4510325919545113, 0.889370891967818, 0.9116101018226497, 0.7998012273694786, 0.9238214757084101, 0.9355762507288489, 0.4386656820517699, 0.9300920175284252, 0.8889500200636936, 0.9216630866545148, 0.3767847977683129, 0.968357119060109, 0.9677140413795959, 0.3712780690573455, 0.3375255173248596, 0.2700204138598876, 0.3460410472083645, 0.6488269635156835, 0.3738400723199961, 0.6130977186047936, 0.8655470707914371, 0.9271181423735649, 0.24456482445445912, 0.40019698547093313, 0.022233165859496282, 0.31126432203294796, 0.9916190829068153, 0.7672920152937184, 0.9201431199160378, 0.9384521444220791, 0.426538000518072, 0.20852968914216855, 0.1137434668048192, 0.16745565946265048, 0.07898851861445778, 0.003159540744578311, 0.8826270106377966, 0.8120599668451571, 0.8972523770801932, 0.9268103276329416, 0.033100368844033626, 0.033100368844033626, 0.4724888554242349, 0.5197377409666584, 0.9116087871434977, 0.9830949383000596, 0.89256792359136, 0.2127366227773868, 0.2659207784717335, 0.4786574012491203, 0.45418706039659246, 0.9063015366604191, 0.8631634609962422, 0.2902446486756736, 0.24187054056306134, 0.06449881081681635, 0.24187054056306134, 0.16124702704204089, 0.8941936349008885, 0.2839656203117072, 0.6896307921855747, 0.12465899662680477, 0.1911437948277673, 0.681469181559866, 0.9616598227263962, 0.9216729858681812, 0.9210872042621279, 0.44494438808416736, 0.5191017860981952], \"Term\": [\"10\", \"10\", \"10\", \"11\", \"30\", \"PT\", \"PT\", \"good\", \"pt\", \"pt\", \"\\uac00\\uaca9\", \"\\uac00\\uaca9\", \"\\uac00\\uaca9\", \"\\uac00\\uaca9\", \"\\uac00\\ub054\", \"\\uac00\\ub2a5\", \"\\uac00\\ub2a5\", \"\\uac00\\ub2a5\", \"\\uac00\\ub2a5\", \"\\uac00\\ub2a5\", \"\\uac00\\uc785\", \"\\uac04\\ub2e8\", \"\\uac04\\ud3b8\", \"\\uac08\\ub2e4\", \"\\uac10\\uc0ac\", \"\\uac10\\uc0ac\", \"\\uac10\\uc0ac\", \"\\uac10\\uc0ac\", \"\\uac10\\uc0ac\", \"\\uac10\\uc0ac\", \"\\uac15\\uc0ac\", \"\\uac15\\uc0ac\", \"\\uac15\\uc0ac\", \"\\uac15\\uc0ac\", \"\\uac15\\uc88c\", \"\\uac1c\\ubc1c\\uc790\", \"\\uac1c\\ubc1c\\uc790\", \"\\uac1c\\uc120\", \"\\uac1c\\uc120\", \"\\uac1c\\uc120\", \"\\uac1c\\uc120\", \"\\uac1c\\uc124\", \"\\uac70\\ub098\", \"\\uac70\\ub098\", \"\\uac70\\ub098\", \"\\uac70\\uc9d3\", \"\\uac74\\uc9c0\\ub2e4\", \"\\uac77\\ub2e4\", \"\\uac77\\ub2e4\", \"\\uac78\\uc74c\", \"\\uac80\\uc99d\", \"\\uac81\\ub0b4\", \"\\uacb0\\uacfc\", \"\\uacb0\\uc815\", \"\\uacb0\\uc81c\", \"\\uacb0\\uc81c\", \"\\uacb0\\uc81c\", \"\\uacb0\\uc81c\", \"\\uacb0\\uc81c\", \"\\uacbd\\ub0a8\", \"\\uacbd\\ub825\", \"\\uacbd\\ud5d8\", \"\\uacc4\\uc18d\", \"\\uacc4\\uc18d\", \"\\uacc4\\uc2dc\", \"\\uacc4\\uc2dc\\ub2e4\", \"\\uacc4\\ud68d\", \"\\uace0\\uac1d\", \"\\uace0\\uac1d\", \"\\uace0\\ub824\", \"\\uace0\\ub974\\ub2e4\", \"\\uace0\\uc815\", \"\\uace8\\ud504\", \"\\uacf5\\uac1c\", \"\\uacf5\\uc9c0\", \"\\uacf5\\ud654\\uad6d\", \"\\uacfc\\uc815\", \"\\uad00\\ub9ac\", \"\\uad00\\ub9ac\", \"\\uad00\\uc2ec\", \"\\uad00\\uc2ec\", \"\\uad00\\uc7a5\", \"\\uad11\\uace0\", \"\\uad11\\uace0\", \"\\uad11\\uc5ed\\uc2dc\", \"\\uad11\\uc8fc\", \"\\uad1c\\ucc2e\\ub2e4\", \"\\uad1c\\ucc2e\\ub2e4\", \"\\uad6c\\ub3d9\", \"\\uad6c\\ub9e4\", \"\\uad6c\\ub9e4\", \"\\uad6c\\ub9e4\", \"\\uad73\\ub2e4\", \"\\uad81\\uae08\", \"\\uad8c\\ud55c\", \"\\uad8c\\ud55c\", \"\\uad8c\\ud55c\", \"\\uaddc\\uc815\", \"\\uadf8\\ub2e4\\uc9c0\", \"\\uadf8\\ub807\\ub2e4\", \"\\uadf8\\ub807\\ub2e4\", \"\\uadf8\\ub807\\ub2e4\", \"\\uadfc\\uc721\", \"\\uae09\\ud558\\ub2e4\", \"\\uae30\\uac04\", \"\\uae30\\uad6c\", \"\\uae30\\uad6c\", \"\\uae30\\ub2e4\", \"\\uae30\\ub2e4\", \"\\uae30\\ub300\", \"\\uae30\\ub300\", \"\\uae30\\ubcf8\", \"\\uae30\\uc900\", \"\\uae68\\ub057\", \"\\uae68\\ub057\", \"\\ub044\\ub2e4\", \"\\ub044\\ub2e4\", \"\\ub044\\ub2e4\", \"\\ub044\\ub2e4\", \"\\ub044\\ub2e4\", \"\\ub044\\ub2e4\", \"\\ub05d\", \"\\ub05d\\ub098\\ub2e4\", \"\\ub09c\\uace1\", \"\\ub09c\\uace1\", \"\\ub0a8\\ub2e4\", \"\\ub0a8\\ub2e4\", \"\\ub113\\ub2e4\", \"\\ub118\\uae30\\ub2e4\", \"\\ub124\\ud2b8\\uc6cc\\ud06c\", \"\\ub124\\ud2b8\\uc6cc\\ud06c\", \"\\ub144\", \"\\ub144\", \"\\ub144\", \"\\ub178\\ubca8\", \"\\ub17c\\ub780\", \"\\ub204\\ub974\\ub2e4\", \"\\ub204\\ub974\\ub2e4\", \"\\ub290\\ub9ac\\ub2e4\", \"\\ub298\\ub2e4\", \"\\ub298\\ub2e4\", \"\\ub298\\ub2e4\", \"\\ub298\\ub2e4\", \"\\ub298\\ub2e4\", \"\\ub298\\ub2e4\", \"\\ub298\\ub2e4\", \"\\ub298\\ub2e4\", \"\\ub298\\ub2e4\", \"\\ub298\\ub9ac\\ub2e4\", \"\\ub298\\uc5b4\\ub098\\ub2e4\", \"\\ub298\\uc5b4\\ub098\\ub2e4\", \"\\ub2a5\\ub825\", \"\\ub2e4\\ub2c8\\ub2e4\", \"\\ub2e4\\ub2c8\\ub2e4\", \"\\ub2e4\\ub2c8\\ub2e4\", \"\\ub2e4\\uc591\", \"\\ub2e4\\uc591\", \"\\ub2e8\\uc704\", \"\\ub2eb\\ud788\\ub2e4\", \"\\ub2ec\\ub2e4\", \"\\ub2ec\\ub2e4\", \"\\ub2f9\\uc77c\", \"\\ub2f9\\ucca8\", \"\\ub2f9\\ud669\", \"\\ub2f9\\ud669\", \"\\ub300\\uc138\", \"\\ub300\\uc694\", \"\\ub354\", \"\\ub354\", \"\\ub354\", \"\\ub354\", \"\\ub354\", \"\\ub358\\ub370\", \"\\ub358\\uc9c0\\ub2e4\", \"\\ub365\\ub2e4\", \"\\ub3c8\", \"\\ub3cc\\uc544\\uac00\\ub2e4\", \"\\ub3cc\\uc544\\uc624\\ub2e4\", \"\\ub3d9\\ub124\", \"\\ub3d9\\ub124\", \"\\ub3d9\\ub124\", \"\\ub3d9\\uc758\", \"\\ub3fc\\ub2e4\", \"\\ub3fc\\ub2e4\", \"\\ub3fc\\ub2e4\", \"\\ub4dc\\ub9ac\\ub2e4\", \"\\ub4dc\\ub9ac\\ub2e4\", \"\\ub4dc\\ub9ac\\ub2e4\", \"\\ub4dc\\ub9ac\\ub2e4\", \"\\ub4e3\\ub2e4\", \"\\ub4e4\\uc5b4\\uac00\\ub2e4\", \"\\ub4e4\\uc5b4\\uac00\\ub2e4\", \"\\ub4e4\\uc5b4\\uac00\\ub2e4\", \"\\ub4ed\\ub2c8\", \"\\ub4f1\\ub85d\", \"\\ub4f1\\ub85d\", \"\\ub4f1\\ub85d\", \"\\ub530\\ub2e4\", \"\\ub530\\ub974\\ub2e4\", \"\\ub538\\ub9ac\\ub2e4\", \"\\ub5a8\\ub2e4\", \"\\ub610\", \"\\ub610\", \"\\ub824\\uba74\", \"\\ub85c\\uadf8\\uc778\", \"\\ub9ac\\ubdf0\", \"\\ub9ac\\ubdf0\", \"\\ub9ac\\ubdf0\", \"\\ub9c8\\uac10\", \"\\ub9c8\\uad6c\", \"\\ub9c8\\ub0e5\", \"\\ub9c8\\uc2a4\\ud130\", \"\\ub9c8\\uc2a4\\ud130\", \"\\ub9cc\\ub098\\ub2e4\", \"\\ub9cc\\ub098\\ub2e4\", \"\\ub9cc\\ub4dc\", \"\\ub9cc\\ub4e4\\ub2e4\", \"\\ub9cc\\ub4e4\\ub2e4\", \"\\ub9cc\\uc871\", \"\\ub9cc\\uc871\", \"\\ub9ce\\ub2e4\", \"\\ub9ce\\ub2e4\", \"\\ub9d0\\ub2e4\", \"\\ub9de\\ub2e4\", \"\\uba54\\ub274\", \"\\uba54\\uc77c\", \"\\uba64\\ubc84\\uc2ed\", \"\\uba74\\uc11c\", \"\\uba74\\uc11c\", \"\\uba74\\uc11c\", \"\\uba74\\uc11c\", \"\\ubaa8\\ub4e0\", \"\\ubaa8\\ub974\\ub2e4\", \"\\ubaa8\\ub974\\ub2e4\", \"\\ubaa8\\uc73c\\ub2e4\", \"\\ubaa9\\ub85d\", \"\\ubab8\\uc9f1\", \"\\ubb34\\ub824\", \"\\ubb34\\ub8cc\", \"\\ubb34\\ub8cc\", \"\\ubb34\\ub8cc\", \"\\ubb38\\uc81c\", \"\\ubb38\\uc81c\", \"\\ubb3c\\uac74\", \"\\ubb3c\\uac74\", \"\\ubbf8\\ub9ac\", \"\\ubbff\\ub2e4\", \"\\ubc14\\ud0d5\", \"\\ubc15\\uc2a4\", \"\\ubc1c\", \"\\ubc1c\\uc804\", \"\\ubc29\\ubc95\", \"\\ubc29\\ubc95\", \"\\ubc29\\ubc95\", \"\\ubc29\\uc2dd\", \"\\ubc30\\uc6b0\", \"\\ubc84\\ub9ac\\ub2e4\", \"\\ubc84\\ub9ac\\ub2e4\", \"\\ubc84\\ud2bc\", \"\\ubc84\\ud37c\\ub9c1\", \"\\ubc88\\ud638\", \"\\ubca0\\ub2e4\", \"\\ubcc4\\ub85c\", \"\\ubcc4\\ub85c\", \"\\ubcf4\\uae30\", \"\\ubcf4\\uc548\", \"\\ubcf4\\uc774\", \"\\ubcf4\\uc774\\ub2e4\", \"\\ubd84\\uba85\", \"\\ubd88\\uac00\", \"\\ubd88\\ub9cc\", \"\\ubd88\\ud3b8\", \"\\ubd88\\ud3b8\", \"\\ubd88\\ud3b8\", \"\\ubd88\\ud3b8\", \"\\ubd88\\ud3b8\", \"\\ubd99\\ub2e4\", \"\\ube14\\ub9ac\", \"\\ube44\\uad50\", \"\\ube44\\uad50\", \"\\ube44\\ubc88\", \"\\ube44\\uc2f8\\ub2e4\", \"\\ube60\\ub974\\ub2e4\", \"\\ube7c\\ub2e4\", \"\\ubfcc\\ub9ac\\ub2e4\", \"\\uc0ac\\uae30\", \"\\uc0ac\\ub0b4\", \"\\uc0ac\\ub77c\\uc9c0\\ub2e4\", \"\\uc0ac\\ubb34\\uc2e4\", \"\\uc0ac\\uc6a9\\uad8c\", \"\\uc0ac\\uc6a9\\uc790\", \"\\uc0ac\\uc6a9\\uc790\", \"\\uc0ac\\uc774\\ud2b8\", \"\\uc0ac\\uc774\\ud2b8\", \"\\uc0ac\\uc774\\ud2b8\", \"\\uc0ac\\uc774\\ud2b8\", \"\\uc0ac\\uc774\\ud2b8\", \"\\uc0ac\\uc774\\ud2b8\", \"\\uc0ac\\uc774\\ud2b8\", \"\\uc0ac\\uc774\\ud2b8\", \"\\uc0ac\\uc774\\ud2b8\", \"\\uc0ac\\uc9c4\", \"\\uc0ac\\uc9c4\", \"\\uc0ac\\uc9c4\", \"\\uc0ad\\uc81c\", \"\\uc0ad\\uc81c\", \"\\uc0ad\\uc81c\", \"\\uc0b4\\ub9ac\\ub2e4\", \"\\uc0c1\\uad00\", \"\\uc0c1\\ub2f4\", \"\\uc0c8\\ub86d\\ub2e4\", \"\\uc0c8\\ub86d\\ub2e4\", \"\\uc0dd\\uaca8\\ub098\\ub2e4\", \"\\uc0dd\\uae30\\ub2e4\", \"\\uc0dd\\uae30\\ub2e4\", \"\\uc0dd\\uae30\\ub2e4\", \"\\uc11c\\uc6b8\", \"\\uc11c\\uc6b8\", \"\\uc120\\uc0dd\", \"\\uc120\\uc0dd\", \"\\uc120\\ud0dd\", \"\\uc120\\ud0dd\", \"\\uc124\\uba85\", \"\\uc124\\uba85\", \"\\uc124\\uc815\", \"\\uc124\\uc815\", \"\\uc124\\uce58\", \"\\uc131\\uacf5\", \"\\uc138\\ub2e4\", \"\\uc138\\uc885\", \"\\uc218\", \"\\uc218\", \"\\uc218\", \"\\uc218\", \"\\uc218\", \"\\uc218\", \"\\uc218\", \"\\uc218\", \"\\uc218\", \"\\uc218\\uac15\", \"\\uc218\\uac15\", \"\\uc218\\uc5c5\", \"\\uc218\\uc5c5\", \"\\uc218\\uc5c5\", \"\\uc218\\uc5c5\", \"\\uc218\\uc815\", \"\\uc218\\uc900\", \"\\uc26c\\ub2e4\", \"\\uc27d\\ub2e4\", \"\\uc2a4\\ub7fd\\ub2e4\", \"\\uc2a4\\ub9c8\\ud2b8\\ud3f0\", \"\\uc2a4\\ub9c8\\ud2b8\\ud3f0\", \"\\uc2a4\\ud3ec\\uce20\", \"\\uc2a4\\ud3ec\\uce20\", \"\\uc2ac\\ud504\\ub2e4\", \"\\uc2b9\\uc778\", \"\\uc2dc\\uae09\", \"\\uc2dc\\ub300\", \"\\uc2dc\\ub300\", \"\\uc2dc\\uc124\", \"\\uc2dc\\uc124\", \"\\uc2dc\\uc124\", \"\\uc2dc\\uc124\", \"\\uc2dc\\uc124\", \"\\uc2dc\\uc2a4\\ud15c\", \"\\uc2dc\\uc791\", \"\\uc2dc\\uc791\", \"\\uc2e0\\uacbd\", \"\\uc2e0\\ub8b0\", \"\\uc2e0\\ub9bc\", \"\\uc2e0\\uc138\\uacc4\", \"\\uc2e4\\uc2dc\\uac04\", \"\\uc2e4\\uc2dc\\uac04\", \"\\uc2e4\\uc6a9\", \"\\uc2e4\\ud589\", \"\\uc2e4\\ud589\", \"\\uc2f6\\ub2e4\", \"\\uc2f6\\ub2e4\", \"\\uc2f6\\ub2e4\", \"\\uc2f6\\ub2e4\", \"\\uc2f6\\ub2e4\", \"\\uc2f6\\ub2e4\", \"\\uc2f6\\ub2e4\", \"\\uc2f6\\ub2e4\", \"\\uc2f8\\ub2e4\", \"\\uc2f8\\ub2e4\", \"\\uc368\\ub2e4\", \"\\uc368\\ub2e4\", \"\\uc368\\ub2e4\", \"\\uc384\\ub2e4\", \"\\uc3d9\\uc3d9\", \"\\uc4f8\\ub2e4\", \"\\uc4f8\\ub2e4\", \"\\uc4f8\\ub2e4\", \"\\uc544\\uae5d\\ub2e4\", \"\\uc544\\ub2c8\\ub2e4\", \"\\uc544\\ub2c8\\ub2e4\", \"\\uc544\\ub2c8\\ub2e4\", \"\\uc544\\ub2c8\\ub2e4\", \"\\uc544\\ub2c8\\ub2e4\", \"\\uc544\\uc608\", \"\\uc544\\uc608\", \"\\uc54a\\ub2e4\", \"\\uc54a\\ub2e4\", \"\\uc54a\\ub2e4\", \"\\uc54a\\ub2e4\", \"\\uc54a\\ub2e4\", \"\\uc54a\\ub2e4\", \"\\uc54a\\ub2e4\", \"\\uc54c\", \"\\uc54c\", \"\\uc54c\", \"\\uc54c\", \"\\uc54c\\ub78c\", \"\\uc54c\\ub824\\uc9c0\\ub2e4\", \"\\uc54c\\ub9bc\", \"\\uc54c\\uc544\\ubcf4\\ub2e4\", \"\\uc560\\ud50c\", \"\\uc57d\\uad00\", \"\\uc57d\\uc2dc\", \"\\uc57d\\ud558\\ub2e4\", \"\\uc5b4\\ub5a1\", \"\\uc5b4\\ub5bb\\ub2e4\", \"\\uc5b4\\ub5bb\\ub2e4\", \"\\uc5b4\\ub5bb\\ub2e4\", \"\\uc5bc\\ub978\", \"\\uc5c5\\ub85c\\ub4dc\", \"\\uc5c5\\uccb4\", \"\\uc5c6\\ub2e4\", \"\\uc5c6\\ub2e4\", \"\\uc5c6\\ub2e4\", \"\\uc5c6\\ub2e4\", \"\\uc5c6\\ub2e4\", \"\\uc5c6\\ub2e4\", \"\\uc5d0\\ube0c\\ub9ac\", \"\\uc5ec\\ub7ec\", \"\\uc5ec\\ub7ec\", \"\\uc5ec\\ub7ec\", \"\\uc5ec\\ub7ec\", \"\\uc5ec\\uc11c\", \"\\uc5ec\\uc720\", \"\\uc5ed\", \"\\uc5ed\\uc2dc\", \"\\uc5f0\\ub3d9\", \"\\uc5f0\\ub3d9\", \"\\uc5f0\\ub3d9\", \"\\uc5f0\\ub3d9\", \"\\uc5f0\\uc2b5\\uc7a5\", \"\\uc5f4\\uae30\", \"\\uc5f4\\ub9ac\\ub2e4\", \"\\uc5f4\\ub9ac\\ub2e4\", \"\\uc5f4\\uc815\", \"\\uc601\\uc5c5\", \"\\uc601\\uc5c5\", \"\\uc608\\uc57d\", \"\\uc624\\ub958\", \"\\uc624\\ub958\", \"\\uc624\\ub958\", \"\\uc624\\ub958\", \"\\uc62c\\ub9ac\\ub2e4\", \"\\uc62c\\ub9ac\\ub2e4\", \"\\uc62c\\ub9ac\\ub2e4\", \"\\uc694\\uad6c\", \"\\uc694\\uad6c\", \"\\uc695\\uad6c\", \"\\uc6a9\\ub7c9\", \"\\uc6b4\\ub3d9\", \"\\uc6b4\\ub3d9\", \"\\uc6b4\\ub3d9\", \"\\uc6b4\\ub3d9\", \"\\uc6b4\\ub3d9\", \"\\uc6b4\\ub3d9\", \"\\uc6b4\\ub3d9\", \"\\uc6d0\\uc870\", \"\\uc6d0\\uc8fc\", \"\\uc6d4\\uc218\", \"\\uc6f0\\ube59\", \"\\uc6f0\\ube59\", \"\\uc704\\uc82f\", \"\\uc720\\ub8cc\", \"\\uc720\\uc6a9\", \"\\uc720\\uc9c0\", \"\\uc720\\ud6a8\", \"\\uc740\\uc9c0\", \"\\uc744\\uc2dc\", \"\\uc751\\uc6d0\", \"\\uc774\\ub4dd\", \"\\uc774\\ub825\", \"\\uc774\\ub974\\ub2e4\", \"\\uc774\\ubca4\\ud2b8\", \"\\uc774\\ubca4\\ud2b8\", \"\\uc774\\ubca4\\ud2b8\", \"\\uc774\\uc058\\ub2e4\", \"\\uc774\\uc81c\\uc57c\", \"\\uc778\\uc6d0\", \"\\uc778\\uc99d\", \"\\uc778\\ud130\\ud398\\uc774\\uc2a4\", \"\\uc77c\\uc77c\\uc774\", \"\\uc77c\\uc815\", \"\\uc77c\\ucc0d\", \"\\uc785\", \"\\uc785\", \"\\uc785\\uc7a5\", \"\\uc785\\uc7a5\", \"\\uc785\\uc7a5\", \"\\uc786\\uc7a5\", \"\\uc790\\uaca9\", \"\\uc790\\uaca9\\uc99d\", \"\\uc790\\uafb8\", \"\\uc790\\uafb8\", \"\\uc790\\ub3d9\", \"\\uc790\\ub3d9\", \"\\uc790\\uc138\", \"\\uc790\\uc8fc\", \"\\uc791\\ub3d9\", \"\\uc798\\ubabb\", \"\\uc7a1\\ud788\\ub2e4\", \"\\uc7a1\\ud788\\ub2e4\", \"\\uc7ac\\ubc0c\\ub2e4\", \"\\uc800\\ub834\", \"\\uc800\\ub834\", \"\\uc804\\uad6d\", \"\\uc804\\ubc88\", \"\\uc804\\uc801\", \"\\uc804\\ud654\", \"\\uc804\\ud654\", \"\\uc810\\uac80\", \"\\uc810\\uc810\", \"\\uc811\\uadfc\", \"\\uc815\\ubcf4\", \"\\uc815\\ubcf4\", \"\\uc815\\ubcf4\", \"\\uc815\\uc0c1\", \"\\uc81c\\uac70\", \"\\uc81c\\uc77c\", \"\\uc81c\\ud734\", \"\\uc81c\\ud734\", \"\\uc870\\uc791\", \"\\uc870\\uc815\", \"\\uc870\\ud68c\", \"\\uc885\\ub8cc\", \"\\uc885\\ub8cc\", \"\\uc88b\\ub2e4\", \"\\uc88b\\ub2e4\", \"\\uc88b\\ub2e4\", \"\\uc88b\\ub2e4\", \"\\uc88b\\ub2e4\", \"\\uc88b\\ub2e4\", \"\\uc88b\\ub2e4\", \"\\uc8fc\\ub85c\", \"\\uc8fc\\ub9d0\", \"\\uc8fc\\ub9d0\", \"\\uc8fc\\ubcc0\", \"\\uc8fc\\ubcc0\", \"\\uc8fc\\ubcc0\", \"\\uc8fc\\uc791\", \"\\uc9c0\\ub3c4\", \"\\uc9c0\\ubc29\", \"\\uc9c0\\ubc29\", \"\\uc9c0\\ubc29\", \"\\uc9c0\\ubd88\", \"\\uc9c0\\uc5ed\", \"\\uc9c0\\uc5ed\", \"\\uc9c0\\uc5ed\", \"\\uc9c0\\uc6d0\", \"\\uc9c0\\uc810\", \"\\uc9c0\\uc810\", \"\\uc9c0\\ud0a4\\ub2e4\", \"\\uc9c1\\uc6d0\", \"\\uc9c1\\uc7a5\", \"\\uc9c4\\uc791\", \"\\uc9c4\\uc791\", \"\\uc9d1\", \"\\uc9d1\", \"\\uc9d1\", \"\\uc9f8\\ub2e4\", \"\\uc9f8\\ub2e4\", \"\\ucb49\\ucb49\", \"\\ucc0c\\ub2e4\", \"\\ucc1c\", \"\\ucc28\", \"\\ucc28\\uac10\", \"\\ucc28\\ub2e8\", \"\\ucc38\\uace0\", \"\\ucc38\\uc5ec\", \"\\ucc3d\\uc6d0\\uc2dc\", \"\\ucc3e\\ub2e4\", \"\\ucc3e\\ub2e4\", \"\\ucc3e\\ub2e4\", \"\\ucc3e\\uc544\\ubcf4\\ub2e4\", \"\\uccad\\ub2f4\\ub3d9\", \"\\uccb4\\ud06c\", \"\\uccb4\\ud06c\", \"\\uccb4\\ud5d8\", \"\\ucd5c\\uace0\", \"\\ucd5c\\uace0\", \"\\ucd5c\\uace0\", \"\\ucd5c\\uace0\", \"\\ucd94\\uac00\", \"\\ucd94\\uac00\", \"\\ucd94\\ub2e4\", \"\\ucd94\\ucc9c\", \"\\ucd94\\ucc9c\", \"\\ucd94\\ucc9c\", \"\\ucd94\\ucc9c\", \"\\ucd94\\ucc9c\", \"\\ucde8\\uc18c\", \"\\ucde8\\uc18c\", \"\\uce58\\uc5f4\", \"\\uce5c\\uc808\", \"\\uce5c\\uc808\", \"\\uce74\\uba54\\ub77c\", \"\\uce74\\uba54\\ub77c\", \"\\uce74\\ud53c\\ucea3\", \"\\ucf54\\ub85c\\ub098\", \"\\ucf54\\ub85c\\ub098\", \"\\ucf54\\uc820\", \"\\ucf54\\uc820\", \"\\ucf54\\uce6d\", \"\\ucf54\\uce6d\", \"\\ucf5c\\ub77c\\ubcf4\", \"\\ucf8c\\uc801\", \"\\ucf8c\\uc801\", \"\\ucfe0\\ud3f0\", \"\\ucfe0\\ud3f0\", \"\\ud074\\ub7fd\", \"\\ud074\\ub9ad\", \"\\ud074\\ub9ad\", \"\\ud1a0\", \"\\ud1b5\\ud55c\", \"\\ud22c\\uba85\", \"\\ud29c\\ubc84\", \"\\ud2b8\\ub808\\uc774\\ub108\", \"\\ud2b8\\ub808\\uc774\\ub108\", \"\\ud2b8\\ub808\\uc774\\ub108\", \"\\ud2b8\\ub808\\uc774\\ub108\", \"\\ud2b8\\ub808\\uc774\\ub2dd\", \"\\ud2b8\\ub808\\uc774\\ub2dd\", \"\\ud2b8\\ub808\\uc774\\ub2dd\", \"\\ud30c\\ud1a0\", \"\\ud31d\\uc5c5\", \"\\ud37c\\uc2a4\", \"\\ud37c\\uc2a4\", \"\\ud37c\\uc2a4\", \"\\ud398\\uc774\\uc9c0\", \"\\ud3b8\\ub9ac\", \"\\ud3b8\\ub9ac\", \"\\ud3b8\\ub9ac\", \"\\ud3b8\\uc758\", \"\\ud3b8\\ud558\\ub2e4\", \"\\ud3b8\\ud558\\ub2e4\", \"\\ud3b8\\ud558\\ub2e4\", \"\\ud3b8\\ud558\\ub2e4\", \"\\ud3c9\\ud0dd\", \"\\ud3d0\\uac15\", \"\\ud3ec\\ud568\", \"\\ud45c\\uc2dc\", \"\\ud478\\ub2e4\", \"\\ud480\\ub9ac\\ub2e4\", \"\\ud504\\ub85c\\uadf8\\ub7a8\", \"\\ud504\\ub85c\\ud544\", \"\\ud53c\", \"\\ud53c\\ub4dc\\ubc31\", \"\\ud53c\\ud2b8\", \"\\ud544\\ub77c\\ud14c\\uc2a4\", \"\\ud544\\uc694\", \"\\ud544\\uc694\", \"\\ud544\\uc694\", \"\\ud54f\", \"\\ud54f\", \"\\ud558\\ud2b8\", \"\\ud558\\ud2b8\", \"\\ud559\\uc6d0\", \"\\ud55c\\uc9c0\", \"\\ud560\\uc778\", \"\\ud560\\uc778\", \"\\ud560\\uc778\", \"\\ud560\\uc778\", \"\\ud569\\ub9ac\", \"\\ud574\\uc81c\", \"\\ud589\\ubcf5\", \"\\ud5c8\\uc6a9\", \"\\ud5ec\\uc2a4\", \"\\ud5ec\\uc2a4\", \"\\ud5ec\\uc2a4\", \"\\ud5ec\\uc2a4\", \"\\ud5ec\\uc2a4\", \"\\ud5ec\\uc2a4\", \"\\ud5ec\\uc2a4\\ud074\\ub7fd\", \"\\ud601\\uc2e0\", \"\\ud604\\uc0c1\", \"\\ud61c\\ud0dd\", \"\\ud61c\\ud0dd\", \"\\ud61c\\ud0dd\", \"\\ud648\", \"\\ud648\", \"\\ud64d\\uae38\\ub3d9\", \"\\ud64d\\ubcf4\", \"\\ud654\\uc774\\ud2b8\", \"\\ud654\\uc774\\ud305\", \"\\ud654\\uc774\\ud305\", \"\\ud654\\uc774\\ud305\", \"\\ud655\\ub300\", \"\\ud655\\uc2e4\", \"\\ud655\\uc2e4\\ud558\\ub2e4\", \"\\ud655\\uc778\", \"\\ud655\\uc778\", \"\\ud655\\uc778\", \"\\ud655\\uc778\", \"\\ud655\\uc778\", \"\\ud65c\\ub3d9\", \"\\ud68c\\uc0ac\", \"\\ud68c\\uc0ac\", \"\\ud68c\\uc6d0\", \"\\ud68c\\uc6d0\", \"\\ud68c\\uc6d0\", \"\\ud6cc\\ub96d\", \"\\ud718\\ud2b8\", \"\\ud734\\ub300\\ud3f0\", \"\\ud798\\ub4e4\\ub2e4\", \"\\ud798\\ub4e4\\ub2e4\"]}, \"R\": 30, \"lambda.step\": 0.01, \"plot.opts\": {\"xlab\": \"PC1\", \"ylab\": \"PC2\"}, \"topic.order\": [1, 9, 10, 7, 5, 2, 6, 3, 4, 8]};\n",
       "\n",
       "function LDAvis_load_lib(url, callback){\n",
       "  var s = document.createElement('script');\n",
       "  s.src = url;\n",
       "  s.async = true;\n",
       "  s.onreadystatechange = s.onload = callback;\n",
       "  s.onerror = function(){console.warn(\"failed to load library \" + url);};\n",
       "  document.getElementsByTagName(\"head\")[0].appendChild(s);\n",
       "}\n",
       "\n",
       "if(typeof(LDAvis) !== \"undefined\"){\n",
       "   // already loaded: just create the visualization\n",
       "   !function(LDAvis){\n",
       "       new LDAvis(\"#\" + \"ldavis_el1979219788523004325498649236\", ldavis_el1979219788523004325498649236_data);\n",
       "   }(LDAvis);\n",
       "}else if(typeof define === \"function\" && define.amd){\n",
       "   // require.js is available: use it to load d3/LDAvis\n",
       "   require.config({paths: {d3: \"https://d3js.org/d3.v5\"}});\n",
       "   require([\"d3\"], function(d3){\n",
       "      window.d3 = d3;\n",
       "      LDAvis_load_lib(\"https://cdn.jsdelivr.net/gh/bmabey/pyLDAvis@3.4.0/pyLDAvis/js/ldavis.v3.0.0.js\", function(){\n",
       "        new LDAvis(\"#\" + \"ldavis_el1979219788523004325498649236\", ldavis_el1979219788523004325498649236_data);\n",
       "      });\n",
       "    });\n",
       "}else{\n",
       "    // require.js not available: dynamically load d3 & LDAvis\n",
       "    LDAvis_load_lib(\"https://d3js.org/d3.v5.js\", function(){\n",
       "         LDAvis_load_lib(\"https://cdn.jsdelivr.net/gh/bmabey/pyLDAvis@3.4.0/pyLDAvis/js/ldavis.v3.0.0.js\", function(){\n",
       "                 new LDAvis(\"#\" + \"ldavis_el1979219788523004325498649236\", ldavis_el1979219788523004325498649236_data);\n",
       "            })\n",
       "         });\n",
       "}\n",
       "</script>"
      ],
      "text/plain": [
       "<IPython.core.display.HTML object>"
      ]
     },
     "execution_count": 16,
     "metadata": {},
     "output_type": "execute_result"
    }
   ],
   "source": [
    "import pyLDAvis\n",
    "import pyLDAvis.gensim_models as gensimvis\n",
    "# Retrieve the corpus and dictionary using the lda_modeling function\n",
    "model, corpus, dictionary = lda_modeling(review_prep_pos)\n",
    "\n",
    "# Prepare the visualization data\n",
    "vis_data = gensimvis.prepare(model, corpus, dictionary)\n",
    "\n",
    "# Display the visualization\n",
    "pyLDAvis.display(vis_data)"
   ]
  },
  {
   "cell_type": "code",
   "execution_count": 17,
   "metadata": {
    "colab": {
     "base_uri": "https://localhost:8080/",
     "height": 917
    },
    "id": "OZDlhyzW5Eh-",
    "outputId": "3c1f4c00-d99c-433d-8261-f7572911db5d",
    "tags": []
   },
   "outputs": [
    {
     "data": {
      "text/html": [
       "\n",
       "<link rel=\"stylesheet\" type=\"text/css\" href=\"https://cdn.jsdelivr.net/gh/bmabey/pyLDAvis@3.4.0/pyLDAvis/js/ldavis.v1.0.0.css\">\n",
       "\n",
       "\n",
       "<div id=\"ldavis_el1979219788523073768124459333\" style=\"background-color:white;\"></div>\n",
       "<script type=\"text/javascript\">\n",
       "\n",
       "var ldavis_el1979219788523073768124459333_data = {\"mdsDat\": {\"x\": [-0.20850456633354392, -0.12075735609328823, -0.14191612768448592, -0.17925374079237855, 0.1094824983697015, 0.12573677860948018, 0.22198583695738358, 0.09387633732141261, 0.024068754949373293, 0.07528158469634547], \"y\": [0.05534993024020033, 0.036927923960467866, -0.02996409694706247, -0.030030100656094887, 0.17020319212199206, 0.09410649274496617, -0.07915663073305068, 0.14301822307391687, -0.14017893299577613, -0.22027600080955947], \"topics\": [1, 2, 3, 4, 5, 6, 7, 8, 9, 10], \"cluster\": [1, 1, 1, 1, 1, 1, 1, 1, 1, 1], \"Freq\": [40.24902211865452, 13.769144430478613, 9.906603061142917, 7.517984760076455, 7.160745237847184, 6.495371539306685, 4.563542279495568, 3.874770701464969, 3.2938158513195113, 3.169000020213571]}, \"tinfo\": {\"Term\": [\"\\uc88b\\ub2e4\", \"\\ud3b8\\ud558\\ub2e4\", \"\\uc5c6\\ub2e4\", \"\\ub298\\ub2e4\", \"\\uc6b4\\ub3d9\", \"\\uc2dc\\uc124\", \"\\ud3b8\\ub9ac\", \"\\uac1c\\uc120\", \"\\uc0ac\\uc774\\ud2b8\", \"\\ud68c\\uc6d0\", \"\\uc608\\uc57d\", \"\\uac10\\uc0ac\", \"\\ud5ec\\uc2a4\", \"\\ub9ce\\ub2e4\", \"\\uc218\", \"\\ud2b8\\ub808\\uc774\\ub108\", \"\\ucc3e\\ub2e4\", \"\\uce5c\\uc808\", \"\\uac00\\uaca9\", \"\\ucd5c\\uace0\", \"\\ucf54\\uce6d\", \"\\uc720\\uc6a9\", \"\\ud2b8\\ub808\\uc774\\ub2dd\", \"PT\", \"\\ud37c\\uc2a4\", \"\\uad8c\\ud55c\", \"\\uc624\\ub958\", \"\\uba74\\uc11c\", \"\\uc694\\uad6c\", \"\\uad73\\ub2e4\", \"\\uae30\\uad6c\", \"\\ubc15\\uc2a4\", \"\\uc26c\\ub2e4\", \"\\uc790\\uc8fc\", \"\\uc9c1\\uc6d0\", \"\\ub113\\ub2e4\", \"\\ud569\\ub9ac\", \"\\ud64d\\ubcf4\", \"\\ud53c\\ud2b8\", \"\\uad11\\uc8fc\", \"\\uc9c1\\uc7a5\", \"\\ud544\\ub77c\\ud14c\\uc2a4\", \"\\uc6d0\\uc8fc\", \"\\uc2e0\\uc138\\uacc4\", \"\\uc54c\\ub824\\uc9c0\\ub2e4\", \"\\uc695\\uad6c\", \"\\ud29c\\ubc84\", \"\\uac00\\ub054\", \"\\uc218\\uc815\", \"\\uc810\\uc810\", \"\\ubc1c\\uc804\", \"\\uc2e0\\ub9bc\", \"\\ucc28\", \"\\ud3b8\\uc758\", \"\\ubab8\\uc9f1\", \"\\ucc38\\uace0\", \"\\uc804\\uad6d\", \"\\uad11\\uc5ed\\uc2dc\", \"\\uc2e0\\uacbd\", \"\\ud6cc\\ub96d\", \"\\ub9ce\\ub2e4\", \"\\ud61c\\ud0dd\", \"\\uc2dc\\uc124\", \"\\uae68\\ub057\", \"\\ubcc4\\ub85c\", \"\\uc88b\\ub2e4\", \"\\uc6b4\\ub3d9\", \"\\uce5c\\uc808\", \"\\ub2e4\\uc591\", \"\\ud3b8\\ub9ac\", \"\\ub354\", \"\\ucf8c\\uc801\", \"\\ub4f1\\ub85d\", \"\\uc218\", \"\\uc800\\ub834\", \"\\uc8fc\\ubcc0\", \"\\uac10\\uc0ac\", \"\\ud5ec\\uc2a4\", \"\\ub298\\ub2e4\", \"\\uac00\\uaca9\", \"\\ucf54\\uc820\", \"\\uc81c\\ud734\", \"\\ud3b8\\ud558\\ub2e4\", \"\\uc5ec\\ub7ec\", \"\\ub09c\\uace1\", \"\\ub2e4\\ub2c8\\ub2e4\", \"\\ub044\\ub2e4\", \"\\uc0ac\\uc774\\ud2b8\", \"\\ucc3e\\ub2e4\", \"\\uace8\\ud504\", \"\\uc6f0\\ube59\", \"\\uc5c5\\uccb4\", \"\\ud074\\ub7fd\", \"\\ubaa8\\ub974\\ub2e4\", \"\\uc81c\\uc77c\", \"\\ub530\\ub974\\ub2e4\", \"\\ubd88\\uac00\", \"\\ub9c8\\uad6c\", \"\\ubcf4\\uae30\", \"\\uacb0\\uacfc\", \"\\uc9c0\\ubd88\", \"\\uc2dc\\uc2a4\\ud15c\", \"\\uc5ed\\uc2dc\", \"\\ubd99\\ub2e4\", \"\\ubaa8\\uc73c\\ub2e4\", \"\\uad00\\uc7a5\", \"\\uc5f0\\uc2b5\\uc7a5\", \"\\uba64\\ubc84\\uc2ed\", \"\\uacf5\\ud654\\uad6d\", \"\\uc804\\ubc88\", \"\\uc870\\ud68c\", \"\\uc560\\ud50c\", \"\\ud654\\uc774\\ud2b8\", \"\\uc7ac\\ubc0c\\ub2e4\", \"\\ud65c\\ub3d9\", \"\\ub4ed\\ub2c8\", \"\\uc0ac\\uc6a9\\uc790\", \"\\uc0ac\\uc6a9\\uad8c\", \"\\uc720\\uc9c0\", \"\\uccb4\\ud06c\", \"\\ucd5c\\uace0\", \"\\uc2f8\\ub2e4\", \"\\uac77\\ub2e4\", \"\\uc2e4\\uc2dc\\uac04\", \"\\uad1c\\ucc2e\\ub2e4\", \"\\ud558\\ud2b8\", \"\\ub298\\uc5b4\\ub098\\ub2e4\", \"\\uac00\\uaca9\", \"\\ub2e4\\ub2c8\\ub2e4\", \"\\uc81c\\ud734\", \"\\uc2a4\\ud3ec\\uce20\", \"\\uc800\\ub834\", \"\\ucf54\\ub85c\\ub098\", \"\\ud5ec\\uc2a4\", \"\\ub298\\ub2e4\", \"\\uc88b\\ub2e4\", \"\\uacb0\\uc81c\", \"\\uc0ac\\uc774\\ud2b8\", \"\\uc9c0\\uc810\", \"\\uc6b4\\ub3d9\", \"\\ud560\\uc778\", \"\\uc5f0\\ub3d9\", \"\\ud68c\\uc6d0\", \"\\uac00\\ub2a5\", \"\\uc218\", \"\\ub2e4\\uc591\", \"\\uc11c\\uc6b8\", \"\\ucd94\\ucc9c\", \"\\uc2dc\\uc124\", \"\\uccb4\\ud5d8\", \"\\uc791\\ub3d9\", \"\\ubbf8\\ub9ac\", \"\\ub9d0\\ub2e4\", \"\\ucc0c\\ub2e4\", \"\\uacbd\\ub825\", \"\\ub3c8\", \"\\uad81\\uae08\", \"\\uc9c0\\ub3c4\", \"\\uc790\\uaca9\\uc99d\", \"\\ube44\\uc2f8\\ub2e4\", \"\\uc544\\uae5d\\ub2e4\", \"\\uc790\\uc138\", \"\\uace0\\ub974\\ub2e4\", \"\\ud589\\ubcf5\", \"\\uacb0\\uc815\", \"\\uadfc\\uc721\", \"\\ube44\\ubc88\", \"\\uac80\\uc99d\", \"\\uc798\\ubabb\", \"\\ubd88\\ub9cc\", \"\\uba54\\uc77c\", \"\\ub2eb\\ud788\\ub2e4\", \"\\uc0dd\\uaca8\\ub098\\ub2e4\", \"\\uc138\\ub2e4\", \"\\ubc14\\ud0d5\", \"\\uc6a9\\ub7c9\", \"\\ub178\\ubca8\", \"\\ube14\\ub9ac\", \"\\ub365\\ub2e4\", \"\\uac78\\uc74c\", \"\\uc120\\uc0dd\", \"\\uc790\\ub3d9\", \"\\ub610\", \"\\uc815\\ubcf4\", \"\\ud2b8\\ub808\\uc774\\ub108\", \"\\ucc3e\\ub2e4\", \"\\uc9c0\\ubc29\", \"\\uc9c0\\uc5ed\", \"\\uc218\", \"\\ub9cc\\ub4e4\\ub2e4\", \"\\uadf8\\ub807\\ub2e4\", \"\\ub298\\ub2e4\", \"\\uc88b\\ub2e4\", \"\\ube44\\uad50\", \"\\uc0ac\\uc774\\ud2b8\", \"\\ub044\\ub2e4\", \"\\ud655\\uc778\", \"\\ud5ec\\uc2a4\", \"\\ud2b8\\ub808\\uc774\\ub2dd\", \"\\ud37c\\uc2a4\", \"PT\", \"\\uc0dd\\uae30\\ub2e4\", \"\\ub9ce\\ub2e4\", \"\\uac00\\uaca9\", \"\\uc54c\", \"\\ub354\", \"\\ucd94\\ucc9c\", \"\\ub9ac\\ubdf0\", \"\\uc720\\uc6a9\", \"\\uc54c\\uc544\\ubcf4\\ub2e4\", \"pt\", \"\\uc774\\uc058\\ub2e4\", \"\\ubcf4\\uc548\", \"\\uc2dc\\uc791\", \"\\uc778\\ud130\\ud398\\uc774\\uc2a4\", \"\\ud559\\uc6d0\", \"\\uc0c1\\ub2f4\", \"\\uc774\\ub4dd\", \"\\ub9de\\ub2e4\", \"\\ud504\\ub85c\\uadf8\\ub7a8\", \"\\ucc3e\\uc544\\ubcf4\\ub2e4\", \"\\ub05d\", \"\\uc77c\\uc77c\\uc774\", \"\\ub824\\uba74\", \"\\ud655\\uc2e4\\ud558\\ub2e4\", \"\\uba54\\ub274\", \"\\uacfc\\uc815\", \"\\uc870\\uc791\", \"\\uc870\\uc815\", \"\\uaddc\\uc815\", \"\\uc57d\\uad00\", \"\\uc3d9\\uc3d9\", \"\\uc5ec\\uc11c\", \"\\ud574\\uc81c\", \"\\uccad\\ub2f4\\ub3d9\", \"\\ud601\\uc2e0\", \"\\uacf5\\uac1c\", \"\\ud22c\\uba85\", \"PT\", \"\\ud2b8\\ub808\\uc774\\ub2dd\", \"\\ub3fc\\ub2e4\", \"\\ud37c\\uc2a4\", \"\\ub9ac\\ubdf0\", \"\\uc804\\ud654\", \"\\uc2dc\\ub300\", \"\\ud2b8\\ub808\\uc774\\ub108\", \"\\uac15\\uc0ac\", \"\\uc54c\", \"\\uce74\\uba54\\ub77c\", \"\\ud544\\uc694\", \"\\ud5ec\\uc2a4\", \"\\uc88b\\ub2e4\", \"\\uc0ac\\uc774\\ud2b8\", \"\\uc8fc\\ubcc0\", \"\\ud3b8\\ud558\\ub2e4\", \"\\uc0ac\\uc9c4\", \"\\uc6b4\\ub3d9\", \"\\ucd94\\ucc9c\", \"\\uc815\\ubcf4\", \"\\ucc3e\\ub2e4\", \"\\ub354\", \"\\ub298\\ub2e4\", \"\\uc218\", \"\\uac00\\uaca9\", \"\\uc124\\uce58\", \"\\uac00\\uc785\", \"\\ud30c\\ud1a0\", \"\\ubbff\\ub2e4\", \"\\ubc88\\ud638\", \"\\ub290\\ub9ac\\ub2e4\", \"\\ub2e8\\uc704\", \"\\ud604\\uc0c1\", \"\\uc27d\\ub2e4\", \"\\uc778\\uc99d\", \"\\ub298\\ub9ac\\ub2e4\", \"\\ubaa8\\ub4e0\", \"\\ud55c\\uc9c0\", \"\\uae30\\uac04\", \"\\uc2b9\\uc778\", \"\\ud504\\ub85c\\ud544\", \"\\ub358\\uc9c0\\ub2e4\", \"\\ubc29\\uc2dd\", \"\\ubc84\\ud2bc\", \"\\uae30\\uc900\", \"\\uc811\\uadfc\", \"\\uc5ec\\uc720\", \"\\ub3d9\\uc758\", \"\\uc81c\\uac70\", \"\\uacc4\\uc2dc\", \"\\ubaa9\\ub85d\", \"\\ub2f9\\uc77c\", \"\\ub300\\uc138\", \"\\ub300\\uc694\", \"\\uc720\\ud6a8\", \"\\uad11\\uace0\", \"\\ud68c\\uc6d0\", \"\\ucf54\\uce6d\", \"\\uacc4\\uc18d\", \"\\uc218\\uac15\", \"\\uc368\\ub2e4\", \"\\uad8c\\ud55c\", \"10\", \"\\ub298\\ub2e4\", \"\\uc5c6\\ub2e4\", \"\\ud544\\uc694\", \"\\ucd94\\ucc9c\", \"\\ubb38\\uc81c\", \"\\ud648\", \"\\uc6b4\\ub3d9\", \"\\ud655\\uc778\", \"\\uc544\\ub2c8\\ub2e4\", \"\\uacb0\\uc81c\", \"\\uc218\", \"\\uc0ac\\uc774\\ud2b8\", \"\\ubcf4\\uc774\\ub2e4\", \"\\ubcf4\\uc774\", \"\\ud734\\ub300\\ud3f0\", \"\\ube7c\\ub2e4\", \"\\uc8fc\\ub85c\", \"\\uac74\\uc9c0\\ub2e4\", \"\\ud5ec\\uc2a4\\ud074\\ub7fd\", \"\\uc9c0\\uc6d0\", \"\\ud53c\", \"\\ud718\\ud2b8\", \"\\ub358\\ub370\", \"\\uc2e0\\ub8b0\", \"\\uc774\\uc81c\\uc57c\", \"\\ud3ec\\ud568\", \"\\uc0ac\\ubb34\\uc2e4\", \"\\ud1b5\\ud55c\", \"\\ubc84\\ud37c\\ub9c1\", \"\\ud398\\uc774\\uc9c0\", \"\\uc138\\uc885\", \"\\uc5b4\\ub5a1\", \"\\uc5f4\\uae30\", \"\\ucb49\\ucb49\", \"\\ub3cc\\uc544\\uc624\\ub2e4\", \"\\ub538\\ub9ac\\ub2e4\", \"\\uc804\\uc801\", \"\\ucc28\\ub2e8\", \"\\ucc1c\", \"\\uac70\\uc9d3\", \"\\ub2a5\\ub825\", \"\\uad00\\uc2ec\", \"\\uc5c6\\ub2e4\", \"\\uc120\\ud0dd\", \"\\ubc29\\ubc95\", \"\\ub204\\ub974\\ub2e4\", \"\\uc624\\ub958\", \"\\ub124\\ud2b8\\uc6cc\\ud06c\", \"\\uc4f8\\ub2e4\", \"\\uc9d1\", \"\\uc785\", \"\\uc544\\uc608\", \"\\ub298\\ub2e4\", \"\\uac1c\\uc120\", \"\\ub2ec\\ub2e4\", \"\\uc0c8\\ub86d\\ub2e4\", \"\\uc0ac\\uc774\\ud2b8\", \"\\ub3d9\\ub124\", \"\\ub144\", \"\\ud544\\uc694\", \"\\uc0ad\\uc81c\", \"\\ud5ec\\uc2a4\", \"\\uc62c\\ub9ac\\ub2e4\", \"\\uc54a\\ub2e4\", \"\\uc5ec\\ub7ec\", \"\\uac10\\uc0ac\", \"\\uc218\", \"\\ud2b8\\ub808\\uc774\\ub108\", \"\\uc54c\", \"\\uc2a4\\ub7fd\\ub2e4\", \"\\ud45c\\uc2dc\", \"\\ub85c\\uadf8\\uc778\", \"\\uc2e4\\ud589\", \"\\uc5ed\", \"\\ube60\\ub974\\ub2e4\", \"30\", \"\\uc778\\uc6d0\", \"\\uc0ac\\ub0b4\", \"\\uacbd\\ub0a8\", \"\\uac15\\uc88c\", \"\\uac1c\\uc124\", \"\\ud3c9\\ud0dd\", \"\\uc694\\uad6c\", \"\\uc0ac\\ub77c\\uc9c0\\ub2e4\", \"\\ubd84\\uba85\", \"\\uc704\\uc82f\", \"\\ud31d\\uc5c5\", \"\\uace0\\uc815\", \"\\ub9c8\\ub0e5\", \"\\ucc3d\\uc6d0\\uc2dc\", \"\\uc77c\\ucc0d\", \"\\ucc38\\uc5ec\", \"\\uc124\\uc815\", \"\\uae09\\ud558\\ub2e4\", \"\\uc0c1\\uad00\", \"\\uc2dc\\uae09\", \"\\uc810\\uac80\", \"\\uc0b4\\ub9ac\\ub2e4\", \"\\uc2ac\\ud504\\ub2e4\", \"\\ucd94\\uac00\", \"\\uac1c\\uc120\", \"\\ud68c\\uc0ac\", \"\\ub4dc\\ub9ac\\ub2e4\", \"\\ubd88\\ud3b8\", \"\\uce74\\uba54\\ub77c\", \"\\uc2a4\\ub9c8\\ud2b8\\ud3f0\", \"\\ub9cc\\uc871\", \"\\ub2f9\\ud669\", \"\\ud654\\uc774\\ud305\", \"\\uc624\\ub958\", \"\\uae30\\ub2e4\", \"\\ub298\\ub2e4\", \"\\ub4e4\\uc5b4\\uac00\\ub2e4\", \"\\uadf8\\ub807\\ub2e4\", \"\\uac00\\ub2a5\", \"\\uc544\\ub2c8\\ub2e4\", \"\\uc218\", \"\\uc608\\uc57d\", \"\\uac04\\ud3b8\", \"\\uac08\\ub2e4\", \"\\uc54c\\ub9bc\", \"\\ud5c8\\uc6a9\", \"\\ub4e3\\ub2e4\", \"\\ub9cc\\ub4dc\", \"\\ubca0\\ub2e4\", \"\\uacc4\\ud68d\", \"\\ub5a8\\ub2e4\", \"\\uadf8\\ub2e4\\uc9c0\", \"\\uce74\\ud53c\\ucea3\", \"\\ud3d0\\uac15\", \"11\", \"\\uc6d4\\uc218\", \"\\uc786\\uc7a5\", \"\\ud64d\\uae38\\ub3d9\", \"\\uce58\\uc5f4\", \"\\ud1a0\", \"\\uc8fc\\ub9d0\", \"\\ub0a8\\ub2e4\", \"\\uc751\\uc6d0\", \"\\ub9c8\\uc2a4\\ud130\", \"\\uc0ac\\uc9c4\", \"\\uace0\\uac1d\", \"\\uac70\\ub098\", \"\\uc790\\uafb8\", \"\\ud798\\ub4e4\\ub2e4\", \"\\ud655\\ub300\", \"good\", \"\\uc785\\uc7a5\", \"\\uc218\\uc5c5\", \"\\uad8c\\ud55c\", \"\\uba74\\uc11c\", \"\\ud3b8\\ub9ac\", \"\\uc5c6\\ub2e4\", \"\\ud655\\uc778\", \"\\uc6b4\\ub3d9\", \"\\uc4f8\\ub2e4\", \"\\uc2dc\\uc124\", \"\\uc2f6\\ub2e4\", \"\\uc218\", \"\\ub298\\ub2e4\", \"\\ucd5c\\uace0\", \"\\uc5f0\\ub3d9\", \"\\uadf8\\ub807\\ub2e4\", \"\\uad73\\ub2e4\", \"\\uc77c\\uc815\", \"\\uc720\\ub8cc\", \"\\uacbd\\ud5d8\", \"\\uc790\\uaca9\", \"\\uc54c\\ub78c\", \"\\ub9c8\\uac10\", \"\\uac04\\ub2e8\", \"\\uc740\\uc9c0\", \"\\ucd94\\ub2e4\", \"\\ud655\\uc2e4\", \"\\uc0ac\\uae30\", \"\\uc815\\uc0c1\", \"\\uc774\\ub825\", \"\\ub118\\uae30\\ub2e4\", \"\\uace0\\ub824\", \"\\uc5c5\\ub85c\\ub4dc\", \"\\uc57d\\uc2dc\", \"\\ub2f9\\ucca8\", \"\\uad6c\\ub3d9\", \"\\ucc28\\uac10\", \"\\ub17c\\ub780\", \"\\uc6d0\\uc870\", \"\\uc8fc\\uc791\", \"\\ucf5c\\ub77c\\ubcf4\", \"\\uc57d\\ud558\\ub2e4\", \"\\ud478\\ub2e4\", \"\\ucde8\\uc18c\", \"\\uc5bc\\ub978\", \"\\uc218\\uc900\", \"\\ub4e4\\uc5b4\\uac00\\ub2e4\", \"\\ubc84\\ub9ac\\ub2e4\", \"\\ubb34\\ub8cc\", \"\\ub9cc\\ub098\\ub2e4\", \"\\uc9f8\\ub2e4\", \"\\ucfe0\\ud3f0\", \"\\uc774\\ubca4\\ud2b8\", \"\\uad00\\ub9ac\", \"\\ud655\\uc778\", \"\\uacb0\\uc81c\", \"\\uc88b\\ub2e4\", \"10\", \"\\uc5b4\\ub5bb\\ub2e4\", \"\\uc544\\ub2c8\\ub2e4\", \"\\uc0ac\\uc774\\ud2b8\", \"\\uc218\", \"\\uc2f6\\ub2e4\", \"\\ub354\", \"\\uc624\\ub958\", \"\\uacf5\\uc9c0\", \"\\uc5d0\\ube0c\\ub9ac\", \"\\ub530\\ub2e4\", \"\\uacc4\\uc2dc\\ub2e4\", \"\\uc774\\ub974\\ub2e4\", \"\\ub3cc\\uc544\\uac00\\ub2e4\", \"\\ubfcc\\ub9ac\\ub2e4\", \"\\uc744\\uc2dc\", \"\\uc124\\uba85\", \"\\uc2e4\\uc6a9\", \"\\ucfe0\\ud3f0\", \"\\ud480\\ub9ac\\ub2e4\", \"\\uc5f4\\uc815\", \"\\ud54f\", \"\\uc131\\uacf5\", \"\\ubb3c\\uac74\", \"\\ud074\\ub9ad\", \"\\uae30\\ubcf8\", \"\\ubb34\\ub824\", \"\\ubc30\\uc6b0\", \"\\ubc1c\", \"\\ub05d\\ub098\\ub2e4\", \"\\uac81\\ub0b4\", \"\\uc384\\ub2e4\", \"\\ud53c\\ub4dc\\ubc31\", \"\\uc9c4\\uc791\", \"\\uae30\\ub300\", \"\\uac1c\\ubc1c\\uc790\", \"\\uc7a1\\ud788\\ub2e4\", \"\\uc9c0\\ud0a4\\ub2e4\", \"\\ud3b8\\ud558\\ub2e4\", \"\\uc601\\uc5c5\", \"\\uc5f4\\ub9ac\\ub2e4\", \"\\ud560\\uc778\", \"\\uc885\\ub8cc\", \"\\uac10\\uc0ac\", \"\\uc0ac\\uc774\\ud2b8\", \"\\uce5c\\uc808\", \"\\uad6c\\ub9e4\", \"\\uc694\\uad6c\", \"\\ub4dc\\ub9ac\\ub2e4\", \"\\ubd88\\ud3b8\", \"\\uac1c\\uc120\"], \"Freq\": [1771.0, 192.0, 252.0, 731.0, 648.0, 443.0, 149.0, 107.0, 305.0, 120.0, 66.0, 124.0, 316.0, 285.0, 460.0, 108.0, 105.0, 66.0, 203.0, 88.0, 57.0, 46.0, 65.0, 57.0, 63.0, 55.0, 60.0, 59.0, 37.0, 29.0, 115.23949934413791, 55.439965941025555, 52.041724255361785, 50.64291982769842, 47.29441623699193, 30.225370070312792, 29.500755399199484, 24.678878395038492, 24.03247939476707, 23.983637072470493, 22.665900979091802, 21.983006056583523, 20.577288008283332, 20.576833762512187, 20.57648490175995, 19.891794799964106, 19.889688916569078, 19.247383579187215, 17.87884645574677, 17.197770333306153, 17.197472348080282, 14.501528238793474, 14.461671806341686, 13.77954819315281, 12.410306988767092, 12.41010439515316, 11.76607746629866, 11.728413223938414, 11.72829602852946, 11.728154303848862, 263.75843932535446, 55.682304242948234, 386.93727532929097, 43.97507159082676, 22.892722245472175, 1350.4341575721635, 485.56334973408957, 56.072835685249196, 79.13550035862207, 113.75951574622172, 135.4432683227412, 35.30311644942733, 66.47237834346662, 247.3045382329089, 73.30290470986684, 46.12554375074973, 70.96846664659638, 135.40093988480285, 230.24180244848253, 92.83654125514792, 29.631781683394667, 51.835503943194375, 73.5084709081238, 38.43880771333556, 33.100613161894344, 52.43112916815031, 43.02073393134701, 71.93571215390898, 41.07393830727304, 31.48701910641912, 47.36434160239457, 29.26014836499026, 40.19584757277355, 36.328338008854175, 16.18264768369955, 14.69510594496774, 13.23654263110329, 19.717551812992667, 12.548229828375437, 12.507208760792926, 12.505888508231402, 13.102261011109812, 11.778751329329902, 11.049744414220745, 11.047770251256807, 11.043144394588792, 10.3615347950735, 10.358546200762854, 10.320208527864008, 10.240710551707613, 8.171240768206955, 5.987605190228852, 5.987605190228852, 5.986396823477626, 5.958104009992262, 8.833734677032716, 9.544621063576166, 5.258366422857241, 5.258099761676029, 17.592444945557478, 73.51088191136607, 26.807318013784847, 11.862944158403996, 8.85900222252517, 15.400588246873763, 41.180912623805284, 15.360186280774906, 78.11448076218652, 51.03157059317661, 44.90416656933088, 18.615348534456558, 43.05886124993932, 16.37046790709662, 65.98775959012501, 86.71209970580672, 114.1866698832942, 23.45023897550212, 47.30613114482317, 19.25844206536436, 47.81997045814692, 18.27430566655811, 15.778554675346449, 22.730067309879548, 18.76548934647204, 22.693503027073938, 18.64428966405382, 16.007787566662074, 17.343995044735216, 17.636459580153314, 18.249502170691557, 16.387602177504043, 14.177293485536262, 12.68880620925968, 12.31327367396314, 11.572564408124736, 11.22100997041528, 11.892941415679276, 10.47626589413912, 10.456418311870491, 9.360575066896807, 9.360609055546027, 8.616616307305273, 7.869154033529592, 6.75618453432028, 6.384191737952452, 6.384142096635827, 6.383902387215008, 6.012124256000153, 6.011890807646295, 6.0117181810857785, 6.0117964444228, 5.639901589031016, 5.639282190620875, 5.63872271956594, 5.638428002199671, 5.6369615708734235, 5.267955750665402, 5.267955750665402, 5.267941886874272, 7.129946976542929, 28.573286040045137, 9.656637668124606, 16.30200802550861, 37.17109946882625, 51.28496119053527, 47.9485459392153, 18.80684088510788, 21.627056209702523, 97.94269336515103, 17.25082442389668, 16.70151597507782, 113.20493494470945, 158.15220444717878, 15.246900176625962, 52.59015394263145, 22.57105337540635, 18.28378240674507, 35.97245576540821, 18.22438098116489, 17.867437553677675, 17.04034345253039, 13.305445277746658, 21.090808346565794, 19.433992285023574, 15.391282169639322, 16.944048242659257, 14.107148963487926, 13.14420849247237, 45.31687657376126, 23.713933489651353, 29.392941274769598, 12.739430881851211, 12.44955110577097, 39.16281734504321, 9.28461989632179, 8.414600453075273, 7.853679672112723, 7.272440386536824, 6.986431674524531, 6.697208275606084, 6.407910211240068, 6.118723466268608, 5.540630989919258, 5.251764966983937, 4.9624343213317115, 4.962316553557594, 4.6732468975834545, 4.672664167704035, 4.672353627319836, 4.672244683644068, 4.671596451803827, 4.383925415417976, 4.382892656522766, 4.382231188535003, 4.094869334979758, 4.0948645835421855, 4.0948377718587405, 4.0948377718587405, 39.87665160506923, 41.23233991855957, 21.50311130805215, 39.75286443832482, 24.496628298084367, 15.857250908992846, 5.719548408039902, 39.47772633670147, 21.209224033767956, 28.601061258732255, 18.163733104461198, 22.43099104294867, 52.551616339491154, 127.9423450583318, 41.45268172699034, 17.73838984319067, 29.820258418963075, 11.515569167477848, 37.052915697482646, 17.619260442820845, 14.601088922002031, 15.626055459593024, 16.203064608175858, 20.84328867524245, 18.462297150870267, 13.047524954477005, 34.55185336690532, 26.92604327387768, 20.622917741473277, 19.170151523125156, 13.317887638008843, 11.45587773079783, 11.45571868621676, 11.415773928506228, 10.370918269239846, 9.286704248340289, 8.897478841443457, 8.897254498070973, 8.89690214320641, 7.424494565618909, 7.055982452576958, 7.047068197764826, 6.687960403731962, 6.687765800403093, 6.319807757304136, 6.31968815060699, 6.319260799110702, 6.319122443255626, 5.9515057641355495, 5.948853728072352, 5.948448358347432, 5.582813917786537, 5.5801004620680486, 5.2147689173861425, 5.214749521705524, 5.214756633455084, 25.684774022217482, 82.15713943877158, 36.18406712928781, 24.990377622996302, 10.3508889963881, 22.035792216971217, 23.89483717113839, 14.26497872259641, 93.85783979469555, 48.05977600447534, 19.67150012706247, 25.937316128229675, 10.572209875309145, 10.593967949826661, 38.345074383682395, 15.136033566979068, 14.401177777988284, 12.947405570338768, 18.684455233446748, 11.34382112559414, 16.860951389331742, 12.822590378221324, 11.139192431147604, 9.793818446992415, 7.793191984759835, 7.79304595919604, 7.120109726698314, 6.783689112741288, 6.783567131547435, 6.783378295276183, 6.110563457524262, 5.773685414090289, 5.437691147863699, 5.437660652565236, 5.437563302189373, 5.101136237303826, 5.10107290091471, 5.098276130176812, 4.764652873405732, 4.7646300019318835, 4.764632934172121, 4.764610942370345, 4.764581913192, 4.764488081504421, 4.764515644562647, 4.764420053530926, 4.7644027533135285, 4.764069064374576, 4.764069064374576, 6.95954435646529, 168.78275064650992, 12.004645482843104, 10.636092726063742, 8.795340798264387, 32.310723459113134, 11.068521922751478, 21.494662729169196, 21.294411833122734, 10.136119961968447, 10.946217009576788, 128.97810081410495, 30.409125787055206, 12.019190567313926, 8.819362296732628, 40.67134498106481, 13.928677138505046, 12.945443033872253, 16.52715219814645, 11.82025917937404, 24.88822411219851, 9.499249111487758, 13.710357778119176, 11.853134284013395, 13.620406030821684, 17.21834690415093, 11.966736308165142, 10.129898921081969, 21.52016459789248, 15.427686837860147, 12.82709671276095, 18.80877579502014, 11.662956995378186, 11.372438750209088, 9.335321973732428, 8.755142503400062, 8.464154545343153, 8.463848819937226, 8.173567903385127, 8.173567903385127, 8.165359464656197, 33.42867842638383, 5.28121149773334, 4.990114764060306, 4.988166279633586, 4.699371963168526, 4.699353833899171, 4.699129278176489, 4.408391421630896, 4.407528221192331, 4.40725174983468, 9.690005471549668, 4.117841862269278, 4.117841862269278, 4.117841862269278, 4.117841862269278, 4.117751627951356, 4.117751627951356, 25.168215286868975, 73.12132266785147, 17.34567453729544, 25.2219141826959, 19.57230645502317, 23.287977670575163, 11.503154078483137, 19.621299981395, 8.173964275137825, 9.358941939527762, 16.585367591006655, 7.248395853763001, 43.12015731309737, 9.817039734087132, 9.76455302713384, 11.908326767393925, 11.454201754996202, 9.48307799114166, 66.09957459041097, 30.671751048422497, 13.553844961844442, 10.554577346241421, 6.646663128308557, 6.317315870658653, 5.658346379795904, 5.328282996220631, 5.32790971514473, 4.9989836668813155, 4.669168321059383, 4.6691564264421554, 4.669142432774831, 4.669135785782851, 4.669135785782851, 4.669135785782851, 4.669135785782851, 4.668848215919318, 4.668848215919318, 6.337004260901905, 6.130882438984631, 1.3889679508745487, 9.267798063549042, 16.031455947213665, 6.977634351051556, 8.346013506650895, 5.900094679356516, 6.708726442262745, 1.0596082738448935, 0.7299807055463807, 8.674578518297317, 8.972269301724054, 19.055897470651434, 16.043489101746644, 28.39092600981451, 30.60307572665713, 14.794890140984458, 33.33198079175288, 9.62600935910736, 22.5366598912648, 10.48990701206454, 19.860895777836664, 12.95282814515909, 8.222196138790407, 5.946079269553999, 5.898595257902616, 29.070188501486985, 14.719980975551264, 13.760530394663979, 12.819497707681785, 9.622556131628714, 9.62271850600823, 8.98366409913703, 7.722382148291645, 7.082928050640099, 6.443585176464632, 5.804636640067988, 5.484150654581914, 5.484767439312895, 5.164792962861194, 4.844435152022685, 4.842953560156846, 4.84250598975177, 4.526098099258922, 4.5260808506984604, 4.526059736081344, 4.525998771341782, 4.525766510553501, 4.525766510553501, 4.525766510553501, 4.525766510553501, 4.5257471802702245, 4.5257471802702245, 11.239624733889292, 1.6665426779709005, 1.6656313294616945, 16.370948946897958, 4.898493924842546, 15.151536389627747, 10.166459746881534, 7.547347325397066, 8.436433890826947, 6.979641291485463, 7.450258152449594, 9.656047483043226, 8.7138234558333, 18.597567995971538, 6.578172125077234, 6.053501249516819, 7.538153247893194, 9.117248846909032, 8.862579799475968, 6.004512363916715, 6.231552191380355, 5.7176337115448055, 15.246820786255213, 13.871976628368282, 8.362372933615786, 7.902583124499505, 7.901884992387273, 7.441204206468741, 6.9818058091268576, 6.981824693028254, 14.603934958156687, 1.480203166172095, 17.007852172488295, 1.479494876809869, 1.8181059753658286, 14.742751089561436, 1.7079398696963959, 3.1364755371689284, 7.442549541383379, 1.0197683001512936, 1.0196174435299106, 1.0194904063750618, 1.019363655339931, 1.0188882674282613, 1.0187788981660069, 1.018393852555336, 1.4780482555150136, 6.9809766341837225, 10.20613183066954, 7.447594976492848, 1.4326480661811867, 1.0197637937657331, 87.23823166715684, 1.9403882496789704, 4.654682841021099, 14.30868115414712, 1.773095910267669, 22.25716589278647, 30.20948120221212, 9.810872318300985, 2.583406122027413, 2.8297752277159307, 2.678154666685516, 2.3799689939242907, 2.254194342331678], \"Total\": [1771.0, 192.0, 252.0, 731.0, 648.0, 443.0, 149.0, 107.0, 305.0, 120.0, 66.0, 124.0, 316.0, 285.0, 460.0, 108.0, 105.0, 66.0, 203.0, 88.0, 57.0, 46.0, 65.0, 57.0, 63.0, 55.0, 60.0, 59.0, 37.0, 29.0, 116.45866643801254, 56.22870236330417, 52.80319988389355, 51.44226653706699, 48.064485124852, 30.975329011719825, 30.25208172443886, 25.428696633333608, 24.78308453083906, 24.73406051545015, 23.41588106467135, 22.732943233226507, 21.327065186067188, 21.32663237546117, 21.326328386618275, 20.64165593794577, 20.639703881248465, 19.997461489418836, 18.629920847887853, 17.947598214629494, 17.947329710437035, 15.251427353306351, 15.211567978658, 14.529344170894031, 13.160161934427967, 13.160065075518487, 12.516422819142033, 12.478208011720252, 12.478092235339973, 12.477956995238126, 285.604904136451, 60.41265835768433, 443.5962736882064, 48.283342127883074, 24.85603190451334, 1771.952012101841, 648.0802350451427, 66.56183377093497, 98.40920279827215, 149.8672902177214, 185.616100745529, 40.844190774475116, 88.4101845340385, 460.61118258212264, 117.00682486222739, 66.3583679814233, 124.86876898331926, 316.46068624163576, 731.5238783834214, 203.8876934088519, 36.83967943146315, 97.33662235001901, 192.74643579175182, 58.40054972946402, 44.633463832075094, 115.4844788734422, 78.34478558166994, 305.21629124462584, 105.25683053864977, 32.23884985518346, 48.5665408381668, 30.0529065915935, 41.33413409503495, 37.81653484468777, 16.928225669074664, 15.435178086002347, 13.97663591499798, 20.84588239478328, 13.2883626271073, 13.24730002559835, 13.246045244153601, 13.92366804478717, 12.518817606099766, 11.789817973520963, 11.787953282262162, 11.783505007969454, 11.101846112145667, 11.099871993487577, 11.060410983672329, 11.02109929429614, 8.912364045541638, 6.727814086901072, 6.727814257040254, 6.726561753463332, 6.715503243143259, 9.98066777179704, 10.800551193781466, 5.998505921113936, 5.998230940453562, 20.41681873533079, 88.99917569312134, 33.71651564932625, 14.069030096278746, 10.29213724789204, 19.587379348808444, 66.91065353617972, 20.79126243676872, 203.8876934088519, 115.4844788734422, 97.33662235001901, 28.020270781507588, 117.00682486222739, 23.763520848061678, 316.46068624163576, 731.5238783834214, 1771.952012101841, 59.716678611408724, 305.21629124462584, 40.36741543260201, 648.0802350451427, 44.962462076017715, 28.051978156128648, 120.41847454303084, 74.58026010461606, 460.61118258212264, 98.40920279827215, 30.517176561591857, 110.60617362570173, 443.5962736882064, 19.06613946558752, 17.204396592845455, 14.99392176851713, 13.5054832163378, 13.13259112347335, 12.389190408197063, 12.0377800753435, 12.811109670432408, 11.293014377324651, 11.2730212882989, 10.17727645277951, 10.17735257720827, 9.433273737854815, 8.686346856146159, 7.572795180840252, 7.200814617563074, 7.20075878830606, 7.200531155884153, 6.828722089731914, 6.8285337041340055, 6.828358927122059, 6.828473817787274, 6.456516240850297, 6.455942377888932, 6.455464166603479, 6.455224154340031, 6.453966408257137, 6.084543379019187, 6.084543379019187, 6.084529515228057, 8.252163013056226, 34.129426824230784, 11.34940574607337, 21.415824083506713, 70.7495789414872, 108.09047364640804, 105.25683053864977, 35.26156439578094, 44.72948821960597, 460.61118258212264, 33.5733268177155, 33.06046777882323, 731.5238783834214, 1771.952012101841, 33.20086164067827, 305.21629124462584, 78.34478558166994, 61.99178052219268, 316.46068624163576, 65.05955684672298, 63.246912254187, 57.733000996998115, 32.19032835770162, 285.604904136451, 203.8876934088519, 79.27327699360275, 185.616100745529, 110.60617362570173, 45.92994463733942, 46.204348384302854, 24.548784562481558, 30.779072933482265, 13.573828142068653, 13.284039327498977, 42.48597697890487, 10.119048093144386, 9.249713702739214, 8.689105210614665, 8.115963929960587, 7.821588958312587, 7.531739903415789, 7.242420127256996, 6.953282709160902, 6.37508656748099, 6.0861648530521935, 5.796831699533752, 5.797039725975756, 5.507626671722809, 5.507133133036021, 5.506869408174336, 5.506789617902661, 5.506202763941944, 5.218298356329769, 5.2173943865874595, 5.216851588523036, 4.929226948517713, 4.929222197080141, 4.929195385396696, 4.929195385396696, 57.733000996998115, 65.05955684672298, 31.621369423939047, 63.246912254187, 45.92994463733942, 28.4750500247824, 7.497667644200398, 108.09047364640804, 47.81176299807939, 79.27327699360275, 42.223768758967275, 59.32102310578739, 316.46068624163576, 1771.952012101841, 305.21629124462584, 66.3583679814233, 192.74643579175182, 28.803767132537025, 648.0802350451427, 110.60617362570173, 70.7495789414872, 105.25683053864977, 185.616100745529, 731.5238783834214, 460.61118258212264, 203.8876934088519, 35.40721056488073, 27.743595649244067, 21.440334043448736, 19.987596214389487, 14.135700296030896, 12.27327744107931, 12.273185005151225, 12.269538661691342, 11.188588306977458, 10.104355170609043, 9.714994080747514, 9.715021257573424, 9.715178167016253, 8.241959466672679, 7.873606038741249, 7.880564438633511, 7.505401387874119, 7.505237530392984, 7.13721994820995, 7.137129668288933, 7.136738657399048, 7.136677001867315, 6.768902537929508, 6.766549478807402, 6.766131821829222, 6.4002478624892065, 6.397839019165576, 6.032162645626867, 6.032146532468412, 6.032155463127667, 33.27282183507575, 120.41847454303084, 57.83231833041601, 50.51503645118438, 15.223761245690696, 44.215106559500526, 55.60146719657336, 29.298027445190368, 731.5238783834214, 252.0206992255981, 59.32102310578739, 110.60617362570173, 19.581718749489227, 21.173092243295677, 648.0802350451427, 61.99178052219268, 66.28801380203876, 59.716678611408724, 460.61118258212264, 305.21629124462584, 17.685342062550077, 13.646851066625361, 11.963534960276036, 10.618040481765336, 8.617514717500088, 8.61748040785383, 7.944390755316417, 7.607946251076755, 7.607850125553689, 7.607767846412284, 6.934825239701074, 6.597952598085863, 6.261914654208824, 6.2618904771928765, 6.26179926601547, 5.925358070966588, 5.925305741032541, 5.922776809472734, 5.588866059214658, 5.588842817387518, 5.5888489923431095, 5.58882375782598, 5.5888044300933, 5.588727445821257, 5.588762610975834, 5.588659071291079, 5.588663613486362, 5.5887726992433455, 5.5887726992433455, 8.789667484518382, 252.0206992255981, 15.691578139764157, 14.626417630239244, 11.83782496140579, 60.340649195538795, 16.73874070249741, 40.8529654684974, 43.495665423972696, 15.732569746085684, 17.724128959836243, 731.5238783834214, 107.63075177085318, 24.72699165207528, 15.004722866735081, 305.21629124462584, 38.685928701526755, 34.65359511033194, 59.32102310578739, 31.752212325363065, 316.46068624163576, 21.318219486518032, 79.82127853831787, 58.40054972946402, 124.86876898331926, 460.61118258212264, 108.09047364640804, 79.27327699360275, 22.35428488151073, 16.26250496091959, 13.661213527587277, 20.129779993867572, 12.497672860242918, 12.2067991955888, 10.169685833584214, 9.589179978646563, 9.298208534930433, 9.297956715820042, 9.007581981398376, 9.007581981398376, 9.008728080933247, 37.00193015572782, 6.115241973680878, 5.824209032245058, 5.8226186229867425, 5.533422808988283, 5.53340150300586, 5.533841541471323, 5.242437185127229, 5.241803540530749, 5.241598589492305, 11.549598797014031, 4.951861866512913, 4.951861866512913, 4.951861866512913, 4.951861866512913, 4.951788428659052, 4.951788428659052, 33.62582673097453, 107.63075177085318, 24.69196578546687, 37.75263349426177, 29.562211969075378, 42.223768758967275, 18.43279330656027, 37.298793169194276, 14.143248579725288, 18.821717431842234, 60.340649195538795, 13.711380477743685, 731.5238783834214, 27.585488173637792, 33.06046777882323, 74.58026010461606, 66.28801380203876, 460.61118258212264, 66.92544558421373, 31.50982153302195, 14.401446969691252, 11.44973051955755, 7.4733209560046205, 7.143620242652231, 6.484044533631346, 6.153995684400425, 6.15364581844258, 5.8246442603803965, 5.494828653405818, 5.494816758788591, 5.494806497779594, 5.4948144244399995, 5.4948144244399995, 5.4948144244399995, 5.4948144244399995, 5.49476641458996, 5.49476641458996, 8.74203401014251, 9.707424830407657, 2.214766513596848, 15.653610078597369, 28.803767132537025, 12.703905595033877, 15.921235590353294, 11.844616289128332, 13.510501178442363, 2.204699622171152, 1.5556420441357204, 21.707503847273458, 23.755878017916388, 55.60146719657336, 59.05100528962768, 149.8672902177214, 252.0206992255981, 61.99178052219268, 648.0802350451427, 40.8529654684974, 443.5962736882064, 55.53260471773818, 460.61118258212264, 731.5238783834214, 88.99917569312134, 28.051978156128648, 33.06046777882323, 29.89806489836413, 15.547870015772109, 14.588418596171792, 13.647437454717524, 10.450440528990114, 10.45063035195669, 9.811517896408493, 8.55032717631052, 7.910855528097354, 7.271998900526369, 6.632486205318385, 6.312097424960478, 6.313063678524402, 5.993060407509686, 5.672429057687074, 5.67103322780898, 5.670951131294517, 5.35392711379231, 5.35391164854421, 5.353901728510025, 5.353841493109946, 5.353709198041029, 5.353709198041029, 5.353709198041029, 5.353709198041029, 5.353800394253486, 5.353800394253486, 16.662434575069163, 2.494424245830367, 2.4947383357586466, 27.585488173637792, 7.896662157964757, 35.504803382032534, 22.598613714712982, 16.64797362772028, 26.17379983210444, 16.89962462878416, 25.26832805710357, 61.99178052219268, 59.716678611408724, 1771.952012101841, 29.298027445190368, 22.010807487267414, 66.28801380203876, 305.21629124462584, 460.61118258212264, 55.53260471773818, 185.616100745529, 60.340649195538795, 16.04445502518884, 14.705685864562186, 9.16008951341661, 8.700226371181918, 8.699615041637506, 8.238931498754525, 7.7794201040551085, 7.779441867265605, 21.50202232226212, 2.2778317155487713, 26.17379983210444, 2.277189981707738, 2.808878617736318, 23.051781769621098, 2.6913320231138287, 5.20028024036543, 13.01704412362868, 1.8173835279598198, 1.8172516200321627, 1.8171387511760138, 1.8170106877244585, 1.8166453723208922, 1.8165642813638163, 1.816111976156758, 2.6496474231447156, 12.555735326317597, 18.42434674674904, 14.172541211406735, 2.9811592783049825, 2.1361344629637227, 192.74643579175182, 4.101936207521167, 10.686474786138259, 44.962462076017715, 3.8093117170112727, 124.86876898331926, 305.21629124462584, 66.56183377093497, 13.3843630992852, 37.00193015572782, 37.75263349426177, 29.562211969075378, 107.63075177085318], \"Category\": [\"Default\", \"Default\", \"Default\", \"Default\", \"Default\", \"Default\", \"Default\", \"Default\", \"Default\", \"Default\", \"Default\", \"Default\", \"Default\", \"Default\", \"Default\", \"Default\", \"Default\", \"Default\", \"Default\", \"Default\", \"Default\", \"Default\", \"Default\", \"Default\", \"Default\", \"Default\", \"Default\", \"Default\", \"Default\", \"Default\", \"Topic1\", \"Topic1\", \"Topic1\", \"Topic1\", \"Topic1\", \"Topic1\", \"Topic1\", \"Topic1\", \"Topic1\", \"Topic1\", \"Topic1\", \"Topic1\", \"Topic1\", \"Topic1\", \"Topic1\", \"Topic1\", \"Topic1\", \"Topic1\", \"Topic1\", \"Topic1\", \"Topic1\", \"Topic1\", \"Topic1\", \"Topic1\", \"Topic1\", \"Topic1\", \"Topic1\", \"Topic1\", \"Topic1\", \"Topic1\", \"Topic1\", \"Topic1\", \"Topic1\", \"Topic1\", \"Topic1\", \"Topic1\", \"Topic1\", \"Topic1\", \"Topic1\", \"Topic1\", \"Topic1\", \"Topic1\", \"Topic1\", \"Topic1\", \"Topic1\", \"Topic1\", \"Topic1\", \"Topic1\", \"Topic1\", \"Topic1\", \"Topic1\", \"Topic1\", \"Topic1\", \"Topic1\", \"Topic1\", \"Topic1\", \"Topic1\", \"Topic1\", \"Topic1\", \"Topic2\", \"Topic2\", \"Topic2\", \"Topic2\", \"Topic2\", \"Topic2\", \"Topic2\", \"Topic2\", \"Topic2\", \"Topic2\", \"Topic2\", \"Topic2\", \"Topic2\", \"Topic2\", \"Topic2\", \"Topic2\", \"Topic2\", \"Topic2\", \"Topic2\", \"Topic2\", \"Topic2\", \"Topic2\", \"Topic2\", \"Topic2\", \"Topic2\", \"Topic2\", \"Topic2\", \"Topic2\", \"Topic2\", \"Topic2\", \"Topic2\", \"Topic2\", \"Topic2\", \"Topic2\", \"Topic2\", \"Topic2\", \"Topic2\", \"Topic2\", \"Topic2\", \"Topic2\", \"Topic2\", \"Topic2\", \"Topic2\", \"Topic2\", \"Topic2\", \"Topic2\", \"Topic2\", \"Topic2\", \"Topic2\", \"Topic2\", \"Topic2\", \"Topic2\", \"Topic2\", \"Topic2\", \"Topic2\", \"Topic2\", \"Topic2\", \"Topic2\", \"Topic2\", \"Topic2\", \"Topic3\", \"Topic3\", \"Topic3\", \"Topic3\", \"Topic3\", \"Topic3\", \"Topic3\", \"Topic3\", \"Topic3\", \"Topic3\", \"Topic3\", \"Topic3\", \"Topic3\", \"Topic3\", \"Topic3\", \"Topic3\", \"Topic3\", \"Topic3\", \"Topic3\", \"Topic3\", \"Topic3\", \"Topic3\", \"Topic3\", \"Topic3\", \"Topic3\", \"Topic3\", \"Topic3\", \"Topic3\", \"Topic3\", \"Topic3\", \"Topic3\", \"Topic3\", \"Topic3\", \"Topic3\", \"Topic3\", \"Topic3\", \"Topic3\", \"Topic3\", \"Topic3\", \"Topic3\", \"Topic3\", \"Topic3\", \"Topic3\", \"Topic3\", \"Topic3\", \"Topic3\", \"Topic3\", \"Topic3\", \"Topic3\", \"Topic3\", \"Topic3\", \"Topic3\", \"Topic3\", \"Topic3\", \"Topic3\", \"Topic3\", \"Topic3\", \"Topic3\", \"Topic3\", \"Topic4\", \"Topic4\", \"Topic4\", \"Topic4\", \"Topic4\", \"Topic4\", \"Topic4\", \"Topic4\", \"Topic4\", \"Topic4\", \"Topic4\", \"Topic4\", \"Topic4\", \"Topic4\", \"Topic4\", \"Topic4\", \"Topic4\", \"Topic4\", \"Topic4\", \"Topic4\", \"Topic4\", \"Topic4\", \"Topic4\", \"Topic4\", \"Topic4\", \"Topic4\", \"Topic4\", \"Topic4\", \"Topic4\", \"Topic4\", \"Topic4\", \"Topic4\", \"Topic4\", \"Topic4\", \"Topic4\", \"Topic4\", \"Topic4\", \"Topic4\", \"Topic4\", \"Topic4\", \"Topic4\", \"Topic4\", \"Topic4\", \"Topic4\", \"Topic4\", \"Topic4\", \"Topic4\", \"Topic4\", \"Topic4\", \"Topic4\", \"Topic4\", \"Topic4\", \"Topic4\", \"Topic4\", \"Topic4\", \"Topic4\", \"Topic5\", \"Topic5\", \"Topic5\", \"Topic5\", \"Topic5\", \"Topic5\", \"Topic5\", \"Topic5\", \"Topic5\", \"Topic5\", \"Topic5\", \"Topic5\", \"Topic5\", \"Topic5\", \"Topic5\", \"Topic5\", \"Topic5\", \"Topic5\", \"Topic5\", \"Topic5\", \"Topic5\", \"Topic5\", \"Topic5\", \"Topic5\", \"Topic5\", \"Topic5\", \"Topic5\", \"Topic5\", \"Topic5\", \"Topic5\", \"Topic5\", \"Topic5\", \"Topic5\", \"Topic5\", \"Topic5\", \"Topic5\", \"Topic5\", \"Topic5\", \"Topic5\", \"Topic5\", \"Topic5\", \"Topic5\", \"Topic5\", \"Topic5\", \"Topic5\", \"Topic5\", \"Topic5\", \"Topic5\", \"Topic5\", \"Topic5\", \"Topic6\", \"Topic6\", \"Topic6\", \"Topic6\", \"Topic6\", \"Topic6\", \"Topic6\", \"Topic6\", \"Topic6\", \"Topic6\", \"Topic6\", \"Topic6\", \"Topic6\", \"Topic6\", \"Topic6\", \"Topic6\", \"Topic6\", \"Topic6\", \"Topic6\", \"Topic6\", \"Topic6\", \"Topic6\", \"Topic6\", \"Topic6\", \"Topic6\", \"Topic6\", \"Topic6\", \"Topic6\", \"Topic6\", \"Topic6\", \"Topic6\", \"Topic6\", \"Topic6\", \"Topic6\", \"Topic6\", \"Topic6\", \"Topic6\", \"Topic6\", \"Topic6\", \"Topic6\", \"Topic6\", \"Topic6\", \"Topic6\", \"Topic6\", \"Topic6\", \"Topic6\", \"Topic6\", \"Topic6\", \"Topic6\", \"Topic6\", \"Topic6\", \"Topic6\", \"Topic6\", \"Topic6\", \"Topic6\", \"Topic6\", \"Topic6\", \"Topic7\", \"Topic7\", \"Topic7\", \"Topic7\", \"Topic7\", \"Topic7\", \"Topic7\", \"Topic7\", \"Topic7\", \"Topic7\", \"Topic7\", \"Topic7\", \"Topic7\", \"Topic7\", \"Topic7\", \"Topic7\", \"Topic7\", \"Topic7\", \"Topic7\", \"Topic7\", \"Topic7\", \"Topic7\", \"Topic7\", \"Topic7\", \"Topic7\", \"Topic7\", \"Topic7\", \"Topic7\", \"Topic7\", \"Topic7\", \"Topic7\", \"Topic7\", \"Topic7\", \"Topic7\", \"Topic7\", \"Topic7\", \"Topic7\", \"Topic7\", \"Topic7\", \"Topic7\", \"Topic7\", \"Topic7\", \"Topic7\", \"Topic7\", \"Topic7\", \"Topic7\", \"Topic7\", \"Topic7\", \"Topic8\", \"Topic8\", \"Topic8\", \"Topic8\", \"Topic8\", \"Topic8\", \"Topic8\", \"Topic8\", \"Topic8\", \"Topic8\", \"Topic8\", \"Topic8\", \"Topic8\", \"Topic8\", \"Topic8\", \"Topic8\", \"Topic8\", \"Topic8\", \"Topic8\", \"Topic8\", \"Topic8\", \"Topic8\", \"Topic8\", \"Topic8\", \"Topic8\", \"Topic8\", \"Topic8\", \"Topic8\", \"Topic8\", \"Topic8\", \"Topic8\", \"Topic8\", \"Topic8\", \"Topic8\", \"Topic8\", \"Topic8\", \"Topic8\", \"Topic8\", \"Topic8\", \"Topic8\", \"Topic8\", \"Topic8\", \"Topic8\", \"Topic8\", \"Topic8\", \"Topic8\", \"Topic9\", \"Topic9\", \"Topic9\", \"Topic9\", \"Topic9\", \"Topic9\", \"Topic9\", \"Topic9\", \"Topic9\", \"Topic9\", \"Topic9\", \"Topic9\", \"Topic9\", \"Topic9\", \"Topic9\", \"Topic9\", \"Topic9\", \"Topic9\", \"Topic9\", \"Topic9\", \"Topic9\", \"Topic9\", \"Topic9\", \"Topic9\", \"Topic9\", \"Topic9\", \"Topic9\", \"Topic9\", \"Topic9\", \"Topic9\", \"Topic9\", \"Topic9\", \"Topic9\", \"Topic9\", \"Topic9\", \"Topic9\", \"Topic9\", \"Topic9\", \"Topic9\", \"Topic9\", \"Topic9\", \"Topic9\", \"Topic9\", \"Topic9\", \"Topic9\", \"Topic9\", \"Topic9\", \"Topic9\", \"Topic9\", \"Topic10\", \"Topic10\", \"Topic10\", \"Topic10\", \"Topic10\", \"Topic10\", \"Topic10\", \"Topic10\", \"Topic10\", \"Topic10\", \"Topic10\", \"Topic10\", \"Topic10\", \"Topic10\", \"Topic10\", \"Topic10\", \"Topic10\", \"Topic10\", \"Topic10\", \"Topic10\", \"Topic10\", \"Topic10\", \"Topic10\", \"Topic10\", \"Topic10\", \"Topic10\", \"Topic10\", \"Topic10\", \"Topic10\", \"Topic10\", \"Topic10\", \"Topic10\", \"Topic10\", \"Topic10\", \"Topic10\", \"Topic10\", \"Topic10\", \"Topic10\", \"Topic10\", \"Topic10\", \"Topic10\", \"Topic10\", \"Topic10\"], \"logprob\": [30.0, 29.0, 28.0, 27.0, 26.0, 25.0, 24.0, 23.0, 22.0, 21.0, 20.0, 19.0, 18.0, 17.0, 16.0, 15.0, 14.0, 13.0, 12.0, 11.0, 10.0, 9.0, 8.0, 7.0, 6.0, 5.0, 4.0, 3.0, 2.0, 1.0, -4.2154, -4.9471, -5.0103, -5.0376, -5.106, -5.5537, -5.578, -5.7564, -5.783, -5.785, -5.8415, -5.8721, -5.9382, -5.9382, -5.9382, -5.9721, -5.9722, -6.005, -6.0788, -6.1176, -6.1176, -6.2881, -6.2909, -6.3392, -6.4438, -6.4439, -6.4972, -6.5004, -6.5004, -6.5004, -3.3873, -4.9427, -3.0041, -5.1788, -5.8316, -1.7542, -2.7771, -4.9357, -4.5912, -4.2283, -4.0538, -5.3984, -4.7656, -3.4518, -4.6678, -5.131, -4.7001, -4.0541, -3.5232, -4.4315, -5.5735, -5.0143, -4.665, -5.3133, -5.4628, -5.0029, -5.2007, -4.6866, -5.247, -4.4401, -4.0319, -4.5135, -4.196, -4.2971, -5.1058, -5.2022, -5.3067, -4.9082, -5.3601, -5.3634, -5.3635, -5.3169, -5.4234, -5.4873, -5.4875, -5.4879, -5.5516, -5.5519, -5.5556, -5.5634, -5.7891, -6.1, -6.1, -6.1002, -6.105, -5.7111, -5.6337, -6.2299, -6.23, -5.0223, -3.5923, -4.601, -5.4163, -5.7083, -5.1553, -4.1717, -5.1579, -3.5315, -3.9573, -4.0852, -4.9657, -4.1272, -5.0942, -3.7003, -3.4271, -3.1519, -4.7348, -4.0331, -4.9318, -4.0223, -4.9842, -5.1311, -4.766, -4.9577, -4.7676, -4.9642, -5.1166, -5.0365, -5.0198, -4.6564, -4.764, -4.9089, -5.0198, -5.0498, -5.1119, -5.1427, -5.0845, -5.2114, -5.2133, -5.324, -5.324, -5.4068, -5.4975, -5.65, -5.7067, -5.7067, -5.7067, -5.7667, -5.7668, -5.7668, -5.7668, -5.8306, -5.8307, -5.8308, -5.8309, -5.8311, -5.8989, -5.8989, -5.8989, -5.5962, -4.208, -5.2928, -4.7692, -3.945, -3.6231, -3.6904, -4.6263, -4.4865, -2.9761, -4.7126, -4.745, -2.8313, -2.4969, -4.8361, -3.598, -4.4438, -4.6545, -3.9777, -4.6577, -4.6775, -4.7249, -4.9723, -4.5117, -4.5935, -4.8267, -4.7306, -4.9138, -4.9845, -3.4709, -4.1185, -3.9038, -4.7399, -4.7629, -3.6169, -5.0562, -5.1546, -5.2236, -5.3005, -5.3406, -5.3829, -5.4271, -5.4732, -5.5725, -5.626, -5.6827, -5.6827, -5.7427, -5.7429, -5.7429, -5.7429, -5.7431, -5.8066, -5.8069, -5.807, -5.8749, -5.8749, -5.8749, -5.8749, -3.5988, -3.5654, -4.2164, -3.6019, -4.0861, -4.521, -5.5407, -3.6089, -4.2302, -3.9311, -4.3852, -4.1741, -3.3228, -2.433, -3.56, -4.4089, -3.8894, -4.8409, -3.6722, -4.4156, -4.6035, -4.5356, -4.4994, -4.2476, -4.3689, -4.716, -3.6934, -3.9428, -4.2095, -4.2826, -4.6468, -4.7974, -4.7974, -4.8009, -4.8969, -5.0073, -5.0501, -5.0502, -5.0502, -5.2311, -5.282, -5.2833, -5.3356, -5.3356, -5.3922, -5.3922, -5.3923, -5.3923, -5.4523, -5.4527, -5.4528, -5.5162, -5.5167, -5.5844, -5.5844, -5.5844, -3.99, -2.8273, -3.6473, -4.0174, -4.8988, -4.1432, -4.0622, -4.5781, -2.6941, -3.3635, -4.2567, -3.9802, -4.8777, -4.8756, -3.5893, -4.5188, -4.5686, -4.675, -4.3082, -4.8072, -4.3134, -4.5872, -4.7279, -4.8566, -5.0851, -5.0851, -5.1755, -5.2239, -5.2239, -5.2239, -5.3284, -5.3851, -5.445, -5.445, -5.445, -5.5089, -5.5089, -5.5095, -5.5772, -5.5772, -5.5772, -5.5772, -5.5772, -5.5772, -5.5772, -5.5772, -5.5772, -5.5773, -5.5773, -5.1983, -2.0098, -4.6531, -4.7741, -4.9642, -3.663, -4.7343, -4.0706, -4.0799, -4.8223, -4.7454, -2.2787, -3.7236, -4.6519, -4.9614, -3.4329, -4.5044, -4.5776, -4.3334, -4.6686, -3.924, -4.8872, -4.5202, -4.6658, -4.5268, -4.2924, -4.6563, -4.8229, -3.7164, -4.0492, -4.2338, -3.8511, -4.329, -4.3542, -4.5516, -4.6157, -4.6495, -4.6496, -4.6845, -4.6845, -4.6855, -3.276, -5.1212, -5.1779, -5.1783, -5.238, -5.238, -5.238, -5.3019, -5.3021, -5.3021, -4.5143, -5.3701, -5.3701, -5.3701, -5.3701, -5.3701, -5.3701, -3.5598, -2.4933, -3.932, -3.5577, -3.8113, -3.6375, -4.3428, -3.8088, -4.6844, -4.5491, -3.9769, -4.8046, -3.0214, -4.5013, -4.5066, -4.3082, -4.347, -4.5359, -2.4306, -3.1984, -4.0151, -4.2652, -4.7277, -4.7785, -4.8886, -4.9487, -4.9488, -5.0125, -5.0808, -5.0808, -5.0808, -5.0808, -5.0808, -5.0808, -5.0808, -5.0809, -5.0809, -4.7754, -4.8084, -6.2932, -4.3952, -3.8472, -4.6791, -4.5, -4.8468, -4.7184, -6.5639, -6.9365, -4.4614, -4.4276, -3.6744, -3.8465, -3.2757, -3.2007, -3.9275, -3.1153, -4.3573, -3.5066, -4.2714, -3.633, -4.0605, -4.5149, -4.839, -4.8471, -3.0896, -3.7701, -3.8375, -3.9084, -4.1952, -4.1952, -4.2639, -4.4152, -4.5017, -4.5963, -4.7007, -4.7575, -4.7574, -4.8175, -4.8815, -4.8818, -4.8819, -4.9495, -4.9495, -4.9495, -4.9495, -4.9496, -4.9496, -4.9496, -4.9496, -4.9496, -4.9496, -4.0399, -5.9486, -5.9491, -3.6638, -4.8704, -3.7412, -4.1402, -4.4381, -4.3268, -4.5163, -4.4511, -4.1918, -4.2944, -3.5363, -4.5756, -4.6587, -4.4394, -4.2492, -4.2775, -4.6668, -4.6297, -4.7158, -3.6963, -3.7908, -4.297, -4.3535, -4.3536, -4.4137, -4.4774, -4.4774, -3.7394, -6.0285, -3.587, -6.029, -5.8229, -3.73, -5.8854, -5.2776, -4.4135, -6.4011, -6.4013, -6.4014, -6.4015, -6.402, -6.4021, -6.4025, -6.03, -4.4775, -4.0977, -4.4128, -6.0612, -6.4011, -1.9521, -5.7578, -4.8828, -3.7598, -5.848, -3.318, -3.0126, -4.1372, -5.4716, -5.3805, -5.4356, -5.5536, -5.6079], \"loglift\": [30.0, 29.0, 28.0, 27.0, 26.0, 25.0, 24.0, 23.0, 22.0, 21.0, 20.0, 19.0, 18.0, 17.0, 16.0, 15.0, 14.0, 13.0, 12.0, 11.0, 10.0, 9.0, 8.0, 7.0, 6.0, 5.0, 4.0, 3.0, 2.0, 1.0, 0.8996, 0.896, 0.8956, 0.8944, 0.8939, 0.8856, 0.8849, 0.8802, 0.8793, 0.8793, 0.8775, 0.8765, 0.8743, 0.8743, 0.8743, 0.8731, 0.8731, 0.8719, 0.8689, 0.8674, 0.8674, 0.8597, 0.8595, 0.8571, 0.8514, 0.8514, 0.8483, 0.8481, 0.8481, 0.8481, 0.8305, 0.8285, 0.7734, 0.8166, 0.8278, 0.6384, 0.6214, 0.7386, 0.6921, 0.6344, 0.595, 0.7643, 0.6249, 0.2882, 0.4425, 0.5464, 0.3451, 0.0611, -0.2459, 0.1234, 0.6924, 0.28, -0.0539, 0.4918, 0.6112, 0.1204, 0.3106, -0.5352, -0.0309, 1.9591, 1.9577, 1.956, 1.9548, 1.9426, 1.9377, 1.9336, 1.9283, 1.9271, 1.9254, 1.9253, 1.9252, 1.9219, 1.9218, 1.9179, 1.9179, 1.9178, 1.9137, 1.9136, 1.9135, 1.9093, 1.8959, 1.8662, 1.8662, 1.8662, 1.8631, 1.8607, 1.8591, 1.8511, 1.851, 1.8339, 1.7915, 1.7534, 1.8122, 1.8328, 1.7423, 1.4974, 1.68, 1.0233, 1.166, 1.2091, 1.5738, 0.9831, 1.6101, 0.415, -0.1498, -0.7593, 1.048, 0.1184, 1.2427, -0.6238, 1.0824, 1.4073, 0.3155, 0.6029, -1.0277, 0.3191, 1.3375, 0.13, -1.2422, 2.2682, 2.2633, 2.256, 2.2496, 2.2475, 2.2438, 2.2417, 2.2376, 2.2369, 2.2368, 2.2283, 2.2283, 2.2214, 2.2132, 2.1979, 2.1916, 2.1916, 2.1916, 2.1846, 2.1846, 2.1846, 2.1846, 2.1767, 2.1767, 2.1767, 2.1767, 2.1766, 2.1679, 2.1679, 2.1679, 2.1658, 2.1343, 2.1504, 2.0391, 1.6684, 1.5664, 1.5257, 1.6834, 1.5853, 0.7638, 1.6461, 1.6291, 0.446, -0.1043, 1.5338, 0.5535, 1.0675, 1.091, 0.1375, 1.0394, 1.0479, 1.0917, 1.4285, -0.2938, -0.0386, 0.6729, -0.0818, 0.2527, 1.0608, 2.5685, 2.5533, 2.5418, 2.5244, 2.523, 2.5064, 2.5018, 2.4932, 2.4868, 2.4781, 2.475, 2.4704, 2.4654, 2.46, 2.4476, 2.4404, 2.4325, 2.4324, 2.4236, 2.4236, 2.4235, 2.4235, 2.4235, 2.4136, 2.4136, 2.4135, 2.4024, 2.4024, 2.4024, 2.4024, 2.2178, 2.1318, 2.2022, 2.1235, 1.9593, 2.0025, 2.3172, 1.5806, 1.775, 1.5684, 1.7443, 1.6154, 0.7925, -0.0404, 0.5914, 1.2685, 0.7217, 1.6711, -0.2738, 0.7509, 1.0098, 0.6804, 0.1494, -0.9702, -0.629, -0.1611, 2.6121, 2.6066, 2.5977, 2.5948, 2.577, 2.5676, 2.5676, 2.5644, 2.5607, 2.5522, 2.5487, 2.5486, 2.5486, 2.5321, 2.5269, 2.5248, 2.5212, 2.5212, 2.5149, 2.5149, 2.5149, 2.5149, 2.5079, 2.5078, 2.5078, 2.4999, 2.4998, 2.4909, 2.4909, 2.4909, 2.3777, 2.2542, 2.1676, 1.9328, 2.2508, 1.9402, 1.792, 1.9168, 0.5832, 0.9795, 1.5328, 1.1863, 2.0202, 1.9441, -0.1908, 1.2266, 1.1099, 1.1078, -0.5683, -0.6558, 2.6863, 2.6718, 2.6627, 2.6533, 2.6335, 2.6335, 2.6245, 2.6194, 2.6194, 2.6194, 2.6075, 2.6006, 2.5929, 2.5929, 2.5929, 2.5843, 2.5843, 2.5842, 2.5745, 2.5745, 2.5745, 2.5745, 2.5745, 2.5745, 2.5745, 2.5745, 2.5745, 2.5744, 2.5744, 2.5006, 2.3332, 2.4662, 2.4155, 2.437, 2.1095, 2.3205, 2.0919, 2.0199, 2.2945, 2.2521, 0.9986, 1.4701, 2.0127, 2.2027, 0.7186, 1.7126, 1.7494, 1.4561, 1.7459, 0.1913, 1.9257, 0.9724, 1.1393, 0.5184, -0.5525, 0.5332, 0.6767, 3.049, 3.0344, 3.0241, 3.0192, 3.0179, 3.0163, 3.0015, 2.9961, 2.9931, 2.9931, 2.9899, 2.9899, 2.9888, 2.9855, 2.9404, 2.9325, 2.9324, 2.9237, 2.9237, 2.9236, 2.9138, 2.9137, 2.9137, 2.9115, 2.9026, 2.9026, 2.9026, 2.9026, 2.9026, 2.9026, 2.7974, 2.7005, 2.7339, 2.6837, 2.6747, 2.492, 2.6156, 2.4447, 2.5388, 2.3884, 1.7956, 2.4496, 0.2559, 2.0539, 1.8675, 1.2524, 1.3314, -0.796, 3.2383, 3.2237, 3.19, 3.1693, 3.1335, 3.1278, 3.1145, 3.1066, 3.1066, 3.0978, 3.0879, 3.0879, 3.0879, 3.0879, 3.0879, 3.0879, 3.0879, 3.0878, 3.0878, 2.9289, 2.7911, 2.7841, 2.7265, 2.6647, 2.6515, 2.6048, 2.5538, 2.5506, 2.518, 2.4941, 2.3334, 2.277, 2.1799, 1.9476, 1.587, 1.1423, 1.818, 0.2832, 1.8052, 0.2709, 1.5841, 0.1069, -0.7831, 0.8689, 1.6994, 1.5271, 3.385, 3.3584, 3.3547, 3.3505, 3.3306, 3.3306, 3.325, 3.3113, 3.3026, 3.2922, 3.2798, 3.2725, 3.2725, 3.2644, 3.2553, 3.2553, 3.2552, 3.2452, 3.2452, 3.2451, 3.2451, 3.2451, 3.2451, 3.2451, 3.2451, 3.2451, 3.2451, 3.0194, 3.0098, 3.0091, 2.8913, 2.9356, 2.5616, 2.6143, 2.622, 2.2809, 2.5288, 2.1918, 1.5537, 1.4884, -1.1437, 1.9194, 2.1222, 1.2391, -0.0977, -0.5376, 1.1887, 0.0191, 1.0567, 3.4008, 3.3934, 3.3606, 3.3556, 3.3556, 3.3499, 3.3436, 3.3436, 3.0649, 3.0207, 3.0207, 3.0205, 3.0168, 3.0048, 2.997, 2.9461, 2.8927, 2.8739, 2.8739, 2.8738, 2.8737, 2.8735, 2.8734, 2.8733, 2.8681, 2.8648, 2.8611, 2.8083, 2.719, 2.7123, 2.659, 2.7032, 2.6206, 2.3068, 2.687, 1.7272, 1.1389, 1.5371, 1.8068, 0.881, 0.8058, 0.9323, -0.4142]}, \"token.table\": {\"Topic\": [5, 6, 9, 8, 7, 3, 4, 8, 4, 10, 1, 2, 3, 4, 1, 1, 2, 5, 7, 9, 5, 9, 8, 8, 1, 3, 4, 6, 7, 10, 1, 3, 4, 9, 7, 3, 10, 1, 6, 7, 10, 7, 1, 2, 8, 6, 6, 2, 3, 3, 3, 10, 2, 3, 1, 2, 5, 8, 9, 7, 3, 9, 1, 5, 5, 10, 8, 4, 8, 9, 3, 7, 2, 4, 10, 2, 4, 1, 9, 4, 6, 2, 3, 5, 1, 1, 1, 2, 9, 2, 9, 10, 9, 3, 4, 5, 8, 4, 8, 3, 7, 8, 3, 7, 5, 1, 2, 1, 7, 3, 10, 10, 5, 1, 2, 1, 3, 4, 5, 7, 10, 4, 10, 1, 2, 4, 8, 1, 9, 6, 9, 1, 2, 6, 3, 9, 5, 6, 5, 1, 2, 3, 4, 5, 6, 7, 8, 9, 5, 1, 2, 6, 1, 2, 4, 1, 2, 5, 3, 1, 6, 5, 9, 5, 7, 5, 5, 1, 2, 3, 4, 9, 6, 5, 3, 3, 10, 6, 1, 3, 6, 5, 1, 4, 5, 3, 5, 7, 10, 8, 4, 7, 9, 2, 1, 2, 4, 10, 2, 6, 8, 1, 3, 4, 7, 3, 4, 7, 9, 2, 7, 3, 8, 3, 9, 8, 1, 3, 1, 7, 1, 3, 3, 4, 4, 3, 2, 1, 2, 7, 8, 5, 2, 8, 2, 5, 1, 10, 1, 6, 9, 5, 6, 3, 10, 3, 5, 3, 1, 10, 1, 2, 3, 6, 5, 10, 3, 9, 5, 6, 5, 8, 1, 2, 2, 4, 6, 6, 7, 2, 3, 1, 5, 7, 8, 10, 2, 3, 1, 3, 3, 3, 7, 6, 10, 9, 7, 7, 6, 2, 2, 10, 1, 2, 3, 4, 5, 6, 7, 9, 10, 1, 4, 8, 1, 6, 7, 7, 7, 4, 6, 7, 3, 1, 2, 3, 1, 2, 3, 6, 3, 6, 3, 10, 5, 7, 5, 10, 3, 6, 1, 2, 3, 4, 5, 6, 7, 8, 9, 5, 7, 5, 7, 8, 9, 1, 9, 1, 5, 7, 5, 7, 1, 2, 7, 5, 7, 1, 4, 1, 2, 4, 5, 8, 2, 2, 4, 1, 6, 1, 1, 2, 6, 10, 5, 7, 1, 2, 3, 4, 5, 6, 8, 9, 2, 4, 1, 4, 5, 10, 4, 4, 6, 8, 3, 1, 3, 5, 7, 9, 4, 6, 1, 2, 3, 4, 5, 6, 8, 1, 3, 4, 6, 9, 1, 8, 4, 2, 4, 9, 9, 6, 2, 5, 9, 9, 9, 2, 1, 2, 5, 6, 7, 8, 10, 1, 2, 3, 6, 4, 5, 7, 2, 2, 5, 6, 8, 2, 6, 7, 10, 10, 1, 10, 8, 6, 7, 8, 9, 3, 4, 6, 7, 10, 1, 3, 1, 2, 3, 4, 5, 8, 9, 9, 1, 8, 2, 5, 7, 9, 4, 2, 5, 9, 10, 8, 4, 9, 10, 1, 3, 9, 4, 6, 7, 5, 4, 4, 9, 7, 1, 6, 2, 5, 8, 8, 9, 3, 6, 8, 2, 3, 3, 1, 3, 3, 1, 10, 2, 1, 2, 1, 2, 6, 2, 4, 7, 1, 5, 1, 3, 4, 9, 5, 2, 1, 2, 4, 4, 2, 5, 10, 1, 2, 3, 4, 5, 7, 9, 6, 8, 9, 1, 4, 6, 9, 3, 1, 3, 8, 2, 1, 2, 3, 6, 1, 2, 10, 1, 1, 9, 10, 1, 2, 6, 5, 9, 6, 3, 6, 1, 9, 6, 1, 7, 7, 1, 3, 4, 4, 4, 1, 2, 3, 2, 4, 5, 8, 4, 7, 9, 1, 2, 3, 4, 5, 4, 9, 8, 1, 10, 4, 7, 8, 1, 2, 1, 2, 1, 5, 9, 1, 2, 9, 10, 2, 9, 10, 8, 6, 4, 1, 3, 4, 6, 9, 3, 4, 9, 5, 7, 3, 4, 9, 6, 1, 2, 8, 1, 1, 2, 4, 10, 7, 8, 6, 7, 9, 10, 4, 5, 6, 10, 1, 1, 4, 5, 6, 3, 10, 1, 2, 4, 5, 1, 2, 3, 10, 1, 4, 3, 8, 1, 2, 3, 4, 6, 9, 6, 4, 5, 1, 3, 5, 1, 5, 8, 1, 2, 1, 4, 7, 8, 9, 4, 3, 5, 7, 8, 9, 2, 6, 7, 1, 2, 5, 1, 6, 6, 6, 8], \"Freq\": [0.47784786966257936, 0.27305592552147395, 0.23892393483128968, 0.909948837900849, 0.88498309065542, 0.29445896985129755, 0.6928446349442295, 0.6428214021147631, 0.9421986186092387, 0.032489607538249615, 0.45613346467905236, 0.38256355102114065, 0.09318855730002144, 0.06376059183685678, 0.9501205945591336, 0.42906795920411916, 0.25475910077744574, 0.09385861607590107, 0.1609004847015447, 0.06704186862564362, 0.9731975747251662, 0.9356367113254739, 0.9838202341930861, 0.9721245392538596, 0.5685969404366005, 0.03203363044713242, 0.07207566850604795, 0.11211770656496346, 0.04004203805891553, 0.1761849674592283, 0.31373032616685886, 0.14640748554453414, 0.4392224566336024, 0.10457677538895295, 0.8881406815414902, 0.42335385803435976, 0.49391283437341976, 0.009291024949161451, 0.2787307484748435, 0.6782448212887859, 0.018582049898322902, 0.8881406815414902, 0.3768551734537118, 0.06280919557561863, 0.5024735646049491, 0.8946508060127301, 0.9283455977119405, 0.8529372613378655, 0.14215621022297759, 0.8482624481514597, 0.8786417020868323, 0.5504897405828287, 0.9813320431242231, 0.8332390595594228, 0.21769462572749956, 0.38515203013326843, 0.21769462572749956, 0.01674574044057689, 0.150711663965192, 0.8604040914051977, 0.9685862921325704, 0.9525597785763272, 0.49490214708958896, 0.49490214708958896, 0.8867695986416507, 0.9195163043686652, 0.8125264513948651, 0.3935797509353789, 0.5510116513095304, 0.8816735503296926, 0.9209855572759539, 0.9036033256006988, 0.9615727651343532, 0.8114914681309766, 0.9349024305562821, 0.9041255351869171, 0.9078320478167012, 0.6727789809275041, 0.27702663920544285, 0.11376994656070241, 0.7963896259249169, 0.9335083230804797, 0.21038191574784607, 0.7814185442062854, 0.9616765475242045, 0.9703218759818422, 0.20421312768639116, 0.7657992288239669, 0.9338983518084641, 0.7471405195615215, 0.07471405195615215, 0.22414215586845646, 0.9699624406657413, 0.9366870090649195, 0.21582164293570194, 0.4316432858714039, 0.3417176013148614, 0.9079700418815566, 0.9099464815706105, 0.5142093001747934, 0.30247605892634905, 0.18148563535580944, 0.8332455198671456, 0.8077769751717223, 0.8493125971202982, 0.9874748141754744, 0.008586737514569343, 0.43759269970950054, 0.5105248163277506, 0.4342080677249299, 0.5427600846561624, 0.5502415888640698, 0.8406740915271124, 0.9112873728471772, 0.08284430662247065, 0.548855928071626, 0.2935741010615674, 0.08934863945352052, 0.03829227405150879, 0.01276409135050293, 0.02552818270100586, 0.8629017761776091, 0.5504651679608936, 0.7393555679244661, 0.24645185597482205, 0.3090417955751522, 0.6180835911503044, 0.9685127150271495, 0.8814565945473003, 0.6571581575643147, 0.29870825343832486, 0.3174273827860463, 0.28857034798731485, 0.37514145238350927, 0.8217543517301684, 0.9339319367270724, 0.16894995546229905, 0.7602747995803456, 0.8962561184498622, 0.31441215631712793, 0.11892981565039187, 0.15447205940798026, 0.028707196881129073, 0.1284988812774349, 0.17634420941265003, 0.05878140313755001, 0.017771121878794188, 0.0027340187505837214, 0.9264030348547058, 0.24048563742611662, 0.7214569122783498, 0.8946508060127301, 0.45027695935646955, 0.44161778706115284, 0.09525089524848394, 0.8027704498525525, 0.19307137401517085, 0.8962628686346004, 0.9292937206659647, 0.4852996340536584, 0.4852996340536584, 0.9378166568471329, 0.9338966214281024, 0.35352556888292475, 0.5656409102126796, 0.828890116818194, 0.8288923309616539, 0.7273075959346796, 0.0538746367359022, 0.09158688245103373, 0.08619941877744351, 0.03232478204154132, 0.8651984430192549, 0.9326616443604662, 0.8217562241232045, 0.9137897462116671, 0.8496247360544491, 0.8946457265666978, 0.3618886884689803, 0.2584919203349859, 0.3618886884689803, 0.8864066170814299, 0.2529934707363931, 0.6957320445250811, 0.06324836768409828, 0.1854175285828462, 0.052976436737956066, 0.6622054592244508, 0.0794646551069341, 0.8399102690504113, 0.03625094447143607, 0.3625094447143607, 0.5800151115429771, 0.9017432706689056, 0.7465203284876027, 0.18097462508790368, 0.06786548440796389, 0.8733539108195997, 0.9718060858399168, 0.8946580502397815, 0.8584215235272513, 0.18677777630236417, 0.7471111052094567, 0.821535420206785, 0.9515992099638856, 0.28303974896219364, 0.5225349211609729, 0.1741783070536576, 0.9172892609505866, 0.9594220873569274, 0.9035314731239329, 0.3832981638020733, 0.57494724570311, 0.5310060232671404, 0.44250501938928366, 0.9253483637996761, 0.47656879780997297, 0.5063543476730963, 0.4557788216601227, 0.5362103784236737, 0.9243538754988289, 0.07352814918740684, 0.9625720007021809, 0.8949588168476403, 0.8625091833674474, 0.8786736480369582, 0.9009112903164213, 0.47416635606232777, 0.20321415259814046, 0.03386902543302341, 0.2709522034641873, 0.9264004433324299, 0.9519645347690298, 0.026443459299139715, 0.9331560565778769, 0.9374636934242824, 0.9118428830732777, 0.5502815289730222, 0.3943128440780157, 0.16899121889057817, 0.42247804722644544, 0.561748442040458, 0.4085443214839695, 0.19229732894735857, 0.5768919868420758, 0.9337116877184143, 0.9505895454462655, 0.9294797293702077, 0.9781481287730011, 0.5503544953014858, 0.9472161192934385, 0.06836944119061387, 0.13673888238122775, 0.7520638530967527, 0.9326820066191124, 0.5503157088872939, 0.2532715671497676, 0.6331789178744192, 0.8406634576961342, 0.843838312911884, 0.9196573022738899, 0.8124802577737171, 0.9253287124974955, 0.040231683152065024, 0.97829961183336, 0.9033396924050866, 0.9526007088765485, 0.9612480177015441, 0.8584856711560453, 0.9301236777621161, 0.8786884321748467, 0.033826968057941206, 0.06765393611588241, 0.6765393611588241, 0.13530787223176483, 0.06765393611588241, 0.9330084675357301, 0.8217543517301684, 0.5120349039125932, 0.45179550345228814, 0.8332718614927318, 0.8843230349257157, 0.9011371305243635, 0.9417933579339131, 0.8998099995076976, 0.7921297254107744, 0.860380789476438, 0.8176291341404446, 0.798492539857736, 0.833540895975558, 0.925878672354945, 0.0925878672354945, 0.23589828611832905, 0.15398915899390925, 0.17364734950377, 0.1343309684840485, 0.03604001593474472, 0.1343309684840485, 0.0032763650849767924, 0.02948728576479113, 0.09829095254930378, 0.03471768103799138, 0.41661217245589655, 0.5554828966078621, 0.4724080277083019, 0.3779264221666415, 0.12597547405554718, 0.8077889549661561, 0.8077769751717223, 0.920693190620727, 0.5998111447931284, 0.33322841377396023, 0.9293763247561662, 0.18639138853532336, 0.4038480084932006, 0.4038480084932006, 0.4587580365353997, 0.5242948988975996, 0.8497066226559347, 0.14650114183723012, 0.19118535900462907, 0.7647414360185163, 0.27904352018962886, 0.697608800474072, 0.0865830941468317, 0.865830941468317, 0.9884992192724544, 0.7431264455011506, 0.9294451715866127, 0.8946358611969661, 0.5362440369236199, 0.04993365526009416, 0.21276079197779252, 0.039078512812247605, 0.04124954130181691, 0.03690748432267829, 0.019539256406123803, 0.043420569791386227, 0.019539256406123803, 0.6568678947740751, 0.2627471579096301, 0.21047422436792537, 0.1683793794943403, 0.3788536038622657, 0.21047422436792537, 0.9661876798602035, 0.8016872837254103, 0.9847888028441522, 0.8937678039117565, 0.9841513659064192, 0.3255068236383135, 0.651013647276627, 0.3211960394736688, 0.6780805277777453, 0.8077889549661561, 0.8890462598150374, 0.8077769751717223, 0.1333748103349874, 0.8002488620099245, 0.8724149028177216, 0.040577437340359145, 0.015780114521250777, 0.020288718670179572, 0.05184894771268113, 0.9336620176654542, 0.07061153381242849, 0.9179499395615704, 0.9616854703168535, 0.909373007884395, 0.98351450343093, 0.9846842966244873, 0.8744539431635848, 0.09716154924039831, 0.43901399439382277, 0.04967764179760755, 0.9438751941545435, 0.01800743914467568, 0.1080446348680541, 0.14405951315740545, 0.14405951315740545, 0.16206695230208115, 0.12605207401272978, 0.18007439144675683, 0.1080446348680541, 0.8007944913649325, 0.17795433141442946, 0.33925056767225953, 0.1583169315803878, 0.4975674992526473, 0.5506268408163864, 0.7665334035851017, 0.22030224481353974, 0.5140385712315927, 0.24478027201504415, 0.8843164203778399, 0.3771420889854916, 0.10559978491593766, 0.21119956983187532, 0.16594251915361632, 0.12068546847535733, 0.3385215721233071, 0.620622882226063, 0.3382556693455964, 0.13780786528894667, 0.11275188978186547, 0.07516792652124364, 0.11275188978186547, 0.1753918285495685, 0.05011195101416243, 0.31536478556345626, 0.18921887133807375, 0.36582315125360926, 0.1261459142253825, 0.9568800793081044, 0.984698332469501, 0.9607213009258729, 0.9776451432418256, 0.8918201250064101, 0.9080668138019042, 0.9338939237927698, 0.9339160282043315, 0.8946395816401274, 0.36345781519500175, 0.36345781519500175, 0.2725933613962513, 0.8017882296257994, 0.881686314030825, 0.964964899871348, 0.007935856087002147, 0.003967928043501073, 0.19046054608805155, 0.6705798393516814, 0.007935856087002147, 0.12300576934853329, 0.9520127200416575, 0.650678806552884, 0.11986188541763652, 0.01712312648823379, 0.20547751785880547, 0.7666662137489436, 0.8407274139533143, 0.9601787576128596, 0.9585569801858146, 0.570369758273336, 0.0356481098920835, 0.1782405494604175, 0.213888659352501, 0.9007510912135395, 0.8946385931790517, 0.46788113948349436, 0.46788113948349436, 0.7120279200999453, 0.48757462301165727, 0.48757462301165727, 0.9861719921901868, 0.5303224348200396, 0.28173379349814603, 0.0828628804406312, 0.09943545652875743, 0.3283576287610186, 0.18763293072058204, 0.4221740941213096, 0.8918453675555535, 0.08107685159595941, 0.9689145124851051, 0.9296608659635512, 0.7499071468614487, 0.07406490339372333, 0.003086037641405139, 0.057091696365995065, 0.058634715186697633, 0.05091962108318479, 0.004629056462107708, 0.9339319367270724, 0.9846643134808414, 0.909948837900849, 0.9677444427556242, 0.020590307292672857, 0.8587201607642343, 0.95966536110184, 0.9739343064794306, 0.8335791085132712, 0.8288911037792625, 0.8848600477075803, 0.899807482263561, 0.4515148634679191, 0.8624976725388174, 0.8342982816817067, 0.919580919582182, 0.11834582388259174, 0.4142103835890711, 0.4142103835890711, 0.9577254009655377, 0.7984778260494731, 0.9385578349808259, 0.8907050324377623, 0.8894117230352392, 0.9411636903262948, 0.9647623748322866, 0.7630961307632272, 0.317812034568861, 0.635624069137722, 0.23033509680239067, 0.3685361548838251, 0.4146031742443032, 0.909948837900849, 0.9568974601845188, 0.8870736375154137, 0.4221327122761492, 0.506559254731379, 0.08811034008066694, 0.8811034008066694, 0.9540696316151487, 0.9914026623078842, 0.9299948367066643, 0.8786659420554065, 0.3354399770845443, 0.3354399770845443, 0.8919861617134126, 0.6238952307778258, 0.36749993045817136, 0.9587403824076445, 0.9073505040622762, 0.8946524209456389, 0.4214215599114369, 0.5618954132152493, 0.8077769751717223, 0.9472019485115794, 0.8407201507623473, 0.2544184752659339, 0.5229713102688641, 0.21201539605494493, 0.792008485041717, 0.8867148638743856, 0.9451669839934617, 0.534228523083633, 0.4623131449762209, 0.9079134059799924, 0.9079568860990339, 0.8976294010343929, 0.2625146153133891, 0.5250292306267782, 0.7618716482048895, 0.06433582807063512, 0.08916720030842411, 0.07223671923720434, 0.0011286987380813179, 0.0005643493690406589, 0.010722638011772518, 0.9283419016104417, 0.6863391280609066, 0.2287797093536355, 0.6932057161634456, 0.27125441067265266, 0.03013937896362807, 0.9339319367270724, 0.8855031673455666, 0.3119543953448689, 0.5388303192320463, 0.14179745242948588, 0.9814250034921028, 0.3577058588608405, 0.15649631325161772, 0.4918455559336557, 0.9200906222240053, 0.5202215642233, 0.47067665334489056, 0.46813532450226786, 0.9778529797606924, 0.9822393586847001, 0.3982243867087331, 0.5575141413922263, 0.3678527467976517, 0.13794478004911936, 0.4828067301719178, 0.4805389640141744, 0.4805389640141744, 0.8946426326288326, 0.9137572233213792, 0.8946682688029711, 0.9203521964101371, 0.9339088589818512, 0.8946689959466273, 0.9118495942944429, 0.7631259684819617, 0.7630038966128163, 0.38952341420678643, 0.45602741175428657, 0.15200913725142884, 0.8284523535743084, 0.8114862719402391, 0.09795845405332666, 0.8816260864799399, 0.9440820483081122, 0.8314683751134943, 0.05618029561577664, 0.022472118246310655, 0.08988847298524262, 0.23791236611086133, 0.7434761440964417, 0.825082632997332, 0.3164380328212258, 0.1536984730845954, 0.12657521312849032, 0.1627395597366304, 0.23506825295291056, 0.30007619699711535, 0.6601676333936537, 0.9099567884676165, 0.8413229748554957, 0.15023624550990994, 0.4263001747369424, 0.5447168899416487, 0.9099484513296708, 0.2945691442255692, 0.6733009010870152, 0.8143393336473584, 0.19001251118438364, 0.3631187648404435, 0.622489311155046, 0.9339319367270724, 0.8569150064266338, 0.12241642948951911, 0.30564916257162267, 0.6495044704646982, 0.9677231875242016, 0.384111780870739, 0.5377564932190346, 0.9099567884676165, 0.8438308605347057, 0.8114914681309766, 0.9690061502369882, 0.47182696383433587, 0.36080885469684504, 0.11101810913749079, 0.0462575454739545, 0.27666957588424845, 0.6301918117363436, 0.07685265996784679, 0.9794623515400273, 0.9035998463515545, 0.2845988738178817, 0.6324419418175148, 0.07905524272718935, 0.844198618459357, 0.7606729916473782, 0.04670799071518989, 0.18683196286075957, 0.9635672357493986, 0.38392409019667423, 0.0051881633810361375, 0.15564490143108414, 0.451370214150144, 0.8880276913820725, 0.9099501505686249, 0.7984809089541014, 0.9223671283142718, 0.9339160282043315, 0.4391377127217413, 0.929400123977378, 0.8882612475933004, 0.920102247609741, 0.3774087039901924, 0.9684024589487793, 0.9677585420547201, 0.37086346202706794, 0.337148601842789, 0.28657631156637065, 0.34704475688481656, 0.6507089191590311, 0.37363257835289376, 0.6127574284987458, 0.8648916341735936, 0.9263854810769878, 0.2446485243935792, 0.40033394900767505, 0.022240774944870836, 0.3113708492281917, 0.9916672932879452, 0.7667459831136305, 0.9243614587266974, 0.9366652444353645, 0.4265932732539163, 0.2085567113685813, 0.11375820620104435, 0.1674773591293153, 0.0789987543062808, 0.003159950172251232, 0.881124835824015, 0.8114870541582458, 0.8965292260209287, 0.9269580502225483, 0.033105644650805295, 0.033105644650805295, 0.4722975692493115, 0.5195273261742426, 0.909948837900849, 0.983141226641886, 0.8918201024532387, 0.2125204575238641, 0.2656505719048301, 0.4781710294286942, 0.4535765280420452, 0.9046381423588619, 0.8625401355713256, 0.29036107445818743, 0.24196756204848952, 0.06452468321293053, 0.24196756204848952, 0.16131170803232633, 0.8934550074301861, 0.28349302201447407, 0.6884830534637227, 0.12456560388198439, 0.19100059261904273, 0.680958634554848, 0.9616958933725669, 0.9201121986524735, 0.9194606808543314, 0.44409899534842756, 0.5181154945731655], \"Term\": [\"10\", \"10\", \"10\", \"11\", \"30\", \"PT\", \"PT\", \"good\", \"pt\", \"pt\", \"\\uac00\\uaca9\", \"\\uac00\\uaca9\", \"\\uac00\\uaca9\", \"\\uac00\\uaca9\", \"\\uac00\\ub054\", \"\\uac00\\ub2a5\", \"\\uac00\\ub2a5\", \"\\uac00\\ub2a5\", \"\\uac00\\ub2a5\", \"\\uac00\\ub2a5\", \"\\uac00\\uc785\", \"\\uac04\\ub2e8\", \"\\uac04\\ud3b8\", \"\\uac08\\ub2e4\", \"\\uac10\\uc0ac\", \"\\uac10\\uc0ac\", \"\\uac10\\uc0ac\", \"\\uac10\\uc0ac\", \"\\uac10\\uc0ac\", \"\\uac10\\uc0ac\", \"\\uac15\\uc0ac\", \"\\uac15\\uc0ac\", \"\\uac15\\uc0ac\", \"\\uac15\\uc0ac\", \"\\uac15\\uc88c\", \"\\uac1c\\ubc1c\\uc790\", \"\\uac1c\\ubc1c\\uc790\", \"\\uac1c\\uc120\", \"\\uac1c\\uc120\", \"\\uac1c\\uc120\", \"\\uac1c\\uc120\", \"\\uac1c\\uc124\", \"\\uac70\\ub098\", \"\\uac70\\ub098\", \"\\uac70\\ub098\", \"\\uac70\\uc9d3\", \"\\uac74\\uc9c0\\ub2e4\", \"\\uac77\\ub2e4\", \"\\uac77\\ub2e4\", \"\\uac78\\uc74c\", \"\\uac80\\uc99d\", \"\\uac81\\ub0b4\", \"\\uacb0\\uacfc\", \"\\uacb0\\uc815\", \"\\uacb0\\uc81c\", \"\\uacb0\\uc81c\", \"\\uacb0\\uc81c\", \"\\uacb0\\uc81c\", \"\\uacb0\\uc81c\", \"\\uacbd\\ub0a8\", \"\\uacbd\\ub825\", \"\\uacbd\\ud5d8\", \"\\uacc4\\uc18d\", \"\\uacc4\\uc18d\", \"\\uacc4\\uc2dc\", \"\\uacc4\\uc2dc\\ub2e4\", \"\\uacc4\\ud68d\", \"\\uace0\\uac1d\", \"\\uace0\\uac1d\", \"\\uace0\\ub824\", \"\\uace0\\ub974\\ub2e4\", \"\\uace0\\uc815\", \"\\uace8\\ud504\", \"\\uacf5\\uac1c\", \"\\uacf5\\uc9c0\", \"\\uacf5\\ud654\\uad6d\", \"\\uacfc\\uc815\", \"\\uad00\\ub9ac\", \"\\uad00\\ub9ac\", \"\\uad00\\uc2ec\", \"\\uad00\\uc2ec\", \"\\uad00\\uc7a5\", \"\\uad11\\uace0\", \"\\uad11\\uace0\", \"\\uad11\\uc5ed\\uc2dc\", \"\\uad11\\uc8fc\", \"\\uad1c\\ucc2e\\ub2e4\", \"\\uad1c\\ucc2e\\ub2e4\", \"\\uad6c\\ub3d9\", \"\\uad6c\\ub9e4\", \"\\uad6c\\ub9e4\", \"\\uad6c\\ub9e4\", \"\\uad73\\ub2e4\", \"\\uad81\\uae08\", \"\\uad8c\\ud55c\", \"\\uad8c\\ud55c\", \"\\uad8c\\ud55c\", \"\\uaddc\\uc815\", \"\\uadf8\\ub2e4\\uc9c0\", \"\\uadf8\\ub807\\ub2e4\", \"\\uadf8\\ub807\\ub2e4\", \"\\uadf8\\ub807\\ub2e4\", \"\\uadfc\\uc721\", \"\\uae09\\ud558\\ub2e4\", \"\\uae30\\uac04\", \"\\uae30\\uad6c\", \"\\uae30\\uad6c\", \"\\uae30\\ub2e4\", \"\\uae30\\ub2e4\", \"\\uae30\\ub300\", \"\\uae30\\ub300\", \"\\uae30\\ubcf8\", \"\\uae30\\uc900\", \"\\uae68\\ub057\", \"\\uae68\\ub057\", \"\\ub044\\ub2e4\", \"\\ub044\\ub2e4\", \"\\ub044\\ub2e4\", \"\\ub044\\ub2e4\", \"\\ub044\\ub2e4\", \"\\ub044\\ub2e4\", \"\\ub05d\", \"\\ub05d\\ub098\\ub2e4\", \"\\ub09c\\uace1\", \"\\ub09c\\uace1\", \"\\ub0a8\\ub2e4\", \"\\ub0a8\\ub2e4\", \"\\ub113\\ub2e4\", \"\\ub118\\uae30\\ub2e4\", \"\\ub124\\ud2b8\\uc6cc\\ud06c\", \"\\ub124\\ud2b8\\uc6cc\\ud06c\", \"\\ub144\", \"\\ub144\", \"\\ub144\", \"\\ub178\\ubca8\", \"\\ub17c\\ub780\", \"\\ub204\\ub974\\ub2e4\", \"\\ub204\\ub974\\ub2e4\", \"\\ub290\\ub9ac\\ub2e4\", \"\\ub298\\ub2e4\", \"\\ub298\\ub2e4\", \"\\ub298\\ub2e4\", \"\\ub298\\ub2e4\", \"\\ub298\\ub2e4\", \"\\ub298\\ub2e4\", \"\\ub298\\ub2e4\", \"\\ub298\\ub2e4\", \"\\ub298\\ub2e4\", \"\\ub298\\ub9ac\\ub2e4\", \"\\ub298\\uc5b4\\ub098\\ub2e4\", \"\\ub298\\uc5b4\\ub098\\ub2e4\", \"\\ub2a5\\ub825\", \"\\ub2e4\\ub2c8\\ub2e4\", \"\\ub2e4\\ub2c8\\ub2e4\", \"\\ub2e4\\ub2c8\\ub2e4\", \"\\ub2e4\\uc591\", \"\\ub2e4\\uc591\", \"\\ub2e8\\uc704\", \"\\ub2eb\\ud788\\ub2e4\", \"\\ub2ec\\ub2e4\", \"\\ub2ec\\ub2e4\", \"\\ub2f9\\uc77c\", \"\\ub2f9\\ucca8\", \"\\ub2f9\\ud669\", \"\\ub2f9\\ud669\", \"\\ub300\\uc138\", \"\\ub300\\uc694\", \"\\ub354\", \"\\ub354\", \"\\ub354\", \"\\ub354\", \"\\ub354\", \"\\ub358\\ub370\", \"\\ub358\\uc9c0\\ub2e4\", \"\\ub365\\ub2e4\", \"\\ub3c8\", \"\\ub3cc\\uc544\\uac00\\ub2e4\", \"\\ub3cc\\uc544\\uc624\\ub2e4\", \"\\ub3d9\\ub124\", \"\\ub3d9\\ub124\", \"\\ub3d9\\ub124\", \"\\ub3d9\\uc758\", \"\\ub3fc\\ub2e4\", \"\\ub3fc\\ub2e4\", \"\\ub3fc\\ub2e4\", \"\\ub4dc\\ub9ac\\ub2e4\", \"\\ub4dc\\ub9ac\\ub2e4\", \"\\ub4dc\\ub9ac\\ub2e4\", \"\\ub4dc\\ub9ac\\ub2e4\", \"\\ub4e3\\ub2e4\", \"\\ub4e4\\uc5b4\\uac00\\ub2e4\", \"\\ub4e4\\uc5b4\\uac00\\ub2e4\", \"\\ub4e4\\uc5b4\\uac00\\ub2e4\", \"\\ub4ed\\ub2c8\", \"\\ub4f1\\ub85d\", \"\\ub4f1\\ub85d\", \"\\ub4f1\\ub85d\", \"\\ub530\\ub2e4\", \"\\ub530\\ub974\\ub2e4\", \"\\ub538\\ub9ac\\ub2e4\", \"\\ub5a8\\ub2e4\", \"\\ub610\", \"\\ub610\", \"\\ub824\\uba74\", \"\\ub85c\\uadf8\\uc778\", \"\\ub9ac\\ubdf0\", \"\\ub9ac\\ubdf0\", \"\\ub9ac\\ubdf0\", \"\\ub9c8\\uac10\", \"\\ub9c8\\uad6c\", \"\\ub9c8\\ub0e5\", \"\\ub9c8\\uc2a4\\ud130\", \"\\ub9c8\\uc2a4\\ud130\", \"\\ub9cc\\ub098\\ub2e4\", \"\\ub9cc\\ub098\\ub2e4\", \"\\ub9cc\\ub4dc\", \"\\ub9cc\\ub4e4\\ub2e4\", \"\\ub9cc\\ub4e4\\ub2e4\", \"\\ub9cc\\uc871\", \"\\ub9cc\\uc871\", \"\\ub9ce\\ub2e4\", \"\\ub9ce\\ub2e4\", \"\\ub9d0\\ub2e4\", \"\\ub9de\\ub2e4\", \"\\uba54\\ub274\", \"\\uba54\\uc77c\", \"\\uba64\\ubc84\\uc2ed\", \"\\uba74\\uc11c\", \"\\uba74\\uc11c\", \"\\uba74\\uc11c\", \"\\uba74\\uc11c\", \"\\ubaa8\\ub4e0\", \"\\ubaa8\\ub974\\ub2e4\", \"\\ubaa8\\ub974\\ub2e4\", \"\\ubaa8\\uc73c\\ub2e4\", \"\\ubaa9\\ub85d\", \"\\ubab8\\uc9f1\", \"\\ubb34\\ub824\", \"\\ubb34\\ub8cc\", \"\\ubb34\\ub8cc\", \"\\ubb34\\ub8cc\", \"\\ubb38\\uc81c\", \"\\ubb38\\uc81c\", \"\\ubb3c\\uac74\", \"\\ubb3c\\uac74\", \"\\ubbf8\\ub9ac\", \"\\ubbff\\ub2e4\", \"\\ubc14\\ud0d5\", \"\\ubc15\\uc2a4\", \"\\ubc1c\", \"\\ubc1c\\uc804\", \"\\ubc29\\ubc95\", \"\\ubc29\\ubc95\", \"\\ubc29\\ubc95\", \"\\ubc29\\uc2dd\", \"\\ubc30\\uc6b0\", \"\\ubc84\\ub9ac\\ub2e4\", \"\\ubc84\\ub9ac\\ub2e4\", \"\\ubc84\\ud2bc\", \"\\ubc84\\ud37c\\ub9c1\", \"\\ubc88\\ud638\", \"\\ubca0\\ub2e4\", \"\\ubcc4\\ub85c\", \"\\ubcc4\\ub85c\", \"\\ubcf4\\uae30\", \"\\ubcf4\\uc548\", \"\\ubcf4\\uc774\", \"\\ubcf4\\uc774\\ub2e4\", \"\\ubd84\\uba85\", \"\\ubd88\\uac00\", \"\\ubd88\\ub9cc\", \"\\ubd88\\ud3b8\", \"\\ubd88\\ud3b8\", \"\\ubd88\\ud3b8\", \"\\ubd88\\ud3b8\", \"\\ubd88\\ud3b8\", \"\\ubd99\\ub2e4\", \"\\ube14\\ub9ac\", \"\\ube44\\uad50\", \"\\ube44\\uad50\", \"\\ube44\\ubc88\", \"\\ube44\\uc2f8\\ub2e4\", \"\\ube60\\ub974\\ub2e4\", \"\\ube7c\\ub2e4\", \"\\ubfcc\\ub9ac\\ub2e4\", \"\\uc0ac\\uae30\", \"\\uc0ac\\ub0b4\", \"\\uc0ac\\ub77c\\uc9c0\\ub2e4\", \"\\uc0ac\\ubb34\\uc2e4\", \"\\uc0ac\\uc6a9\\uad8c\", \"\\uc0ac\\uc6a9\\uc790\", \"\\uc0ac\\uc6a9\\uc790\", \"\\uc0ac\\uc774\\ud2b8\", \"\\uc0ac\\uc774\\ud2b8\", \"\\uc0ac\\uc774\\ud2b8\", \"\\uc0ac\\uc774\\ud2b8\", \"\\uc0ac\\uc774\\ud2b8\", \"\\uc0ac\\uc774\\ud2b8\", \"\\uc0ac\\uc774\\ud2b8\", \"\\uc0ac\\uc774\\ud2b8\", \"\\uc0ac\\uc774\\ud2b8\", \"\\uc0ac\\uc9c4\", \"\\uc0ac\\uc9c4\", \"\\uc0ac\\uc9c4\", \"\\uc0ad\\uc81c\", \"\\uc0ad\\uc81c\", \"\\uc0ad\\uc81c\", \"\\uc0b4\\ub9ac\\ub2e4\", \"\\uc0c1\\uad00\", \"\\uc0c1\\ub2f4\", \"\\uc0c8\\ub86d\\ub2e4\", \"\\uc0c8\\ub86d\\ub2e4\", \"\\uc0dd\\uaca8\\ub098\\ub2e4\", \"\\uc0dd\\uae30\\ub2e4\", \"\\uc0dd\\uae30\\ub2e4\", \"\\uc0dd\\uae30\\ub2e4\", \"\\uc11c\\uc6b8\", \"\\uc11c\\uc6b8\", \"\\uc120\\uc0dd\", \"\\uc120\\uc0dd\", \"\\uc120\\ud0dd\", \"\\uc120\\ud0dd\", \"\\uc124\\uba85\", \"\\uc124\\uba85\", \"\\uc124\\uc815\", \"\\uc124\\uc815\", \"\\uc124\\uce58\", \"\\uc131\\uacf5\", \"\\uc138\\ub2e4\", \"\\uc138\\uc885\", \"\\uc218\", \"\\uc218\", \"\\uc218\", \"\\uc218\", \"\\uc218\", \"\\uc218\", \"\\uc218\", \"\\uc218\", \"\\uc218\", \"\\uc218\\uac15\", \"\\uc218\\uac15\", \"\\uc218\\uc5c5\", \"\\uc218\\uc5c5\", \"\\uc218\\uc5c5\", \"\\uc218\\uc5c5\", \"\\uc218\\uc815\", \"\\uc218\\uc900\", \"\\uc26c\\ub2e4\", \"\\uc27d\\ub2e4\", \"\\uc2a4\\ub7fd\\ub2e4\", \"\\uc2a4\\ub9c8\\ud2b8\\ud3f0\", \"\\uc2a4\\ub9c8\\ud2b8\\ud3f0\", \"\\uc2a4\\ud3ec\\uce20\", \"\\uc2a4\\ud3ec\\uce20\", \"\\uc2ac\\ud504\\ub2e4\", \"\\uc2b9\\uc778\", \"\\uc2dc\\uae09\", \"\\uc2dc\\ub300\", \"\\uc2dc\\ub300\", \"\\uc2dc\\uc124\", \"\\uc2dc\\uc124\", \"\\uc2dc\\uc124\", \"\\uc2dc\\uc124\", \"\\uc2dc\\uc124\", \"\\uc2dc\\uc2a4\\ud15c\", \"\\uc2dc\\uc791\", \"\\uc2dc\\uc791\", \"\\uc2e0\\uacbd\", \"\\uc2e0\\ub8b0\", \"\\uc2e0\\ub9bc\", \"\\uc2e0\\uc138\\uacc4\", \"\\uc2e4\\uc2dc\\uac04\", \"\\uc2e4\\uc2dc\\uac04\", \"\\uc2e4\\uc6a9\", \"\\uc2e4\\ud589\", \"\\uc2e4\\ud589\", \"\\uc2f6\\ub2e4\", \"\\uc2f6\\ub2e4\", \"\\uc2f6\\ub2e4\", \"\\uc2f6\\ub2e4\", \"\\uc2f6\\ub2e4\", \"\\uc2f6\\ub2e4\", \"\\uc2f6\\ub2e4\", \"\\uc2f6\\ub2e4\", \"\\uc2f8\\ub2e4\", \"\\uc2f8\\ub2e4\", \"\\uc368\\ub2e4\", \"\\uc368\\ub2e4\", \"\\uc368\\ub2e4\", \"\\uc384\\ub2e4\", \"\\uc3d9\\uc3d9\", \"\\uc4f8\\ub2e4\", \"\\uc4f8\\ub2e4\", \"\\uc4f8\\ub2e4\", \"\\uc544\\uae5d\\ub2e4\", \"\\uc544\\ub2c8\\ub2e4\", \"\\uc544\\ub2c8\\ub2e4\", \"\\uc544\\ub2c8\\ub2e4\", \"\\uc544\\ub2c8\\ub2e4\", \"\\uc544\\ub2c8\\ub2e4\", \"\\uc544\\uc608\", \"\\uc544\\uc608\", \"\\uc54a\\ub2e4\", \"\\uc54a\\ub2e4\", \"\\uc54a\\ub2e4\", \"\\uc54a\\ub2e4\", \"\\uc54a\\ub2e4\", \"\\uc54a\\ub2e4\", \"\\uc54a\\ub2e4\", \"\\uc54c\", \"\\uc54c\", \"\\uc54c\", \"\\uc54c\", \"\\uc54c\\ub78c\", \"\\uc54c\\ub824\\uc9c0\\ub2e4\", \"\\uc54c\\ub9bc\", \"\\uc54c\\uc544\\ubcf4\\ub2e4\", \"\\uc560\\ud50c\", \"\\uc57d\\uad00\", \"\\uc57d\\uc2dc\", \"\\uc57d\\ud558\\ub2e4\", \"\\uc5b4\\ub5a1\", \"\\uc5b4\\ub5bb\\ub2e4\", \"\\uc5b4\\ub5bb\\ub2e4\", \"\\uc5b4\\ub5bb\\ub2e4\", \"\\uc5bc\\ub978\", \"\\uc5c5\\ub85c\\ub4dc\", \"\\uc5c5\\uccb4\", \"\\uc5c6\\ub2e4\", \"\\uc5c6\\ub2e4\", \"\\uc5c6\\ub2e4\", \"\\uc5c6\\ub2e4\", \"\\uc5c6\\ub2e4\", \"\\uc5c6\\ub2e4\", \"\\uc5d0\\ube0c\\ub9ac\", \"\\uc5ec\\ub7ec\", \"\\uc5ec\\ub7ec\", \"\\uc5ec\\ub7ec\", \"\\uc5ec\\ub7ec\", \"\\uc5ec\\uc11c\", \"\\uc5ec\\uc720\", \"\\uc5ed\", \"\\uc5ed\\uc2dc\", \"\\uc5f0\\ub3d9\", \"\\uc5f0\\ub3d9\", \"\\uc5f0\\ub3d9\", \"\\uc5f0\\ub3d9\", \"\\uc5f0\\uc2b5\\uc7a5\", \"\\uc5f4\\uae30\", \"\\uc5f4\\ub9ac\\ub2e4\", \"\\uc5f4\\ub9ac\\ub2e4\", \"\\uc5f4\\uc815\", \"\\uc601\\uc5c5\", \"\\uc601\\uc5c5\", \"\\uc608\\uc57d\", \"\\uc624\\ub958\", \"\\uc624\\ub958\", \"\\uc624\\ub958\", \"\\uc624\\ub958\", \"\\uc62c\\ub9ac\\ub2e4\", \"\\uc62c\\ub9ac\\ub2e4\", \"\\uc62c\\ub9ac\\ub2e4\", \"\\uc694\\uad6c\", \"\\uc694\\uad6c\", \"\\uc695\\uad6c\", \"\\uc6a9\\ub7c9\", \"\\uc6b4\\ub3d9\", \"\\uc6b4\\ub3d9\", \"\\uc6b4\\ub3d9\", \"\\uc6b4\\ub3d9\", \"\\uc6b4\\ub3d9\", \"\\uc6b4\\ub3d9\", \"\\uc6b4\\ub3d9\", \"\\uc6d0\\uc870\", \"\\uc6d0\\uc8fc\", \"\\uc6d4\\uc218\", \"\\uc6f0\\ube59\", \"\\uc6f0\\ube59\", \"\\uc704\\uc82f\", \"\\uc720\\ub8cc\", \"\\uc720\\uc6a9\", \"\\uc720\\uc9c0\", \"\\uc720\\ud6a8\", \"\\uc740\\uc9c0\", \"\\uc744\\uc2dc\", \"\\uc751\\uc6d0\", \"\\uc774\\ub4dd\", \"\\uc774\\ub825\", \"\\uc774\\ub974\\ub2e4\", \"\\uc774\\ubca4\\ud2b8\", \"\\uc774\\ubca4\\ud2b8\", \"\\uc774\\ubca4\\ud2b8\", \"\\uc774\\uc058\\ub2e4\", \"\\uc774\\uc81c\\uc57c\", \"\\uc778\\uc6d0\", \"\\uc778\\uc99d\", \"\\uc778\\ud130\\ud398\\uc774\\uc2a4\", \"\\uc77c\\uc77c\\uc774\", \"\\uc77c\\uc815\", \"\\uc77c\\ucc0d\", \"\\uc785\", \"\\uc785\", \"\\uc785\\uc7a5\", \"\\uc785\\uc7a5\", \"\\uc785\\uc7a5\", \"\\uc786\\uc7a5\", \"\\uc790\\uaca9\", \"\\uc790\\uaca9\\uc99d\", \"\\uc790\\uafb8\", \"\\uc790\\uafb8\", \"\\uc790\\ub3d9\", \"\\uc790\\ub3d9\", \"\\uc790\\uc138\", \"\\uc790\\uc8fc\", \"\\uc791\\ub3d9\", \"\\uc798\\ubabb\", \"\\uc7a1\\ud788\\ub2e4\", \"\\uc7a1\\ud788\\ub2e4\", \"\\uc7ac\\ubc0c\\ub2e4\", \"\\uc800\\ub834\", \"\\uc800\\ub834\", \"\\uc804\\uad6d\", \"\\uc804\\ubc88\", \"\\uc804\\uc801\", \"\\uc804\\ud654\", \"\\uc804\\ud654\", \"\\uc810\\uac80\", \"\\uc810\\uc810\", \"\\uc811\\uadfc\", \"\\uc815\\ubcf4\", \"\\uc815\\ubcf4\", \"\\uc815\\ubcf4\", \"\\uc815\\uc0c1\", \"\\uc81c\\uac70\", \"\\uc81c\\uc77c\", \"\\uc81c\\ud734\", \"\\uc81c\\ud734\", \"\\uc870\\uc791\", \"\\uc870\\uc815\", \"\\uc870\\ud68c\", \"\\uc885\\ub8cc\", \"\\uc885\\ub8cc\", \"\\uc88b\\ub2e4\", \"\\uc88b\\ub2e4\", \"\\uc88b\\ub2e4\", \"\\uc88b\\ub2e4\", \"\\uc88b\\ub2e4\", \"\\uc88b\\ub2e4\", \"\\uc88b\\ub2e4\", \"\\uc8fc\\ub85c\", \"\\uc8fc\\ub9d0\", \"\\uc8fc\\ub9d0\", \"\\uc8fc\\ubcc0\", \"\\uc8fc\\ubcc0\", \"\\uc8fc\\ubcc0\", \"\\uc8fc\\uc791\", \"\\uc9c0\\ub3c4\", \"\\uc9c0\\ubc29\", \"\\uc9c0\\ubc29\", \"\\uc9c0\\ubc29\", \"\\uc9c0\\ubd88\", \"\\uc9c0\\uc5ed\", \"\\uc9c0\\uc5ed\", \"\\uc9c0\\uc5ed\", \"\\uc9c0\\uc6d0\", \"\\uc9c0\\uc810\", \"\\uc9c0\\uc810\", \"\\uc9c0\\ud0a4\\ub2e4\", \"\\uc9c1\\uc6d0\", \"\\uc9c1\\uc7a5\", \"\\uc9c4\\uc791\", \"\\uc9c4\\uc791\", \"\\uc9d1\", \"\\uc9d1\", \"\\uc9d1\", \"\\uc9f8\\ub2e4\", \"\\uc9f8\\ub2e4\", \"\\ucb49\\ucb49\", \"\\ucc0c\\ub2e4\", \"\\ucc1c\", \"\\ucc28\", \"\\ucc28\\uac10\", \"\\ucc28\\ub2e8\", \"\\ucc38\\uace0\", \"\\ucc38\\uc5ec\", \"\\ucc3d\\uc6d0\\uc2dc\", \"\\ucc3e\\ub2e4\", \"\\ucc3e\\ub2e4\", \"\\ucc3e\\ub2e4\", \"\\ucc3e\\uc544\\ubcf4\\ub2e4\", \"\\uccad\\ub2f4\\ub3d9\", \"\\uccb4\\ud06c\", \"\\uccb4\\ud06c\", \"\\uccb4\\ud5d8\", \"\\ucd5c\\uace0\", \"\\ucd5c\\uace0\", \"\\ucd5c\\uace0\", \"\\ucd5c\\uace0\", \"\\ucd94\\uac00\", \"\\ucd94\\uac00\", \"\\ucd94\\ub2e4\", \"\\ucd94\\ucc9c\", \"\\ucd94\\ucc9c\", \"\\ucd94\\ucc9c\", \"\\ucd94\\ucc9c\", \"\\ucd94\\ucc9c\", \"\\ucde8\\uc18c\", \"\\ucde8\\uc18c\", \"\\uce58\\uc5f4\", \"\\uce5c\\uc808\", \"\\uce5c\\uc808\", \"\\uce74\\uba54\\ub77c\", \"\\uce74\\uba54\\ub77c\", \"\\uce74\\ud53c\\ucea3\", \"\\ucf54\\ub85c\\ub098\", \"\\ucf54\\ub85c\\ub098\", \"\\ucf54\\uc820\", \"\\ucf54\\uc820\", \"\\ucf54\\uce6d\", \"\\ucf54\\uce6d\", \"\\ucf5c\\ub77c\\ubcf4\", \"\\ucf8c\\uc801\", \"\\ucf8c\\uc801\", \"\\ucfe0\\ud3f0\", \"\\ucfe0\\ud3f0\", \"\\ud074\\ub7fd\", \"\\ud074\\ub9ad\", \"\\ud074\\ub9ad\", \"\\ud1a0\", \"\\ud1b5\\ud55c\", \"\\ud22c\\uba85\", \"\\ud29c\\ubc84\", \"\\ud2b8\\ub808\\uc774\\ub108\", \"\\ud2b8\\ub808\\uc774\\ub108\", \"\\ud2b8\\ub808\\uc774\\ub108\", \"\\ud2b8\\ub808\\uc774\\ub108\", \"\\ud2b8\\ub808\\uc774\\ub2dd\", \"\\ud2b8\\ub808\\uc774\\ub2dd\", \"\\ud2b8\\ub808\\uc774\\ub2dd\", \"\\ud30c\\ud1a0\", \"\\ud31d\\uc5c5\", \"\\ud37c\\uc2a4\", \"\\ud37c\\uc2a4\", \"\\ud37c\\uc2a4\", \"\\ud398\\uc774\\uc9c0\", \"\\ud3b8\\ub9ac\", \"\\ud3b8\\ub9ac\", \"\\ud3b8\\ub9ac\", \"\\ud3b8\\uc758\", \"\\ud3b8\\ud558\\ub2e4\", \"\\ud3b8\\ud558\\ub2e4\", \"\\ud3b8\\ud558\\ub2e4\", \"\\ud3b8\\ud558\\ub2e4\", \"\\ud3c9\\ud0dd\", \"\\ud3d0\\uac15\", \"\\ud3ec\\ud568\", \"\\ud45c\\uc2dc\", \"\\ud478\\ub2e4\", \"\\ud480\\ub9ac\\ub2e4\", \"\\ud504\\ub85c\\uadf8\\ub7a8\", \"\\ud504\\ub85c\\ud544\", \"\\ud53c\", \"\\ud53c\\ub4dc\\ubc31\", \"\\ud53c\\ud2b8\", \"\\ud544\\ub77c\\ud14c\\uc2a4\", \"\\ud544\\uc694\", \"\\ud544\\uc694\", \"\\ud544\\uc694\", \"\\ud54f\", \"\\ud54f\", \"\\ud558\\ud2b8\", \"\\ud558\\ud2b8\", \"\\ud559\\uc6d0\", \"\\ud55c\\uc9c0\", \"\\ud560\\uc778\", \"\\ud560\\uc778\", \"\\ud560\\uc778\", \"\\ud560\\uc778\", \"\\ud569\\ub9ac\", \"\\ud574\\uc81c\", \"\\ud589\\ubcf5\", \"\\ud5c8\\uc6a9\", \"\\ud5ec\\uc2a4\", \"\\ud5ec\\uc2a4\", \"\\ud5ec\\uc2a4\", \"\\ud5ec\\uc2a4\", \"\\ud5ec\\uc2a4\", \"\\ud5ec\\uc2a4\", \"\\ud5ec\\uc2a4\\ud074\\ub7fd\", \"\\ud601\\uc2e0\", \"\\ud604\\uc0c1\", \"\\ud61c\\ud0dd\", \"\\ud61c\\ud0dd\", \"\\ud61c\\ud0dd\", \"\\ud648\", \"\\ud648\", \"\\ud64d\\uae38\\ub3d9\", \"\\ud64d\\ubcf4\", \"\\ud654\\uc774\\ud2b8\", \"\\ud654\\uc774\\ud305\", \"\\ud654\\uc774\\ud305\", \"\\ud654\\uc774\\ud305\", \"\\ud655\\ub300\", \"\\ud655\\uc2e4\", \"\\ud655\\uc2e4\\ud558\\ub2e4\", \"\\ud655\\uc778\", \"\\ud655\\uc778\", \"\\ud655\\uc778\", \"\\ud655\\uc778\", \"\\ud655\\uc778\", \"\\ud65c\\ub3d9\", \"\\ud68c\\uc0ac\", \"\\ud68c\\uc0ac\", \"\\ud68c\\uc6d0\", \"\\ud68c\\uc6d0\", \"\\ud68c\\uc6d0\", \"\\ud6cc\\ub96d\", \"\\ud718\\ud2b8\", \"\\ud734\\ub300\\ud3f0\", \"\\ud798\\ub4e4\\ub2e4\", \"\\ud798\\ub4e4\\ub2e4\"]}, \"R\": 30, \"lambda.step\": 0.01, \"plot.opts\": {\"xlab\": \"PC1\", \"ylab\": \"PC2\"}, \"topic.order\": [1, 9, 10, 7, 5, 2, 6, 3, 4, 8]};\n",
       "\n",
       "function LDAvis_load_lib(url, callback){\n",
       "  var s = document.createElement('script');\n",
       "  s.src = url;\n",
       "  s.async = true;\n",
       "  s.onreadystatechange = s.onload = callback;\n",
       "  s.onerror = function(){console.warn(\"failed to load library \" + url);};\n",
       "  document.getElementsByTagName(\"head\")[0].appendChild(s);\n",
       "}\n",
       "\n",
       "if(typeof(LDAvis) !== \"undefined\"){\n",
       "   // already loaded: just create the visualization\n",
       "   !function(LDAvis){\n",
       "       new LDAvis(\"#\" + \"ldavis_el1979219788523073768124459333\", ldavis_el1979219788523073768124459333_data);\n",
       "   }(LDAvis);\n",
       "}else if(typeof define === \"function\" && define.amd){\n",
       "   // require.js is available: use it to load d3/LDAvis\n",
       "   require.config({paths: {d3: \"https://d3js.org/d3.v5\"}});\n",
       "   require([\"d3\"], function(d3){\n",
       "      window.d3 = d3;\n",
       "      LDAvis_load_lib(\"https://cdn.jsdelivr.net/gh/bmabey/pyLDAvis@3.4.0/pyLDAvis/js/ldavis.v3.0.0.js\", function(){\n",
       "        new LDAvis(\"#\" + \"ldavis_el1979219788523073768124459333\", ldavis_el1979219788523073768124459333_data);\n",
       "      });\n",
       "    });\n",
       "}else{\n",
       "    // require.js not available: dynamically load d3 & LDAvis\n",
       "    LDAvis_load_lib(\"https://d3js.org/d3.v5.js\", function(){\n",
       "         LDAvis_load_lib(\"https://cdn.jsdelivr.net/gh/bmabey/pyLDAvis@3.4.0/pyLDAvis/js/ldavis.v3.0.0.js\", function(){\n",
       "                 new LDAvis(\"#\" + \"ldavis_el1979219788523073768124459333\", ldavis_el1979219788523073768124459333_data);\n",
       "            })\n",
       "         });\n",
       "}\n",
       "</script>"
      ],
      "text/plain": [
       "<IPython.core.display.HTML object>"
      ]
     },
     "execution_count": 17,
     "metadata": {},
     "output_type": "execute_result"
    }
   ],
   "source": [
    "import pyLDAvis\n",
    "import pyLDAvis.gensim_models as gensimvis\n",
    "\n",
    "# Prepare the visualization data\n",
    "vis_data = gensimvis.prepare(model, corpus, dictionary)\n",
    "\n",
    "# Display the visualization\n",
    "pyLDAvis.display(vis_data)"
   ]
  },
  {
   "cell_type": "code",
   "execution_count": null,
   "metadata": {},
   "outputs": [],
   "source": []
  }
 ],
 "metadata": {
  "colab": {
   "authorship_tag": "ABX9TyPEYBVph0ZixUSYYzCB2GTR",
   "provenance": []
  },
  "kernelspec": {
   "display_name": "Python 3 (ipykernel)",
   "language": "python",
   "name": "python3"
  },
  "language_info": {
   "codemirror_mode": {
    "name": "ipython",
    "version": 3
   },
   "file_extension": ".py",
   "mimetype": "text/x-python",
   "name": "python",
   "nbconvert_exporter": "python",
   "pygments_lexer": "ipython3",
   "version": "3.11.3"
  }
 },
 "nbformat": 4,
 "nbformat_minor": 4
}
