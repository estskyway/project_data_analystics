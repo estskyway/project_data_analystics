{
 "cells": [
  {
   "cell_type": "markdown",
   "id": "2eefd61b-6fdc-4a0b-ae39-81045e34a34b",
   "metadata": {},
   "source": [
    "### LDA"
   ]
  },
  {
   "cell_type": "code",
   "execution_count": 1,
   "id": "9ef8b427-01bc-43fe-8154-8ce22dfe2ef9",
   "metadata": {
    "tags": []
   },
   "outputs": [],
   "source": [
    "import pandas as pd"
   ]
  },
  {
   "cell_type": "code",
   "execution_count": null,
   "id": "de65d8e5-ed6f-4b8f-8752-6c4720480a8d",
   "metadata": {},
   "outputs": [],
   "source": [
    "df = pd.read_csv('../')"
   ]
  },
  {
   "cell_type": "code",
   "execution_count": null,
   "id": "43b41638-c467-4d90-b161-5bc7df7f1a9c",
   "metadata": {},
   "outputs": [],
   "source": [
    "from gensim.corpora import Dictionary \n",
    "from gensim.models import LdaModel\n",
    "import gensim\n"
   ]
  },
  {
   "cell_type": "markdown",
   "id": "87490710-083b-4f95-bfad-df776b85a475",
   "metadata": {},
   "source": [
    "### transform with dictionary"
   ]
  },
  {
   "cell_type": "code",
   "execution_count": null,
   "id": "ba13e449-2fd0-4be0-9a1c-0bebfd1fc18d",
   "metadata": {},
   "outputs": [],
   "source": []
  },
  {
   "cell_type": "markdown",
   "id": "f51f5c91-a93b-4d23-a668-9b466e89a3c4",
   "metadata": {},
   "source": [
    "### 최적의 토픽 단어 수 - 긍정"
   ]
  },
  {
   "cell_type": "code",
   "execution_count": null,
   "id": "d9e38507-7b73-4c58-82e3-580c5b50a301",
   "metadata": {},
   "outputs": [],
   "source": []
  },
  {
   "cell_type": "markdown",
   "id": "a35de5d1-6cbe-4d7a-b8ab-4b9ed73b0ffe",
   "metadata": {},
   "source": [
    "### 최적의 토픽 단어 수 - 부정"
   ]
  },
  {
   "cell_type": "code",
   "execution_count": null,
   "id": "f70ff950-ff9c-4317-968e-9f6e56e2ac02",
   "metadata": {},
   "outputs": [],
   "source": []
  },
  {
   "cell_type": "markdown",
   "id": "3724babb-c97d-4b1a-92af-873c01f2b506",
   "metadata": {},
   "source": [
    "### LDA 시각화"
   ]
  },
  {
   "cell_type": "code",
   "execution_count": null,
   "id": "b27aa9b3-0c90-40af-976a-a41a4aedc49e",
   "metadata": {},
   "outputs": [],
   "source": [
    "import pyLDAvis.gensim_models"
   ]
  },
  {
   "cell_type": "code",
   "execution_count": null,
   "id": "2e2b9faf-3f09-4fa5-8940-cd1185b3e17c",
   "metadata": {},
   "outputs": [],
   "source": [
    "pyLDAvis.enable_notebook()   # 일반 python에선 불필요\n",
    "result_visualized = pyLDAvis.gensim_models.prepare(lda_model, corpus_list, dictionary)"
   ]
  },
  {
   "cell_type": "code",
   "execution_count": null,
   "id": "2f7b47bf-4c10-4f6d-8b52-cf148db6ec1c",
   "metadata": {},
   "outputs": [],
   "source": [
    "pyLDAvis.display(result_visualized)"
   ]
  }
 ],
 "metadata": {
  "kernelspec": {
   "display_name": "Python 3 (ipykernel)",
   "language": "python",
   "name": "python3"
  },
  "language_info": {
   "codemirror_mode": {
    "name": "ipython",
    "version": 3
   },
   "file_extension": ".py",
   "mimetype": "text/x-python",
   "name": "python",
   "nbconvert_exporter": "python",
   "pygments_lexer": "ipython3",
   "version": "3.11.5"
  }
 },
 "nbformat": 4,
 "nbformat_minor": 5
}
