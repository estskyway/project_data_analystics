{
 "cells": [
  {
   "cell_type": "markdown",
   "id": "81a60619-fe56-4eb8-9277-8e79ec6edcb9",
   "metadata": {},
   "source": [
    "#### 2023-09-019(화)네이버 댓글 리뷰 "
   ]
  }
 ],
 "metadata": {
  "kernelspec": {
   "display_name": "Python 3 (ipykernel)",
   "language": "python",
   "name": "python3"
  },
  "language_info": {
   "codemirror_mode": {
    "name": "ipython",
    "version": 3
   },
   "file_extension": ".py",
   "mimetype": "text/x-python",
   "name": "python",
   "nbconvert_exporter": "python",
   "pygments_lexer": "ipython3",
   "version": "3.11.3"
  }
 },
 "nbformat": 4,
 "nbformat_minor": 5
}
