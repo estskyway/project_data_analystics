{
 "cells": [
  {
   "cell_type": "markdown",
   "id": "48783ac2-c374-41ba-a102-1d766ec0b828",
   "metadata": {},
   "source": [
    "### 브라우저 띄우기"
   ]
  },
  {
   "cell_type": "code",
   "execution_count": 1,
   "id": "4d8bb8e8-4356-4c83-b3c2-af2bf914a977",
   "metadata": {
    "tags": []
   },
   "outputs": [],
   "source": [
    "from selenium import webdriver"
   ]
  },
  {
   "cell_type": "code",
   "execution_count": 3,
   "id": "c06b82b5-1920-4127-bf1b-b3177c5b03bf",
   "metadata": {
    "tags": []
   },
   "outputs": [],
   "source": [
    "browser = webdriver.Chrome(executable_path='../../../chromedriver.exe')"
   ]
  },
  {
   "cell_type": "code",
   "execution_count": 6,
   "id": "4030de16-61aa-42b5-b436-24876c652c8b",
   "metadata": {
    "tags": []
   },
   "outputs": [],
   "source": [
    "browser.get('https://play.google.com/store/search?q=%ED%97%AC%EC%8A%A4%EC%9E%A5+%EB%B9%84%EA%B5%90&c=apps&hl=ko-KR')"
   ]
  },
  {
   "cell_type": "code",
   "execution_count": null,
   "id": "1260c8f3-328d-40f4-9a5b-88c09c41b52f",
   "metadata": {},
   "outputs": [],
   "source": [
    "browser.implicitly_wait(10)"
   ]
  },
  {
   "cell_type": "markdown",
   "id": "3d1262c2-4754-4546-916c-8fd5ce430efb",
   "metadata": {},
   "source": [
    "### 제품 클릭"
   ]
  },
  {
   "cell_type": "code",
   "execution_count": 10,
   "id": "5df8f61d-60c7-4210-aa26-d01821806656",
   "metadata": {
    "tags": []
   },
   "outputs": [],
   "source": [
    "browser.find_element_by_css_selector('div:nth-child(1) > div > div > div > a > div.Vc0mnc > div').click()"
   ]
  },
  {
   "cell_type": "code",
   "execution_count": 11,
   "id": "fb7f6802-016e-4eef-9c67-eed24bc15a13",
   "metadata": {
    "tags": []
   },
   "outputs": [],
   "source": [
    "browser.find_element_by_css_selector('div.Jwxk6d > div:nth-child(5) > div > div').click()"
   ]
  },
  {
   "cell_type": "code",
   "execution_count": 121,
   "id": "ea2aa680-d9ad-4a23-ab99-a0736adb565f",
   "metadata": {
    "tags": []
   },
   "outputs": [
    {
     "data": {
      "text/plain": [
       "40"
      ]
     },
     "execution_count": 121,
     "metadata": {},
     "output_type": "execute_result"
    }
   ],
   "source": [
    "reviews_bundle = browser.find_elements_by_css_selector('.RHo1pe')\n",
    "len(reviews_bundle)"
   ]
  },
  {
   "cell_type": "code",
   "execution_count": null,
   "id": "1f0cc33b-e2e7-45a4-93f5-52790545649e",
   "metadata": {
    "tags": []
   },
   "outputs": [],
   "source": []
  },
  {
   "cell_type": "code",
   "execution_count": 51,
   "id": "46655408-21c0-43e2-873d-21b67169a359",
   "metadata": {
    "tags": []
   },
   "outputs": [],
   "source": [
    "name = browser.find_element_by_css_selector('.fysCi > div > div:nth-child(2) > div:nth-child(1) > header > div.YNR7H > div.gSGphe > div').text\n",
    "date = browser.find_element_by_css_selector('div.fysCi > div > div:nth-child(2) > div:nth-child(2) > header > div.Jx4nYe > span').text\n",
    "content = browser.find_element_by_css_selector('div:nth-child(1) > div.h3YV2d').text\n",
    "reply = browser.find_element_by_css_selector('div.fysCi > div > div:nth-child(2) > div:nth-child(2) > div.ocpBU').text"
   ]
  },
  {
   "cell_type": "code",
   "execution_count": 52,
   "id": "bedd4559-8012-4031-8c7e-bb618760e776",
   "metadata": {
    "tags": []
   },
   "outputs": [
    {
     "data": {
      "text/plain": [
       "['Party Saurus Rex',\n",
       " '2022년 3월 29일',\n",
       " '헬스장과 어플의 수익분배가 어떻게 되는지는 모르겠는데, 다짐어플로 통합회원권 끊고 가면 묘하게 우리 헬스장 회원이 아니라 이방인(?)취급하는 느낌이 있어요. 헬스장 둘러보러 왔다고 하면 신나서 설명해주시다가도 다짐 어플얘기를 꺼내면 묘하게 분위기가 달라지는게 있습니다... 그거 외에는 합리적인 가격에 여러 헬스장 이용할 수 있어서 좋아요',\n",
       " 'Stone-I Co., Ltd.\\n2022년 4월 12일\\n안녕하세요. 운동할 땐, 다짐부터! 다짐입니다. 고객님 애정어린 정성스런 의견 감사드립니다. 해당 내용 담당 부서에 전달하였습니다. 빠르게 개선하여 더 이용하기 편한 다짐이 되겠습니다. 소중한 의견 감사드립니다! 앞으로도 쭉 다짐과 함께 다짐해주세요! 감사합니다. 다짐 드림.']"
      ]
     },
     "execution_count": 52,
     "metadata": {},
     "output_type": "execute_result"
    }
   ],
   "source": [
    "[name, date, content, reply]"
   ]
  },
  {
   "cell_type": "code",
   "execution_count": 118,
   "id": "7a98d9a1-f666-4459-a9b5-b1e0b71795b8",
   "metadata": {
    "tags": []
   },
   "outputs": [],
   "source": [
    "reviews_list = []\n",
    "for review_bundle in range(1, 41):\n",
    "    try:\n",
    "        name = browser.find_element_by_css_selector('.fysCi > div > div:nth-child(2) > div:nth-child({}) > header > div.YNR7H > div.gSGphe > div'.format(review_bundle)).text\n",
    "    except:\n",
    "        pass\n",
    "    try:\n",
    "        date = browser.find_element_by_css_selector('div.fysCi > div > div:nth-child(2) > div:nth-child({}) > header > div.Jx4nYe > span'.format(review_bundle)).text\n",
    "    except:\n",
    "        pass\n",
    "    try:\n",
    "        content = browser.find_element_by_css_selector('div:nth-child({}) > div.h3YV2d'.format(review_bundle)).text\n",
    "    except:\n",
    "        pass\n",
    "    try:\n",
    "       reply = browser.find_element_by_css_selector('div.fysCi > div > div:nth-child(2) > div:nth-child({}) > div.ocpBU'.format(review_bundle)).text\n",
    "    except:\n",
    "        pass\n",
    "    review_list = [name, date, content, reply]\n",
    "    reviews_list.append(review_list)  # 리뷰에 대한 모든 것(특정 회사 서비스에 대한)"
   ]
  },
  {
   "cell_type": "code",
   "execution_count": 119,
   "id": "8dd7eda0-2a88-466e-a811-7702234b437c",
   "metadata": {
    "tags": []
   },
   "outputs": [],
   "source": [
    "# reviews_list"
   ]
  },
  {
   "cell_type": "code",
   "execution_count": 117,
   "id": "8e039fa1-2697-4109-8776-b832e5029c6e",
   "metadata": {
    "tags": []
   },
   "outputs": [],
   "source": []
  },
  {
   "cell_type": "code",
   "execution_count": null,
   "id": "9d62a547-a603-4e6d-a73b-bd67740280e9",
   "metadata": {
    "tags": []
   },
   "outputs": [
    {
     "name": "stdout",
     "output_type": "stream",
     "text": [
      "성공\n",
      "성공\n",
      "성공\n",
      "성공\n",
      "성공\n",
      "성공\n",
      "성공\n",
      "성공\n",
      "성공\n",
      "성공\n",
      "성공\n",
      "성공\n",
      "성공\n",
      "성공\n",
      "성공\n",
      "성공\n",
      "성공\n",
      "성공\n",
      "성공\n"
     ]
    }
   ],
   "source": [
    "# 페이지 업 다운 이 먹히지 않아서 이 코드가 작동하지 않음.\n",
    "\n",
    "screen_height = browser.execute_script('return window.innerHeight')\n",
    "document_height = browser.execute_script('return document.body.scrollHeight')\n",
    "screen_height, document_height\n",
    "i=4\n",
    "for scroll in range(1, 200):\n",
    "    try:\n",
    "        if scroll == i  : \n",
    "            browser.find_element_by_css_selector('body').send_keys(Keys.PAGE_DOWN)\n",
    "            i=i+4\n",
    "        print('성공')\n",
    "    except:\n",
    "        pass\n",
    "        print('실패')"
   ]
  },
  {
   "cell_type": "code",
   "execution_count": 112,
   "id": "e4e4863a-d5fb-485e-9557-9a945744ee9e",
   "metadata": {
    "tags": []
   },
   "outputs": [],
   "source": [
    "# 그래서 chat GPT 에서 찾아서 작동을 알려준데로 작동을 시켜본 코드\n",
    "from selenium.webdriver.common.action_chains import ActionChains\n",
    "# 마우스 휠로 페이지 다운\n",
    "actions = ActionChains(browser)\n",
    "actions.move_to_element(browser.find_element_by_tag_name('body'))  # 페이지 전체에 대한 마우스 이벤트를 수행하려면 body 요소에 대한 이벤트를 수행합니다.\n",
    "\n",
    "# 여기서 원하는 만큼 마우스 휠을 아래로 스크롤합니다.\n",
    "# 예를 들어, 3번 휠을 내리려면 아래와 같이 반복문을 사용합니다.\n",
    "for _ in range(3):\n",
    "    actions.move_by_offset(0, 100).perform()  # 100px 아래로 스크롤\n"
   ]
  },
  {
   "cell_type": "code",
   "execution_count": null,
   "id": "cebc9bd7-ddf7-40a9-98dc-f2e90b4f9eb7",
   "metadata": {
    "tags": []
   },
   "outputs": [],
   "source": [
    "# 작동이 되지 않음"
   ]
  },
  {
   "cell_type": "code",
   "execution_count": null,
   "id": "14c3180a-5903-485e-a28c-30fb253560e9",
   "metadata": {},
   "outputs": [],
   "source": [
    "# 스몰플로젝트때 사용했던 코드(참고용)\n",
    "\n",
    "import pandas as pd\n",
    "import pymongo as mg\n",
    "client = mg.MongoClient(host='mongodb://localhost:27017')\n",
    "database = client['small_team_project']\n",
    "collection = database['teamblind_site']\n",
    "\n",
    "teamblind_columns_name = ['writer', 'date', 'review']\n",
    "basket_list= []\n",
    "from selenium.webdriver.common.keys import Keys\n",
    "# 화면 끝까지 이동\n",
    "screen_height = browser.execute_script('return window.innerHeight')\n",
    "document_height = browser.execute_script('return document.body.scrollHeight')\n",
    "screen_height, document_height\n",
    "i=4\n",
    "\n",
    "# 스크롤\n",
    "while True:\n",
    "    # 글 리스트 가져오기\n",
    "    for clicker in range(2, 1650):\n",
    "        time.sleep(1)\n",
    "        click_path = 'div:nth-child({}) > div.tit > h3'.format(clicker)\n",
    "        time.sleep(1)\n",
    "        browser.find_element_by_css_selector(click_path).click()\n",
    "        # 작성자, 작성일, 내용 가져오기\n",
    "        reviews_bundle = browser.find_elements_by_css_selector('.wrap-comment.comment_area')\n",
    "        for review in reviews_bundle :\n",
    "            try:\n",
    "                review_writer = review.find_element_by_css_selector('p.name').text\n",
    "            except :\n",
    "                print(str())\n",
    "            try:\n",
    "                review_date = review.find_element_by_css_selector('.date').text\n",
    "            except :\n",
    "                print(str())\n",
    "            try:\n",
    "                review_text = review.find_element_by_css_selector('.cmt-txt').text\n",
    "            except :\n",
    "                print(str())\n",
    "        \n",
    "        total_list = [review_writer, review_date, review_text]\n",
    "        basket_list.append(total_list)\n",
    "\n",
    "        # 저장 위한 작업\n",
    "        df_reviews = pd.DataFrame(data=basket_list, columns=teamblind_columns_name)\n",
    "        data_dict = df_reviews.to_dict(orient='records')\n",
    "        collection.insert_many(data_dict)\n",
    "\n",
    "        browser.back() # 리스트로 돌아가기\n",
    "        \n",
    "        if clicker == i  :\n",
    "            browser.find_element_by_css_selector('body').send_keys(Keys.PAGE_DOWN)\n",
    "            i=i+4\n",
    "        \n",
    "if current_scroll_position >= document_height :\n",
    "    reviews_standard_count = browser.find_elements_by_css_selector('.article-list-pre')\n",
    "    print(len(reviews_standard_count))\n",
    "    break\n",
    "        \n",
    "print('Done')"
   ]
  },
  {
   "cell_type": "code",
   "execution_count": null,
   "id": "ed4c3e57-cce2-46fa-a0d9-580a5a09e1c8",
   "metadata": {},
   "outputs": [],
   "source": []
  },
  {
   "cell_type": "code",
   "execution_count": null,
   "id": "5789b6be-a0e1-4d86-b6bd-5b5454cb3d59",
   "metadata": {},
   "outputs": [],
   "source": []
  },
  {
   "cell_type": "code",
   "execution_count": null,
   "id": "15cff836-689d-49fa-ba3a-6140366801da",
   "metadata": {},
   "outputs": [],
   "source": []
  }
 ],
 "metadata": {
  "kernelspec": {
   "display_name": "Python 3 (ipykernel)",
   "language": "python",
   "name": "python3"
  },
  "language_info": {
   "codemirror_mode": {
    "name": "ipython",
    "version": 3
   },
   "file_extension": ".py",
   "mimetype": "text/x-python",
   "name": "python",
   "nbconvert_exporter": "python",
   "pygments_lexer": "ipython3",
   "version": "3.11.3"
  }
 },
 "nbformat": 4,
 "nbformat_minor": 5
}
