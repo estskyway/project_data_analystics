{
 "cells": [
  {
   "cell_type": "markdown",
   "id": "48783ac2-c374-41ba-a102-1d766ec0b828",
   "metadata": {},
   "source": [
    "### 브라우저 띄우기"
   ]
  },
  {
   "cell_type": "code",
   "execution_count": 3,
   "id": "4d8bb8e8-4356-4c83-b3c2-af2bf914a977",
   "metadata": {
    "tags": []
   },
   "outputs": [],
   "source": [
    "from selenium import webdriver\n",
    "import time"
   ]
  },
  {
   "cell_type": "code",
   "execution_count": 4,
   "id": "c06b82b5-1920-4127-bf1b-b3177c5b03bf",
   "metadata": {
    "collapsed": true,
    "jupyter": {
     "outputs_hidden": true
    },
    "tags": []
   },
   "outputs": [
    {
     "ename": "WebDriverException",
     "evalue": "Message: 'chromedriver.exe' executable needs to be in PATH. Please see https://sites.google.com/a/chromium.org/chromedriver/home\n",
     "output_type": "error",
     "traceback": [
      "\u001b[1;31m---------------------------------------------------------------------------\u001b[0m",
      "\u001b[1;31mFileNotFoundError\u001b[0m                         Traceback (most recent call last)",
      "File \u001b[1;32m~\\anaconda3\\Lib\\site-packages\\selenium\\webdriver\\common\\service.py:72\u001b[0m, in \u001b[0;36mService.start\u001b[1;34m(self)\u001b[0m\n\u001b[0;32m     71\u001b[0m     cmd\u001b[38;5;241m.\u001b[39mextend(\u001b[38;5;28mself\u001b[39m\u001b[38;5;241m.\u001b[39mcommand_line_args())\n\u001b[1;32m---> 72\u001b[0m     \u001b[38;5;28mself\u001b[39m\u001b[38;5;241m.\u001b[39mprocess \u001b[38;5;241m=\u001b[39m subprocess\u001b[38;5;241m.\u001b[39mPopen(cmd, env\u001b[38;5;241m=\u001b[39m\u001b[38;5;28mself\u001b[39m\u001b[38;5;241m.\u001b[39menv,\n\u001b[0;32m     73\u001b[0m                                     close_fds\u001b[38;5;241m=\u001b[39mplatform\u001b[38;5;241m.\u001b[39msystem() \u001b[38;5;241m!=\u001b[39m \u001b[38;5;124m'\u001b[39m\u001b[38;5;124mWindows\u001b[39m\u001b[38;5;124m'\u001b[39m,\n\u001b[0;32m     74\u001b[0m                                     stdout\u001b[38;5;241m=\u001b[39m\u001b[38;5;28mself\u001b[39m\u001b[38;5;241m.\u001b[39mlog_file,\n\u001b[0;32m     75\u001b[0m                                     stderr\u001b[38;5;241m=\u001b[39m\u001b[38;5;28mself\u001b[39m\u001b[38;5;241m.\u001b[39mlog_file,\n\u001b[0;32m     76\u001b[0m                                     stdin\u001b[38;5;241m=\u001b[39mPIPE)\n\u001b[0;32m     77\u001b[0m \u001b[38;5;28;01mexcept\u001b[39;00m \u001b[38;5;167;01mTypeError\u001b[39;00m:\n",
      "File \u001b[1;32m~\\anaconda3\\Lib\\subprocess.py:1024\u001b[0m, in \u001b[0;36mPopen.__init__\u001b[1;34m(self, args, bufsize, executable, stdin, stdout, stderr, preexec_fn, close_fds, shell, cwd, env, universal_newlines, startupinfo, creationflags, restore_signals, start_new_session, pass_fds, user, group, extra_groups, encoding, errors, text, umask, pipesize, process_group)\u001b[0m\n\u001b[0;32m   1021\u001b[0m             \u001b[38;5;28mself\u001b[39m\u001b[38;5;241m.\u001b[39mstderr \u001b[38;5;241m=\u001b[39m io\u001b[38;5;241m.\u001b[39mTextIOWrapper(\u001b[38;5;28mself\u001b[39m\u001b[38;5;241m.\u001b[39mstderr,\n\u001b[0;32m   1022\u001b[0m                     encoding\u001b[38;5;241m=\u001b[39mencoding, errors\u001b[38;5;241m=\u001b[39merrors)\n\u001b[1;32m-> 1024\u001b[0m     \u001b[38;5;28mself\u001b[39m\u001b[38;5;241m.\u001b[39m_execute_child(args, executable, preexec_fn, close_fds,\n\u001b[0;32m   1025\u001b[0m                         pass_fds, cwd, env,\n\u001b[0;32m   1026\u001b[0m                         startupinfo, creationflags, shell,\n\u001b[0;32m   1027\u001b[0m                         p2cread, p2cwrite,\n\u001b[0;32m   1028\u001b[0m                         c2pread, c2pwrite,\n\u001b[0;32m   1029\u001b[0m                         errread, errwrite,\n\u001b[0;32m   1030\u001b[0m                         restore_signals,\n\u001b[0;32m   1031\u001b[0m                         gid, gids, uid, umask,\n\u001b[0;32m   1032\u001b[0m                         start_new_session, process_group)\n\u001b[0;32m   1033\u001b[0m \u001b[38;5;28;01mexcept\u001b[39;00m:\n\u001b[0;32m   1034\u001b[0m     \u001b[38;5;66;03m# Cleanup if the child failed starting.\u001b[39;00m\n",
      "File \u001b[1;32m~\\anaconda3\\Lib\\subprocess.py:1509\u001b[0m, in \u001b[0;36mPopen._execute_child\u001b[1;34m(self, args, executable, preexec_fn, close_fds, pass_fds, cwd, env, startupinfo, creationflags, shell, p2cread, p2cwrite, c2pread, c2pwrite, errread, errwrite, unused_restore_signals, unused_gid, unused_gids, unused_uid, unused_umask, unused_start_new_session, unused_process_group)\u001b[0m\n\u001b[0;32m   1508\u001b[0m \u001b[38;5;28;01mtry\u001b[39;00m:\n\u001b[1;32m-> 1509\u001b[0m     hp, ht, pid, tid \u001b[38;5;241m=\u001b[39m _winapi\u001b[38;5;241m.\u001b[39mCreateProcess(executable, args,\n\u001b[0;32m   1510\u001b[0m                              \u001b[38;5;66;03m# no special security\u001b[39;00m\n\u001b[0;32m   1511\u001b[0m                              \u001b[38;5;28;01mNone\u001b[39;00m, \u001b[38;5;28;01mNone\u001b[39;00m,\n\u001b[0;32m   1512\u001b[0m                              \u001b[38;5;28mint\u001b[39m(\u001b[38;5;129;01mnot\u001b[39;00m close_fds),\n\u001b[0;32m   1513\u001b[0m                              creationflags,\n\u001b[0;32m   1514\u001b[0m                              env,\n\u001b[0;32m   1515\u001b[0m                              cwd,\n\u001b[0;32m   1516\u001b[0m                              startupinfo)\n\u001b[0;32m   1517\u001b[0m \u001b[38;5;28;01mfinally\u001b[39;00m:\n\u001b[0;32m   1518\u001b[0m     \u001b[38;5;66;03m# Child is launched. Close the parent's copy of those pipe\u001b[39;00m\n\u001b[0;32m   1519\u001b[0m     \u001b[38;5;66;03m# handles that only the child should have open.  You need\u001b[39;00m\n\u001b[1;32m   (...)\u001b[0m\n\u001b[0;32m   1522\u001b[0m     \u001b[38;5;66;03m# pipe will not close when the child process exits and the\u001b[39;00m\n\u001b[0;32m   1523\u001b[0m     \u001b[38;5;66;03m# ReadFile will hang.\u001b[39;00m\n",
      "\u001b[1;31mFileNotFoundError\u001b[0m: [WinError 2] 지정된 파일을 찾을 수 없습니다",
      "\nDuring handling of the above exception, another exception occurred:\n",
      "\u001b[1;31mWebDriverException\u001b[0m                        Traceback (most recent call last)",
      "Cell \u001b[1;32mIn[4], line 1\u001b[0m\n\u001b[1;32m----> 1\u001b[0m browser \u001b[38;5;241m=\u001b[39m webdriver\u001b[38;5;241m.\u001b[39mChrome(executable_path\u001b[38;5;241m=\u001b[39m\u001b[38;5;124m'\u001b[39m\u001b[38;5;124m../../../chromedriver.exe\u001b[39m\u001b[38;5;124m'\u001b[39m)\n",
      "File \u001b[1;32m~\\anaconda3\\Lib\\site-packages\\selenium\\webdriver\\chrome\\webdriver.py:73\u001b[0m, in \u001b[0;36mWebDriver.__init__\u001b[1;34m(self, executable_path, port, options, service_args, desired_capabilities, service_log_path, chrome_options, keep_alive)\u001b[0m\n\u001b[0;32m     66\u001b[0m         desired_capabilities\u001b[38;5;241m.\u001b[39mupdate(options\u001b[38;5;241m.\u001b[39mto_capabilities())\n\u001b[0;32m     68\u001b[0m \u001b[38;5;28mself\u001b[39m\u001b[38;5;241m.\u001b[39mservice \u001b[38;5;241m=\u001b[39m Service(\n\u001b[0;32m     69\u001b[0m     executable_path,\n\u001b[0;32m     70\u001b[0m     port\u001b[38;5;241m=\u001b[39mport,\n\u001b[0;32m     71\u001b[0m     service_args\u001b[38;5;241m=\u001b[39mservice_args,\n\u001b[0;32m     72\u001b[0m     log_path\u001b[38;5;241m=\u001b[39mservice_log_path)\n\u001b[1;32m---> 73\u001b[0m \u001b[38;5;28mself\u001b[39m\u001b[38;5;241m.\u001b[39mservice\u001b[38;5;241m.\u001b[39mstart()\n\u001b[0;32m     75\u001b[0m \u001b[38;5;28;01mtry\u001b[39;00m:\n\u001b[0;32m     76\u001b[0m     RemoteWebDriver\u001b[38;5;241m.\u001b[39m\u001b[38;5;21m__init__\u001b[39m(\n\u001b[0;32m     77\u001b[0m         \u001b[38;5;28mself\u001b[39m,\n\u001b[0;32m     78\u001b[0m         command_executor\u001b[38;5;241m=\u001b[39mChromeRemoteConnection(\n\u001b[0;32m     79\u001b[0m             remote_server_addr\u001b[38;5;241m=\u001b[39m\u001b[38;5;28mself\u001b[39m\u001b[38;5;241m.\u001b[39mservice\u001b[38;5;241m.\u001b[39mservice_url,\n\u001b[0;32m     80\u001b[0m             keep_alive\u001b[38;5;241m=\u001b[39mkeep_alive),\n\u001b[0;32m     81\u001b[0m         desired_capabilities\u001b[38;5;241m=\u001b[39mdesired_capabilities)\n",
      "File \u001b[1;32m~\\anaconda3\\Lib\\site-packages\\selenium\\webdriver\\common\\service.py:81\u001b[0m, in \u001b[0;36mService.start\u001b[1;34m(self)\u001b[0m\n\u001b[0;32m     79\u001b[0m \u001b[38;5;28;01mexcept\u001b[39;00m \u001b[38;5;167;01mOSError\u001b[39;00m \u001b[38;5;28;01mas\u001b[39;00m err:\n\u001b[0;32m     80\u001b[0m     \u001b[38;5;28;01mif\u001b[39;00m err\u001b[38;5;241m.\u001b[39merrno \u001b[38;5;241m==\u001b[39m errno\u001b[38;5;241m.\u001b[39mENOENT:\n\u001b[1;32m---> 81\u001b[0m         \u001b[38;5;28;01mraise\u001b[39;00m WebDriverException(\n\u001b[0;32m     82\u001b[0m             \u001b[38;5;124m\"\u001b[39m\u001b[38;5;124m'\u001b[39m\u001b[38;5;132;01m%s\u001b[39;00m\u001b[38;5;124m'\u001b[39m\u001b[38;5;124m executable needs to be in PATH. \u001b[39m\u001b[38;5;132;01m%s\u001b[39;00m\u001b[38;5;124m\"\u001b[39m \u001b[38;5;241m%\u001b[39m (\n\u001b[0;32m     83\u001b[0m                 os\u001b[38;5;241m.\u001b[39mpath\u001b[38;5;241m.\u001b[39mbasename(\u001b[38;5;28mself\u001b[39m\u001b[38;5;241m.\u001b[39mpath), \u001b[38;5;28mself\u001b[39m\u001b[38;5;241m.\u001b[39mstart_error_message)\n\u001b[0;32m     84\u001b[0m         )\n\u001b[0;32m     85\u001b[0m     \u001b[38;5;28;01melif\u001b[39;00m err\u001b[38;5;241m.\u001b[39merrno \u001b[38;5;241m==\u001b[39m errno\u001b[38;5;241m.\u001b[39mEACCES:\n\u001b[0;32m     86\u001b[0m         \u001b[38;5;28;01mraise\u001b[39;00m WebDriverException(\n\u001b[0;32m     87\u001b[0m             \u001b[38;5;124m\"\u001b[39m\u001b[38;5;124m'\u001b[39m\u001b[38;5;132;01m%s\u001b[39;00m\u001b[38;5;124m'\u001b[39m\u001b[38;5;124m executable may have wrong permissions. \u001b[39m\u001b[38;5;132;01m%s\u001b[39;00m\u001b[38;5;124m\"\u001b[39m \u001b[38;5;241m%\u001b[39m (\n\u001b[0;32m     88\u001b[0m                 os\u001b[38;5;241m.\u001b[39mpath\u001b[38;5;241m.\u001b[39mbasename(\u001b[38;5;28mself\u001b[39m\u001b[38;5;241m.\u001b[39mpath), \u001b[38;5;28mself\u001b[39m\u001b[38;5;241m.\u001b[39mstart_error_message)\n\u001b[0;32m     89\u001b[0m         )\n",
      "\u001b[1;31mWebDriverException\u001b[0m: Message: 'chromedriver.exe' executable needs to be in PATH. Please see https://sites.google.com/a/chromium.org/chromedriver/home\n"
     ]
    }
   ],
   "source": [
    "browser = webdriver.Chrome(executable_path='../../../chromedriver.exe')"
   ]
  },
  {
   "cell_type": "code",
   "execution_count": null,
   "id": "4030de16-61aa-42b5-b436-24876c652c8b",
   "metadata": {
    "tags": []
   },
   "outputs": [],
   "source": [
    "browser.get('https://play.google.com/store/search?q=%ED%97%AC%EC%8A%A4%EC%9E%A5+%EB%B9%84%EA%B5%90&c=apps&hl=ko-KR')"
   ]
  },
  {
   "cell_type": "code",
   "execution_count": null,
   "id": "1260c8f3-328d-40f4-9a5b-88c09c41b52f",
   "metadata": {},
   "outputs": [],
   "source": [
    "browser.implicitly_wait(10)"
   ]
  },
  {
   "cell_type": "markdown",
   "id": "3d1262c2-4754-4546-916c-8fd5ce430efb",
   "metadata": {
    "tags": []
   },
   "source": [
    "### 제품 클릭(다짐)"
   ]
  },
  {
   "cell_type": "code",
   "execution_count": null,
   "id": "5df8f61d-60c7-4210-aa26-d01821806656",
   "metadata": {
    "tags": []
   },
   "outputs": [],
   "source": [
    "browser.find_element_by_css_selector('div:nth-child(1) > div > div > div > a > div.Vc0mnc > div').click()"
   ]
  },
  {
   "cell_type": "code",
   "execution_count": null,
   "id": "8470a85b-1f1e-47d5-a69e-14119ab4c766",
   "metadata": {},
   "outputs": [],
   "source": [
    "time.sleep(2)"
   ]
  },
  {
   "cell_type": "code",
   "execution_count": null,
   "id": "fb7f6802-016e-4eef-9c67-eed24bc15a13",
   "metadata": {
    "tags": []
   },
   "outputs": [],
   "source": [
    "browser.find_element_by_css_selector('div.Jwxk6d > div:nth-child(5) > div > div').click()"
   ]
  },
  {
   "cell_type": "code",
   "execution_count": null,
   "id": "ea2aa680-d9ad-4a23-ab99-a0736adb565f",
   "metadata": {
    "tags": []
   },
   "outputs": [],
   "source": [
    "reviews_bundle = browser.find_elements_by_css_selector('.RHo1pe')\n",
    "len(reviews_bundle)"
   ]
  },
  {
   "cell_type": "markdown",
   "id": "6469d745-059a-4aaa-ae3a-2439ae9a8466",
   "metadata": {
    "tags": []
   },
   "source": [
    "### 난관의 시작"
   ]
  },
  {
   "cell_type": "code",
   "execution_count": null,
   "id": "46655408-21c0-43e2-873d-21b67169a359",
   "metadata": {
    "tags": []
   },
   "outputs": [],
   "source": [
    "# name = browser.find_element_by_css_selector('.fysCi > div > div:nth-child(2) > div:nth-child(1) > header > div.YNR7H > div.gSGphe > div').text\n",
    "# date = browser.find_element_by_css_selector('div.fysCi > div > div:nth-child(2) > div:nth-child(2) > header > div.Jx4nYe > span').text\n",
    "# content = browser.find_element_by_css_selector('div:nth-child(1) > div.h3YV2d').text\n",
    "# reply = browser.find_element_by_css_selector('div.fysCi > div > div:nth-child(2) > div:nth-child(2) > div.ocpBU').text"
   ]
  },
  {
   "cell_type": "code",
   "execution_count": null,
   "id": "bedd4559-8012-4031-8c7e-bb618760e776",
   "metadata": {
    "tags": []
   },
   "outputs": [],
   "source": [
    "[name, date, content, reply]"
   ]
  },
  {
   "cell_type": "code",
   "execution_count": null,
   "id": "7a98d9a1-f666-4459-a9b5-b1e0b71795b8",
   "metadata": {
    "tags": []
   },
   "outputs": [],
   "source": [
    "# reviews_list = []\n",
    "# for review_bundle in range(1, 41):\n",
    "#     try:\n",
    "#         name = browser.find_element_by_css_selector('.fysCi > div > div:nth-child(2) > div:nth-child({}) > header > div.YNR7H > div.gSGphe > div'.format(review_bundle)).text\n",
    "#     except:\n",
    "#         pass\n",
    "#     try:\n",
    "#         date = browser.find_element_by_css_selector('div.fysCi > div > div:nth-child(2) > div:nth-child({}) > header > div.Jx4nYe > span'.format(review_bundle)).text\n",
    "#     except:\n",
    "#         pass\n",
    "#     try:\n",
    "#         content = browser.find_element_by_css_selector('div:nth-child({}) > div.h3YV2d'.format(review_bundle)).text\n",
    "#     except:\n",
    "#         pass\n",
    "#     try:\n",
    "#        reply = browser.find_element_by_css_selector('div.fysCi > div > div:nth-child(2) > div:nth-child({}) > div.ocpBU'.format(review_bundle)).text\n",
    "#     except:\n",
    "#         pass\n",
    "#     review_list = [name, date, content, reply]\n",
    "#     reviews_list.append(review_list)  # 리뷰에 대한 모든 것(특정 회사 서비스에 대한)"
   ]
  },
  {
   "cell_type": "code",
   "execution_count": null,
   "id": "8dd7eda0-2a88-466e-a811-7702234b437c",
   "metadata": {
    "tags": []
   },
   "outputs": [],
   "source": [
    "# reviews_list"
   ]
  },
  {
   "cell_type": "code",
   "execution_count": null,
   "id": "8e039fa1-2697-4109-8776-b832e5029c6e",
   "metadata": {
    "tags": []
   },
   "outputs": [],
   "source": [
    "screen_height = browser.execute_script('return window.innerHeight')\n",
    "document_height = browser.execute_script('return document.body.scrollHeight')\n",
    "screen_height, document_height"
   ]
  },
  {
   "cell_type": "code",
   "execution_count": null,
   "id": "d6831399-c4d4-44a2-9155-c6211b0cc261",
   "metadata": {
    "tags": []
   },
   "outputs": [],
   "source": []
  },
  {
   "cell_type": "code",
   "execution_count": null,
   "id": "1c99fd87-71a7-480e-9f7c-26b678772240",
   "metadata": {
    "tags": []
   },
   "outputs": [],
   "source": []
  },
  {
   "cell_type": "code",
   "execution_count": null,
   "id": "c8dae22a-3c0f-4e10-88dd-ea782bd4583e",
   "metadata": {},
   "outputs": [],
   "source": [
    "rom selenium import webdriver\n",
    "\n",
    "# WebDriver 초기화\n",
    "driver = webdriver.Chrome()\n",
    "\n",
    "# 웹 페이지 열기\n",
    "driver.get(\"https://example.com\")\n",
    "\n",
    "# 모달 요소 선택하기 (예시: id가 \"my-modal\"인 요소)\n",
    "modal = driver.find_element_by_id(\"my-modal\")\n",
    "\n",
    "# 모달의 크기(너비와 높이) 가져오기\n",
    "modal_size = modal.size\n",
    "\n",
    "# 모달의 높이 출력하기\n",
    "modal_height = modal_size[\"height\"]\n",
    "print(f\"모달 높이: {modal_height}px\")\n",
    "\n",
    "# WebDriver 종료\n",
    "driver.quit()"
   ]
  },
  {
   "cell_type": "code",
   "execution_count": null,
   "id": "9d62a547-a603-4e6d-a73b-bd67740280e9",
   "metadata": {
    "tags": []
   },
   "outputs": [],
   "source": [
    "# 페이지 업 다운 이 먹히지 않아서 이 코드가 작동하지 않음.\n",
    "\n",
    "from selenium.webdriver.common.action_chains import ActionChains\n",
    "from selenium.webdriver.common.keys import Keys\n",
    "browser.find_element_by_css_selector('#yDmH0d > div.VfPpkd-Sx9Kwc.cC1eCc.UDxLd.PzCPDd.HQdjr.VfPpkd-Sx9Kwc-OWXEXe-FNFY6c > div.VfPpkd-wzTsW > div > div > div > div > div.fysCi > div > div:nth-child(2) > div:nth-child(1) > header > div.YNR7H > div.gSGphe > div').click()\n",
    "screen_height = browser.execute_script('return window.innerHeight')\n",
    "document_height = browser.execute_script('return document.body.scrollHeight')\n",
    "screen_height, document_height\n",
    "document = 0\n",
    "for scroll in range(1, screen_height, 1):\n",
    "    try:\n",
    "        if document_height != document : \n",
    "            browser.find_element_by_css_selector('body').send_keys(Keys.PAGE_DOWN)\n",
    "            \n",
    "        print('성공')\n",
    "        document = document + document_height\n",
    "        print(document)\n",
    "        print(screen_height)\n",
    "    except:\n",
    "        pass\n",
    "        print('실패')"
   ]
  },
  {
   "cell_type": "code",
   "execution_count": null,
   "id": "e4e4863a-d5fb-485e-9557-9a945744ee9e",
   "metadata": {
    "tags": []
   },
   "outputs": [],
   "source": []
  },
  {
   "cell_type": "code",
   "execution_count": null,
   "id": "44a4ff95-486c-4919-9e1e-a70bf26956a7",
   "metadata": {
    "tags": []
   },
   "outputs": [],
   "source": [
    "# # 밑바닥으로 가기 \n",
    "# import time\n",
    "# # 초기 리뷰 개수를 0으로 설정\n",
    "# total_review_count = 0\n",
    "\n",
    "# while True:\n",
    "#     try:\n",
    "#         # 현재 리뷰 번들을 찾습니다.\n",
    "#         reviews_bundle = browser.find_elements_by_css_selector('.RHo1pe')\n",
    "#         current_review_count = len(reviews_bundle) \n",
    "#         print('current reviews_bundle count: {}'.format(current_review_count))\n",
    "\n",
    "#         # 만약 현재 리뷰 개수가 이전과 동일하다면 더 이상 총 리뷰 갯수가 갱신되지 않은 것이므로 종료합니다.\n",
    "#         if current_review_count == total_review_count: \n",
    "#             print('End.')\n",
    "#             break\n",
    "\n",
    "#         # 현재 리뷰 개수를 total_review_count에 업데이트합니다.\n",
    "#         total_review_count = current_review_count \n",
    "#         print('Total review count: ', total_review_count)\n",
    "#         # 마지막 리뷰를 클릭하고 잠시 기다립니다.\n",
    "#         reviews_bundle[current_review_count - 1].click()\n",
    "#         print('성공')\n",
    "#         time.sleep(3)\n",
    "\n",
    "#     except :\n",
    "#         print('pass')\n",
    "#         pass\n",
    "\n",
    "# print('Total review count: ', total_review_count)"
   ]
  },
  {
   "cell_type": "code",
   "execution_count": null,
   "id": "cebc9bd7-ddf7-40a9-98dc-f2e90b4f9eb7",
   "metadata": {
    "collapsed": true,
    "jupyter": {
     "outputs_hidden": true
    },
    "tags": []
   },
   "outputs": [],
   "source": [
    "# 합치기 \n",
    "\n",
    "# 밑바닥으로 가기 \n",
    "import time\n",
    "# 초기 리뷰 개수를 0으로 설정\n",
    "total_review_count = 0\n",
    "\n",
    "while True:\n",
    "    try:\n",
    "        # 현재 리뷰 번들을 찾습니다.\n",
    "        reviews_bundle = browser.find_elements_by_css_selector('.RHo1pe')\n",
    "        current_review_count = len(reviews_bundle) \n",
    "        print('current reviews_bundle count: {}'.format(current_review_count))\n",
    "\n",
    "        # 만약 현재 리뷰 개수가 이전과 동일하다면 더 이상 총 리뷰 갯수가 갱신되지 않은 것이므로 종료합니다.\n",
    "        if current_review_count == total_review_count: \n",
    "            print('End.')\n",
    "            break\n",
    "\n",
    "        # 현재 리뷰 개수를 total_review_count에 업데이트합니다.\n",
    "        total_review_count = current_review_count \n",
    "        print('Total review count: ', total_review_count)\n",
    "        # 마지막 리뷰를 클릭하고 잠시 기다립니다.\n",
    "        reviews_bundle[current_review_count - 1].click()\n",
    "        print('성공')\n",
    "        time.sleep(1)\n",
    "\n",
    "    except :\n",
    "        print('pass')\n",
    "        pass\n",
    "\n",
    "print('Total review count: ', total_review_count)\n",
    "\n"
   ]
  },
  {
   "cell_type": "code",
   "execution_count": null,
   "id": "ed4c3e57-cce2-46fa-a0d9-580a5a09e1c8",
   "metadata": {
    "collapsed": true,
    "jupyter": {
     "outputs_hidden": true
    },
    "tags": []
   },
   "outputs": [],
   "source": [
    "# 스크롤링 하기\n",
    "reviews_list = []\n",
    "reviews_bundle = browser.find_elements_by_css_selector('.RHo1pe')\n",
    "for index, review_bundle in enumerate(reviews_bundle):\n",
    "    try:\n",
    "        name = review_bundle.find_element_by_css_selector('.fysCi > div > div:nth-child(2) > div> header > div.YNR7H > div.gSGphe > div').text\n",
    "    except:\n",
    "        pass\n",
    "    try:\n",
    "        date = review_bundle.find_element_by_css_selector('div.fysCi > div > div:nth-child(2) > div > header > div.Jx4nYe > span').text\n",
    "    except:\n",
    "        pass\n",
    "    try:\n",
    "        content = review_bundle.find_element_by_css_selector('div:nth-child({}) > div.h3YV2d'.format(index+1)).text\n",
    "    except :\n",
    "        pass\n",
    "    try:\n",
    "        reply = review_bundle.find_element_by_css_selector('div.fysCi > div > div:nth-child(2) > div:nth-child({}) > div.ocpBU'.format(index+1)).text\n",
    "    except:\n",
    "        reply = str()\n",
    "        pass\n",
    "    review = [name, date, content, reply]\n",
    "    reviews_list.append(review)  # 리뷰에 대한 모든 것(특정 회사 서비스에 대한)\n",
    "\n",
    "    \n",
    "reviews_list"
   ]
  },
  {
   "cell_type": "code",
   "execution_count": null,
   "id": "5789b6be-a0e1-4d86-b6bd-5b5454cb3d59",
   "metadata": {},
   "outputs": [],
   "source": [
    "len(reviews_list)"
   ]
  },
  {
   "cell_type": "code",
   "execution_count": null,
   "id": "7d8002bd-3ad0-4fa0-a159-bd5c631c1ad9",
   "metadata": {
    "tags": []
   },
   "outputs": [],
   "source": [
    "import pandas as pd\n",
    "import pymongo as mg"
   ]
  },
  {
   "cell_type": "code",
   "execution_count": null,
   "id": "c39835ff-166e-432d-bae8-37eda3d99ca5",
   "metadata": {
    "tags": []
   },
   "outputs": [],
   "source": [
    "gym_columns_name = ['name', 'date', 'content', 'reply']\n",
    "client = mg.MongoClient(host='mongodb://localhost:27017')\n",
    "database = client['project_data_analytics']\n",
    "collection = database['googlestore_gym']\n",
    "# 저장 위한 작업\n",
    "df_gym = pd.DataFrame(data=reviews_list, columns=gym_columns_name)\n",
    "data_dict = df_gym.to_dict(orient='records')\n",
    "collection.insert_many(data_dict)"
   ]
  },
  {
   "cell_type": "markdown",
   "id": "be6a8a8a-74f4-47ed-a3aa-a370b0b1bef9",
   "metadata": {
    "jp-MarkdownHeadingCollapsed": true,
    "tags": []
   },
   "source": [
    "### 제품 클릭(니짐내짐)"
   ]
  },
  {
   "cell_type": "code",
   "execution_count": null,
   "id": "dd06b8da-fca2-4102-a844-3b8a4601c3de",
   "metadata": {
    "tags": []
   },
   "outputs": [],
   "source": [
    "browser.find_element_by_css_selector('div:nth-child(2) > div > div > div > a > div.Shbxxd').click()"
   ]
  },
  {
   "cell_type": "code",
   "execution_count": null,
   "id": "14c3180a-5903-485e-a28c-30fb253560e9",
   "metadata": {},
   "outputs": [],
   "source": [
    "time.sleep(2)"
   ]
  },
  {
   "cell_type": "code",
   "execution_count": null,
   "id": "15cff836-689d-49fa-ba3a-6140366801da",
   "metadata": {},
   "outputs": [],
   "source": [
    "browser.find_element_by_css_selector('div.Jwxk6d > div:nth-child(5) > div > div').click()"
   ]
  },
  {
   "cell_type": "code",
   "execution_count": null,
   "id": "c728a5bc-d815-41b0-9933-d34a177472a6",
   "metadata": {
    "tags": []
   },
   "outputs": [],
   "source": [
    "reviews_bundle = browser.find_elements_by_css_selector('.RHo1pe')\n",
    "len(reviews_bundle)"
   ]
  },
  {
   "cell_type": "markdown",
   "id": "c0e2ddfb-47ff-40f2-b570-97f34506301e",
   "metadata": {
    "tags": []
   },
   "source": [
    "### 난관의 제시작"
   ]
  },
  {
   "cell_type": "code",
   "execution_count": null,
   "id": "a50b0531-2a87-4892-a329-768bcc5a2535",
   "metadata": {
    "tags": []
   },
   "outputs": [],
   "source": [
    "# name = browser.find_element_by_css_selector('div.fysCi > div >div:nth-child(2) > div:nth-child(1) > header > div.YNR7H > div.gSGphe > div').text\n",
    "# date = browser.find_element_by_css_selector('div.fysCi > div > div:nth-child(2) > div:nth-child(1) > header > div.Jx4nYe > span').text\n",
    "# content = browser.find_element_by_css_selector('div.fysCi > div > div:nth-child(2) > div:nth-child(1) > div.h3YV2d').text\n",
    "# reply = browser.find_element_by_css_selector('div.fysCi > div > div:nth-child(2) > div:nth-child(5) > div.ocpBU > div.ras4vb').text"
   ]
  },
  {
   "cell_type": "code",
   "execution_count": null,
   "id": "429c300c-191e-48cf-a073-a4284ad622a9",
   "metadata": {
    "tags": []
   },
   "outputs": [],
   "source": [
    "# [name, date, content, reply]"
   ]
  },
  {
   "cell_type": "code",
   "execution_count": null,
   "id": "b6e0eecc-575b-45f2-a20f-453c0d0514cc",
   "metadata": {
    "tags": []
   },
   "outputs": [],
   "source": [
    "# reviews_list = []\n",
    "# for review_bundle in range(1, len(reviews_bundle)+1):\n",
    "#     try:\n",
    "#         name = browser.find_element_by_css_selector('div.fysCi > div >div:nth-child(2) > div:nth-child({}) > header > div.YNR7H > div.gSGphe > div'.format(review_bundle)).text\n",
    "#     except:\n",
    "#         pass\n",
    "#     try:\n",
    "#         date = browser.find_element_by_css_selector('div.fysCi > div > div:nth-child(2) > div:nth-child({}) > header > div.Jx4nYe > span'.format(review_bundle)).text\n",
    "#     except:\n",
    "#         pass\n",
    "#     try:\n",
    "#         content = browser.find_element_by_css_selector('div.fysCi > div > div:nth-child(2) > div:nth-child({}) > div.h3YV2d'.format(review_bundle)).text\n",
    "#     except:\n",
    "#         pass\n",
    "#     try:\n",
    "#         reply = browser.find_element_by_css_selector('div.fysCi > div > div:nth-child(2) > div:nth-child({}) > div.ocpBU > div.ras4vb'.format(review_bundle)).text\n",
    "#     except:\n",
    "#         reply = str()\n",
    "#         pass\n",
    "#     review_list = [name, date, content, reply]\n",
    "#     reviews_list.append(review_list)  # 리뷰에 대한 모든 것(특정 회사 서비스에 대한)"
   ]
  },
  {
   "cell_type": "code",
   "execution_count": null,
   "id": "51344394-1965-4b75-b068-d73acc97a11c",
   "metadata": {
    "tags": []
   },
   "outputs": [],
   "source": [
    "# len(reviews_list)"
   ]
  },
  {
   "cell_type": "code",
   "execution_count": null,
   "id": "cf6d57d8-d75b-4a33-a723-0b8d5aaf6ca3",
   "metadata": {
    "tags": []
   },
   "outputs": [],
   "source": [
    "# 밑바닥으로 가기 \n",
    "import time\n",
    "# 초기 리뷰 개수를 0으로 설정\n",
    "total_review_count = 0\n",
    "\n",
    "while True:\n",
    "    try:\n",
    "        # 현재 리뷰 번들을 찾습니다.\n",
    "        reviews_bundle = browser.find_elements_by_css_selector('.RHo1pe')\n",
    "        current_review_count = len(reviews_bundle) \n",
    "        print('current reviews_bundle count: {}'.format(current_review_count))\n",
    "\n",
    "        # 만약 현재 리뷰 개수가 이전과 동일하다면 더 이상 총 리뷰 갯수가 갱신되지 않은 것이므로 종료합니다.\n",
    "        if current_review_count == total_review_count: \n",
    "            print('End.')\n",
    "            break\n",
    "\n",
    "        # 현재 리뷰 개수를 total_review_count에 업데이트합니다.\n",
    "        total_review_count = current_review_count \n",
    "        print('Total review count: ', total_review_count)\n",
    "        # 마지막 리뷰를 클릭하고 잠시 기다립니다.\n",
    "        reviews_bundle[current_review_count - 1].click()\n",
    "        print('성공')\n",
    "        time.sleep(3)\n",
    "\n",
    "    except :\n",
    "        print('pass')\n",
    "        pass\n",
    "\n",
    "print('Total review count: ', total_review_count)"
   ]
  },
  {
   "cell_type": "code",
   "execution_count": null,
   "id": "f6a63c3c-74d8-47d4-8699-a50ab7fb169b",
   "metadata": {
    "tags": []
   },
   "outputs": [],
   "source": [
    "# 스크롤링\n",
    "reviews_list = []\n",
    "for review_bundle in range(1, len(reviews_bundle)+1):\n",
    "    try:\n",
    "        name = browser.find_element_by_css_selector('div.fysCi > div >div:nth-child(2) > div:nth-child({}) > header > div.YNR7H > div.gSGphe > div'.format(review_bundle)).text\n",
    "    except:\n",
    "        pass\n",
    "    try:\n",
    "        date = browser.find_element_by_css_selector('div.fysCi > div > div:nth-child(2) > div:nth-child({}) > header > div.Jx4nYe > span'.format(review_bundle)).text\n",
    "    except:\n",
    "        pass\n",
    "    try:\n",
    "        content = browser.find_element_by_css_selector('div.fysCi > div > div:nth-child(2) > div:nth-child({}) > div.h3YV2d'.format(review_bundle)).text\n",
    "    except:\n",
    "        pass\n",
    "    try:\n",
    "        reply = browser.find_element_by_css_selector('div.fysCi > div > div:nth-child(2) > div:nth-child({}) > div.ocpBU > div.ras4vb'.format(review_bundle)).text\n",
    "    except:\n",
    "        reply = str()\n",
    "        pass\n",
    "    review_list = [name, date, content, reply]\n",
    "    reviews_list.append(review_list)  # 리뷰에 대한 모든 것(특정 회사 서비스에 대한)"
   ]
  },
  {
   "cell_type": "code",
   "execution_count": null,
   "id": "362a8029-f476-4375-92f7-4bb0b09444fd",
   "metadata": {
    "collapsed": true,
    "jupyter": {
     "outputs_hidden": true
    },
    "tags": []
   },
   "outputs": [],
   "source": [
    "# 리스트 체크겸 출력\n",
    "reviews_list"
   ]
  },
  {
   "cell_type": "code",
   "execution_count": null,
   "id": "2b6dcad2-49c1-43dc-b84c-b4de36e0f306",
   "metadata": {
    "tags": []
   },
   "outputs": [],
   "source": [
    "len(reviews_list)"
   ]
  },
  {
   "cell_type": "code",
   "execution_count": null,
   "id": "ea765b3f-77fa-4b15-be12-de114a6c995f",
   "metadata": {
    "tags": []
   },
   "outputs": [],
   "source": [
    "import pandas as pd\n",
    "import pymongo as mg"
   ]
  },
  {
   "cell_type": "code",
   "execution_count": null,
   "id": "7f3304f6-171d-41ba-be6c-195eb378b26d",
   "metadata": {
    "tags": []
   },
   "outputs": [],
   "source": [
    "# 몽고에 저장\n",
    "gym_columns_name = ['name', 'date', 'content', 'reply']\n",
    "client = mg.MongoClient(host='mongodb://localhost:27017')\n",
    "database = client['project_data_analytics']\n",
    "collection = database['googlestore_gym']\n",
    "# 저장 위한 작업\n",
    "df_gym = pd.DataFrame(data=reviews_list, columns=gym_columns_name)\n",
    "data_dict = df_gym.to_dict(orient='records')\n",
    "collection.insert_many(data_dict)"
   ]
  },
  {
   "cell_type": "code",
   "execution_count": null,
   "id": "3121708b-ae30-43e0-8ae4-f30e87372b78",
   "metadata": {},
   "outputs": [],
   "source": []
  },
  {
   "cell_type": "markdown",
   "id": "d8683edf-d478-4e8b-891f-983f40583468",
   "metadata": {},
   "source": [
    "### 제품 클릭(운동닥터)"
   ]
  },
  {
   "cell_type": "code",
   "execution_count": null,
   "id": "c603b900-c560-4bab-95bc-b1a932635498",
   "metadata": {},
   "outputs": [],
   "source": []
  },
  {
   "cell_type": "code",
   "execution_count": null,
   "id": "d1b0dee2-70d1-4d86-81be-5dead1b9f329",
   "metadata": {},
   "outputs": [],
   "source": []
  },
  {
   "cell_type": "markdown",
   "id": "058a804d-7aab-4d34-948b-cb3ba0f0ac9f",
   "metadata": {},
   "source": [
    "### 제발"
   ]
  },
  {
   "cell_type": "code",
   "execution_count": null,
   "id": "1afbb951-ccc0-487e-b539-08ddd7687ec2",
   "metadata": {
    "tags": []
   },
   "outputs": [],
   "source": [
    "name = browser.find_element_by_css_selector('div.fysCi > div >div:nth-child(2) > div:nth-child(1) > header > div.YNR7H > div.gSGphe > div').text\n",
    "date = browser.find_element_by_css_selector('div.fysCi > div > div:nth-child(2) > div:nth-child(1) > header > div.Jx4nYe > span').text\n",
    "content = browser.find_element_by_css_selector('div.fysCi > div > div:nth-child(2) > div:nth-child(1) > div.h3YV2d').text\n",
    "reply = browser.find_element_by_css_selector('div.fysCi > div > div:nth-child(2) > div:nth-child(2) > div.ocpBU').text"
   ]
  },
  {
   "cell_type": "code",
   "execution_count": null,
   "id": "d4e5d79c-be1b-4aab-8222-cfe76cd7d30c",
   "metadata": {
    "tags": []
   },
   "outputs": [],
   "source": [
    "[name, date, content, reply]"
   ]
  },
  {
   "cell_type": "code",
   "execution_count": null,
   "id": "8c461324-afca-4e0b-b5c7-13b458299046",
   "metadata": {
    "tags": []
   },
   "outputs": [],
   "source": [
    "screen_height = browser.execute_script('return window.innerHeight')\n",
    "document_height = browser.execute_script('return document.body.scrollHeight')\n",
    "document_height, screen_height"
   ]
  },
  {
   "cell_type": "code",
   "execution_count": null,
   "id": "98dfafa5-9473-4b33-ae14-e2c6b308382d",
   "metadata": {},
   "outputs": [],
   "source": []
  },
  {
   "cell_type": "code",
   "execution_count": null,
   "id": "14a55d71-d45e-4a64-889c-e5c32abce079",
   "metadata": {},
   "outputs": [],
   "source": []
  },
  {
   "cell_type": "code",
   "execution_count": null,
   "id": "4dbbd0f9-035a-4a39-9df6-c43fedd3b0d7",
   "metadata": {},
   "outputs": [],
   "source": []
  },
  {
   "cell_type": "code",
   "execution_count": null,
   "id": "320fa652-5ad5-4ad4-a74c-77dac39a8d6c",
   "metadata": {},
   "outputs": [],
   "source": []
  },
  {
   "cell_type": "code",
   "execution_count": null,
   "id": "f4e3277d-99d5-417f-9833-0e523aeaae86",
   "metadata": {},
   "outputs": [],
   "source": []
  },
  {
   "cell_type": "code",
   "execution_count": null,
   "id": "71c3c1ae-742f-43c4-8782-14f3f1ad320e",
   "metadata": {},
   "outputs": [],
   "source": []
  }
 ],
 "metadata": {
  "kernelspec": {
   "display_name": "Python 3 (ipykernel)",
   "language": "python",
   "name": "python3"
  },
  "language_info": {
   "codemirror_mode": {
    "name": "ipython",
    "version": 3
   },
   "file_extension": ".py",
   "mimetype": "text/x-python",
   "name": "python",
   "nbconvert_exporter": "python",
   "pygments_lexer": "ipython3",
   "version": "3.11.3"
  }
 },
 "nbformat": 4,
 "nbformat_minor": 5
}
