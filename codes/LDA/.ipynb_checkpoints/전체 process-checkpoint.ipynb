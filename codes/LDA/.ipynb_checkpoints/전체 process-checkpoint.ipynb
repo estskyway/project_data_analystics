{
 "cells": [
  {
   "cell_type": "code",
   "execution_count": 1,
   "id": "6f7285fb-c297-4b47-857a-4601ab418ea1",
   "metadata": {
    "tags": []
   },
   "outputs": [],
   "source": [
    "import pandas as pd"
   ]
  },
  {
   "cell_type": "code",
   "execution_count": 2,
   "id": "3b176269-9a27-4071-8cb8-e5398234faf7",
   "metadata": {
    "tags": []
   },
   "outputs": [
    {
     "data": {
      "text/html": [
       "<div>\n",
       "<style scoped>\n",
       "    .dataframe tbody tr th:only-of-type {\n",
       "        vertical-align: middle;\n",
       "    }\n",
       "\n",
       "    .dataframe tbody tr th {\n",
       "        vertical-align: top;\n",
       "    }\n",
       "\n",
       "    .dataframe thead th {\n",
       "        text-align: right;\n",
       "    }\n",
       "</style>\n",
       "<table border=\"1\" class=\"dataframe\">\n",
       "  <thead>\n",
       "    <tr style=\"text-align: right;\">\n",
       "      <th></th>\n",
       "      <th>Unnamed: 0.1</th>\n",
       "      <th>Unnamed: 0</th>\n",
       "      <th>_id</th>\n",
       "      <th>name</th>\n",
       "      <th>reviews</th>\n",
       "      <th>stars</th>\n",
       "    </tr>\n",
       "  </thead>\n",
       "  <tbody>\n",
       "    <tr>\n",
       "      <th>0</th>\n",
       "      <td>0</td>\n",
       "      <td>0</td>\n",
       "      <td>65098d07c0f914f394935fd9</td>\n",
       "      <td>Google 사용자</td>\n",
       "      <td>입장방식은 변경됐는데 어플은 여전히 바코드만 보여집니다. 짐에서는 더이상 바코드스캔...</td>\n",
       "      <td>별표 5개 만점에 1개를 받았습니다.</td>\n",
       "    </tr>\n",
       "    <tr>\n",
       "      <th>1</th>\n",
       "      <td>1</td>\n",
       "      <td>1</td>\n",
       "      <td>65098d07c0f914f394935fda</td>\n",
       "      <td>Google 사용자</td>\n",
       "      <td>정말 답답하네요 하나. GPS 100프로 신뢰하나요? 시설선택목록에서 안보임 4월말...</td>\n",
       "      <td>별표 5개 만점에 1개를 받았습니다.</td>\n",
       "    </tr>\n",
       "    <tr>\n",
       "      <th>2</th>\n",
       "      <td>2</td>\n",
       "      <td>2</td>\n",
       "      <td>65098d07c0f914f394935fdb</td>\n",
       "      <td>Google 사용자</td>\n",
       "      <td>입장하려다 시설검색이 안되서 결국 다른곳에 입장했습니다. 기존에 잘 쓰던 앱이 업데...</td>\n",
       "      <td>별표 5개 만점에 1개를 받았습니다.</td>\n",
       "    </tr>\n",
       "  </tbody>\n",
       "</table>\n",
       "</div>"
      ],
      "text/plain": [
       "   Unnamed: 0.1  Unnamed: 0                       _id        name  \\\n",
       "0             0           0  65098d07c0f914f394935fd9  Google 사용자   \n",
       "1             1           1  65098d07c0f914f394935fda  Google 사용자   \n",
       "2             2           2  65098d07c0f914f394935fdb  Google 사용자   \n",
       "\n",
       "                                             reviews                 stars  \n",
       "0  입장방식은 변경됐는데 어플은 여전히 바코드만 보여집니다. 짐에서는 더이상 바코드스캔...  별표 5개 만점에 1개를 받았습니다.  \n",
       "1  정말 답답하네요 하나. GPS 100프로 신뢰하나요? 시설선택목록에서 안보임 4월말...  별표 5개 만점에 1개를 받았습니다.  \n",
       "2  입장하려다 시설검색이 안되서 결국 다른곳에 입장했습니다. 기존에 잘 쓰던 앱이 업데...  별표 5개 만점에 1개를 받았습니다.  "
      ]
     },
     "execution_count": 2,
     "metadata": {},
     "output_type": "execute_result"
    }
   ],
   "source": [
    "df=pd.read_csv('../../datasets/one.csv')\n",
    "df[:3]"
   ]
  },
  {
   "cell_type": "markdown",
   "id": "5240cc11-4e0e-40d4-bf64-f8f096848167",
   "metadata": {},
   "source": [
    "### 전처리"
   ]
  },
  {
   "cell_type": "markdown",
   "id": "9f88f848-1536-41ff-a8fc-7fde6cf78c39",
   "metadata": {},
   "source": [
    "#### 결측치 처리"
   ]
  },
  {
   "cell_type": "code",
   "execution_count": 3,
   "id": "0061a4ad-78c3-4402-a8a0-f59050160812",
   "metadata": {
    "tags": []
   },
   "outputs": [
    {
     "name": "stdout",
     "output_type": "stream",
     "text": [
      "<class 'pandas.core.frame.DataFrame'>\n",
      "RangeIndex: 1094 entries, 0 to 1093\n",
      "Data columns (total 6 columns):\n",
      " #   Column        Non-Null Count  Dtype \n",
      "---  ------        --------------  ----- \n",
      " 0   Unnamed: 0.1  1094 non-null   int64 \n",
      " 1   Unnamed: 0    1094 non-null   int64 \n",
      " 2   _id           1094 non-null   object\n",
      " 3   name          1094 non-null   object\n",
      " 4   reviews       1094 non-null   object\n",
      " 5   stars         1094 non-null   object\n",
      "dtypes: int64(2), object(4)\n",
      "memory usage: 51.4+ KB\n"
     ]
    }
   ],
   "source": [
    "# 결측치 없음\n",
    "df.info()"
   ]
  },
  {
   "cell_type": "markdown",
   "id": "c233cf7e-41bb-4340-82c8-11de9792c427",
   "metadata": {},
   "source": [
    "#### 자연어 전처리"
   ]
  },
  {
   "cell_type": "code",
   "execution_count": 16,
   "id": "ac2225a7-2692-417a-b0f1-9100e9043770",
   "metadata": {
    "tags": []
   },
   "outputs": [],
   "source": [
    "from mecab import MeCab\n",
    "mecab = MeCab()"
   ]
  },
  {
   "cell_type": "markdown",
   "id": "f09be1f0-9841-4531-b085-4dead774e22f",
   "metadata": {},
   "source": [
    "##### 형태소 적용과 불용어 처리"
   ]
  },
  {
   "cell_type": "code",
   "execution_count": 17,
   "id": "10c27de2-455d-4da5-af3c-ac1ef27da3c2",
   "metadata": {
    "tags": []
   },
   "outputs": [
    {
     "data": {
      "text/html": [
       "<div>\n",
       "<style scoped>\n",
       "    .dataframe tbody tr th:only-of-type {\n",
       "        vertical-align: middle;\n",
       "    }\n",
       "\n",
       "    .dataframe tbody tr th {\n",
       "        vertical-align: top;\n",
       "    }\n",
       "\n",
       "    .dataframe thead th {\n",
       "        text-align: right;\n",
       "    }\n",
       "</style>\n",
       "<table border=\"1\" class=\"dataframe\">\n",
       "  <thead>\n",
       "    <tr style=\"text-align: right;\">\n",
       "      <th></th>\n",
       "      <th>stopword</th>\n",
       "    </tr>\n",
       "  </thead>\n",
       "  <tbody>\n",
       "    <tr>\n",
       "      <th>0</th>\n",
       "      <td>가</td>\n",
       "    </tr>\n",
       "    <tr>\n",
       "      <th>1</th>\n",
       "      <td>가까스로</td>\n",
       "    </tr>\n",
       "    <tr>\n",
       "      <th>2</th>\n",
       "      <td>가량</td>\n",
       "    </tr>\n",
       "    <tr>\n",
       "      <th>3</th>\n",
       "      <td>가령</td>\n",
       "    </tr>\n",
       "    <tr>\n",
       "      <th>4</th>\n",
       "      <td>가민</td>\n",
       "    </tr>\n",
       "  </tbody>\n",
       "</table>\n",
       "</div>"
      ],
      "text/plain": [
       "  stopword\n",
       "0        가\n",
       "1     가까스로\n",
       "2       가량\n",
       "3       가령\n",
       "4       가민"
      ]
     },
     "execution_count": 17,
     "metadata": {},
     "output_type": "execute_result"
    }
   ],
   "source": [
    "# 불용어 사전 불러오기\n",
    "df_stopwords = pd.read_excel('../../datasets/불용어concat.xlsx')\n",
    "df_stopwords[:5]"
   ]
  },
  {
   "cell_type": "code",
   "execution_count": 18,
   "id": "59970e47-5acc-4fb4-b06a-2b38a9ac093d",
   "metadata": {
    "tags": []
   },
   "outputs": [
    {
     "data": {
      "text/html": [
       "<div>\n",
       "<style scoped>\n",
       "    .dataframe tbody tr th:only-of-type {\n",
       "        vertical-align: middle;\n",
       "    }\n",
       "\n",
       "    .dataframe tbody tr th {\n",
       "        vertical-align: top;\n",
       "    }\n",
       "\n",
       "    .dataframe thead th {\n",
       "        text-align: right;\n",
       "    }\n",
       "</style>\n",
       "<table border=\"1\" class=\"dataframe\">\n",
       "  <thead>\n",
       "    <tr style=\"text-align: right;\">\n",
       "      <th></th>\n",
       "      <th>one_char_keyword</th>\n",
       "    </tr>\n",
       "  </thead>\n",
       "  <tbody>\n",
       "    <tr>\n",
       "      <th>0</th>\n",
       "      <td>값</td>\n",
       "    </tr>\n",
       "    <tr>\n",
       "      <th>1</th>\n",
       "      <td>꿀</td>\n",
       "    </tr>\n",
       "    <tr>\n",
       "      <th>2</th>\n",
       "      <td>꿈</td>\n",
       "    </tr>\n",
       "    <tr>\n",
       "      <th>3</th>\n",
       "      <td>끝</td>\n",
       "    </tr>\n",
       "    <tr>\n",
       "      <th>4</th>\n",
       "      <td>날</td>\n",
       "    </tr>\n",
       "  </tbody>\n",
       "</table>\n",
       "</div>"
      ],
      "text/plain": [
       "  one_char_keyword\n",
       "0                값\n",
       "1                꿀\n",
       "2                꿈\n",
       "3                끝\n",
       "4                날"
      ]
     },
     "execution_count": 18,
     "metadata": {},
     "output_type": "execute_result"
    }
   ],
   "source": [
    "# 한 단어 사전 불러오기\n",
    "df_onewords = pd.read_excel('../../datasets/한단어_concat.xlsx')\n",
    "df_onewords[:5]"
   ]
  },
  {
   "cell_type": "code",
   "execution_count": 31,
   "id": "a21ac18d-e18b-4836-a12a-bc94590e8048",
   "metadata": {
    "tags": []
   },
   "outputs": [
    {
     "data": {
      "text/plain": [
       "['입장방식은 변경됐는데 어플은 여전히 바코드만 보여집니다. 짐에서는 더이상 바코드스캔이 아닌 어플에서 입장하기로 바뀌어 사용치 못 하고 있습니다. 매달 이용료는 나가고 있는 상황이면 고쳐지기 전까지 이용못했던 일자에 대해 보상처리는 되나요?어플을 지웠다 다시 다운 받아봐도 똑같은 상태입니다. 도대체 언제부터 전 사용 가능한가요?',\n",
       " '정말 답답하네요 하나. GPS 100프로 신뢰하나요? 시설선택목록에서 안보임 4월말 업뎃이후 문제임 둘. 은행도 아닌데 로그인 타임아웃 적용하나요? 어디까지 사용자 불편을 감수하면서 가실려고.. 셋.충분하게 Test하고 업뎃적용하시는지? 근래 며칠이 멀다 화면이 바뀌는데 순전 관리용이지 고객은 안중에도 없어보임 뭐에 쫒기듯 어설프다',\n",
       " '입장하려다 시설검색이 안되서 결국 다른곳에 입장했습니다. 기존에 잘 쓰던 앱이 업데이트 후에 매번 로그인 다시해야하고 위치 자동검색에 시설이 안나오고, 수동검색후 입장하는 기능도 없고 불편함만 늘었습니다. 덕분에 앱 여러번 삭제하고 다시까느라 애꿎은 데이타만 잔뜩쓰고 다시 예전 앱으로 돌아가고 싶습니다',\n",
       " '평소 이동이 잦고 여러장소에서 운동하는걸 좋아하는 저에게는 합리적인 아이코젠이 정말 딱입니다! 제휴 업체도 꾸준히 추가되서 새로운 업체 방문하는게 요즘 낙이네요. 입장방식도 바코드에서 GPS로 바뀌면서 좀 더 편해지고 사용자편의적으로 개선이 되어가고 있어서 좋습니다. 앞으로도 좋은 제휴업체 많이 추가해주세요!!!!',\n",
       " '아이코젠 덕분에 운동이 더 즐겁고 꾸준하게 하게 되었어요. 사용기록이 꼼꼼히 남고 사용지점이 많아서 출장이나 본가에 가게되도 지속적으로 쓸수있는점이 짱이예요! 라이프 코스도 같이 이용중인데 덕분에 카페이용비가 확 낮아졌어요 완전 대박 😀😀']"
      ]
     },
     "execution_count": 31,
     "metadata": {},
     "output_type": "execute_result"
    }
   ],
   "source": [
    "df_reviews = df['reviews']\n",
    "reviews_list = list(df_reviews)\n",
    "reviews_list[:5]"
   ]
  },
  {
   "cell_type": "code",
   "execution_count": 44,
   "id": "51329e4f-d340-4171-b97a-a1ce34705841",
   "metadata": {
    "tags": []
   },
   "outputs": [],
   "source": [
    "stopwords = df_stopwords['stopword'].values\n",
    "onewords = df_onewords['one_char_keyword'].values\n",
    "\n",
    "# 토크나이징 함수\n",
    "def tokenizer(raw, stopwords, onewords) :\n",
    "    result_list = list()\n",
    "    words = text.split() # 공백 기준으로 텍스트 분할\n",
    "    \n",
    "    for word in words : # 불용어 제거\n",
    "        if word not in stopwords:\n",
    "            words = word\n",
    "        \n",
    "    for word in words : # 한 단어 사전 확인 후 제거\n",
    "        if len(word) > 1 or word in onewords:\n",
    "            result_list.append(word)\n",
    "    return result_list"
   ]
  },
  {
   "cell_type": "code",
   "execution_count": null,
   "id": "534408ca-7308-4e57-ac55-be40963d45a7",
   "metadata": {},
   "outputs": [],
   "source": []
  }
 ],
 "metadata": {
  "kernelspec": {
   "display_name": "Python 3 (ipykernel)",
   "language": "python",
   "name": "python3"
  },
  "language_info": {
   "codemirror_mode": {
    "name": "ipython",
    "version": 3
   },
   "file_extension": ".py",
   "mimetype": "text/x-python",
   "name": "python",
   "nbconvert_exporter": "python",
   "pygments_lexer": "ipython3",
   "version": "3.11.4"
  }
 },
 "nbformat": 4,
 "nbformat_minor": 5
}
