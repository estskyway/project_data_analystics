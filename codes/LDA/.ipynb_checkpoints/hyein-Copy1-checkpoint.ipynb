{
 "cells": [
  {
   "cell_type": "code",
   "execution_count": 6,
   "id": "9dd7331d-9a46-4db8-a896-a5eeefaa7c43",
   "metadata": {
    "tags": []
   },
   "outputs": [],
   "source": [
    "from selenium import webdriver\n",
    "import time"
   ]
  },
  {
   "cell_type": "code",
   "execution_count": 90,
   "id": "d141f509-03a7-436f-8fc7-49554b4e2cea",
   "metadata": {
    "tags": []
   },
   "outputs": [],
   "source": [
    "# open chrome browser\n",
    "browser = webdriver.Chrome(executable_path='../../../chromedriver.exe')"
   ]
  },
  {
   "cell_type": "code",
   "execution_count": 91,
   "id": "92457ef7-084a-4dc4-af3c-33253c541bff",
   "metadata": {
    "tags": []
   },
   "outputs": [],
   "source": [
    "browser.get('https://play.google.com/store/apps/details?id=com.ikozen.ikozenmember&hl=ko-KR')"
   ]
  },
  {
   "cell_type": "code",
   "execution_count": 92,
   "id": "8aa064fe-9104-4357-8f29-bb02380f2dbf",
   "metadata": {
    "tags": []
   },
   "outputs": [],
   "source": [
    "browser.implicitly_wait(10)"
   ]
  },
  {
   "cell_type": "code",
   "execution_count": 93,
   "id": "49b68cab-0767-4fbe-921e-d379714cc225",
   "metadata": {
    "tags": []
   },
   "outputs": [],
   "source": [
    "# 리뷰 모두보기 버튼 클릭(팝업 띄우기)\n",
    "click_path = 'div:nth-child(5) > div > div > button > span'\n",
    "browser.find_element_by_css_selector(click_path).click()"
   ]
  },
  {
   "cell_type": "code",
   "execution_count": 63,
   "id": "b66a54c3-c2a7-48d7-91a8-bc2f5a6be61c",
   "metadata": {
    "tags": []
   },
   "outputs": [
    {
     "data": {
      "text/plain": [
       "40"
      ]
     },
     "execution_count": 63,
     "metadata": {},
     "output_type": "execute_result"
    }
   ],
   "source": [
    "reviews_bundle = browser.find_elements_by_css_selector('.RHo1pe')\n",
    "len(reviews_bundle)"
   ]
  },
  {
   "cell_type": "code",
   "execution_count": 64,
   "id": "3a66d6c6-3871-42da-bff1-14712d701b8d",
   "metadata": {
    "tags": []
   },
   "outputs": [
    {
     "name": "stdout",
     "output_type": "stream",
     "text": [
      "writer: Google 사용자\n",
      "review: 입장방식은 변경됐는데 어플은 여전히 바코드만 보여집니다. 짐에서는 더이상 바코드스캔이 아닌 어플에서 입장하기로 바뀌어 사용치 못 하고 있습니다. 매달 이용료는 나가고 있는 상황이면 고쳐지기 전까지 이용못했던 일자에 대해 보상처리는 되나요?어플을 지웠다 다시 다운 받아봐도 똑같은 상태입니다. 도대체 언제부터 전 사용 가능한가요?\n",
      "star: 별표 5개 만점에 1개를 받았습니다.\n",
      "Done\n"
     ]
    }
   ],
   "source": [
    "# 리뷰 한 개 가져오기\n",
    "review = browser.find_element_by_css_selector('.RHo1pe')\n",
    "review_writer = review.find_element_by_css_selector('.X5PpBb').text\n",
    "review_text = review.find_element_by_css_selector('.h3YV2d').text\n",
    "review_star = review.find_element_by_css_selector('.iXRFPc').get_attribute('aria-label')\n",
    "print('writer: {}'.format(review_writer))\n",
    "print('review: {}'.format(review_text))\n",
    "print('star: {}'.format(review_star))\n",
    "print('Done')"
   ]
  },
  {
   "cell_type": "code",
   "execution_count": 49,
   "id": "c5c99b56-f94c-46d9-a864-723587a0eee9",
   "metadata": {
    "tags": []
   },
   "outputs": [],
   "source": [
    "import pandas as pd\n",
    "import pymongo as mg"
   ]
  },
  {
   "cell_type": "code",
   "execution_count": null,
   "id": "6d6573d3-0c78-416e-aa6e-01378a3f14a3",
   "metadata": {
    "tags": []
   },
   "outputs": [],
   "source": [
    "from selenium.webdriver.common.keys import Keys"
   ]
  },
  {
   "cell_type": "code",
   "execution_count": null,
   "id": "ab4c0fdd-69ff-4f37-a48f-f13c4b272886",
   "metadata": {
    "tags": []
   },
   "outputs": [
    {
     "name": "stdout",
     "output_type": "stream",
     "text": [
      "\n",
      "\n",
      "\n",
      "0\n",
      "\n",
      "\n",
      "\n",
      "2\n",
      "\n",
      "\n",
      "\n",
      "3\n",
      "\n",
      "\n",
      "\n",
      "4\n",
      "\n",
      "\n",
      "\n",
      "5\n",
      "\n",
      "\n",
      "\n",
      "6\n",
      "\n",
      "\n",
      "\n",
      "7\n",
      "\n",
      "\n",
      "\n",
      "8\n",
      "\n",
      "\n",
      "\n",
      "9\n",
      "\n",
      "\n",
      "\n",
      "10\n",
      "\n",
      "\n",
      "\n",
      "11\n"
     ]
    }
   ],
   "source": [
    "client = mg.MongoClient(host='mongodb://localhost:27017')\n",
    "database = client['project_data_analystics']\n",
    "collection = database['review']\n",
    "\n",
    "# 리뷰 모두보기 버튼 클릭(팝업 띄우기)\n",
    "click_path = 'div:nth-child(5) > div > div > button > span'\n",
    "browser.find_element_by_css_selector(click_path).click()\n",
    "reviews_list = list()\n",
    "\n",
    "review_total_count = 0   # 리뷰 총 갯수\n",
    "while True:\n",
    "    reviews_bundle = browser.find_elements_by_css_selector('.RHo1pe')\n",
    "    review_standard_count_per = len(reviews_bundle)\n",
    "    if review_total_count == review_standard_count_per:\n",
    "        break\n",
    "\n",
    "    review_total_count = review_standard_count_per\n",
    "    reviews_bundle[len(reviews_bundle)-1].click()\n",
    "    \n",
    "\n",
    "for review in reviews_bundle:\n",
    "    for count in range(len(reviews_bundle)):\n",
    "        try:\n",
    "            review_writer = review.find_element_by_css_selector('div.fysCi > div > div:nth-child(2) > div:nth-child({}) > header > div.YNR7H > div.gSGphe > div'.format(count)).text\n",
    "        except:\n",
    "            review_writer = str()\n",
    "        try:    \n",
    "            review_text = review.find_element_by_css_selector('div.fysCi > div > div:nth-child(2) > div:nth-child({}) > div.h3YV2d'.format(count)).text\n",
    "        except:\n",
    "            review_text = str()\n",
    "        try:\n",
    "            review_star = review.find_element_by_css_selector('div.fysCi > div > div:nth-child(2) > div:nth-child({}) > header > div.Jx4nYe > div'.format(count)).get_attribute('aria-label')\n",
    "        except:\n",
    "            review_star = str()\n",
    "            print(review_writer)\n",
    "            print(review_text)\n",
    "            print(review_star)\n",
    "            print(count)\n",
    "            review_list = [review_writer, review_text, review_star]\n",
    "            reviews_list.append(review_list)\n",
    "\n",
    "            # 저장 위한 작업\n",
    "            df_reviews = pd.DataFrame(data=reviews_list, columns=columns_name)\n",
    "            data_dict = df_reviews.to_dict(orient='records')\n",
    "            collection.insert_many(data_dict)\n",
    "\n",
    "print('Done')"
   ]
  },
  {
   "cell_type": "code",
   "execution_count": null,
   "id": "6fe6930c-c0d4-4095-a475-87baf26a2459",
   "metadata": {
    "tags": []
   },
   "outputs": [],
   "source": [
    "reviews_bundle = browser.find_elements_by_css_selector('.RHo1pe')\n",
    "try:\n",
    "    review_writer = review.find_element_by_css_selector('div.fysCi > div > div:nth-child(2) > div:nth-child(1) > header > div.YNR7H > div.gSGphe > div').text\n",
    "except:\n",
    "    review_writer = str()\n",
    "try:    \n",
    "    review_text = review.find_element_by_css_selector('div.fysCi > div > div:nth-child(2) > div:nth-child(1) > div.h3YV2d').text\n",
    "except:\n",
    "    review_text = str()\n",
    "try:\n",
    "    review_star = review.find_element_by_css_selector('div.fysCi > div > div:nth-child(2) > div:nth-child(1) > header > div.Jx4nYe > div').get_attribute('aria-label')\n",
    "except:\n",
    "    review_star = str()"
   ]
  },
  {
   "cell_type": "code",
   "execution_count": null,
   "id": "a89da037-12b5-468f-8951-3f85bffdf656",
   "metadata": {},
   "outputs": [],
   "source": []
  }
 ],
 "metadata": {
  "kernelspec": {
   "display_name": "Python 3 (ipykernel)",
   "language": "python",
   "name": "python3"
  },
  "language_info": {
   "codemirror_mode": {
    "name": "ipython",
    "version": 3
   },
   "file_extension": ".py",
   "mimetype": "text/x-python",
   "name": "python",
   "nbconvert_exporter": "python",
   "pygments_lexer": "ipython3",
   "version": "3.11.3"
  }
 },
 "nbformat": 4,
 "nbformat_minor": 5
}
