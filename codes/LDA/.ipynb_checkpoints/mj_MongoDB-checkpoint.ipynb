{
 "cells": [
  {
   "cell_type": "code",
   "execution_count": 2,
   "id": "ae53c357-f5a5-4d1a-b671-2986c3a8fb63",
   "metadata": {
    "tags": []
   },
   "outputs": [],
   "source": [
    "import pandas as pd\n",
    "import pymongo as mg\n",
    "client = mg.MongoClient(host='mongodb://localhost:27017')"
   ]
  },
  {
   "cell_type": "code",
   "execution_count": 8,
   "id": "87524ae1-51de-4ba8-93be-ce7ef3a0d85d",
   "metadata": {
    "tags": []
   },
   "outputs": [],
   "source": [
    "database = client['project_data_analytics']\n",
    "collection = database['reviews']"
   ]
  },
  {
   "cell_type": "code",
   "execution_count": 9,
   "id": "2797312d-d8b7-43c9-adbf-28169704eebd",
   "metadata": {
    "tags": []
   },
   "outputs": [],
   "source": [
    "cursor = collection.find({})"
   ]
  },
  {
   "cell_type": "code",
   "execution_count": 10,
   "id": "4cf9a8ee-8873-4de8-b7da-d2df61ef34c7",
   "metadata": {
    "tags": []
   },
   "outputs": [],
   "source": [
    "data_list = list(cursor)"
   ]
  },
  {
   "cell_type": "code",
   "execution_count": 11,
   "id": "25fa8e46-5dd7-459e-88db-43f79c8997e9",
   "metadata": {
    "tags": []
   },
   "outputs": [
    {
     "data": {
      "text/html": [
       "<div>\n",
       "<style scoped>\n",
       "    .dataframe tbody tr th:only-of-type {\n",
       "        vertical-align: middle;\n",
       "    }\n",
       "\n",
       "    .dataframe tbody tr th {\n",
       "        vertical-align: top;\n",
       "    }\n",
       "\n",
       "    .dataframe thead th {\n",
       "        text-align: right;\n",
       "    }\n",
       "</style>\n",
       "<table border=\"1\" class=\"dataframe\">\n",
       "  <thead>\n",
       "    <tr style=\"text-align: right;\">\n",
       "      <th></th>\n",
       "      <th>_id</th>\n",
       "      <th>service_name</th>\n",
       "      <th>stars</th>\n",
       "      <th>reviews</th>\n",
       "    </tr>\n",
       "  </thead>\n",
       "  <tbody>\n",
       "    <tr>\n",
       "      <th>0</th>\n",
       "      <td>650bb0b36fc4d13479415c96</td>\n",
       "      <td>김국빈</td>\n",
       "      <td>별표 5개 만점에 5개를 받았습니다.</td>\n",
       "      <td>짐박스 이용자로서 정말 편하게 잘 사용하고 있습니다. 한 가지 건의사항으로, 다른 ...</td>\n",
       "    </tr>\n",
       "    <tr>\n",
       "      <th>1</th>\n",
       "      <td>650bb0b56fc4d13479415c97</td>\n",
       "      <td>김국빈</td>\n",
       "      <td>별표 5개 만점에 5개를 받았습니다.</td>\n",
       "      <td>짐박스 이용자로서 정말 편하게 잘 사용하고 있습니다. 한 가지 건의사항으로, 다른 ...</td>\n",
       "    </tr>\n",
       "    <tr>\n",
       "      <th>2</th>\n",
       "      <td>650bb0b56fc4d13479415c98</td>\n",
       "      <td>율리우스시저</td>\n",
       "      <td>별표 5개 만점에 5개를 받았습니다.</td>\n",
       "      <td>지금까지 경험한 헬스관련 웹중에서 최고라고 생각합니다. 멤버십구독 뿐만 아니라 동기...</td>\n",
       "    </tr>\n",
       "    <tr>\n",
       "      <th>3</th>\n",
       "      <td>650bb0b56fc4d13479415c99</td>\n",
       "      <td>김국빈</td>\n",
       "      <td>별표 5개 만점에 5개를 받았습니다.</td>\n",
       "      <td>짐박스 이용자로서 정말 편하게 잘 사용하고 있습니다. 한 가지 건의사항으로, 다른 ...</td>\n",
       "    </tr>\n",
       "    <tr>\n",
       "      <th>4</th>\n",
       "      <td>650bb0b56fc4d13479415c9a</td>\n",
       "      <td>율리우스시저</td>\n",
       "      <td>별표 5개 만점에 5개를 받았습니다.</td>\n",
       "      <td>지금까지 경험한 헬스관련 웹중에서 최고라고 생각합니다. 멤버십구독 뿐만 아니라 동기...</td>\n",
       "    </tr>\n",
       "    <tr>\n",
       "      <th>...</th>\n",
       "      <td>...</td>\n",
       "      <td>...</td>\n",
       "      <td>...</td>\n",
       "      <td>...</td>\n",
       "    </tr>\n",
       "    <tr>\n",
       "      <th>266767</th>\n",
       "      <td>650bb1af4214830c4ce210b8</td>\n",
       "      <td>Google 사용자</td>\n",
       "      <td>별표 5개 만점에 1개를 받았습니다.</td>\n",
       "      <td>바코드 오류이유를 모르겠네요 도대체 몇번째인지 성질나서 사업장 시설 이용하던가 해야지</td>\n",
       "    </tr>\n",
       "    <tr>\n",
       "      <th>266768</th>\n",
       "      <td>650bb1af4214830c4ce210b9</td>\n",
       "      <td>Google 사용자</td>\n",
       "      <td>별표 5개 만점에 5개를 받았습니다.</td>\n",
       "      <td>좋습니다아오~!!</td>\n",
       "    </tr>\n",
       "    <tr>\n",
       "      <th>266769</th>\n",
       "      <td>650bb1af4214830c4ce210ba</td>\n",
       "      <td>오창원</td>\n",
       "      <td>별표 5개 만점에 5개를 받았습니다.</td>\n",
       "      <td>아주유용합니다</td>\n",
       "    </tr>\n",
       "    <tr>\n",
       "      <th>266770</th>\n",
       "      <td>650bb1af4214830c4ce210bb</td>\n",
       "      <td>철환박</td>\n",
       "      <td>별표 5개 만점에 5개를 받았습니다.</td>\n",
       "      <td>좋아요</td>\n",
       "    </tr>\n",
       "    <tr>\n",
       "      <th>266771</th>\n",
       "      <td>650bb1af4214830c4ce210bc</td>\n",
       "      <td>남박기수</td>\n",
       "      <td>별표 5개 만점에 5개를 받았습니다.</td>\n",
       "      <td>좋아여</td>\n",
       "    </tr>\n",
       "  </tbody>\n",
       "</table>\n",
       "<p>266772 rows × 4 columns</p>\n",
       "</div>"
      ],
      "text/plain": [
       "                             _id service_name                 stars  \\\n",
       "0       650bb0b36fc4d13479415c96          김국빈  별표 5개 만점에 5개를 받았습니다.   \n",
       "1       650bb0b56fc4d13479415c97          김국빈  별표 5개 만점에 5개를 받았습니다.   \n",
       "2       650bb0b56fc4d13479415c98       율리우스시저  별표 5개 만점에 5개를 받았습니다.   \n",
       "3       650bb0b56fc4d13479415c99          김국빈  별표 5개 만점에 5개를 받았습니다.   \n",
       "4       650bb0b56fc4d13479415c9a       율리우스시저  별표 5개 만점에 5개를 받았습니다.   \n",
       "...                          ...          ...                   ...   \n",
       "266767  650bb1af4214830c4ce210b8   Google 사용자  별표 5개 만점에 1개를 받았습니다.   \n",
       "266768  650bb1af4214830c4ce210b9   Google 사용자  별표 5개 만점에 5개를 받았습니다.   \n",
       "266769  650bb1af4214830c4ce210ba          오창원  별표 5개 만점에 5개를 받았습니다.   \n",
       "266770  650bb1af4214830c4ce210bb          철환박  별표 5개 만점에 5개를 받았습니다.   \n",
       "266771  650bb1af4214830c4ce210bc         남박기수  별표 5개 만점에 5개를 받았습니다.   \n",
       "\n",
       "                                                  reviews  \n",
       "0       짐박스 이용자로서 정말 편하게 잘 사용하고 있습니다. 한 가지 건의사항으로, 다른 ...  \n",
       "1       짐박스 이용자로서 정말 편하게 잘 사용하고 있습니다. 한 가지 건의사항으로, 다른 ...  \n",
       "2       지금까지 경험한 헬스관련 웹중에서 최고라고 생각합니다. 멤버십구독 뿐만 아니라 동기...  \n",
       "3       짐박스 이용자로서 정말 편하게 잘 사용하고 있습니다. 한 가지 건의사항으로, 다른 ...  \n",
       "4       지금까지 경험한 헬스관련 웹중에서 최고라고 생각합니다. 멤버십구독 뿐만 아니라 동기...  \n",
       "...                                                   ...  \n",
       "266767    바코드 오류이유를 모르겠네요 도대체 몇번째인지 성질나서 사업장 시설 이용하던가 해야지  \n",
       "266768                                          좋습니다아오~!!  \n",
       "266769                                            아주유용합니다  \n",
       "266770                                                좋아요  \n",
       "266771                                                좋아여  \n",
       "\n",
       "[266772 rows x 4 columns]"
      ]
     },
     "execution_count": 11,
     "metadata": {},
     "output_type": "execute_result"
    }
   ],
   "source": [
    "df_review = pd.DataFrame(data_list)\n",
    "df_review"
   ]
  },
  {
   "cell_type": "markdown",
   "id": "26a40bda-e4c1-47b0-9166-8e26f17ffe1a",
   "metadata": {},
   "source": [
    "### 전처리 "
   ]
  },
  {
   "cell_type": "code",
   "execution_count": 12,
   "id": "ff8122cf-a7ec-4db8-a329-ae02fa7bcf66",
   "metadata": {
    "tags": []
   },
   "outputs": [
    {
     "name": "stdout",
     "output_type": "stream",
     "text": [
      "<class 'pandas.core.frame.DataFrame'>\n",
      "RangeIndex: 266772 entries, 0 to 266771\n",
      "Data columns (total 4 columns):\n",
      " #   Column        Non-Null Count   Dtype \n",
      "---  ------        --------------   ----- \n",
      " 0   _id           266772 non-null  object\n",
      " 1   service_name  266772 non-null  object\n",
      " 2   stars         266772 non-null  object\n",
      " 3   reviews       266772 non-null  object\n",
      "dtypes: object(4)\n",
      "memory usage: 8.1+ MB\n"
     ]
    }
   ],
   "source": [
    "df_review.info()"
   ]
  },
  {
   "cell_type": "code",
   "execution_count": 14,
   "id": "0a1c0b24-3dad-4b71-ba96-aae39772fc7a",
   "metadata": {
    "tags": []
   },
   "outputs": [
    {
     "data": {
      "text/plain": [
       "_id             0\n",
       "service_name    0\n",
       "stars           0\n",
       "reviews         0\n",
       "dtype: int64"
      ]
     },
     "execution_count": 14,
     "metadata": {},
     "output_type": "execute_result"
    }
   ],
   "source": [
    "# null값처리\n",
    "df_review.isnull().sum()"
   ]
  },
  {
   "cell_type": "code",
   "execution_count": 16,
   "id": "2dac03f7-cb81-486b-b7c4-8beb65f74f09",
   "metadata": {
    "tags": []
   },
   "outputs": [
    {
     "data": {
      "text/html": [
       "<div>\n",
       "<style scoped>\n",
       "    .dataframe tbody tr th:only-of-type {\n",
       "        vertical-align: middle;\n",
       "    }\n",
       "\n",
       "    .dataframe tbody tr th {\n",
       "        vertical-align: top;\n",
       "    }\n",
       "\n",
       "    .dataframe thead th {\n",
       "        text-align: right;\n",
       "    }\n",
       "</style>\n",
       "<table border=\"1\" class=\"dataframe\">\n",
       "  <thead>\n",
       "    <tr style=\"text-align: right;\">\n",
       "      <th></th>\n",
       "      <th>_id</th>\n",
       "      <th>service_name</th>\n",
       "      <th>stars</th>\n",
       "      <th>reviews</th>\n",
       "    </tr>\n",
       "  </thead>\n",
       "  <tbody>\n",
       "    <tr>\n",
       "      <th>0</th>\n",
       "      <td>650bb0b36fc4d13479415c96</td>\n",
       "      <td>김국빈</td>\n",
       "      <td>별표 5개 만점에 5개를 받았습니다.</td>\n",
       "      <td>짐박스 이용자로서 정말 편하게 잘 사용하고 있습니다. 한 가지 건의사항으로, 다른 ...</td>\n",
       "    </tr>\n",
       "    <tr>\n",
       "      <th>2</th>\n",
       "      <td>650bb0b56fc4d13479415c98</td>\n",
       "      <td>율리우스시저</td>\n",
       "      <td>별표 5개 만점에 5개를 받았습니다.</td>\n",
       "      <td>지금까지 경험한 헬스관련 웹중에서 최고라고 생각합니다. 멤버십구독 뿐만 아니라 동기...</td>\n",
       "    </tr>\n",
       "    <tr>\n",
       "      <th>5</th>\n",
       "      <td>650bb0b56fc4d13479415c9b</td>\n",
       "      <td>HYUNJUNG KWAK</td>\n",
       "      <td>별표 5개 만점에 5개를 받았습니다.</td>\n",
       "      <td>한달반정도 사용해보니 어플이 있어서 운동한날과 운동하지 않은 날 여부를 한 눈에 체...</td>\n",
       "    </tr>\n",
       "    <tr>\n",
       "      <th>9</th>\n",
       "      <td>650bb0b66fc4d13479415c9f</td>\n",
       "      <td>최무성</td>\n",
       "      <td>별표 5개 만점에 5개를 받았습니다.</td>\n",
       "      <td>짐박스 신림점 이용하고 있습니다. 일단 어플로 결제하는 시스템은 처음 이용하는데 너...</td>\n",
       "    </tr>\n",
       "    <tr>\n",
       "      <th>14</th>\n",
       "      <td>650bb0b66fc4d13479415ca4</td>\n",
       "      <td>kim sehoon</td>\n",
       "      <td>별표 5개 만점에 5개를 받았습니다.</td>\n",
       "      <td>짐박스 신림 2호점 정말 좋습니다. 기구도 다양하고 유산소 무산소 하는 곳도 많고 ...</td>\n",
       "    </tr>\n",
       "    <tr>\n",
       "      <th>...</th>\n",
       "      <td>...</td>\n",
       "      <td>...</td>\n",
       "      <td>...</td>\n",
       "      <td>...</td>\n",
       "    </tr>\n",
       "    <tr>\n",
       "      <th>264201</th>\n",
       "      <td>650bb1ae4214830c4ce206b2</td>\n",
       "      <td>Google 사용자</td>\n",
       "      <td>별표 5개 만점에 1개를 받았습니다.</td>\n",
       "      <td>이용도 못하고 월 회비만 나감</td>\n",
       "    </tr>\n",
       "    <tr>\n",
       "      <th>264713</th>\n",
       "      <td>650bb1ae4214830c4ce208b2</td>\n",
       "      <td>Google 사용자</td>\n",
       "      <td>별표 5개 만점에 1개를 받았습니다.</td>\n",
       "      <td>바코드 오류이유를 모르겠네요 도대체 몇번째인지 성질나서 사업장 시설 이용하던가 해야지</td>\n",
       "    </tr>\n",
       "    <tr>\n",
       "      <th>265226</th>\n",
       "      <td>650bb1ae4214830c4ce20ab3</td>\n",
       "      <td>Google 사용자</td>\n",
       "      <td>별표 5개 만점에 5개를 받았습니다.</td>\n",
       "      <td>좋습니다아오~!!</td>\n",
       "    </tr>\n",
       "    <tr>\n",
       "      <th>265740</th>\n",
       "      <td>650bb1ae4214830c4ce20cb5</td>\n",
       "      <td>오창원</td>\n",
       "      <td>별표 5개 만점에 5개를 받았습니다.</td>\n",
       "      <td>아주유용합니다</td>\n",
       "    </tr>\n",
       "    <tr>\n",
       "      <th>266771</th>\n",
       "      <td>650bb1af4214830c4ce210bc</td>\n",
       "      <td>남박기수</td>\n",
       "      <td>별표 5개 만점에 5개를 받았습니다.</td>\n",
       "      <td>좋아여</td>\n",
       "    </tr>\n",
       "  </tbody>\n",
       "</table>\n",
       "<p>1024 rows × 4 columns</p>\n",
       "</div>"
      ],
      "text/plain": [
       "                             _id   service_name                 stars  \\\n",
       "0       650bb0b36fc4d13479415c96            김국빈  별표 5개 만점에 5개를 받았습니다.   \n",
       "2       650bb0b56fc4d13479415c98         율리우스시저  별표 5개 만점에 5개를 받았습니다.   \n",
       "5       650bb0b56fc4d13479415c9b  HYUNJUNG KWAK  별표 5개 만점에 5개를 받았습니다.   \n",
       "9       650bb0b66fc4d13479415c9f            최무성  별표 5개 만점에 5개를 받았습니다.   \n",
       "14      650bb0b66fc4d13479415ca4     kim sehoon  별표 5개 만점에 5개를 받았습니다.   \n",
       "...                          ...            ...                   ...   \n",
       "264201  650bb1ae4214830c4ce206b2     Google 사용자  별표 5개 만점에 1개를 받았습니다.   \n",
       "264713  650bb1ae4214830c4ce208b2     Google 사용자  별표 5개 만점에 1개를 받았습니다.   \n",
       "265226  650bb1ae4214830c4ce20ab3     Google 사용자  별표 5개 만점에 5개를 받았습니다.   \n",
       "265740  650bb1ae4214830c4ce20cb5            오창원  별표 5개 만점에 5개를 받았습니다.   \n",
       "266771  650bb1af4214830c4ce210bc           남박기수  별표 5개 만점에 5개를 받았습니다.   \n",
       "\n",
       "                                                  reviews  \n",
       "0       짐박스 이용자로서 정말 편하게 잘 사용하고 있습니다. 한 가지 건의사항으로, 다른 ...  \n",
       "2       지금까지 경험한 헬스관련 웹중에서 최고라고 생각합니다. 멤버십구독 뿐만 아니라 동기...  \n",
       "5       한달반정도 사용해보니 어플이 있어서 운동한날과 운동하지 않은 날 여부를 한 눈에 체...  \n",
       "9       짐박스 신림점 이용하고 있습니다. 일단 어플로 결제하는 시스템은 처음 이용하는데 너...  \n",
       "14      짐박스 신림 2호점 정말 좋습니다. 기구도 다양하고 유산소 무산소 하는 곳도 많고 ...  \n",
       "...                                                   ...  \n",
       "264201                                   이용도 못하고 월 회비만 나감  \n",
       "264713    바코드 오류이유를 모르겠네요 도대체 몇번째인지 성질나서 사업장 시설 이용하던가 해야지  \n",
       "265226                                          좋습니다아오~!!  \n",
       "265740                                            아주유용합니다  \n",
       "266771                                                좋아여  \n",
       "\n",
       "[1024 rows x 4 columns]"
      ]
     },
     "execution_count": 16,
     "metadata": {},
     "output_type": "execute_result"
    }
   ],
   "source": [
    "# 중복 처리\n",
    "df_review = df_review.drop_duplicates(subset=['reviews'])\n",
    "df_review"
   ]
  },
  {
   "cell_type": "markdown",
   "id": "2d74da6f-6b76-46f1-a820-5322f80b702c",
   "metadata": {},
   "source": [
    "### csv"
   ]
  },
  {
   "cell_type": "code",
   "execution_count": null,
   "id": "5ef6c91e-3a11-4bf5-ac3a-f7e71dc19114",
   "metadata": {},
   "outputs": [],
   "source": [
    "df_review.to_csv('../../datasets/minjeong_mongoDB.csv')"
   ]
  }
 ],
 "metadata": {
  "kernelspec": {
   "display_name": "Python 3 (ipykernel)",
   "language": "python",
   "name": "python3"
  },
  "language_info": {
   "codemirror_mode": {
    "name": "ipython",
    "version": 3
   },
   "file_extension": ".py",
   "mimetype": "text/x-python",
   "name": "python",
   "nbconvert_exporter": "python",
   "pygments_lexer": "ipython3",
   "version": "3.11.3"
  }
 },
 "nbformat": 4,
 "nbformat_minor": 5
}
