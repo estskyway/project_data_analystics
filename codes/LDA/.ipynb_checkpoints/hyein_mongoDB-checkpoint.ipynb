{
 "cells": [
  {
   "cell_type": "code",
   "execution_count": 8,
   "id": "5e3aab4b-fa89-4b70-82f7-4024aae547f1",
   "metadata": {},
   "outputs": [],
   "source": [
    "import pandas as pd\n",
    "import pymongo as mg\n",
    "client = mg.MongoClient(host='mongodb://localhost:27017')"
   ]
  },
  {
   "cell_type": "code",
   "execution_count": 9,
   "id": "aa532bd2-f00c-4f6f-a0c1-725b2bf43e1f",
   "metadata": {
    "tags": []
   },
   "outputs": [],
   "source": [
    "database = client['project_data_analystics']"
   ]
  },
  {
   "cell_type": "code",
   "execution_count": null,
   "id": "4f34bd22-d66c-49c9-8f16-968ee7fc200b",
   "metadata": {},
   "outputs": [],
   "source": [
    "collection = database['review']"
   ]
  },
  {
   "cell_type": "code",
   "execution_count": null,
   "id": "45f61f2f-4c2c-401d-a9fd-b63c5a572893",
   "metadata": {},
   "outputs": [],
   "source": [
    "cursor = collection.find({})"
   ]
  },
  {
   "cell_type": "code",
   "execution_count": null,
   "id": "fa01a94e-dcd4-44e1-a7ac-0610bd07d32a",
   "metadata": {},
   "outputs": [],
   "source": [
    "data_list = list(cursor)"
   ]
  },
  {
   "cell_type": "code",
   "execution_count": null,
   "id": "37a5876f-c83a-4c4c-8c52-c504b532f595",
   "metadata": {},
   "outputs": [],
   "source": [
    "df_review = pd.DataFrame(data_list)\n",
    "df_review"
   ]
  },
  {
   "cell_type": "markdown",
   "id": "40024e41-f3f6-4c27-8b24-0367c5cac75e",
   "metadata": {},
   "source": [
    "### 전처리"
   ]
  },
  {
   "cell_type": "code",
   "execution_count": null,
   "id": "38065c0b-d556-4052-b3ca-7fdab63ce1f0",
   "metadata": {},
   "outputs": [],
   "source": [
    "df_review.info()"
   ]
  },
  {
   "cell_type": "code",
   "execution_count": null,
   "id": "2ecadce8-27ac-4b77-96e3-a0fce70aa91e",
   "metadata": {},
   "outputs": [],
   "source": [
    "# null값처리\n",
    "df_review = df_review.dropna()\n",
    "df_review.isnull().sum()"
   ]
  },
  {
   "cell_type": "code",
   "execution_count": null,
   "id": "1e875ac4-d6c1-4757-8f51-7bfa60b4a00e",
   "metadata": {},
   "outputs": [],
   "source": [
    "# 중복 처리\n",
    "df_review = df_review.drop_duplicates()\n",
    "df_review"
   ]
  },
  {
   "cell_type": "markdown",
   "id": "d42638cd-bc49-44f6-b772-f881692ff675",
   "metadata": {},
   "source": [
    "### CSV"
   ]
  },
  {
   "cell_type": "code",
   "execution_count": null,
   "id": "46ca8dd8-5743-491c-a788-1c06eb71acde",
   "metadata": {},
   "outputs": [],
   "source": [
    "df_review.to_csv('../')"
   ]
  },
  {
   "cell_type": "code",
   "execution_count": null,
   "id": "ec5e7dad-2fff-4e58-bb0d-24f50cfb651c",
   "metadata": {},
   "outputs": [],
   "source": [
    "pd.read_csv()"
   ]
  }
 ],
 "metadata": {
  "kernelspec": {
   "display_name": "Python 3 (ipykernel)",
   "language": "python",
   "name": "python3"
  },
  "language_info": {
   "codemirror_mode": {
    "name": "ipython",
    "version": 3
   },
   "file_extension": ".py",
   "mimetype": "text/x-python",
   "name": "python",
   "nbconvert_exporter": "python",
   "pygments_lexer": "ipython3",
   "version": "3.11.3"
  }
 },
 "nbformat": 4,
 "nbformat_minor": 5
}
