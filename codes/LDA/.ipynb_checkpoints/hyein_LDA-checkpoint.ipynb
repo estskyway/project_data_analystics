{
 "cells": [
  {
   "cell_type": "markdown",
   "id": "ba75116e-194d-4630-bc4d-742aefb81017",
   "metadata": {},
   "source": [
    "### 긍정과 부정 댓글 분리"
   ]
  },
  {
   "cell_type": "code",
   "execution_count": null,
   "id": "45ca740c-8f04-434a-8ef8-439f01900243",
   "metadata": {},
   "outputs": [],
   "source": [
    "condition_positive = df['rating'] >= 3   #긍정\n",
    "condition_positive = df['rating'] < 3   #부정"
   ]
  },
  {
   "cell_type": "code",
   "execution_count": null,
   "id": "f633f3c1-d70c-439f-b7b8-6ee7a447a848",
   "metadata": {},
   "outputs": [],
   "source": [
    "df_review_positive = df[condition_positive]\n",
    "df_review_negative= df[condition_negative]"
   ]
  },
  {
   "cell_type": "markdown",
   "id": "74a6a91d-9df3-43c8-aa8d-766ca1efa3b8",
   "metadata": {},
   "source": [
    "### CSV 파일로 저장"
   ]
  },
  {
   "cell_type": "code",
   "execution_count": null,
   "id": "ebb32860-4da9-430c-8f62-94590ee1e3fb",
   "metadata": {},
   "outputs": [],
   "source": [
    "# df_review_positive.to_csv('../../review_positive.csv')\n",
    "# df_review_negative.to_csv('../../review_negative.csv')"
   ]
  }
 ],
 "metadata": {
  "kernelspec": {
   "display_name": "Python 3 (ipykernel)",
   "language": "python",
   "name": "python3"
  },
  "language_info": {
   "codemirror_mode": {
    "name": "ipython",
    "version": 3
   },
   "file_extension": ".py",
   "mimetype": "text/x-python",
   "name": "python",
   "nbconvert_exporter": "python",
   "pygments_lexer": "ipython3",
   "version": "3.11.4"
  }
 },
 "nbformat": 4,
 "nbformat_minor": 5
}
