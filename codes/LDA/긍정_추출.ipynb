{
 "cells": [
  {
   "cell_type": "code",
   "execution_count": 1,
   "metadata": {
    "id": "k8UkZFtvy_qG"
   },
   "outputs": [],
   "source": [
    "# !pip install python-mecab-ko pyLDAvis"
   ]
  },
  {
   "cell_type": "code",
   "execution_count": 2,
   "metadata": {
    "id": "vBS9MsRQzKRN"
   },
   "outputs": [],
   "source": [
    "import pandas as pd"
   ]
  },
  {
   "cell_type": "code",
   "execution_count": null,
   "metadata": {
    "colab": {
     "base_uri": "https://localhost:8080/",
     "height": 806
    },
    "id": "XhZ0nG3wzVks",
    "outputId": "552febd3-b5b2-4aee-ed31-0cba9ff6066b"
   },
   "outputs": [],
   "source": [
    "df = pd.read_csv('/content/total_data.csv')\n",
    "df"
   ]
  },
  {
   "cell_type": "code",
   "execution_count": null,
   "metadata": {
    "colab": {
     "base_uri": "https://localhost:8080/",
     "height": 380
    },
    "id": "kCH1QJPqz-jG",
    "outputId": "aa6220d1-e998-4755-fb43-b661b1fad72e"
   },
   "outputs": [],
   "source": [
    "# 필요없는 컬럼 삭제\n",
    "df = df.drop(columns=['Unnamed: 0', 'stars', 'rating'], axis=1)\n",
    "df[:5]"
   ]
  },
  {
   "cell_type": "code",
   "execution_count": null,
   "metadata": {
    "colab": {
     "base_uri": "https://localhost:8080/"
    },
    "id": "McoTV3Fv0t--",
    "outputId": "1b632614-dfc6-4850-db81-1200575bf95a"
   },
   "outputs": [],
   "source": [
    "# null값 확인\n",
    "df.info()"
   ]
  },
  {
   "cell_type": "code",
   "execution_count": null,
   "metadata": {
    "colab": {
     "base_uri": "https://localhost:8080/",
     "height": 380
    },
    "id": "CfDjvHAi0xKd",
    "outputId": "244dec2e-c791-448a-c115-86f64173a1ef"
   },
   "outputs": [],
   "source": [
    "df = df.dropna()\n",
    "df[:5]"
   ]
  },
  {
   "cell_type": "code",
   "execution_count": null,
   "metadata": {
    "colab": {
     "base_uri": "https://localhost:8080/"
    },
    "id": "SV3Sa5SS028l",
    "outputId": "1d5b9cc2-53c4-4592-cfcb-7123d23eb350"
   },
   "outputs": [],
   "source": [
    "# 긍정 / 부정 분리\n",
    "positive_count = len(df[df['classification'] == '긍정'])\n",
    "negative_count = len(df[df['classification'] == '부정'])\n",
    "\n",
    "total_count = positive_count + negative_count\n",
    "\n",
    "# 비율 계산\n",
    "positive_ratio = (positive_count / total_count) * 100\n",
    "negative_ratio = (negative_count / total_count) * 100\n",
    "\n",
    "print(f\"긍정 개수: {positive_count}, 비율: {positive_ratio:.2f}%\")\n",
    "print(f\"부정 개수: {negative_count}, 비율: {negative_ratio:.2f}%\")"
   ]
  },
  {
   "cell_type": "code",
   "execution_count": null,
   "metadata": {
    "colab": {
     "base_uri": "https://localhost:8080/"
    },
    "id": "RTkwew5_06hV",
    "outputId": "2c36ba49-c5ed-4914-de1d-df8e7db6321b"
   },
   "outputs": [],
   "source": [
    "len(positive_list), len(negative_list)"
   ]
  },
  {
   "cell_type": "markdown",
   "metadata": {
    "id": "zYSEz3lm7wRQ"
   },
   "source": [
    "####  하이퍼파라미터 튜닝\n",
    "\n",
    "\n"
   ]
  },
  {
   "cell_type": "code",
   "execution_count": null,
   "metadata": {
    "id": "xPXGu_V07_Ai"
   },
   "outputs": [],
   "source": [
    "# 1. 필요한 라이브러리와 변수들 설정\n",
    "\n",
    "NUM_TOPICS = 10\n",
    "PASSES = 15"
   ]
  },
  {
   "cell_type": "code",
   "execution_count": null,
   "metadata": {
    "id": "NhJlAd1GsTfx"
   },
   "outputs": [],
   "source": [
    "import gensim"
   ]
  },
  {
   "cell_type": "code",
   "execution_count": null,
   "metadata": {
    "id": "lG-vbR-Hp-BP"
   },
   "outputs": [],
   "source": [
    "from gensim import corpora\n",
    "from gensim.models import LdaModel"
   ]
  },
  {
   "cell_type": "code",
   "execution_count": null,
   "metadata": {
    "id": "EYFV5Y-MoaDL"
   },
   "outputs": [],
   "source": [
    "# 2. LDA 모델링을 위한 함수 정의\n",
    "\n",
    "def lda_modeling(review_prep):\n",
    "    dictionary = corpora.Dictionary(review_prep)\n",
    "    corpus = [dictionary.doc2bow(review) for review in review_prep]\n",
    "    model = gensim.models.ldamodel.LdaModel(corpus, num_topics=NUM_TOPICS, id2word=dictionary, passes=PASSES)\n",
    "    return model, corpus, dictionary"
   ]
  },
  {
   "cell_type": "code",
   "execution_count": null,
   "metadata": {
    "id": "Q5UHRwUX2YgH"
   },
   "outputs": [],
   "source": [
    "\n",
    "# 3. 긍정 리뷰 데이터 추출\n",
    "\n",
    "review_prep_pos = df[df['classification'] == '긍정']['preprocess_review'].dropna().str.split().tolist()"
   ]
  },
  {
   "cell_type": "code",
   "execution_count": null,
   "metadata": {
    "id": "vLJ3jJvX2btY"
   },
   "outputs": [],
   "source": [
    "# 4. LDA 모델링 수행\n",
    "\n",
    "model, _, _ = lda_modeling(review_prep_pos)"
   ]
  },
  {
   "cell_type": "markdown",
   "metadata": {
    "id": "x_7bF_L14d6A"
   },
   "source": [
    "### 긍정 리뷰 토픽 모델링\n"
   ]
  },
  {
   "cell_type": "code",
   "execution_count": null,
   "metadata": {
    "colab": {
     "base_uri": "https://localhost:8080/"
    },
    "id": "272UO4rp2gnT",
    "outputId": "a856dd79-fd3c-4288-ceaa-38e275e92148"
   },
   "outputs": [],
   "source": [
    "# 5. 토픽별 주요 단어와 그 비율 출력\n",
    "NUM_WORDS = 10\n",
    "\n",
    "# 5. 토픽별 주요 단어와 그 비율 출력\n",
    "topics_pos = model.print_topics(num_words=NUM_WORDS)\n",
    "\n",
    "topics_output_pos = []\n",
    "for topic in topics_pos:\n",
    "    words_with_quotes = []\n",
    "    for word_prob in topic[1].split(' + '):\n",
    "        prob, word = word_prob.split('*')\n",
    "        word_with_quote = f'{prob}*\" {word.strip()} \"'\n",
    "        words_with_quotes.append(word_with_quote)\n",
    "    topic_str = \" + \".join(words_with_quotes)\n",
    "    topics_output_pos.append(topic_str)\n",
    "\n",
    "topics_output_pos"
   ]
  },
  {
   "cell_type": "markdown",
   "metadata": {
    "id": "92A67uAYo-Gq"
   },
   "source": [
    "### 시각화함수\n"
   ]
  },
  {
   "cell_type": "code",
   "execution_count": null,
   "metadata": {
    "colab": {
     "base_uri": "https://localhost:8080/"
    },
    "id": "KlK1JrG_JI9U",
    "outputId": "33bba6f7-1b38-45fa-9615-47f2206015df"
   },
   "outputs": [],
   "source": [
    "!pip install pyLDAvis"
   ]
  },
  {
   "cell_type": "code",
   "execution_count": null,
   "metadata": {
    "colab": {
     "base_uri": "https://localhost:8080/",
     "height": 917
    },
    "id": "4p5C7Kdv5SG0",
    "outputId": "ebdaa3ea-d7f6-42e2-e456-c00c8fbc3070"
   },
   "outputs": [],
   "source": [
    "# Retrieve the corpus and dictionary using the lda_modeling function\n",
    "model, corpus, dictionary = lda_modeling(review_prep_pos)\n",
    "\n",
    "# Prepare the visualization data\n",
    "vis_data = gensimvis.prepare(model, corpus, dictionary)\n",
    "\n",
    "# Display the visualization\n",
    "pyLDAvis.display(vis_data)"
   ]
  },
  {
   "cell_type": "code",
   "execution_count": null,
   "metadata": {
    "colab": {
     "base_uri": "https://localhost:8080/",
     "height": 917
    },
    "id": "OZDlhyzW5Eh-",
    "outputId": "3c1f4c00-d99c-433d-8261-f7572911db5d",
    "tags": []
   },
   "outputs": [],
   "source": [
    "import pyLDAvis\n",
    "import pyLDAvis.gensim_models as gensimvis\n",
    "\n",
    "# Prepare the visualization data\n",
    "vis_data = gensimvis.prepare(model, corpus, dictionary)\n",
    "\n",
    "# Display the visualization\n",
    "pyLDAvis.display(vis_data)"
   ]
  }
 ],
 "metadata": {
  "colab": {
   "authorship_tag": "ABX9TyPEYBVph0ZixUSYYzCB2GTR",
   "provenance": []
  },
  "kernelspec": {
   "display_name": "Python 3 (ipykernel)",
   "language": "python",
   "name": "python3"
  },
  "language_info": {
   "codemirror_mode": {
    "name": "ipython",
    "version": 3
   },
   "file_extension": ".py",
   "mimetype": "text/x-python",
   "name": "python",
   "nbconvert_exporter": "python",
   "pygments_lexer": "ipython3",
   "version": "3.11.3"
  }
 },
 "nbformat": 4,
 "nbformat_minor": 4
}
