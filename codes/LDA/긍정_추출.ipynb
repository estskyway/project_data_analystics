{
 "cells": [
  {
   "cell_type": "code",
   "execution_count": 1,
   "metadata": {
    "id": "k8UkZFtvy_qG"
   },
   "outputs": [],
   "source": [
    "# !pip install python-mecab-ko pyLDAvis"
   ]
  },
  {
   "cell_type": "code",
   "execution_count": 2,
   "metadata": {
    "id": "vBS9MsRQzKRN"
   },
   "outputs": [],
   "source": [
    "import pandas as pd"
   ]
  },
  {
   "cell_type": "code",
   "execution_count": 4,
   "metadata": {
    "colab": {
     "base_uri": "https://localhost:8080/",
     "height": 806
    },
    "collapsed": true,
    "id": "XhZ0nG3wzVks",
    "jupyter": {
     "outputs_hidden": true
    },
    "outputId": "552febd3-b5b2-4aee-ed31-0cba9ff6066b",
    "tags": []
   },
   "outputs": [
    {
     "data": {
      "text/html": [
       "<div>\n",
       "<style scoped>\n",
       "    .dataframe tbody tr th:only-of-type {\n",
       "        vertical-align: middle;\n",
       "    }\n",
       "\n",
       "    .dataframe tbody tr th {\n",
       "        vertical-align: top;\n",
       "    }\n",
       "\n",
       "    .dataframe thead th {\n",
       "        text-align: right;\n",
       "    }\n",
       "</style>\n",
       "<table border=\"1\" class=\"dataframe\">\n",
       "  <thead>\n",
       "    <tr style=\"text-align: right;\">\n",
       "      <th></th>\n",
       "      <th>Unnamed: 0</th>\n",
       "      <th>_id</th>\n",
       "      <th>name</th>\n",
       "      <th>reviews</th>\n",
       "      <th>stars</th>\n",
       "      <th>tokenized_review</th>\n",
       "      <th>replaced_review</th>\n",
       "      <th>preprocess_review</th>\n",
       "      <th>rating</th>\n",
       "      <th>classification</th>\n",
       "    </tr>\n",
       "  </thead>\n",
       "  <tbody>\n",
       "    <tr>\n",
       "      <th>0</th>\n",
       "      <td>0</td>\n",
       "      <td>651277e7ddb81e8e96c6bcbb</td>\n",
       "      <td>Google 사용자</td>\n",
       "      <td>입장방식은 변경됐는데 어플은 여전히 바코드만 보여집니다. 짐에서는 더이상 바코드스캔...</td>\n",
       "      <td>별표 5개 만점에 1개를 받았습니다.</td>\n",
       "      <td>입장 방식 은 변경 됐 는데 어 플 은 여전히 바코드 만 보여집니다 . 짐 에서 는...</td>\n",
       "      <td>입장 방식 은 수정 됐 는데 어 플 은 여전히 바코드 만 보여집니다 . 운동시설 에...</td>\n",
       "      <td>입장 방식 수정 돼다 여전하다 보이다 운동 시설 늘다 더 스캔 아니다 입장 바뀌다 ...</td>\n",
       "      <td>1.0</td>\n",
       "      <td>부정</td>\n",
       "    </tr>\n",
       "    <tr>\n",
       "      <th>1</th>\n",
       "      <td>1</td>\n",
       "      <td>651277e7ddb81e8e96c6bcbc</td>\n",
       "      <td>Google 사용자</td>\n",
       "      <td>정말 답답하네요 하나. GPS 100프로 신뢰하나요? 시설선택목록에서 안보임 4월말...</td>\n",
       "      <td>별표 5개 만점에 1개를 받았습니다.</td>\n",
       "      <td>정말 답답 하 네요 하나 . GPS 100 프로 신뢰 하 나요 ? 시설 선택 목록 ...</td>\n",
       "      <td>정말 답답 하 네요 하나 . GPS 100 프로 신뢰 하 나요 ? 시설 선택 목록 ...</td>\n",
       "      <td>답답 GPS 100 프로 신뢰 시설 선택 목록 보임 문제 은행 아니다 로그인 타임 ...</td>\n",
       "      <td>1.0</td>\n",
       "      <td>부정</td>\n",
       "    </tr>\n",
       "    <tr>\n",
       "      <th>2</th>\n",
       "      <td>2</td>\n",
       "      <td>651277e7ddb81e8e96c6bcbd</td>\n",
       "      <td>Google 사용자</td>\n",
       "      <td>입장하려다 시설검색이 안되서 결국 다른곳에 입장했습니다. 기존에 잘 쓰던 앱이 업데...</td>\n",
       "      <td>별표 5개 만점에 1개를 받았습니다.</td>\n",
       "      <td>입장 하 려다 시설 검색 이 안 되 서 결국 다른 곳 에 입장 했 습니다 . 기존 ...</td>\n",
       "      <td>입장 하 려다 시설 검색 이 안 되 서 결국 다른 곳 에 입장 했 습니다 . 기존 ...</td>\n",
       "      <td>입장 시설 검색 입장 기존 사이트 개선 로그인 위치 자동 검색 시설 수동 검색 입장...</td>\n",
       "      <td>1.0</td>\n",
       "      <td>부정</td>\n",
       "    </tr>\n",
       "    <tr>\n",
       "      <th>3</th>\n",
       "      <td>3</td>\n",
       "      <td>651277e7ddb81e8e96c6bcbe</td>\n",
       "      <td>한반도</td>\n",
       "      <td>평소 이동이 잦고 여러장소에서 운동하는걸 좋아하는 저에게는 합리적인 아이코젠이 정말...</td>\n",
       "      <td>별표 5개 만점에 5개를 받았습니다.</td>\n",
       "      <td>평소 이동 이 잦 고 여러 장소 에서 운동 하 는 걸 좋 아 하 는 저 에게 는 합...</td>\n",
       "      <td>평소 이동 이 잦 고 여러 장소 에서 운동 하 는 걸 좋 아 하 는 저 에게 는 합...</td>\n",
       "      <td>이동 잦다 여러 장소 운동 늘다 좋다 늘다 늘다 합리 코젠 제휴 업체 꾸준하다 추가...</td>\n",
       "      <td>5.0</td>\n",
       "      <td>긍정</td>\n",
       "    </tr>\n",
       "    <tr>\n",
       "      <th>4</th>\n",
       "      <td>4</td>\n",
       "      <td>651277e7ddb81e8e96c6bcbf</td>\n",
       "      <td>나수인</td>\n",
       "      <td>아이코젠 덕분에 운동이 더 즐겁고 꾸준하게 하게 되었어요. 사용기록이 꼼꼼히 남고 ...</td>\n",
       "      <td>별표 5개 만점에 5개를 받았습니다.</td>\n",
       "      <td>아이코 젠 덕분 에 운동 이 더 즐겁 고 꾸준 하 게 하 게 되 었 어요 . 사용 ...</td>\n",
       "      <td>아이코 젠 덕분 에 운동 이 더 즐겁 고 꾸준 하 게 하 게 되 었 어요 . 사용 ...</td>\n",
       "      <td>덕분 운동 더 즐겁다 꾸다 기록 꼼꼼하다 지점 많다 출장 본가 지속 쓸다 수 늘다 ...</td>\n",
       "      <td>5.0</td>\n",
       "      <td>긍정</td>\n",
       "    </tr>\n",
       "    <tr>\n",
       "      <th>...</th>\n",
       "      <td>...</td>\n",
       "      <td>...</td>\n",
       "      <td>...</td>\n",
       "      <td>...</td>\n",
       "      <td>...</td>\n",
       "      <td>...</td>\n",
       "      <td>...</td>\n",
       "      <td>...</td>\n",
       "      <td>...</td>\n",
       "      <td>...</td>\n",
       "    </tr>\n",
       "    <tr>\n",
       "      <th>2873</th>\n",
       "      <td>2873</td>\n",
       "      <td>651277e7ddb81e8e96c6c7f4</td>\n",
       "      <td>Google 사용자</td>\n",
       "      <td>좋아요</td>\n",
       "      <td>NaN</td>\n",
       "      <td>좋 아요</td>\n",
       "      <td>좋 아요</td>\n",
       "      <td>좋다</td>\n",
       "      <td>NaN</td>\n",
       "      <td>긍정</td>\n",
       "    </tr>\n",
       "    <tr>\n",
       "      <th>2874</th>\n",
       "      <td>2874</td>\n",
       "      <td>651277e7ddb81e8e96c6c7f5</td>\n",
       "      <td>Google 사용자</td>\n",
       "      <td>좋아용~!</td>\n",
       "      <td>NaN</td>\n",
       "      <td>좋 아용 ~!</td>\n",
       "      <td>좋 아용 ~!</td>\n",
       "      <td>좋다</td>\n",
       "      <td>NaN</td>\n",
       "      <td>긍정</td>\n",
       "    </tr>\n",
       "    <tr>\n",
       "      <th>2875</th>\n",
       "      <td>2875</td>\n",
       "      <td>651277e7ddb81e8e96c6c7f6</td>\n",
       "      <td>Google 사용자</td>\n",
       "      <td>좋아용</td>\n",
       "      <td>NaN</td>\n",
       "      <td>좋 아용</td>\n",
       "      <td>좋 아용</td>\n",
       "      <td>좋다</td>\n",
       "      <td>NaN</td>\n",
       "      <td>긍정</td>\n",
       "    </tr>\n",
       "    <tr>\n",
       "      <th>2876</th>\n",
       "      <td>2876</td>\n",
       "      <td>651277e7ddb81e8e96c6c7f7</td>\n",
       "      <td>Say Cheese</td>\n",
       "      <td>너무느려요</td>\n",
       "      <td>NaN</td>\n",
       "      <td>너무 느려요</td>\n",
       "      <td>너무 느려요</td>\n",
       "      <td>느리다</td>\n",
       "      <td>NaN</td>\n",
       "      <td>긍정</td>\n",
       "    </tr>\n",
       "    <tr>\n",
       "      <th>2877</th>\n",
       "      <td>2877</td>\n",
       "      <td>651277e7ddb81e8e96c6c7f8</td>\n",
       "      <td>Google 사용자</td>\n",
       "      <td>아주좋아여</td>\n",
       "      <td>NaN</td>\n",
       "      <td>아주 좋 아 여</td>\n",
       "      <td>아주 좋 아 여</td>\n",
       "      <td>좋다</td>\n",
       "      <td>NaN</td>\n",
       "      <td>긍정</td>\n",
       "    </tr>\n",
       "  </tbody>\n",
       "</table>\n",
       "<p>2878 rows × 10 columns</p>\n",
       "</div>"
      ],
      "text/plain": [
       "      Unnamed: 0                       _id        name  \\\n",
       "0              0  651277e7ddb81e8e96c6bcbb  Google 사용자   \n",
       "1              1  651277e7ddb81e8e96c6bcbc  Google 사용자   \n",
       "2              2  651277e7ddb81e8e96c6bcbd  Google 사용자   \n",
       "3              3  651277e7ddb81e8e96c6bcbe         한반도   \n",
       "4              4  651277e7ddb81e8e96c6bcbf         나수인   \n",
       "...          ...                       ...         ...   \n",
       "2873        2873  651277e7ddb81e8e96c6c7f4  Google 사용자   \n",
       "2874        2874  651277e7ddb81e8e96c6c7f5  Google 사용자   \n",
       "2875        2875  651277e7ddb81e8e96c6c7f6  Google 사용자   \n",
       "2876        2876  651277e7ddb81e8e96c6c7f7  Say Cheese   \n",
       "2877        2877  651277e7ddb81e8e96c6c7f8  Google 사용자   \n",
       "\n",
       "                                                reviews                 stars  \\\n",
       "0     입장방식은 변경됐는데 어플은 여전히 바코드만 보여집니다. 짐에서는 더이상 바코드스캔...  별표 5개 만점에 1개를 받았습니다.   \n",
       "1     정말 답답하네요 하나. GPS 100프로 신뢰하나요? 시설선택목록에서 안보임 4월말...  별표 5개 만점에 1개를 받았습니다.   \n",
       "2     입장하려다 시설검색이 안되서 결국 다른곳에 입장했습니다. 기존에 잘 쓰던 앱이 업데...  별표 5개 만점에 1개를 받았습니다.   \n",
       "3     평소 이동이 잦고 여러장소에서 운동하는걸 좋아하는 저에게는 합리적인 아이코젠이 정말...  별표 5개 만점에 5개를 받았습니다.   \n",
       "4     아이코젠 덕분에 운동이 더 즐겁고 꾸준하게 하게 되었어요. 사용기록이 꼼꼼히 남고 ...  별표 5개 만점에 5개를 받았습니다.   \n",
       "...                                                 ...                   ...   \n",
       "2873                                                좋아요                   NaN   \n",
       "2874                                              좋아용~!                   NaN   \n",
       "2875                                                좋아용                   NaN   \n",
       "2876                                              너무느려요                   NaN   \n",
       "2877                                              아주좋아여                   NaN   \n",
       "\n",
       "                                       tokenized_review  \\\n",
       "0     입장 방식 은 변경 됐 는데 어 플 은 여전히 바코드 만 보여집니다 . 짐 에서 는...   \n",
       "1     정말 답답 하 네요 하나 . GPS 100 프로 신뢰 하 나요 ? 시설 선택 목록 ...   \n",
       "2     입장 하 려다 시설 검색 이 안 되 서 결국 다른 곳 에 입장 했 습니다 . 기존 ...   \n",
       "3     평소 이동 이 잦 고 여러 장소 에서 운동 하 는 걸 좋 아 하 는 저 에게 는 합...   \n",
       "4     아이코 젠 덕분 에 운동 이 더 즐겁 고 꾸준 하 게 하 게 되 었 어요 . 사용 ...   \n",
       "...                                                 ...   \n",
       "2873                                               좋 아요   \n",
       "2874                                            좋 아용 ~!   \n",
       "2875                                               좋 아용   \n",
       "2876                                             너무 느려요   \n",
       "2877                                           아주 좋 아 여   \n",
       "\n",
       "                                        replaced_review  \\\n",
       "0     입장 방식 은 수정 됐 는데 어 플 은 여전히 바코드 만 보여집니다 . 운동시설 에...   \n",
       "1     정말 답답 하 네요 하나 . GPS 100 프로 신뢰 하 나요 ? 시설 선택 목록 ...   \n",
       "2     입장 하 려다 시설 검색 이 안 되 서 결국 다른 곳 에 입장 했 습니다 . 기존 ...   \n",
       "3     평소 이동 이 잦 고 여러 장소 에서 운동 하 는 걸 좋 아 하 는 저 에게 는 합...   \n",
       "4     아이코 젠 덕분 에 운동 이 더 즐겁 고 꾸준 하 게 하 게 되 었 어요 . 사용 ...   \n",
       "...                                                 ...   \n",
       "2873                                               좋 아요   \n",
       "2874                                            좋 아용 ~!   \n",
       "2875                                               좋 아용   \n",
       "2876                                             너무 느려요   \n",
       "2877                                           아주 좋 아 여   \n",
       "\n",
       "                                      preprocess_review  rating classification  \n",
       "0     입장 방식 수정 돼다 여전하다 보이다 운동 시설 늘다 더 스캔 아니다 입장 바뀌다 ...     1.0             부정  \n",
       "1     답답 GPS 100 프로 신뢰 시설 선택 목록 보임 문제 은행 아니다 로그인 타임 ...     1.0             부정  \n",
       "2     입장 시설 검색 입장 기존 사이트 개선 로그인 위치 자동 검색 시설 수동 검색 입장...     1.0             부정  \n",
       "3     이동 잦다 여러 장소 운동 늘다 좋다 늘다 늘다 합리 코젠 제휴 업체 꾸준하다 추가...     5.0             긍정  \n",
       "4     덕분 운동 더 즐겁다 꾸다 기록 꼼꼼하다 지점 많다 출장 본가 지속 쓸다 수 늘다 ...     5.0             긍정  \n",
       "...                                                 ...     ...            ...  \n",
       "2873                                                 좋다     NaN             긍정  \n",
       "2874                                                 좋다     NaN             긍정  \n",
       "2875                                                 좋다     NaN             긍정  \n",
       "2876                                                느리다     NaN             긍정  \n",
       "2877                                                 좋다     NaN             긍정  \n",
       "\n",
       "[2878 rows x 10 columns]"
      ]
     },
     "execution_count": 4,
     "metadata": {},
     "output_type": "execute_result"
    }
   ],
   "source": [
    "df = pd.read_csv('../../datasets/total_data.csv')\n",
    "df"
   ]
  },
  {
   "cell_type": "code",
   "execution_count": 5,
   "metadata": {
    "colab": {
     "base_uri": "https://localhost:8080/",
     "height": 380
    },
    "collapsed": true,
    "id": "kCH1QJPqz-jG",
    "jupyter": {
     "outputs_hidden": true
    },
    "outputId": "aa6220d1-e998-4755-fb43-b661b1fad72e",
    "tags": []
   },
   "outputs": [
    {
     "data": {
      "text/html": [
       "<div>\n",
       "<style scoped>\n",
       "    .dataframe tbody tr th:only-of-type {\n",
       "        vertical-align: middle;\n",
       "    }\n",
       "\n",
       "    .dataframe tbody tr th {\n",
       "        vertical-align: top;\n",
       "    }\n",
       "\n",
       "    .dataframe thead th {\n",
       "        text-align: right;\n",
       "    }\n",
       "</style>\n",
       "<table border=\"1\" class=\"dataframe\">\n",
       "  <thead>\n",
       "    <tr style=\"text-align: right;\">\n",
       "      <th></th>\n",
       "      <th>_id</th>\n",
       "      <th>name</th>\n",
       "      <th>reviews</th>\n",
       "      <th>tokenized_review</th>\n",
       "      <th>replaced_review</th>\n",
       "      <th>preprocess_review</th>\n",
       "      <th>classification</th>\n",
       "    </tr>\n",
       "  </thead>\n",
       "  <tbody>\n",
       "    <tr>\n",
       "      <th>0</th>\n",
       "      <td>651277e7ddb81e8e96c6bcbb</td>\n",
       "      <td>Google 사용자</td>\n",
       "      <td>입장방식은 변경됐는데 어플은 여전히 바코드만 보여집니다. 짐에서는 더이상 바코드스캔...</td>\n",
       "      <td>입장 방식 은 변경 됐 는데 어 플 은 여전히 바코드 만 보여집니다 . 짐 에서 는...</td>\n",
       "      <td>입장 방식 은 수정 됐 는데 어 플 은 여전히 바코드 만 보여집니다 . 운동시설 에...</td>\n",
       "      <td>입장 방식 수정 돼다 여전하다 보이다 운동 시설 늘다 더 스캔 아니다 입장 바뀌다 ...</td>\n",
       "      <td>부정</td>\n",
       "    </tr>\n",
       "    <tr>\n",
       "      <th>1</th>\n",
       "      <td>651277e7ddb81e8e96c6bcbc</td>\n",
       "      <td>Google 사용자</td>\n",
       "      <td>정말 답답하네요 하나. GPS 100프로 신뢰하나요? 시설선택목록에서 안보임 4월말...</td>\n",
       "      <td>정말 답답 하 네요 하나 . GPS 100 프로 신뢰 하 나요 ? 시설 선택 목록 ...</td>\n",
       "      <td>정말 답답 하 네요 하나 . GPS 100 프로 신뢰 하 나요 ? 시설 선택 목록 ...</td>\n",
       "      <td>답답 GPS 100 프로 신뢰 시설 선택 목록 보임 문제 은행 아니다 로그인 타임 ...</td>\n",
       "      <td>부정</td>\n",
       "    </tr>\n",
       "    <tr>\n",
       "      <th>2</th>\n",
       "      <td>651277e7ddb81e8e96c6bcbd</td>\n",
       "      <td>Google 사용자</td>\n",
       "      <td>입장하려다 시설검색이 안되서 결국 다른곳에 입장했습니다. 기존에 잘 쓰던 앱이 업데...</td>\n",
       "      <td>입장 하 려다 시설 검색 이 안 되 서 결국 다른 곳 에 입장 했 습니다 . 기존 ...</td>\n",
       "      <td>입장 하 려다 시설 검색 이 안 되 서 결국 다른 곳 에 입장 했 습니다 . 기존 ...</td>\n",
       "      <td>입장 시설 검색 입장 기존 사이트 개선 로그인 위치 자동 검색 시설 수동 검색 입장...</td>\n",
       "      <td>부정</td>\n",
       "    </tr>\n",
       "    <tr>\n",
       "      <th>3</th>\n",
       "      <td>651277e7ddb81e8e96c6bcbe</td>\n",
       "      <td>한반도</td>\n",
       "      <td>평소 이동이 잦고 여러장소에서 운동하는걸 좋아하는 저에게는 합리적인 아이코젠이 정말...</td>\n",
       "      <td>평소 이동 이 잦 고 여러 장소 에서 운동 하 는 걸 좋 아 하 는 저 에게 는 합...</td>\n",
       "      <td>평소 이동 이 잦 고 여러 장소 에서 운동 하 는 걸 좋 아 하 는 저 에게 는 합...</td>\n",
       "      <td>이동 잦다 여러 장소 운동 늘다 좋다 늘다 늘다 합리 코젠 제휴 업체 꾸준하다 추가...</td>\n",
       "      <td>긍정</td>\n",
       "    </tr>\n",
       "    <tr>\n",
       "      <th>4</th>\n",
       "      <td>651277e7ddb81e8e96c6bcbf</td>\n",
       "      <td>나수인</td>\n",
       "      <td>아이코젠 덕분에 운동이 더 즐겁고 꾸준하게 하게 되었어요. 사용기록이 꼼꼼히 남고 ...</td>\n",
       "      <td>아이코 젠 덕분 에 운동 이 더 즐겁 고 꾸준 하 게 하 게 되 었 어요 . 사용 ...</td>\n",
       "      <td>아이코 젠 덕분 에 운동 이 더 즐겁 고 꾸준 하 게 하 게 되 었 어요 . 사용 ...</td>\n",
       "      <td>덕분 운동 더 즐겁다 꾸다 기록 꼼꼼하다 지점 많다 출장 본가 지속 쓸다 수 늘다 ...</td>\n",
       "      <td>긍정</td>\n",
       "    </tr>\n",
       "  </tbody>\n",
       "</table>\n",
       "</div>"
      ],
      "text/plain": [
       "                        _id        name  \\\n",
       "0  651277e7ddb81e8e96c6bcbb  Google 사용자   \n",
       "1  651277e7ddb81e8e96c6bcbc  Google 사용자   \n",
       "2  651277e7ddb81e8e96c6bcbd  Google 사용자   \n",
       "3  651277e7ddb81e8e96c6bcbe         한반도   \n",
       "4  651277e7ddb81e8e96c6bcbf         나수인   \n",
       "\n",
       "                                             reviews  \\\n",
       "0  입장방식은 변경됐는데 어플은 여전히 바코드만 보여집니다. 짐에서는 더이상 바코드스캔...   \n",
       "1  정말 답답하네요 하나. GPS 100프로 신뢰하나요? 시설선택목록에서 안보임 4월말...   \n",
       "2  입장하려다 시설검색이 안되서 결국 다른곳에 입장했습니다. 기존에 잘 쓰던 앱이 업데...   \n",
       "3  평소 이동이 잦고 여러장소에서 운동하는걸 좋아하는 저에게는 합리적인 아이코젠이 정말...   \n",
       "4  아이코젠 덕분에 운동이 더 즐겁고 꾸준하게 하게 되었어요. 사용기록이 꼼꼼히 남고 ...   \n",
       "\n",
       "                                    tokenized_review  \\\n",
       "0  입장 방식 은 변경 됐 는데 어 플 은 여전히 바코드 만 보여집니다 . 짐 에서 는...   \n",
       "1  정말 답답 하 네요 하나 . GPS 100 프로 신뢰 하 나요 ? 시설 선택 목록 ...   \n",
       "2  입장 하 려다 시설 검색 이 안 되 서 결국 다른 곳 에 입장 했 습니다 . 기존 ...   \n",
       "3  평소 이동 이 잦 고 여러 장소 에서 운동 하 는 걸 좋 아 하 는 저 에게 는 합...   \n",
       "4  아이코 젠 덕분 에 운동 이 더 즐겁 고 꾸준 하 게 하 게 되 었 어요 . 사용 ...   \n",
       "\n",
       "                                     replaced_review  \\\n",
       "0  입장 방식 은 수정 됐 는데 어 플 은 여전히 바코드 만 보여집니다 . 운동시설 에...   \n",
       "1  정말 답답 하 네요 하나 . GPS 100 프로 신뢰 하 나요 ? 시설 선택 목록 ...   \n",
       "2  입장 하 려다 시설 검색 이 안 되 서 결국 다른 곳 에 입장 했 습니다 . 기존 ...   \n",
       "3  평소 이동 이 잦 고 여러 장소 에서 운동 하 는 걸 좋 아 하 는 저 에게 는 합...   \n",
       "4  아이코 젠 덕분 에 운동 이 더 즐겁 고 꾸준 하 게 하 게 되 었 어요 . 사용 ...   \n",
       "\n",
       "                                   preprocess_review classification  \n",
       "0  입장 방식 수정 돼다 여전하다 보이다 운동 시설 늘다 더 스캔 아니다 입장 바뀌다 ...             부정  \n",
       "1  답답 GPS 100 프로 신뢰 시설 선택 목록 보임 문제 은행 아니다 로그인 타임 ...             부정  \n",
       "2  입장 시설 검색 입장 기존 사이트 개선 로그인 위치 자동 검색 시설 수동 검색 입장...             부정  \n",
       "3  이동 잦다 여러 장소 운동 늘다 좋다 늘다 늘다 합리 코젠 제휴 업체 꾸준하다 추가...             긍정  \n",
       "4  덕분 운동 더 즐겁다 꾸다 기록 꼼꼼하다 지점 많다 출장 본가 지속 쓸다 수 늘다 ...             긍정  "
      ]
     },
     "execution_count": 5,
     "metadata": {},
     "output_type": "execute_result"
    }
   ],
   "source": [
    "# 필요없는 컬럼 삭제\n",
    "df = df.drop(columns=['Unnamed: 0', 'stars', 'rating'], axis=1)\n",
    "df[:5]"
   ]
  },
  {
   "cell_type": "code",
   "execution_count": 6,
   "metadata": {
    "colab": {
     "base_uri": "https://localhost:8080/"
    },
    "id": "McoTV3Fv0t--",
    "outputId": "1b632614-dfc6-4850-db81-1200575bf95a"
   },
   "outputs": [
    {
     "name": "stdout",
     "output_type": "stream",
     "text": [
      "<class 'pandas.core.frame.DataFrame'>\n",
      "RangeIndex: 2878 entries, 0 to 2877\n",
      "Data columns (total 7 columns):\n",
      " #   Column             Non-Null Count  Dtype \n",
      "---  ------             --------------  ----- \n",
      " 0   _id                2878 non-null   object\n",
      " 1   name               2878 non-null   object\n",
      " 2   reviews            2878 non-null   object\n",
      " 3   tokenized_review   2878 non-null   object\n",
      " 4   replaced_review    2878 non-null   object\n",
      " 5   preprocess_review  2823 non-null   object\n",
      " 6   classification     2878 non-null   object\n",
      "dtypes: object(7)\n",
      "memory usage: 157.5+ KB\n"
     ]
    }
   ],
   "source": [
    "# null값 확인\n",
    "df.info()"
   ]
  },
  {
   "cell_type": "code",
   "execution_count": 7,
   "metadata": {
    "colab": {
     "base_uri": "https://localhost:8080/",
     "height": 380
    },
    "collapsed": true,
    "id": "CfDjvHAi0xKd",
    "jupyter": {
     "outputs_hidden": true
    },
    "outputId": "244dec2e-c791-448a-c115-86f64173a1ef",
    "tags": []
   },
   "outputs": [
    {
     "data": {
      "text/html": [
       "<div>\n",
       "<style scoped>\n",
       "    .dataframe tbody tr th:only-of-type {\n",
       "        vertical-align: middle;\n",
       "    }\n",
       "\n",
       "    .dataframe tbody tr th {\n",
       "        vertical-align: top;\n",
       "    }\n",
       "\n",
       "    .dataframe thead th {\n",
       "        text-align: right;\n",
       "    }\n",
       "</style>\n",
       "<table border=\"1\" class=\"dataframe\">\n",
       "  <thead>\n",
       "    <tr style=\"text-align: right;\">\n",
       "      <th></th>\n",
       "      <th>_id</th>\n",
       "      <th>name</th>\n",
       "      <th>reviews</th>\n",
       "      <th>tokenized_review</th>\n",
       "      <th>replaced_review</th>\n",
       "      <th>preprocess_review</th>\n",
       "      <th>classification</th>\n",
       "    </tr>\n",
       "  </thead>\n",
       "  <tbody>\n",
       "    <tr>\n",
       "      <th>0</th>\n",
       "      <td>651277e7ddb81e8e96c6bcbb</td>\n",
       "      <td>Google 사용자</td>\n",
       "      <td>입장방식은 변경됐는데 어플은 여전히 바코드만 보여집니다. 짐에서는 더이상 바코드스캔...</td>\n",
       "      <td>입장 방식 은 변경 됐 는데 어 플 은 여전히 바코드 만 보여집니다 . 짐 에서 는...</td>\n",
       "      <td>입장 방식 은 수정 됐 는데 어 플 은 여전히 바코드 만 보여집니다 . 운동시설 에...</td>\n",
       "      <td>입장 방식 수정 돼다 여전하다 보이다 운동 시설 늘다 더 스캔 아니다 입장 바뀌다 ...</td>\n",
       "      <td>부정</td>\n",
       "    </tr>\n",
       "    <tr>\n",
       "      <th>1</th>\n",
       "      <td>651277e7ddb81e8e96c6bcbc</td>\n",
       "      <td>Google 사용자</td>\n",
       "      <td>정말 답답하네요 하나. GPS 100프로 신뢰하나요? 시설선택목록에서 안보임 4월말...</td>\n",
       "      <td>정말 답답 하 네요 하나 . GPS 100 프로 신뢰 하 나요 ? 시설 선택 목록 ...</td>\n",
       "      <td>정말 답답 하 네요 하나 . GPS 100 프로 신뢰 하 나요 ? 시설 선택 목록 ...</td>\n",
       "      <td>답답 GPS 100 프로 신뢰 시설 선택 목록 보임 문제 은행 아니다 로그인 타임 ...</td>\n",
       "      <td>부정</td>\n",
       "    </tr>\n",
       "    <tr>\n",
       "      <th>2</th>\n",
       "      <td>651277e7ddb81e8e96c6bcbd</td>\n",
       "      <td>Google 사용자</td>\n",
       "      <td>입장하려다 시설검색이 안되서 결국 다른곳에 입장했습니다. 기존에 잘 쓰던 앱이 업데...</td>\n",
       "      <td>입장 하 려다 시설 검색 이 안 되 서 결국 다른 곳 에 입장 했 습니다 . 기존 ...</td>\n",
       "      <td>입장 하 려다 시설 검색 이 안 되 서 결국 다른 곳 에 입장 했 습니다 . 기존 ...</td>\n",
       "      <td>입장 시설 검색 입장 기존 사이트 개선 로그인 위치 자동 검색 시설 수동 검색 입장...</td>\n",
       "      <td>부정</td>\n",
       "    </tr>\n",
       "    <tr>\n",
       "      <th>3</th>\n",
       "      <td>651277e7ddb81e8e96c6bcbe</td>\n",
       "      <td>한반도</td>\n",
       "      <td>평소 이동이 잦고 여러장소에서 운동하는걸 좋아하는 저에게는 합리적인 아이코젠이 정말...</td>\n",
       "      <td>평소 이동 이 잦 고 여러 장소 에서 운동 하 는 걸 좋 아 하 는 저 에게 는 합...</td>\n",
       "      <td>평소 이동 이 잦 고 여러 장소 에서 운동 하 는 걸 좋 아 하 는 저 에게 는 합...</td>\n",
       "      <td>이동 잦다 여러 장소 운동 늘다 좋다 늘다 늘다 합리 코젠 제휴 업체 꾸준하다 추가...</td>\n",
       "      <td>긍정</td>\n",
       "    </tr>\n",
       "    <tr>\n",
       "      <th>4</th>\n",
       "      <td>651277e7ddb81e8e96c6bcbf</td>\n",
       "      <td>나수인</td>\n",
       "      <td>아이코젠 덕분에 운동이 더 즐겁고 꾸준하게 하게 되었어요. 사용기록이 꼼꼼히 남고 ...</td>\n",
       "      <td>아이코 젠 덕분 에 운동 이 더 즐겁 고 꾸준 하 게 하 게 되 었 어요 . 사용 ...</td>\n",
       "      <td>아이코 젠 덕분 에 운동 이 더 즐겁 고 꾸준 하 게 하 게 되 었 어요 . 사용 ...</td>\n",
       "      <td>덕분 운동 더 즐겁다 꾸다 기록 꼼꼼하다 지점 많다 출장 본가 지속 쓸다 수 늘다 ...</td>\n",
       "      <td>긍정</td>\n",
       "    </tr>\n",
       "  </tbody>\n",
       "</table>\n",
       "</div>"
      ],
      "text/plain": [
       "                        _id        name  \\\n",
       "0  651277e7ddb81e8e96c6bcbb  Google 사용자   \n",
       "1  651277e7ddb81e8e96c6bcbc  Google 사용자   \n",
       "2  651277e7ddb81e8e96c6bcbd  Google 사용자   \n",
       "3  651277e7ddb81e8e96c6bcbe         한반도   \n",
       "4  651277e7ddb81e8e96c6bcbf         나수인   \n",
       "\n",
       "                                             reviews  \\\n",
       "0  입장방식은 변경됐는데 어플은 여전히 바코드만 보여집니다. 짐에서는 더이상 바코드스캔...   \n",
       "1  정말 답답하네요 하나. GPS 100프로 신뢰하나요? 시설선택목록에서 안보임 4월말...   \n",
       "2  입장하려다 시설검색이 안되서 결국 다른곳에 입장했습니다. 기존에 잘 쓰던 앱이 업데...   \n",
       "3  평소 이동이 잦고 여러장소에서 운동하는걸 좋아하는 저에게는 합리적인 아이코젠이 정말...   \n",
       "4  아이코젠 덕분에 운동이 더 즐겁고 꾸준하게 하게 되었어요. 사용기록이 꼼꼼히 남고 ...   \n",
       "\n",
       "                                    tokenized_review  \\\n",
       "0  입장 방식 은 변경 됐 는데 어 플 은 여전히 바코드 만 보여집니다 . 짐 에서 는...   \n",
       "1  정말 답답 하 네요 하나 . GPS 100 프로 신뢰 하 나요 ? 시설 선택 목록 ...   \n",
       "2  입장 하 려다 시설 검색 이 안 되 서 결국 다른 곳 에 입장 했 습니다 . 기존 ...   \n",
       "3  평소 이동 이 잦 고 여러 장소 에서 운동 하 는 걸 좋 아 하 는 저 에게 는 합...   \n",
       "4  아이코 젠 덕분 에 운동 이 더 즐겁 고 꾸준 하 게 하 게 되 었 어요 . 사용 ...   \n",
       "\n",
       "                                     replaced_review  \\\n",
       "0  입장 방식 은 수정 됐 는데 어 플 은 여전히 바코드 만 보여집니다 . 운동시설 에...   \n",
       "1  정말 답답 하 네요 하나 . GPS 100 프로 신뢰 하 나요 ? 시설 선택 목록 ...   \n",
       "2  입장 하 려다 시설 검색 이 안 되 서 결국 다른 곳 에 입장 했 습니다 . 기존 ...   \n",
       "3  평소 이동 이 잦 고 여러 장소 에서 운동 하 는 걸 좋 아 하 는 저 에게 는 합...   \n",
       "4  아이코 젠 덕분 에 운동 이 더 즐겁 고 꾸준 하 게 하 게 되 었 어요 . 사용 ...   \n",
       "\n",
       "                                   preprocess_review classification  \n",
       "0  입장 방식 수정 돼다 여전하다 보이다 운동 시설 늘다 더 스캔 아니다 입장 바뀌다 ...             부정  \n",
       "1  답답 GPS 100 프로 신뢰 시설 선택 목록 보임 문제 은행 아니다 로그인 타임 ...             부정  \n",
       "2  입장 시설 검색 입장 기존 사이트 개선 로그인 위치 자동 검색 시설 수동 검색 입장...             부정  \n",
       "3  이동 잦다 여러 장소 운동 늘다 좋다 늘다 늘다 합리 코젠 제휴 업체 꾸준하다 추가...             긍정  \n",
       "4  덕분 운동 더 즐겁다 꾸다 기록 꼼꼼하다 지점 많다 출장 본가 지속 쓸다 수 늘다 ...             긍정  "
      ]
     },
     "execution_count": 7,
     "metadata": {},
     "output_type": "execute_result"
    }
   ],
   "source": [
    "df = df.dropna()\n",
    "df[:5]"
   ]
  },
  {
   "cell_type": "code",
   "execution_count": 8,
   "metadata": {
    "colab": {
     "base_uri": "https://localhost:8080/"
    },
    "id": "SV3Sa5SS028l",
    "outputId": "1d5b9cc2-53c4-4592-cfcb-7123d23eb350"
   },
   "outputs": [
    {
     "name": "stdout",
     "output_type": "stream",
     "text": [
      "긍정 개수: 2194, 비율: 77.72%\n",
      "부정 개수: 629, 비율: 22.28%\n"
     ]
    }
   ],
   "source": [
    "# 긍정 / 부정 분리\n",
    "positive_count = len(df[df['classification'] == '긍정'])\n",
    "negative_count = len(df[df['classification'] == '부정'])\n",
    "\n",
    "total_count = positive_count + negative_count\n",
    "\n",
    "# 비율 계산\n",
    "positive_ratio = (positive_count / total_count) * 100\n",
    "negative_ratio = (negative_count / total_count) * 100\n",
    "\n",
    "print(f\"긍정 개수: {positive_count}, 비율: {positive_ratio:.2f}%\")\n",
    "print(f\"부정 개수: {negative_count}, 비율: {negative_ratio:.2f}%\")"
   ]
  },
  {
   "cell_type": "markdown",
   "metadata": {
    "id": "zYSEz3lm7wRQ"
   },
   "source": [
    "####  하이퍼파라미터 튜닝\n",
    "\n"
   ]
  },
  {
   "cell_type": "code",
   "execution_count": 11,
   "metadata": {
    "id": "xPXGu_V07_Ai"
   },
   "outputs": [],
   "source": [
    "# 1. 필요한 라이브러리와 변수들 설정\n",
    "\n",
    "NUM_TOPICS = 10\n",
    "PASSES = 15"
   ]
  },
  {
   "cell_type": "code",
   "execution_count": 12,
   "metadata": {
    "id": "NhJlAd1GsTfx"
   },
   "outputs": [],
   "source": [
    "import gensim"
   ]
  },
  {
   "cell_type": "code",
   "execution_count": 13,
   "metadata": {
    "id": "lG-vbR-Hp-BP"
   },
   "outputs": [],
   "source": [
    "from gensim import corpora\n",
    "from gensim.models import LdaModel"
   ]
  },
  {
   "cell_type": "code",
   "execution_count": 15,
   "metadata": {
    "id": "EYFV5Y-MoaDL"
   },
   "outputs": [],
   "source": [
    "# 2. LDA 모델링을 위한 함수 정의\n",
    "\n",
    "def lda_modeling(review_prep):\n",
    "    dictionary = corpora.Dictionary(review_prep)\n",
    "    corpus = [dictionary.doc2bow(review) for review in review_prep]\n",
    "    model = gensim.models.ldamodel.LdaModel(corpus, num_topics=NUM_TOPICS, id2word=dictionary, passes=PASSES)\n",
    "    return model, corpus, dictionary"
   ]
  },
  {
   "cell_type": "code",
   "execution_count": 16,
   "metadata": {
    "id": "Q5UHRwUX2YgH"
   },
   "outputs": [],
   "source": [
    "\n",
    "# 3. 긍정 리뷰 데이터 추출\n",
    "\n",
    "review_prep_pos = df[df['classification'] == '긍정']['preprocess_review'].dropna().str.split().tolist()"
   ]
  },
  {
   "cell_type": "code",
   "execution_count": 17,
   "metadata": {
    "id": "vLJ3jJvX2btY"
   },
   "outputs": [],
   "source": [
    "# 4. LDA 모델링 수행\n",
    "\n",
    "model, _, _ = lda_modeling(review_prep_pos)"
   ]
  },
  {
   "cell_type": "markdown",
   "metadata": {
    "id": "x_7bF_L14d6A"
   },
   "source": [
    "### 긍정 리뷰 토픽 모델링\n"
   ]
  },
  {
   "cell_type": "code",
   "execution_count": 18,
   "metadata": {
    "colab": {
     "base_uri": "https://localhost:8080/"
    },
    "id": "272UO4rp2gnT",
    "outputId": "a856dd79-fd3c-4288-ceaa-38e275e92148"
   },
   "outputs": [
    {
     "data": {
      "text/plain": [
       "['0.099*\" \"좋다\" \" + 0.068*\" \"수\" \" + 0.052*\" \"늘다\" \" + 0.030*\" \"사이트\" \" + 0.030*\" \"헬스\" \" + 0.023*\" \"알\" \" + 0.022*\" \"트레이너\" \" + 0.019*\" \"운동\" \" + 0.018*\" \"정보\" \" + 0.016*\" \"PT\" \"',\n",
       " '0.064*\" \"설치\" \" + 0.047*\" \"써다\" \" + 0.047*\" \"계속\" \" + 0.034*\" \"대다\" \" + 0.033*\" \"지방\" \" + 0.022*\" \"네트워크\" \" + 0.022*\" \"단위\" \" + 0.020*\" \"좋다\" \" + 0.019*\" \"자동\" \" + 0.017*\" \"째다\" \"',\n",
       " '0.084*\" \"좋다\" \" + 0.040*\" \"많다\" \" + 0.036*\" \"트레이닝\" \" + 0.035*\" \"퍼스\" \" + 0.035*\" \"늘다\" \" + 0.025*\" \"가격\" \" + 0.024*\" \"수\" \" + 0.023*\" \"더\" \" + 0.022*\" \"최고\" \" + 0.020*\" \"헬스\" \"',\n",
       " '0.099*\" \"운동\" \" + 0.085*\" \"좋다\" \" + 0.081*\" \"시설\" \" + 0.036*\" \"늘다\" \" + 0.024*\" \"편리\" \" + 0.023*\" \"많다\" \" + 0.022*\" \"기구\" \" + 0.022*\" \"헬스\" \" + 0.017*\" \"수\" \" + 0.016*\" \"끄다\" \"',\n",
       " '0.078*\" \"없다\" \" + 0.062*\" \"늘다\" \" + 0.050*\" \"감사\" \" + 0.030*\" \"10\" \" + 0.026*\" \"무료\" \" + 0.020*\" \"수\" \" + 0.020*\" \"경험\" \" + 0.018*\" \"번호\" \" + 0.017*\" \"여러\" \" + 0.015*\" \"신세계\" \"',\n",
       " '0.078*\" \"개선\" \" + 0.044*\" \"늘다\" \" + 0.040*\" \"사이트\" \" + 0.035*\" \"요구\" \" + 0.027*\" \"드리다\" \" + 0.025*\" \"결제\" \" + 0.022*\" \"차다\" \" + 0.022*\" \"불편\" \" + 0.019*\" \"가능\" \" + 0.019*\" \"새롭다\" \"',\n",
       " '0.070*\" \"늘다\" \" + 0.038*\" \"없다\" \" + 0.025*\" \"권한\" \" + 0.022*\" \"카메라\" \" + 0.019*\" \"개선\" \" + 0.018*\" \"사이트\" \" + 0.018*\" \"필요\" \" + 0.018*\" \"아니다\" \" + 0.016*\" \"수\" \" + 0.016*\" \"오류\" \"',\n",
       " '0.051*\" \"예약\" \" + 0.043*\" \"굳다\" \" + 0.039*\" \"없다\" \" + 0.035*\" \"검색\" \" + 0.030*\" \"쿠폰\" \" + 0.025*\" \"찾다\" \" + 0.022*\" \"사이트\" \" + 0.020*\" \"정보\" \" + 0.018*\" \"방법\" \" + 0.016*\" \"보내다\" \"',\n",
       " '0.269*\" \"좋다\" \" + 0.033*\" \"찾다\" \" + 0.022*\" \"늘다\" \" + 0.022*\" \"하트\" \" + 0.018*\" \"가격\" \" + 0.018*\" \"헬스\" \" + 0.015*\" \"동네\" \" + 0.015*\" \"화이팅\" \" + 0.014*\" \"강사\" \" + 0.014*\" \"PT\" \"',\n",
       " '0.080*\" \"편하다\" \" + 0.072*\" \"좋다\" \" + 0.072*\" \"회원\" \" + 0.054*\" \"유용\" \" + 0.050*\" \"사이트\" \" + 0.031*\" \"쓸다\" \" + 0.025*\" \"가입\" \" + 0.022*\" \"운동\" \" + 0.021*\" \"오류\" \" + 0.018*\" \"개선\" \"']"
      ]
     },
     "execution_count": 18,
     "metadata": {},
     "output_type": "execute_result"
    }
   ],
   "source": [
    "# 5. 토픽별 주요 단어와 그 비율 출력\n",
    "NUM_WORDS = 10\n",
    "\n",
    "# 5. 토픽별 주요 단어와 그 비율 출력\n",
    "topics_pos = model.print_topics(num_words=NUM_WORDS)\n",
    "\n",
    "topics_output_pos = []\n",
    "for topic in topics_pos:\n",
    "    words_with_quotes = []\n",
    "    for word_prob in topic[1].split(' + '):\n",
    "        prob, word = word_prob.split('*')\n",
    "        word_with_quote = f'{prob}*\" {word.strip()} \"'\n",
    "        words_with_quotes.append(word_with_quote)\n",
    "    topic_str = \" + \".join(words_with_quotes)\n",
    "    topics_output_pos.append(topic_str)\n",
    "\n",
    "topics_output_pos"
   ]
  },
  {
   "cell_type": "markdown",
   "metadata": {
    "id": "92A67uAYo-Gq"
   },
   "source": [
    "### 시각화함수\n"
   ]
  },
  {
   "cell_type": "code",
   "execution_count": 19,
   "metadata": {
    "colab": {
     "base_uri": "https://localhost:8080/"
    },
    "id": "KlK1JrG_JI9U",
    "outputId": "33bba6f7-1b38-45fa-9615-47f2206015df"
   },
   "outputs": [
    {
     "name": "stdout",
     "output_type": "stream",
     "text": [
      "Requirement already satisfied: pyLDAvis in c:\\users\\5-20\\anaconda3\\lib\\site-packages (3.4.1)\n",
      "Requirement already satisfied: numpy>=1.24.2 in c:\\users\\5-20\\anaconda3\\lib\\site-packages (from pyLDAvis) (1.24.3)\n",
      "Requirement already satisfied: scipy in c:\\users\\5-20\\anaconda3\\lib\\site-packages (from pyLDAvis) (1.10.1)\n",
      "Requirement already satisfied: pandas>=2.0.0 in c:\\users\\5-20\\anaconda3\\lib\\site-packages (from pyLDAvis) (2.1.1)\n",
      "Requirement already satisfied: joblib>=1.2.0 in c:\\users\\5-20\\anaconda3\\lib\\site-packages (from pyLDAvis) (1.2.0)\n",
      "Requirement already satisfied: jinja2 in c:\\users\\5-20\\anaconda3\\lib\\site-packages (from pyLDAvis) (3.1.2)\n",
      "Requirement already satisfied: numexpr in c:\\users\\5-20\\anaconda3\\lib\\site-packages (from pyLDAvis) (2.8.4)\n",
      "Requirement already satisfied: funcy in c:\\users\\5-20\\anaconda3\\lib\\site-packages (from pyLDAvis) (2.0)\n",
      "Requirement already satisfied: scikit-learn>=1.0.0 in c:\\users\\5-20\\anaconda3\\lib\\site-packages (from pyLDAvis) (1.2.2)\n",
      "Requirement already satisfied: gensim in c:\\users\\5-20\\anaconda3\\lib\\site-packages (from pyLDAvis) (4.3.0)\n",
      "Requirement already satisfied: setuptools in c:\\users\\5-20\\anaconda3\\lib\\site-packages (from pyLDAvis) (67.8.0)\n",
      "Requirement already satisfied: python-dateutil>=2.8.2 in c:\\users\\5-20\\anaconda3\\lib\\site-packages (from pandas>=2.0.0->pyLDAvis) (2.8.2)\n",
      "Requirement already satisfied: pytz>=2020.1 in c:\\users\\5-20\\anaconda3\\lib\\site-packages (from pandas>=2.0.0->pyLDAvis) (2022.7)\n",
      "Requirement already satisfied: tzdata>=2022.1 in c:\\users\\5-20\\anaconda3\\lib\\site-packages (from pandas>=2.0.0->pyLDAvis) (2023.3)\n",
      "Requirement already satisfied: threadpoolctl>=2.0.0 in c:\\users\\5-20\\anaconda3\\lib\\site-packages (from scikit-learn>=1.0.0->pyLDAvis) (2.2.0)\n",
      "Requirement already satisfied: smart-open>=1.8.1 in c:\\users\\5-20\\anaconda3\\lib\\site-packages (from gensim->pyLDAvis) (5.2.1)\n",
      "Requirement already satisfied: FuzzyTM>=0.4.0 in c:\\users\\5-20\\anaconda3\\lib\\site-packages (from gensim->pyLDAvis) (2.0.5)\n",
      "Requirement already satisfied: MarkupSafe>=2.0 in c:\\users\\5-20\\anaconda3\\lib\\site-packages (from jinja2->pyLDAvis) (2.1.1)\n",
      "Requirement already satisfied: pyfume in c:\\users\\5-20\\anaconda3\\lib\\site-packages (from FuzzyTM>=0.4.0->gensim->pyLDAvis) (0.2.25)\n",
      "Requirement already satisfied: six>=1.5 in c:\\users\\5-20\\anaconda3\\lib\\site-packages (from python-dateutil>=2.8.2->pandas>=2.0.0->pyLDAvis) (1.16.0)\n",
      "Requirement already satisfied: simpful in c:\\users\\5-20\\anaconda3\\lib\\site-packages (from pyfume->FuzzyTM>=0.4.0->gensim->pyLDAvis) (2.11.0)\n",
      "Requirement already satisfied: fst-pso in c:\\users\\5-20\\anaconda3\\lib\\site-packages (from pyfume->FuzzyTM>=0.4.0->gensim->pyLDAvis) (1.8.1)\n",
      "Requirement already satisfied: miniful in c:\\users\\5-20\\anaconda3\\lib\\site-packages (from fst-pso->pyfume->FuzzyTM>=0.4.0->gensim->pyLDAvis) (0.0.6)\n"
     ]
    }
   ],
   "source": [
    "!pip install pyLDAvis"
   ]
  },
  {
   "cell_type": "code",
   "execution_count": 21,
   "metadata": {
    "colab": {
     "base_uri": "https://localhost:8080/",
     "height": 917
    },
    "id": "4p5C7Kdv5SG0",
    "outputId": "ebdaa3ea-d7f6-42e2-e456-c00c8fbc3070"
   },
   "outputs": [
    {
     "data": {
      "text/html": [
       "\n",
       "<link rel=\"stylesheet\" type=\"text/css\" href=\"https://cdn.jsdelivr.net/gh/bmabey/pyLDAvis@3.4.0/pyLDAvis/js/ldavis.v1.0.0.css\">\n",
       "\n",
       "\n",
       "<div id=\"ldavis_el1914020038837836961297404322\" style=\"background-color:white;\"></div>\n",
       "<script type=\"text/javascript\">\n",
       "\n",
       "var ldavis_el1914020038837836961297404322_data = {\"mdsDat\": {\"x\": [-0.21991693191432152, 0.04243619047515444, 0.07094516182876648, -0.20320685701171604, -0.10468785990086545, -0.14745371454342787, 0.13764998851283597, 0.1289474811509262, 0.1287916525775484, 0.16649488882509889], \"y\": [0.030828038458991538, 0.18810432792825382, 0.21624405354532594, -0.036429339361019365, -0.08434701789384721, -0.03606694317090448, -0.014785982155995924, 0.02721003742721782, -0.23448676925513132, -0.056270405522890726], \"topics\": [1, 2, 3, 4, 5, 6, 7, 8, 9, 10], \"cluster\": [1, 1, 1, 1, 1, 1, 1, 1, 1, 1], \"Freq\": [42.38885476185583, 9.706016068437954, 9.476884201273435, 8.738165510619837, 7.11392673758213, 6.287480726064108, 4.70705869018933, 3.91999199737652, 3.9081744740580326, 3.753446832542822]}, \"tinfo\": {\"Term\": [\"\\uc88b\\ub2e4\", \"\\ub298\\ub2e4\", \"\\ud3b8\\ud558\\ub2e4\", \"\\uc5c6\\ub2e4\", \"\\ud68c\\uc6d0\", \"\\ud5ec\\uc2a4\", \"\\uc0ac\\uc774\\ud2b8\", \"\\ub354\", \"\\ucd5c\\uace0\", \"\\uc218\", \"\\ub9ce\\ub2e4\", \"\\ud2b8\\ub808\\uc774\\ub108\", \"\\uac00\\uaca9\", \"\\uc6b4\\ub3d9\", \"\\uc2dc\\uc124\", \"\\uac10\\uc0ac\", \"\\uac1c\\uc120\", \"\\uc608\\uc57d\", \"\\uc720\\uc6a9\", \"\\ud2b8\\ub808\\uc774\\ub2dd\", \"\\ucc3e\\ub2e4\", \"\\ud37c\\uc2a4\", \"\\uad8c\\ud55c\", \"\\ucd94\\ucc9c\", \"\\uac04\\ud3b8\", \"\\uc54c\", \"\\uad73\\ub2e4\", \"\\uc54a\\ub2e4\", \"\\uce74\\uba54\\ub77c\", \"\\ub9cc\\uc871\", \"\\uae30\\uad6c\", \"\\uc800\\ub834\", \"\\ub2e4\\uc591\", \"\\ud61c\\ud0dd\", \"\\ubc15\\uc2a4\", \"\\uae68\\ub057\", \"\\uc9c1\\uc6d0\", \"\\ub09c\\uace1\", \"\\ud06c\\ub2e4\", \"\\ucf8c\\uc801\", \"\\uc9c0\\uc810\", \"\\ucf54\\uc820\", \"\\uc81c\\ud734\", \"\\ub113\\ub2e4\", \"\\uace8\\ud504\", \"\\uc0dd\\ud65c\", \"\\uc2a4\\ud3ec\\uce20\", \"\\uc11c\\ube44\\uc2a4\", \"\\uac00\\uc7a5\", \"\\uc990\\uae30\\ub2e4\", \"\\ucf54\\ub85c\\ub098\", \"\\uc54c\\ub824\\uc9c0\\ub2e4\", \"\\ud3ec\\ud654\", \"\\uafb8\\uc900\\ud558\\ub2e4\", \"\\ubc14\\ub00c\\ub2e4\", \"\\ubb38\\ud654\", \"\\uc81c\\uc77c\", \"\\uc2e0\\ub9bc\", \"\\ucc28\", \"\\ucee4\\ud53c\", \"\\ub77c\\uc774\\ud504\", \"\\ud560\\uc778\", \"\\uc2dc\\uc124\", \"\\ud3b8\\ub9ac\", \"\\uce5c\\uc808\", \"\\uc790\\uc8fc\", \"\\uc6b4\\ub3d9\", \"\\ub2e4\\ub2c8\\ub2e4\", \"\\ub9ce\\ub2e4\", \"\\uc218\", \"\\uc88b\\ub2e4\", \"\\ub354\", \"\\uc26c\\ub2e4\", \"\\uac00\\uaca9\", \"\\ud5ec\\uc2a4\", \"\\ub298\\ub2e4\", \"\\ucd94\\ucc9c\", \"\\uc5ec\\ub7ec\", \"\\uc0ac\\uc774\\ud2b8\", \"\\uc54c\", \"\\uac00\\ub2a5\", \"\\ud3b8\\ud558\\ub2e4\", \"\\uc62c\\ub9ac\\ub2e4\", \"\\ubbff\\ub2e4\", \"\\uccb4\\ud5d8\", \"\\uacbd\\ud5d8\", \"\\ubbf8\\ub9ac\", \"\\uace0\\uac1d\", \"\\ubcc4\\ub85c\", \"\\uae30\\ub2e4\", \"30\", \"\\uc2e0\\uc138\\uacc4\", \"\\uc695\\uad6c\", \"\\uc5b4\\ub835\\ub2e4\", \"\\uc544\\uae5d\\ub2e4\", \"\\uad00\\uc2ec\", \"\\uac74\\uc9c0\\ub2e4\", \"\\uacbd\\uae30\", \"\\ud5ec\\uc2a4\\ud074\\ub7fd\", \"\\uace0\\ub974\\ub2e4\", \"\\ud718\\ud2b8\", \"\\ucd94\\ub2e4\", \"\\uc9dc\\ub2e4\", \"\\ub4e3\\ub2e4\", \"\\ucc38\\uace0\", \"\\uacb0\\uc815\", \"\\uc811\\uadfc\", \"\\uc2e0\\uacbd\", \"\\uc5ed\\uc2dc\", \"\\uc81c\\uac70\", \"\\uc870\\uc791\", \"\\ud31d\\uc5c5\", \"\\uc54a\\ub2e4\", \"\\uc0ac\\uc9c4\", \"\\ub9ac\\ubdf0\", \"\\uc9c0\\ubc29\", \"\\uc9c0\\uc5ed\", \"\\uc5c6\\ub2e4\", \"\\ub298\\ub2e4\", \"\\ub4f1\\ub85d\", \"\\ud655\\uc778\", \"\\ub2ec\\ub2e4\", \"\\uc218\", \"\\uc120\\ud0dd\", \"\\uc2f6\\ub2e4\", \"\\uc4f8\\ub2e4\", \"\\ud2b8\\ub808\\uc774\\ub108\", \"\\uc6b4\\ub3d9\", \"\\uc785\\uc7a5\", \"\\uc0ac\\uc774\\ud2b8\", \"\\uc5ec\\ub7ec\", \"\\uc218\\uc5c5\", \"\\uc2dc\\uc124\", \"\\uac1c\\uc120\", \"\\uad8c\\ud55c\", \"\\uce74\\uba54\\ub77c\", \"\\ud558\\ud2b8\", \"\\ud68c\\uc0ac\", \"\\uc2e4\\ud589\", \"\\uc548\\ub418\\ub2e4\", \"\\uc5f0\\ub3d9\", \"\\ub124\\ud2b8\\uc6cc\\ud06c\", \"\\ubcf4\\uc548\", \"\\ub9c8\\uc2a4\\ud130\", \"\\ub2e4\\uc774\\uc5b4\\ud2b8\", \"\\ucc0c\\ub2e4\", \"\\ub298\\uc5b4\\ub098\\ub2e4\", \"\\ubaa8\\ub4e0\", \"\\uce74\\ub4dc\", \"\\ud504\\ub85c\\uadf8\\ub7a8\", \"\\ud5c8\\uc6a9\", \"\\ub2e8\\uc704\", \"\\ud589\\ubcf5\", \"\\uc804\\ud600\", \"\\uc815\\uc0c1\", \"\\uc5c4\\uccad\\ub098\\ub2e4\", \"\\ub9cc\\uc871\\ub3c4\", \"\\uae30\\uc900\", \"\\uc2a4\\ub9c8\\ud2b8\\ud3f0\", \"\\uaddc\\uc815\", \"\\uc798\\ubabb\", \"\\uac70\\uc8fc\", \"\\ub5a8\\ub2e4\", \"\\ubaa8\\uc73c\\ub2e4\", \"\\ubd88\\ud3b8\", \"\\ud544\\uc694\", \"\\ub530\\ub974\\ub2e4\", \"\\uba74\\uc11c\", \"\\ube60\\ub974\\ub2e4\", \"\\uac1c\\uc120\", \"\\uc544\\uc608\", \"\\uc5c6\\ub2e4\", \"\\uc694\\uad6c\", \"\\ub4dc\\ub9ac\\ub2e4\", \"\\ud544\\uc218\", \"\\ub298\\ub2e4\", \"\\uc544\\uc27d\\ub2e4\", \"\\uc6b4\\ub3d9\", \"\\uc0ac\\uc774\\ud2b8\", \"\\uc218\", \"\\uc2dc\\uc124\", \"\\uc624\\ub958\", \"\\uac00\\ub2a5\", \"\\ud68c\\uc6d0\", \"\\uc124\\uce58\", \"10\", \"\\ud3b8\\ub9ac\", \"\\ud2b8\\ub808\\uc774\\ub2dd\", \"\\ud37c\\uc2a4\", \"\\uc120\\uc0dd\", \"\\ud45c\\uc2dc\", \"\\uc6d0\\uc8fc\", \"\\ub3c8\", \"\\ud29c\\ubc84\", \"\\uc790\\uc138\", \"\\ud648\", \"\\uc54c\\uc544\\ubcf4\\ub2e4\", \"\\uc9c0\\uc6d0\", \"\\ud3b8\\uc758\", \"\\uc77c\\uc77c\\uc774\", \"\\uc0ac\\ub77c\\uc9c0\\ub2e4\", \"\\ud6cc\\ub96d\", \"\\uadfc\\uc721\", \"\\uc0ac\\uae30\", \"\\uacc4\\uc2dc\", \"\\ub9c8\\ub0e5\", \"\\uace0\\uc815\", \"\\uc138\\ub2e4\", \"\\ubc84\\ud37c\\ub9c1\", \"\\ud1b5\\ud55c\", \"\\ubc14\\ud0d5\", \"\\uacf5\\uac1c\", \"\\ud22c\\uba85\", \"\\uc804\\uba78\", \"\\ub365\\ub2e4\", \"\\ubc09\\ub2e4\", \"\\ub300\\ud1b5\\ub839\", \"\\ud544\\ub77c\\ud14c\\uc2a4\", \"\\ud53c\\ud2b8\", \"\\ub3d9\\ub124\", \"PT\", \"\\uac15\\uc0ac\", \"\\uc774\\ub4dd\", \"\\uc815\\ubcf4\", \"\\uc2dc\\uc791\", \"\\uc88b\\ub2e4\", \"\\ud5ec\\uc2a4\", \"\\ucc3e\\ub2e4\", \"\\uac00\\uaca9\", \"\\uc54c\", \"\\ub298\\ub2e4\", \"\\ub3fc\\ub2e4\", \"\\uc8fc\\ubcc0\", \"\\uc5c6\\ub2e4\", \"\\ub9ce\\ub2e4\", \"\\uc608\\uc57d\", \"\\uc9d1\", \"\\ube44\\uad50\", \"\\uc6b4\\ub3d9\", \"\\uc0ac\\uc774\\ud2b8\", \"\\ub2e4\\ub2c8\\ub2e4\", \"\\ucd94\\uac00\", \"\\uadf8\\ub807\\ub2e4\", \"\\ub354\", \"\\uacbd\\ub0a8\", \"\\uc810\\uc810\", \"\\uc740\\uc9c0\", \"\\ub05d\", \"\\ud655\\uc2e4\", \"\\ubab8\\uc9f1\", \"\\uacc4\\uc2dc\\ub2e4\", \"\\ubcf4\\uae30\", \"\\uba54\\uc778\", \"\\ub3cc\\uc544\\uac00\\ub2e4\", \"\\uacc4\\ud68d\", \"\\ucc3d\\uc6d0\\uc2dc\", \"\\uac04\\uacb0\", \"\\uc2dc\\uc120\", \"51\", \"\\ube59\\ube59\", \"\\uc624\\ubc84\", \"\\uc7a5\\ub9c8\", \"\\uc720\\uc6a9\", \"\\uc2a4\\ud0c0\", \"\\ubc85\\uc2a4\", \"\\uc9c0\\ub3c4\", \"\\uc0c1\\ud0dc\", \"\\ubcf5\\uc9c0\", \"\\uc9f8\\ub2e4\", \"\\ub300\\ube44\", \"\\uc811\\uc18d\", \"\\uac77\\ub2e4\", \"\\uc368\\ub2e4\", \"\\ubc8c\\uc368\", \"\\uc124\\uce58\", \"\\ud3b8\\ud558\\ub2e4\", \"\\uc5ed\", \"\\ucc28\\ub2e4\", \"\\uacb0\\uc81c\", \"\\uc0ac\\uc774\\ud2b8\", \"\\ub044\\ub2e4\", \"\\ud2b8\\ub808\\uc774\\ub108\", \"\\uc88b\\ub2e4\", \"\\uacc4\\uc18d\", \"\\ub3fc\\ub2e4\", \"\\ubaa8\\ub974\\ub2e4\", \"\\ud5ec\\uc2a4\", \"\\ub9ce\\ub2e4\", \"\\ub298\\ub2e4\", \"\\ucc3e\\ub2e4\", \"\\uac1c\\uc120\", \"\\uc4f8\\ub2e4\", \"\\uc8fc\\ubcc0\", \"\\ub9c8\\uc74c\", \"\\uc6b4\\ub3d9\", \"\\ubb34\\ub8cc\", \"\\ub9cc\\ub4e4\\ub2e4\", \"\\ucde8\\uc18c\", \"\\ud074\\ub9ad\", \"\\uc54c\\ub78c\", \"\\uc0ac\\ub0b4\", \"\\uc27d\\ub2e4\", \"\\ub9c8\\uac10\", \"\\ud53c\", \"\\uc22b\\uc790\", \"\\uc774\\ub825\", \"\\uc0ac\\ubb34\\uc2e4\", \"\\uae30\\uad00\", \"\\ucc38\\uc5ec\", \"\\ud398\\uc774\\uc9c0\", \"\\ub118\\uae30\\ub2e4\", \"\\uc744\\uc2dc\", \"\\uc120\\uc218\", \"\\uce58\\uc5f4\", \"\\ud1a0\", \"\\uc2e4\\uc218\", \"\\ucc28\\uac10\", \"\\ub2f9\\ucca8\", \"\\uac10\\uc0ac\", \"\\uc608\\uc57d\", \"\\ub9d0\\ub2e4\", \"\\ubd90\\ube44\\ub2e4\", \"\\uc560\\uc6a9\", \"\\ube68\\ub974\\ub2e4\", \"\\uc8fc\\ub9d0\", \"\\uc785\", \"\\ub300\\ub2e4\", \"\\ucfe0\\ud3f0\", \"\\uc88b\\ub2e4\", \"\\ucd94\\ucc9c\", \"\\ud655\\uc778\", \"10\", \"\\ud3b8\\ud558\\ub2e4\", \"\\uc218\", \"\\ub298\\ub2e4\", \"\\uc6b4\\ub3d9\", \"\\ub354\", \"\\uc774\\ubca4\\ud2b8\", \"\\uc124\\uba85\", \"\\uacc4\\uc18d\", \"\\uc2f6\\ub2e4\", \"\\uac80\\uc0c9\", \"\\uac15\\uc0ac\", \"\\uc2dc\\uc124\", \"\\ud3b8\\ub9ac\", \"\\uac00\\uc785\", \"\\uc774\\uc058\\ub2e4\", \"\\uae30\\ub300\", \"\\ubd80\\ub2f4\", \"\\ubc88\\ud638\", \"\\ud734\\ub300\\ud3f0\", \"\\uc0c1\\ub2f4\", \"\\uc790\\ub3d9\", \"\\uc778\\uc99d\", \"\\ub300\\ud55c\", \"\\ubc84\\ub9ac\\ub2e4\", \"\\ub358\\uc9c0\\ub2e4\", \"\\ub358\\ub370\", \"\\ube44\\ubc88\", \"\\uc57d\\uad00\", \"\\uc870\\uc815\", \"\\uba54\\uc77c\", \"\\uc2ec\\ud50c\", \"\\ubfcc\\ub9ac\\ub2e4\", \"\\uad00\\uc7a5\", \"\\uc5ec\\uc11c\", \"\\ub300\\uc694\", \"\\uc720\\ud6a8\", \"\\uc18c\\ub77c\", \"\\uc78a\\uc5b4\\ubc84\\ub9ac\\ub2e4\", \"\\uccad\\ub2f4\\ub3d9\", \"\\ubb38\\uc790\", \"\\ub610\", \"\\uc18c\\ube44\\uc790\", \"\\ubc18\\ubcf5\", \"\\uc5b4\\ub5bb\\ub2e4\", \"\\uc218\\uac15\", \"\\ud68c\\uc6d0\", \"\\ucc3e\\ub2e4\", \"\\ub85c\\uadf8\\uc778\", \"\\ucd94\\uac00\", \"\\uc5c6\\ub2e4\", \"\\uc0ac\\uc774\\ud2b8\", \"\\ucfe0\\ud3f0\", \"\\uadf8\\ub807\\ub2e4\", \"\\ub298\\ub2e4\", \"\\uc218\", \"PT\", \"\\ub044\\ub2e4\", \"\\uc720\\uc6a9\", \"\\uc2a4\\ub7fd\\ub2e4\", \"\\uc791\\ub3d9\", \"\\uc720\\ub8cc\", \"\\ubcf4\\uc774\", \"\\ud64d\\ubcf4\", \"\\uacf5\\uc9c0\", \"\\uc790\\uafb8\", \"\\uc54c\\ub9bc\", \"\\uc778\\uc6d0\", \"\\ud559\\uc6d0\", \"\\uac15\\uc88c\", \"\\uac1c\\uc124\", \"\\ud770\\uc0c9\", \"\\ubc1c\\uc804\", \"\\ubd84\\uba85\", \"\\ub9cc\\ub4dc\", \"\\uc9c0\\ubd88\", \"\\uc774\\uc81c\\uc57c\", \"\\uacfc\\uc815\", \"\\ubd88\\ub9cc\", \"\\ud3d0\\uac15\", \"\\uc57d\\ud558\\ub2e4\", \"\\ud478\\ub2e4\", \"\\uac04\\ub7b5\", \"\\ub2e4\\uc2dc\\ud53c\", \"\\uae09\\ud558\\ub2e4\", \"\\uc0c1\\uad00\", \"\\uc2dc\\uae09\", \"\\uc810\\uac80\", \"\\uac00\\ub054\", \"\\ub2f9\\ud669\", \"\\uc694\\uad6c\", \"\\uc624\\ub958\", \"\\uac1c\\uc120\", \"\\ub9cc\\uc871\", \"\\ucd94\\uac00\", \"\\uc0ad\\uc81c\", \"\\uc8fc\\ub85c\", \"\\ub354\", \"\\ub4dc\\ub9ac\\ub2e4\", \"\\ub144\", \"\\uc77c\\uc815\", \"\\uc544\\ub2c8\\ub2e4\", \"\\ub298\\ub2e4\", \"\\ub9ac\\ubdf0\", \"\\uac70\\ub098\", \"\\uacc4\\uc18d\", \"\\ucd5c\\uace0\", \"\\uad73\\ub2e4\", \"\\uac04\\ud3b8\", \"\\uc218\\uc815\", \"\\ucc3e\\uc544\\ubcf4\\ub2e4\", \"\\uc2dc\\ub300\", \"\\ub4e4\\uc5b4\\uc624\\ub2e4\", \"\\uc2b9\\uc778\", \"\\uac00\\uc131\", \"\\ub530\\ub2e4\", \"\\uadf8\\ub8f9\", \"\\ud655\\uc2e4\\ud558\\ub2e4\", \"\\ub85c\\ub529\", \"\\ud3b4\\ub2e4\", \"\\uc800\\ub141\", \"\\uc0dd\\uaca8\\ub098\\ub2e4\", \"\\uc77c\\ucc0d\", \"\\ubb34\\ud55c\\ub300\", \"\\uc720\\ubaa9\\ubbfc\", \"\\uc815\\ucc29\", \"\\uc9c1\\uc7a5\\uc778\", \"\\uc560\\ud50c\", \"\\ud654\\uc774\\ud2b8\", \"\\ub9de\\ub2e4\", \"\\uc778\\uc9c0\", \"\\ud68d\\uae30\", \"\\uce21\\uba74\", \"\\ub85c\\uc11c\", \"\\ud574\\uc9c4\", \"\\ud6a8\\uacfc\", \"\\uac78\\ub9ac\\ub2e4\", \"\\ud2b8\\ub808\\uc774\\ub108\", \"\\ub355\\ubd84\", \"\\ud654\\uc774\\ud305\", \"\\ub04a\\ub2e4\", \"\\ud55c\\ub208\", \"\\uad00\\ub9ac\", \"\\uc804\\ud654\", \"\\ub9cc\\ub098\\ub2e4\", \"\\ub9ce\\ub2e4\", \"\\ucd94\\ucc9c\", \"\\ud68c\\uc6d0\", \"\\ucf54\\uce6d\", \"\\ud30c\\ud1a0\", \"\\ubcf4\\uc774\\ub2e4\", \"pt\", \"\\uc720\\ud29c\\ube0c\", \"\\ucf1c\\ub2e4\", \"\\uad11\\uc8fc\", \"\\ub370\\uc774\\ud130\", \"\\uc18c\\uac1c\", \"\\uad81\\uae08\", \"\\uac1c\\ubc1c\\uc790\", \"\\uacbd\\ub825\", \"\\ud604\\uc0c1\", \"\\uc9c4\\uc791\", \"\\uc790\\uaca9\", \"\\ube7c\\ub2e4\", \"\\ub9c8\\uad6c\", \"\\uae30\\uac04\", \"\\ud504\\ub85c\\ud544\", \"\\ub824\\uba74\", \"\\ubd88\\uac00\", \"\\ubc29\\uc2dd\", \"\\uc2e0\\ub8b0\", \"\\uacb0\\uacfc\", \"\\ub298\\ub9ac\\ub2e4\", \"\\ud3c9\\ud0dd\", \"\\ubca0\\ub2e4\", \"\\ud3ec\\ud568\", \"\\ub3d9\\uc758\", \"\\ub2f9\\uc77c\", \"\\ubcf4\\ub0b4\\ub2e4\", \"\\uad11\\uace0\", \"\\ub4e4\\uc5b4\\uac00\\ub2e4\", \"\\uc624\\ub958\", \"\\uc2f8\\ub2e4\", \"\\uac80\\uc0c9\", \"\\uc0ac\\uc774\\ud2b8\", \"\\uc5c6\\ub2e4\", \"\\uc0dd\\uae30\\ub2e4\", \"\\uc804\\ud654\", \"\\ud2b8\\ub808\\uc774\\ub108\", \"\\uc54c\", \"\\uac1c\\uc120\", \"\\uac10\\uc0ac\", \"\\ucd94\\ucc9c\"], \"Freq\": [1541.0, 743.0, 187.0, 261.0, 135.0, 316.0, 309.0, 196.0, 65.0, 551.0, 275.0, 123.0, 175.0, 710.0, 510.0, 86.0, 119.0, 71.0, 66.0, 62.0, 87.0, 60.0, 61.0, 131.0, 42.0, 93.0, 40.0, 68.0, 53.0, 48.0, 141.23429706625382, 138.72283460567144, 117.86365048592157, 76.95364846201913, 67.78470171277336, 57.76875734066268, 57.76778524065812, 52.760130709328685, 49.37274108283252, 48.587812427974875, 46.916967705581854, 43.56280935601299, 111.44064131095485, 36.90142901300063, 36.067233258305926, 34.39721520363331, 31.893661580292704, 51.78801922327933, 30.1738425362136, 26.886169703491582, 26.839214211539364, 25.118589549149398, 22.695879053549657, 21.84275987967183, 20.99122897942349, 18.540094126604, 18.531077324986963, 17.70541232190702, 17.654786578362806, 16.034495840163267, 21.260093087572592, 54.65412596308188, 444.27646162111057, 167.76140594168564, 69.7036883564074, 48.6029144225338, 530.7765837333563, 105.02801906280844, 202.98009922948165, 362.3804194516897, 859.443258482252, 143.88009303140242, 47.48063262160784, 116.21076665062054, 175.03952633010644, 247.17205630103993, 80.85748726534375, 52.877483081138195, 103.14990654535009, 54.39643143707171, 49.12702175727214, 48.90634740190781, 23.744513297771952, 20.25934216709453, 19.093798252212288, 15.612593380811903, 14.834375803830532, 14.83411991613524, 13.68812424378346, 12.894879398997704, 12.498398065368326, 11.717421808713045, 11.327293851079807, 10.183252389551667, 9.794164632926348, 9.404518655541091, 9.015740242602204, 8.626547326650053, 8.23684614061821, 8.237066098876834, 7.847598892347195, 7.847119541082383, 7.847172120745799, 7.4581649862710515, 7.068223248279079, 6.679975451776835, 6.6789334981134685, 6.67745600957147, 6.290552937961099, 6.2905043017724385, 6.290322025605929, 6.289716044985056, 56.534965091501554, 27.104511529065036, 38.44245363831437, 19.971528100175387, 26.203646629198758, 105.3890368661728, 183.51630344062414, 33.539494668136705, 33.113241852753276, 15.780860572332257, 93.49923964157114, 12.712763600461216, 21.824347806194137, 18.11106506375135, 22.855326341150437, 40.14041922495027, 11.527208742010444, 24.01370364790904, 15.169113715037849, 12.00109610346588, 20.44245435025276, 12.098782107471614, 60.30933921504202, 52.58849833950738, 34.30051959679847, 29.118711937848463, 24.3267065185679, 21.029524853274165, 20.660434237365475, 17.711455302363333, 15.868531494894432, 15.866767165050812, 13.307866841463747, 12.202406383785656, 10.378695974298564, 8.904667696800264, 8.91071707216127, 8.535192042855865, 7.430871297763468, 11.085029426722452, 6.693254788398455, 6.324959489943518, 6.324449100636186, 6.3241735845306355, 6.323602872597709, 6.31888658448033, 19.18857072926793, 5.956318940716565, 5.954895583444566, 5.954121656992793, 5.587708338892388, 5.5877618163973475, 26.85294449340593, 50.98824946006365, 7.033295140153086, 33.030260292917276, 11.583016231104708, 51.21093834711535, 13.306128180822506, 78.12952241356855, 21.755780173665567, 20.519614704386164, 12.308697417002863, 130.0858225240472, 11.99726154092095, 81.58623303781667, 41.94219322963131, 40.98539938010025, 35.838700344886135, 17.014041897766674, 17.154905924030107, 18.557799707891544, 13.436501204073029, 12.815605980492503, 13.567055623020373, 61.6484866589428, 59.84034214206314, 27.184175543583354, 15.869782959936963, 9.005012642208401, 9.018603769047209, 8.704497814210658, 6.927749297362952, 12.330951593903167, 23.720411346968834, 6.030525461546, 6.030123889388285, 5.731149078781229, 5.431128523783109, 5.133117012988566, 5.132223929132902, 5.122877317438506, 4.833890134985852, 4.8333059224459936, 4.831184059345455, 4.534482588959332, 4.533684572775583, 4.5298668759756175, 4.520013368188231, 4.235592195289162, 4.235592195289162, 4.235567343574098, 4.235585883742479, 4.235585883742479, 4.235579177724128, 8.630138326963229, 9.491569776011755, 21.934993131808497, 42.46327189465183, 24.03696539297511, 6.588911152376843, 36.90456649987571, 25.839865014561074, 366.3180796072642, 93.6081772367113, 34.023234986954805, 53.74623455370285, 27.87180277584488, 80.11066325830649, 12.400067763743575, 17.12829116757528, 30.023330145794173, 25.25228368666069, 12.25931632799285, 10.920594673558492, 8.681710763854511, 19.629331480310213, 15.541068141358945, 11.603773843295073, 9.591062631094786, 9.541927240166533, 10.189418558126627, 12.159165319255896, 10.511447213767259, 9.259094152780609, 8.840790806216564, 7.587672128898102, 7.586867974831469, 7.16969635308005, 7.18773522445498, 6.752161834325718, 6.752105312314645, 6.751645428679093, 6.333486598620633, 5.916288000454839, 5.916331676554305, 5.916284146681356, 5.916284146681356, 5.916284146681356, 5.914752271722153, 58.63048248256381, 4.267641135556974, 3.4319840764444725, 9.970812250964324, 13.076125758671658, 3.0138053352230205, 17.30264648887722, 2.5950607315952547, 5.491674742109154, 6.84010173371324, 29.386109566438545, 2.1782407666740937, 24.091325396129776, 102.66133978162135, 9.551687408352974, 13.39941110855241, 29.106335888354955, 71.17735668300358, 29.788959923634263, 35.26057063640356, 154.26344892306463, 18.674117119018547, 12.315051741204918, 10.33651287408653, 29.716480721162032, 24.302116528880717, 33.851060692809895, 14.540244957100262, 14.476002553150805, 10.913680967205813, 11.684872424654676, 10.414366163679789, 12.525836451000053, 31.061309400487694, 25.249735680216048, 18.66836421579269, 11.372921704801918, 11.00849501143338, 10.637616087712752, 10.297458772490659, 10.276760090183966, 7.371457459547558, 5.904461767786299, 5.90422277526666, 5.902588429746365, 5.543476907307494, 5.543426383948235, 5.543246997638957, 5.542935909988689, 5.5422007667275635, 5.17773717427642, 5.177645778087199, 5.177645778087199, 5.177546434403263, 5.177573682956571, 5.154831359151769, 74.82084428801446, 58.392582504327095, 11.46444505393839, 2.637829979846473, 5.067657560337109, 2.2412305505961942, 6.389833435725768, 7.370769433576528, 13.040819277069469, 13.1490017104847, 159.8268617371187, 24.085477660168294, 18.58306602573074, 10.684518795450767, 20.498525787653794, 28.68466787382447, 26.68388607935532, 25.490735509949843, 15.920772237956404, 7.450926729914344, 7.533458056459131, 8.57556535345207, 8.529548791374765, 7.993487434465647, 7.638472277874098, 9.191016505780826, 8.244602154258697, 31.41337527553759, 18.93128308519713, 18.096558554480268, 15.946944419177825, 15.54075419955157, 14.227525442300188, 11.673098893680976, 11.669778898958677, 10.837783631696318, 9.518531965432595, 9.094156572461854, 7.8046531128765, 7.803564297403058, 7.375164282053904, 6.945354586405995, 6.945355861365566, 6.945246639829003, 6.944730706189363, 6.515466693237746, 6.513736573100204, 6.513162416306832, 6.085611524031814, 6.085597924463058, 6.085551175945463, 6.085551175945463, 6.084979994057756, 4.820014406371538, 18.775824714813393, 2.6706858620129488, 2.6704508444654027, 13.645972183471258, 12.079386860207656, 67.47574273059601, 33.22083276069638, 11.652861885400588, 16.391689416224317, 26.441155345633884, 26.362316945615444, 9.882817663859665, 10.464941254603255, 20.90172460209942, 11.164214930494031, 8.684907299838788, 8.914233427861038, 7.192698868068963, 22.583863763867036, 13.447388496172909, 13.14128903654141, 11.632257264180392, 11.021895921338421, 10.106095542131833, 10.1059936118527, 9.800761975292147, 9.190087763121173, 8.883206838016326, 8.579561491424773, 8.579561491424773, 8.579543795195757, 7.680458566068573, 5.23820766235588, 5.238125551853246, 5.237163584843933, 4.9330241595382525, 4.932931077373628, 4.931694464889986, 4.322472051347489, 4.322277746752893, 4.322277746752893, 4.322271730035028, 4.321041488193831, 4.305259991157311, 4.305259991157311, 4.305259991157311, 4.305259991157311, 7.94039918193459, 8.552188256533576, 17.37640577689862, 19.943003126963017, 32.43663849548318, 16.60100515515794, 13.148013603567511, 9.031814106499883, 5.440271345526563, 24.593196952327563, 11.503973052948034, 10.234364888531816, 8.251488978148616, 11.359568284931209, 20.06784365202885, 8.93049186979639, 5.68549931658863, 6.28690035083061, 64.89811376778361, 40.20056230644285, 40.87406586246977, 11.563253997518618, 9.794937721029436, 9.3532199781006, 8.90788262180017, 8.467078780083309, 8.860687916355555, 8.027238239643934, 7.583546611240278, 7.584159172052629, 7.143140087193179, 6.7011181810038325, 6.700030673847344, 6.698756152157132, 6.697910705321653, 6.258996768968241, 6.258981948948588, 6.258981948948588, 5.332974898063015, 3.62931095731282, 3.629307075879101, 8.911814867014934, 2.3041880742808423, 1.8622596753583587, 1.8604756272781495, 1.4200017074273872, 1.4197091002536306, 1.8546564759896274, 7.585330659320487, 42.818390338087305, 15.13522171164258, 8.965458398154546, 3.5206216388882754, 7.045232685924265, 9.171403036983243, 7.241947981084856, 7.118500040230955, 17.230015963949146, 10.053609872640106, 10.035513922927795, 29.67933252490678, 12.920007030513101, 11.56105513007252, 23.230727836524405, 10.393983482013928, 10.39398890421722, 8.099533425108262, 8.099442603203093, 7.637868058971249, 7.4074867743269435, 7.407486096551532, 7.17681743513266, 7.176766601976782, 6.945958318823097, 6.945861396939222, 6.715419790283273, 6.484553896219594, 4.650799986612192, 4.420482751744293, 4.189829679159891, 4.181857345879624, 4.175664850830515, 3.9591450900188434, 3.959043762594792, 5.336796814068567, 6.193267035303408, 3.7281388964449387, 3.728194474028699, 3.7276678425337986, 3.497437024030893, 7.238577008423297, 14.803515077543478, 12.099033940915868, 16.951722889414803, 9.31732029612364, 11.876041763810049, 27.498327160862697, 20.602305301048325, 6.924062784147731, 7.4778005510888015, 12.714111060392314, 11.022677109511674, 8.795135007924012, 8.187372440690766, 8.27345872905858], \"Total\": [1541.0, 743.0, 187.0, 261.0, 135.0, 316.0, 309.0, 196.0, 65.0, 551.0, 275.0, 123.0, 175.0, 710.0, 510.0, 86.0, 119.0, 71.0, 66.0, 62.0, 87.0, 60.0, 61.0, 131.0, 42.0, 93.0, 40.0, 68.0, 53.0, 48.0, 141.9317315863917, 139.4229426570023, 118.56107860203534, 77.65617208897885, 68.48177585017658, 58.46581096528484, 58.465178052005896, 53.457473194961516, 50.07003590884464, 49.284706693228685, 47.614482826026105, 44.26699852727069, 113.54613981547283, 37.598749546476746, 36.764360001950294, 35.094459594996565, 32.5908834141534, 52.98218026105366, 30.871317947347062, 27.58306509789506, 27.558581515221686, 25.81550315270012, 23.400238756522754, 22.555226809983836, 21.6893777844218, 19.236861132315052, 19.231444830451306, 18.402162209747473, 18.351704246935867, 16.73177643118486, 22.229777781347217, 58.54407309967642, 510.28651550439787, 190.71890525774242, 77.5850641908236, 54.06422397528386, 710.4986343327882, 125.27556619793287, 275.79490592678303, 551.0523667165969, 1541.8217723092378, 196.23201877294926, 54.19311736426541, 175.5365918376375, 316.51068490105075, 743.8670759162708, 131.83510944963797, 68.66041658418553, 309.95028621811605, 93.8876788360991, 82.34730138060212, 187.03245368362224, 24.537681711851445, 21.05494657292615, 19.886166908089297, 16.40503957623283, 15.626640045476984, 15.626481486301872, 14.480435794521195, 13.698068222994078, 13.290634294472214, 12.509815887352133, 12.119784067258662, 10.975602285710234, 10.586530705790581, 10.197090055588959, 9.808100004862792, 9.41892760258195, 9.029177995344439, 9.029433243859643, 8.639907536440464, 8.639484620935708, 8.63955975530673, 8.250718056147848, 7.860693424154089, 7.472219453762897, 7.471280811553191, 7.469996302269788, 7.0827977092116114, 7.08276603137709, 7.082691247624574, 7.082041887654531, 68.615907049407, 35.81719318167553, 53.46782856945136, 29.62990745543091, 41.759516937159766, 261.09651487396843, 743.8670759162708, 75.87457479349266, 86.72219028590541, 27.06267414049169, 551.0523667165969, 20.06636236645402, 60.814217772994695, 46.12581977622244, 123.07718640182348, 710.4986343327882, 20.979905925466536, 309.95028621811605, 68.66041658418553, 24.862659249014918, 510.28651550439787, 119.53080445132979, 61.10606288601563, 53.38517923031013, 35.09734423818727, 29.91560697052442, 25.123419809320207, 21.826219154513815, 21.45738964614625, 18.508170432951278, 16.66519224201067, 16.663665794266894, 14.104615215570476, 12.999120876185819, 11.176081375720326, 9.701446126464385, 9.722215368840361, 9.332993396255619, 8.227552546894659, 12.31243943404814, 7.489965561206671, 7.121680291318308, 7.12117340654259, 7.120950986611476, 7.120365746947268, 7.116461223792761, 21.724267788810803, 6.75300210587171, 6.751843425338901, 6.750992616239396, 6.384364192605661, 6.384427355862236, 33.19033326222768, 66.00981747596825, 8.248806503838736, 53.25664606175455, 15.188372588027189, 119.53080445132979, 19.600932661800556, 261.09651487396843, 41.93761164763103, 40.61731271281681, 19.354690538606306, 743.8670759162708, 19.210753147493662, 710.4986343327882, 309.95028621811605, 551.0523667165969, 510.28651550439787, 54.989812892026684, 82.34730138060212, 135.18756055243537, 38.25501246188422, 29.786852145386995, 190.71890525774242, 62.64922889000775, 60.86041723793833, 28.00064076532551, 16.68151766559253, 9.816648871419225, 9.834115110250751, 9.516291618147987, 7.739490874894754, 13.853735950379495, 26.78856968190412, 6.842124731186823, 6.841817740163101, 6.542799959345892, 6.2428487581303145, 5.9446829380065855, 5.94390882630613, 5.962255933055953, 5.645475272699786, 5.644993589899862, 5.643246463777912, 5.346068127003766, 5.345389909927194, 5.341980034854451, 5.335336716742335, 5.047144431585597, 5.047144431585597, 5.047119579870532, 5.047145181940305, 5.047145181940305, 5.047152723110472, 10.45347730977315, 11.822626656626909, 29.566452747792724, 60.284237270280876, 38.35067156052463, 8.545981961285353, 71.26235464104728, 48.58815662011629, 1541.8217723092378, 316.51068490105075, 87.09900087492792, 175.5365918376375, 93.8876788360991, 743.8670759162708, 32.5447668714056, 70.37767434983083, 261.09651487396843, 275.79490592678303, 71.38512955919754, 49.59828208914689, 24.4118142424513, 710.4986343327882, 309.95028621811605, 125.27556619793287, 39.80199751950827, 36.729551761323826, 196.23201877294926, 12.945419786452181, 11.298524747007898, 10.045239961104087, 9.62698233767499, 8.373796447670626, 8.37307466363907, 7.955833695555902, 7.979189105517338, 7.5382629523220785, 7.5382101359953815, 7.537791756758816, 7.119627147723158, 6.7023830522711485, 6.70243587331152, 6.702386779186218, 6.702386779186218, 6.702386779186218, 6.701759859778241, 66.51728082938072, 5.053927624672062, 4.218236939527257, 12.340379468528848, 16.252383462230696, 3.8000202547228583, 21.999605291884166, 3.3820929392149637, 7.1897153269571215, 9.09641713263306, 39.379677392252354, 2.964400112147298, 38.25501246188422, 187.03245368362224, 14.316957570548546, 22.764863219314456, 64.25303081185662, 309.95028621811605, 88.25473344435622, 123.07718640182348, 1541.8217723092378, 47.27284310809381, 32.5447668714056, 24.160368109642334, 316.51068490105075, 275.79490592678303, 743.8670759162708, 87.09900087492792, 119.53080445132979, 46.12581977622244, 70.37767434983083, 45.649166683945055, 710.4986343327882, 31.85902856027405, 26.04835377025442, 19.46567347966769, 12.170504944829313, 11.805820814651348, 11.435458583242264, 11.094816551648497, 11.074714377877296, 8.168832855939023, 6.702219624671296, 6.702047707964013, 6.700606094079663, 6.340761774471689, 6.340717117833648, 6.340571554275872, 6.340286444810641, 6.339672518659201, 5.975020051123998, 5.97495267738703, 5.97495267738703, 5.974856424345855, 5.9750588244027405, 5.970795834801184, 86.69782571519328, 71.38512955919754, 14.556723838797616, 3.4352861247883393, 6.889196049863282, 3.06349118457211, 9.650831254168521, 12.078623141115205, 25.056774402984335, 27.383454035157524, 1541.8217723092378, 131.83510944963797, 86.72219028590541, 29.786852145386995, 187.03245368362224, 551.0523667165969, 743.8670759162708, 710.4986343327882, 196.23201877294926, 19.43076901831486, 21.49713037869414, 47.27284310809381, 60.814217772994695, 41.505424177773676, 38.35067156052463, 510.28651550439787, 190.71890525774242, 32.204871892997424, 19.71497308721602, 18.880164431273755, 16.730850529119028, 16.324695226758603, 15.011169982205976, 12.456779468564081, 12.456190346101286, 11.621402779435732, 10.305518024502144, 9.877741976838852, 8.588247742832749, 8.587251876674758, 8.158705520072559, 7.728890050743589, 7.728891654481179, 7.72879176237222, 7.72829903348897, 7.2990025898382775, 7.297374231737312, 7.296947329706357, 6.869146224565452, 6.869141949703727, 6.869094134352123, 6.869094134352123, 6.868611064910411, 5.603636213153386, 21.930447429349154, 3.4542877627154818, 3.454071002531128, 18.802615362222003, 18.689485085307126, 135.18756055243537, 87.09900087492792, 18.698981665504117, 39.80199751950827, 261.09651487396843, 309.95028621811605, 27.383454035157524, 36.729551761323826, 743.8670759162708, 551.0523667165969, 60.284237270280876, 88.25473344435622, 66.51728082938072, 23.4017946364043, 14.257640597700828, 13.951682600458318, 12.442664082880341, 11.832176839010593, 10.91635263083183, 10.916264061811523, 10.611027300810093, 10.00035706380615, 9.693743985148474, 9.389813739753667, 9.389813739753667, 9.389840802405546, 8.49077797100314, 6.04849655710905, 6.048409145374769, 6.047554795266533, 5.743277565255455, 5.743198727062243, 5.742053140526314, 5.13271134157827, 5.132573061945907, 5.132573061945907, 5.132614062727978, 5.132542987434468, 5.13970390135289, 5.13970390135289, 5.13970390135289, 5.13970390135289, 9.541677873833502, 12.618580913941308, 41.93761164763103, 54.989812892026684, 119.53080445132979, 48.89868901765398, 39.80199751950827, 23.240331665912045, 8.216904246332929, 196.23201877294926, 40.61731271281681, 39.04476778165805, 24.933955091966393, 68.76687327640934, 743.8670759162708, 53.46782856945136, 10.507476079270988, 47.27284310809381, 65.88385393757683, 40.981495159619755, 42.14536417433803, 12.344278514354299, 10.575944088238106, 10.134182732600785, 9.694947468992657, 9.248184511553106, 9.697126791026415, 8.808165823563323, 8.364583837788851, 8.365697492666131, 7.924059772319394, 7.482027821383455, 7.481064968381103, 7.47982283226957, 7.479149581812618, 7.039907192781439, 7.039891847967442, 7.039891847967442, 6.168784846443952, 4.411807576727442, 4.411806649997433, 11.411107738768656, 3.0853213401688513, 2.6432315203315833, 2.643016468795791, 2.200994868405653, 2.200762364397103, 3.0066419129978663, 15.352086664370713, 123.07718640182348, 39.21891646097538, 22.064775958035174, 6.720096269260255, 20.2810858719908, 32.82450757560234, 24.235473284945638, 23.339731422120906, 275.79490592678303, 131.83510944963797, 135.18756055243537, 30.541517280181928, 13.74624322099337, 12.387467741613037, 24.98039814744107, 11.220326484031819, 11.220343252438626, 8.925896416581315, 8.926362312022832, 8.465477309696482, 8.23377645635767, 8.233829308566882, 8.003081556326109, 8.003041584359792, 7.772231400935875, 7.77213287605022, 7.541653999370941, 7.310884286321214, 5.477236230972498, 5.246823091591862, 5.01610789281529, 5.022441598393432, 5.025475706018913, 4.78545966711932, 4.785338414488376, 6.476625735241681, 7.562239328987811, 4.554429488013632, 4.554499111654458, 4.554182885289826, 4.323740893688086, 9.23207258489968, 22.744583033992388, 25.00784123026681, 54.989812892026684, 24.935768635573382, 41.505424177773676, 309.95028621811605, 261.09651487396843, 19.192050457606797, 24.235473284945638, 123.07718640182348, 93.8876788360991, 119.53080445132979, 86.69782571519328, 131.83510944963797], \"Category\": [\"Default\", \"Default\", \"Default\", \"Default\", \"Default\", \"Default\", \"Default\", \"Default\", \"Default\", \"Default\", \"Default\", \"Default\", \"Default\", \"Default\", \"Default\", \"Default\", \"Default\", \"Default\", \"Default\", \"Default\", \"Default\", \"Default\", \"Default\", \"Default\", \"Default\", \"Default\", \"Default\", \"Default\", \"Default\", \"Default\", \"Topic1\", \"Topic1\", \"Topic1\", \"Topic1\", \"Topic1\", \"Topic1\", \"Topic1\", \"Topic1\", \"Topic1\", \"Topic1\", \"Topic1\", \"Topic1\", \"Topic1\", \"Topic1\", \"Topic1\", \"Topic1\", \"Topic1\", \"Topic1\", \"Topic1\", \"Topic1\", \"Topic1\", \"Topic1\", \"Topic1\", \"Topic1\", \"Topic1\", \"Topic1\", \"Topic1\", \"Topic1\", \"Topic1\", \"Topic1\", \"Topic1\", \"Topic1\", \"Topic1\", \"Topic1\", \"Topic1\", \"Topic1\", \"Topic1\", \"Topic1\", \"Topic1\", \"Topic1\", \"Topic1\", \"Topic1\", \"Topic1\", \"Topic1\", \"Topic1\", \"Topic1\", \"Topic1\", \"Topic1\", \"Topic1\", \"Topic1\", \"Topic1\", \"Topic1\", \"Topic2\", \"Topic2\", \"Topic2\", \"Topic2\", \"Topic2\", \"Topic2\", \"Topic2\", \"Topic2\", \"Topic2\", \"Topic2\", \"Topic2\", \"Topic2\", \"Topic2\", \"Topic2\", \"Topic2\", \"Topic2\", \"Topic2\", \"Topic2\", \"Topic2\", \"Topic2\", \"Topic2\", \"Topic2\", \"Topic2\", \"Topic2\", \"Topic2\", \"Topic2\", \"Topic2\", \"Topic2\", \"Topic2\", \"Topic2\", \"Topic2\", \"Topic2\", \"Topic2\", \"Topic2\", \"Topic2\", \"Topic2\", \"Topic2\", \"Topic2\", \"Topic2\", \"Topic2\", \"Topic2\", \"Topic2\", \"Topic2\", \"Topic2\", \"Topic2\", \"Topic2\", \"Topic2\", \"Topic2\", \"Topic2\", \"Topic2\", \"Topic2\", \"Topic2\", \"Topic3\", \"Topic3\", \"Topic3\", \"Topic3\", \"Topic3\", \"Topic3\", \"Topic3\", \"Topic3\", \"Topic3\", \"Topic3\", \"Topic3\", \"Topic3\", \"Topic3\", \"Topic3\", \"Topic3\", \"Topic3\", \"Topic3\", \"Topic3\", \"Topic3\", \"Topic3\", \"Topic3\", \"Topic3\", \"Topic3\", \"Topic3\", \"Topic3\", \"Topic3\", \"Topic3\", \"Topic3\", \"Topic3\", \"Topic3\", \"Topic3\", \"Topic3\", \"Topic3\", \"Topic3\", \"Topic3\", \"Topic3\", \"Topic3\", \"Topic3\", \"Topic3\", \"Topic3\", \"Topic3\", \"Topic3\", \"Topic3\", \"Topic3\", \"Topic3\", \"Topic3\", \"Topic3\", \"Topic3\", \"Topic3\", \"Topic3\", \"Topic3\", \"Topic3\", \"Topic3\", \"Topic4\", \"Topic4\", \"Topic4\", \"Topic4\", \"Topic4\", \"Topic4\", \"Topic4\", \"Topic4\", \"Topic4\", \"Topic4\", \"Topic4\", \"Topic4\", \"Topic4\", \"Topic4\", \"Topic4\", \"Topic4\", \"Topic4\", \"Topic4\", \"Topic4\", \"Topic4\", \"Topic4\", \"Topic4\", \"Topic4\", \"Topic4\", \"Topic4\", \"Topic4\", \"Topic4\", \"Topic4\", \"Topic4\", \"Topic4\", \"Topic4\", \"Topic4\", \"Topic4\", \"Topic4\", \"Topic4\", \"Topic4\", \"Topic4\", \"Topic4\", \"Topic4\", \"Topic4\", \"Topic4\", \"Topic4\", \"Topic4\", \"Topic4\", \"Topic4\", \"Topic4\", \"Topic4\", \"Topic4\", \"Topic4\", \"Topic4\", \"Topic4\", \"Topic4\", \"Topic4\", \"Topic4\", \"Topic4\", \"Topic4\", \"Topic4\", \"Topic5\", \"Topic5\", \"Topic5\", \"Topic5\", \"Topic5\", \"Topic5\", \"Topic5\", \"Topic5\", \"Topic5\", \"Topic5\", \"Topic5\", \"Topic5\", \"Topic5\", \"Topic5\", \"Topic5\", \"Topic5\", \"Topic5\", \"Topic5\", \"Topic5\", \"Topic5\", \"Topic5\", \"Topic5\", \"Topic5\", \"Topic5\", \"Topic5\", \"Topic5\", \"Topic5\", \"Topic5\", \"Topic5\", \"Topic5\", \"Topic5\", \"Topic5\", \"Topic5\", \"Topic5\", \"Topic5\", \"Topic5\", \"Topic5\", \"Topic5\", \"Topic5\", \"Topic5\", \"Topic5\", \"Topic5\", \"Topic5\", \"Topic5\", \"Topic5\", \"Topic5\", \"Topic5\", \"Topic5\", \"Topic5\", \"Topic5\", \"Topic5\", \"Topic6\", \"Topic6\", \"Topic6\", \"Topic6\", \"Topic6\", \"Topic6\", \"Topic6\", \"Topic6\", \"Topic6\", \"Topic6\", \"Topic6\", \"Topic6\", \"Topic6\", \"Topic6\", \"Topic6\", \"Topic6\", \"Topic6\", \"Topic6\", \"Topic6\", \"Topic6\", \"Topic6\", \"Topic6\", \"Topic6\", \"Topic6\", \"Topic6\", \"Topic6\", \"Topic6\", \"Topic6\", \"Topic6\", \"Topic6\", \"Topic6\", \"Topic6\", \"Topic6\", \"Topic6\", \"Topic6\", \"Topic6\", \"Topic6\", \"Topic6\", \"Topic6\", \"Topic6\", \"Topic6\", \"Topic6\", \"Topic6\", \"Topic6\", \"Topic6\", \"Topic6\", \"Topic6\", \"Topic6\", \"Topic6\", \"Topic6\", \"Topic7\", \"Topic7\", \"Topic7\", \"Topic7\", \"Topic7\", \"Topic7\", \"Topic7\", \"Topic7\", \"Topic7\", \"Topic7\", \"Topic7\", \"Topic7\", \"Topic7\", \"Topic7\", \"Topic7\", \"Topic7\", \"Topic7\", \"Topic7\", \"Topic7\", \"Topic7\", \"Topic7\", \"Topic7\", \"Topic7\", \"Topic7\", \"Topic7\", \"Topic7\", \"Topic7\", \"Topic7\", \"Topic7\", \"Topic7\", \"Topic7\", \"Topic7\", \"Topic7\", \"Topic7\", \"Topic7\", \"Topic7\", \"Topic7\", \"Topic7\", \"Topic7\", \"Topic7\", \"Topic7\", \"Topic7\", \"Topic7\", \"Topic7\", \"Topic7\", \"Topic8\", \"Topic8\", \"Topic8\", \"Topic8\", \"Topic8\", \"Topic8\", \"Topic8\", \"Topic8\", \"Topic8\", \"Topic8\", \"Topic8\", \"Topic8\", \"Topic8\", \"Topic8\", \"Topic8\", \"Topic8\", \"Topic8\", \"Topic8\", \"Topic8\", \"Topic8\", \"Topic8\", \"Topic8\", \"Topic8\", \"Topic8\", \"Topic8\", \"Topic8\", \"Topic8\", \"Topic8\", \"Topic8\", \"Topic8\", \"Topic8\", \"Topic8\", \"Topic8\", \"Topic8\", \"Topic8\", \"Topic8\", \"Topic8\", \"Topic8\", \"Topic8\", \"Topic8\", \"Topic8\", \"Topic8\", \"Topic8\", \"Topic8\", \"Topic8\", \"Topic8\", \"Topic8\", \"Topic9\", \"Topic9\", \"Topic9\", \"Topic9\", \"Topic9\", \"Topic9\", \"Topic9\", \"Topic9\", \"Topic9\", \"Topic9\", \"Topic9\", \"Topic9\", \"Topic9\", \"Topic9\", \"Topic9\", \"Topic9\", \"Topic9\", \"Topic9\", \"Topic9\", \"Topic9\", \"Topic9\", \"Topic9\", \"Topic9\", \"Topic9\", \"Topic9\", \"Topic9\", \"Topic9\", \"Topic9\", \"Topic9\", \"Topic9\", \"Topic9\", \"Topic9\", \"Topic9\", \"Topic9\", \"Topic9\", \"Topic9\", \"Topic9\", \"Topic9\", \"Topic9\", \"Topic9\", \"Topic9\", \"Topic9\", \"Topic10\", \"Topic10\", \"Topic10\", \"Topic10\", \"Topic10\", \"Topic10\", \"Topic10\", \"Topic10\", \"Topic10\", \"Topic10\", \"Topic10\", \"Topic10\", \"Topic10\", \"Topic10\", \"Topic10\", \"Topic10\", \"Topic10\", \"Topic10\", \"Topic10\", \"Topic10\", \"Topic10\", \"Topic10\", \"Topic10\", \"Topic10\", \"Topic10\", \"Topic10\", \"Topic10\", \"Topic10\", \"Topic10\", \"Topic10\", \"Topic10\", \"Topic10\", \"Topic10\", \"Topic10\", \"Topic10\", \"Topic10\", \"Topic10\", \"Topic10\", \"Topic10\", \"Topic10\", \"Topic10\", \"Topic10\", \"Topic10\", \"Topic10\", \"Topic10\"], \"logprob\": [30.0, 29.0, 28.0, 27.0, 26.0, 25.0, 24.0, 23.0, 22.0, 21.0, 20.0, 19.0, 18.0, 17.0, 16.0, 15.0, 14.0, 13.0, 12.0, 11.0, 10.0, 9.0, 8.0, 7.0, 6.0, 5.0, 4.0, 3.0, 2.0, 1.0, -4.0638, -4.0817, -4.2446, -4.671, -4.7978, -4.9577, -4.9577, -5.0484, -5.1148, -5.1308, -5.1658, -5.24, -4.3007, -5.4059, -5.4288, -5.4762, -5.5518, -5.067, -5.6072, -5.7226, -5.7243, -5.7906, -5.892, -5.9303, -5.9701, -6.0942, -6.0947, -6.1403, -6.1432, -6.2394, -5.9573, -5.0132, -2.9177, -3.8916, -4.7699, -5.1305, -2.7398, -4.3599, -3.7011, -3.1215, -2.2579, -4.0452, -5.1539, -4.2588, -3.8492, -3.5041, -4.6215, -5.0462, -4.378, -5.0179, -5.1198, -5.1243, -4.3727, -4.5314, -4.5907, -4.792, -4.8431, -4.8431, -4.9235, -4.9832, -5.0144, -5.079, -5.1128, -5.2193, -5.2583, -5.2988, -5.3411, -5.3852, -5.4314, -5.4314, -5.4798, -5.4799, -5.4799, -5.5307, -5.5844, -5.6409, -5.6411, -5.6413, -5.701, -5.701, -5.701, -5.7011, -3.5052, -4.2403, -3.8909, -4.5457, -4.2741, -2.8824, -2.3277, -4.0273, -4.0401, -4.7812, -3.0021, -4.9974, -4.457, -4.6435, -4.4109, -3.8477, -5.0953, -4.3614, -4.8208, -5.055, -4.5224, -5.0469, -3.4167, -3.5536, -3.981, -4.1448, -4.3246, -4.4702, -4.4879, -4.6419, -4.7518, -4.7519, -4.9278, -5.0145, -5.1764, -5.3296, -5.3289, -5.3719, -5.5105, -5.1106, -5.615, -5.6716, -5.6717, -5.6718, -5.6719, -5.6726, -4.5618, -5.7317, -5.7319, -5.7321, -5.7956, -5.7956, -4.2258, -3.5846, -5.5655, -4.0187, -5.0666, -3.5802, -4.9279, -3.1578, -4.4363, -4.4948, -5.0058, -2.648, -5.0315, -3.1145, -3.7799, -3.8029, -3.9371, -4.6821, -4.6739, -4.5953, -4.9182, -4.9655, -4.9085, -3.3135, -3.3433, -4.1324, -4.6706, -5.2372, -5.2357, -5.2712, -5.4995, -4.9229, -4.2687, -5.6382, -5.6382, -5.6891, -5.7428, -5.7993, -5.7995, -5.8013, -5.8593, -5.8595, -5.8599, -5.9233, -5.9235, -5.9243, -5.9265, -5.9915, -5.9915, -5.9915, -5.9915, -5.9915, -5.9915, -5.2797, -5.1846, -4.3469, -3.6864, -4.2554, -5.5496, -3.8267, -4.1831, -1.5315, -2.8959, -3.9079, -3.4507, -4.1074, -3.0516, -4.9173, -4.5943, -4.033, -4.2061, -4.9287, -5.0443, -5.2738, -4.458, -4.6915, -4.9837, -5.1742, -5.1793, -5.1136, -4.7313, -4.8769, -5.0037, -5.05, -5.2028, -5.2029, -5.2595, -5.257, -5.3195, -5.3195, -5.3196, -5.3835, -5.4516, -5.4516, -5.4516, -5.4516, -5.4516, -5.4519, -3.1581, -5.7783, -5.9962, -4.9297, -4.6586, -6.1261, -4.3785, -6.2757, -5.5261, -5.3065, -3.8488, -6.4508, -4.0475, -2.5979, -4.9726, -4.6341, -3.8584, -2.9642, -3.8352, -3.6666, -2.1907, -4.3022, -4.7185, -4.8937, -3.8376, -4.0388, -3.7074, -4.5524, -4.5569, -4.8393, -4.7711, -4.8862, -4.7016, -3.6699, -3.877, -4.179, -4.6746, -4.7072, -4.7415, -4.774, -4.776, -5.1082, -5.3301, -5.3302, -5.3305, -5.3932, -5.3932, -5.3933, -5.3933, -5.3935, -5.4615, -5.4615, -5.4615, -5.4615, -5.4615, -5.4659, -2.7908, -3.0387, -4.6666, -6.1359, -5.483, -6.2988, -5.2511, -5.1083, -4.5378, -4.5295, -2.0318, -3.9242, -4.1836, -4.7371, -4.0855, -3.7495, -3.8218, -3.8675, -4.3382, -5.0975, -5.0865, -4.9569, -4.9623, -5.0272, -5.0727, -4.8876, -4.9963, -3.3691, -3.8755, -3.9206, -4.0471, -4.0729, -4.1612, -4.3591, -4.3594, -4.4333, -4.5631, -4.6087, -4.7616, -4.7618, -4.8182, -4.8783, -4.8783, -4.8783, -4.8784, -4.9422, -4.9424, -4.9425, -5.0104, -5.0104, -5.0104, -5.0104, -5.0105, -5.2436, -3.8838, -5.834, -5.8341, -4.2029, -4.3249, -2.6046, -3.3132, -4.3608, -4.0196, -3.5414, -3.5444, -4.5256, -4.4683, -3.7765, -4.4036, -4.6548, -4.6287, -4.8433, -3.5161, -4.0346, -4.0576, -4.1796, -4.2335, -4.3202, -4.3203, -4.3509, -4.4153, -4.4492, -4.484, -4.484, -4.484, -4.5947, -4.9774, -4.9774, -4.9776, -5.0374, -5.0374, -5.0377, -5.1696, -5.1696, -5.1696, -5.1696, -5.1699, -5.1735, -5.1735, -5.1735, -5.1735, -4.5614, -4.4872, -3.7783, -3.6405, -3.1541, -3.8239, -4.0571, -4.4326, -4.9396, -3.4309, -4.1907, -4.3076, -4.523, -4.2033, -3.6343, -4.4439, -4.8955, -4.7949, -2.4575, -2.9365, -2.9199, -4.1825, -4.3485, -4.3946, -4.4434, -4.4942, -4.4487, -4.5475, -4.6044, -4.6043, -4.6642, -4.7281, -4.7282, -4.7284, -4.7286, -4.7963, -4.7963, -4.7963, -4.9565, -5.3413, -5.3413, -4.443, -5.7956, -6.0086, -6.0095, -6.2797, -6.2799, -6.0127, -4.6041, -2.8734, -3.9133, -4.437, -5.3717, -4.678, -4.4143, -4.6505, -4.6677, -3.7837, -4.3224, -4.3242, -3.1995, -4.0312, -4.1423, -3.4445, -4.2487, -4.2487, -4.4982, -4.4982, -4.5568, -4.5875, -4.5875, -4.6191, -4.6191, -4.6518, -4.6518, -4.6856, -4.7205, -5.0529, -5.1037, -5.1573, -5.1592, -5.1607, -5.2139, -5.214, -4.9153, -4.7665, -5.2741, -5.274, -5.2742, -5.3379, -4.6105, -3.8951, -4.0968, -3.7596, -4.3581, -4.1154, -3.2758, -3.5646, -4.655, -4.578, -4.0473, -4.19, -4.4158, -4.4874, -4.4769], \"loglift\": [30.0, 29.0, 28.0, 27.0, 26.0, 25.0, 24.0, 23.0, 22.0, 21.0, 20.0, 19.0, 18.0, 17.0, 16.0, 15.0, 14.0, 13.0, 12.0, 11.0, 10.0, 9.0, 8.0, 7.0, 6.0, 5.0, 4.0, 3.0, 2.0, 1.0, 0.8534, 0.8533, 0.8524, 0.8492, 0.8481, 0.8463, 0.8463, 0.8452, 0.8443, 0.844, 0.8435, 0.8422, 0.8396, 0.8396, 0.8391, 0.8382, 0.8367, 0.8355, 0.8354, 0.8327, 0.8318, 0.8309, 0.8277, 0.8262, 0.8256, 0.8214, 0.8212, 0.8197, 0.8196, 0.8157, 0.8137, 0.7895, 0.7198, 0.73, 0.7512, 0.7518, 0.5667, 0.682, 0.5517, 0.4391, 0.2738, 0.548, 0.7261, 0.4458, 0.2659, -0.2435, 0.3694, 0.5971, -0.2419, 0.3125, 0.3417, -0.4831, 2.2996, 2.2939, 2.2918, 2.2829, 2.2804, 2.2804, 2.2762, 2.272, 2.271, 2.267, 2.2648, 2.2575, 2.2546, 2.2515, 2.2482, 2.2445, 2.2406, 2.2406, 2.2362, 2.2362, 2.2362, 2.2314, 2.2262, 2.2203, 2.2203, 2.2203, 2.2138, 2.2138, 2.2138, 2.2138, 2.1388, 2.0537, 2.0025, 1.9379, 1.8664, 1.4252, 0.9329, 1.5161, 1.3696, 1.7931, 0.5585, 1.876, 1.3076, 1.3976, 0.6488, -0.5412, 1.7336, -0.2254, 0.8225, 1.6041, -0.8849, 0.042, 2.3432, 2.3413, 2.3333, 2.3293, 2.3241, 2.3191, 2.3185, 2.3123, 2.3073, 2.3073, 2.2982, 2.2931, 2.2823, 2.2706, 2.2692, 2.267, 2.2545, 2.2513, 2.2439, 2.2377, 2.2377, 2.2377, 2.2376, 2.2374, 2.2322, 2.2308, 2.2307, 2.2307, 2.223, 2.223, 2.1444, 2.0981, 2.1969, 1.8786, 2.0853, 1.5087, 1.969, 1.1498, 1.7, 1.6735, 1.9037, 0.6126, 1.8855, 0.192, 0.3562, -0.2423, -0.2996, 1.1832, 0.7877, 0.3705, 1.31, 1.5129, -0.2868, 2.4214, 2.4206, 2.4079, 2.3876, 2.3512, 2.3509, 2.3483, 2.3267, 2.321, 2.3158, 2.3112, 2.3112, 2.305, 2.2982, 2.2907, 2.2906, 2.2857, 2.2823, 2.2822, 2.2821, 2.2728, 2.2728, 2.2726, 2.2716, 2.2622, 2.2622, 2.2622, 2.2622, 2.2622, 2.2622, 2.2458, 2.2179, 2.1389, 2.087, 1.9703, 2.1774, 1.7794, 1.806, 1.0003, 1.2192, 1.4975, 1.2539, 1.223, 0.209, 1.4726, 1.0243, 0.2746, 0.0467, 0.6757, 0.9242, 1.4036, -1.1515, -0.5555, 0.0583, 1.0144, 1.0896, -0.5205, 2.5805, 2.5709, 2.5616, 2.5579, 2.5445, 2.5445, 2.5391, 2.5387, 2.533, 2.533, 2.533, 2.5261, 2.5184, 2.5184, 2.5184, 2.5184, 2.5184, 2.5182, 2.5169, 2.474, 2.4368, 2.4299, 2.4257, 2.4113, 2.403, 2.3782, 2.3737, 2.358, 2.3504, 2.335, 2.1807, 2.0433, 2.2384, 2.1131, 1.8512, 1.1719, 1.557, 1.3931, 0.3411, 1.7143, 1.6713, 1.7941, 0.2775, 0.214, -0.4468, 0.853, 0.532, 1.2018, 0.8475, 1.1653, -1.3951, 2.7413, 2.7355, 2.7248, 2.6988, 2.6967, 2.6943, 2.692, 2.6918, 2.6639, 2.6399, 2.6399, 2.6398, 2.6322, 2.6322, 2.6322, 2.6322, 2.6322, 2.6234, 2.6234, 2.6234, 2.6234, 2.6234, 2.6197, 2.6193, 2.5657, 2.5278, 2.5025, 2.4595, 2.4541, 2.3543, 2.2727, 2.1135, 2.033, 0.5, 1.0667, 1.2262, 1.7413, 0.5557, -0.1889, -0.5612, -0.561, 0.2549, 1.8081, 1.718, 1.0596, 0.8023, 1.1194, 1.153, -1.2501, -0.3746, 3.0312, 3.0155, 3.0137, 3.0081, 3.0069, 3.0025, 2.9911, 2.9909, 2.9863, 2.9767, 2.9735, 2.9604, 2.9604, 2.9551, 2.9492, 2.9492, 2.9492, 2.9492, 2.9425, 2.9425, 2.9425, 2.935, 2.935, 2.935, 2.935, 2.935, 2.9055, 2.9008, 2.7988, 2.7988, 2.7356, 2.6196, 2.3612, 2.0922, 2.5832, 2.169, 0.7661, 0.5916, 2.037, 1.8006, -0.5159, -0.843, 1.1186, 0.7635, 0.8317, 3.2035, 3.1806, 3.1792, 3.1717, 3.1681, 3.162, 3.162, 3.1596, 3.1546, 3.1518, 3.1488, 3.1488, 3.1488, 3.1388, 3.0953, 3.0952, 3.0952, 3.087, 3.087, 3.0869, 3.0673, 3.0673, 3.0673, 3.0672, 3.067, 3.0619, 3.0619, 3.0619, 3.0619, 3.0554, 2.8501, 2.358, 2.2248, 1.9348, 2.1588, 2.1314, 2.2939, 2.8267, 1.1623, 1.9776, 1.9001, 2.1332, 1.4384, -0.3737, 1.4495, 2.6249, 1.2216, 3.227, 3.2229, 3.2115, 3.1767, 3.1654, 3.1619, 3.1574, 3.1539, 3.1519, 3.1493, 3.1441, 3.144, 3.1383, 3.1319, 3.1318, 3.1318, 3.1318, 3.1245, 3.1245, 3.1245, 3.0965, 3.0469, 3.0469, 2.9949, 2.9502, 2.8919, 2.891, 2.8038, 2.8037, 2.759, 2.5371, 2.1863, 2.29, 2.3415, 2.5956, 2.1848, 1.967, 2.0342, 2.0546, 0.4691, 0.6685, 0.6416, 3.2539, 3.2205, 3.2135, 3.2099, 3.206, 3.206, 3.1853, 3.1853, 3.1796, 3.1767, 3.1767, 3.1735, 3.1735, 3.1701, 3.1701, 3.1665, 3.1626, 3.1189, 3.1111, 3.1025, 3.0993, 3.0972, 3.0929, 3.0929, 3.0889, 3.0828, 3.0823, 3.0823, 3.0822, 3.0704, 3.0392, 2.853, 2.5564, 2.1057, 2.2981, 2.0312, 0.8602, 0.743, 2.263, 2.1066, 1.0124, 1.1404, 0.6731, 0.9227, 0.514]}, \"token.table\": {\"Topic\": [3, 6, 8, 2, 5, 2, 4, 7, 7, 10, 1, 4, 10, 3, 8, 1, 2, 3, 6, 9, 7, 1, 5, 8, 1, 9, 6, 8, 10, 4, 6, 10, 8, 10, 2, 3, 5, 8, 10, 8, 7, 8, 10, 3, 2, 5, 6, 2, 9, 1, 3, 4, 6, 10, 10, 2, 1, 2, 5, 7, 2, 5, 10, 2, 1, 5, 6, 8, 4, 5, 5, 2, 2, 4, 1, 4, 8, 8, 1, 9, 2, 7, 4, 10, 10, 9, 10, 3, 3, 1, 2, 3, 4, 7, 10, 9, 4, 8, 10, 6, 1, 2, 7, 3, 1, 1, 1, 5, 6, 7, 4, 5, 9, 5, 1, 1, 6, 3, 1, 3, 8, 1, 2, 3, 4, 5, 6, 7, 8, 10, 10, 3, 1, 4, 6, 9, 8, 1, 3, 3, 5, 1, 2, 10, 6, 8, 10, 1, 6, 5, 7, 4, 7, 1, 4, 6, 8, 9, 1, 9, 7, 7, 4, 10, 4, 5, 4, 7, 10, 3, 4, 5, 2, 3, 7, 8, 10, 2, 2, 8, 10, 9, 1, 2, 3, 9, 2, 3, 3, 3, 7, 1, 10, 3, 7, 9, 9, 2, 4, 8, 6, 10, 4, 3, 1, 3, 5, 2, 6, 9, 10, 8, 6, 1, 8, 3, 1, 4, 5, 8, 9, 1, 6, 7, 9, 5, 7, 1, 3, 3, 1, 5, 10, 3, 5, 6, 9, 7, 1, 2, 2, 4, 1, 4, 1, 7, 8, 10, 7, 4, 5, 7, 5, 10, 2, 5, 7, 10, 3, 8, 10, 5, 7, 8, 10, 8, 3, 8, 6, 2, 4, 5, 7, 5, 3, 6, 6, 10, 7, 4, 6, 4, 6, 1, 2, 3, 4, 5, 7, 10, 2, 3, 5, 2, 8, 10, 8, 7, 1, 5, 9, 3, 10, 1, 1, 10, 4, 6, 1, 2, 10, 1, 4, 5, 6, 3, 5, 4, 10, 7, 7, 1, 2, 3, 4, 6, 7, 8, 10, 5, 7, 2, 6, 8, 10, 9, 6, 1, 4, 7, 6, 8, 3, 7, 5, 1, 9, 8, 9, 5, 1, 2, 3, 6, 1, 4, 8, 9, 10, 2, 10, 1, 2, 6, 3, 7, 1, 2, 3, 4, 6, 8, 10, 1, 10, 5, 7, 10, 2, 3, 5, 10, 2, 1, 2, 3, 5, 6, 7, 8, 2, 3, 3, 7, 8, 3, 2, 3, 1, 4, 10, 6, 1, 8, 1, 4, 6, 8, 9, 7, 8, 7, 10, 2, 3, 2, 3, 4, 7, 10, 1, 2, 7, 5, 10, 2, 3, 4, 6, 3, 8, 10, 5, 2, 2, 3, 7, 8, 2, 1, 2, 3, 4, 5, 6, 4, 8, 9, 5, 7, 10, 7, 5, 6, 4, 6, 6, 1, 6, 10, 7, 8, 8, 7, 9, 4, 1, 8, 9, 6, 10, 2, 3, 7, 10, 8, 7, 4, 1, 4, 8, 3, 5, 9, 1, 4, 3, 2, 7, 9, 10, 8, 5, 2, 5, 9, 1, 2, 4, 10, 3, 9, 2, 1, 1, 2, 3, 2, 7, 1, 4, 5, 6, 9, 3, 8, 3, 6, 1, 4, 5, 1, 3, 5, 2, 4, 8, 1, 2, 10, 4, 1, 1, 9, 10, 1, 2, 4, 2, 1, 5, 3, 1, 6, 2, 5, 2, 6, 5, 1, 4, 5, 7, 10, 9, 7, 2, 9, 4, 7, 8, 2, 1, 3, 4, 6, 9, 10, 6, 9, 6, 1, 6, 3, 3, 1, 10, 1, 1, 10, 1, 1, 6, 7, 1, 6, 6, 4, 4, 4, 2, 4, 5, 9, 10, 4, 10, 2, 4, 6, 9, 1, 3, 4, 6, 4, 1, 3, 5, 6, 8, 7, 10, 8, 10, 1, 4, 8, 3, 10, 6, 4, 9, 4, 8, 1, 3, 2, 3, 4, 3, 8, 1, 2, 9, 1, 6, 9, 3, 3, 1, 2, 4, 5, 8, 10, 2, 10, 1, 2, 4, 8, 9, 3, 6, 9, 5, 9, 1, 2, 6, 3, 1, 3, 7, 9, 9, 9, 4, 2, 7, 8], \"Freq\": [0.43643416687833103, 0.3692904488970493, 0.2014311539438451, 0.9028914447665595, 0.8952034846202206, 0.13270467309941178, 0.6966995337719118, 0.14929275723683827, 0.04003138757427842, 0.9207219142084037, 0.6608308774007311, 0.30762816706585755, 0.02848408954313496, 0.10480337035295828, 0.8384269628236662, 0.5950407503158631, 0.10929319903760752, 0.20644270929325864, 0.08500582147369475, 0.9281099643173144, 0.9625872788129485, 0.9717758098687866, 0.8952039824054608, 0.7793299771060529, 0.023727402042687577, 0.9728234837501907, 0.8650735976514425, 0.034602943906057705, 0.09227451708282054, 0.6258039044276825, 0.20860130147589417, 0.15645097610692063, 0.9584854662128908, 0.8501512161196801, 0.10039253107249124, 0.42666825705808775, 0.11712461958457311, 0.26771341619330996, 0.07529439830436843, 0.9584854662128908, 0.09517033324232704, 0.5710219994539623, 0.3806813329693082, 0.8887581932125217, 0.9176089146254481, 0.7695337513588464, 0.10993339305126376, 0.4559640753100798, 0.5211018003543769, 0.3854917837116833, 0.07227970944594062, 0.04818647296396041, 0.19274589185584165, 0.28911883778376246, 0.8358865462658526, 0.9368033210634499, 0.4669040451623972, 0.031126936344159813, 0.45134057699031727, 0.031126936344159813, 0.9555227919506343, 0.926968781078726, 0.874663084554822, 0.9753100518684733, 0.2749993261516824, 0.40192209206784346, 0.19038414887424165, 0.12692276591616108, 0.8856650252599361, 0.8798575068141725, 0.9286539381674214, 0.9599089861111061, 0.8859913777468041, 0.8860148200319279, 0.9792092123483247, 0.7925273497163169, 0.9160568862310559, 0.8705949833217066, 0.7006959646546334, 0.27418537747355215, 0.8826047383064112, 0.959249146022416, 0.30776558926309233, 0.659497691278055, 0.8962685232531591, 0.9760502842613011, 0.8501566731988435, 0.9818992938871086, 0.8884937255954685, 0.13613016658877372, 0.13613016658877372, 0.08167809995326424, 0.27226033317754744, 0.27226033317754744, 0.08167809995326424, 0.9564133918842724, 0.8411972905558973, 0.7782549494625763, 0.912869153191926, 0.9462585432804592, 0.9934353539129158, 0.9490389293125089, 0.9533815272384059, 0.8431156738323747, 0.992032763120973, 0.9753836742737577, 0.4758951544109598, 0.3399251102935427, 0.0793158590684933, 0.10197753308806282, 0.2976147840543003, 0.14880739202715015, 0.5952295681086006, 0.9348723914012693, 0.9914422966964208, 0.9840752803298254, 0.9463294840426087, 0.9725434539955095, 0.7171255354002509, 0.02561162626429468, 0.2561162626429468, 0.33204857157544393, 0.24735602093069506, 0.1747624060923389, 0.10754609605682394, 0.04570709082415017, 0.03629680741917808, 0.028230850214916284, 0.026886524014205986, 0.0013443262007102991, 0.7720069376238892, 0.8947680017545931, 0.8381522685285822, 0.09578883068898081, 0.055876817901905476, 0.007982402557415069, 0.779340769243011, 0.9952675987039671, 0.9216841297201032, 0.8934054099451005, 0.08121867363137278, 0.4064638972074674, 0.5912202141199525, 0.6938436122246551, 0.8374093066216006, 0.7132339255404374, 0.2377446418468125, 0.4390030345921089, 0.5188217681543105, 0.8870247074571365, 0.8734709968092963, 0.7925260477425914, 0.9703539381741169, 0.7338251978471237, 0.05096008318382804, 0.08153613309412487, 0.1274002079595701, 0.0050960083183828045, 0.5864516941177111, 0.3824684961637247, 0.9316135260606611, 0.9315054990904674, 0.7925272318919614, 0.8962217441280506, 0.9151814778554608, 0.928602396817595, 0.7440865560594652, 0.23675481329164802, 0.8783134320143671, 0.21508834362400434, 0.36872287478400745, 0.36872287478400745, 0.09848017342461453, 0.5170209104792263, 0.049240086712307264, 0.2954405202738436, 0.049240086712307264, 0.8484110052438525, 0.27991220575760656, 0.19993728982686182, 0.4798494955844684, 0.9283185936576441, 0.5271858209270727, 0.4481079477880118, 0.013179645523176816, 0.9082481143348433, 0.12122965904638827, 0.8486076133247179, 0.9397960108461811, 0.09119740974018765, 0.8663753925317828, 0.9446788090531831, 0.7974310133419001, 0.32087308856336283, 0.6417461771267257, 0.8833855625941449, 0.45433999613291953, 0.7107077473819678, 0.09351417728710103, 0.16832551911678184, 0.9029578243548988, 0.8206941547722346, 0.8857405983500323, 0.9601728813779242, 0.6352799428034113, 0.13143722954553336, 0.2190620492425556, 0.25707236692164015, 0.25707236692164015, 0.2999177614085802, 0.1713815779477601, 0.8266636531729191, 0.9597535498979758, 0.6544142725063035, 0.3476575822689737, 0.8426533429932858, 0.7360542041842196, 0.09064706948081523, 0.08702118670158261, 0.018129413896163044, 0.06164000724695435, 0.1373935524331002, 0.7556645383820512, 0.17526782200163635, 0.7887051990073636, 0.928595890628056, 0.9057043086708123, 0.3755399838136389, 0.6196409732925042, 0.9276967456891893, 0.3725108805940803, 0.41390097843786694, 0.16556039137514678, 0.9397867131326584, 0.95544352837803, 0.9730365739605382, 0.8522839627988652, 0.8922777656878449, 0.9876871215794576, 0.9598992461813082, 0.9498955473825487, 0.7925272318919614, 0.9682158800831557, 0.937147974992835, 0.9929649042508681, 0.8685403391538892, 0.9421987039728048, 0.7959445501267232, 0.911139410312907, 0.9353854600417917, 0.7111976029341334, 0.9801101814001171, 0.6746727581761143, 0.8782658751282061, 0.9668217309659304, 0.8772821282252526, 0.10831803918392464, 0.7582262742874726, 0.9600849343739456, 0.9644236893376077, 0.9687209888497693, 0.7894694761880408, 0.9563171921327593, 0.8266517063853317, 0.7964253882572794, 0.8707686741369485, 0.8134898732917334, 0.18077552739816297, 0.8732897031058341, 0.3277101783811003, 0.3686739506787378, 0.28674640608346275, 0.857979244719418, 0.8952034846202206, 0.7900780633640404, 0.1975195158410101, 0.6528499282361565, 0.9281783545869221, 0.9590351440271372, 0.8386087508050415, 0.9619203217717571, 0.8009164075116024, 0.8954413848176085, 0.3323113563041447, 0.07743177234271334, 0.13550560159974834, 0.051621181561808886, 0.22906899318052695, 0.08388442003793944, 0.0871107438855525, 0.7538279134003582, 0.027919552348161417, 0.1954368664371299, 0.3872578123831523, 0.3872578123831523, 0.17211458328140103, 0.7782549494625763, 0.9633308537156968, 0.18458831019904076, 0.7998826775291766, 0.935851043129055, 0.6252588813533356, 0.3647343474561125, 0.9688138923457706, 0.9814620641088332, 0.018874270463631406, 0.9642636476174985, 0.836817275459924, 0.2990078565525415, 0.6478503558638399, 0.04983464275875691, 0.37214269342334266, 0.23258918338958917, 0.04651783667791783, 0.37214269342334266, 0.33982474879475427, 0.6273687670057002, 0.9352667944398751, 0.9450146409153661, 0.8734776205779725, 0.8684858373355793, 0.6569248620724544, 0.16876798942745377, 0.07440309211317854, 0.014517676509888496, 0.0526265773483458, 0.01996180520109668, 0.003629419127472124, 0.00907354781868031, 0.32103613195405495, 0.6420722639081099, 0.48265150882745783, 0.24132575441372892, 0.1608838362758193, 0.08044191813790964, 0.9721102765176627, 0.89522581114973, 0.867268802495416, 0.09226263856334213, 0.018452527712668428, 0.9013217977465497, 0.9828306058297229, 0.8745979466238236, 0.09206294174987617, 0.7914636490781861, 0.9818696717531505, 0.8650346443678933, 0.7782549494625763, 0.8880834535426111, 0.8951969274173058, 0.8700994176989445, 0.03919366746391642, 0.07054860143504955, 0.01763715035876239, 0.24697376551700265, 0.535109825286839, 0.10290573563208444, 0.02058114712641689, 0.10290573563208444, 0.9370821238389399, 0.8358653668076698, 0.9781459262686831, 0.9592467313713565, 0.8368401924482084, 0.9552839614253691, 0.9057620531590408, 0.18087875504804546, 0.3617575100960909, 0.0657740927447438, 0.11510466230330166, 0.14799170867567354, 0.0986611391171157, 0.0328870463723719, 0.6015455235897958, 0.3609273141538775, 0.7364204564485722, 0.07618142652916264, 0.1777566619013795, 0.3902369667862008, 0.2601579778574672, 0.23847814636934492, 0.08671932595248906, 0.9445965139958681, 0.27629582522429447, 0.15996074091932835, 0.1454188553812076, 0.11633508430496609, 0.10179319876684532, 0.04362565661436228, 0.15996074091932835, 0.31232507928939746, 0.6246501585787949, 0.6632337462867346, 0.051017980483594974, 0.2040719219343799, 0.9621455668219593, 0.8307111637970049, 0.16031268073275534, 0.5751553416744755, 0.2982286956830614, 0.11716127330405983, 0.9317437705262049, 0.9684103328191446, 0.9424158204961508, 0.07465870793956629, 0.8959044952747954, 0.725774090882379, 0.1451548181764758, 0.9066578563172717, 0.9056927908201433, 0.7793362026654685, 0.7445772691882342, 0.21273636262520979, 0.9111117312459083, 0.8425840890185816, 0.40215013996139937, 0.2987401039713253, 0.11490003998897125, 0.09958003465710842, 0.08043002799227987, 0.7719149203677775, 0.2184664868965408, 0.9593052661217021, 0.698472419906519, 0.2793889679626076, 0.8471228808633957, 0.9786838169185972, 0.16810223745617442, 0.8124941477048431, 0.30914816955969193, 0.36370372889375524, 0.30914816955969193, 0.8952034846202206, 0.9780875097262448, 0.023844943970634722, 0.5245887673539639, 0.023844943970634722, 0.40536404750079025, 0.9076069292122345, 0.7473624498921789, 0.05629848963406244, 0.115411903749828, 0.02814924481703122, 0.018297009131070293, 0.03518655602128903, 0.916809811360691, 0.9317872526409786, 0.8522858205175866, 0.886987550668783, 0.10523581109629629, 0.891239663501011, 0.8734715403950541, 0.8959467404311561, 0.9464211254351921, 0.8190983823405087, 0.11701405462007267, 0.8952487749184815, 0.41171813593478673, 0.3602533689429384, 0.15439430097554505, 0.9637345136585737, 0.8705830326307075, 0.8999678654048565, 0.9465294516308036, 0.6482306960903286, 0.917038582454207, 0.6416952280930003, 0.32084761404650014, 0.9359352856135158, 0.5795362532814066, 0.33116357330366086, 0.57197587265793, 0.4289819044934476, 0.8734776205779725, 0.9006536701875565, 0.9160643186512042, 0.9633764149851748, 0.904452258314109, 0.9063294799607402, 0.0924825999959939, 0.9117918151265761, 0.8886461995671704, 0.8952872268685763, 0.9356956569132422, 0.9969664773319067, 0.792531252073605, 0.8424978031258026, 0.33009464704654085, 0.041261830880817606, 0.28883281616572326, 0.28883281616572326, 0.7782549494625763, 0.973578431371144, 0.9369210148246031, 0.6954378264815295, 0.1390875652963059, 0.35081636196174665, 0.09822858134928907, 0.519208215703385, 0.014032654478469866, 0.8425577720783334, 0.8522858205175866, 0.8471266696400291, 0.9879652916100805, 0.9775761657806189, 0.008806992484510081, 0.008806992484510081, 0.8471356141653511, 0.9056926028897596, 0.5571331365449893, 0.2373815226722539, 0.09988184287302486, 0.10377334324470115, 0.0006485833952793822, 0.24340067013590522, 0.6085016753397631, 0.31085405194544236, 0.6217081038908847, 0.5825711119153877, 0.2415538756722339, 0.17050861812157686, 0.9788614827313171, 0.16206957047799997, 0.8103478523899998, 0.6749936708403107, 0.30374715187813983, 0.8267804375933125, 0.311306283057885, 0.62261256611577, 0.047893274316597685, 0.8769205817970013, 0.9870946235356309, 0.9920435023460955, 0.8105324021605799, 0.9006422530287905, 0.58469767053375, 0.18145789775185342, 0.22178187503004307, 0.9259731081883091, 0.1818214439272523, 0.7727411366908223, 0.9231393502912807, 0.9808353359337408, 0.8368118451954812, 0.39534610479733107, 0.571055484707256, 0.8905066795367724, 0.9462652076252762, 0.8427407609285815, 0.011481187958010862, 0.3903603905723693, 0.17221781937016292, 0.3788792026143584, 0.04592475183204345, 0.945542063816446, 0.8735390522622727, 0.955438023215584, 0.9865846655173777, 0.2512436717553854, 0.40198987480861664, 0.32661677328200106, 0.9259811610305931, 0.6144038590186223, 0.045511396964342386, 0.015170465654780797, 0.18204558785736955, 0.07585232827390398, 0.060681862619123186, 0.9760771966017978, 0.7567111380547842, 0.8368267114354122, 0.9022355105337307, 0.09022355105337307, 0.9257149382685909, 0.9927849033034353, 0.9562642715078976, 0.891238331574803, 0.9797311224123361, 0.9939684519810802, 0.9822694702684823, 0.9942232243563742, 0.14607361054103743, 0.47473923425837167, 0.36518402635259356, 0.9786292162683347, 0.9038244550957102, 0.8368267114354122, 0.9359825322028241, 0.7925273497163169, 0.9457465535037413, 0.18687460017902421, 0.07312484354831382, 0.28437439157677596, 0.3493742525086105, 0.10562477401423108, 0.9896370809104835, 0.9457129334177864, 0.8472132889328494, 0.9858624492406212, 0.9462869314918145, 0.9355752433844431, 0.8808775395022349, 0.07340646162518624, 0.0052433186875133035, 0.04194654950010643, 0.8769599290519783, 0.2619866180170354, 0.04811999106435343, 0.550706564403156, 0.10693331347634097, 0.03207999404290229, 0.1322359629860918, 0.7934157779165509, 0.7793152066817828, 0.8782524492681191, 0.9828959541529811, 0.9591453440115802, 0.7793362026654685, 0.9643208366150549, 0.7623660889977555, 0.8569155622899982, 0.7612521532983748, 0.16916714517741663, 0.8609575295663322, 0.09566194772959247, 0.3100023732248239, 0.6200047464496478, 0.12119409363482192, 0.7726123469219898, 0.10604483193046918, 0.9687342657398756, 0.9284338449404749, 0.2958421475985318, 0.34514917219828706, 0.34514917219828706, 0.9394631614776389, 0.05124344517150758, 0.45438799580433087, 0.9345837364400731, 0.8507997925387938, 0.5529039250435082, 0.0347539610027348, 0.29698839402337013, 0.09478353000745854, 0.015797255001243092, 0.003159451000248618, 0.8860164241002785, 0.8746674531443122, 0.9915502905779723, 0.07218269523699179, 0.8661923428439016, 0.9296683230538854, 0.9066580467669242, 0.2719266223872544, 0.2719266223872544, 0.4078899335808816, 0.955361173392911, 0.9562860726213537, 0.39205651849784834, 0.38052544442438224, 0.21909040739585642, 0.9693936689492358, 0.2884880816003261, 0.1405454756514409, 0.49560772992876534, 0.07397130297444258, 0.756649572546376, 0.6651939465600802, 0.8410877505397515, 0.9259358351068536, 0.9326388293914064, 0.9584827037423601], \"Term\": [\"10\", \"10\", \"10\", \"30\", \"51\", \"PT\", \"PT\", \"PT\", \"pt\", \"pt\", \"\\uac00\\uaca9\", \"\\uac00\\uaca9\", \"\\uac00\\uaca9\", \"\\uac00\\ub054\", \"\\uac00\\ub054\", \"\\uac00\\ub2a5\", \"\\uac00\\ub2a5\", \"\\uac00\\ub2a5\", \"\\uac00\\ub2a5\", \"\\uac00\\uc131\", \"\\uac00\\uc785\", \"\\uac00\\uc7a5\", \"\\uac04\\uacb0\", \"\\uac04\\ub7b5\", \"\\uac04\\ud3b8\", \"\\uac04\\ud3b8\", \"\\uac10\\uc0ac\", \"\\uac10\\uc0ac\", \"\\uac10\\uc0ac\", \"\\uac15\\uc0ac\", \"\\uac15\\uc0ac\", \"\\uac15\\uc0ac\", \"\\uac15\\uc88c\", \"\\uac1c\\ubc1c\\uc790\", \"\\uac1c\\uc120\", \"\\uac1c\\uc120\", \"\\uac1c\\uc120\", \"\\uac1c\\uc120\", \"\\uac1c\\uc120\", \"\\uac1c\\uc124\", \"\\uac70\\ub098\", \"\\uac70\\ub098\", \"\\uac70\\ub098\", \"\\uac70\\uc8fc\", \"\\uac74\\uc9c0\\ub2e4\", \"\\uac77\\ub2e4\", \"\\uac77\\ub2e4\", \"\\uac78\\ub9ac\\ub2e4\", \"\\uac78\\ub9ac\\ub2e4\", \"\\uac80\\uc0c9\", \"\\uac80\\uc0c9\", \"\\uac80\\uc0c9\", \"\\uac80\\uc0c9\", \"\\uac80\\uc0c9\", \"\\uacb0\\uacfc\", \"\\uacb0\\uc815\", \"\\uacb0\\uc81c\", \"\\uacb0\\uc81c\", \"\\uacb0\\uc81c\", \"\\uacb0\\uc81c\", \"\\uacbd\\uae30\", \"\\uacbd\\ub0a8\", \"\\uacbd\\ub825\", \"\\uacbd\\ud5d8\", \"\\uacc4\\uc18d\", \"\\uacc4\\uc18d\", \"\\uacc4\\uc18d\", \"\\uacc4\\uc18d\", \"\\uacc4\\uc2dc\", \"\\uacc4\\uc2dc\\ub2e4\", \"\\uacc4\\ud68d\", \"\\uace0\\uac1d\", \"\\uace0\\ub974\\ub2e4\", \"\\uace0\\uc815\", \"\\uace8\\ud504\", \"\\uacf5\\uac1c\", \"\\uacf5\\uc9c0\", \"\\uacfc\\uc815\", \"\\uad00\\ub9ac\", \"\\uad00\\ub9ac\", \"\\uad00\\uc2ec\", \"\\uad00\\uc7a5\", \"\\uad11\\uace0\", \"\\uad11\\uace0\", \"\\uad11\\uc8fc\", \"\\uad73\\ub2e4\", \"\\uad81\\uae08\", \"\\uad8c\\ud55c\", \"\\uaddc\\uc815\", \"\\uadf8\\ub807\\ub2e4\", \"\\uadf8\\ub807\\ub2e4\", \"\\uadf8\\ub807\\ub2e4\", \"\\uadf8\\ub807\\ub2e4\", \"\\uadf8\\ub807\\ub2e4\", \"\\uadf8\\ub807\\ub2e4\", \"\\uadf8\\ub8f9\", \"\\uadfc\\uc721\", \"\\uae09\\ud558\\ub2e4\", \"\\uae30\\uac04\", \"\\uae30\\uad00\", \"\\uae30\\uad6c\", \"\\uae30\\ub2e4\", \"\\uae30\\ub300\", \"\\uae30\\uc900\", \"\\uae68\\ub057\", \"\\uafb8\\uc900\\ud558\\ub2e4\", \"\\ub044\\ub2e4\", \"\\ub044\\ub2e4\", \"\\ub044\\ub2e4\", \"\\ub044\\ub2e4\", \"\\ub04a\\ub2e4\", \"\\ub04a\\ub2e4\", \"\\ub04a\\ub2e4\", \"\\ub05d\", \"\\ub09c\\uace1\", \"\\ub113\\ub2e4\", \"\\ub118\\uae30\\ub2e4\", \"\\ub124\\ud2b8\\uc6cc\\ud06c\", \"\\ub144\", \"\\ub144\", \"\\ub144\", \"\\ub298\\ub2e4\", \"\\ub298\\ub2e4\", \"\\ub298\\ub2e4\", \"\\ub298\\ub2e4\", \"\\ub298\\ub2e4\", \"\\ub298\\ub2e4\", \"\\ub298\\ub2e4\", \"\\ub298\\ub2e4\", \"\\ub298\\ub2e4\", \"\\ub298\\ub9ac\\ub2e4\", \"\\ub298\\uc5b4\\ub098\\ub2e4\", \"\\ub2e4\\ub2c8\\ub2e4\", \"\\ub2e4\\ub2c8\\ub2e4\", \"\\ub2e4\\ub2c8\\ub2e4\", \"\\ub2e4\\ub2c8\\ub2e4\", \"\\ub2e4\\uc2dc\\ud53c\", \"\\ub2e4\\uc591\", \"\\ub2e4\\uc774\\uc5b4\\ud2b8\", \"\\ub2e8\\uc704\", \"\\ub2e8\\uc704\", \"\\ub2ec\\ub2e4\", \"\\ub2ec\\ub2e4\", \"\\ub2f9\\uc77c\", \"\\ub2f9\\ucca8\", \"\\ub2f9\\ud669\", \"\\ub2f9\\ud669\", \"\\ub300\\ub2e4\", \"\\ub300\\ub2e4\", \"\\ub300\\ube44\", \"\\ub300\\uc694\", \"\\ub300\\ud1b5\\ub839\", \"\\ub300\\ud55c\", \"\\ub354\", \"\\ub354\", \"\\ub354\", \"\\ub354\", \"\\ub354\", \"\\ub355\\ubd84\", \"\\ub355\\ubd84\", \"\\ub358\\ub370\", \"\\ub358\\uc9c0\\ub2e4\", \"\\ub365\\ub2e4\", \"\\ub370\\uc774\\ud130\", \"\\ub3c8\", \"\\ub3cc\\uc544\\uac00\\ub2e4\", \"\\ub3d9\\ub124\", \"\\ub3d9\\ub124\", \"\\ub3d9\\uc758\", \"\\ub3fc\\ub2e4\", \"\\ub3fc\\ub2e4\", \"\\ub3fc\\ub2e4\", \"\\ub4dc\\ub9ac\\ub2e4\", \"\\ub4dc\\ub9ac\\ub2e4\", \"\\ub4dc\\ub9ac\\ub2e4\", \"\\ub4dc\\ub9ac\\ub2e4\", \"\\ub4dc\\ub9ac\\ub2e4\", \"\\ub4e3\\ub2e4\", \"\\ub4e4\\uc5b4\\uac00\\ub2e4\", \"\\ub4e4\\uc5b4\\uac00\\ub2e4\", \"\\ub4e4\\uc5b4\\uac00\\ub2e4\", \"\\ub4e4\\uc5b4\\uc624\\ub2e4\", \"\\ub4f1\\ub85d\", \"\\ub4f1\\ub85d\", \"\\ub4f1\\ub85d\", \"\\ub530\\ub2e4\", \"\\ub530\\ub974\\ub2e4\", \"\\ub530\\ub974\\ub2e4\", \"\\ub5a8\\ub2e4\", \"\\ub610\", \"\\ub610\", \"\\ub77c\\uc774\\ud504\", \"\\ub824\\uba74\", \"\\ub85c\\uadf8\\uc778\", \"\\ub85c\\uadf8\\uc778\", \"\\ub85c\\ub529\", \"\\ub85c\\uc11c\", \"\\ub9ac\\ubdf0\", \"\\ub9ac\\ubdf0\", \"\\ub9ac\\ubdf0\", \"\\ub9c8\\uac10\", \"\\ub9c8\\uad6c\", \"\\ub9c8\\ub0e5\", \"\\ub9c8\\uc2a4\\ud130\", \"\\ub9c8\\uc74c\", \"\\ub9c8\\uc74c\", \"\\ub9c8\\uc74c\", \"\\ub9cc\\ub098\\ub2e4\", \"\\ub9cc\\ub098\\ub2e4\", \"\\ub9cc\\ub098\\ub2e4\", \"\\ub9cc\\ub098\\ub2e4\", \"\\ub9cc\\ub4dc\", \"\\ub9cc\\ub4e4\\ub2e4\", \"\\ub9cc\\uc871\", \"\\ub9cc\\uc871\", \"\\ub9cc\\uc871\\ub3c4\", \"\\ub9ce\\ub2e4\", \"\\ub9ce\\ub2e4\", \"\\ub9ce\\ub2e4\", \"\\ub9ce\\ub2e4\", \"\\ub9ce\\ub2e4\", \"\\ub9d0\\ub2e4\", \"\\ub9d0\\ub2e4\", \"\\ub9de\\ub2e4\", \"\\ub9de\\ub2e4\", \"\\uba54\\uc778\", \"\\uba54\\uc77c\", \"\\uba74\\uc11c\", \"\\uba74\\uc11c\", \"\\ubaa8\\ub4e0\", \"\\ubaa8\\ub974\\ub2e4\", \"\\ubaa8\\ub974\\ub2e4\", \"\\ubaa8\\ub974\\ub2e4\", \"\\ubaa8\\uc73c\\ub2e4\", \"\\ubab8\\uc9f1\", \"\\ubb34\\ub8cc\", \"\\ubb34\\ud55c\\ub300\", \"\\ubb38\\uc790\", \"\\ubb38\\ud654\", \"\\ubbf8\\ub9ac\", \"\\ubbff\\ub2e4\", \"\\ubc09\\ub2e4\", \"\\ubc14\\ub00c\\ub2e4\", \"\\ubc14\\ud0d5\", \"\\ubc15\\uc2a4\", \"\\ubc18\\ubcf5\", \"\\ubc1c\\uc804\", \"\\ubc29\\uc2dd\", \"\\ubc84\\ub9ac\\ub2e4\", \"\\ubc84\\ud37c\\ub9c1\", \"\\ubc85\\uc2a4\", \"\\ubc88\\ud638\", \"\\ubc8c\\uc368\", \"\\ubca0\\ub2e4\", \"\\ubcc4\\ub85c\", \"\\ubcf4\\uae30\", \"\\ubcf4\\ub0b4\\ub2e4\", \"\\ubcf4\\ub0b4\\ub2e4\", \"\\ubcf4\\uc548\", \"\\ubcf4\\uc774\", \"\\ubcf4\\uc774\\ub2e4\", \"\\ubcf5\\uc9c0\", \"\\ubd80\\ub2f4\", \"\\ubd84\\uba85\", \"\\ubd88\\uac00\", \"\\ubd88\\ub9cc\", \"\\ubd88\\ud3b8\", \"\\ubd88\\ud3b8\", \"\\ubd90\\ube44\\ub2e4\", \"\\ube44\\uad50\", \"\\ube44\\uad50\", \"\\ube44\\uad50\", \"\\ube44\\ubc88\", \"\\ube59\\ube59\", \"\\ube60\\ub974\\ub2e4\", \"\\ube60\\ub974\\ub2e4\", \"\\ube68\\ub974\\ub2e4\", \"\\ube7c\\ub2e4\", \"\\ubfcc\\ub9ac\\ub2e4\", \"\\uc0ac\\uae30\", \"\\uc0ac\\ub0b4\", \"\\uc0ac\\ub77c\\uc9c0\\ub2e4\", \"\\uc0ac\\ubb34\\uc2e4\", \"\\uc0ac\\uc774\\ud2b8\", \"\\uc0ac\\uc774\\ud2b8\", \"\\uc0ac\\uc774\\ud2b8\", \"\\uc0ac\\uc774\\ud2b8\", \"\\uc0ac\\uc774\\ud2b8\", \"\\uc0ac\\uc774\\ud2b8\", \"\\uc0ac\\uc774\\ud2b8\", \"\\uc0ac\\uc9c4\", \"\\uc0ac\\uc9c4\", \"\\uc0ac\\uc9c4\", \"\\uc0ad\\uc81c\", \"\\uc0ad\\uc81c\", \"\\uc0ad\\uc81c\", \"\\uc0c1\\uad00\", \"\\uc0c1\\ub2f4\", \"\\uc0c1\\ud0dc\", \"\\uc0c1\\ud0dc\", \"\\uc0dd\\uaca8\\ub098\\ub2e4\", \"\\uc0dd\\uae30\\ub2e4\", \"\\uc0dd\\uae30\\ub2e4\", \"\\uc0dd\\ud65c\", \"\\uc11c\\ube44\\uc2a4\", \"\\uc11c\\ube44\\uc2a4\", \"\\uc120\\uc0dd\", \"\\uc120\\uc218\", \"\\uc120\\ud0dd\", \"\\uc120\\ud0dd\", \"\\uc120\\ud0dd\", \"\\uc124\\uba85\", \"\\uc124\\uba85\", \"\\uc124\\uba85\", \"\\uc124\\uba85\", \"\\uc124\\uce58\", \"\\uc124\\uce58\", \"\\uc138\\ub2e4\", \"\\uc18c\\uac1c\", \"\\uc18c\\ub77c\", \"\\uc18c\\ube44\\uc790\", \"\\uc218\", \"\\uc218\", \"\\uc218\", \"\\uc218\", \"\\uc218\", \"\\uc218\", \"\\uc218\", \"\\uc218\", \"\\uc218\\uac15\", \"\\uc218\\uac15\", \"\\uc218\\uc5c5\", \"\\uc218\\uc5c5\", \"\\uc218\\uc5c5\", \"\\uc218\\uc5c5\", \"\\uc218\\uc815\", \"\\uc22b\\uc790\", \"\\uc26c\\ub2e4\", \"\\uc26c\\ub2e4\", \"\\uc26c\\ub2e4\", \"\\uc27d\\ub2e4\", \"\\uc2a4\\ub7fd\\ub2e4\", \"\\uc2a4\\ub9c8\\ud2b8\\ud3f0\", \"\\uc2a4\\ub9c8\\ud2b8\\ud3f0\", \"\\uc2a4\\ud0c0\", \"\\uc2a4\\ud3ec\\uce20\", \"\\uc2b9\\uc778\", \"\\uc2dc\\uae09\", \"\\uc2dc\\ub300\", \"\\uc2dc\\uc120\", \"\\uc2dc\\uc124\", \"\\uc2dc\\uc124\", \"\\uc2dc\\uc124\", \"\\uc2dc\\uc124\", \"\\uc2dc\\uc791\", \"\\uc2dc\\uc791\", \"\\uc2dc\\uc791\", \"\\uc2dc\\uc791\", \"\\uc2dc\\uc791\", \"\\uc2e0\\uacbd\", \"\\uc2e0\\ub8b0\", \"\\uc2e0\\ub9bc\", \"\\uc2e0\\uc138\\uacc4\", \"\\uc2e4\\uc218\", \"\\uc2e4\\ud589\", \"\\uc2ec\\ud50c\", \"\\uc2f6\\ub2e4\", \"\\uc2f6\\ub2e4\", \"\\uc2f6\\ub2e4\", \"\\uc2f6\\ub2e4\", \"\\uc2f6\\ub2e4\", \"\\uc2f6\\ub2e4\", \"\\uc2f6\\ub2e4\", \"\\uc2f8\\ub2e4\", \"\\uc2f8\\ub2e4\", \"\\uc368\\ub2e4\", \"\\uc368\\ub2e4\", \"\\uc368\\ub2e4\", \"\\uc4f8\\ub2e4\", \"\\uc4f8\\ub2e4\", \"\\uc4f8\\ub2e4\", \"\\uc4f8\\ub2e4\", \"\\uc544\\uae5d\\ub2e4\", \"\\uc544\\ub2c8\\ub2e4\", \"\\uc544\\ub2c8\\ub2e4\", \"\\uc544\\ub2c8\\ub2e4\", \"\\uc544\\ub2c8\\ub2e4\", \"\\uc544\\ub2c8\\ub2e4\", \"\\uc544\\ub2c8\\ub2e4\", \"\\uc544\\ub2c8\\ub2e4\", \"\\uc544\\uc27d\\ub2e4\", \"\\uc544\\uc27d\\ub2e4\", \"\\uc544\\uc608\", \"\\uc544\\uc608\", \"\\uc544\\uc608\", \"\\uc548\\ub418\\ub2e4\", \"\\uc54a\\ub2e4\", \"\\uc54a\\ub2e4\", \"\\uc54c\", \"\\uc54c\", \"\\uc54c\", \"\\uc54c\\ub78c\", \"\\uc54c\\ub824\\uc9c0\\ub2e4\", \"\\uc54c\\ub9bc\", \"\\uc54c\\uc544\\ubcf4\\ub2e4\", \"\\uc54c\\uc544\\ubcf4\\ub2e4\", \"\\uc560\\uc6a9\", \"\\uc560\\uc6a9\", \"\\uc560\\ud50c\", \"\\uc57d\\uad00\", \"\\uc57d\\ud558\\ub2e4\", \"\\uc5b4\\ub5bb\\ub2e4\", \"\\uc5b4\\ub5bb\\ub2e4\", \"\\uc5b4\\ub835\\ub2e4\", \"\\uc5c4\\uccad\\ub098\\ub2e4\", \"\\uc5c6\\ub2e4\", \"\\uc5c6\\ub2e4\", \"\\uc5c6\\ub2e4\", \"\\uc5c6\\ub2e4\", \"\\uc5c6\\ub2e4\", \"\\uc5ec\\ub7ec\", \"\\uc5ec\\ub7ec\", \"\\uc5ec\\uc11c\", \"\\uc5ed\", \"\\uc5ed\", \"\\uc5ed\\uc2dc\", \"\\uc5f0\\ub3d9\", \"\\uc608\\uc57d\", \"\\uc608\\uc57d\", \"\\uc624\\ub958\", \"\\uc624\\ub958\", \"\\uc624\\ub958\", \"\\uc624\\ubc84\", \"\\uc62c\\ub9ac\\ub2e4\", \"\\uc694\\uad6c\", \"\\uc694\\uad6c\", \"\\uc694\\uad6c\", \"\\uc694\\uad6c\", \"\\uc695\\uad6c\", \"\\uc6b4\\ub3d9\", \"\\uc6b4\\ub3d9\", \"\\uc6b4\\ub3d9\", \"\\uc6b4\\ub3d9\", \"\\uc6b4\\ub3d9\", \"\\uc6b4\\ub3d9\", \"\\uc6d0\\uc8fc\", \"\\uc720\\ub8cc\", \"\\uc720\\ubaa9\\ubbfc\", \"\\uc720\\uc6a9\", \"\\uc720\\uc6a9\", \"\\uc720\\ud29c\\ube0c\", \"\\uc720\\ud6a8\", \"\\uc740\\uc9c0\", \"\\uc744\\uc2dc\", \"\\uc774\\ub4dd\", \"\\uc774\\ub4dd\", \"\\uc774\\ub825\", \"\\uc774\\ubca4\\ud2b8\", \"\\uc774\\ubca4\\ud2b8\", \"\\uc774\\ubca4\\ud2b8\", \"\\uc774\\uc058\\ub2e4\", \"\\uc774\\uc81c\\uc57c\", \"\\uc778\\uc6d0\", \"\\uc778\\uc99d\", \"\\uc778\\uc9c0\", \"\\uc77c\\uc77c\\uc774\", \"\\uc77c\\uc815\", \"\\uc77c\\uc815\", \"\\uc77c\\ucc0d\", \"\\uc785\", \"\\uc785\", \"\\uc785\\uc7a5\", \"\\uc785\\uc7a5\", \"\\uc78a\\uc5b4\\ubc84\\ub9ac\\ub2e4\", \"\\uc790\\uaca9\", \"\\uc790\\uafb8\", \"\\uc790\\ub3d9\", \"\\uc790\\uc138\", \"\\uc790\\uc8fc\", \"\\uc790\\uc8fc\", \"\\uc791\\ub3d9\", \"\\uc798\\ubabb\", \"\\uc7a5\\ub9c8\", \"\\uc800\\ub141\", \"\\uc800\\ub834\", \"\\uc804\\uba78\", \"\\uc804\\ud600\", \"\\uc804\\ud654\", \"\\uc804\\ud654\", \"\\uc804\\ud654\", \"\\uc804\\ud654\", \"\\uc810\\uac80\", \"\\uc810\\uc810\", \"\\uc811\\uadfc\", \"\\uc811\\uc18d\", \"\\uc811\\uc18d\", \"\\uc815\\ubcf4\", \"\\uc815\\ubcf4\", \"\\uc815\\ubcf4\", \"\\uc815\\ubcf4\", \"\\uc815\\uc0c1\", \"\\uc815\\ucc29\", \"\\uc81c\\uac70\", \"\\uc81c\\uc77c\", \"\\uc81c\\ud734\", \"\\uc81c\\ud734\", \"\\uc81c\\ud734\", \"\\uc870\\uc791\", \"\\uc870\\uc815\", \"\\uc88b\\ub2e4\", \"\\uc88b\\ub2e4\", \"\\uc88b\\ub2e4\", \"\\uc88b\\ub2e4\", \"\\uc88b\\ub2e4\", \"\\uc8fc\\ub85c\", \"\\uc8fc\\ub85c\", \"\\uc8fc\\ub9d0\", \"\\uc8fc\\ub9d0\", \"\\uc8fc\\ubcc0\", \"\\uc8fc\\ubcc0\", \"\\uc8fc\\ubcc0\", \"\\uc990\\uae30\\ub2e4\", \"\\uc9c0\\ub3c4\", \"\\uc9c0\\ub3c4\", \"\\uc9c0\\ubc29\", \"\\uc9c0\\ubc29\", \"\\uc9c0\\ubd88\", \"\\uc9c0\\uc5ed\", \"\\uc9c0\\uc5ed\", \"\\uc9c0\\uc5ed\", \"\\uc9c0\\uc6d0\", \"\\uc9c0\\uc810\", \"\\uc9c1\\uc6d0\", \"\\uc9c1\\uc7a5\\uc778\", \"\\uc9c4\\uc791\", \"\\uc9d1\", \"\\uc9d1\", \"\\uc9d1\", \"\\uc9dc\\ub2e4\", \"\\uc9f8\\ub2e4\", \"\\uc9f8\\ub2e4\", \"\\ucc0c\\ub2e4\", \"\\ucc28\", \"\\ucc28\\uac10\", \"\\ucc28\\ub2e4\", \"\\ucc28\\ub2e4\", \"\\ucc38\\uace0\", \"\\ucc38\\uc5ec\", \"\\ucc3d\\uc6d0\\uc2dc\", \"\\ucc3e\\ub2e4\", \"\\ucc3e\\ub2e4\", \"\\ucc3e\\ub2e4\", \"\\ucc3e\\ub2e4\", \"\\ucc3e\\ub2e4\", \"\\ucc3e\\uc544\\ubcf4\\ub2e4\", \"\\uccad\\ub2f4\\ub3d9\", \"\\uccb4\\ud5d8\", \"\\ucd5c\\uace0\", \"\\ucd94\\uac00\", \"\\ucd94\\uac00\", \"\\ucd94\\uac00\", \"\\ucd94\\ub2e4\", \"\\ucd94\\ucc9c\", \"\\ucd94\\ucc9c\", \"\\ucd94\\ucc9c\", \"\\ucd94\\ucc9c\", \"\\ucd94\\ucc9c\", \"\\ucd94\\ucc9c\", \"\\ucde8\\uc18c\", \"\\uce21\\uba74\", \"\\uce58\\uc5f4\", \"\\uce5c\\uc808\", \"\\uce5c\\uc808\", \"\\uce74\\ub4dc\", \"\\uce74\\uba54\\ub77c\", \"\\ucee4\\ud53c\", \"\\ucf1c\\ub2e4\", \"\\ucf54\\ub85c\\ub098\", \"\\ucf54\\uc820\", \"\\ucf54\\uce6d\", \"\\ucf8c\\uc801\", \"\\ucfe0\\ud3f0\", \"\\ucfe0\\ud3f0\", \"\\ucfe0\\ud3f0\", \"\\ud06c\\ub2e4\", \"\\ud074\\ub9ad\", \"\\ud1a0\", \"\\ud1b5\\ud55c\", \"\\ud22c\\uba85\", \"\\ud29c\\ubc84\", \"\\ud2b8\\ub808\\uc774\\ub108\", \"\\ud2b8\\ub808\\uc774\\ub108\", \"\\ud2b8\\ub808\\uc774\\ub108\", \"\\ud2b8\\ub808\\uc774\\ub108\", \"\\ud2b8\\ub808\\uc774\\ub108\", \"\\ud2b8\\ub808\\uc774\\ub2dd\", \"\\ud30c\\ud1a0\", \"\\ud31d\\uc5c5\", \"\\ud37c\\uc2a4\", \"\\ud398\\uc774\\uc9c0\", \"\\ud3b4\\ub2e4\", \"\\ud3b8\\ub9ac\", \"\\ud3b8\\ub9ac\", \"\\ud3b8\\ub9ac\", \"\\ud3b8\\ub9ac\", \"\\ud3b8\\uc758\", \"\\ud3b8\\ud558\\ub2e4\", \"\\ud3b8\\ud558\\ub2e4\", \"\\ud3b8\\ud558\\ub2e4\", \"\\ud3b8\\ud558\\ub2e4\", \"\\ud3b8\\ud558\\ub2e4\", \"\\ud3c9\\ud0dd\", \"\\ud3c9\\ud0dd\", \"\\ud3d0\\uac15\", \"\\ud3ec\\ud568\", \"\\ud3ec\\ud654\", \"\\ud45c\\uc2dc\", \"\\ud478\\ub2e4\", \"\\ud504\\ub85c\\uadf8\\ub7a8\", \"\\ud504\\ub85c\\ud544\", \"\\ud53c\", \"\\ud53c\\ud2b8\", \"\\ud53c\\ud2b8\", \"\\ud544\\ub77c\\ud14c\\uc2a4\", \"\\ud544\\ub77c\\ud14c\\uc2a4\", \"\\ud544\\uc218\", \"\\ud544\\uc218\", \"\\ud544\\uc694\", \"\\ud544\\uc694\", \"\\ud544\\uc694\", \"\\ud558\\ud2b8\", \"\\ud559\\uc6d0\", \"\\ud55c\\ub208\", \"\\ud55c\\ub208\", \"\\ud55c\\ub208\", \"\\ud560\\uc778\", \"\\ud560\\uc778\", \"\\ud574\\uc9c4\", \"\\ud589\\ubcf5\", \"\\ud5c8\\uc6a9\", \"\\ud5ec\\uc2a4\", \"\\ud5ec\\uc2a4\", \"\\ud5ec\\uc2a4\", \"\\ud5ec\\uc2a4\", \"\\ud5ec\\uc2a4\", \"\\ud5ec\\uc2a4\", \"\\ud5ec\\uc2a4\\ud074\\ub7fd\", \"\\ud604\\uc0c1\", \"\\ud61c\\ud0dd\", \"\\ud648\", \"\\ud648\", \"\\ud64d\\ubcf4\", \"\\ud654\\uc774\\ud2b8\", \"\\ud654\\uc774\\ud305\", \"\\ud654\\uc774\\ud305\", \"\\ud654\\uc774\\ud305\", \"\\ud655\\uc2e4\", \"\\ud655\\uc2e4\\ud558\\ub2e4\", \"\\ud655\\uc778\", \"\\ud655\\uc778\", \"\\ud655\\uc778\", \"\\ud68c\\uc0ac\", \"\\ud68c\\uc6d0\", \"\\ud68c\\uc6d0\", \"\\ud68c\\uc6d0\", \"\\ud68c\\uc6d0\", \"\\ud68d\\uae30\", \"\\ud6a8\\uacfc\", \"\\ud6cc\\ub96d\", \"\\ud718\\ud2b8\", \"\\ud734\\ub300\\ud3f0\", \"\\ud770\\uc0c9\"]}, \"R\": 30, \"lambda.step\": 0.01, \"plot.opts\": {\"xlab\": \"PC1\", \"ylab\": \"PC2\"}, \"topic.order\": [1, 2, 3, 6, 4, 10, 8, 9, 7, 5]};\n",
       "\n",
       "function LDAvis_load_lib(url, callback){\n",
       "  var s = document.createElement('script');\n",
       "  s.src = url;\n",
       "  s.async = true;\n",
       "  s.onreadystatechange = s.onload = callback;\n",
       "  s.onerror = function(){console.warn(\"failed to load library \" + url);};\n",
       "  document.getElementsByTagName(\"head\")[0].appendChild(s);\n",
       "}\n",
       "\n",
       "if(typeof(LDAvis) !== \"undefined\"){\n",
       "   // already loaded: just create the visualization\n",
       "   !function(LDAvis){\n",
       "       new LDAvis(\"#\" + \"ldavis_el1914020038837836961297404322\", ldavis_el1914020038837836961297404322_data);\n",
       "   }(LDAvis);\n",
       "}else if(typeof define === \"function\" && define.amd){\n",
       "   // require.js is available: use it to load d3/LDAvis\n",
       "   require.config({paths: {d3: \"https://d3js.org/d3.v5\"}});\n",
       "   require([\"d3\"], function(d3){\n",
       "      window.d3 = d3;\n",
       "      LDAvis_load_lib(\"https://cdn.jsdelivr.net/gh/bmabey/pyLDAvis@3.4.0/pyLDAvis/js/ldavis.v3.0.0.js\", function(){\n",
       "        new LDAvis(\"#\" + \"ldavis_el1914020038837836961297404322\", ldavis_el1914020038837836961297404322_data);\n",
       "      });\n",
       "    });\n",
       "}else{\n",
       "    // require.js not available: dynamically load d3 & LDAvis\n",
       "    LDAvis_load_lib(\"https://d3js.org/d3.v5.js\", function(){\n",
       "         LDAvis_load_lib(\"https://cdn.jsdelivr.net/gh/bmabey/pyLDAvis@3.4.0/pyLDAvis/js/ldavis.v3.0.0.js\", function(){\n",
       "                 new LDAvis(\"#\" + \"ldavis_el1914020038837836961297404322\", ldavis_el1914020038837836961297404322_data);\n",
       "            })\n",
       "         });\n",
       "}\n",
       "</script>"
      ],
      "text/plain": [
       "<IPython.core.display.HTML object>"
      ]
     },
     "execution_count": 21,
     "metadata": {},
     "output_type": "execute_result"
    }
   ],
   "source": [
    "import pyLDAvis\n",
    "import pyLDAvis.gensim_models as gensimvis\n",
    "# Retrieve the corpus and dictionary using the lda_modeling function\n",
    "model, corpus, dictionary = lda_modeling(review_prep_pos)\n",
    "\n",
    "# Prepare the visualization data\n",
    "vis_data = gensimvis.prepare(model, corpus, dictionary)\n",
    "\n",
    "# Display the visualization\n",
    "pyLDAvis.display(vis_data)"
   ]
  },
  {
   "cell_type": "code",
   "execution_count": null,
   "metadata": {
    "colab": {
     "base_uri": "https://localhost:8080/",
     "height": 917
    },
    "id": "OZDlhyzW5Eh-",
    "outputId": "3c1f4c00-d99c-433d-8261-f7572911db5d",
    "tags": []
   },
   "outputs": [],
   "source": [
    "import pyLDAvis\n",
    "import pyLDAvis.gensim_models as gensimvis\n",
    "\n",
    "# Prepare the visualization data\n",
    "vis_data = gensimvis.prepare(model, corpus, dictionary)\n",
    "\n",
    "# Display the visualization\n",
    "pyLDAvis.display(vis_data)"
   ]
  },
  {
   "cell_type": "code",
   "execution_count": null,
   "metadata": {},
   "outputs": [],
   "source": []
  }
 ],
 "metadata": {
  "colab": {
   "authorship_tag": "ABX9TyPEYBVph0ZixUSYYzCB2GTR",
   "provenance": []
  },
  "kernelspec": {
   "display_name": "Python 3 (ipykernel)",
   "language": "python",
   "name": "python3"
  },
  "language_info": {
   "codemirror_mode": {
    "name": "ipython",
    "version": 3
   },
   "file_extension": ".py",
   "mimetype": "text/x-python",
   "name": "python",
   "nbconvert_exporter": "python",
   "pygments_lexer": "ipython3",
   "version": "3.11.3"
  }
 },
 "nbformat": 4,
 "nbformat_minor": 4
}
